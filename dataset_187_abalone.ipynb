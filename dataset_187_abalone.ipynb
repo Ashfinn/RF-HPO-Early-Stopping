{
 "cells": [
  {
   "cell_type": "code",
   "execution_count": 5,
   "id": "5a793996",
   "metadata": {},
   "outputs": [
    {
     "name": "stdout",
     "output_type": "stream",
     "text": [
      "Loaded datasets/dataset_187_abalone.arff. Shape: (4177, 9)\n",
      "Target column: 'Class_number_of_rings' (dtype: int64)\n",
      "Numerical features: ['Length', 'Diameter', 'Height', 'Whole_weight', 'Shucked_weight', 'Viscera_weight', 'Shell_weight']\n",
      "Categorical features detected: ['Sex']\n",
      "Final target dtype for regression: int64\n",
      "Starting Optuna study with 100 trials for Abalone dataset (DEBUG PRUNER)...\n"
     ]
    },
    {
     "data": {
      "application/vnd.jupyter.widget-view+json": {
       "model_id": "115ad0643bc146d6b56ad3de5c51df66",
       "version_major": 2,
       "version_minor": 0
      },
      "text/plain": [
       "  0%|          | 0/100 [00:00<?, ?it/s]"
      ]
     },
     "metadata": {},
     "output_type": "display_data"
    },
    {
     "name": "stdout",
     "output_type": "stream",
     "text": [
      "Trial 1 completed with Negative MSE: -4.8539\n",
      "Trial 2 completed with Negative MSE: -5.3605\n",
      "Trial 3 completed with Negative MSE: -4.9107\n",
      "Trial 4 completed with Negative MSE: -4.8373\n",
      "Trial 5 completed with Negative MSE: -6.4833\n",
      "Trial 6 completed with Negative MSE: -4.8702\n",
      "Trial 7 completed with Negative MSE: -4.8263\n",
      "Trial 8 completed with Negative MSE: -4.9030\n",
      "Trial 9 completed with Negative MSE: -4.9999\n",
      "Trial 10 completed with Negative MSE: -5.0138\n",
      "Trial 11 completed with Negative MSE: -5.1952\n",
      "Trial 12 completed with Negative MSE: -4.8412\n",
      "Trial 13 completed with Negative MSE: -4.9647\n",
      "Trial 14 completed with Negative MSE: -4.8755\n",
      "Trial 15 completed with Negative MSE: -4.8445\n",
      "Trial 16 completed with Negative MSE: -4.9113\n",
      "Trial 17 completed with Negative MSE: -6.1034\n",
      "Trial 18 completed with Negative MSE: -4.8202\n",
      "Trial 19 completed with Negative MSE: -4.8433\n",
      "Trial 20 completed with Negative MSE: -4.8516\n",
      "Trial 21 completed with Negative MSE: -4.9608\n",
      "Trial 22 completed with Negative MSE: -4.8175\n",
      "Trial 23 completed with Negative MSE: -5.0437\n",
      "Trial 24 completed with Negative MSE: -4.8711\n",
      "Trial 25 completed with Negative MSE: -4.8294\n",
      "Trial 26 completed with Negative MSE: -4.8317\n",
      "Trial 27 completed with Negative MSE: -4.9919\n",
      "Trial 28 completed with Negative MSE: -4.8421\n",
      "Trial 29 completed with Negative MSE: -5.1818\n",
      "Trial 30 completed with Negative MSE: -4.8397\n",
      "Trial 31 completed with Negative MSE: -4.8426\n",
      "Trial 32 completed with Negative MSE: -4.8294\n",
      "Trial 33 completed with Negative MSE: -4.8162\n",
      "Trial 34 completed with Negative MSE: -4.8247\n",
      "Trial 35 completed with Negative MSE: -5.0390\n",
      "Trial 36 completed with Negative MSE: -4.8167\n",
      "Trial 37 completed with Negative MSE: -4.7796\n",
      "Trial 38 completed with Negative MSE: -4.9839\n",
      "Trial 39 completed with Negative MSE: -4.8082\n",
      "Trial 40 completed with Negative MSE: -4.8352\n",
      "Trial 41 completed with Negative MSE: -4.8592\n",
      "Trial 42 completed with Negative MSE: -4.8420\n",
      "Trial 43 completed with Negative MSE: -4.8355\n",
      "Trial 44 completed with Negative MSE: -4.8073\n",
      "Trial 45 completed with Negative MSE: -4.8702\n",
      "Trial 46 completed with Negative MSE: -4.8214\n",
      "Trial 47 completed with Negative MSE: -4.9864\n",
      "Trial 48 completed with Negative MSE: -4.9236\n",
      "Trial 49 completed with Negative MSE: -5.3533\n",
      "Trial 50 completed with Negative MSE: -4.8312\n",
      "Trial 51 completed with Negative MSE: -4.8202\n",
      "Trial 52 completed with Negative MSE: -4.8697\n",
      "Trial 53 completed with Negative MSE: -4.8212\n",
      "Trial 54 completed with Negative MSE: -4.8279\n",
      "Trial 55 completed with Negative MSE: -4.8374\n",
      "Trial 56 completed with Negative MSE: -4.8536\n",
      "Trial 57 completed with Negative MSE: -4.8191\n",
      "Trial 58 completed with Negative MSE: -4.9329\n",
      "Trial 59 completed with Negative MSE: -4.9134\n",
      "Trial 60 completed with Negative MSE: -5.2863\n",
      "Trial 61 completed with Negative MSE: -4.8341\n",
      "Trial 62 completed with Negative MSE: -4.8204\n",
      "Trial 63 completed with Negative MSE: -4.8311\n",
      "Trial 64 completed with Negative MSE: -4.7932\n",
      "Trial 65 completed with Negative MSE: -4.8282\n",
      "Trial 66 completed with Negative MSE: -4.8178\n",
      "Trial 67 completed with Negative MSE: -4.7989\n",
      "Trial 68 completed with Negative MSE: -4.8704\n",
      "Trial 69 completed with Negative MSE: -4.9026\n",
      "Trial 70 completed with Negative MSE: -4.9194\n",
      "Trial 71 completed with Negative MSE: -4.9198\n",
      "Trial 72 completed with Negative MSE: -4.8277\n",
      "Trial 73 completed with Negative MSE: -4.8171\n",
      "Trial 74 completed with Negative MSE: -4.8171\n",
      "Trial 75 completed with Negative MSE: -4.8016\n",
      "Trial 76 completed with Negative MSE: -4.8075\n",
      "Trial 77 completed with Negative MSE: -4.9074\n",
      "Trial 78 completed with Negative MSE: -4.8343\n",
      "Trial 79 completed with Negative MSE: -4.8139\n",
      "Trial 80 completed with Negative MSE: -4.8369\n",
      "Trial 81 completed with Negative MSE: -4.8509\n",
      "Trial 82 completed with Negative MSE: -4.8466\n",
      "Trial 83 completed with Negative MSE: -4.8342\n",
      "Trial 84 completed with Negative MSE: -4.7968\n",
      "Trial 85 completed with Negative MSE: -4.8083\n",
      "Trial 86 completed with Negative MSE: -4.8088\n",
      "Trial 87 completed with Negative MSE: -4.8567\n",
      "Trial 88 completed with Negative MSE: -4.8272\n",
      "Trial 89 completed with Negative MSE: -4.8924\n",
      "Trial 90 completed with Negative MSE: -4.8405\n",
      "Trial 91 completed with Negative MSE: -5.0738\n",
      "Trial 92 completed with Negative MSE: -4.8006\n",
      "Trial 93 completed with Negative MSE: -4.8005\n",
      "Trial 94 completed with Negative MSE: -4.8017\n",
      "Trial 95 completed with Negative MSE: -4.8227\n",
      "Trial 96 completed with Negative MSE: -4.7988\n",
      "Trial 97 completed with Negative MSE: -4.8397\n",
      "Trial 98 completed with Negative MSE: -4.8543\n",
      "Trial 99 completed with Negative MSE: -4.8459\n",
      "Trial 100 completed with Negative MSE: -4.8730\n",
      "\n",
      "Optimization finished.\n",
      "Best trial value (Negative MSE): -4.7796\n",
      "Best hyperparameters:\n",
      "  n_estimators: 144\n",
      "  max_depth: 19\n",
      "  min_samples_leaf: 2\n",
      "  max_features: 0.33631406468849145\n",
      "  criterion: poisson\n",
      "Number of pruned trials: 0\n",
      "Number of complete trials: 100\n",
      "Final Model MSE: 4.7796\n",
      "\n",
      "--- Final Model Evaluation ---\n",
      "Metric (MSE): 4.7796\n",
      "Training time for final model: 0.19 seconds\n",
      "Best model and preprocessor for Abalone saved (debug pruner run).\n"
     ]
    }
   ],
   "source": [
    "import pandas as pd\n",
    "import numpy as np\n",
    "from scipy.io import arff\n",
    "from sklearn.model_selection import train_test_split, StratifiedKFold\n",
    "from sklearn.preprocessing import LabelEncoder, OneHotEncoder # Keep LabelEncoder for y if needed for classification, but not for regression directly\n",
    "from sklearn.compose import ColumnTransformer\n",
    "from sklearn.pipeline import Pipeline\n",
    "import optuna\n",
    "from sklearn.ensemble import RandomForestClassifier, RandomForestRegressor # Both are needed\n",
    "from sklearn.metrics import accuracy_score, mean_squared_error, roc_auc_score # MSE for regression\n",
    "import functools\n",
    "import warnings\n",
    "import joblib\n",
    "import time\n",
    "from collections import defaultdict\n",
    "from scipy.optimize import curve_fit\n",
    "\n",
    "# Suppress ConvergenceWarning from scikit-learn\n",
    "warnings.filterwarnings(\"ignore\", category=UserWarning, module='sklearn')\n",
    "# Suppress Optuna specific warnings if they become too verbose for logging\n",
    "optuna.logging.set_verbosity(optuna.logging.WARNING)\n",
    "\n",
    "\n",
    "# --- 1. Dataset Loading and Preprocessing ---\n",
    "\n",
    "def load_and_preprocess_arff(filepath, target_column_name=None):\n",
    "    \"\"\"\n",
    "    Loads an ARFF file, identifies features and target, and prepares data.\n",
    "    Handles decoding byte strings.\n",
    "    \"\"\"\n",
    "    data, meta = arff.loadarff(filepath)\n",
    "    df = pd.DataFrame(data)\n",
    "\n",
    "    for col in df.columns:\n",
    "        if df[col].dtype == 'object':\n",
    "            # Decode byte strings to UTF-8\n",
    "            df[col] = df[col].apply(lambda x: x.decode('utf-8') if isinstance(x, bytes) else x)\n",
    "            # Try to convert to numeric if all values look like numbers (e.g., '1', '2')\n",
    "            # This is important for 'Class_number_of_rings' for regression\n",
    "            try:\n",
    "                # Attempt to convert to numeric, coercing errors means non-numeric become NaN\n",
    "                temp_numeric_col = pd.to_numeric(df[col], errors='coerce')\n",
    "                # If conversion was successful for all non-null values, make it numeric\n",
    "                if not temp_numeric_col.isnull().any(): # Check if any value became NaN\n",
    "                    df[col] = temp_numeric_col\n",
    "            except:\n",
    "                pass # Not numeric, keep as object/string\n",
    "\n",
    "    if target_column_name is None:\n",
    "        target_column_name = df.columns[-1]\n",
    "\n",
    "    X = df.drop(columns=[target_column_name])\n",
    "    y = df[target_column_name]\n",
    "\n",
    "    categorical_features = X.select_dtypes(include=['object', 'category']).columns.tolist()\n",
    "    numerical_features = X.select_dtypes(include=np.number).columns.tolist()\n",
    "\n",
    "    feature_names = X.columns.tolist()\n",
    "    # categorical_features_idx is not directly used by ColumnTransformer, but useful for info.\n",
    "    # categorical_features_idx = [feature_names.index(col) for col in categorical_features]\n",
    "\n",
    "    print(f\"Loaded {filepath}. Shape: {df.shape}\")\n",
    "    print(f\"Target column: '{target_column_name}' (dtype: {y.dtype})\")\n",
    "    print(f\"Numerical features: {numerical_features}\")\n",
    "    print(f\"Categorical features detected: {categorical_features}\")\n",
    "\n",
    "    return X, y, feature_names, categorical_features\n",
    "\n",
    "def get_preprocessor(numerical_features, categorical_features):\n",
    "    \"\"\"\n",
    "    Creates a column transformer for preprocessing.\n",
    "    \"\"\"\n",
    "    transformers = []\n",
    "    if numerical_features:\n",
    "        transformers.append(('num', 'passthrough', numerical_features))\n",
    "    if categorical_features:\n",
    "        # Use OneHotEncoder for categorical features\n",
    "        transformers.append(('cat', OneHotEncoder(handle_unknown='ignore'), categorical_features))\n",
    "\n",
    "    preprocessor = ColumnTransformer(\n",
    "        transformers=transformers,\n",
    "        remainder='drop' # Drop any columns not specified\n",
    "    )\n",
    "    return preprocessor\n",
    "\n",
    "# --- 2. Optuna Objective Function (with Partial RF Evaluation) ---\n",
    "\n",
    "def objective(trial, X_train_raw, y_train_processed, X_val_raw, y_val_processed,\n",
    "              task_type='classification', preprocessor=None, max_n_estimators_upper_bound=1000):\n",
    "    \"\"\"\n",
    "    Optuna objective function for Random Forest HPO with multi-fidelity evaluation.\n",
    "    \"\"\"\n",
    "    # 1. Hyperparameter Sampling\n",
    "    n_estimators = trial.suggest_int(\"n_estimators\", 50, max_n_estimators_upper_bound)\n",
    "    max_depth = trial.suggest_int(\"max_depth\", 2, 32)\n",
    "    min_samples_leaf = trial.suggest_int(\"min_samples_leaf\", 1, 20)\n",
    "    max_features_val = trial.suggest_float(\"max_features\", 0.1, 1.0)\n",
    "\n",
    "    # Initialize a dictionary for common model parameters\n",
    "    model_params = {\n",
    "        \"n_estimators\": 1, # Start with 1 estimator for warm_start\n",
    "        \"max_depth\": max_depth,\n",
    "        \"min_samples_leaf\": min_samples_leaf,\n",
    "        \"max_features\": max_features_val,\n",
    "        \"oob_score\": True, # OOB score is available for both\n",
    "        \"random_state\": 42,\n",
    "        \"warm_start\": True,\n",
    "        \"n_jobs\": -1\n",
    "    }\n",
    "\n",
    "    if task_type == 'classification':\n",
    "        criterion = trial.suggest_categorical(\"criterion\", [\"gini\", \"entropy\"])\n",
    "        class_weight = trial.suggest_categorical(\"class_weight\", [None, \"balanced\"])\n",
    "        model_class = RandomForestClassifier\n",
    "        model_params[\"criterion\"] = criterion\n",
    "        model_params[\"class_weight\"] = class_weight # Only add class_weight for Classifier\n",
    "    else: # Regression\n",
    "        criterion = trial.suggest_categorical(\"criterion\", [\"squared_error\", \"absolute_error\", \"poisson\"])\n",
    "        model_class = RandomForestRegressor\n",
    "        model_params[\"criterion\"] = criterion # No class_weight for Regressor\n",
    "\n",
    "    rf_model = model_class(**model_params) # Unpack the dictionary\n",
    "\n",
    "    if preprocessor:\n",
    "        X_train_transformed = preprocessor.fit_transform(X_train_raw)\n",
    "        X_val_transformed = preprocessor.transform(X_val_raw)\n",
    "    else:\n",
    "        # Assuming X_train_raw and X_val_raw are already suitable numpy arrays or numeric DFs\n",
    "        X_train_transformed = X_train_raw.to_numpy()\n",
    "        X_val_transformed = X_val_raw.to_numpy()\n",
    "\n",
    "\n",
    "    # 2. Fidelity Schedule and Partial Evaluation\n",
    "    fidelity_steps = sorted(list(set(\n",
    "        [max(1, int(n_estimators * p)) for p in [0.02, 0.05, 0.1, 0.2, 0.3, 0.4, 0.5, 0.6, 0.7, 0.8, 0.9, 1.0]] +\n",
    "        [max(1, int(n_estimators * 0.01 * i)) for i in range(1, 6)] # Add finer steps for first 5%\n",
    "    )))\n",
    "    fidelity_steps = [s for s in fidelity_steps if s > 0]\n",
    "    fidelity_steps = sorted(list(set(fidelity_steps)))\n",
    "    fidelity_steps = [s for s in fidelity_steps if s <= n_estimators]\n",
    "    \n",
    "    if not fidelity_steps: \n",
    "        fidelity_steps = [n_estimators]\n",
    "\n",
    "\n",
    "    for step_n_estimators in fidelity_steps:\n",
    "        if step_n_estimators > rf_model.n_estimators:\n",
    "            rf_model.n_estimators = step_n_estimators\n",
    "            rf_model.fit(X_train_transformed, y_train_processed)\n",
    "\n",
    "        # OOB score for regression is R^2. For pruning, we want to maximize it,\n",
    "        # or minimize negative MSE. Let's stick to maximizing R^2 for consistency.\n",
    "        current_oob_score = np.nan\n",
    "        if rf_model.n_estimators > 1 and hasattr(rf_model, 'oob_score_') and not np.isnan(rf_model.oob_score_):\n",
    "            current_oob_score = rf_model.oob_score_ # This is R^2 for Regressor, which we want to maximize\n",
    "        elif task_type == 'regression' and rf_model.n_estimators > 1:\n",
    "            # If oob_score_ is not directly available or reliable for some reason,\n",
    "            # we could calculate an intermediate MSE on validation, but that's less efficient.\n",
    "            # Stick to OOB for multi-fidelity.\n",
    "            pass # Keep as nan, or consider other partial metrics if OOB not suitable\n",
    "\n",
    "        trial.report(current_oob_score, step=step_n_estimators)\n",
    "\n",
    "        if trial.should_prune():\n",
    "            print(f\"Trial {trial.number} pruned at {step_n_estimators} estimators (OOB R^2: {current_oob_score:.4f}).\")\n",
    "            raise optuna.exceptions.TrialPruned()\n",
    "\n",
    "    y_pred = rf_model.predict(X_val_transformed)\n",
    "\n",
    "    if task_type == 'classification':\n",
    "        if hasattr(rf_model, 'predict_proba') and len(np.unique(y_val_processed)) == 2:\n",
    "            y_proba = rf_model.predict_proba(X_val_transformed)[:, 1]\n",
    "            final_metric = roc_auc_score(y_val_processed, y_proba)\n",
    "            metric_name = \"AUC\"\n",
    "        else:\n",
    "            final_metric = accuracy_score(y_val_processed, y_pred)\n",
    "            metric_name = \"Accuracy\"\n",
    "    else: # Regression\n",
    "        final_metric = -mean_squared_error(y_val_processed, y_pred) # Minimize MSE -> Maximize -MSE\n",
    "        metric_name = \"Negative MSE\"\n",
    "\n",
    "    print(f\"Trial {trial.number} completed with {metric_name}: {final_metric:.4f}\")\n",
    "    return final_metric\n",
    "\n",
    "\n",
    "# --- 3. Custom Optuna Pruner Implementation ---\n",
    "\n",
    "class RandomForestMultiFidelityPruner(optuna.pruners.BasePruner):\n",
    "    \"\"\"\n",
    "    Custom Optuna pruner for Random Forest Hyperparameter Optimization\n",
    "    using a multi-fidelity approach and learning curve prediction.\n",
    "    \"\"\"\n",
    "    def __init__(self,\n",
    "                 min_intermediate_steps=3,\n",
    "                 pruning_quantile=0.75,\n",
    "                 grace_period_ratio=0.02,\n",
    "                 predictive_model_type='saturating_curve',\n",
    "                 debug_mode=True):\n",
    "        self.min_intermediate_steps = min_intermediate_steps\n",
    "        self.pruning_quantile = pruning_quantile\n",
    "        self.grace_period_ratio = grace_period_ratio\n",
    "        self.predictive_model_type = predictive_model_type\n",
    "        self.trial_learning_curves = defaultdict(list)\n",
    "        self.debug_mode = debug_mode\n",
    "\n",
    "    def prune(self, study: optuna.study.Study, trial: optuna.trial.FrozenTrial) -> bool:\n",
    "        trial_id = trial.number\n",
    "        current_step = trial.last_step\n",
    "        current_value = trial.value\n",
    "\n",
    "        # Note: For regression, we are maximizing -MSE. So a higher value is better.\n",
    "        # The pruner's logic remains \"maximize\" naturally.\n",
    "\n",
    "        if current_step is None or current_value is None:\n",
    "            return False \n",
    "\n",
    "        # Filter out NaN or very abnormal OOB scores if they occur early\n",
    "        if np.isnan(current_value) or current_value < -1e6: # Arbitrary large negative threshold for very bad OOB\n",
    "             if self.debug_mode:\n",
    "                print(f\"[Debug Pruner Trial {trial_id} Step {current_step}]: Current OOB value is NaN or too extreme ({current_value:.4f}). Skipping pruning check.\")\n",
    "             return False # Or could return True if you want to prune on NaN/extreme values\n",
    "\n",
    "        self.trial_learning_curves[trial_id].append((current_step, current_value))\n",
    "\n",
    "        if len(self.trial_learning_curves[trial_id]) < self.min_intermediate_steps:\n",
    "            if self.debug_mode:\n",
    "                print(f\"[Debug Pruner Trial {trial_id} Step {current_step}]: Not enough steps ({len(self.trial_learning_curves[trial_id])}/{self.min_intermediate_steps})\")\n",
    "            return False\n",
    "        \n",
    "        # Ensure we have a valid n_estimators in trial.params before calculating grace period\n",
    "        n_estimators_param = trial.params.get('n_estimators')\n",
    "        if n_estimators_param is None:\n",
    "             if self.debug_mode:\n",
    "                print(f\"[Debug Pruner Trial {trial_id} Step {current_step}]: n_estimators not in params. Skipping grace period check.\")\n",
    "             return False\n",
    "\n",
    "        if current_step < self.grace_period_ratio * n_estimators_param:\n",
    "            if self.debug_mode:\n",
    "                print(f\"[Debug Pruner Trial {trial_id} Step {current_step}]: In grace period ({current_step}/{self.grace_period_ratio * n_estimators_param:.1f})\")\n",
    "            return False\n",
    "\n",
    "        current_lc_data = self.trial_learning_curves[trial_id]\n",
    "        steps = np.array([s for s, _ in current_lc_data])\n",
    "        values = np.array([v for _, v in current_lc_data])\n",
    "        \n",
    "        if len(steps) < 3: \n",
    "            return False\n",
    "\n",
    "        predicted_final_performance = self._predict_final_performance(steps, values, n_estimators_param, trial_id)\n",
    "\n",
    "        completed_trial_values = [\n",
    "            t.value for t in study.trials\n",
    "            if t.state == optuna.trial.TrialState.COMPLETE and t.value is not None\n",
    "        ]\n",
    "        \n",
    "        if not completed_trial_values:\n",
    "            if self.debug_mode:\n",
    "                print(f\"[Debug Pruner Trial {trial_id} Step {current_step}]: No complete trials yet.\")\n",
    "            return False\n",
    "\n",
    "        threshold = np.quantile(completed_trial_values, self.pruning_quantile)\n",
    "        \n",
    "        if self.debug_mode:\n",
    "            print(f\"[Debug Pruner Trial {trial_id} Step {current_step}]: Pred: {predicted_final_performance:.4f}, Threshold: {threshold:.4f}, Current OOB R^2: {current_value:.4f}\")\n",
    "            if predicted_final_performance < threshold:\n",
    "                print(f\"                                   -> WILL PRUNE (Predicted < Threshold)\")\n",
    "\n",
    "        if predicted_final_performance < threshold:\n",
    "            return True\n",
    "        \n",
    "        return False\n",
    "\n",
    "    def _predict_final_performance(self, steps, values, max_n_estimators, trial_number):\n",
    "        \"\"\"\n",
    "        Predicts the final performance based on observed learning curve using a saturating curve.\n",
    "        \"\"\"\n",
    "        if self.predictive_model_type == 'saturating_curve':\n",
    "            # For regression (Negative MSE), we are maximizing. R^2 is also maximized.\n",
    "            # So the saturating curve that goes upwards towards an asymptote is still appropriate.\n",
    "            def saturating_curve(x, A, B, C):\n",
    "                return A * (1 - np.exp(-B * x)) + C\n",
    "\n",
    "            # Initial guess for parameters (A, B, C)\n",
    "            # A: asymptote (max performance). Should be towards 0 (for -MSE) or 1 (for R^2)\n",
    "            # B: positive learning rate\n",
    "            # C: starting value\n",
    "            \n",
    "            # Adjusting initial guess and bounds for regression (R^2 or -MSE)\n",
    "            # If maximizing R^2, max is 1. If maximizing -MSE, max is 0 (since MSE >= 0)\n",
    "            target_upper_bound = 1.0 # For R^2\n",
    "            if study.direction == \"minimize\": # If we were minimizing MSE directly, not -MSE\n",
    "                 target_upper_bound = 0.0 # For MSE\n",
    "            \n",
    "            initial_guess_A = max(values.max() * 1.05, 0.0) # A should be >= 0 for R^2 / -MSE\n",
    "            initial_guess_B = 0.05\n",
    "            initial_guess_C = values[0] if len(values) > 0 else (values.min() if len(values) > 0 else -1.0) # Start from initial value or a reasonable guess\n",
    "\n",
    "            p0 = [initial_guess_A, initial_guess_B, initial_guess_C]\n",
    "\n",
    "            try:\n",
    "                # Bounds for A, B, C\n",
    "                # A: (values.max(), target_upper_bound) - Asymptote at least max observed, up to 1.0 (for R^2) or 0 (for -MSE)\n",
    "                # B: (0.0001, 0.5] - Rate should be positive, not too high\n",
    "                # C: [values.min()*1.2, values.max()*1.2] - Initial value within reasonable range. Can be negative for R^2.\n",
    "                bounds_lower = [values.max() * 0.8, 0.0001, min(values.min() * 1.2, values.max() * 0.8)]\n",
    "                bounds_upper = [target_upper_bound, 0.5, max(values.min() * 0.8, values.max() * 1.2)]\n",
    "                \n",
    "                # Make sure lower bound for A is not greater than upper bound\n",
    "                if bounds_lower[0] > bounds_upper[0]:\n",
    "                    bounds_lower[0] = bounds_upper[0] * 0.9 # Adjust lower bound to be slightly less than upper\n",
    "\n",
    "                popt, pcov = curve_fit(saturating_curve, steps, values, p0=p0, maxfev=5000,\n",
    "                                       bounds=(bounds_lower, bounds_upper))\n",
    "                \n",
    "                predicted_value = saturating_curve(max_n_estimators, *popt)\n",
    "                \n",
    "                # Cap the prediction within realistic bounds (min observed to target_upper_bound)\n",
    "                predicted_value = max(values.min(), min(target_upper_bound, predicted_value))\n",
    "\n",
    "                if self.debug_mode:\n",
    "                    print(f\"[Debug Pruner Trial {trial_number} Step {steps[-1]}]: Fit successful. Predicted {predicted_value:.4f}\")\n",
    "                return predicted_value\n",
    "            except (RuntimeError, ValueError) as e:\n",
    "                if self.debug_mode:\n",
    "                    print(f\"[Debug Pruner Trial {trial_number} Step {steps[-1]}]: Curve fit failed ({e}). Falling back to last value.\")\n",
    "                return values[-1] \n",
    "\n",
    "        return values[-1] \n",
    "\n",
    "# --- 4. Running the Optuna Study ---\n",
    "\n",
    "# --- Configuration Parameters for ABALONE dataset ---\n",
    "N_TRIALS = 100\n",
    "RANDOM_STATE = 42\n",
    "DATASET_PATH = 'datasets/dataset_187_abalone.arff' # <--- UPDATED for Abalone\n",
    "TARGET_COLUMN = 'Class_number_of_rings' # <--- UPDATED for Abalone\n",
    "TASK_TYPE = 'regression' # <--- UPDATED to REGRESSION\n",
    "\n",
    "# --- Load and Preprocess Data ---\n",
    "# Note: y will be converted to numeric inside load_and_preprocess_arff now for 'Class_number_of_rings'\n",
    "X_raw, y_raw, feature_names, categorical_features = load_and_preprocess_arff(\n",
    "    DATASET_PATH, target_column_name=TARGET_COLUMN\n",
    ")\n",
    "\n",
    "# Ensure y is numeric for regression (it should be handled by load_and_preprocess_arff now, but double check)\n",
    "if y_raw.dtype == 'object':\n",
    "    print(f\"Warning: Target column '{TARGET_COLUMN}' is still object type after loading. Attempting final conversion to int.\")\n",
    "    y_processed = y_raw.astype(int)\n",
    "else:\n",
    "    y_processed = y_raw\n",
    "\n",
    "print(f\"Final target dtype for regression: {y_processed.dtype}\")\n",
    "\n",
    "\n",
    "# Categorical features are now explicitly passed from load_and_preprocess_arff\n",
    "numerical_feats = X_raw.select_dtypes(include=np.number).columns.tolist()\n",
    "# categorical_feats should now contain ['Sex']\n",
    "# Ensure data_preprocessor is called with the dynamically detected lists\n",
    "data_preprocessor = get_preprocessor(numerical_feats, categorical_features)\n",
    "\n",
    "X_train_split, X_val_split, y_train_split, y_val_split = train_test_split(\n",
    "    X_raw, y_processed, test_size=0.2, random_state=RANDOM_STATE\n",
    "    # No stratify for regression\n",
    ")\n",
    "\n",
    "# --- Initialize Custom Pruner with aggressive and DEBUG settings (reused) ---\n",
    "custom_pruner = RandomForestMultiFidelityPruner(\n",
    "    min_intermediate_steps=3,\n",
    "    pruning_quantile=0.75,      \n",
    "    grace_period_ratio=0.02,    \n",
    "    predictive_model_type='saturating_curve',\n",
    "    debug_mode=True             \n",
    ")\n",
    "\n",
    "# --- Create Optuna Study ---\n",
    "# Direction is \"maximize\" because we are maximizing negative MSE (equivalent to minimizing MSE)\n",
    "study = optuna.create_study(\n",
    "    direction=\"maximize\", # Maximize -MSE (or R^2 from OOB for pruner)\n",
    "    pruner=custom_pruner,\n",
    "    sampler=optuna.samplers.TPESampler(seed=RANDOM_STATE),\n",
    "    study_name=\"abalone_rf_hpo_study_debug_pruner\", # <--- UPDATED Study Name\n",
    "    storage=\"sqlite:///abalone_rf_hpo_debug.db\",\n",
    "    load_if_exists=True     # <--- UPDATED DB File\n",
    ")\n",
    "\n",
    "objective_with_args = functools.partial(\n",
    "    objective,\n",
    "    X_train_raw=X_train_split,\n",
    "    y_train_processed=y_train_split, # y is now processed for regression\n",
    "    X_val_raw=X_val_split,\n",
    "    y_val_processed=y_val_split,     # y is now processed for regression\n",
    "    task_type=TASK_TYPE,\n",
    "    preprocessor=data_preprocessor,\n",
    "    max_n_estimators_upper_bound=250 # Keeping this value\n",
    ")\n",
    "\n",
    "print(f\"Starting Optuna study with {N_TRIALS} trials for Abalone dataset (DEBUG PRUNER)...\")\n",
    "study.optimize(objective_with_args, n_trials=N_TRIALS, show_progress_bar=True)\n",
    "\n",
    "# --- Print Results ---\n",
    "print(\"\\nOptimization finished.\")\n",
    "print(f\"Best trial value (Negative MSE): {study.best_trial.value:.4f}\")\n",
    "print(\"Best hyperparameters:\")\n",
    "for key, value in study.best_trial.params.items():\n",
    "    print(f\"  {key}: {value}\")\n",
    "\n",
    "pruned_trials = study.get_trials(deepcopy=False, states=[optuna.trial.TrialState.PRUNED])\n",
    "complete_trials = study.get_trials(deepcopy=False, states=[optuna.trial.TrialState.COMPLETE])\n",
    "print(f\"Number of pruned trials: {len(pruned_trials)}\") \n",
    "print(f\"Number of complete trials: {len(complete_trials)}\")\n",
    "\n",
    "\n",
    "# --- 5. Final Model Evaluation ---\n",
    "\n",
    "def evaluate_final_model(best_params, X_train_full, y_train_full, X_test_full, y_test_full,\n",
    "                         task_type='classification', preprocessor=None):\n",
    "    \"\"\"\n",
    "    Trains the best model from HPO on the full training data and evaluates on a test set.\n",
    "    \"\"\"\n",
    "    start_time = time.time()\n",
    "\n",
    "    if preprocessor:\n",
    "        X_train_transformed = preprocessor.fit_transform(X_train_full)\n",
    "        X_test_transformed = preprocessor.transform(X_test_full)\n",
    "    else:\n",
    "        X_train_transformed = X_train_full.to_numpy()\n",
    "        X_test_transformed = X_test_full.to_numpy()\n",
    "\n",
    "    if task_type == 'classification':\n",
    "        model = RandomForestClassifier(random_state=42, n_jobs=-1, **best_params)\n",
    "    else: # Regression\n",
    "        model = RandomForestRegressor(random_state=42, n_jobs=-1, **best_params)\n",
    "\n",
    "    model.fit(X_train_transformed, y_train_full)\n",
    "    fit_time = time.time() - start_time\n",
    "\n",
    "    y_pred = model.predict(X_test_transformed)\n",
    "\n",
    "    if task_type == 'classification':\n",
    "        if hasattr(model, 'predict_proba') and len(np.unique(y_test_full)) == 2:\n",
    "            y_proba = model.predict_proba(X_test_full)[:, 1] # Use transformed X for predict_proba too\n",
    "            auc_score = roc_auc_score(y_test_full, y_proba)\n",
    "            print(f\"Final Model AUC: {auc_score:.4f}\")\n",
    "            final_metric = auc_score\n",
    "            metric_name = \"AUC\"\n",
    "        else:\n",
    "            final_metric = accuracy_score(y_test_full, y_pred)\n",
    "            metric_name = \"Accuracy\"\n",
    "    else: # Regression\n",
    "        final_metric = mean_squared_error(y_test_full, y_pred) # Report actual MSE, not negative\n",
    "        print(f\"Final Model MSE: {final_metric:.4f}\")\n",
    "        metric_name = \"MSE\"\n",
    "\n",
    "    print(f\"\\n--- Final Model Evaluation ---\")\n",
    "    print(f\"Metric ({metric_name}): {final_metric:.4f}\")\n",
    "    print(f\"Training time for final model: {fit_time:.2f} seconds\")\n",
    "\n",
    "    return model, final_metric\n",
    "\n",
    "\n",
    "X_train_full, X_test_full, y_train_full, y_test_full = train_test_split(\n",
    "    X_raw, y_processed, test_size=0.2, random_state=RANDOM_STATE\n",
    "    # No stratify for regression\n",
    ")\n",
    "\n",
    "if study.best_trial:\n",
    "    best_params = study.best_trial.params\n",
    "    final_model, final_score = evaluate_final_model(\n",
    "        best_params, X_train_full, y_train_full, X_test_full, y_test_full,\n",
    "        task_type=TASK_TYPE, preprocessor=data_preprocessor\n",
    "    )\n",
    "\n",
    "    joblib.dump(final_model, 'best_rf_abalone_model_debug.pkl') # <--- UPDATED save name\n",
    "    joblib.dump(data_preprocessor, 'data_preprocessor_abalone_debug.pkl') # <--- UPDATED save name\n",
    "    print(\"Best model and preprocessor for Abalone saved (debug pruner run).\")"
   ]
  },
  {
   "cell_type": "code",
   "execution_count": 6,
   "id": "d9d3a54a",
   "metadata": {},
   "outputs": [
    {
     "data": {
      "application/vnd.plotly.v1+json": {
       "config": {
        "plotlyServerURL": "https://plot.ly"
       },
       "data": [
        {
         "mode": "markers",
         "name": "Objective Value",
         "type": "scatter",
         "x": [
          1,
          2,
          3,
          4,
          5,
          6,
          7,
          8,
          9,
          10,
          11,
          12,
          13,
          14,
          15,
          16,
          17,
          18,
          19,
          20,
          21,
          22,
          23,
          24,
          25,
          26,
          27,
          28,
          29,
          30,
          31,
          32,
          33,
          34,
          35,
          36,
          37,
          38,
          39,
          40,
          41,
          42,
          43,
          44,
          45,
          46,
          47,
          48,
          49,
          50,
          51,
          52,
          53,
          54,
          55,
          56,
          57,
          58,
          59,
          60,
          61,
          62,
          63,
          64,
          65,
          66,
          67,
          68,
          69,
          70,
          71,
          72,
          73,
          74,
          75,
          76,
          77,
          78,
          79,
          80,
          81,
          82,
          83,
          84,
          85,
          86,
          87,
          88,
          89,
          90,
          91,
          92,
          93,
          94,
          95,
          96,
          97,
          98,
          99,
          100
         ],
         "y": [
          -4.853948700403041,
          -5.360501453594151,
          -4.910652870531803,
          -4.837342407639543,
          -6.483329552555978,
          -4.870211646577137,
          -4.826259724816717,
          -4.90302114170663,
          -4.999937453410792,
          -5.0137607127860635,
          -5.195197232242701,
          -4.84123265142052,
          -4.964691303859944,
          -4.8755230650134544,
          -4.844518678304441,
          -4.911308143735963,
          -6.1033737310360054,
          -4.820231842240812,
          -4.843275973564981,
          -4.851554477361961,
          -4.960778827531535,
          -4.817482474546431,
          -5.043725729611645,
          -4.871100697182686,
          -4.829440406371018,
          -4.831681444432541,
          -4.991897407520312,
          -4.842144698807647,
          -5.181840670120219,
          -4.839697802137047,
          -4.84257121609569,
          -4.829440406371018,
          -4.816164178663493,
          -4.824656331714463,
          -5.039006253533248,
          -4.816688079239987,
          -4.779608422036912,
          -4.983864775432942,
          -4.808228296483778,
          -4.835248960785003,
          -4.859207555829977,
          -4.84195362123423,
          -4.835497793326753,
          -4.807257547426632,
          -4.8701768604515845,
          -4.821442199317254,
          -4.986360023246718,
          -4.923619450312358,
          -5.3532562715260985,
          -4.8311907850575215,
          -4.82018777180854,
          -4.869656283644465,
          -4.821236396114287,
          -4.82787023220011,
          -4.837419732281297,
          -4.853558104297413,
          -4.819105497801039,
          -4.932883409163419,
          -4.913439524034083,
          -5.286313453762085,
          -4.834068738809217,
          -4.8204142867167095,
          -4.831052810824582,
          -4.793151633260718,
          -4.828234074190607,
          -4.817799397755772,
          -4.798901938956953,
          -4.870445279957053,
          -4.9026031846371145,
          -4.919390174127783,
          -4.91978627810256,
          -4.827734227350322,
          -4.817130543441088,
          -4.817130543441088,
          -4.801575567779789,
          -4.807481517853065,
          -4.9074024551734015,
          -4.834339140024098,
          -4.813890517077825,
          -4.836876779050263,
          -4.850887952597041,
          -4.846579096704793,
          -4.834162563093231,
          -4.796802632193177,
          -4.808317947550179,
          -4.808819854335146,
          -4.8567171825903985,
          -4.827199441144172,
          -4.892435438994695,
          -4.8404885071348955,
          -5.073827007635447,
          -4.800648363058521,
          -4.800544279524392,
          -4.8017271059733355,
          -4.822704262084185,
          -4.798792202446227,
          -4.839675114468316,
          -4.85426099500339,
          -4.84588929227102,
          -4.873011877129678
         ]
        },
        {
         "mode": "lines",
         "name": "Best Value",
         "type": "scatter",
         "x": [
          0,
          1,
          2,
          3,
          4,
          5,
          6,
          7,
          8,
          9,
          10,
          11,
          12,
          13,
          14,
          15,
          16,
          17,
          18,
          19,
          20,
          21,
          22,
          23,
          24,
          25,
          26,
          27,
          28,
          29,
          30,
          31,
          32,
          33,
          34,
          35,
          36,
          37,
          38,
          39,
          40,
          41,
          42,
          43,
          44,
          45,
          46,
          47,
          48,
          49,
          50,
          51,
          52,
          53,
          54,
          55,
          56,
          57,
          58,
          59,
          60,
          61,
          62,
          63,
          64,
          65,
          66,
          67,
          68,
          69,
          70,
          71,
          72,
          73,
          74,
          75,
          76,
          77,
          78,
          79,
          80,
          81,
          82,
          83,
          84,
          85,
          86,
          87,
          88,
          89,
          90,
          91,
          92,
          93,
          94,
          95,
          96,
          97,
          98,
          99,
          100
         ],
         "y": [
          null,
          -4.853948700403041,
          -4.853948700403041,
          -4.853948700403041,
          -4.837342407639543,
          -4.837342407639543,
          -4.837342407639543,
          -4.826259724816717,
          -4.826259724816717,
          -4.826259724816717,
          -4.826259724816717,
          -4.826259724816717,
          -4.826259724816717,
          -4.826259724816717,
          -4.826259724816717,
          -4.826259724816717,
          -4.826259724816717,
          -4.826259724816717,
          -4.820231842240812,
          -4.820231842240812,
          -4.820231842240812,
          -4.820231842240812,
          -4.817482474546431,
          -4.817482474546431,
          -4.817482474546431,
          -4.817482474546431,
          -4.817482474546431,
          -4.817482474546431,
          -4.817482474546431,
          -4.817482474546431,
          -4.817482474546431,
          -4.817482474546431,
          -4.817482474546431,
          -4.816164178663493,
          -4.816164178663493,
          -4.816164178663493,
          -4.816164178663493,
          -4.779608422036912,
          -4.779608422036912,
          -4.779608422036912,
          -4.779608422036912,
          -4.779608422036912,
          -4.779608422036912,
          -4.779608422036912,
          -4.779608422036912,
          -4.779608422036912,
          -4.779608422036912,
          -4.779608422036912,
          -4.779608422036912,
          -4.779608422036912,
          -4.779608422036912,
          -4.779608422036912,
          -4.779608422036912,
          -4.779608422036912,
          -4.779608422036912,
          -4.779608422036912,
          -4.779608422036912,
          -4.779608422036912,
          -4.779608422036912,
          -4.779608422036912,
          -4.779608422036912,
          -4.779608422036912,
          -4.779608422036912,
          -4.779608422036912,
          -4.779608422036912,
          -4.779608422036912,
          -4.779608422036912,
          -4.779608422036912,
          -4.779608422036912,
          -4.779608422036912,
          -4.779608422036912,
          -4.779608422036912,
          -4.779608422036912,
          -4.779608422036912,
          -4.779608422036912,
          -4.779608422036912,
          -4.779608422036912,
          -4.779608422036912,
          -4.779608422036912,
          -4.779608422036912,
          -4.779608422036912,
          -4.779608422036912,
          -4.779608422036912,
          -4.779608422036912,
          -4.779608422036912,
          -4.779608422036912,
          -4.779608422036912,
          -4.779608422036912,
          -4.779608422036912,
          -4.779608422036912,
          -4.779608422036912,
          -4.779608422036912,
          -4.779608422036912,
          -4.779608422036912,
          -4.779608422036912,
          -4.779608422036912,
          -4.779608422036912,
          -4.779608422036912,
          -4.779608422036912,
          -4.779608422036912,
          -4.779608422036912
         ]
        },
        {
         "marker": {
          "color": "#cccccc"
         },
         "mode": "markers",
         "name": "Infeasible Trial",
         "showlegend": false,
         "type": "scatter",
         "x": [],
         "y": []
        }
       ],
       "layout": {
        "template": {
         "data": {
          "bar": [
           {
            "error_x": {
             "color": "#2a3f5f"
            },
            "error_y": {
             "color": "#2a3f5f"
            },
            "marker": {
             "line": {
              "color": "#E5ECF6",
              "width": 0.5
             },
             "pattern": {
              "fillmode": "overlay",
              "size": 10,
              "solidity": 0.2
             }
            },
            "type": "bar"
           }
          ],
          "barpolar": [
           {
            "marker": {
             "line": {
              "color": "#E5ECF6",
              "width": 0.5
             },
             "pattern": {
              "fillmode": "overlay",
              "size": 10,
              "solidity": 0.2
             }
            },
            "type": "barpolar"
           }
          ],
          "carpet": [
           {
            "aaxis": {
             "endlinecolor": "#2a3f5f",
             "gridcolor": "white",
             "linecolor": "white",
             "minorgridcolor": "white",
             "startlinecolor": "#2a3f5f"
            },
            "baxis": {
             "endlinecolor": "#2a3f5f",
             "gridcolor": "white",
             "linecolor": "white",
             "minorgridcolor": "white",
             "startlinecolor": "#2a3f5f"
            },
            "type": "carpet"
           }
          ],
          "choropleth": [
           {
            "colorbar": {
             "outlinewidth": 0,
             "ticks": ""
            },
            "type": "choropleth"
           }
          ],
          "contour": [
           {
            "colorbar": {
             "outlinewidth": 0,
             "ticks": ""
            },
            "colorscale": [
             [
              0,
              "#0d0887"
             ],
             [
              0.1111111111111111,
              "#46039f"
             ],
             [
              0.2222222222222222,
              "#7201a8"
             ],
             [
              0.3333333333333333,
              "#9c179e"
             ],
             [
              0.4444444444444444,
              "#bd3786"
             ],
             [
              0.5555555555555556,
              "#d8576b"
             ],
             [
              0.6666666666666666,
              "#ed7953"
             ],
             [
              0.7777777777777778,
              "#fb9f3a"
             ],
             [
              0.8888888888888888,
              "#fdca26"
             ],
             [
              1,
              "#f0f921"
             ]
            ],
            "type": "contour"
           }
          ],
          "contourcarpet": [
           {
            "colorbar": {
             "outlinewidth": 0,
             "ticks": ""
            },
            "type": "contourcarpet"
           }
          ],
          "heatmap": [
           {
            "colorbar": {
             "outlinewidth": 0,
             "ticks": ""
            },
            "colorscale": [
             [
              0,
              "#0d0887"
             ],
             [
              0.1111111111111111,
              "#46039f"
             ],
             [
              0.2222222222222222,
              "#7201a8"
             ],
             [
              0.3333333333333333,
              "#9c179e"
             ],
             [
              0.4444444444444444,
              "#bd3786"
             ],
             [
              0.5555555555555556,
              "#d8576b"
             ],
             [
              0.6666666666666666,
              "#ed7953"
             ],
             [
              0.7777777777777778,
              "#fb9f3a"
             ],
             [
              0.8888888888888888,
              "#fdca26"
             ],
             [
              1,
              "#f0f921"
             ]
            ],
            "type": "heatmap"
           }
          ],
          "histogram": [
           {
            "marker": {
             "pattern": {
              "fillmode": "overlay",
              "size": 10,
              "solidity": 0.2
             }
            },
            "type": "histogram"
           }
          ],
          "histogram2d": [
           {
            "colorbar": {
             "outlinewidth": 0,
             "ticks": ""
            },
            "colorscale": [
             [
              0,
              "#0d0887"
             ],
             [
              0.1111111111111111,
              "#46039f"
             ],
             [
              0.2222222222222222,
              "#7201a8"
             ],
             [
              0.3333333333333333,
              "#9c179e"
             ],
             [
              0.4444444444444444,
              "#bd3786"
             ],
             [
              0.5555555555555556,
              "#d8576b"
             ],
             [
              0.6666666666666666,
              "#ed7953"
             ],
             [
              0.7777777777777778,
              "#fb9f3a"
             ],
             [
              0.8888888888888888,
              "#fdca26"
             ],
             [
              1,
              "#f0f921"
             ]
            ],
            "type": "histogram2d"
           }
          ],
          "histogram2dcontour": [
           {
            "colorbar": {
             "outlinewidth": 0,
             "ticks": ""
            },
            "colorscale": [
             [
              0,
              "#0d0887"
             ],
             [
              0.1111111111111111,
              "#46039f"
             ],
             [
              0.2222222222222222,
              "#7201a8"
             ],
             [
              0.3333333333333333,
              "#9c179e"
             ],
             [
              0.4444444444444444,
              "#bd3786"
             ],
             [
              0.5555555555555556,
              "#d8576b"
             ],
             [
              0.6666666666666666,
              "#ed7953"
             ],
             [
              0.7777777777777778,
              "#fb9f3a"
             ],
             [
              0.8888888888888888,
              "#fdca26"
             ],
             [
              1,
              "#f0f921"
             ]
            ],
            "type": "histogram2dcontour"
           }
          ],
          "mesh3d": [
           {
            "colorbar": {
             "outlinewidth": 0,
             "ticks": ""
            },
            "type": "mesh3d"
           }
          ],
          "parcoords": [
           {
            "line": {
             "colorbar": {
              "outlinewidth": 0,
              "ticks": ""
             }
            },
            "type": "parcoords"
           }
          ],
          "pie": [
           {
            "automargin": true,
            "type": "pie"
           }
          ],
          "scatter": [
           {
            "fillpattern": {
             "fillmode": "overlay",
             "size": 10,
             "solidity": 0.2
            },
            "type": "scatter"
           }
          ],
          "scatter3d": [
           {
            "line": {
             "colorbar": {
              "outlinewidth": 0,
              "ticks": ""
             }
            },
            "marker": {
             "colorbar": {
              "outlinewidth": 0,
              "ticks": ""
             }
            },
            "type": "scatter3d"
           }
          ],
          "scattercarpet": [
           {
            "marker": {
             "colorbar": {
              "outlinewidth": 0,
              "ticks": ""
             }
            },
            "type": "scattercarpet"
           }
          ],
          "scattergeo": [
           {
            "marker": {
             "colorbar": {
              "outlinewidth": 0,
              "ticks": ""
             }
            },
            "type": "scattergeo"
           }
          ],
          "scattergl": [
           {
            "marker": {
             "colorbar": {
              "outlinewidth": 0,
              "ticks": ""
             }
            },
            "type": "scattergl"
           }
          ],
          "scattermap": [
           {
            "marker": {
             "colorbar": {
              "outlinewidth": 0,
              "ticks": ""
             }
            },
            "type": "scattermap"
           }
          ],
          "scattermapbox": [
           {
            "marker": {
             "colorbar": {
              "outlinewidth": 0,
              "ticks": ""
             }
            },
            "type": "scattermapbox"
           }
          ],
          "scatterpolar": [
           {
            "marker": {
             "colorbar": {
              "outlinewidth": 0,
              "ticks": ""
             }
            },
            "type": "scatterpolar"
           }
          ],
          "scatterpolargl": [
           {
            "marker": {
             "colorbar": {
              "outlinewidth": 0,
              "ticks": ""
             }
            },
            "type": "scatterpolargl"
           }
          ],
          "scatterternary": [
           {
            "marker": {
             "colorbar": {
              "outlinewidth": 0,
              "ticks": ""
             }
            },
            "type": "scatterternary"
           }
          ],
          "surface": [
           {
            "colorbar": {
             "outlinewidth": 0,
             "ticks": ""
            },
            "colorscale": [
             [
              0,
              "#0d0887"
             ],
             [
              0.1111111111111111,
              "#46039f"
             ],
             [
              0.2222222222222222,
              "#7201a8"
             ],
             [
              0.3333333333333333,
              "#9c179e"
             ],
             [
              0.4444444444444444,
              "#bd3786"
             ],
             [
              0.5555555555555556,
              "#d8576b"
             ],
             [
              0.6666666666666666,
              "#ed7953"
             ],
             [
              0.7777777777777778,
              "#fb9f3a"
             ],
             [
              0.8888888888888888,
              "#fdca26"
             ],
             [
              1,
              "#f0f921"
             ]
            ],
            "type": "surface"
           }
          ],
          "table": [
           {
            "cells": {
             "fill": {
              "color": "#EBF0F8"
             },
             "line": {
              "color": "white"
             }
            },
            "header": {
             "fill": {
              "color": "#C8D4E3"
             },
             "line": {
              "color": "white"
             }
            },
            "type": "table"
           }
          ]
         },
         "layout": {
          "annotationdefaults": {
           "arrowcolor": "#2a3f5f",
           "arrowhead": 0,
           "arrowwidth": 1
          },
          "autotypenumbers": "strict",
          "coloraxis": {
           "colorbar": {
            "outlinewidth": 0,
            "ticks": ""
           }
          },
          "colorscale": {
           "diverging": [
            [
             0,
             "#8e0152"
            ],
            [
             0.1,
             "#c51b7d"
            ],
            [
             0.2,
             "#de77ae"
            ],
            [
             0.3,
             "#f1b6da"
            ],
            [
             0.4,
             "#fde0ef"
            ],
            [
             0.5,
             "#f7f7f7"
            ],
            [
             0.6,
             "#e6f5d0"
            ],
            [
             0.7,
             "#b8e186"
            ],
            [
             0.8,
             "#7fbc41"
            ],
            [
             0.9,
             "#4d9221"
            ],
            [
             1,
             "#276419"
            ]
           ],
           "sequential": [
            [
             0,
             "#0d0887"
            ],
            [
             0.1111111111111111,
             "#46039f"
            ],
            [
             0.2222222222222222,
             "#7201a8"
            ],
            [
             0.3333333333333333,
             "#9c179e"
            ],
            [
             0.4444444444444444,
             "#bd3786"
            ],
            [
             0.5555555555555556,
             "#d8576b"
            ],
            [
             0.6666666666666666,
             "#ed7953"
            ],
            [
             0.7777777777777778,
             "#fb9f3a"
            ],
            [
             0.8888888888888888,
             "#fdca26"
            ],
            [
             1,
             "#f0f921"
            ]
           ],
           "sequentialminus": [
            [
             0,
             "#0d0887"
            ],
            [
             0.1111111111111111,
             "#46039f"
            ],
            [
             0.2222222222222222,
             "#7201a8"
            ],
            [
             0.3333333333333333,
             "#9c179e"
            ],
            [
             0.4444444444444444,
             "#bd3786"
            ],
            [
             0.5555555555555556,
             "#d8576b"
            ],
            [
             0.6666666666666666,
             "#ed7953"
            ],
            [
             0.7777777777777778,
             "#fb9f3a"
            ],
            [
             0.8888888888888888,
             "#fdca26"
            ],
            [
             1,
             "#f0f921"
            ]
           ]
          },
          "colorway": [
           "#636efa",
           "#EF553B",
           "#00cc96",
           "#ab63fa",
           "#FFA15A",
           "#19d3f3",
           "#FF6692",
           "#B6E880",
           "#FF97FF",
           "#FECB52"
          ],
          "font": {
           "color": "#2a3f5f"
          },
          "geo": {
           "bgcolor": "white",
           "lakecolor": "white",
           "landcolor": "#E5ECF6",
           "showlakes": true,
           "showland": true,
           "subunitcolor": "white"
          },
          "hoverlabel": {
           "align": "left"
          },
          "hovermode": "closest",
          "mapbox": {
           "style": "light"
          },
          "paper_bgcolor": "white",
          "plot_bgcolor": "#E5ECF6",
          "polar": {
           "angularaxis": {
            "gridcolor": "white",
            "linecolor": "white",
            "ticks": ""
           },
           "bgcolor": "#E5ECF6",
           "radialaxis": {
            "gridcolor": "white",
            "linecolor": "white",
            "ticks": ""
           }
          },
          "scene": {
           "xaxis": {
            "backgroundcolor": "#E5ECF6",
            "gridcolor": "white",
            "gridwidth": 2,
            "linecolor": "white",
            "showbackground": true,
            "ticks": "",
            "zerolinecolor": "white"
           },
           "yaxis": {
            "backgroundcolor": "#E5ECF6",
            "gridcolor": "white",
            "gridwidth": 2,
            "linecolor": "white",
            "showbackground": true,
            "ticks": "",
            "zerolinecolor": "white"
           },
           "zaxis": {
            "backgroundcolor": "#E5ECF6",
            "gridcolor": "white",
            "gridwidth": 2,
            "linecolor": "white",
            "showbackground": true,
            "ticks": "",
            "zerolinecolor": "white"
           }
          },
          "shapedefaults": {
           "line": {
            "color": "#2a3f5f"
           }
          },
          "ternary": {
           "aaxis": {
            "gridcolor": "white",
            "linecolor": "white",
            "ticks": ""
           },
           "baxis": {
            "gridcolor": "white",
            "linecolor": "white",
            "ticks": ""
           },
           "bgcolor": "#E5ECF6",
           "caxis": {
            "gridcolor": "white",
            "linecolor": "white",
            "ticks": ""
           }
          },
          "title": {
           "x": 0.05
          },
          "xaxis": {
           "automargin": true,
           "gridcolor": "white",
           "linecolor": "white",
           "ticks": "",
           "title": {
            "standoff": 15
           },
           "zerolinecolor": "white",
           "zerolinewidth": 2
          },
          "yaxis": {
           "automargin": true,
           "gridcolor": "white",
           "linecolor": "white",
           "ticks": "",
           "title": {
            "standoff": 15
           },
           "zerolinecolor": "white",
           "zerolinewidth": 2
          }
         }
        },
        "title": {
         "text": "Optimization History Plot"
        },
        "xaxis": {
         "title": {
          "text": "Trial"
         }
        },
        "yaxis": {
         "title": {
          "text": "Objective Value"
         }
        }
       }
      }
     },
     "metadata": {},
     "output_type": "display_data"
    },
    {
     "data": {
      "application/vnd.plotly.v1+json": {
       "config": {
        "plotlyServerURL": "https://plot.ly"
       },
       "data": [
        {
         "marker": {
          "maxdisplayed": 10
         },
         "mode": "lines+markers",
         "name": "Trial1",
         "type": "scatter",
         "x": [
          1,
          2,
          3,
          5,
          6,
          12,
          25,
          37,
          50,
          62,
          75,
          87,
          100,
          112,
          125
         ],
         "y": [
          null,
          -3.641936166740404,
          -2.0638894923625477,
          -0.49881070930320215,
          -0.1468537322440464,
          0.5034723256223086,
          0.547070976655318,
          0.5546868413038224,
          0.5573258833926409,
          0.5595197727683037,
          0.5614905357728398,
          0.5614335988782138,
          0.562901902269357,
          0.5630746798575205,
          0.5636276358859522
         ]
        },
        {
         "marker": {
          "maxdisplayed": 10
         },
         "mode": "lines+markers",
         "name": "Trial2",
         "type": "scatter",
         "x": [
          2,
          4,
          6,
          8,
          11,
          22,
          44,
          67,
          89,
          112,
          134,
          156,
          179,
          201,
          224
         ],
         "y": [
          -3.694475500438137,
          -1.1577024378418943,
          -0.21021857056752014,
          0.2395258220820924,
          0.440229531713659,
          0.49314377041006696,
          0.49620600035839235,
          0.4963408728725538,
          0.4989826962589695,
          0.4982749149379637,
          0.4985062931084069,
          0.49913677643723375,
          0.4982755366478463,
          0.4982300374140969,
          0.49716444188510067
         ]
        },
        {
         "marker": {
          "maxdisplayed": 10
         },
         "mode": "lines+markers",
         "name": "Trial3",
         "type": "scatter",
         "x": [
          1,
          2,
          3,
          4,
          8,
          17,
          25,
          34,
          43,
          51,
          60,
          68,
          77,
          86
         ],
         "y": [
          null,
          -3.6620785734103016,
          -2.0773723787702494,
          -1.1051102036002654,
          0.28179393899055305,
          0.5374853103450972,
          0.5421262873305293,
          0.5443431771471625,
          0.5487129065492062,
          0.5501874080787603,
          0.5535729286491211,
          0.5550373152947523,
          0.5554135372861833,
          0.5551609481126768
         ]
        },
        {
         "marker": {
          "maxdisplayed": 10
         },
         "mode": "lines+markers",
         "name": "Trial4",
         "type": "scatter",
         "x": [
          1,
          2,
          3,
          7,
          15,
          23,
          31,
          39,
          46,
          54,
          62,
          70,
          78
         ],
         "y": [
          null,
          -3.674826895615694,
          -2.0984226012827842,
          0.10261857476557146,
          0.5241821965495739,
          0.5456088682986832,
          0.5498924646180345,
          0.5557444004063199,
          0.5577912735496493,
          0.5583194722112909,
          0.5597038993261167,
          0.5614685067247103,
          0.5619818062189001
         ]
        },
        {
         "marker": {
          "maxdisplayed": 10
         },
         "mode": "lines+markers",
         "name": "Trial5",
         "type": "scatter",
         "x": [
          1,
          3,
          5,
          6,
          8,
          16,
          33,
          50,
          67,
          84,
          101,
          118,
          135,
          152,
          169
         ],
         "y": [
          null,
          -2.1610578995314746,
          -0.6307442903700087,
          -0.28353609247221234,
          0.15424336388410953,
          0.39188084428455017,
          0.39969281871935447,
          0.39682519741402,
          0.3950550637038973,
          0.3957238058043917,
          0.3948114903429416,
          0.395674120563847,
          0.39438715195559926,
          0.3954612675457393,
          0.39491719626927224
         ]
        },
        {
         "marker": {
          "maxdisplayed": 10
         },
         "mode": "lines+markers",
         "name": "Trial6",
         "type": "scatter",
         "x": [
          2,
          4,
          6,
          8,
          10,
          21,
          42,
          63,
          84,
          106,
          127,
          148,
          169,
          190,
          212
         ],
         "y": [
          -3.754157240732865,
          -1.208265745884607,
          -0.23262393778743262,
          0.2295788902086674,
          0.3757883987816686,
          0.5203830012568533,
          0.5421602605929858,
          0.5527567804575634,
          0.553412535510013,
          0.5564181190388084,
          0.5584948279563111,
          0.5601166086879079,
          0.5607742636177167,
          0.5609657962761319,
          0.5616952697873538
         ]
        },
        {
         "marker": {
          "maxdisplayed": 10
         },
         "mode": "lines+markers",
         "name": "Trial7",
         "type": "scatter",
         "x": [
          1,
          2,
          5,
          11,
          16,
          22,
          28,
          33,
          39,
          44,
          50,
          56
         ],
         "y": [
          null,
          -3.6806885832838887,
          -0.526450810779181,
          0.46688351514794524,
          0.5288998405874707,
          0.5398465847862358,
          0.5449195078833213,
          0.5495214883680462,
          0.5550761462820978,
          0.5561065080171728,
          0.5576368889961276,
          0.5609176405760075
         ]
        },
        {
         "marker": {
          "maxdisplayed": 10
         },
         "mode": "lines+markers",
         "name": "Trial8",
         "type": "scatter",
         "x": [
          1,
          2,
          3,
          4,
          8,
          17,
          26,
          34,
          43,
          52,
          60,
          69,
          78,
          87
         ],
         "y": [
          null,
          -3.644367184260246,
          -2.071744373873503,
          -1.0917883833280473,
          0.30413044861658756,
          0.543271194116556,
          0.5496871580474353,
          0.552324742765465,
          0.5536782020007116,
          0.556144029235514,
          0.5574402954376954,
          0.5583563539662114,
          0.559584666056342,
          0.5595814504363472
         ]
        },
        {
         "marker": {
          "maxdisplayed": 10
         },
         "mode": "lines+markers",
         "name": "Trial9",
         "type": "scatter",
         "x": [
          1,
          2,
          3,
          6,
          13,
          20,
          26,
          33,
          40,
          46,
          53,
          60,
          67
         ],
         "y": [
          null,
          -3.6677101163316337,
          -2.1095894551651044,
          -0.18994767304068283,
          0.481972103459946,
          0.5221313540214769,
          0.5301292998648344,
          0.5339113998217118,
          0.5372308100463463,
          0.538163120576746,
          0.5406249976346239,
          0.5399716503356372,
          0.5429071841520797
         ]
        },
        {
         "marker": {
          "maxdisplayed": 10
         },
         "mode": "lines+markers",
         "name": "Trial10",
         "type": "scatter",
         "x": [
          1,
          2,
          3,
          4,
          6,
          12,
          24,
          36,
          48,
          60,
          72,
          84,
          96,
          108,
          121
         ],
         "y": [
          null,
          -3.6890381025582046,
          -2.1161531692187743,
          -1.1435657705009268,
          -0.19823194622725726,
          0.4715129929939462,
          0.5289443435255603,
          0.5319761744454365,
          0.5337340412683224,
          0.5340694419562384,
          0.5337126418942588,
          0.5355298317358668,
          0.5356891869131052,
          0.5355113057967903,
          0.5361095952682227
         ]
        },
        {
         "marker": {
          "maxdisplayed": 10
         },
         "mode": "lines+markers",
         "name": "Trial11",
         "type": "scatter",
         "x": [
          1,
          3,
          4,
          6,
          7,
          15,
          30,
          45,
          61,
          76,
          91,
          107,
          122,
          137,
          153
         ],
         "y": [
          null,
          -2.097877036052582,
          -1.1243994425324164,
          -0.17292135803247288,
          0.10608061869240604,
          0.4980098178858411,
          0.5130047089948668,
          0.5173767395236767,
          0.5189066013916709,
          0.5196983371418913,
          0.5210334679728537,
          0.5225342853102508,
          0.5225849306318044,
          0.5223087567923328,
          0.5233414284145886
         ]
        },
        {
         "marker": {
          "maxdisplayed": 10
         },
         "mode": "lines+markers",
         "name": "Trial12",
         "type": "scatter",
         "x": [
          1,
          2,
          5,
          11,
          17,
          22,
          28,
          34,
          39,
          45,
          51,
          57
         ],
         "y": [
          null,
          -3.695246363257282,
          -0.5283378378747363,
          0.4636954436029844,
          0.5266583868511792,
          0.5368600476416006,
          0.5422385554466158,
          0.5485974815525447,
          0.5517155955108634,
          0.5544942768109637,
          0.555838407165135,
          0.5564964352080033
         ]
        },
        {
         "marker": {
          "maxdisplayed": 10
         },
         "mode": "lines+markers",
         "name": "Trial13",
         "type": "scatter",
         "x": [
          1,
          2,
          5,
          10,
          15,
          20,
          25,
          30,
          35,
          40,
          45,
          51
         ],
         "y": [
          null,
          -3.6830948190921777,
          -0.5544437397260609,
          0.40006853810863807,
          0.4978317244116188,
          0.5213102618145526,
          0.5252195081610969,
          0.5279774990246761,
          0.5295305862596867,
          0.5353920626473223,
          0.536169049007893,
          0.5349821018619313
         ]
        },
        {
         "marker": {
          "maxdisplayed": 10
         },
         "mode": "lines+markers",
         "name": "Trial14",
         "type": "scatter",
         "x": [
          1,
          2,
          3,
          4,
          5,
          11,
          22,
          33,
          44,
          55,
          66,
          77,
          88,
          99,
          110
         ],
         "y": [
          null,
          -3.692472149549948,
          -2.1272030605776235,
          -1.1371344757330335,
          -0.5416832151181525,
          0.4612561406362067,
          0.5358713544680552,
          0.5456351567991997,
          0.5499404368582645,
          0.5547035126015436,
          0.5570349039047287,
          0.5598364481411241,
          0.5604750297358772,
          0.5617714484179774,
          0.5619671696828192
         ]
        },
        {
         "marker": {
          "maxdisplayed": 10
         },
         "mode": "lines+markers",
         "name": "Trial15",
         "type": "scatter",
         "x": [
          1,
          2,
          3,
          4,
          8,
          17,
          25,
          34,
          43,
          51,
          60,
          68,
          77,
          86
         ],
         "y": [
          null,
          -3.660109160897516,
          -2.0838116532184485,
          -1.1088705321172636,
          0.27943004402406013,
          0.5297869534965183,
          0.5443017451240733,
          0.5520543672336984,
          0.558224820839343,
          0.5591379055647817,
          0.5589254971306524,
          0.5594932204282145,
          0.5622493301501987,
          0.5622656504643346
         ]
        },
        {
         "marker": {
          "maxdisplayed": 10
         },
         "mode": "lines+markers",
         "name": "Trial16",
         "type": "scatter",
         "x": [
          1,
          3,
          5,
          7,
          8,
          17,
          35,
          52,
          70,
          87,
          105,
          122,
          140,
          157,
          175
         ],
         "y": [
          null,
          -2.133207670971652,
          -0.56138002151302,
          0.06299981662134502,
          0.2466531618111487,
          0.5124011317041952,
          0.5331431433072944,
          0.540896507054156,
          0.5430132573039417,
          0.5434066247065336,
          0.5436727216941428,
          0.544448754803192,
          0.5449424360443511,
          0.5473361126786747,
          0.5477844710158973
         ]
        },
        {
         "marker": {
          "maxdisplayed": 10
         },
         "mode": "lines+markers",
         "name": "Trial17",
         "type": "scatter",
         "x": [
          2,
          5,
          7,
          10,
          12,
          25,
          50,
          75,
          100,
          125,
          150,
          175,
          200,
          225,
          250
         ],
         "y": [
          -3.6906507535148387,
          -0.584981087768859,
          0.028504135074276737,
          0.33281809083176694,
          0.403821126357349,
          0.4404036793651487,
          0.44250950382553766,
          0.4435000320059076,
          0.4451141630458304,
          0.44476567814857226,
          0.44428121109049057,
          0.4435860433121239,
          0.4444404896606615,
          0.4448748062105362,
          0.4445658381289751
         ]
        },
        {
         "marker": {
          "maxdisplayed": 10
         },
         "mode": "lines+markers",
         "name": "Trial18",
         "type": "scatter",
         "x": [
          1,
          2,
          3,
          4,
          9,
          19,
          29,
          39,
          49,
          59,
          69,
          79,
          89,
          99
         ],
         "y": [
          null,
          -3.7328996586863017,
          -2.176692542260264,
          -1.192781187453165,
          0.3008190932081183,
          0.5239852253222042,
          0.5405938474957839,
          0.548285631736509,
          0.5506540312965709,
          0.5548463283737428,
          0.5578603507356277,
          0.5598078801898491,
          0.5599280517801307,
          0.5614860076109844
         ]
        },
        {
         "marker": {
          "maxdisplayed": 10
         },
         "mode": "lines+markers",
         "name": "Trial19",
         "type": "scatter",
         "x": [
          1,
          2,
          3,
          4,
          5,
          10,
          21,
          32,
          43,
          54,
          65,
          76,
          87,
          98,
          109
         ],
         "y": [
          null,
          -3.7121010950953686,
          -2.1491135977033937,
          -1.1728752382764505,
          -0.5676385661484482,
          0.38634204535873806,
          0.5318559907964944,
          0.5415482578755635,
          0.5479690030471271,
          0.5524986855115093,
          0.5571689113174367,
          0.558484562207072,
          0.5578987460683174,
          0.5595822869331929,
          0.5597477530948785
         ]
        },
        {
         "marker": {
          "maxdisplayed": 10
         },
         "mode": "lines+markers",
         "name": "Trial20",
         "type": "scatter",
         "x": [
          1,
          2,
          4,
          5,
          6,
          13,
          27,
          41,
          55,
          69,
          82,
          96,
          110,
          124,
          138
         ],
         "y": [
          null,
          -3.710424740207224,
          -1.1757364517097568,
          -0.5750378544560637,
          -0.21913420752711743,
          0.47704781952270114,
          0.5285556256456985,
          0.5371970339255756,
          0.5424232420697123,
          0.545240118180768,
          0.546681088762462,
          0.5485869355115689,
          0.5484700331607292,
          0.54925954167638,
          0.5513948702437277
         ]
        },
        {
         "marker": {
          "maxdisplayed": 10
         },
         "mode": "lines+markers",
         "name": "Trial21",
         "type": "scatter",
         "x": [
          1,
          2,
          3,
          4,
          5,
          10,
          20,
          30,
          41,
          51,
          61,
          72,
          82,
          92,
          103
         ],
         "y": [
          null,
          -3.790689279910665,
          -2.2316389586919247,
          -1.2499143408553968,
          -0.642792323753032,
          0.3505114589213446,
          0.5136793355577117,
          0.5297806752299441,
          0.5381514467237118,
          0.5433689937970866,
          0.5454668968378253,
          0.547986845848086,
          0.5491213767635592,
          0.55082006910888,
          0.5521698731189376
         ]
        },
        {
         "marker": {
          "maxdisplayed": 10
         },
         "mode": "lines+markers",
         "name": "Trial22",
         "type": "scatter",
         "x": [
          1,
          2,
          3,
          7,
          14,
          21,
          29,
          36,
          43,
          51,
          58,
          65,
          73
         ],
         "y": [
          null,
          -3.663988538575757,
          -2.0912691551383693,
          0.11602795297454416,
          0.5207851503581875,
          0.5457977711622801,
          0.5526885320593014,
          0.5572265386617375,
          0.5603797824553856,
          0.5610781945513033,
          0.562310192569783,
          0.5627173638483817,
          0.5626034169156224
         ]
        },
        {
         "marker": {
          "maxdisplayed": 10
         },
         "mode": "lines+markers",
         "name": "Trial23",
         "type": "scatter",
         "x": [
          1,
          2,
          3,
          6,
          13,
          20,
          26,
          33,
          40,
          46,
          53,
          60,
          67
         ],
         "y": [
          null,
          -3.649330271458429,
          -2.0833193142911024,
          -0.16708654480985596,
          0.4962035312918046,
          0.5254645712078042,
          0.5297508129311119,
          0.530426374897067,
          0.5336237833173862,
          0.5347568134076723,
          0.5365246904180595,
          0.5367091682475549,
          0.5371090754449319
         ]
        },
        {
         "marker": {
          "maxdisplayed": 10
         },
         "mode": "lines+markers",
         "name": "Trial24",
         "type": "scatter",
         "x": [
          1,
          2,
          5,
          10,
          15,
          20,
          25,
          30,
          35,
          40,
          45,
          51
         ],
         "y": [
          null,
          -3.6425914299208078,
          -0.49801363760489714,
          0.43668762126601535,
          0.5318623749980094,
          0.5484719486828267,
          0.5498707671844645,
          0.551090256812302,
          0.551686205841241,
          0.5567743573740345,
          0.5576954947373196,
          0.558944298823191
         ]
        },
        {
         "marker": {
          "maxdisplayed": 10
         },
         "mode": "lines+markers",
         "name": "Trial25",
         "type": "scatter",
         "x": [
          1,
          2,
          3,
          4,
          5,
          10,
          20,
          30,
          40,
          50,
          60,
          70,
          80,
          90,
          101
         ],
         "y": [
          null,
          -3.667548479688164,
          -2.090847424322047,
          -1.1133864706981607,
          -0.5219038278001717,
          0.4157071174831667,
          0.5345354201080192,
          0.5444053020215567,
          0.5506095918577691,
          0.5532135582692449,
          0.5551212431954429,
          0.5554724986109408,
          0.554693177843231,
          0.5558197981248203,
          0.5558505850895806
         ]
        },
        {
         "marker": {
          "maxdisplayed": 10
         },
         "mode": "lines+markers",
         "name": "Trial26",
         "type": "scatter",
         "x": [
          1,
          2,
          3,
          7,
          14,
          21,
          28,
          35,
          42,
          49,
          56,
          63,
          71
         ],
         "y": [
          null,
          -3.6884405246168317,
          -2.1238033098156173,
          0.10759039539428172,
          0.5141851185245865,
          0.5369998213377293,
          0.5462396803293441,
          0.5530178219390747,
          0.5553881972547875,
          0.5553958812357653,
          0.5562098588095927,
          0.5579531817431385,
          0.5589134918099723
         ]
        },
        {
         "marker": {
          "maxdisplayed": 10
         },
         "mode": "lines+markers",
         "name": "Trial27",
         "type": "scatter",
         "x": [
          1,
          2,
          3,
          4,
          9,
          19,
          28,
          38,
          47,
          57,
          66,
          76,
          85,
          95
         ],
         "y": [
          null,
          -3.6857069625539642,
          -2.11352766409498,
          -1.153631286371052,
          0.3074053310282171,
          0.5063985873596699,
          0.5137080865969725,
          0.5164972196119348,
          0.520399662511707,
          0.5262189233808474,
          0.5293765380835322,
          0.5313277759905572,
          0.5333523766401156,
          0.5342130759805696
         ]
        },
        {
         "marker": {
          "maxdisplayed": 10
         },
         "mode": "lines+markers",
         "name": "Trial28",
         "type": "scatter",
         "x": [
          1,
          2,
          3,
          5,
          6,
          13,
          26,
          39,
          52,
          65,
          78,
          91,
          104,
          117,
          130
         ],
         "y": [
          null,
          -3.707005685974843,
          -2.1328501981302534,
          -0.5407625078955434,
          -0.18564145147435807,
          0.49678856983120323,
          0.5451274352312896,
          0.5528725048330145,
          0.555931281869753,
          0.5576120848699804,
          0.5609878436620792,
          0.5621461786555129,
          0.5622235770969641,
          0.5617835047743853,
          0.5625072282018018
         ]
        },
        {
         "marker": {
          "maxdisplayed": 10
         },
         "mode": "lines+markers",
         "name": "Trial29",
         "type": "scatter",
         "x": [
          1,
          2,
          3,
          6,
          13,
          20,
          26,
          33,
          40,
          46,
          53,
          60,
          67
         ],
         "y": [
          null,
          -3.656098989669501,
          -2.0765140443760313,
          -0.1678242994842123,
          0.4855727923161215,
          0.5197399312295597,
          0.5220152801971544,
          0.5224561749150514,
          0.5253105827184114,
          0.5257615998685011,
          0.5266790051360025,
          0.527732893824433,
          0.5291212383739218
         ]
        },
        {
         "marker": {
          "maxdisplayed": 10
         },
         "mode": "lines+markers",
         "name": "Trial30",
         "type": "scatter",
         "x": [
          1,
          2,
          3,
          4,
          5,
          11,
          23,
          35,
          47,
          59,
          70,
          82,
          94,
          106,
          118
         ],
         "y": [
          null,
          -3.6530947448910123,
          -2.087772667146151,
          -1.1102688417358295,
          -0.5151363089984298,
          0.4826906483987812,
          0.5500349796351242,
          0.5552397968265812,
          0.5612516338506748,
          0.5620595441094839,
          0.564114874627662,
          0.5642814570572556,
          0.5648177066857718,
          0.5653688605746765,
          0.565526708249712
         ]
        },
        {
         "marker": {
          "maxdisplayed": 10
         },
         "mode": "lines+markers",
         "name": "Trial31",
         "type": "scatter",
         "x": [
          1,
          2,
          3,
          4,
          8,
          16,
          24,
          32,
          40,
          48,
          56,
          64,
          72,
          81
         ],
         "y": [
          null,
          -3.7297459550399257,
          -2.1896573766367777,
          -1.223544627016965,
          0.1906089877102607,
          0.4795306736879924,
          0.5064862223810057,
          0.5193386691929378,
          0.5257698666475358,
          0.5281110879852426,
          0.5322832218589912,
          0.5353910504277146,
          0.5361641272341524,
          0.5369899508702827
         ]
        },
        {
         "marker": {
          "maxdisplayed": 10
         },
         "mode": "lines+markers",
         "name": "Trial32",
         "type": "scatter",
         "x": [
          1,
          2,
          3,
          4,
          5,
          10,
          20,
          30,
          40,
          50,
          60,
          70,
          80,
          90,
          101
         ],
         "y": [
          null,
          -3.667548479688164,
          -2.090847424322047,
          -1.1133864706981607,
          -0.5219038278001717,
          0.4157071174831667,
          0.5345354201080192,
          0.5444053020215567,
          0.5506095918577691,
          0.5532135582692449,
          0.5551212431954429,
          0.5554724986109408,
          0.554693177843231,
          0.5558197981248203,
          0.5558505850895806
         ]
        },
        {
         "marker": {
          "maxdisplayed": 10
         },
         "mode": "lines+markers",
         "name": "Trial33",
         "type": "scatter",
         "x": [
          1,
          2,
          4,
          5,
          6,
          13,
          27,
          41,
          54,
          68,
          82,
          95,
          109,
          123,
          137
         ],
         "y": [
          null,
          -3.6714987206047187,
          -1.140860586880184,
          -0.5434065478182908,
          -0.18969791303474692,
          0.4854383184351807,
          0.5425987026374622,
          0.5515729390338765,
          0.5543025301548812,
          0.5574319692829496,
          0.5595258524030031,
          0.5610556200774506,
          0.5606095931932458,
          0.561867045655836,
          0.5618118230130522
         ]
        },
        {
         "marker": {
          "maxdisplayed": 10
         },
         "mode": "lines+markers",
         "name": "Trial34",
         "type": "scatter",
         "x": [
          1,
          3,
          4,
          6,
          8,
          16,
          32,
          48,
          64,
          80,
          96,
          112,
          128,
          144,
          161
         ],
         "y": [
          null,
          -2.10463692524515,
          -1.1181761963614378,
          -0.1793976115406315,
          0.2703750649894755,
          0.5290503901350965,
          0.5531031971504731,
          0.5593494338330514,
          0.5611141786630285,
          0.5617735080352598,
          0.5628875472192523,
          0.5647287148322125,
          0.5649835492072279,
          0.5655635088611374,
          0.5651830066767828
         ]
        },
        {
         "marker": {
          "maxdisplayed": 10
         },
         "mode": "lines+markers",
         "name": "Trial35",
         "type": "scatter",
         "x": [
          1,
          3,
          5,
          7,
          9,
          18,
          37,
          56,
          75,
          94,
          112,
          131,
          150,
          169,
          188
         ],
         "y": [
          null,
          -2.128673757588761,
          -0.5704360576345062,
          0.06053161353915126,
          0.2963599398204002,
          0.49994890016311133,
          0.5145541685300823,
          0.5177950802440658,
          0.5210896916049113,
          0.5202354477533896,
          0.5218790007444893,
          0.52299994465371,
          0.523046956302651,
          0.5239920521147421,
          0.5240889868930827
         ]
        },
        {
         "marker": {
          "maxdisplayed": 10
         },
         "mode": "lines+markers",
         "name": "Trial36",
         "type": "scatter",
         "x": [
          1,
          2,
          4,
          5,
          7,
          14,
          29,
          44,
          59,
          74,
          89,
          104,
          119,
          134,
          149
         ],
         "y": [
          null,
          -3.7038289895803125,
          -1.1689453495334066,
          -0.5560507635374268,
          0.07076944947400499,
          0.4985073641852952,
          0.5437597597724058,
          0.5486747124930632,
          0.5528829791570273,
          0.5532259048781762,
          0.5554519294922491,
          0.5563194893157597,
          0.5572562362702734,
          0.5587267242251348,
          0.5588518904291413
         ]
        },
        {
         "marker": {
          "maxdisplayed": 10
         },
         "mode": "lines+markers",
         "name": "Trial37",
         "type": "scatter",
         "x": [
          1,
          2,
          4,
          5,
          7,
          14,
          28,
          43,
          57,
          72,
          86,
          100,
          115,
          129,
          144
         ],
         "y": [
          null,
          -3.770954859318512,
          -1.2201417647101453,
          -0.6041523317764921,
          0.04284687132432363,
          0.47902045082498634,
          0.5361294997204484,
          0.5494060795118006,
          0.553466572634679,
          0.5563913358420598,
          0.558939272139422,
          0.5614577813140216,
          0.5618169134036961,
          0.5608200318119221,
          0.5606139907953611
         ]
        },
        {
         "marker": {
          "maxdisplayed": 10
         },
         "mode": "lines+markers",
         "name": "Trial38",
         "type": "scatter",
         "x": [
          1,
          2,
          4,
          5,
          7,
          14,
          29,
          43,
          58,
          72,
          87,
          101,
          116,
          130,
          145
         ],
         "y": [
          null,
          -3.76971746856964,
          -1.232501038866865,
          -0.6360037515867711,
          0.0035146871678249925,
          0.4561329384963799,
          0.5030260433916158,
          0.516616020481885,
          0.5267145173984018,
          0.5310996595556514,
          0.5334063473271431,
          0.5348694724772743,
          0.5366614023986668,
          0.5377276447488373,
          0.5382330771343002
         ]
        },
        {
         "marker": {
          "maxdisplayed": 10
         },
         "mode": "lines+markers",
         "name": "Trial39",
         "type": "scatter",
         "x": [
          1,
          3,
          5,
          7,
          9,
          18,
          37,
          55,
          74,
          92,
          111,
          129,
          148,
          166,
          185
         ],
         "y": [
          null,
          -2.148241488247783,
          -0.5592238515261643,
          0.06756784297741703,
          0.31662184667561877,
          0.5291169913476795,
          0.547429281461428,
          0.5540675215047723,
          0.5546586693366886,
          0.5564773248072712,
          0.5570021316087526,
          0.5594948354108857,
          0.559767363913711,
          0.56061808729468,
          0.5607412807425567
         ]
        },
        {
         "marker": {
          "maxdisplayed": 10
         },
         "mode": "lines+markers",
         "name": "Trial40",
         "type": "scatter",
         "x": [
          1,
          3,
          5,
          7,
          9,
          19,
          38,
          57,
          76,
          95,
          114,
          133,
          152,
          171,
          190
         ],
         "y": [
          null,
          -2.3060672763410786,
          -0.6941565004709453,
          -0.040065504558243425,
          0.21743798692866345,
          0.4787315712254351,
          0.5216763018849888,
          0.5378448207924724,
          0.5459062230061489,
          0.5503843530675634,
          0.5511008350756663,
          0.5545211639476687,
          0.5566474137952636,
          0.5590553701390425,
          0.5607051710205802
         ]
        },
        {
         "marker": {
          "maxdisplayed": 10
         },
         "mode": "lines+markers",
         "name": "Trial41",
         "type": "scatter",
         "x": [
          2,
          4,
          6,
          8,
          10,
          20,
          40,
          60,
          80,
          100,
          120,
          140,
          160,
          180,
          201
         ],
         "y": [
          -3.758617234653836,
          -1.2231506268768935,
          -0.25864485973887175,
          0.20745147613046533,
          0.3606940859552815,
          0.5184343275429577,
          0.5480673990303047,
          0.554931371666644,
          0.5588049971349576,
          0.5591205500263631,
          0.5601645575208198,
          0.560880980118507,
          0.5617488549940453,
          0.5625449093721779,
          0.5623422350568275
         ]
        },
        {
         "marker": {
          "maxdisplayed": 10
         },
         "mode": "lines+markers",
         "name": "Trial42",
         "type": "scatter",
         "x": [
          1,
          3,
          5,
          6,
          8,
          17,
          34,
          51,
          68,
          85,
          102,
          118,
          136,
          153,
          170
         ],
         "y": [
          null,
          -2.148115729738098,
          -0.5758870669327227,
          -0.21977783323744404,
          0.2323159605472358,
          0.5126033587854157,
          0.5311382878819191,
          0.5413322915437822,
          0.5432650063337499,
          0.5469437291709305,
          0.5488924632391486,
          0.5483652605348686,
          0.5506598165143375,
          0.552735371369809,
          0.5530390174957913
         ]
        },
        {
         "marker": {
          "maxdisplayed": 10
         },
         "mode": "lines+markers",
         "name": "Trial43",
         "type": "scatter",
         "x": [
          1,
          3,
          4,
          6,
          7,
          15,
          30,
          45,
          61,
          76,
          91,
          107,
          122,
          137,
          153
         ],
         "y": [
          null,
          -2.138138752362768,
          -1.1447729960888315,
          -0.2024355596310734,
          0.0777165851362408,
          0.5186207186120813,
          0.5473730884387638,
          0.5558060099563662,
          0.5589913218177807,
          0.5605947133581948,
          0.5627885237331776,
          0.5623201042401353,
          0.5628035273397503,
          0.562763049995963,
          0.5637508370657076
         ]
        },
        {
         "marker": {
          "maxdisplayed": 10
         },
         "mode": "lines+markers",
         "name": "Trial44",
         "type": "scatter",
         "x": [
          2,
          4,
          6,
          8,
          11,
          22,
          44,
          67,
          89,
          112,
          134,
          156,
          179,
          201,
          224
         ],
         "y": [
          -3.696407372505913,
          -1.1686558403361391,
          -0.20982403765887558,
          0.250916686689191,
          0.4455651619727943,
          0.5328231090427213,
          0.551596282174476,
          0.5574531764607009,
          0.5609556296876181,
          0.5613096246744509,
          0.5625951330561785,
          0.5639607445563787,
          0.5654444999673495,
          0.5648896819057356,
          0.5652411809770597
         ]
        },
        {
         "marker": {
          "maxdisplayed": 10
         },
         "mode": "lines+markers",
         "name": "Trial45",
         "type": "scatter",
         "x": [
          1,
          2,
          4,
          5,
          6,
          13,
          26,
          40,
          53,
          67,
          80,
          93,
          107,
          120,
          134
         ],
         "y": [
          null,
          -3.735881491136414,
          -1.2165177945706716,
          -0.6265805066233494,
          -0.25366501778624784,
          0.46904728995102896,
          0.5288576658010574,
          0.5449982374277897,
          0.5506674319261942,
          0.5543586844122835,
          0.5553571009367142,
          0.5582544957243367,
          0.5587159604290439,
          0.559406416806971,
          0.5604731725248275
         ]
        },
        {
         "marker": {
          "maxdisplayed": 10
         },
         "mode": "lines+markers",
         "name": "Trial46",
         "type": "scatter",
         "x": [
          2,
          4,
          6,
          8,
          11,
          22,
          44,
          66,
          89,
          111,
          133,
          156,
          178,
          200,
          223
         ],
         "y": [
          -3.7199904545861706,
          -1.1832615943074236,
          -0.21205735932236425,
          0.24280793899618713,
          0.45294654867895945,
          0.5393875573457897,
          0.5550605692465538,
          0.5605156130479511,
          0.5633494668722313,
          0.5647868795741253,
          0.5641335222549335,
          0.5647576549048673,
          0.5649412702500684,
          0.56497889648166,
          0.5654455747692122
         ]
        },
        {
         "marker": {
          "maxdisplayed": 10
         },
         "mode": "lines+markers",
         "name": "Trial47",
         "type": "scatter",
         "x": [
          1,
          2,
          4,
          5,
          7,
          14,
          29,
          43,
          58,
          73,
          87,
          102,
          116,
          131,
          146
         ],
         "y": [
          null,
          -3.8846933912238937,
          -1.3592533093092687,
          -0.7324220056717232,
          -0.06754176244860566,
          0.4188412474257861,
          0.491602336478131,
          0.5056236090515187,
          0.5153144651376573,
          0.5186310709021409,
          0.5258456096278918,
          0.5275188965804671,
          0.5290527192398703,
          0.5304655908627783,
          0.5313453168521578
         ]
        },
        {
         "marker": {
          "maxdisplayed": 10
         },
         "mode": "lines+markers",
         "name": "Trial48",
         "type": "scatter",
         "x": [
          2,
          4,
          7,
          9,
          12,
          24,
          49,
          74,
          99,
          124,
          149,
          174,
          199,
          224,
          249
         ],
         "y": [
          -3.6440522723243767,
          -1.105075982270689,
          0.12552246973863823,
          0.35888240387256687,
          0.5094826265201768,
          0.5453801326585315,
          0.5501654626197614,
          0.5526129637292783,
          0.5540051586653867,
          0.5546209844290435,
          0.5546852330850771,
          0.5546027027488977,
          0.5543339052013905,
          0.5549177790439158,
          0.554570823055742
         ]
        },
        {
         "marker": {
          "maxdisplayed": 10
         },
         "mode": "lines+markers",
         "name": "Trial49",
         "type": "scatter",
         "x": [
          2,
          4,
          6,
          9,
          11,
          23,
          46,
          69,
          93,
          116,
          139,
          163,
          186,
          209,
          233
         ],
         "y": [
          -3.680755531841581,
          -1.1712303604059815,
          -0.22802883952930175,
          0.2911748177314205,
          0.4163713204929288,
          0.47773177022185664,
          0.49126221258886105,
          0.49280584802671046,
          0.4969423634594464,
          0.4986934861348795,
          0.5001611987104824,
          0.500847090524627,
          0.5013106913179938,
          0.5011975801320218,
          0.501827986049207
         ]
        },
        {
         "marker": {
          "maxdisplayed": 10
         },
         "mode": "lines+markers",
         "name": "Trial50",
         "type": "scatter",
         "x": [
          1,
          3,
          5,
          7,
          9,
          18,
          36,
          54,
          73,
          91,
          109,
          128,
          146,
          164,
          183
         ],
         "y": [
          null,
          -2.20489802072138,
          -0.6209624024120799,
          0.021513023285779087,
          0.2813939256669259,
          0.5176457426385829,
          0.5466646038834674,
          0.5517856038357689,
          0.5551727476372481,
          0.5583264259192311,
          0.5599928074549756,
          0.5607104736475298,
          0.5609846734666805,
          0.5608475199456435,
          0.5612643538892592
         ]
        },
        {
         "marker": {
          "maxdisplayed": 10
         },
         "mode": "lines+markers",
         "name": "Trial51",
         "type": "scatter",
         "x": [
          1,
          3,
          4,
          6,
          7,
          15,
          31,
          47,
          63,
          79,
          95,
          111,
          127,
          143,
          159
         ],
         "y": [
          null,
          -2.123576191988331,
          -1.1478228793029697,
          -0.18847570408910053,
          0.092227690717957,
          0.5199911630555208,
          0.5484217460162053,
          0.5551571248259508,
          0.558490319192521,
          0.5622545658567806,
          0.5629698540169292,
          0.5638463984541884,
          0.5642283203582186,
          0.5641057590879526,
          0.564303148688579
         ]
        },
        {
         "marker": {
          "maxdisplayed": 10
         },
         "mode": "lines+markers",
         "name": "Trial52",
         "type": "scatter",
         "x": [
          2,
          4,
          6,
          8,
          11,
          22,
          44,
          66,
          88,
          110,
          132,
          154,
          176,
          198,
          221
         ],
         "y": [
          -3.6790433613962765,
          -1.1361987365565094,
          -0.1839292863020774,
          0.2638004988936773,
          0.4669903967373261,
          0.539460807822296,
          0.5504667757064645,
          0.5532426602153584,
          0.5559503593586885,
          0.5561071198489294,
          0.5572211030989249,
          0.558112352427028,
          0.5593770469192035,
          0.5596660628848324,
          0.560103275644464
         ]
        },
        {
         "marker": {
          "maxdisplayed": 10
         },
         "mode": "lines+markers",
         "name": "Trial53",
         "type": "scatter",
         "x": [
          2,
          4,
          6,
          8,
          10,
          20,
          40,
          60,
          80,
          101,
          121,
          141,
          161,
          181,
          202
         ],
         "y": [
          -3.7084388833754165,
          -1.156600151880692,
          -0.1968171355232382,
          0.25775233115828566,
          0.3972213819046737,
          0.5301064975312499,
          0.5472858545193882,
          0.5525922334905691,
          0.5577663485418596,
          0.5604440671808939,
          0.5616482527842938,
          0.5623055046681099,
          0.5629488326777985,
          0.5631185740694569,
          0.5623397296552644
         ]
        },
        {
         "marker": {
          "maxdisplayed": 10
         },
         "mode": "lines+markers",
         "name": "Trial54",
         "type": "scatter",
         "x": [
          1,
          3,
          5,
          7,
          8,
          17,
          35,
          53,
          70,
          88,
          106,
          123,
          141,
          159,
          177
         ],
         "y": [
          null,
          -2.1311054682686033,
          -0.5442169105660313,
          0.08670364024358401,
          0.2657866983209981,
          0.5284374471186304,
          0.5535398160958136,
          0.55959273988815,
          0.5632563663331478,
          0.5644276844303484,
          0.5653162312725655,
          0.5663609657038615,
          0.566320099091947,
          0.5660660299747773,
          0.5659950649095347
         ]
        },
        {
         "marker": {
          "maxdisplayed": 10
         },
         "mode": "lines+markers",
         "name": "Trial55",
         "type": "scatter",
         "x": [
          1,
          2,
          3,
          4,
          6,
          12,
          24,
          36,
          48,
          61,
          73,
          85,
          97,
          109,
          122
         ],
         "y": [
          null,
          -3.6587362049790375,
          -2.084543311010554,
          -1.113624205525603,
          -0.15993193748955026,
          0.49553725274415394,
          0.5461944702618866,
          0.5503081769697742,
          0.5551636998284193,
          0.5567423906441766,
          0.558911328035104,
          0.5597491703288686,
          0.560591224585764,
          0.561740008993163,
          0.5619635852266609
         ]
        },
        {
         "marker": {
          "maxdisplayed": 10
         },
         "mode": "lines+markers",
         "name": "Trial56",
         "type": "scatter",
         "x": [
          1,
          3,
          4,
          6,
          8,
          16,
          32,
          48,
          64,
          81,
          97,
          113,
          129,
          145,
          162
         ],
         "y": [
          null,
          -2.096623220465931,
          -1.1342122717367986,
          -0.17332605177178362,
          0.2737024531706108,
          0.5293680002950683,
          0.5510975027770919,
          0.5596847606845714,
          0.5610879297930649,
          0.5620179295249824,
          0.5639520304641344,
          0.563400353087133,
          0.5635433843575854,
          0.5644686599841959,
          0.5647920302847659
         ]
        },
        {
         "marker": {
          "maxdisplayed": 10
         },
         "mode": "lines+markers",
         "name": "Trial57",
         "type": "scatter",
         "x": [
          1,
          2,
          4,
          5,
          7,
          14,
          28,
          42,
          56,
          70,
          84,
          98,
          112,
          126,
          141
         ],
         "y": [
          null,
          -3.6800538870703887,
          -1.1395051088534007,
          -0.5410968177299247,
          0.09045291116533749,
          0.511334224213702,
          0.5484752344994639,
          0.5557589682489155,
          0.5602550077848472,
          0.563783989160222,
          0.564172606508045,
          0.5634344042955939,
          0.5634631800536318,
          0.5634661188439944,
          0.5643576332278132
         ]
        },
        {
         "marker": {
          "maxdisplayed": 10
         },
         "mode": "lines+markers",
         "name": "Trial58",
         "type": "scatter",
         "x": [
          2,
          4,
          7,
          9,
          11,
          23,
          47,
          71,
          94,
          118,
          142,
          165,
          189,
          213,
          237
         ],
         "y": [
          -3.6864990806964544,
          -1.154983026380009,
          0.07355479411250643,
          0.3067682637083067,
          0.44005888497889756,
          0.5180789571305644,
          0.5362230214576267,
          0.538412295970345,
          0.5416012194241961,
          0.5419775579084011,
          0.5433110509230803,
          0.5437795212960503,
          0.5439865783687123,
          0.5445608623792009,
          0.5444594936121414
         ]
        },
        {
         "marker": {
          "maxdisplayed": 10
         },
         "mode": "lines+markers",
         "name": "Trial59",
         "type": "scatter",
         "x": [
          2,
          4,
          6,
          8,
          10,
          20,
          40,
          60,
          80,
          100,
          120,
          140,
          160,
          180,
          200
         ],
         "y": [
          -3.6893329508468957,
          -1.1374991177384892,
          -0.18025905550505694,
          0.2714905142377465,
          0.4109326840117614,
          0.5305055565195214,
          0.5455075026354632,
          0.5462094200849743,
          0.5467158131338961,
          0.5493096131993644,
          0.5500754206212252,
          0.5521626497407637,
          0.5512608014645172,
          0.5511799878025891,
          0.5514721353221497
         ]
        },
        {
         "marker": {
          "maxdisplayed": 10
         },
         "mode": "lines+markers",
         "name": "Trial60",
         "type": "scatter",
         "x": [
          2,
          4,
          6,
          8,
          10,
          21,
          42,
          63,
          85,
          106,
          127,
          149,
          170,
          191,
          213
         ],
         "y": [
          -3.7124377760434815,
          -1.2080362884358093,
          -0.2639623957230295,
          0.18746880330808469,
          0.33557234380136114,
          0.4673505045121037,
          0.486820473301642,
          0.4946993012918788,
          0.49738910883717113,
          0.5005046483896756,
          0.5016681397176959,
          0.5036026542204066,
          0.5053386564001945,
          0.5048142726755238,
          0.5064815680324122
         ]
        },
        {
         "marker": {
          "maxdisplayed": 10
         },
         "mode": "lines+markers",
         "name": "Trial61",
         "type": "scatter",
         "x": [
          1,
          2,
          3,
          4,
          5,
          11,
          22,
          33,
          45,
          56,
          67,
          79,
          90,
          101,
          113
         ],
         "y": [
          null,
          -3.667548479688164,
          -2.090847424322047,
          -1.1133864706981607,
          -0.5219038278001717,
          0.4660848658472382,
          0.5387734384245884,
          0.5455157941025642,
          0.5524894202146654,
          0.5543507082102455,
          0.555101836567454,
          0.554820393507163,
          0.5558197981248203,
          0.5558505850895806,
          0.5568981428299183
         ]
        },
        {
         "marker": {
          "maxdisplayed": 10
         },
         "mode": "lines+markers",
         "name": "Trial62",
         "type": "scatter",
         "x": [
          1,
          2,
          4,
          5,
          7,
          14,
          28,
          42,
          56,
          70,
          84,
          98,
          112,
          126,
          141
         ],
         "y": [
          null,
          -3.6868704107886856,
          -1.1500661359140105,
          -0.5569527505525811,
          0.09225265627586088,
          0.514360743412517,
          0.5535108701885985,
          0.5594243408421858,
          0.5595291986006627,
          0.5625181179463684,
          0.5632808414067527,
          0.5643688071524008,
          0.5636544968013184,
          0.5634974666193526,
          0.5637260891673987
         ]
        },
        {
         "marker": {
          "maxdisplayed": 10
         },
         "mode": "lines+markers",
         "name": "Trial63",
         "type": "scatter",
         "x": [
          1,
          2,
          3,
          5,
          6,
          13,
          26,
          39,
          52,
          65,
          78,
          91,
          104,
          117,
          131
         ],
         "y": [
          null,
          -3.70376665809529,
          -2.1372814496214763,
          -0.5560722507054356,
          -0.19966034932297627,
          0.49235389678335306,
          0.5413204023338223,
          0.5490822918355662,
          0.5528025650733416,
          0.5565709881854608,
          0.5580507613234134,
          0.5580871262793611,
          0.5593719255935052,
          0.5599657501213016,
          0.5605539141900391
         ]
        },
        {
         "marker": {
          "maxdisplayed": 10
         },
         "mode": "lines+markers",
         "name": "Trial64",
         "type": "scatter",
         "x": [
          1,
          3,
          4,
          6,
          7,
          15,
          30,
          45,
          60,
          75,
          90,
          105,
          120,
          135,
          151
         ],
         "y": [
          null,
          -2.122053097318245,
          -1.140379770111482,
          -0.19281740250122525,
          0.09061598702591023,
          0.5148316071292987,
          0.5467481253890638,
          0.5555918855076849,
          0.5593618497983884,
          0.5608673525041988,
          0.561354659597291,
          0.5630937172150001,
          0.5642998463886524,
          0.5647616687242195,
          0.5649714466189373
         ]
        },
        {
         "marker": {
          "maxdisplayed": 10
         },
         "mode": "lines+markers",
         "name": "Trial65",
         "type": "scatter",
         "x": [
          1,
          3,
          4,
          6,
          7,
          15,
          30,
          45,
          60,
          76,
          91,
          106,
          121,
          136,
          152
         ],
         "y": [
          null,
          -2.147699243495045,
          -1.157097474741037,
          -0.2016797861740065,
          0.07851856147486713,
          0.5069845981076684,
          0.5425632848857329,
          0.5517588405084594,
          0.556495894751632,
          0.5582475769773287,
          0.5582765619677887,
          0.5600133342433643,
          0.5617257316171556,
          0.5618343127963387,
          0.5636619779979204
         ]
        },
        {
         "marker": {
          "maxdisplayed": 10
         },
         "mode": "lines+markers",
         "name": "Trial66",
         "type": "scatter",
         "x": [
          1,
          3,
          5,
          6,
          8,
          16,
          33,
          50,
          67,
          84,
          100,
          117,
          134,
          151,
          168
         ],
         "y": [
          null,
          -2.1225484984596723,
          -0.5379763535912414,
          -0.17917843513937082,
          0.26539813011344415,
          0.5208886837515689,
          0.5435294505186733,
          0.554398151487987,
          0.5599239020235849,
          0.5615883221714013,
          0.5643462164811472,
          0.5645620614674005,
          0.5645744793546936,
          0.5651574385550169,
          0.5651360293223391
         ]
        },
        {
         "marker": {
          "maxdisplayed": 10
         },
         "mode": "lines+markers",
         "name": "Trial67",
         "type": "scatter",
         "x": [
          1,
          2,
          3,
          5,
          6,
          12,
          25,
          38,
          50,
          63,
          76,
          88,
          101,
          114,
          127
         ],
         "y": [
          null,
          -3.7223424454339336,
          -2.1497788993742164,
          -0.5717397747690292,
          -0.21307778878037165,
          0.4784635962024033,
          0.5400940590521911,
          0.548382410077568,
          0.5523747100006406,
          0.5566869364447511,
          0.5607948573581556,
          0.5607638687634523,
          0.5609813445864557,
          0.5604587515718118,
          0.5611447300758453
         ]
        },
        {
         "marker": {
          "maxdisplayed": 10
         },
         "mode": "lines+markers",
         "name": "Trial68",
         "type": "scatter",
         "x": [
          1,
          2,
          3,
          5,
          6,
          13,
          26,
          39,
          52,
          65,
          78,
          91,
          104,
          117,
          130
         ],
         "y": [
          null,
          -3.733574208515331,
          -2.1747007061557784,
          -0.589147309498737,
          -0.22483828427203956,
          0.47866051413251043,
          0.5322334072709454,
          0.5427809918805423,
          0.5504355780869152,
          0.5541066551062497,
          0.5546224349756992,
          0.5555221759479783,
          0.5572468969022519,
          0.5584157857662205,
          0.5592306142791922
         ]
        },
        {
         "marker": {
          "maxdisplayed": 10
         },
         "mode": "lines+markers",
         "name": "Trial69",
         "type": "scatter",
         "x": [
          1,
          2,
          3,
          4,
          5,
          11,
          23,
          35,
          46,
          58,
          70,
          81,
          93,
          105,
          117
         ],
         "y": [
          null,
          -3.7603291983873097,
          -2.200548261364358,
          -1.2212521729848524,
          -0.6234106757446163,
          0.42585977995284685,
          0.5166908827321215,
          0.5225477760239539,
          0.5355099308087683,
          0.5404853872479218,
          0.5411692652379363,
          0.5432375181007696,
          0.5455441648448639,
          0.5460694494368241,
          0.5478757624203286
         ]
        },
        {
         "marker": {
          "maxdisplayed": 10
         },
         "mode": "lines+markers",
         "name": "Trial70",
         "type": "scatter",
         "x": [
          1,
          2,
          4,
          5,
          7,
          14,
          29,
          44,
          58,
          73,
          88,
          102,
          117,
          132,
          147
         ],
         "y": [
          null,
          -3.7136656289938337,
          -1.170684395338963,
          -0.5672151081817036,
          0.07440933708173214,
          0.49966383154531036,
          0.5375807179725367,
          0.5409032742678266,
          0.5434748283167066,
          0.5456992323809633,
          0.5479796261755726,
          0.5487276129225829,
          0.5492537474470667,
          0.5500696686199393,
          0.550241575185769
         ]
        },
        {
         "marker": {
          "maxdisplayed": 10
         },
         "mode": "lines+markers",
         "name": "Trial71",
         "type": "scatter",
         "x": [
          1,
          2,
          4,
          5,
          6,
          13,
          27,
          41,
          54,
          68,
          82,
          95,
          109,
          123,
          137
         ],
         "y": [
          null,
          -3.7271748954263915,
          -1.191835870033883,
          -0.5883899772702765,
          -0.22922508911519146,
          0.46990831130410937,
          0.5352713761893055,
          0.5478183659530056,
          0.5525604828636421,
          0.556880465130011,
          0.5586652742776512,
          0.560404066994145,
          0.561681328387021,
          0.561778658959085,
          0.5611778367156033
         ]
        },
        {
         "marker": {
          "maxdisplayed": 10
         },
         "mode": "lines+markers",
         "name": "Trial72",
         "type": "scatter",
         "x": [
          1,
          2,
          3,
          5,
          6,
          12,
          25,
          37,
          50,
          63,
          75,
          88,
          100,
          113,
          126
         ],
         "y": [
          null,
          -3.6782902398390744,
          -2.101718021851872,
          -0.54070701027774,
          -0.19036413662819873,
          0.4964285680070505,
          0.5490958562613119,
          0.558915468761582,
          0.5619902176770597,
          0.5641449876720267,
          0.5656688568662418,
          0.5652189014858562,
          0.5657422577955242,
          0.5665037100465213,
          0.5666893091888889
         ]
        },
        {
         "marker": {
          "maxdisplayed": 10
         },
         "mode": "lines+markers",
         "name": "Trial73",
         "type": "scatter",
         "x": [
          1,
          3,
          4,
          6,
          8,
          16,
          32,
          48,
          64,
          80,
          96,
          112,
          128,
          144,
          160
         ],
         "y": [
          null,
          -2.112564011925816,
          -1.1386795838793646,
          -0.1776219604682059,
          0.2805084460937589,
          0.5327418945043927,
          0.5477874496641904,
          0.5563272206047145,
          0.559530612228162,
          0.5603941774699744,
          0.5626189765260428,
          0.5632254475270229,
          0.5646838833842533,
          0.5655638299807566,
          0.5654245772428189
         ]
        },
        {
         "marker": {
          "maxdisplayed": 10
         },
         "mode": "lines+markers",
         "name": "Trial74",
         "type": "scatter",
         "x": [
          1,
          3,
          4,
          6,
          8,
          16,
          32,
          48,
          64,
          80,
          96,
          112,
          128,
          144,
          160
         ],
         "y": [
          null,
          -2.112564011925816,
          -1.1386795838793646,
          -0.1776219604682059,
          0.2805084460937589,
          0.5327418945043927,
          0.5477874496641904,
          0.5563272206047145,
          0.559530612228162,
          0.5603941774699744,
          0.5626189765260428,
          0.5632254475270229,
          0.5646838833842533,
          0.5655638299807566,
          0.5654245772428189
         ]
        },
        {
         "marker": {
          "maxdisplayed": 10
         },
         "mode": "lines+markers",
         "name": "Trial75",
         "type": "scatter",
         "x": [
          1,
          3,
          5,
          6,
          8,
          16,
          33,
          50,
          67,
          84,
          100,
          117,
          134,
          151,
          168
         ],
         "y": [
          null,
          -2.1454635888813747,
          -0.5560507635374268,
          -0.20693415647163493,
          0.25014367634399426,
          0.516626555651615,
          0.5445408940853291,
          0.550011472342095,
          0.5523195597515917,
          0.5537488551618219,
          0.5566062593207803,
          0.5571995692552869,
          0.5587267242251348,
          0.5586186322560955,
          0.5598465289677594
         ]
        },
        {
         "marker": {
          "maxdisplayed": 10
         },
         "mode": "lines+markers",
         "name": "Trial76",
         "type": "scatter",
         "x": [
          1,
          3,
          5,
          6,
          8,
          16,
          33,
          50,
          67,
          84,
          100,
          117,
          134,
          151,
          168
         ],
         "y": [
          null,
          -2.149097712984499,
          -0.5604646386722529,
          -0.21198057153605698,
          0.24526625526833024,
          0.5201357094071926,
          0.5459210190312546,
          0.5514040539004854,
          0.5538508024213233,
          0.5553069412143583,
          0.5578616033882076,
          0.5582648039971926,
          0.5595697922772405,
          0.559491369909987,
          0.5606950295633633
         ]
        },
        {
         "marker": {
          "maxdisplayed": 10
         },
         "mode": "lines+markers",
         "name": "Trial77",
         "type": "scatter",
         "x": [
          1,
          3,
          5,
          6,
          8,
          16,
          33,
          50,
          67,
          84,
          100,
          117,
          134,
          151,
          168
         ],
         "y": [
          null,
          -2.084575712457777,
          -0.5225413443307543,
          -0.1707755617876836,
          0.2712281765962856,
          0.5235569168204182,
          0.5453345818103232,
          0.548608820180484,
          0.5499281766506228,
          0.5517534800157278,
          0.5526214011266906,
          0.5531663760039081,
          0.5534260541820708,
          0.5543724536376284,
          0.554642434181924
         ]
        },
        {
         "marker": {
          "maxdisplayed": 10
         },
         "mode": "lines+markers",
         "name": "Trial78",
         "type": "scatter",
         "x": [
          1,
          3,
          5,
          7,
          8,
          17,
          35,
          52,
          70,
          88,
          105,
          123,
          140,
          158,
          176
         ],
         "y": [
          null,
          -2.150712107124133,
          -0.5806218583783647,
          0.04885892065757047,
          0.22577094589876945,
          0.5088824935600356,
          0.5398789081683547,
          0.546036391496305,
          0.5510209757738651,
          0.5532879406327704,
          0.5539192804358682,
          0.5580464655140859,
          0.5596439698299343,
          0.5603787515646494,
          0.5611413733745315
         ]
        },
        {
         "marker": {
          "maxdisplayed": 10
         },
         "mode": "lines+markers",
         "name": "Trial79",
         "type": "scatter",
         "x": [
          1,
          3,
          5,
          7,
          9,
          19,
          38,
          57,
          76,
          95,
          114,
          133,
          152,
          171,
          191
         ],
         "y": [
          null,
          -2.2888577092987474,
          -0.7084906883717978,
          -0.044175668104316834,
          0.23260731200649487,
          0.48842752274333046,
          0.5228540153945509,
          0.539507467948557,
          0.543872747197798,
          0.5490127662130608,
          0.5516877054955842,
          0.5535576344415152,
          0.5564995307104437,
          0.5576092468388012,
          0.5586597529117738
         ]
        },
        {
         "marker": {
          "maxdisplayed": 10
         },
         "mode": "lines+markers",
         "name": "Trial80",
         "type": "scatter",
         "x": [
          1,
          3,
          5,
          7,
          9,
          18,
          37,
          56,
          75,
          94,
          113,
          132,
          151,
          170,
          189
         ],
         "y": [
          null,
          -2.2660751040681646,
          -0.6860100374310865,
          -0.003969084357259067,
          0.2592437912073542,
          0.49271843257090153,
          0.5350193105716168,
          0.5490377969181703,
          0.5505249956243865,
          0.5530153156471105,
          0.5542521081655516,
          0.5571686950998342,
          0.5595156924464006,
          0.5588640845926911,
          0.5590274041680136
         ]
        },
        {
         "marker": {
          "maxdisplayed": 10
         },
         "mode": "lines+markers",
         "name": "Trial81",
         "type": "scatter",
         "x": [
          1,
          3,
          5,
          7,
          9,
          19,
          39,
          59,
          78,
          98,
          118,
          137,
          157,
          177,
          197
         ],
         "y": [
          null,
          -2.290811679404478,
          -0.6998440338073177,
          -0.03300683363723267,
          0.23095644477755428,
          0.4941007928007337,
          0.53964528565483,
          0.5467738140305625,
          0.5506445419966765,
          0.5537234210692745,
          0.5539195481341534,
          0.555338335789828,
          0.5553306360724524,
          0.5558708925714275,
          0.5573201196615081
         ]
        },
        {
         "marker": {
          "maxdisplayed": 10
         },
         "mode": "lines+markers",
         "name": "Trial82",
         "type": "scatter",
         "x": [
          1,
          3,
          5,
          7,
          9,
          18,
          36,
          54,
          72,
          91,
          109,
          127,
          145,
          163,
          182
         ],
         "y": [
          null,
          -2.201748954241212,
          -0.6162625534703978,
          0.03043551878569206,
          0.2833036556286628,
          0.5098298090542884,
          0.5414328959493506,
          0.5538040107636337,
          0.5545921134210452,
          0.5561878541026025,
          0.5575491167739967,
          0.5581591456015873,
          0.5589884970061231,
          0.5596922455908903,
          0.5599128697311371
         ]
        },
        {
         "marker": {
          "maxdisplayed": 10
         },
         "mode": "lines+markers",
         "name": "Trial83",
         "type": "scatter",
         "x": [
          2,
          4,
          6,
          8,
          10,
          20,
          41,
          62,
          83,
          104,
          124,
          145,
          166,
          187,
          208
         ],
         "y": [
          -3.7653550565013267,
          -1.2204211982026458,
          -0.25048750283088883,
          0.21287350808436478,
          0.364153666352243,
          0.5158058880866756,
          0.5454297468219085,
          0.551930499007689,
          0.5567433218325895,
          0.558435676758085,
          0.5597875007840654,
          0.5599802845219899,
          0.5599813756928168,
          0.5618256795355279,
          0.563206420647845
         ]
        },
        {
         "marker": {
          "maxdisplayed": 10
         },
         "mode": "lines+markers",
         "name": "Trial84",
         "type": "scatter",
         "x": [
          1,
          3,
          5,
          7,
          9,
          19,
          38,
          58,
          77,
          97,
          116,
          135,
          155,
          174,
          194
         ],
         "y": [
          null,
          -2.116920466642151,
          -0.5478523878941215,
          0.09058632207124984,
          0.3268380623486252,
          0.5342745116235579,
          0.5504161688304283,
          0.5583366665312173,
          0.5599716057782345,
          0.5615567489913822,
          0.5620094824097865,
          0.5639487207872576,
          0.5646813469390836,
          0.5648744075028812,
          0.5655048732461679
         ]
        },
        {
         "marker": {
          "maxdisplayed": 10
         },
         "mode": "lines+markers",
         "name": "Trial85",
         "type": "scatter",
         "x": [
          1,
          3,
          5,
          6,
          8,
          17,
          34,
          51,
          68,
          86,
          103,
          120,
          137,
          154,
          172
         ],
         "y": [
          null,
          -2.1362600324987446,
          -0.5513445190383592,
          -0.19131476909576328,
          0.258993353722372,
          0.5286242592894337,
          0.5449101196085778,
          0.5567952894922268,
          0.55941432372054,
          0.5604173239193877,
          0.5624640043984527,
          0.5625821416480712,
          0.5641087998742835,
          0.5646725671108925,
          0.565136597566861
         ]
        },
        {
         "marker": {
          "maxdisplayed": 10
         },
         "mode": "lines+markers",
         "name": "Trial86",
         "type": "scatter",
         "x": [
          1,
          3,
          5,
          6,
          8,
          17,
          34,
          51,
          69,
          86,
          103,
          121,
          138,
          155,
          173
         ],
         "y": [
          null,
          -2.1362600324987446,
          -0.5513445190383592,
          -0.19131476909576328,
          0.258993353722372,
          0.5286242592894337,
          0.5449101196085778,
          0.5567952894922268,
          0.5598360827447643,
          0.5604173239193877,
          0.5624640043984527,
          0.5629490156565251,
          0.5643352437536777,
          0.5645373700711933,
          0.5650987356523278
         ]
        },
        {
         "marker": {
          "maxdisplayed": 10
         },
         "mode": "lines+markers",
         "name": "Trial87",
         "type": "scatter",
         "x": [
          1,
          3,
          4,
          6,
          7,
          15,
          31,
          46,
          62,
          77,
          93,
          108,
          124,
          139,
          155
         ],
         "y": [
          null,
          -2.136598777591859,
          -1.1593271945500527,
          -0.21588062774092842,
          0.05812894307973471,
          0.5029206243646366,
          0.5446146263380748,
          0.5519794673317782,
          0.557190125033161,
          0.5600247504975441,
          0.5604796560683403,
          0.5630505187395762,
          0.563575527212159,
          0.5635512130201445,
          0.5636673115922444
         ]
        },
        {
         "marker": {
          "maxdisplayed": 10
         },
         "mode": "lines+markers",
         "name": "Trial88",
         "type": "scatter",
         "x": [
          1,
          3,
          5,
          7,
          9,
          18,
          36,
          54,
          73,
          91,
          109,
          128,
          146,
          164,
          183
         ],
         "y": [
          null,
          -2.1852436883999213,
          -0.618833226485497,
          0.029580562827817958,
          0.286441206015991,
          0.5066822835050271,
          0.5458100914313733,
          0.5563656123693961,
          0.5612306250884703,
          0.5631663801337328,
          0.5657335830078969,
          0.5659100169086724,
          0.5667770866480539,
          0.5672339303266438,
          0.5681570511161587
         ]
        },
        {
         "marker": {
          "maxdisplayed": 10
         },
         "mode": "lines+markers",
         "name": "Trial89",
         "type": "scatter",
         "x": [
          1,
          3,
          4,
          6,
          8,
          16,
          33,
          49,
          66,
          83,
          99,
          116,
          132,
          149,
          166
         ],
         "y": [
          null,
          -2.1507947696506458,
          -1.1809438394086107,
          -0.21483605981415566,
          0.24033075864125275,
          0.5027760050844206,
          0.5270712909048816,
          0.5374212399763905,
          0.5408704911894707,
          0.5447948497573859,
          0.5468185770464424,
          0.5481433451533075,
          0.5488836171574747,
          0.5497245566917282,
          0.5501308566545142
         ]
        },
        {
         "marker": {
          "maxdisplayed": 10
         },
         "mode": "lines+markers",
         "name": "Trial90",
         "type": "scatter",
         "x": [
          1,
          3,
          5,
          7,
          9,
          19,
          39,
          58,
          78,
          98,
          117,
          137,
          156,
          176,
          196
         ],
         "y": [
          null,
          -2.1218372862182275,
          -0.557174836190822,
          0.08270918180625197,
          0.32804985018408706,
          0.5322944872499986,
          0.5531713685138253,
          0.5586711185631064,
          0.5620471861999459,
          0.5655755652993752,
          0.5671396813969787,
          0.5672684351572888,
          0.5681498346229195,
          0.5685784441500081,
          0.5684477900397542
         ]
        },
        {
         "marker": {
          "maxdisplayed": 10
         },
         "mode": "lines+markers",
         "name": "Trial91",
         "type": "scatter",
         "x": [
          1,
          3,
          5,
          7,
          9,
          18,
          36,
          54,
          72,
          90,
          108,
          126,
          144,
          162,
          181
         ],
         "y": [
          null,
          -2.090096264170275,
          -0.5265749643012336,
          0.09501700171424521,
          0.33091270423786334,
          0.5205206916477767,
          0.5306045688397951,
          0.5301769907411511,
          0.5325115936581046,
          0.5327785889652338,
          0.5328248890081051,
          0.5330199663887207,
          0.5346228597605571,
          0.5336189636543229,
          0.5334646223547632
         ]
        },
        {
         "marker": {
          "maxdisplayed": 10
         },
         "mode": "lines+markers",
         "name": "Trial92",
         "type": "scatter",
         "x": [
          2,
          4,
          6,
          8,
          10,
          21,
          42,
          63,
          84,
          105,
          126,
          147,
          168,
          189,
          210
         ],
         "y": [
          -3.6903935993735724,
          -1.163782512266292,
          -0.2030828093649344,
          0.2500343020418354,
          0.3946637867750702,
          0.5325093084632984,
          0.5511027646126766,
          0.5585090281311176,
          0.5594419541376575,
          0.5616288910172686,
          0.5633178105835126,
          0.5644823814952589,
          0.5644856222355938,
          0.5655308150067022,
          0.564950215269842
         ]
        },
        {
         "marker": {
          "maxdisplayed": 10
         },
         "mode": "lines+markers",
         "name": "Trial93",
         "type": "scatter",
         "x": [
          2,
          4,
          6,
          8,
          10,
          21,
          43,
          65,
          86,
          108,
          130,
          151,
          173,
          195,
          217
         ],
         "y": [
          -3.733193580959905,
          -1.1965054776869306,
          -0.23740805008878207,
          0.22333242666155118,
          0.3700346241052995,
          0.5197557268002655,
          0.5510552844950813,
          0.5549664713744324,
          0.5596587379497495,
          0.5623346562671611,
          0.5641052812770024,
          0.5647256915879671,
          0.5650992365383154,
          0.5658797412593415,
          0.5653359687009726
         ]
        },
        {
         "marker": {
          "maxdisplayed": 10
         },
         "mode": "lines+markers",
         "name": "Trial94",
         "type": "scatter",
         "x": [
          2,
          4,
          6,
          9,
          11,
          22,
          45,
          68,
          91,
          114,
          137,
          160,
          183,
          206,
          229
         ],
         "y": [
          -3.733193580959905,
          -1.1965054776869306,
          -0.23740805008878207,
          0.2902957580357244,
          0.42863858605202854,
          0.5224038279430534,
          0.5509529039965363,
          0.5552590888325342,
          0.5600976162254003,
          0.5633426051775376,
          0.5643878534991782,
          0.5649526278469339,
          0.5656878513050398,
          0.5654409306441552,
          0.5656511186040867
         ]
        },
        {
         "marker": {
          "maxdisplayed": 10
         },
         "mode": "lines+markers",
         "name": "Trial95",
         "type": "scatter",
         "x": [
          2,
          4,
          6,
          9,
          11,
          23,
          46,
          69,
          93,
          116,
          139,
          163,
          186,
          209,
          233
         ],
         "y": [
          -3.7590281432514248,
          -1.2201162897983,
          -0.25410655959048967,
          0.286441206015991,
          0.42199528802627284,
          0.5273155722230252,
          0.5549483624849021,
          0.5591299964681691,
          0.5638900377376597,
          0.5663577939386903,
          0.5670088851520885,
          0.567048903943753,
          0.5685447718677512,
          0.5683333571949429,
          0.5682705025377419
         ]
        },
        {
         "marker": {
          "maxdisplayed": 10
         },
         "mode": "lines+markers",
         "name": "Trial96",
         "type": "scatter",
         "x": [
          2,
          4,
          6,
          8,
          10,
          21,
          43,
          65,
          87,
          109,
          130,
          152,
          174,
          196,
          218
         ],
         "y": [
          -3.733193580959905,
          -1.1965054776869306,
          -0.23740805008878207,
          0.22333242666155118,
          0.3700346241052995,
          0.5197557268002655,
          0.5510552844950813,
          0.5549664713744324,
          0.5599988723949747,
          0.5623854272591494,
          0.5641052812770024,
          0.5646135375276196,
          0.5651286768947668,
          0.5659514823618668,
          0.5655245425473786
         ]
        },
        {
         "marker": {
          "maxdisplayed": 10
         },
         "mode": "lines+markers",
         "name": "Trial97",
         "type": "scatter",
         "x": [
          2,
          4,
          6,
          8,
          10,
          21,
          43,
          65,
          87,
          109,
          130,
          152,
          174,
          196,
          218
         ],
         "y": [
          -3.734418217908158,
          -1.1894551990496653,
          -0.23981340343904356,
          0.2311487971881343,
          0.37681908783610674,
          0.5288991017320867,
          0.5498991547778466,
          0.5544598552878363,
          0.5590046099890096,
          0.5602694502510017,
          0.562059056962083,
          0.5636775046341523,
          0.5633814359737542,
          0.5641018024011218,
          0.5653997278713244
         ]
        },
        {
         "marker": {
          "maxdisplayed": 10
         },
         "mode": "lines+markers",
         "name": "Trial98",
         "type": "scatter",
         "x": [
          2,
          4,
          6,
          9,
          11,
          22,
          45,
          68,
          91,
          114,
          136,
          159,
          182,
          205,
          228
         ],
         "y": [
          -3.7497103316542164,
          -1.2368143071999924,
          -0.27710466222094987,
          0.2668377048024987,
          0.4119023132066201,
          0.5184093387806792,
          0.5467138287934399,
          0.5535814604526281,
          0.5571051390021128,
          0.5566650412075647,
          0.5568540182576527,
          0.5575086595047922,
          0.5606640045873863,
          0.5611908387806845,
          0.56153564120558
         ]
        },
        {
         "marker": {
          "maxdisplayed": 10
         },
         "mode": "lines+markers",
         "name": "Trial99",
         "type": "scatter",
         "x": [
          2,
          4,
          6,
          8,
          10,
          20,
          41,
          62,
          82,
          103,
          124,
          144,
          165,
          186,
          207
         ],
         "y": [
          -3.7592677709820626,
          -1.2131175488393855,
          -0.2554502234569769,
          0.21577195388858217,
          0.3617966747345781,
          0.510762129811736,
          0.5430635427054454,
          0.5536115051521742,
          0.557339864990248,
          0.561282688034678,
          0.5615453532752549,
          0.5632485081154026,
          0.5631510964625143,
          0.5637114741707234,
          0.5634433765997175
         ]
        },
        {
         "marker": {
          "maxdisplayed": 10
         },
         "mode": "lines+markers",
         "name": "Trial100",
         "type": "scatter",
         "x": [
          2,
          4,
          6,
          8,
          10,
          21,
          42,
          64,
          85,
          107,
          128,
          149,
          171,
          192,
          214
         ],
         "y": [
          -3.753580337610102,
          -1.1978697151819775,
          -0.22958432536608098,
          0.23427502596311456,
          0.38260086545293903,
          0.52939582378974,
          0.5471155261828469,
          0.5564251026854824,
          0.5596873410172598,
          0.5637925039911276,
          0.5640109604069374,
          0.5639331110778136,
          0.5631310089487288,
          0.5642301475851484,
          0.5649350721709253
         ]
        }
       ],
       "layout": {
        "showlegend": false,
        "template": {
         "data": {
          "bar": [
           {
            "error_x": {
             "color": "#2a3f5f"
            },
            "error_y": {
             "color": "#2a3f5f"
            },
            "marker": {
             "line": {
              "color": "#E5ECF6",
              "width": 0.5
             },
             "pattern": {
              "fillmode": "overlay",
              "size": 10,
              "solidity": 0.2
             }
            },
            "type": "bar"
           }
          ],
          "barpolar": [
           {
            "marker": {
             "line": {
              "color": "#E5ECF6",
              "width": 0.5
             },
             "pattern": {
              "fillmode": "overlay",
              "size": 10,
              "solidity": 0.2
             }
            },
            "type": "barpolar"
           }
          ],
          "carpet": [
           {
            "aaxis": {
             "endlinecolor": "#2a3f5f",
             "gridcolor": "white",
             "linecolor": "white",
             "minorgridcolor": "white",
             "startlinecolor": "#2a3f5f"
            },
            "baxis": {
             "endlinecolor": "#2a3f5f",
             "gridcolor": "white",
             "linecolor": "white",
             "minorgridcolor": "white",
             "startlinecolor": "#2a3f5f"
            },
            "type": "carpet"
           }
          ],
          "choropleth": [
           {
            "colorbar": {
             "outlinewidth": 0,
             "ticks": ""
            },
            "type": "choropleth"
           }
          ],
          "contour": [
           {
            "colorbar": {
             "outlinewidth": 0,
             "ticks": ""
            },
            "colorscale": [
             [
              0,
              "#0d0887"
             ],
             [
              0.1111111111111111,
              "#46039f"
             ],
             [
              0.2222222222222222,
              "#7201a8"
             ],
             [
              0.3333333333333333,
              "#9c179e"
             ],
             [
              0.4444444444444444,
              "#bd3786"
             ],
             [
              0.5555555555555556,
              "#d8576b"
             ],
             [
              0.6666666666666666,
              "#ed7953"
             ],
             [
              0.7777777777777778,
              "#fb9f3a"
             ],
             [
              0.8888888888888888,
              "#fdca26"
             ],
             [
              1,
              "#f0f921"
             ]
            ],
            "type": "contour"
           }
          ],
          "contourcarpet": [
           {
            "colorbar": {
             "outlinewidth": 0,
             "ticks": ""
            },
            "type": "contourcarpet"
           }
          ],
          "heatmap": [
           {
            "colorbar": {
             "outlinewidth": 0,
             "ticks": ""
            },
            "colorscale": [
             [
              0,
              "#0d0887"
             ],
             [
              0.1111111111111111,
              "#46039f"
             ],
             [
              0.2222222222222222,
              "#7201a8"
             ],
             [
              0.3333333333333333,
              "#9c179e"
             ],
             [
              0.4444444444444444,
              "#bd3786"
             ],
             [
              0.5555555555555556,
              "#d8576b"
             ],
             [
              0.6666666666666666,
              "#ed7953"
             ],
             [
              0.7777777777777778,
              "#fb9f3a"
             ],
             [
              0.8888888888888888,
              "#fdca26"
             ],
             [
              1,
              "#f0f921"
             ]
            ],
            "type": "heatmap"
           }
          ],
          "histogram": [
           {
            "marker": {
             "pattern": {
              "fillmode": "overlay",
              "size": 10,
              "solidity": 0.2
             }
            },
            "type": "histogram"
           }
          ],
          "histogram2d": [
           {
            "colorbar": {
             "outlinewidth": 0,
             "ticks": ""
            },
            "colorscale": [
             [
              0,
              "#0d0887"
             ],
             [
              0.1111111111111111,
              "#46039f"
             ],
             [
              0.2222222222222222,
              "#7201a8"
             ],
             [
              0.3333333333333333,
              "#9c179e"
             ],
             [
              0.4444444444444444,
              "#bd3786"
             ],
             [
              0.5555555555555556,
              "#d8576b"
             ],
             [
              0.6666666666666666,
              "#ed7953"
             ],
             [
              0.7777777777777778,
              "#fb9f3a"
             ],
             [
              0.8888888888888888,
              "#fdca26"
             ],
             [
              1,
              "#f0f921"
             ]
            ],
            "type": "histogram2d"
           }
          ],
          "histogram2dcontour": [
           {
            "colorbar": {
             "outlinewidth": 0,
             "ticks": ""
            },
            "colorscale": [
             [
              0,
              "#0d0887"
             ],
             [
              0.1111111111111111,
              "#46039f"
             ],
             [
              0.2222222222222222,
              "#7201a8"
             ],
             [
              0.3333333333333333,
              "#9c179e"
             ],
             [
              0.4444444444444444,
              "#bd3786"
             ],
             [
              0.5555555555555556,
              "#d8576b"
             ],
             [
              0.6666666666666666,
              "#ed7953"
             ],
             [
              0.7777777777777778,
              "#fb9f3a"
             ],
             [
              0.8888888888888888,
              "#fdca26"
             ],
             [
              1,
              "#f0f921"
             ]
            ],
            "type": "histogram2dcontour"
           }
          ],
          "mesh3d": [
           {
            "colorbar": {
             "outlinewidth": 0,
             "ticks": ""
            },
            "type": "mesh3d"
           }
          ],
          "parcoords": [
           {
            "line": {
             "colorbar": {
              "outlinewidth": 0,
              "ticks": ""
             }
            },
            "type": "parcoords"
           }
          ],
          "pie": [
           {
            "automargin": true,
            "type": "pie"
           }
          ],
          "scatter": [
           {
            "fillpattern": {
             "fillmode": "overlay",
             "size": 10,
             "solidity": 0.2
            },
            "type": "scatter"
           }
          ],
          "scatter3d": [
           {
            "line": {
             "colorbar": {
              "outlinewidth": 0,
              "ticks": ""
             }
            },
            "marker": {
             "colorbar": {
              "outlinewidth": 0,
              "ticks": ""
             }
            },
            "type": "scatter3d"
           }
          ],
          "scattercarpet": [
           {
            "marker": {
             "colorbar": {
              "outlinewidth": 0,
              "ticks": ""
             }
            },
            "type": "scattercarpet"
           }
          ],
          "scattergeo": [
           {
            "marker": {
             "colorbar": {
              "outlinewidth": 0,
              "ticks": ""
             }
            },
            "type": "scattergeo"
           }
          ],
          "scattergl": [
           {
            "marker": {
             "colorbar": {
              "outlinewidth": 0,
              "ticks": ""
             }
            },
            "type": "scattergl"
           }
          ],
          "scattermap": [
           {
            "marker": {
             "colorbar": {
              "outlinewidth": 0,
              "ticks": ""
             }
            },
            "type": "scattermap"
           }
          ],
          "scattermapbox": [
           {
            "marker": {
             "colorbar": {
              "outlinewidth": 0,
              "ticks": ""
             }
            },
            "type": "scattermapbox"
           }
          ],
          "scatterpolar": [
           {
            "marker": {
             "colorbar": {
              "outlinewidth": 0,
              "ticks": ""
             }
            },
            "type": "scatterpolar"
           }
          ],
          "scatterpolargl": [
           {
            "marker": {
             "colorbar": {
              "outlinewidth": 0,
              "ticks": ""
             }
            },
            "type": "scatterpolargl"
           }
          ],
          "scatterternary": [
           {
            "marker": {
             "colorbar": {
              "outlinewidth": 0,
              "ticks": ""
             }
            },
            "type": "scatterternary"
           }
          ],
          "surface": [
           {
            "colorbar": {
             "outlinewidth": 0,
             "ticks": ""
            },
            "colorscale": [
             [
              0,
              "#0d0887"
             ],
             [
              0.1111111111111111,
              "#46039f"
             ],
             [
              0.2222222222222222,
              "#7201a8"
             ],
             [
              0.3333333333333333,
              "#9c179e"
             ],
             [
              0.4444444444444444,
              "#bd3786"
             ],
             [
              0.5555555555555556,
              "#d8576b"
             ],
             [
              0.6666666666666666,
              "#ed7953"
             ],
             [
              0.7777777777777778,
              "#fb9f3a"
             ],
             [
              0.8888888888888888,
              "#fdca26"
             ],
             [
              1,
              "#f0f921"
             ]
            ],
            "type": "surface"
           }
          ],
          "table": [
           {
            "cells": {
             "fill": {
              "color": "#EBF0F8"
             },
             "line": {
              "color": "white"
             }
            },
            "header": {
             "fill": {
              "color": "#C8D4E3"
             },
             "line": {
              "color": "white"
             }
            },
            "type": "table"
           }
          ]
         },
         "layout": {
          "annotationdefaults": {
           "arrowcolor": "#2a3f5f",
           "arrowhead": 0,
           "arrowwidth": 1
          },
          "autotypenumbers": "strict",
          "coloraxis": {
           "colorbar": {
            "outlinewidth": 0,
            "ticks": ""
           }
          },
          "colorscale": {
           "diverging": [
            [
             0,
             "#8e0152"
            ],
            [
             0.1,
             "#c51b7d"
            ],
            [
             0.2,
             "#de77ae"
            ],
            [
             0.3,
             "#f1b6da"
            ],
            [
             0.4,
             "#fde0ef"
            ],
            [
             0.5,
             "#f7f7f7"
            ],
            [
             0.6,
             "#e6f5d0"
            ],
            [
             0.7,
             "#b8e186"
            ],
            [
             0.8,
             "#7fbc41"
            ],
            [
             0.9,
             "#4d9221"
            ],
            [
             1,
             "#276419"
            ]
           ],
           "sequential": [
            [
             0,
             "#0d0887"
            ],
            [
             0.1111111111111111,
             "#46039f"
            ],
            [
             0.2222222222222222,
             "#7201a8"
            ],
            [
             0.3333333333333333,
             "#9c179e"
            ],
            [
             0.4444444444444444,
             "#bd3786"
            ],
            [
             0.5555555555555556,
             "#d8576b"
            ],
            [
             0.6666666666666666,
             "#ed7953"
            ],
            [
             0.7777777777777778,
             "#fb9f3a"
            ],
            [
             0.8888888888888888,
             "#fdca26"
            ],
            [
             1,
             "#f0f921"
            ]
           ],
           "sequentialminus": [
            [
             0,
             "#0d0887"
            ],
            [
             0.1111111111111111,
             "#46039f"
            ],
            [
             0.2222222222222222,
             "#7201a8"
            ],
            [
             0.3333333333333333,
             "#9c179e"
            ],
            [
             0.4444444444444444,
             "#bd3786"
            ],
            [
             0.5555555555555556,
             "#d8576b"
            ],
            [
             0.6666666666666666,
             "#ed7953"
            ],
            [
             0.7777777777777778,
             "#fb9f3a"
            ],
            [
             0.8888888888888888,
             "#fdca26"
            ],
            [
             1,
             "#f0f921"
            ]
           ]
          },
          "colorway": [
           "#636efa",
           "#EF553B",
           "#00cc96",
           "#ab63fa",
           "#FFA15A",
           "#19d3f3",
           "#FF6692",
           "#B6E880",
           "#FF97FF",
           "#FECB52"
          ],
          "font": {
           "color": "#2a3f5f"
          },
          "geo": {
           "bgcolor": "white",
           "lakecolor": "white",
           "landcolor": "#E5ECF6",
           "showlakes": true,
           "showland": true,
           "subunitcolor": "white"
          },
          "hoverlabel": {
           "align": "left"
          },
          "hovermode": "closest",
          "mapbox": {
           "style": "light"
          },
          "paper_bgcolor": "white",
          "plot_bgcolor": "#E5ECF6",
          "polar": {
           "angularaxis": {
            "gridcolor": "white",
            "linecolor": "white",
            "ticks": ""
           },
           "bgcolor": "#E5ECF6",
           "radialaxis": {
            "gridcolor": "white",
            "linecolor": "white",
            "ticks": ""
           }
          },
          "scene": {
           "xaxis": {
            "backgroundcolor": "#E5ECF6",
            "gridcolor": "white",
            "gridwidth": 2,
            "linecolor": "white",
            "showbackground": true,
            "ticks": "",
            "zerolinecolor": "white"
           },
           "yaxis": {
            "backgroundcolor": "#E5ECF6",
            "gridcolor": "white",
            "gridwidth": 2,
            "linecolor": "white",
            "showbackground": true,
            "ticks": "",
            "zerolinecolor": "white"
           },
           "zaxis": {
            "backgroundcolor": "#E5ECF6",
            "gridcolor": "white",
            "gridwidth": 2,
            "linecolor": "white",
            "showbackground": true,
            "ticks": "",
            "zerolinecolor": "white"
           }
          },
          "shapedefaults": {
           "line": {
            "color": "#2a3f5f"
           }
          },
          "ternary": {
           "aaxis": {
            "gridcolor": "white",
            "linecolor": "white",
            "ticks": ""
           },
           "baxis": {
            "gridcolor": "white",
            "linecolor": "white",
            "ticks": ""
           },
           "bgcolor": "#E5ECF6",
           "caxis": {
            "gridcolor": "white",
            "linecolor": "white",
            "ticks": ""
           }
          },
          "title": {
           "x": 0.05
          },
          "xaxis": {
           "automargin": true,
           "gridcolor": "white",
           "linecolor": "white",
           "ticks": "",
           "title": {
            "standoff": 15
           },
           "zerolinecolor": "white",
           "zerolinewidth": 2
          },
          "yaxis": {
           "automargin": true,
           "gridcolor": "white",
           "linecolor": "white",
           "ticks": "",
           "title": {
            "standoff": 15
           },
           "zerolinecolor": "white",
           "zerolinewidth": 2
          }
         }
        },
        "title": {
         "text": "Intermediate Values Plot"
        },
        "xaxis": {
         "title": {
          "text": "Step"
         }
        },
        "yaxis": {
         "title": {
          "text": "Intermediate Value"
         }
        }
       }
      }
     },
     "metadata": {},
     "output_type": "display_data"
    },
    {
     "data": {
      "application/vnd.plotly.v1+json": {
       "config": {
        "plotlyServerURL": "https://plot.ly"
       },
       "data": [
        {
         "cliponaxis": false,
         "hovertemplate": [
          "criterion (CategoricalDistribution): 0.023899929027080626<extra></extra>",
          "n_estimators (IntDistribution): 0.040510267564548404<extra></extra>",
          "max_features (FloatDistribution): 0.08788869157113902<extra></extra>",
          "min_samples_leaf (IntDistribution): 0.12259340187153048<extra></extra>",
          "max_depth (IntDistribution): 0.7251077099657014<extra></extra>"
         ],
         "name": "Objective Value",
         "orientation": "h",
         "text": [
          "0.02",
          "0.04",
          "0.09",
          "0.12",
          "0.73"
         ],
         "textposition": "outside",
         "type": "bar",
         "x": [
          0.023899929027080626,
          0.040510267564548404,
          0.08788869157113902,
          0.12259340187153048,
          0.7251077099657014
         ],
         "y": [
          "criterion",
          "n_estimators",
          "max_features",
          "min_samples_leaf",
          "max_depth"
         ]
        }
       ],
       "layout": {
        "template": {
         "data": {
          "bar": [
           {
            "error_x": {
             "color": "#2a3f5f"
            },
            "error_y": {
             "color": "#2a3f5f"
            },
            "marker": {
             "line": {
              "color": "#E5ECF6",
              "width": 0.5
             },
             "pattern": {
              "fillmode": "overlay",
              "size": 10,
              "solidity": 0.2
             }
            },
            "type": "bar"
           }
          ],
          "barpolar": [
           {
            "marker": {
             "line": {
              "color": "#E5ECF6",
              "width": 0.5
             },
             "pattern": {
              "fillmode": "overlay",
              "size": 10,
              "solidity": 0.2
             }
            },
            "type": "barpolar"
           }
          ],
          "carpet": [
           {
            "aaxis": {
             "endlinecolor": "#2a3f5f",
             "gridcolor": "white",
             "linecolor": "white",
             "minorgridcolor": "white",
             "startlinecolor": "#2a3f5f"
            },
            "baxis": {
             "endlinecolor": "#2a3f5f",
             "gridcolor": "white",
             "linecolor": "white",
             "minorgridcolor": "white",
             "startlinecolor": "#2a3f5f"
            },
            "type": "carpet"
           }
          ],
          "choropleth": [
           {
            "colorbar": {
             "outlinewidth": 0,
             "ticks": ""
            },
            "type": "choropleth"
           }
          ],
          "contour": [
           {
            "colorbar": {
             "outlinewidth": 0,
             "ticks": ""
            },
            "colorscale": [
             [
              0,
              "#0d0887"
             ],
             [
              0.1111111111111111,
              "#46039f"
             ],
             [
              0.2222222222222222,
              "#7201a8"
             ],
             [
              0.3333333333333333,
              "#9c179e"
             ],
             [
              0.4444444444444444,
              "#bd3786"
             ],
             [
              0.5555555555555556,
              "#d8576b"
             ],
             [
              0.6666666666666666,
              "#ed7953"
             ],
             [
              0.7777777777777778,
              "#fb9f3a"
             ],
             [
              0.8888888888888888,
              "#fdca26"
             ],
             [
              1,
              "#f0f921"
             ]
            ],
            "type": "contour"
           }
          ],
          "contourcarpet": [
           {
            "colorbar": {
             "outlinewidth": 0,
             "ticks": ""
            },
            "type": "contourcarpet"
           }
          ],
          "heatmap": [
           {
            "colorbar": {
             "outlinewidth": 0,
             "ticks": ""
            },
            "colorscale": [
             [
              0,
              "#0d0887"
             ],
             [
              0.1111111111111111,
              "#46039f"
             ],
             [
              0.2222222222222222,
              "#7201a8"
             ],
             [
              0.3333333333333333,
              "#9c179e"
             ],
             [
              0.4444444444444444,
              "#bd3786"
             ],
             [
              0.5555555555555556,
              "#d8576b"
             ],
             [
              0.6666666666666666,
              "#ed7953"
             ],
             [
              0.7777777777777778,
              "#fb9f3a"
             ],
             [
              0.8888888888888888,
              "#fdca26"
             ],
             [
              1,
              "#f0f921"
             ]
            ],
            "type": "heatmap"
           }
          ],
          "histogram": [
           {
            "marker": {
             "pattern": {
              "fillmode": "overlay",
              "size": 10,
              "solidity": 0.2
             }
            },
            "type": "histogram"
           }
          ],
          "histogram2d": [
           {
            "colorbar": {
             "outlinewidth": 0,
             "ticks": ""
            },
            "colorscale": [
             [
              0,
              "#0d0887"
             ],
             [
              0.1111111111111111,
              "#46039f"
             ],
             [
              0.2222222222222222,
              "#7201a8"
             ],
             [
              0.3333333333333333,
              "#9c179e"
             ],
             [
              0.4444444444444444,
              "#bd3786"
             ],
             [
              0.5555555555555556,
              "#d8576b"
             ],
             [
              0.6666666666666666,
              "#ed7953"
             ],
             [
              0.7777777777777778,
              "#fb9f3a"
             ],
             [
              0.8888888888888888,
              "#fdca26"
             ],
             [
              1,
              "#f0f921"
             ]
            ],
            "type": "histogram2d"
           }
          ],
          "histogram2dcontour": [
           {
            "colorbar": {
             "outlinewidth": 0,
             "ticks": ""
            },
            "colorscale": [
             [
              0,
              "#0d0887"
             ],
             [
              0.1111111111111111,
              "#46039f"
             ],
             [
              0.2222222222222222,
              "#7201a8"
             ],
             [
              0.3333333333333333,
              "#9c179e"
             ],
             [
              0.4444444444444444,
              "#bd3786"
             ],
             [
              0.5555555555555556,
              "#d8576b"
             ],
             [
              0.6666666666666666,
              "#ed7953"
             ],
             [
              0.7777777777777778,
              "#fb9f3a"
             ],
             [
              0.8888888888888888,
              "#fdca26"
             ],
             [
              1,
              "#f0f921"
             ]
            ],
            "type": "histogram2dcontour"
           }
          ],
          "mesh3d": [
           {
            "colorbar": {
             "outlinewidth": 0,
             "ticks": ""
            },
            "type": "mesh3d"
           }
          ],
          "parcoords": [
           {
            "line": {
             "colorbar": {
              "outlinewidth": 0,
              "ticks": ""
             }
            },
            "type": "parcoords"
           }
          ],
          "pie": [
           {
            "automargin": true,
            "type": "pie"
           }
          ],
          "scatter": [
           {
            "fillpattern": {
             "fillmode": "overlay",
             "size": 10,
             "solidity": 0.2
            },
            "type": "scatter"
           }
          ],
          "scatter3d": [
           {
            "line": {
             "colorbar": {
              "outlinewidth": 0,
              "ticks": ""
             }
            },
            "marker": {
             "colorbar": {
              "outlinewidth": 0,
              "ticks": ""
             }
            },
            "type": "scatter3d"
           }
          ],
          "scattercarpet": [
           {
            "marker": {
             "colorbar": {
              "outlinewidth": 0,
              "ticks": ""
             }
            },
            "type": "scattercarpet"
           }
          ],
          "scattergeo": [
           {
            "marker": {
             "colorbar": {
              "outlinewidth": 0,
              "ticks": ""
             }
            },
            "type": "scattergeo"
           }
          ],
          "scattergl": [
           {
            "marker": {
             "colorbar": {
              "outlinewidth": 0,
              "ticks": ""
             }
            },
            "type": "scattergl"
           }
          ],
          "scattermap": [
           {
            "marker": {
             "colorbar": {
              "outlinewidth": 0,
              "ticks": ""
             }
            },
            "type": "scattermap"
           }
          ],
          "scattermapbox": [
           {
            "marker": {
             "colorbar": {
              "outlinewidth": 0,
              "ticks": ""
             }
            },
            "type": "scattermapbox"
           }
          ],
          "scatterpolar": [
           {
            "marker": {
             "colorbar": {
              "outlinewidth": 0,
              "ticks": ""
             }
            },
            "type": "scatterpolar"
           }
          ],
          "scatterpolargl": [
           {
            "marker": {
             "colorbar": {
              "outlinewidth": 0,
              "ticks": ""
             }
            },
            "type": "scatterpolargl"
           }
          ],
          "scatterternary": [
           {
            "marker": {
             "colorbar": {
              "outlinewidth": 0,
              "ticks": ""
             }
            },
            "type": "scatterternary"
           }
          ],
          "surface": [
           {
            "colorbar": {
             "outlinewidth": 0,
             "ticks": ""
            },
            "colorscale": [
             [
              0,
              "#0d0887"
             ],
             [
              0.1111111111111111,
              "#46039f"
             ],
             [
              0.2222222222222222,
              "#7201a8"
             ],
             [
              0.3333333333333333,
              "#9c179e"
             ],
             [
              0.4444444444444444,
              "#bd3786"
             ],
             [
              0.5555555555555556,
              "#d8576b"
             ],
             [
              0.6666666666666666,
              "#ed7953"
             ],
             [
              0.7777777777777778,
              "#fb9f3a"
             ],
             [
              0.8888888888888888,
              "#fdca26"
             ],
             [
              1,
              "#f0f921"
             ]
            ],
            "type": "surface"
           }
          ],
          "table": [
           {
            "cells": {
             "fill": {
              "color": "#EBF0F8"
             },
             "line": {
              "color": "white"
             }
            },
            "header": {
             "fill": {
              "color": "#C8D4E3"
             },
             "line": {
              "color": "white"
             }
            },
            "type": "table"
           }
          ]
         },
         "layout": {
          "annotationdefaults": {
           "arrowcolor": "#2a3f5f",
           "arrowhead": 0,
           "arrowwidth": 1
          },
          "autotypenumbers": "strict",
          "coloraxis": {
           "colorbar": {
            "outlinewidth": 0,
            "ticks": ""
           }
          },
          "colorscale": {
           "diverging": [
            [
             0,
             "#8e0152"
            ],
            [
             0.1,
             "#c51b7d"
            ],
            [
             0.2,
             "#de77ae"
            ],
            [
             0.3,
             "#f1b6da"
            ],
            [
             0.4,
             "#fde0ef"
            ],
            [
             0.5,
             "#f7f7f7"
            ],
            [
             0.6,
             "#e6f5d0"
            ],
            [
             0.7,
             "#b8e186"
            ],
            [
             0.8,
             "#7fbc41"
            ],
            [
             0.9,
             "#4d9221"
            ],
            [
             1,
             "#276419"
            ]
           ],
           "sequential": [
            [
             0,
             "#0d0887"
            ],
            [
             0.1111111111111111,
             "#46039f"
            ],
            [
             0.2222222222222222,
             "#7201a8"
            ],
            [
             0.3333333333333333,
             "#9c179e"
            ],
            [
             0.4444444444444444,
             "#bd3786"
            ],
            [
             0.5555555555555556,
             "#d8576b"
            ],
            [
             0.6666666666666666,
             "#ed7953"
            ],
            [
             0.7777777777777778,
             "#fb9f3a"
            ],
            [
             0.8888888888888888,
             "#fdca26"
            ],
            [
             1,
             "#f0f921"
            ]
           ],
           "sequentialminus": [
            [
             0,
             "#0d0887"
            ],
            [
             0.1111111111111111,
             "#46039f"
            ],
            [
             0.2222222222222222,
             "#7201a8"
            ],
            [
             0.3333333333333333,
             "#9c179e"
            ],
            [
             0.4444444444444444,
             "#bd3786"
            ],
            [
             0.5555555555555556,
             "#d8576b"
            ],
            [
             0.6666666666666666,
             "#ed7953"
            ],
            [
             0.7777777777777778,
             "#fb9f3a"
            ],
            [
             0.8888888888888888,
             "#fdca26"
            ],
            [
             1,
             "#f0f921"
            ]
           ]
          },
          "colorway": [
           "#636efa",
           "#EF553B",
           "#00cc96",
           "#ab63fa",
           "#FFA15A",
           "#19d3f3",
           "#FF6692",
           "#B6E880",
           "#FF97FF",
           "#FECB52"
          ],
          "font": {
           "color": "#2a3f5f"
          },
          "geo": {
           "bgcolor": "white",
           "lakecolor": "white",
           "landcolor": "#E5ECF6",
           "showlakes": true,
           "showland": true,
           "subunitcolor": "white"
          },
          "hoverlabel": {
           "align": "left"
          },
          "hovermode": "closest",
          "mapbox": {
           "style": "light"
          },
          "paper_bgcolor": "white",
          "plot_bgcolor": "#E5ECF6",
          "polar": {
           "angularaxis": {
            "gridcolor": "white",
            "linecolor": "white",
            "ticks": ""
           },
           "bgcolor": "#E5ECF6",
           "radialaxis": {
            "gridcolor": "white",
            "linecolor": "white",
            "ticks": ""
           }
          },
          "scene": {
           "xaxis": {
            "backgroundcolor": "#E5ECF6",
            "gridcolor": "white",
            "gridwidth": 2,
            "linecolor": "white",
            "showbackground": true,
            "ticks": "",
            "zerolinecolor": "white"
           },
           "yaxis": {
            "backgroundcolor": "#E5ECF6",
            "gridcolor": "white",
            "gridwidth": 2,
            "linecolor": "white",
            "showbackground": true,
            "ticks": "",
            "zerolinecolor": "white"
           },
           "zaxis": {
            "backgroundcolor": "#E5ECF6",
            "gridcolor": "white",
            "gridwidth": 2,
            "linecolor": "white",
            "showbackground": true,
            "ticks": "",
            "zerolinecolor": "white"
           }
          },
          "shapedefaults": {
           "line": {
            "color": "#2a3f5f"
           }
          },
          "ternary": {
           "aaxis": {
            "gridcolor": "white",
            "linecolor": "white",
            "ticks": ""
           },
           "baxis": {
            "gridcolor": "white",
            "linecolor": "white",
            "ticks": ""
           },
           "bgcolor": "#E5ECF6",
           "caxis": {
            "gridcolor": "white",
            "linecolor": "white",
            "ticks": ""
           }
          },
          "title": {
           "x": 0.05
          },
          "xaxis": {
           "automargin": true,
           "gridcolor": "white",
           "linecolor": "white",
           "ticks": "",
           "title": {
            "standoff": 15
           },
           "zerolinecolor": "white",
           "zerolinewidth": 2
          },
          "yaxis": {
           "automargin": true,
           "gridcolor": "white",
           "linecolor": "white",
           "ticks": "",
           "title": {
            "standoff": 15
           },
           "zerolinecolor": "white",
           "zerolinewidth": 2
          }
         }
        },
        "title": {
         "text": "Hyperparameter Importances"
        },
        "xaxis": {
         "title": {
          "text": "Hyperparameter Importance"
         }
        },
        "yaxis": {
         "title": {
          "text": "Hyperparameter"
         }
        }
       }
      }
     },
     "metadata": {},
     "output_type": "display_data"
    }
   ],
   "source": [
    "# --- Optional: Optuna Visualizations ---\n",
    "import optuna.visualization as ov\n",
    "fig1 = ov.plot_optimization_history(study)\n",
    "fig1.show()\n",
    "fig2 = ov.plot_intermediate_values(study)\n",
    "fig2.show()\n",
    "fig3 = ov.plot_param_importances(study)\n",
    "fig3.show()"
   ]
  },
  {
   "cell_type": "code",
   "execution_count": null,
   "id": "0b8acaf6",
   "metadata": {},
   "outputs": [],
   "source": []
  }
 ],
 "metadata": {
  "kernelspec": {
   "display_name": "Python 3",
   "language": "python",
   "name": "python3"
  },
  "language_info": {
   "codemirror_mode": {
    "name": "ipython",
    "version": 3
   },
   "file_extension": ".py",
   "mimetype": "text/x-python",
   "name": "python",
   "nbconvert_exporter": "python",
   "pygments_lexer": "ipython3",
   "version": "3.12.3"
  }
 },
 "nbformat": 4,
 "nbformat_minor": 5
}
