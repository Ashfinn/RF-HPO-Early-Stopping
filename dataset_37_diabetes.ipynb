{
 "cells": [
  {
   "cell_type": "code",
   "execution_count": 2,
   "id": "1153497f",
   "metadata": {},
   "outputs": [
    {
     "name": "stdout",
     "output_type": "stream",
     "text": [
      "Loaded datasets/dataset_37_diabetes.arff. Shape: (768, 9)\n",
      "Target column: 'class'\n",
      "Numerical features: ['preg', 'plas', 'pres', 'skin', 'insu', 'mass', 'pedi', 'age']\n",
      "Categorical features detected: []\n",
      "Encoded target classes: ['tested_negative' 'tested_positive']\n",
      "Starting Optuna study with 100 trials for Pima Diabetes dataset (DEBUG PRUNER)...\n"
     ]
    },
    {
     "data": {
      "application/vnd.jupyter.widget-view+json": {
       "model_id": "a92281ca206d48a3a380b892e32733da",
       "version_major": 2,
       "version_minor": 0
      },
      "text/plain": [
       "  0%|          | 0/100 [00:00<?, ?it/s]"
      ]
     },
     "metadata": {},
     "output_type": "display_data"
    },
    {
     "name": "stdout",
     "output_type": "stream",
     "text": [
      "Trial 0 completed with AUC: 0.8335\n",
      "Trial 1 completed with AUC: 0.8309\n",
      "Trial 2 completed with AUC: 0.8313\n",
      "Trial 3 completed with AUC: 0.8320\n",
      "Trial 4 completed with AUC: 0.8307\n",
      "Trial 5 completed with AUC: 0.8270\n",
      "Trial 6 completed with AUC: 0.8150\n",
      "Trial 7 completed with AUC: 0.8193\n",
      "Trial 8 completed with AUC: 0.8313\n",
      "Trial 9 completed with AUC: 0.8119\n",
      "Trial 10 completed with AUC: 0.8285\n",
      "Trial 11 completed with AUC: 0.8343\n",
      "Trial 12 completed with AUC: 0.8315\n",
      "Trial 13 completed with AUC: 0.8324\n",
      "Trial 14 completed with AUC: 0.8374\n",
      "Trial 15 completed with AUC: 0.8337\n",
      "Trial 16 completed with AUC: 0.8304\n",
      "Trial 17 completed with AUC: 0.8361\n",
      "Trial 18 completed with AUC: 0.8365\n",
      "Trial 19 completed with AUC: 0.8232\n",
      "Trial 20 completed with AUC: 0.8315\n",
      "Trial 21 completed with AUC: 0.8359\n",
      "Trial 22 completed with AUC: 0.8326\n",
      "Trial 23 completed with AUC: 0.8380\n",
      "Trial 24 completed with AUC: 0.8344\n",
      "Trial 25 completed with AUC: 0.8331\n",
      "Trial 26 completed with AUC: 0.8146\n",
      "Trial 27 completed with AUC: 0.8335\n",
      "Trial 28 completed with AUC: 0.8233\n",
      "Trial 29 completed with AUC: 0.8376\n",
      "Trial 30 completed with AUC: 0.8341\n",
      "Trial 31 completed with AUC: 0.8324\n",
      "Trial 32 completed with AUC: 0.8374\n",
      "Trial 33 completed with AUC: 0.8361\n",
      "Trial 34 completed with AUC: 0.8324\n",
      "Trial 35 completed with AUC: 0.8348\n",
      "Trial 36 completed with AUC: 0.8200\n",
      "Trial 37 completed with AUC: 0.8350\n",
      "Trial 38 completed with AUC: 0.8230\n",
      "Trial 39 completed with AUC: 0.8257\n",
      "Trial 40 completed with AUC: 0.8381\n",
      "Trial 41 completed with AUC: 0.8365\n",
      "Trial 42 completed with AUC: 0.8319\n",
      "Trial 43 completed with AUC: 0.8361\n",
      "Trial 44 completed with AUC: 0.8009\n",
      "Trial 45 completed with AUC: 0.8228\n",
      "Trial 46 completed with AUC: 0.8296\n",
      "Trial 47 completed with AUC: 0.8324\n",
      "Trial 48 completed with AUC: 0.8354\n",
      "Trial 49 completed with AUC: 0.8259\n",
      "Trial 50 completed with AUC: 0.8285\n",
      "Trial 51 completed with AUC: 0.8363\n",
      "Trial 52 completed with AUC: 0.8346\n",
      "Trial 53 completed with AUC: 0.8367\n",
      "Trial 54 completed with AUC: 0.8341\n",
      "Trial 55 completed with AUC: 0.8356\n",
      "Trial 56 completed with AUC: 0.8285\n",
      "Trial 57 completed with AUC: 0.8276\n",
      "Trial 58 completed with AUC: 0.8352\n",
      "Trial 59 completed with AUC: 0.8320\n",
      "Trial 60 completed with AUC: 0.8270\n",
      "Trial 61 completed with AUC: 0.8317\n",
      "Trial 62 completed with AUC: 0.8367\n",
      "Trial 63 completed with AUC: 0.8365\n",
      "Trial 64 completed with AUC: 0.8365\n",
      "Trial 65 completed with AUC: 0.8372\n",
      "Trial 66 completed with AUC: 0.8330\n",
      "Trial 67 completed with AUC: 0.8365\n",
      "Trial 68 completed with AUC: 0.8220\n",
      "Trial 69 completed with AUC: 0.8241\n",
      "Trial 70 completed with AUC: 0.8357\n",
      "Trial 71 completed with AUC: 0.8367\n",
      "Trial 72 completed with AUC: 0.8380\n",
      "Trial 73 completed with AUC: 0.8333\n",
      "Trial 74 completed with AUC: 0.8359\n",
      "Trial 75 completed with AUC: 0.8372\n",
      "Trial 76 completed with AUC: 0.8343\n",
      "Trial 77 completed with AUC: 0.8363\n",
      "Trial 78 completed with AUC: 0.8341\n",
      "Trial 79 completed with AUC: 0.8178\n",
      "Trial 80 completed with AUC: 0.8307\n",
      "Trial 81 completed with AUC: 0.8381\n",
      "Trial 82 completed with AUC: 0.8343\n",
      "Trial 83 completed with AUC: 0.8380\n",
      "Trial 84 completed with AUC: 0.8369\n",
      "Trial 85 completed with AUC: 0.8331\n",
      "Trial 86 completed with AUC: 0.8331\n",
      "Trial 87 completed with AUC: 0.8378\n",
      "Trial 88 completed with AUC: 0.8359\n",
      "Trial 89 completed with AUC: 0.8331\n",
      "Trial 90 completed with AUC: 0.8296\n",
      "Trial 91 completed with AUC: 0.8374\n",
      "Trial 92 completed with AUC: 0.8344\n",
      "Trial 93 completed with AUC: 0.8378\n",
      "Trial 94 completed with AUC: 0.8337\n",
      "Trial 95 completed with AUC: 0.8370\n",
      "Trial 96 completed with AUC: 0.8330\n",
      "Trial 97 completed with AUC: 0.8281\n",
      "Trial 98 completed with AUC: 0.8343\n",
      "Trial 99 completed with AUC: 0.8322\n",
      "\n",
      "Optimization finished.\n",
      "Best trial value (AUC/Accuracy): 0.8381\n",
      "Best hyperparameters:\n",
      "  n_estimators: 176\n",
      "  max_depth: 11\n",
      "  min_samples_leaf: 8\n",
      "  max_features: 1.0\n",
      "  criterion: entropy\n",
      "  class_weight: balanced\n",
      "Number of pruned trials: 0\n",
      "Number of complete trials: 100\n",
      "Final Model AUC: 0.8381\n",
      "\n",
      "--- Final Model Evaluation ---\n",
      "Metric (AUC): 0.8381\n",
      "Training time for final model: 0.23 seconds\n",
      "Best model and preprocessor for Pima Diabetes saved (debug pruner run).\n"
     ]
    }
   ],
   "source": [
    "import pandas as pd\n",
    "import numpy as np\n",
    "from scipy.io import arff\n",
    "from sklearn.model_selection import train_test_split, StratifiedKFold\n",
    "from sklearn.preprocessing import LabelEncoder, OneHotEncoder\n",
    "from sklearn.compose import ColumnTransformer\n",
    "from sklearn.pipeline import Pipeline\n",
    "import optuna\n",
    "from sklearn.ensemble import RandomForestClassifier, RandomForestRegressor\n",
    "from sklearn.metrics import accuracy_score, mean_squared_error, roc_auc_score\n",
    "import functools\n",
    "import warnings\n",
    "import joblib\n",
    "import time\n",
    "from collections import defaultdict\n",
    "from scipy.optimize import curve_fit\n",
    "\n",
    "# Suppress ConvergenceWarning from scikit-learn\n",
    "warnings.filterwarnings(\"ignore\", category=UserWarning, module='sklearn')\n",
    "# Suppress Optuna specific warnings if they become too verbose for logging\n",
    "optuna.logging.set_verbosity(optuna.logging.WARNING)\n",
    "\n",
    "\n",
    "# --- 1. Dataset Loading and Preprocessing ---\n",
    "\n",
    "def load_and_preprocess_arff(filepath, target_column_name=None):\n",
    "    \"\"\"\n",
    "    Loads an ARFF file, identifies features and target, and prepares data.\n",
    "    \"\"\"\n",
    "    data, meta = arff.loadarff(filepath)\n",
    "    df = pd.DataFrame(data)\n",
    "\n",
    "    for col in df.columns:\n",
    "        if df[col].dtype == 'object':\n",
    "            try:\n",
    "                df[col] = df[col].apply(lambda x: x.decode('utf-8') if isinstance(x, bytes) else x)\n",
    "            except (UnicodeDecodeError, AttributeError):\n",
    "                pass\n",
    "\n",
    "    if target_column_name is None:\n",
    "        target_column_name = df.columns[-1]\n",
    "\n",
    "    X = df.drop(columns=[target_column_name])\n",
    "    y = df[target_column_name]\n",
    "\n",
    "    categorical_features = X.select_dtypes(include=['object', 'category']).columns.tolist()\n",
    "    numerical_features = X.select_dtypes(include=np.number).columns.tolist()\n",
    "\n",
    "    feature_names = X.columns.tolist()\n",
    "    categorical_features_idx = [feature_names.index(col) for col in categorical_features]\n",
    "\n",
    "    print(f\"Loaded {filepath}. Shape: {df.shape}\")\n",
    "    print(f\"Target column: '{target_column_name}'\")\n",
    "    print(f\"Numerical features: {numerical_features}\")\n",
    "    print(f\"Categorical features detected: {categorical_features}\")\n",
    "\n",
    "    return X, y, feature_names, categorical_features_idx\n",
    "\n",
    "def get_preprocessor(numerical_features, categorical_features):\n",
    "    \"\"\"\n",
    "    Creates a column transformer for preprocessing.\n",
    "    \"\"\"\n",
    "    transformers = []\n",
    "    if numerical_features:\n",
    "        transformers.append(('num', 'passthrough', numerical_features))\n",
    "    if categorical_features:\n",
    "        transformers.append(('cat', OneHotEncoder(handle_unknown='ignore'), categorical_features))\n",
    "\n",
    "    preprocessor = ColumnTransformer(\n",
    "        transformers=transformers,\n",
    "        remainder='drop'\n",
    "    )\n",
    "    return preprocessor\n",
    "\n",
    "# --- 2. Optuna Objective Function (with Partial RF Evaluation) ---\n",
    "\n",
    "def objective(trial, X_train_raw, y_train_encoded, X_val_raw, y_val_encoded,\n",
    "              task_type='classification', preprocessor=None, max_n_estimators_upper_bound=1000):\n",
    "    \"\"\"\n",
    "    Optuna objective function for Random Forest HPO with multi-fidelity evaluation.\n",
    "    \"\"\"\n",
    "    n_estimators = trial.suggest_int(\"n_estimators\", 50, max_n_estimators_upper_bound)\n",
    "    max_depth = trial.suggest_int(\"max_depth\", 2, 32)\n",
    "    min_samples_leaf = trial.suggest_int(\"min_samples_leaf\", 1, 20)\n",
    "    max_features_val = trial.suggest_categorical(\"max_features\", ['sqrt', 'log2', 0.5, 0.7, 1.0])\n",
    "\n",
    "    if task_type == 'classification':\n",
    "        criterion = trial.suggest_categorical(\"criterion\", [\"gini\", \"entropy\"])\n",
    "        class_weight = trial.suggest_categorical(\"class_weight\", [None, \"balanced\"])\n",
    "        model_class = RandomForestClassifier\n",
    "    else:\n",
    "        criterion = trial.suggest_categorical(\"criterion\", [\"squared_error\", \"absolute_error\"])\n",
    "        class_weight = None\n",
    "        model_class = RandomForestRegressor\n",
    "\n",
    "    rf_model = model_class(\n",
    "        n_estimators=1,\n",
    "        max_depth=max_depth,\n",
    "        min_samples_leaf=min_samples_leaf,\n",
    "        max_features=max_features_val,\n",
    "        criterion=criterion,\n",
    "        class_weight=class_weight,\n",
    "        oob_score=True,\n",
    "        random_state=42,\n",
    "        warm_start=True,\n",
    "        n_jobs=-1\n",
    "    )\n",
    "\n",
    "    if preprocessor:\n",
    "        X_train_processed = preprocessor.fit_transform(X_train_raw)\n",
    "        X_val_processed = preprocessor.transform(X_val_raw)\n",
    "    else:\n",
    "        X_train_processed = X_train_raw.to_numpy()\n",
    "        X_val_processed = X_val_raw.to_numpy()\n",
    "\n",
    "    fidelity_steps = sorted(list(set(\n",
    "        [max(1, int(n_estimators * p)) for p in [0.02, 0.05, 0.1, 0.2, 0.3, 0.4, 0.5, 0.6, 0.7, 0.8, 0.9, 1.0]] +\n",
    "        [max(1, int(n_estimators * 0.01 * i)) for i in range(1, 6)] # Add finer steps for first 5%\n",
    "    )))\n",
    "    fidelity_steps = [s for s in fidelity_steps if s > 0]\n",
    "    fidelity_steps = sorted(list(set(fidelity_steps)))\n",
    "    fidelity_steps = [s for s in fidelity_steps if s <= n_estimators]\n",
    "    \n",
    "    if not fidelity_steps: \n",
    "        fidelity_steps = [n_estimators]\n",
    "\n",
    "\n",
    "    for step_n_estimators in fidelity_steps:\n",
    "        if step_n_estimators > rf_model.n_estimators:\n",
    "            rf_model.n_estimators = step_n_estimators\n",
    "            rf_model.fit(X_train_processed, y_train_encoded)\n",
    "\n",
    "        if rf_model.n_estimators > 1 and hasattr(rf_model, 'oob_score_'):\n",
    "            current_oob_score = rf_model.oob_score_\n",
    "        else:\n",
    "            current_oob_score = np.nan\n",
    "\n",
    "        trial.report(current_oob_score, step=step_n_estimators)\n",
    "\n",
    "        if trial.should_prune():\n",
    "            print(f\"Trial {trial.number} pruned at {step_n_estimators} estimators (OOB: {current_oob_score:.4f}).\")\n",
    "            raise optuna.exceptions.TrialPruned()\n",
    "\n",
    "    y_pred = rf_model.predict(X_val_processed)\n",
    "\n",
    "    if hasattr(rf_model, 'predict_proba') and len(np.unique(y_val_encoded)) == 2:\n",
    "        y_proba = rf_model.predict_proba(X_val_processed)[:, 1]\n",
    "        final_metric = roc_auc_score(y_val_encoded, y_proba)\n",
    "        metric_name = \"AUC\"\n",
    "    else:\n",
    "        final_metric = accuracy_score(y_val_encoded, y_pred)\n",
    "        metric_name = \"Accuracy\"\n",
    "\n",
    "    print(f\"Trial {trial.number} completed with {metric_name}: {final_metric:.4f}\")\n",
    "    return final_metric\n",
    "\n",
    "\n",
    "# --- 3. Custom Optuna Pruner Implementation ---\n",
    "\n",
    "class RandomForestMultiFidelityPruner(optuna.pruners.BasePruner):\n",
    "    \"\"\"\n",
    "    Custom Optuna pruner for Random Forest Hyperparameter Optimization\n",
    "    using a multi-fidelity approach and learning curve prediction.\n",
    "    \"\"\"\n",
    "    def __init__(self,\n",
    "                 min_intermediate_steps=3,\n",
    "                 pruning_quantile=0.75,\n",
    "                 grace_period_ratio=0.02,\n",
    "                 predictive_model_type='saturating_curve',\n",
    "                 debug_mode=True):\n",
    "        self.min_intermediate_steps = min_intermediate_steps\n",
    "        self.pruning_quantile = pruning_quantile\n",
    "        self.grace_period_ratio = grace_period_ratio\n",
    "        self.predictive_model_type = predictive_model_type\n",
    "        self.trial_learning_curves = defaultdict(list)\n",
    "        self.debug_mode = debug_mode\n",
    "\n",
    "    def prune(self, study: optuna.study.Study, trial: optuna.trial.FrozenTrial) -> bool:\n",
    "        trial_id = trial.number\n",
    "        current_step = trial.last_step\n",
    "        current_value = trial.value\n",
    "\n",
    "        if current_step is None or current_value is None:\n",
    "            return False \n",
    "\n",
    "        self.trial_learning_curves[trial_id].append((current_step, current_value))\n",
    "\n",
    "        if len(self.trial_learning_curves[trial_id]) < self.min_intermediate_steps:\n",
    "            if self.debug_mode:\n",
    "                print(f\"[Debug Pruner Trial {trial_id} Step {current_step}]: Not enough steps ({len(self.trial_learning_curves[trial_id])}/{self.min_intermediate_steps})\")\n",
    "            return False\n",
    "        \n",
    "        if current_step < self.grace_period_ratio * trial.params.get('n_estimators', 1000):\n",
    "            if self.debug_mode:\n",
    "                print(f\"[Debug Pruner Trial {trial_id} Step {current_step}]: In grace period ({current_step}/{self.grace_period_ratio * trial.params.get('n_estimators', 1000):.1f})\")\n",
    "            return False\n",
    "\n",
    "        current_lc_data = self.trial_learning_curves[trial_id]\n",
    "        steps = np.array([s for s, _ in current_lc_data])\n",
    "        values = np.array([v for _, v in current_lc_data])\n",
    "        \n",
    "        if len(steps) < 3: \n",
    "            return False\n",
    "\n",
    "        predicted_final_performance = self._predict_final_performance(steps, values, trial.params.get('n_estimators', 1000), trial_id)\n",
    "\n",
    "        completed_trial_values = [\n",
    "            t.value for t in study.trials\n",
    "            if t.state == optuna.trial.TrialState.COMPLETE and t.value is not None\n",
    "        ]\n",
    "        \n",
    "        if not completed_trial_values:\n",
    "            if self.debug_mode:\n",
    "                print(f\"[Debug Pruner Trial {trial_id} Step {current_step}]: No complete trials yet.\")\n",
    "            return False\n",
    "\n",
    "        threshold = np.quantile(completed_trial_values, self.pruning_quantile)\n",
    "        \n",
    "        if self.debug_mode:\n",
    "            print(f\"[Debug Pruner Trial {trial_id} Step {current_step}]: Pred: {predicted_final_performance:.4f}, Threshold: {threshold:.4f}, Current OOB: {current_value:.4f}\")\n",
    "            if predicted_final_performance < threshold:\n",
    "                print(f\"                                   -> WILL PRUNE (Predicted < Threshold)\")\n",
    "\n",
    "        if predicted_final_performance < threshold:\n",
    "            return True\n",
    "        \n",
    "        return False\n",
    "\n",
    "    def _predict_final_performance(self, steps, values, max_n_estimators, trial_number):\n",
    "        \"\"\"\n",
    "        Predicts the final performance based on observed learning curve using a saturating curve.\n",
    "        \"\"\"\n",
    "        if self.predictive_model_type == 'saturating_curve':\n",
    "            def saturating_curve(x, A, B, C):\n",
    "                return A * (1 - np.exp(-B * x)) + C\n",
    "\n",
    "            initial_guess_A = max(values.max() * 1.05, 0.75) \n",
    "            initial_guess_B = 0.05\n",
    "            initial_guess_C = values[0] if len(values) > 0 else 0.5 \n",
    "\n",
    "            p0 = [initial_guess_A, initial_guess_B, initial_guess_C]\n",
    "\n",
    "            try:\n",
    "                bounds_lower = [values.max() * 0.9, 0.0001, values.min() * 0.8]\n",
    "                bounds_upper = [1.0, 0.5, values.max() * 1.2]\n",
    "\n",
    "                popt, pcov = curve_fit(saturating_curve, steps, values, p0=p0, maxfev=5000,\n",
    "                                       bounds=(bounds_lower, bounds_upper))\n",
    "                \n",
    "                predicted_value = saturating_curve(max_n_estimators, *popt)\n",
    "                \n",
    "                predicted_value = max(values.min(), min(1.0, predicted_value))\n",
    "\n",
    "                if self.debug_mode:\n",
    "                    print(f\"[Debug Pruner Trial {trial_number} Step {steps[-1]}]: Fit successful. Predicted {predicted_value:.4f}\")\n",
    "                return predicted_value\n",
    "            except (RuntimeError, ValueError) as e:\n",
    "                if self.debug_mode:\n",
    "                    print(f\"[Debug Pruner Trial {trial_number} Step {steps[-1]}]: Curve fit failed ({e}). Falling back to last value.\")\n",
    "                return values[-1] \n",
    "\n",
    "        return values[-1] \n",
    "\n",
    "# --- 4. Running the Optuna Study ---\n",
    "\n",
    "# --- Configuration Parameters for PIMA DIABETES dataset ---\n",
    "N_TRIALS = 100\n",
    "RANDOM_STATE = 42\n",
    "DATASET_PATH = 'datasets/dataset_37_diabetes.arff' # <--- UPDATED for Pima Diabetes\n",
    "TARGET_COLUMN = 'class'             # <--- UPDATED for Pima Diabetes\n",
    "TASK_TYPE = 'classification'        # Pima Diabetes is a binary classification\n",
    "\n",
    "# --- Load and Preprocess Data ---\n",
    "X_raw, y_raw, feature_names, categorical_features_idx = load_and_preprocess_arff(\n",
    "    DATASET_PATH, target_column_name=TARGET_COLUMN\n",
    ")\n",
    "\n",
    "le = LabelEncoder()\n",
    "y_encoded = le.fit_transform(y_raw)\n",
    "print(f\"Encoded target classes: {le.classes_}\")\n",
    "\n",
    "# Pima Diabetes features are all numerical based on the ARFF header\n",
    "numerical_feats = X_raw.columns.tolist()\n",
    "categorical_feats = [] \n",
    "\n",
    "data_preprocessor = get_preprocessor(numerical_feats, categorical_feats)\n",
    "\n",
    "X_train_split, X_val_split, y_train_split, y_val_split = train_test_split(\n",
    "    X_raw, y_encoded, test_size=0.2, random_state=RANDOM_STATE,\n",
    "    stratify=y_encoded\n",
    ")\n",
    "\n",
    "# --- Initialize Custom Pruner with aggressive and DEBUG settings (reused from last run) ---\n",
    "custom_pruner = RandomForestMultiFidelityPruner(\n",
    "    min_intermediate_steps=3,\n",
    "    pruning_quantile=0.75,      \n",
    "    grace_period_ratio=0.02,    \n",
    "    predictive_model_type='saturating_curve',\n",
    "    debug_mode=True             \n",
    ")\n",
    "\n",
    "# --- Create Optuna Study ---\n",
    "study = optuna.create_study(\n",
    "    direction=\"maximize\",\n",
    "    pruner=custom_pruner,\n",
    "    sampler=optuna.samplers.TPESampler(seed=RANDOM_STATE),\n",
    "    study_name=\"pima_diabetes_rf_hpo_study_debug_pruner\", # <--- UPDATED Study Name\n",
    "    storage=\"sqlite:///pima_diabetes_rf_hpo_debug.db\"     # <--- UPDATED DB File\n",
    ")\n",
    "\n",
    "objective_with_args = functools.partial(\n",
    "    objective,\n",
    "    X_train_raw=X_train_split,\n",
    "    y_train_encoded=y_train_split,\n",
    "    X_val_raw=X_val_split,\n",
    "    y_val_encoded=y_val_split,\n",
    "    task_type=TASK_TYPE,\n",
    "    preprocessor=data_preprocessor,\n",
    "    max_n_estimators_upper_bound=250 # Keeping this value to limit max trial cost\n",
    ")\n",
    "\n",
    "print(f\"Starting Optuna study with {N_TRIALS} trials for Pima Diabetes dataset (DEBUG PRUNER)...\")\n",
    "study.optimize(objective_with_args, n_trials=N_TRIALS, show_progress_bar=True)\n",
    "\n",
    "# --- Print Results ---\n",
    "print(\"\\nOptimization finished.\")\n",
    "print(f\"Best trial value (AUC/Accuracy): {study.best_trial.value:.4f}\")\n",
    "print(\"Best hyperparameters:\")\n",
    "for key, value in study.best_trial.params.items():\n",
    "    print(f\"  {key}: {value}\")\n",
    "\n",
    "pruned_trials = study.get_trials(deepcopy=False, states=[optuna.trial.TrialState.PRUNED])\n",
    "complete_trials = study.get_trials(deepcopy=False, states=[optuna.trial.TrialState.COMPLETE])\n",
    "print(f\"Number of pruned trials: {len(pruned_trials)}\") \n",
    "print(f\"Number of complete trials: {len(complete_trials)}\")\n",
    "\n",
    "\n",
    "# --- 5. Final Model Evaluation ---\n",
    "\n",
    "def evaluate_final_model(best_params, X_train_full, y_train_full, X_test_full, y_test_full,\n",
    "                         task_type='classification', preprocessor=None):\n",
    "    \"\"\"\n",
    "    Trains the best model from HPO on the full training data and evaluates on a test set.\n",
    "    \"\"\"\n",
    "    start_time = time.time()\n",
    "\n",
    "    if preprocessor:\n",
    "        X_train_processed = preprocessor.fit_transform(X_train_full)\n",
    "        X_test_processed = preprocessor.transform(X_test_full)\n",
    "    else:\n",
    "        X_train_processed = X_train_full.to_numpy()\n",
    "        X_test_processed = X_test_full.to_numpy()\n",
    "\n",
    "    if task_type == 'classification':\n",
    "        model = RandomForestClassifier(random_state=42, n_jobs=-1, **best_params)\n",
    "    else:\n",
    "        model = RandomForestRegressor(random_state=42, n_jobs=-1, **best_params)\n",
    "\n",
    "    model.fit(X_train_processed, y_train_full)\n",
    "    fit_time = time.time() - start_time\n",
    "\n",
    "    y_pred = model.predict(X_test_processed)\n",
    "\n",
    "    if task_type == 'classification':\n",
    "        if hasattr(model, 'predict_proba') and len(np.unique(y_test_full)) == 2:\n",
    "            y_proba = model.predict_proba(X_test_processed)[:, 1]\n",
    "            auc_score = roc_auc_score(y_test_full, y_proba)\n",
    "            print(f\"Final Model AUC: {auc_score:.4f}\")\n",
    "            final_metric = auc_score\n",
    "            metric_name = \"AUC\"\n",
    "        else:\n",
    "            final_metric = accuracy_score(y_test_full, y_pred)\n",
    "            metric_name = \"Accuracy\"\n",
    "    else:\n",
    "        final_metric = mean_squared_error(y_test_full, y_pred)\n",
    "        metric_name = \"MSE\"\n",
    "\n",
    "    print(f\"\\n--- Final Model Evaluation ---\")\n",
    "    print(f\"Metric ({metric_name}): {final_metric:.4f}\")\n",
    "    print(f\"Training time for final model: {fit_time:.2f} seconds\")\n",
    "\n",
    "    return model, final_metric\n",
    "\n",
    "\n",
    "X_train_full, X_test_full, y_train_full, y_test_full = train_test_split(\n",
    "    X_raw, y_encoded, test_size=0.2, random_state=RANDOM_STATE,\n",
    "    stratify=y_encoded\n",
    ")\n",
    "\n",
    "if study.best_trial:\n",
    "    best_params = study.best_trial.params\n",
    "    final_model, final_score = evaluate_final_model(\n",
    "        best_params, X_train_full, y_train_full, X_test_full, y_test_full,\n",
    "        task_type=TASK_TYPE, preprocessor=data_preprocessor\n",
    "    )\n",
    "\n",
    "    joblib.dump(final_model, 'best_rf_pima_diabetes_model_debug.pkl') # <--- UPDATED save name\n",
    "    joblib.dump(data_preprocessor, 'data_preprocessor_pima_diabetes_debug.pkl') # <--- UPDATED save name\n",
    "    print(\"Best model and preprocessor for Pima Diabetes saved (debug pruner run).\")"
   ]
  },
  {
   "cell_type": "code",
   "execution_count": 3,
   "id": "829db16e",
   "metadata": {},
   "outputs": [
    {
     "data": {
      "application/vnd.plotly.v1+json": {
       "config": {
        "plotlyServerURL": "https://plot.ly"
       },
       "data": [
        {
         "mode": "markers",
         "name": "Objective Value",
         "type": "scatter",
         "x": [
          0,
          1,
          2,
          3,
          4,
          5,
          6,
          7,
          8,
          9,
          10,
          11,
          12,
          13,
          14,
          15,
          16,
          17,
          18,
          19,
          20,
          21,
          22,
          23,
          24,
          25,
          26,
          27,
          28,
          29,
          30,
          31,
          32,
          33,
          34,
          35,
          36,
          37,
          38,
          39,
          40,
          41,
          42,
          43,
          44,
          45,
          46,
          47,
          48,
          49,
          50,
          51,
          52,
          53,
          54,
          55,
          56,
          57,
          58,
          59,
          60,
          61,
          62,
          63,
          64,
          65,
          66,
          67,
          68,
          69,
          70,
          71,
          72,
          73,
          74,
          75,
          76,
          77,
          78,
          79,
          80,
          81,
          82,
          83,
          84,
          85,
          86,
          87,
          88,
          89,
          90,
          91,
          92,
          93,
          94,
          95,
          96,
          97,
          98,
          99
         ],
         "y": [
          0.8335185185185185,
          0.830925925925926,
          0.8312962962962963,
          0.8320370370370371,
          0.8307407407407407,
          0.827037037037037,
          0.815,
          0.8192592592592592,
          0.8312962962962963,
          0.8118518518518518,
          0.8285185185185185,
          0.8342592592592593,
          0.8314814814814815,
          0.8324074074074074,
          0.8374074074074074,
          0.8337037037037037,
          0.8303703703703704,
          0.8361111111111111,
          0.8364814814814815,
          0.8232407407407407,
          0.8314814814814815,
          0.8359259259259259,
          0.8325925925925927,
          0.8379629629629629,
          0.8344444444444444,
          0.8331481481481482,
          0.8146296296296297,
          0.8335185185185185,
          0.8233333333333334,
          0.8375925925925926,
          0.8340740740740741,
          0.8324074074074074,
          0.8374074074074074,
          0.836111111111111,
          0.8324074074074075,
          0.8348148148148148,
          0.8200000000000001,
          0.835,
          0.822962962962963,
          0.8257407407407408,
          0.8381481481481481,
          0.8364814814814814,
          0.8318518518518518,
          0.8361111111111111,
          0.8009259259259259,
          0.8227777777777777,
          0.8296296296296297,
          0.8324074074074074,
          0.8353703703703703,
          0.825925925925926,
          0.8285185185185184,
          0.8362962962962963,
          0.8346296296296296,
          0.8366666666666667,
          0.8340740740740741,
          0.8355555555555555,
          0.8285185185185184,
          0.8275925925925925,
          0.8351851851851851,
          0.8320370370370371,
          0.827037037037037,
          0.8316666666666667,
          0.8366666666666667,
          0.8364814814814815,
          0.8364814814814815,
          0.8372222222222222,
          0.8329629629629629,
          0.8364814814814815,
          0.8220370370370371,
          0.8240740740740741,
          0.8357407407407408,
          0.8366666666666667,
          0.8379629629629629,
          0.8333333333333334,
          0.835925925925926,
          0.8372222222222222,
          0.8342592592592593,
          0.8362962962962963,
          0.8340740740740741,
          0.8177777777777777,
          0.8307407407407407,
          0.8381481481481482,
          0.8342592592592593,
          0.8379629629629629,
          0.8368518518518518,
          0.8331481481481482,
          0.8331481481481482,
          0.8377777777777778,
          0.835925925925926,
          0.8331481481481481,
          0.8296296296296296,
          0.8374074074074074,
          0.8344444444444444,
          0.8377777777777778,
          0.8337037037037036,
          0.837037037037037,
          0.8329629629629629,
          0.8281481481481481,
          0.8342592592592593,
          0.8322222222222222
         ]
        },
        {
         "mode": "lines",
         "name": "Best Value",
         "type": "scatter",
         "x": [
          0,
          1,
          2,
          3,
          4,
          5,
          6,
          7,
          8,
          9,
          10,
          11,
          12,
          13,
          14,
          15,
          16,
          17,
          18,
          19,
          20,
          21,
          22,
          23,
          24,
          25,
          26,
          27,
          28,
          29,
          30,
          31,
          32,
          33,
          34,
          35,
          36,
          37,
          38,
          39,
          40,
          41,
          42,
          43,
          44,
          45,
          46,
          47,
          48,
          49,
          50,
          51,
          52,
          53,
          54,
          55,
          56,
          57,
          58,
          59,
          60,
          61,
          62,
          63,
          64,
          65,
          66,
          67,
          68,
          69,
          70,
          71,
          72,
          73,
          74,
          75,
          76,
          77,
          78,
          79,
          80,
          81,
          82,
          83,
          84,
          85,
          86,
          87,
          88,
          89,
          90,
          91,
          92,
          93,
          94,
          95,
          96,
          97,
          98,
          99
         ],
         "y": [
          0.8335185185185185,
          0.8335185185185185,
          0.8335185185185185,
          0.8335185185185185,
          0.8335185185185185,
          0.8335185185185185,
          0.8335185185185185,
          0.8335185185185185,
          0.8335185185185185,
          0.8335185185185185,
          0.8335185185185185,
          0.8342592592592593,
          0.8342592592592593,
          0.8342592592592593,
          0.8374074074074074,
          0.8374074074074074,
          0.8374074074074074,
          0.8374074074074074,
          0.8374074074074074,
          0.8374074074074074,
          0.8374074074074074,
          0.8374074074074074,
          0.8374074074074074,
          0.8379629629629629,
          0.8379629629629629,
          0.8379629629629629,
          0.8379629629629629,
          0.8379629629629629,
          0.8379629629629629,
          0.8379629629629629,
          0.8379629629629629,
          0.8379629629629629,
          0.8379629629629629,
          0.8379629629629629,
          0.8379629629629629,
          0.8379629629629629,
          0.8379629629629629,
          0.8379629629629629,
          0.8379629629629629,
          0.8379629629629629,
          0.8381481481481481,
          0.8381481481481481,
          0.8381481481481481,
          0.8381481481481481,
          0.8381481481481481,
          0.8381481481481481,
          0.8381481481481481,
          0.8381481481481481,
          0.8381481481481481,
          0.8381481481481481,
          0.8381481481481481,
          0.8381481481481481,
          0.8381481481481481,
          0.8381481481481481,
          0.8381481481481481,
          0.8381481481481481,
          0.8381481481481481,
          0.8381481481481481,
          0.8381481481481481,
          0.8381481481481481,
          0.8381481481481481,
          0.8381481481481481,
          0.8381481481481481,
          0.8381481481481481,
          0.8381481481481481,
          0.8381481481481481,
          0.8381481481481481,
          0.8381481481481481,
          0.8381481481481481,
          0.8381481481481481,
          0.8381481481481481,
          0.8381481481481481,
          0.8381481481481481,
          0.8381481481481481,
          0.8381481481481481,
          0.8381481481481481,
          0.8381481481481481,
          0.8381481481481481,
          0.8381481481481481,
          0.8381481481481481,
          0.8381481481481481,
          0.8381481481481482,
          0.8381481481481482,
          0.8381481481481482,
          0.8381481481481482,
          0.8381481481481482,
          0.8381481481481482,
          0.8381481481481482,
          0.8381481481481482,
          0.8381481481481482,
          0.8381481481481482,
          0.8381481481481482,
          0.8381481481481482,
          0.8381481481481482,
          0.8381481481481482,
          0.8381481481481482,
          0.8381481481481482,
          0.8381481481481482,
          0.8381481481481482,
          0.8381481481481482
         ]
        },
        {
         "marker": {
          "color": "#cccccc"
         },
         "mode": "markers",
         "name": "Infeasible Trial",
         "showlegend": false,
         "type": "scatter",
         "x": [],
         "y": []
        }
       ],
       "layout": {
        "template": {
         "data": {
          "bar": [
           {
            "error_x": {
             "color": "#2a3f5f"
            },
            "error_y": {
             "color": "#2a3f5f"
            },
            "marker": {
             "line": {
              "color": "#E5ECF6",
              "width": 0.5
             },
             "pattern": {
              "fillmode": "overlay",
              "size": 10,
              "solidity": 0.2
             }
            },
            "type": "bar"
           }
          ],
          "barpolar": [
           {
            "marker": {
             "line": {
              "color": "#E5ECF6",
              "width": 0.5
             },
             "pattern": {
              "fillmode": "overlay",
              "size": 10,
              "solidity": 0.2
             }
            },
            "type": "barpolar"
           }
          ],
          "carpet": [
           {
            "aaxis": {
             "endlinecolor": "#2a3f5f",
             "gridcolor": "white",
             "linecolor": "white",
             "minorgridcolor": "white",
             "startlinecolor": "#2a3f5f"
            },
            "baxis": {
             "endlinecolor": "#2a3f5f",
             "gridcolor": "white",
             "linecolor": "white",
             "minorgridcolor": "white",
             "startlinecolor": "#2a3f5f"
            },
            "type": "carpet"
           }
          ],
          "choropleth": [
           {
            "colorbar": {
             "outlinewidth": 0,
             "ticks": ""
            },
            "type": "choropleth"
           }
          ],
          "contour": [
           {
            "colorbar": {
             "outlinewidth": 0,
             "ticks": ""
            },
            "colorscale": [
             [
              0,
              "#0d0887"
             ],
             [
              0.1111111111111111,
              "#46039f"
             ],
             [
              0.2222222222222222,
              "#7201a8"
             ],
             [
              0.3333333333333333,
              "#9c179e"
             ],
             [
              0.4444444444444444,
              "#bd3786"
             ],
             [
              0.5555555555555556,
              "#d8576b"
             ],
             [
              0.6666666666666666,
              "#ed7953"
             ],
             [
              0.7777777777777778,
              "#fb9f3a"
             ],
             [
              0.8888888888888888,
              "#fdca26"
             ],
             [
              1,
              "#f0f921"
             ]
            ],
            "type": "contour"
           }
          ],
          "contourcarpet": [
           {
            "colorbar": {
             "outlinewidth": 0,
             "ticks": ""
            },
            "type": "contourcarpet"
           }
          ],
          "heatmap": [
           {
            "colorbar": {
             "outlinewidth": 0,
             "ticks": ""
            },
            "colorscale": [
             [
              0,
              "#0d0887"
             ],
             [
              0.1111111111111111,
              "#46039f"
             ],
             [
              0.2222222222222222,
              "#7201a8"
             ],
             [
              0.3333333333333333,
              "#9c179e"
             ],
             [
              0.4444444444444444,
              "#bd3786"
             ],
             [
              0.5555555555555556,
              "#d8576b"
             ],
             [
              0.6666666666666666,
              "#ed7953"
             ],
             [
              0.7777777777777778,
              "#fb9f3a"
             ],
             [
              0.8888888888888888,
              "#fdca26"
             ],
             [
              1,
              "#f0f921"
             ]
            ],
            "type": "heatmap"
           }
          ],
          "histogram": [
           {
            "marker": {
             "pattern": {
              "fillmode": "overlay",
              "size": 10,
              "solidity": 0.2
             }
            },
            "type": "histogram"
           }
          ],
          "histogram2d": [
           {
            "colorbar": {
             "outlinewidth": 0,
             "ticks": ""
            },
            "colorscale": [
             [
              0,
              "#0d0887"
             ],
             [
              0.1111111111111111,
              "#46039f"
             ],
             [
              0.2222222222222222,
              "#7201a8"
             ],
             [
              0.3333333333333333,
              "#9c179e"
             ],
             [
              0.4444444444444444,
              "#bd3786"
             ],
             [
              0.5555555555555556,
              "#d8576b"
             ],
             [
              0.6666666666666666,
              "#ed7953"
             ],
             [
              0.7777777777777778,
              "#fb9f3a"
             ],
             [
              0.8888888888888888,
              "#fdca26"
             ],
             [
              1,
              "#f0f921"
             ]
            ],
            "type": "histogram2d"
           }
          ],
          "histogram2dcontour": [
           {
            "colorbar": {
             "outlinewidth": 0,
             "ticks": ""
            },
            "colorscale": [
             [
              0,
              "#0d0887"
             ],
             [
              0.1111111111111111,
              "#46039f"
             ],
             [
              0.2222222222222222,
              "#7201a8"
             ],
             [
              0.3333333333333333,
              "#9c179e"
             ],
             [
              0.4444444444444444,
              "#bd3786"
             ],
             [
              0.5555555555555556,
              "#d8576b"
             ],
             [
              0.6666666666666666,
              "#ed7953"
             ],
             [
              0.7777777777777778,
              "#fb9f3a"
             ],
             [
              0.8888888888888888,
              "#fdca26"
             ],
             [
              1,
              "#f0f921"
             ]
            ],
            "type": "histogram2dcontour"
           }
          ],
          "mesh3d": [
           {
            "colorbar": {
             "outlinewidth": 0,
             "ticks": ""
            },
            "type": "mesh3d"
           }
          ],
          "parcoords": [
           {
            "line": {
             "colorbar": {
              "outlinewidth": 0,
              "ticks": ""
             }
            },
            "type": "parcoords"
           }
          ],
          "pie": [
           {
            "automargin": true,
            "type": "pie"
           }
          ],
          "scatter": [
           {
            "fillpattern": {
             "fillmode": "overlay",
             "size": 10,
             "solidity": 0.2
            },
            "type": "scatter"
           }
          ],
          "scatter3d": [
           {
            "line": {
             "colorbar": {
              "outlinewidth": 0,
              "ticks": ""
             }
            },
            "marker": {
             "colorbar": {
              "outlinewidth": 0,
              "ticks": ""
             }
            },
            "type": "scatter3d"
           }
          ],
          "scattercarpet": [
           {
            "marker": {
             "colorbar": {
              "outlinewidth": 0,
              "ticks": ""
             }
            },
            "type": "scattercarpet"
           }
          ],
          "scattergeo": [
           {
            "marker": {
             "colorbar": {
              "outlinewidth": 0,
              "ticks": ""
             }
            },
            "type": "scattergeo"
           }
          ],
          "scattergl": [
           {
            "marker": {
             "colorbar": {
              "outlinewidth": 0,
              "ticks": ""
             }
            },
            "type": "scattergl"
           }
          ],
          "scattermap": [
           {
            "marker": {
             "colorbar": {
              "outlinewidth": 0,
              "ticks": ""
             }
            },
            "type": "scattermap"
           }
          ],
          "scattermapbox": [
           {
            "marker": {
             "colorbar": {
              "outlinewidth": 0,
              "ticks": ""
             }
            },
            "type": "scattermapbox"
           }
          ],
          "scatterpolar": [
           {
            "marker": {
             "colorbar": {
              "outlinewidth": 0,
              "ticks": ""
             }
            },
            "type": "scatterpolar"
           }
          ],
          "scatterpolargl": [
           {
            "marker": {
             "colorbar": {
              "outlinewidth": 0,
              "ticks": ""
             }
            },
            "type": "scatterpolargl"
           }
          ],
          "scatterternary": [
           {
            "marker": {
             "colorbar": {
              "outlinewidth": 0,
              "ticks": ""
             }
            },
            "type": "scatterternary"
           }
          ],
          "surface": [
           {
            "colorbar": {
             "outlinewidth": 0,
             "ticks": ""
            },
            "colorscale": [
             [
              0,
              "#0d0887"
             ],
             [
              0.1111111111111111,
              "#46039f"
             ],
             [
              0.2222222222222222,
              "#7201a8"
             ],
             [
              0.3333333333333333,
              "#9c179e"
             ],
             [
              0.4444444444444444,
              "#bd3786"
             ],
             [
              0.5555555555555556,
              "#d8576b"
             ],
             [
              0.6666666666666666,
              "#ed7953"
             ],
             [
              0.7777777777777778,
              "#fb9f3a"
             ],
             [
              0.8888888888888888,
              "#fdca26"
             ],
             [
              1,
              "#f0f921"
             ]
            ],
            "type": "surface"
           }
          ],
          "table": [
           {
            "cells": {
             "fill": {
              "color": "#EBF0F8"
             },
             "line": {
              "color": "white"
             }
            },
            "header": {
             "fill": {
              "color": "#C8D4E3"
             },
             "line": {
              "color": "white"
             }
            },
            "type": "table"
           }
          ]
         },
         "layout": {
          "annotationdefaults": {
           "arrowcolor": "#2a3f5f",
           "arrowhead": 0,
           "arrowwidth": 1
          },
          "autotypenumbers": "strict",
          "coloraxis": {
           "colorbar": {
            "outlinewidth": 0,
            "ticks": ""
           }
          },
          "colorscale": {
           "diverging": [
            [
             0,
             "#8e0152"
            ],
            [
             0.1,
             "#c51b7d"
            ],
            [
             0.2,
             "#de77ae"
            ],
            [
             0.3,
             "#f1b6da"
            ],
            [
             0.4,
             "#fde0ef"
            ],
            [
             0.5,
             "#f7f7f7"
            ],
            [
             0.6,
             "#e6f5d0"
            ],
            [
             0.7,
             "#b8e186"
            ],
            [
             0.8,
             "#7fbc41"
            ],
            [
             0.9,
             "#4d9221"
            ],
            [
             1,
             "#276419"
            ]
           ],
           "sequential": [
            [
             0,
             "#0d0887"
            ],
            [
             0.1111111111111111,
             "#46039f"
            ],
            [
             0.2222222222222222,
             "#7201a8"
            ],
            [
             0.3333333333333333,
             "#9c179e"
            ],
            [
             0.4444444444444444,
             "#bd3786"
            ],
            [
             0.5555555555555556,
             "#d8576b"
            ],
            [
             0.6666666666666666,
             "#ed7953"
            ],
            [
             0.7777777777777778,
             "#fb9f3a"
            ],
            [
             0.8888888888888888,
             "#fdca26"
            ],
            [
             1,
             "#f0f921"
            ]
           ],
           "sequentialminus": [
            [
             0,
             "#0d0887"
            ],
            [
             0.1111111111111111,
             "#46039f"
            ],
            [
             0.2222222222222222,
             "#7201a8"
            ],
            [
             0.3333333333333333,
             "#9c179e"
            ],
            [
             0.4444444444444444,
             "#bd3786"
            ],
            [
             0.5555555555555556,
             "#d8576b"
            ],
            [
             0.6666666666666666,
             "#ed7953"
            ],
            [
             0.7777777777777778,
             "#fb9f3a"
            ],
            [
             0.8888888888888888,
             "#fdca26"
            ],
            [
             1,
             "#f0f921"
            ]
           ]
          },
          "colorway": [
           "#636efa",
           "#EF553B",
           "#00cc96",
           "#ab63fa",
           "#FFA15A",
           "#19d3f3",
           "#FF6692",
           "#B6E880",
           "#FF97FF",
           "#FECB52"
          ],
          "font": {
           "color": "#2a3f5f"
          },
          "geo": {
           "bgcolor": "white",
           "lakecolor": "white",
           "landcolor": "#E5ECF6",
           "showlakes": true,
           "showland": true,
           "subunitcolor": "white"
          },
          "hoverlabel": {
           "align": "left"
          },
          "hovermode": "closest",
          "mapbox": {
           "style": "light"
          },
          "paper_bgcolor": "white",
          "plot_bgcolor": "#E5ECF6",
          "polar": {
           "angularaxis": {
            "gridcolor": "white",
            "linecolor": "white",
            "ticks": ""
           },
           "bgcolor": "#E5ECF6",
           "radialaxis": {
            "gridcolor": "white",
            "linecolor": "white",
            "ticks": ""
           }
          },
          "scene": {
           "xaxis": {
            "backgroundcolor": "#E5ECF6",
            "gridcolor": "white",
            "gridwidth": 2,
            "linecolor": "white",
            "showbackground": true,
            "ticks": "",
            "zerolinecolor": "white"
           },
           "yaxis": {
            "backgroundcolor": "#E5ECF6",
            "gridcolor": "white",
            "gridwidth": 2,
            "linecolor": "white",
            "showbackground": true,
            "ticks": "",
            "zerolinecolor": "white"
           },
           "zaxis": {
            "backgroundcolor": "#E5ECF6",
            "gridcolor": "white",
            "gridwidth": 2,
            "linecolor": "white",
            "showbackground": true,
            "ticks": "",
            "zerolinecolor": "white"
           }
          },
          "shapedefaults": {
           "line": {
            "color": "#2a3f5f"
           }
          },
          "ternary": {
           "aaxis": {
            "gridcolor": "white",
            "linecolor": "white",
            "ticks": ""
           },
           "baxis": {
            "gridcolor": "white",
            "linecolor": "white",
            "ticks": ""
           },
           "bgcolor": "#E5ECF6",
           "caxis": {
            "gridcolor": "white",
            "linecolor": "white",
            "ticks": ""
           }
          },
          "title": {
           "x": 0.05
          },
          "xaxis": {
           "automargin": true,
           "gridcolor": "white",
           "linecolor": "white",
           "ticks": "",
           "title": {
            "standoff": 15
           },
           "zerolinecolor": "white",
           "zerolinewidth": 2
          },
          "yaxis": {
           "automargin": true,
           "gridcolor": "white",
           "linecolor": "white",
           "ticks": "",
           "title": {
            "standoff": 15
           },
           "zerolinecolor": "white",
           "zerolinewidth": 2
          }
         }
        },
        "title": {
         "text": "Optimization History Plot"
        },
        "xaxis": {
         "title": {
          "text": "Trial"
         }
        },
        "yaxis": {
         "title": {
          "text": "Objective Value"
         }
        }
       }
      }
     },
     "metadata": {},
     "output_type": "display_data"
    },
    {
     "data": {
      "application/vnd.plotly.v1+json": {
       "config": {
        "plotlyServerURL": "https://plot.ly"
       },
       "data": [
        {
         "marker": {
          "maxdisplayed": 10
         },
         "mode": "lines+markers",
         "name": "Trial0",
         "type": "scatter",
         "x": [
          1,
          2,
          3,
          5,
          6,
          12,
          25,
          37,
          50,
          62,
          75,
          87,
          100,
          112,
          125
         ],
         "y": [
          null,
          0.6938110749185668,
          0.7052117263843648,
          0.7247557003257329,
          0.7263843648208469,
          0.7328990228013029,
          0.749185667752443,
          0.7654723127035831,
          0.7638436482084691,
          0.760586319218241,
          0.760586319218241,
          0.7654723127035831,
          0.758957654723127,
          0.757328990228013,
          0.758957654723127
         ]
        },
        {
         "marker": {
          "maxdisplayed": 10
         },
         "mode": "lines+markers",
         "name": "Trial1",
         "type": "scatter",
         "x": [
          2,
          4,
          6,
          8,
          10,
          21,
          43,
          65,
          86,
          108,
          130,
          151,
          173,
          195,
          217
         ],
         "y": [
          0.6596091205211726,
          0.6807817589576547,
          0.6938110749185668,
          0.7133550488599348,
          0.7084690553745928,
          0.7247557003257329,
          0.741042345276873,
          0.744299674267101,
          0.749185667752443,
          0.757328990228013,
          0.758957654723127,
          0.760586319218241,
          0.755700325732899,
          0.754071661237785,
          0.755700325732899
         ]
        },
        {
         "marker": {
          "maxdisplayed": 10
         },
         "mode": "lines+markers",
         "name": "Trial2",
         "type": "scatter",
         "x": [
          1,
          2,
          4,
          5,
          7,
          14,
          28,
          42,
          56,
          70,
          84,
          98,
          112,
          126,
          141
         ],
         "y": [
          null,
          0.6986970684039088,
          0.7068403908794788,
          0.7247557003257329,
          0.7231270358306189,
          0.747557003257329,
          0.750814332247557,
          0.755700325732899,
          0.757328990228013,
          0.762214983713355,
          0.760586319218241,
          0.757328990228013,
          0.760586319218241,
          0.7638436482084691,
          0.7638436482084691
         ]
        },
        {
         "marker": {
          "maxdisplayed": 10
         },
         "mode": "lines+markers",
         "name": "Trial3",
         "type": "scatter",
         "x": [
          1,
          2,
          3,
          4,
          5,
          11,
          22,
          33,
          44,
          55,
          66,
          77,
          88,
          99,
          111
         ],
         "y": [
          null,
          0.6970684039087948,
          0.7003257328990228,
          0.7182410423452769,
          0.7247557003257329,
          0.754071661237785,
          0.754071661237785,
          0.757328990228013,
          0.762214983713355,
          0.7654723127035831,
          0.7703583061889251,
          0.7671009771986971,
          0.7654723127035831,
          0.758957654723127,
          0.754071661237785
         ]
        },
        {
         "marker": {
          "maxdisplayed": 10
         },
         "mode": "lines+markers",
         "name": "Trial4",
         "type": "scatter",
         "x": [
          1,
          3,
          4,
          6,
          7,
          15,
          31,
          47,
          63,
          79,
          95,
          111,
          127,
          143,
          159
         ],
         "y": [
          null,
          0.7068403908794788,
          0.7231270358306189,
          0.7231270358306189,
          0.7296416938110749,
          0.737785016286645,
          0.7345276872964169,
          0.739413680781759,
          0.754071661237785,
          0.755700325732899,
          0.755700325732899,
          0.758957654723127,
          0.755700325732899,
          0.750814332247557,
          0.754071661237785
         ]
        },
        {
         "marker": {
          "maxdisplayed": 10
         },
         "mode": "lines+markers",
         "name": "Trial5",
         "type": "scatter",
         "x": [
          1,
          2,
          3,
          5,
          6,
          12,
          25,
          38,
          51,
          64,
          76,
          89,
          102,
          115,
          128
         ],
         "y": [
          null,
          0.6921824104234527,
          0.7068403908794788,
          0.7280130293159609,
          0.7247557003257329,
          0.742671009771987,
          0.7654723127035831,
          0.7654723127035831,
          0.758957654723127,
          0.754071661237785,
          0.752442996742671,
          0.754071661237785,
          0.750814332247557,
          0.755700325732899,
          0.758957654723127
         ]
        },
        {
         "marker": {
          "maxdisplayed": 10
         },
         "mode": "lines+markers",
         "name": "Trial6",
         "type": "scatter",
         "x": [
          1,
          2,
          5,
          10,
          15,
          20,
          25,
          30,
          35,
          40,
          45,
          51
         ],
         "y": [
          null,
          0.6872964169381107,
          0.7361563517915309,
          0.752442996742671,
          0.755700325732899,
          0.760586319218241,
          0.754071661237785,
          0.754071661237785,
          0.7638436482084691,
          0.7638436482084691,
          0.7638436482084691,
          0.7687296416938111
         ]
        },
        {
         "marker": {
          "maxdisplayed": 10
         },
         "mode": "lines+markers",
         "name": "Trial7",
         "type": "scatter",
         "x": [
          1,
          2,
          3,
          4,
          5,
          11,
          22,
          33,
          44,
          56,
          67,
          78,
          89,
          100,
          112
         ],
         "y": [
          null,
          0.6872964169381107,
          0.7117263843648208,
          0.7247557003257329,
          0.7361563517915309,
          0.757328990228013,
          0.749185667752443,
          0.762214983713355,
          0.762214983713355,
          0.7719869706840391,
          0.7752442996742671,
          0.7703583061889251,
          0.7687296416938111,
          0.762214983713355,
          0.7638436482084691
         ]
        },
        {
         "marker": {
          "maxdisplayed": 10
         },
         "mode": "lines+markers",
         "name": "Trial8",
         "type": "scatter",
         "x": [
          1,
          3,
          4,
          6,
          7,
          15,
          31,
          46,
          62,
          77,
          93,
          108,
          124,
          139,
          155
         ],
         "y": [
          null,
          0.6710097719869706,
          0.6970684039087948,
          0.7214983713355049,
          0.7182410423452769,
          0.737785016286645,
          0.7361563517915309,
          0.749185667752443,
          0.762214983713355,
          0.7719869706840391,
          0.7671009771986971,
          0.7703583061889251,
          0.7654723127035831,
          0.7654723127035831,
          0.7638436482084691
         ]
        },
        {
         "marker": {
          "maxdisplayed": 10
         },
         "mode": "lines+markers",
         "name": "Trial9",
         "type": "scatter",
         "x": [
          1,
          2,
          3,
          4,
          9,
          19,
          28,
          38,
          47,
          57,
          66,
          76,
          85,
          95
         ],
         "y": [
          null,
          0.7019543973941368,
          0.7149837133550488,
          0.7296416938110749,
          0.760586319218241,
          0.760586319218241,
          0.754071661237785,
          0.757328990228013,
          0.7671009771986971,
          0.7687296416938111,
          0.7719869706840391,
          0.7671009771986971,
          0.7719869706840391,
          0.7719869706840391
         ]
        },
        {
         "marker": {
          "maxdisplayed": 10
         },
         "mode": "lines+markers",
         "name": "Trial10",
         "type": "scatter",
         "x": [
          2,
          4,
          6,
          8,
          10,
          20,
          41,
          61,
          82,
          103,
          123,
          144,
          164,
          185,
          206
         ],
         "y": [
          0.6677524429967426,
          0.6824104234527687,
          0.7003257328990228,
          0.6970684039087948,
          0.7117263843648208,
          0.7263843648208469,
          0.754071661237785,
          0.758957654723127,
          0.7719869706840391,
          0.760586319218241,
          0.7654723127035831,
          0.760586319218241,
          0.7638436482084691,
          0.758957654723127,
          0.755700325732899
         ]
        },
        {
         "marker": {
          "maxdisplayed": 10
         },
         "mode": "lines+markers",
         "name": "Trial11",
         "type": "scatter",
         "x": [
          1,
          2,
          3,
          7,
          15,
          23,
          31,
          39,
          46,
          54,
          62,
          70,
          78
         ],
         "y": [
          null,
          0.6856677524429967,
          0.6938110749185668,
          0.7198697068403909,
          0.7328990228013029,
          0.750814332247557,
          0.747557003257329,
          0.742671009771987,
          0.745928338762215,
          0.750814332247557,
          0.749185667752443,
          0.745928338762215,
          0.742671009771987
         ]
        },
        {
         "marker": {
          "maxdisplayed": 10
         },
         "mode": "lines+markers",
         "name": "Trial12",
         "type": "scatter",
         "x": [
          1,
          2,
          3,
          6,
          13,
          20,
          26,
          33,
          40,
          46,
          53,
          60,
          67
         ],
         "y": [
          null,
          0.6889250814332247,
          0.6889250814332247,
          0.7133550488599348,
          0.744299674267101,
          0.7361563517915309,
          0.737785016286645,
          0.737785016286645,
          0.749185667752443,
          0.745928338762215,
          0.742671009771987,
          0.745928338762215,
          0.749185667752443
         ]
        },
        {
         "marker": {
          "maxdisplayed": 10
         },
         "mode": "lines+markers",
         "name": "Trial13",
         "type": "scatter",
         "x": [
          1,
          2,
          3,
          7,
          15,
          23,
          30,
          38,
          46,
          53,
          61,
          69,
          77
         ],
         "y": [
          null,
          0.6970684039087948,
          0.7052117263843648,
          0.7280130293159609,
          0.744299674267101,
          0.750814332247557,
          0.747557003257329,
          0.755700325732899,
          0.755700325732899,
          0.754071661237785,
          0.754071661237785,
          0.750814332247557,
          0.752442996742671
         ]
        },
        {
         "marker": {
          "maxdisplayed": 10
         },
         "mode": "lines+markers",
         "name": "Trial14",
         "type": "scatter",
         "x": [
          1,
          3,
          5,
          7,
          9,
          18,
          36,
          54,
          72,
          91,
          109,
          127,
          145,
          163,
          182
         ],
         "y": [
          null,
          0.7003257328990228,
          0.7166123778501629,
          0.7117263843648208,
          0.7280130293159609,
          0.742671009771987,
          0.747557003257329,
          0.752442996742671,
          0.749185667752443,
          0.754071661237785,
          0.752442996742671,
          0.752442996742671,
          0.747557003257329,
          0.757328990228013,
          0.755700325732899
         ]
        },
        {
         "marker": {
          "maxdisplayed": 10
         },
         "mode": "lines+markers",
         "name": "Trial15",
         "type": "scatter",
         "x": [
          2,
          5,
          7,
          10,
          12,
          25,
          50,
          75,
          100,
          125,
          150,
          175,
          200,
          225,
          250
         ],
         "y": [
          0.6807817589576547,
          0.7133550488599348,
          0.7312703583061889,
          0.745928338762215,
          0.755700325732899,
          0.744299674267101,
          0.749185667752443,
          0.747557003257329,
          0.757328990228013,
          0.755700325732899,
          0.754071661237785,
          0.750814332247557,
          0.754071661237785,
          0.752442996742671,
          0.754071661237785
         ]
        },
        {
         "marker": {
          "maxdisplayed": 10
         },
         "mode": "lines+markers",
         "name": "Trial16",
         "type": "scatter",
         "x": [
          1,
          3,
          5,
          7,
          8,
          17,
          35,
          52,
          70,
          87,
          105,
          122,
          140,
          157,
          175
         ],
         "y": [
          null,
          0.6872964169381107,
          0.7100977198697068,
          0.7166123778501629,
          0.7263843648208469,
          0.755700325732899,
          0.749185667752443,
          0.757328990228013,
          0.7671009771986971,
          0.7671009771986971,
          0.762214983713355,
          0.7654723127035831,
          0.7638436482084691,
          0.7654723127035831,
          0.7654723127035831
         ]
        },
        {
         "marker": {
          "maxdisplayed": 10
         },
         "mode": "lines+markers",
         "name": "Trial17",
         "type": "scatter",
         "x": [
          1,
          3,
          5,
          7,
          9,
          18,
          36,
          54,
          72,
          91,
          109,
          127,
          145,
          163,
          182
         ],
         "y": [
          null,
          0.6872964169381107,
          0.7117263843648208,
          0.7019543973941368,
          0.7133550488599348,
          0.741042345276873,
          0.749185667752443,
          0.760586319218241,
          0.749185667752443,
          0.750814332247557,
          0.745928338762215,
          0.745928338762215,
          0.744299674267101,
          0.744299674267101,
          0.745928338762215
         ]
        },
        {
         "marker": {
          "maxdisplayed": 10
         },
         "mode": "lines+markers",
         "name": "Trial18",
         "type": "scatter",
         "x": [
          1,
          3,
          5,
          7,
          9,
          18,
          37,
          56,
          75,
          94,
          113,
          132,
          151,
          170,
          189
         ],
         "y": [
          null,
          0.6693811074918566,
          0.6970684039087948,
          0.7068403908794788,
          0.7214983713355049,
          0.7328990228013029,
          0.7328990228013029,
          0.745928338762215,
          0.758957654723127,
          0.752442996742671,
          0.755700325732899,
          0.745928338762215,
          0.745928338762215,
          0.754071661237785,
          0.750814332247557
         ]
        },
        {
         "marker": {
          "maxdisplayed": 10
         },
         "mode": "lines+markers",
         "name": "Trial19",
         "type": "scatter",
         "x": [
          2,
          4,
          6,
          8,
          10,
          21,
          42,
          63,
          84,
          106,
          127,
          148,
          169,
          190,
          212
         ],
         "y": [
          0.6677524429967426,
          0.6921824104234527,
          0.7003257328990228,
          0.7052117263843648,
          0.7231270358306189,
          0.742671009771987,
          0.754071661237785,
          0.750814332247557,
          0.758957654723127,
          0.755700325732899,
          0.757328990228013,
          0.762214983713355,
          0.7638436482084691,
          0.7703583061889251,
          0.7654723127035831
         ]
        },
        {
         "marker": {
          "maxdisplayed": 10
         },
         "mode": "lines+markers",
         "name": "Trial20",
         "type": "scatter",
         "x": [
          2,
          4,
          7,
          9,
          12,
          24,
          48,
          72,
          97,
          121,
          145,
          170,
          194,
          218,
          243
         ],
         "y": [
          0.6742671009771987,
          0.6872964169381107,
          0.7263843648208469,
          0.7345276872964169,
          0.742671009771987,
          0.741042345276873,
          0.750814332247557,
          0.762214983713355,
          0.7654723127035831,
          0.754071661237785,
          0.755700325732899,
          0.758957654723127,
          0.758957654723127,
          0.762214983713355,
          0.757328990228013
         ]
        },
        {
         "marker": {
          "maxdisplayed": 10
         },
         "mode": "lines+markers",
         "name": "Trial21",
         "type": "scatter",
         "x": [
          1,
          3,
          5,
          7,
          9,
          18,
          37,
          56,
          75,
          94,
          112,
          131,
          150,
          169,
          188
         ],
         "y": [
          null,
          0.6872964169381107,
          0.7117263843648208,
          0.7019543973941368,
          0.7133550488599348,
          0.741042345276873,
          0.757328990228013,
          0.755700325732899,
          0.757328990228013,
          0.750814332247557,
          0.745928338762215,
          0.742671009771987,
          0.744299674267101,
          0.745928338762215,
          0.745928338762215
         ]
        },
        {
         "marker": {
          "maxdisplayed": 10
         },
         "mode": "lines+markers",
         "name": "Trial22",
         "type": "scatter",
         "x": [
          1,
          3,
          5,
          7,
          9,
          18,
          37,
          56,
          75,
          94,
          112,
          131,
          150,
          169,
          188
         ],
         "y": [
          null,
          0.6758957654723127,
          0.7019543973941368,
          0.6938110749185668,
          0.7214983713355049,
          0.7328990228013029,
          0.739413680781759,
          0.755700325732899,
          0.749185667752443,
          0.7654723127035831,
          0.757328990228013,
          0.754071661237785,
          0.7654723127035831,
          0.762214983713355,
          0.757328990228013
         ]
        },
        {
         "marker": {
          "maxdisplayed": 10
         },
         "mode": "lines+markers",
         "name": "Trial23",
         "type": "scatter",
         "x": [
          1,
          3,
          5,
          7,
          8,
          17,
          35,
          52,
          70,
          88,
          105,
          123,
          140,
          158,
          176
         ],
         "y": [
          null,
          0.7003257328990228,
          0.7166123778501629,
          0.7117263843648208,
          0.7198697068403909,
          0.739413680781759,
          0.745928338762215,
          0.754071661237785,
          0.752442996742671,
          0.755700325732899,
          0.754071661237785,
          0.750814332247557,
          0.750814332247557,
          0.752442996742671,
          0.757328990228013
         ]
        },
        {
         "marker": {
          "maxdisplayed": 10
         },
         "mode": "lines+markers",
         "name": "Trial24",
         "type": "scatter",
         "x": [
          1,
          3,
          5,
          6,
          8,
          16,
          33,
          50,
          67,
          84,
          100,
          117,
          134,
          151,
          168
         ],
         "y": [
          null,
          0.6986970684039088,
          0.7166123778501629,
          0.7231270358306189,
          0.7214983713355049,
          0.737785016286645,
          0.741042345276873,
          0.755700325732899,
          0.750814332247557,
          0.749185667752443,
          0.752442996742671,
          0.755700325732899,
          0.747557003257329,
          0.752442996742671,
          0.752442996742671
         ]
        },
        {
         "marker": {
          "maxdisplayed": 10
         },
         "mode": "lines+markers",
         "name": "Trial25",
         "type": "scatter",
         "x": [
          1,
          3,
          5,
          7,
          9,
          19,
          39,
          58,
          78,
          98,
          117,
          137,
          156,
          176,
          196
         ],
         "y": [
          null,
          0.7149837133550488,
          0.737785016286645,
          0.7296416938110749,
          0.739413680781759,
          0.754071661237785,
          0.755700325732899,
          0.757328990228013,
          0.757328990228013,
          0.760586319218241,
          0.762214983713355,
          0.760586319218241,
          0.758957654723127,
          0.755700325732899,
          0.758957654723127
         ]
        },
        {
         "marker": {
          "maxdisplayed": 10
         },
         "mode": "lines+markers",
         "name": "Trial26",
         "type": "scatter",
         "x": [
          2,
          4,
          6,
          8,
          11,
          22,
          44,
          67,
          89,
          112,
          134,
          156,
          179,
          201,
          224
         ],
         "y": [
          0.6775244299674267,
          0.6856677524429967,
          0.7149837133550488,
          0.7231270358306189,
          0.7361563517915309,
          0.7231270358306189,
          0.745928338762215,
          0.744299674267101,
          0.762214983713355,
          0.760586319218241,
          0.7638436482084691,
          0.7687296416938111,
          0.7654723127035831,
          0.7703583061889251,
          0.762214983713355
         ]
        },
        {
         "marker": {
          "maxdisplayed": 10
         },
         "mode": "lines+markers",
         "name": "Trial27",
         "type": "scatter",
         "x": [
          2,
          4,
          6,
          9,
          11,
          22,
          45,
          68,
          91,
          114,
          137,
          160,
          183,
          206,
          229
         ],
         "y": [
          0.6938110749185668,
          0.7068403908794788,
          0.7231270358306189,
          0.7296416938110749,
          0.745928338762215,
          0.741042345276873,
          0.749185667752443,
          0.754071661237785,
          0.750814332247557,
          0.758957654723127,
          0.745928338762215,
          0.752442996742671,
          0.745928338762215,
          0.749185667752443,
          0.757328990228013
         ]
        },
        {
         "marker": {
          "maxdisplayed": 10
         },
         "mode": "lines+markers",
         "name": "Trial28",
         "type": "scatter",
         "x": [
          1,
          2,
          4,
          5,
          6,
          13,
          27,
          41,
          55,
          69,
          83,
          97,
          111,
          125,
          139
         ],
         "y": [
          null,
          0.6742671009771987,
          0.6921824104234527,
          0.7035830618892508,
          0.6954397394136808,
          0.7361563517915309,
          0.739413680781759,
          0.749185667752443,
          0.754071661237785,
          0.760586319218241,
          0.755700325732899,
          0.742671009771987,
          0.754071661237785,
          0.760586319218241,
          0.757328990228013
         ]
        },
        {
         "marker": {
          "maxdisplayed": 10
         },
         "mode": "lines+markers",
         "name": "Trial29",
         "type": "scatter",
         "x": [
          2,
          4,
          6,
          8,
          10,
          20,
          40,
          60,
          80,
          100,
          120,
          140,
          160,
          180,
          200
         ],
         "y": [
          0.6661237785016286,
          0.6807817589576547,
          0.7068403908794788,
          0.7166123778501629,
          0.7198697068403909,
          0.7263843648208469,
          0.737785016286645,
          0.752442996742671,
          0.747557003257329,
          0.754071661237785,
          0.754071661237785,
          0.744299674267101,
          0.750814332247557,
          0.747557003257329,
          0.752442996742671
         ]
        },
        {
         "marker": {
          "maxdisplayed": 10
         },
         "mode": "lines+markers",
         "name": "Trial30",
         "type": "scatter",
         "x": [
          1,
          3,
          4,
          6,
          8,
          16,
          33,
          49,
          66,
          82,
          99,
          115,
          132,
          148,
          165
         ],
         "y": [
          null,
          0.7117263843648208,
          0.7280130293159609,
          0.7296416938110749,
          0.739413680781759,
          0.754071661237785,
          0.752442996742671,
          0.758957654723127,
          0.757328990228013,
          0.758957654723127,
          0.760586319218241,
          0.762214983713355,
          0.755700325732899,
          0.755700325732899,
          0.760586319218241
         ]
        },
        {
         "marker": {
          "maxdisplayed": 10
         },
         "mode": "lines+markers",
         "name": "Trial31",
         "type": "scatter",
         "x": [
          1,
          3,
          5,
          7,
          9,
          19,
          39,
          59,
          79,
          99,
          119,
          139,
          159,
          179,
          199
         ],
         "y": [
          null,
          0.6775244299674267,
          0.7035830618892508,
          0.7052117263843648,
          0.7198697068403909,
          0.7296416938110749,
          0.754071661237785,
          0.754071661237785,
          0.747557003257329,
          0.752442996742671,
          0.750814332247557,
          0.758957654723127,
          0.757328990228013,
          0.750814332247557,
          0.745928338762215
         ]
        },
        {
         "marker": {
          "maxdisplayed": 10
         },
         "mode": "lines+markers",
         "name": "Trial32",
         "type": "scatter",
         "x": [
          1,
          3,
          5,
          7,
          8,
          17,
          35,
          52,
          70,
          88,
          105,
          123,
          140,
          158,
          176
         ],
         "y": [
          null,
          0.6872964169381107,
          0.7117263843648208,
          0.7019543973941368,
          0.7035830618892508,
          0.737785016286645,
          0.749185667752443,
          0.754071661237785,
          0.755700325732899,
          0.750814332247557,
          0.749185667752443,
          0.747557003257329,
          0.741042345276873,
          0.741042345276873,
          0.747557003257329
         ]
        },
        {
         "marker": {
          "maxdisplayed": 10
         },
         "mode": "lines+markers",
         "name": "Trial33",
         "type": "scatter",
         "x": [
          1,
          2,
          4,
          5,
          7,
          14,
          29,
          43,
          58,
          72,
          87,
          101,
          116,
          130,
          145
         ],
         "y": [
          null,
          0.6775244299674267,
          0.6889250814332247,
          0.6905537459283387,
          0.7035830618892508,
          0.739413680781759,
          0.754071661237785,
          0.755700325732899,
          0.7654723127035831,
          0.754071661237785,
          0.755700325732899,
          0.752442996742671,
          0.752442996742671,
          0.758957654723127,
          0.750814332247557
         ]
        },
        {
         "marker": {
          "maxdisplayed": 10
         },
         "mode": "lines+markers",
         "name": "Trial34",
         "type": "scatter",
         "x": [
          1,
          3,
          5,
          7,
          8,
          17,
          35,
          52,
          70,
          87,
          105,
          122,
          140,
          157,
          175
         ],
         "y": [
          null,
          0.6661237785016286,
          0.6938110749185668,
          0.7117263843648208,
          0.7068403908794788,
          0.7263843648208469,
          0.737785016286645,
          0.760586319218241,
          0.744299674267101,
          0.750814332247557,
          0.757328990228013,
          0.758957654723127,
          0.750814332247557,
          0.747557003257329,
          0.750814332247557
         ]
        },
        {
         "marker": {
          "maxdisplayed": 10
         },
         "mode": "lines+markers",
         "name": "Trial35",
         "type": "scatter",
         "x": [
          2,
          4,
          6,
          8,
          10,
          21,
          43,
          65,
          87,
          109,
          130,
          152,
          174,
          196,
          218
         ],
         "y": [
          0.6938110749185668,
          0.7068403908794788,
          0.7231270358306189,
          0.7214983713355049,
          0.741042345276873,
          0.737785016286645,
          0.755700325732899,
          0.749185667752443,
          0.749185667752443,
          0.755700325732899,
          0.750814332247557,
          0.754071661237785,
          0.749185667752443,
          0.758957654723127,
          0.752442996742671
         ]
        },
        {
         "marker": {
          "maxdisplayed": 10
         },
         "mode": "lines+markers",
         "name": "Trial36",
         "type": "scatter",
         "x": [
          2,
          4,
          6,
          8,
          10,
          20,
          41,
          61,
          82,
          102,
          123,
          143,
          164,
          184,
          205
         ],
         "y": [
          0.6628664495114006,
          0.6938110749185668,
          0.7117263843648208,
          0.7019543973941368,
          0.7247557003257329,
          0.7312703583061889,
          0.750814332247557,
          0.762214983713355,
          0.755700325732899,
          0.758957654723127,
          0.757328990228013,
          0.758957654723127,
          0.7671009771986971,
          0.7671009771986971,
          0.7671009771986971
         ]
        },
        {
         "marker": {
          "maxdisplayed": 10
         },
         "mode": "lines+markers",
         "name": "Trial37",
         "type": "scatter",
         "x": [
          1,
          2,
          3,
          5,
          6,
          13,
          26,
          39,
          52,
          65,
          78,
          91,
          104,
          117,
          131
         ],
         "y": [
          null,
          0.6824104234527687,
          0.6872964169381107,
          0.7117263843648208,
          0.7149837133550488,
          0.7280130293159609,
          0.739413680781759,
          0.749185667752443,
          0.754071661237785,
          0.752442996742671,
          0.749185667752443,
          0.750814332247557,
          0.750814332247557,
          0.749185667752443,
          0.742671009771987
         ]
        },
        {
         "marker": {
          "maxdisplayed": 10
         },
         "mode": "lines+markers",
         "name": "Trial38",
         "type": "scatter",
         "x": [
          1,
          3,
          4,
          6,
          7,
          15,
          31,
          47,
          63,
          79,
          95,
          111,
          127,
          143,
          159
         ],
         "y": [
          null,
          0.6807817589576547,
          0.6889250814332247,
          0.7149837133550488,
          0.7182410423452769,
          0.747557003257329,
          0.762214983713355,
          0.7638436482084691,
          0.7654723127035831,
          0.7638436482084691,
          0.7638436482084691,
          0.7671009771986971,
          0.7654723127035831,
          0.7671009771986971,
          0.7687296416938111
         ]
        },
        {
         "marker": {
          "maxdisplayed": 10
         },
         "mode": "lines+markers",
         "name": "Trial39",
         "type": "scatter",
         "x": [
          1,
          3,
          5,
          7,
          8,
          17,
          35,
          53,
          70,
          88,
          106,
          123,
          141,
          159,
          177
         ],
         "y": [
          null,
          0.6905537459283387,
          0.7166123778501629,
          0.7182410423452769,
          0.7214983713355049,
          0.7263843648208469,
          0.744299674267101,
          0.755700325732899,
          0.758957654723127,
          0.750814332247557,
          0.750814332247557,
          0.757328990228013,
          0.752442996742671,
          0.755700325732899,
          0.752442996742671
         ]
        },
        {
         "marker": {
          "maxdisplayed": 10
         },
         "mode": "lines+markers",
         "name": "Trial40",
         "type": "scatter",
         "x": [
          1,
          3,
          4,
          6,
          7,
          15,
          30,
          45,
          60,
          75,
          90,
          105,
          120,
          135,
          150
         ],
         "y": [
          null,
          0.6986970684039088,
          0.7052117263843648,
          0.7182410423452769,
          0.7149837133550488,
          0.755700325732899,
          0.744299674267101,
          0.750814332247557,
          0.757328990228013,
          0.758957654723127,
          0.754071661237785,
          0.757328990228013,
          0.7638436482084691,
          0.757328990228013,
          0.760586319218241
         ]
        },
        {
         "marker": {
          "maxdisplayed": 10
         },
         "mode": "lines+markers",
         "name": "Trial41",
         "type": "scatter",
         "x": [
          1,
          3,
          4,
          6,
          7,
          15,
          30,
          46,
          61,
          77,
          92,
          107,
          123,
          138,
          154
         ],
         "y": [
          null,
          0.6986970684039088,
          0.7052117263843648,
          0.7182410423452769,
          0.7149837133550488,
          0.755700325732899,
          0.744299674267101,
          0.754071661237785,
          0.755700325732899,
          0.758957654723127,
          0.760586319218241,
          0.7638436482084691,
          0.758957654723127,
          0.758957654723127,
          0.7638436482084691
         ]
        },
        {
         "marker": {
          "maxdisplayed": 10
         },
         "mode": "lines+markers",
         "name": "Trial42",
         "type": "scatter",
         "x": [
          1,
          2,
          3,
          4,
          5,
          11,
          22,
          33,
          45,
          56,
          67,
          79,
          90,
          101,
          113
         ],
         "y": [
          null,
          0.6693811074918566,
          0.6938110749185668,
          0.7117263843648208,
          0.7084690553745928,
          0.750814332247557,
          0.7654723127035831,
          0.7687296416938111,
          0.7671009771986971,
          0.7703583061889251,
          0.758957654723127,
          0.754071661237785,
          0.762214983713355,
          0.7654723127035831,
          0.762214983713355
         ]
        },
        {
         "marker": {
          "maxdisplayed": 10
         },
         "mode": "lines+markers",
         "name": "Trial43",
         "type": "scatter",
         "x": [
          1,
          3,
          4,
          6,
          8,
          16,
          33,
          49,
          66,
          83,
          99,
          116,
          132,
          149,
          166
         ],
         "y": [
          null,
          0.6856677524429967,
          0.6889250814332247,
          0.7100977198697068,
          0.7149837133550488,
          0.754071661237785,
          0.758957654723127,
          0.758957654723127,
          0.750814332247557,
          0.760586319218241,
          0.757328990228013,
          0.750814332247557,
          0.749185667752443,
          0.742671009771987,
          0.754071661237785
         ]
        },
        {
         "marker": {
          "maxdisplayed": 10
         },
         "mode": "lines+markers",
         "name": "Trial44",
         "type": "scatter",
         "x": [
          1,
          2,
          4,
          5,
          7,
          14,
          29,
          44,
          59,
          74,
          88,
          103,
          118,
          133,
          148
         ],
         "y": [
          null,
          0.6465798045602605,
          0.6677524429967426,
          0.6856677524429967,
          0.7084690553745928,
          0.7280130293159609,
          0.7345276872964169,
          0.745928338762215,
          0.747557003257329,
          0.755700325732899,
          0.7719869706840391,
          0.7687296416938111,
          0.7638436482084691,
          0.762214983713355,
          0.760586319218241
         ]
        },
        {
         "marker": {
          "maxdisplayed": 10
         },
         "mode": "lines+markers",
         "name": "Trial45",
         "type": "scatter",
         "x": [
          1,
          2,
          4,
          5,
          6,
          13,
          27,
          41,
          55,
          69,
          82,
          96,
          110,
          124,
          138
         ],
         "y": [
          null,
          0.7052117263843648,
          0.7084690553745928,
          0.7149837133550488,
          0.7263843648208469,
          0.752442996742671,
          0.755700325732899,
          0.760586319218241,
          0.7703583061889251,
          0.7719869706840391,
          0.7703583061889251,
          0.7638436482084691,
          0.7638436482084691,
          0.7703583061889251,
          0.7703583061889251
         ]
        },
        {
         "marker": {
          "maxdisplayed": 10
         },
         "mode": "lines+markers",
         "name": "Trial46",
         "type": "scatter",
         "x": [
          1,
          2,
          3,
          4,
          6,
          12,
          24,
          36,
          48,
          60,
          72,
          84,
          96,
          108,
          121
         ],
         "y": [
          null,
          0.6775244299674267,
          0.6791530944625407,
          0.6954397394136808,
          0.6938110749185668,
          0.7312703583061889,
          0.737785016286645,
          0.739413680781759,
          0.744299674267101,
          0.745928338762215,
          0.752442996742671,
          0.754071661237785,
          0.754071661237785,
          0.754071661237785,
          0.752442996742671
         ]
        },
        {
         "marker": {
          "maxdisplayed": 10
         },
         "mode": "lines+markers",
         "name": "Trial47",
         "type": "scatter",
         "x": [
          1,
          3,
          5,
          7,
          9,
          19,
          39,
          59,
          78,
          98,
          118,
          137,
          157,
          177,
          197
         ],
         "y": [
          null,
          0.6661237785016286,
          0.6938110749185668,
          0.7117263843648208,
          0.7068403908794788,
          0.7263843648208469,
          0.745928338762215,
          0.750814332247557,
          0.747557003257329,
          0.754071661237785,
          0.757328990228013,
          0.750814332247557,
          0.747557003257329,
          0.752442996742671,
          0.749185667752443
         ]
        },
        {
         "marker": {
          "maxdisplayed": 10
         },
         "mode": "lines+markers",
         "name": "Trial48",
         "type": "scatter",
         "x": [
          1,
          3,
          5,
          7,
          9,
          18,
          36,
          54,
          73,
          91,
          109,
          128,
          146,
          164,
          183
         ],
         "y": [
          null,
          0.6986970684039088,
          0.7166123778501629,
          0.7247557003257329,
          0.7296416938110749,
          0.739413680781759,
          0.750814332247557,
          0.750814332247557,
          0.749185667752443,
          0.750814332247557,
          0.755700325732899,
          0.750814332247557,
          0.750814332247557,
          0.750814332247557,
          0.745928338762215
         ]
        },
        {
         "marker": {
          "maxdisplayed": 10
         },
         "mode": "lines+markers",
         "name": "Trial49",
         "type": "scatter",
         "x": [
          1,
          3,
          5,
          6,
          8,
          17,
          34,
          51,
          68,
          85,
          102,
          118,
          136,
          153,
          170
         ],
         "y": [
          null,
          0.6986970684039088,
          0.7166123778501629,
          0.7166123778501629,
          0.7280130293159609,
          0.747557003257329,
          0.750814332247557,
          0.7638436482084691,
          0.755700325732899,
          0.7638436482084691,
          0.757328990228013,
          0.758957654723127,
          0.7638436482084691,
          0.760586319218241,
          0.758957654723127
         ]
        },
        {
         "marker": {
          "maxdisplayed": 10
         },
         "mode": "lines+markers",
         "name": "Trial50",
         "type": "scatter",
         "x": [
          2,
          4,
          6,
          8,
          10,
          20,
          41,
          62,
          83,
          104,
          124,
          145,
          166,
          187,
          208
         ],
         "y": [
          0.6612377850162866,
          0.6596091205211726,
          0.6742671009771987,
          0.6889250814332247,
          0.7003257328990228,
          0.7328990228013029,
          0.745928338762215,
          0.752442996742671,
          0.758957654723127,
          0.760586319218241,
          0.760586319218241,
          0.755700325732899,
          0.757328990228013,
          0.757328990228013,
          0.755700325732899
         ]
        },
        {
         "marker": {
          "maxdisplayed": 10
         },
         "mode": "lines+markers",
         "name": "Trial51",
         "type": "scatter",
         "x": [
          1,
          3,
          5,
          7,
          9,
          18,
          37,
          56,
          74,
          93,
          112,
          130,
          149,
          168,
          187
         ],
         "y": [
          null,
          0.6693811074918566,
          0.6970684039087948,
          0.7068403908794788,
          0.7214983713355049,
          0.7328990228013029,
          0.7328990228013029,
          0.745928338762215,
          0.755700325732899,
          0.749185667752443,
          0.757328990228013,
          0.744299674267101,
          0.745928338762215,
          0.749185667752443,
          0.752442996742671
         ]
        },
        {
         "marker": {
          "maxdisplayed": 10
         },
         "mode": "lines+markers",
         "name": "Trial52",
         "type": "scatter",
         "x": [
          1,
          3,
          5,
          7,
          9,
          19,
          39,
          58,
          78,
          98,
          117,
          137,
          156,
          176,
          196
         ],
         "y": [
          null,
          0.6872964169381107,
          0.7117263843648208,
          0.7019543973941368,
          0.7133550488599348,
          0.742671009771987,
          0.749185667752443,
          0.757328990228013,
          0.749185667752443,
          0.750814332247557,
          0.749185667752443,
          0.745928338762215,
          0.741042345276873,
          0.747557003257329,
          0.749185667752443
         ]
        },
        {
         "marker": {
          "maxdisplayed": 10
         },
         "mode": "lines+markers",
         "name": "Trial53",
         "type": "scatter",
         "x": [
          1,
          3,
          4,
          6,
          8,
          16,
          32,
          48,
          64,
          80,
          96,
          112,
          128,
          144,
          160
         ],
         "y": [
          null,
          0.7003257328990228,
          0.7133550488599348,
          0.7166123778501629,
          0.7198697068403909,
          0.7361563517915309,
          0.752442996742671,
          0.750814332247557,
          0.750814332247557,
          0.749185667752443,
          0.755700325732899,
          0.755700325732899,
          0.750814332247557,
          0.749185667752443,
          0.750814332247557
         ]
        },
        {
         "marker": {
          "maxdisplayed": 10
         },
         "mode": "lines+markers",
         "name": "Trial54",
         "type": "scatter",
         "x": [
          1,
          3,
          4,
          6,
          8,
          16,
          32,
          48,
          64,
          80,
          96,
          112,
          128,
          144,
          160
         ],
         "y": [
          null,
          0.6889250814332247,
          0.7003257328990228,
          0.7068403908794788,
          0.7149837133550488,
          0.7312703583061889,
          0.750814332247557,
          0.755700325732899,
          0.755700325732899,
          0.749185667752443,
          0.754071661237785,
          0.754071661237785,
          0.757328990228013,
          0.750814332247557,
          0.752442996742671
         ]
        },
        {
         "marker": {
          "maxdisplayed": 10
         },
         "mode": "lines+markers",
         "name": "Trial55",
         "type": "scatter",
         "x": [
          1,
          3,
          4,
          6,
          7,
          15,
          30,
          45,
          60,
          76,
          91,
          106,
          121,
          136,
          152
         ],
         "y": [
          null,
          0.6986970684039088,
          0.7068403908794788,
          0.7231270358306189,
          0.7247557003257329,
          0.7296416938110749,
          0.745928338762215,
          0.749185667752443,
          0.752442996742671,
          0.749185667752443,
          0.750814332247557,
          0.754071661237785,
          0.757328990228013,
          0.745928338762215,
          0.754071661237785
         ]
        },
        {
         "marker": {
          "maxdisplayed": 10
         },
         "mode": "lines+markers",
         "name": "Trial56",
         "type": "scatter",
         "x": [
          1,
          3,
          5,
          7,
          8,
          17,
          35,
          53,
          71,
          89,
          107,
          125,
          143,
          161,
          179
         ],
         "y": [
          null,
          0.6579804560260586,
          0.7003257328990228,
          0.6921824104234527,
          0.6970684039087948,
          0.7312703583061889,
          0.757328990228013,
          0.760586319218241,
          0.758957654723127,
          0.7638436482084691,
          0.760586319218241,
          0.7671009771986971,
          0.755700325732899,
          0.758957654723127,
          0.760586319218241
         ]
        },
        {
         "marker": {
          "maxdisplayed": 10
         },
         "mode": "lines+markers",
         "name": "Trial57",
         "type": "scatter",
         "x": [
          1,
          2,
          3,
          5,
          6,
          13,
          26,
          39,
          52,
          66,
          79,
          92,
          105,
          118,
          132
         ],
         "y": [
          null,
          0.6693811074918566,
          0.6775244299674267,
          0.6840390879478827,
          0.6954397394136808,
          0.7084690553745928,
          0.7345276872964169,
          0.7328990228013029,
          0.7361563517915309,
          0.745928338762215,
          0.754071661237785,
          0.755700325732899,
          0.762214983713355,
          0.762214983713355,
          0.754071661237785
         ]
        },
        {
         "marker": {
          "maxdisplayed": 10
         },
         "mode": "lines+markers",
         "name": "Trial58",
         "type": "scatter",
         "x": [
          1,
          3,
          5,
          6,
          8,
          17,
          34,
          51,
          68,
          85,
          102,
          118,
          136,
          153,
          170
         ],
         "y": [
          null,
          0.6938110749185668,
          0.7166123778501629,
          0.7166123778501629,
          0.7280130293159609,
          0.745928338762215,
          0.739413680781759,
          0.749185667752443,
          0.745928338762215,
          0.752442996742671,
          0.752442996742671,
          0.752442996742671,
          0.750814332247557,
          0.752442996742671,
          0.749185667752443
         ]
        },
        {
         "marker": {
          "maxdisplayed": 10
         },
         "mode": "lines+markers",
         "name": "Trial59",
         "type": "scatter",
         "x": [
          1,
          3,
          4,
          6,
          8,
          16,
          32,
          48,
          64,
          80,
          96,
          112,
          128,
          144,
          160
         ],
         "y": [
          null,
          0.6758957654723127,
          0.6872964169381107,
          0.6970684039087948,
          0.7149837133550488,
          0.7280130293159609,
          0.7280130293159609,
          0.744299674267101,
          0.750814332247557,
          0.754071661237785,
          0.755700325732899,
          0.757328990228013,
          0.757328990228013,
          0.757328990228013,
          0.757328990228013
         ]
        },
        {
         "marker": {
          "maxdisplayed": 10
         },
         "mode": "lines+markers",
         "name": "Trial60",
         "type": "scatter",
         "x": [
          1,
          2,
          4,
          5,
          7,
          14,
          29,
          43,
          58,
          72,
          87,
          101,
          116,
          130,
          145
         ],
         "y": [
          null,
          0.6824104234527687,
          0.7231270358306189,
          0.744299674267101,
          0.747557003257329,
          0.7654723127035831,
          0.755700325732899,
          0.7703583061889251,
          0.755700325732899,
          0.754071661237785,
          0.757328990228013,
          0.754071661237785,
          0.758957654723127,
          0.757328990228013,
          0.754071661237785
         ]
        },
        {
         "marker": {
          "maxdisplayed": 10
         },
         "mode": "lines+markers",
         "name": "Trial61",
         "type": "scatter",
         "x": [
          1,
          3,
          5,
          7,
          9,
          19,
          38,
          57,
          76,
          96,
          115,
          134,
          153,
          172,
          192
         ],
         "y": [
          null,
          0.6775244299674267,
          0.7035830618892508,
          0.7052117263843648,
          0.7198697068403909,
          0.7296416938110749,
          0.754071661237785,
          0.757328990228013,
          0.742671009771987,
          0.754071661237785,
          0.749185667752443,
          0.750814332247557,
          0.752442996742671,
          0.750814332247557,
          0.745928338762215
         ]
        },
        {
         "marker": {
          "maxdisplayed": 10
         },
         "mode": "lines+markers",
         "name": "Trial62",
         "type": "scatter",
         "x": [
          2,
          4,
          6,
          8,
          10,
          20,
          40,
          60,
          81,
          101,
          121,
          142,
          162,
          182,
          203
         ],
         "y": [
          0.6661237785016286,
          0.6807817589576547,
          0.7068403908794788,
          0.7166123778501629,
          0.7198697068403909,
          0.7263843648208469,
          0.737785016286645,
          0.752442996742671,
          0.749185667752443,
          0.755700325732899,
          0.752442996742671,
          0.745928338762215,
          0.752442996742671,
          0.747557003257329,
          0.755700325732899
         ]
        },
        {
         "marker": {
          "maxdisplayed": 10
         },
         "mode": "lines+markers",
         "name": "Trial63",
         "type": "scatter",
         "x": [
          2,
          4,
          6,
          8,
          10,
          21,
          43,
          64,
          86,
          107,
          129,
          150,
          172,
          193,
          215
         ],
         "y": [
          0.6824104234527687,
          0.7019543973941368,
          0.7149837133550488,
          0.7035830618892508,
          0.7214983713355049,
          0.742671009771987,
          0.755700325732899,
          0.747557003257329,
          0.754071661237785,
          0.747557003257329,
          0.745928338762215,
          0.744299674267101,
          0.741042345276873,
          0.749185667752443,
          0.744299674267101
         ]
        },
        {
         "marker": {
          "maxdisplayed": 10
         },
         "mode": "lines+markers",
         "name": "Trial64",
         "type": "scatter",
         "x": [
          2,
          4,
          7,
          9,
          11,
          23,
          47,
          71,
          95,
          119,
          142,
          166,
          190,
          214,
          238
         ],
         "y": [
          0.6661237785016286,
          0.6807817589576547,
          0.7068403908794788,
          0.7214983713355049,
          0.7328990228013029,
          0.7231270358306189,
          0.739413680781759,
          0.749185667752443,
          0.752442996742671,
          0.754071661237785,
          0.745928338762215,
          0.750814332247557,
          0.750814332247557,
          0.749185667752443,
          0.750814332247557
         ]
        },
        {
         "marker": {
          "maxdisplayed": 10
         },
         "mode": "lines+markers",
         "name": "Trial65",
         "type": "scatter",
         "x": [
          1,
          3,
          5,
          7,
          9,
          18,
          36,
          54,
          73,
          91,
          109,
          128,
          146,
          164,
          183
         ],
         "y": [
          null,
          0.7003257328990228,
          0.7166123778501629,
          0.7117263843648208,
          0.7280130293159609,
          0.742671009771987,
          0.747557003257329,
          0.752442996742671,
          0.747557003257329,
          0.754071661237785,
          0.752442996742671,
          0.750814332247557,
          0.749185667752443,
          0.757328990228013,
          0.754071661237785
         ]
        },
        {
         "marker": {
          "maxdisplayed": 10
         },
         "mode": "lines+markers",
         "name": "Trial66",
         "type": "scatter",
         "x": [
          1,
          3,
          5,
          6,
          8,
          17,
          34,
          51,
          69,
          86,
          103,
          121,
          138,
          155,
          173
         ],
         "y": [
          null,
          0.6889250814332247,
          0.7117263843648208,
          0.7133550488599348,
          0.7263843648208469,
          0.737785016286645,
          0.744299674267101,
          0.749185667752443,
          0.747557003257329,
          0.752442996742671,
          0.749185667752443,
          0.754071661237785,
          0.754071661237785,
          0.754071661237785,
          0.757328990228013
         ]
        },
        {
         "marker": {
          "maxdisplayed": 10
         },
         "mode": "lines+markers",
         "name": "Trial67",
         "type": "scatter",
         "x": [
          1,
          3,
          5,
          7,
          9,
          18,
          36,
          54,
          72,
          91,
          109,
          127,
          145,
          163,
          182
         ],
         "y": [
          null,
          0.6840390879478827,
          0.7068403908794788,
          0.7019543973941368,
          0.7345276872964169,
          0.752442996742671,
          0.7638436482084691,
          0.7654723127035831,
          0.760586319218241,
          0.7638436482084691,
          0.762214983713355,
          0.762214983713355,
          0.758957654723127,
          0.7654723127035831,
          0.762214983713355
         ]
        },
        {
         "marker": {
          "maxdisplayed": 10
         },
         "mode": "lines+markers",
         "name": "Trial68",
         "type": "scatter",
         "x": [
          1,
          3,
          4,
          6,
          8,
          16,
          32,
          48,
          65,
          81,
          97,
          114,
          130,
          146,
          163
         ],
         "y": [
          null,
          0.7100977198697068,
          0.7182410423452769,
          0.7361563517915309,
          0.742671009771987,
          0.7654723127035831,
          0.7687296416938111,
          0.7719869706840391,
          0.7671009771986971,
          0.760586319218241,
          0.757328990228013,
          0.758957654723127,
          0.760586319218241,
          0.7687296416938111,
          0.760586319218241
         ]
        },
        {
         "marker": {
          "maxdisplayed": 10
         },
         "mode": "lines+markers",
         "name": "Trial69",
         "type": "scatter",
         "x": [
          1,
          3,
          5,
          7,
          9,
          18,
          36,
          54,
          73,
          91,
          109,
          128,
          146,
          164,
          183
         ],
         "y": [
          null,
          0.6726384364820847,
          0.7214983713355049,
          0.7166123778501629,
          0.7312703583061889,
          0.745928338762215,
          0.752442996742671,
          0.754071661237785,
          0.750814332247557,
          0.754071661237785,
          0.750814332247557,
          0.754071661237785,
          0.754071661237785,
          0.754071661237785,
          0.755700325732899
         ]
        },
        {
         "marker": {
          "maxdisplayed": 10
         },
         "mode": "lines+markers",
         "name": "Trial70",
         "type": "scatter",
         "x": [
          1,
          3,
          4,
          6,
          7,
          15,
          31,
          46,
          62,
          77,
          93,
          108,
          124,
          139,
          155
         ],
         "y": [
          null,
          0.6872964169381107,
          0.7035830618892508,
          0.7182410423452769,
          0.7052117263843648,
          0.7263843648208469,
          0.742671009771987,
          0.754071661237785,
          0.755700325732899,
          0.752442996742671,
          0.747557003257329,
          0.747557003257329,
          0.747557003257329,
          0.744299674267101,
          0.749185667752443
         ]
        },
        {
         "marker": {
          "maxdisplayed": 10
         },
         "mode": "lines+markers",
         "name": "Trial71",
         "type": "scatter",
         "x": [
          2,
          4,
          6,
          8,
          10,
          20,
          40,
          60,
          81,
          101,
          121,
          142,
          162,
          182,
          203
         ],
         "y": [
          0.6661237785016286,
          0.6807817589576547,
          0.7068403908794788,
          0.7166123778501629,
          0.7198697068403909,
          0.7263843648208469,
          0.737785016286645,
          0.752442996742671,
          0.749185667752443,
          0.755700325732899,
          0.752442996742671,
          0.745928338762215,
          0.752442996742671,
          0.747557003257329,
          0.755700325732899
         ]
        },
        {
         "marker": {
          "maxdisplayed": 10
         },
         "mode": "lines+markers",
         "name": "Trial72",
         "type": "scatter",
         "x": [
          2,
          4,
          6,
          8,
          11,
          22,
          44,
          66,
          88,
          111,
          133,
          155,
          177,
          199,
          222
         ],
         "y": [
          0.6824104234527687,
          0.7019543973941368,
          0.7149837133550488,
          0.7035830618892508,
          0.7263843648208469,
          0.737785016286645,
          0.752442996742671,
          0.750814332247557,
          0.750814332247557,
          0.749185667752443,
          0.741042345276873,
          0.744299674267101,
          0.749185667752443,
          0.749185667752443,
          0.747557003257329
         ]
        },
        {
         "marker": {
          "maxdisplayed": 10
         },
         "mode": "lines+markers",
         "name": "Trial73",
         "type": "scatter",
         "x": [
          2,
          4,
          6,
          9,
          11,
          23,
          46,
          69,
          92,
          115,
          138,
          161,
          184,
          207,
          230
         ],
         "y": [
          0.6938110749185668,
          0.7068403908794788,
          0.7231270358306189,
          0.7296416938110749,
          0.745928338762215,
          0.744299674267101,
          0.747557003257329,
          0.757328990228013,
          0.749185667752443,
          0.758957654723127,
          0.747557003257329,
          0.752442996742671,
          0.745928338762215,
          0.749185667752443,
          0.757328990228013
         ]
        },
        {
         "marker": {
          "maxdisplayed": 10
         },
         "mode": "lines+markers",
         "name": "Trial74",
         "type": "scatter",
         "x": [
          1,
          3,
          5,
          7,
          9,
          19,
          38,
          57,
          76,
          95,
          114,
          133,
          152,
          171,
          191
         ],
         "y": [
          null,
          0.6872964169381107,
          0.7117263843648208,
          0.7019543973941368,
          0.7133550488599348,
          0.742671009771987,
          0.750814332247557,
          0.755700325732899,
          0.757328990228013,
          0.747557003257329,
          0.744299674267101,
          0.741042345276873,
          0.745928338762215,
          0.744299674267101,
          0.747557003257329
         ]
        },
        {
         "marker": {
          "maxdisplayed": 10
         },
         "mode": "lines+markers",
         "name": "Trial75",
         "type": "scatter",
         "x": [
          2,
          4,
          6,
          8,
          10,
          21,
          42,
          63,
          84,
          106,
          127,
          148,
          169,
          190,
          212
         ],
         "y": [
          0.6970684039087948,
          0.7133550488599348,
          0.7166123778501629,
          0.7198697068403909,
          0.737785016286645,
          0.7312703583061889,
          0.760586319218241,
          0.747557003257329,
          0.754071661237785,
          0.758957654723127,
          0.750814332247557,
          0.749185667752443,
          0.754071661237785,
          0.754071661237785,
          0.752442996742671
         ]
        },
        {
         "marker": {
          "maxdisplayed": 10
         },
         "mode": "lines+markers",
         "name": "Trial76",
         "type": "scatter",
         "x": [
          2,
          4,
          6,
          8,
          10,
          21,
          42,
          63,
          84,
          105,
          126,
          147,
          168,
          189,
          211
         ],
         "y": [
          0.6726384364820847,
          0.6905537459283387,
          0.7019543973941368,
          0.7166123778501629,
          0.7166123778501629,
          0.7328990228013029,
          0.757328990228013,
          0.749185667752443,
          0.749185667752443,
          0.750814332247557,
          0.750814332247557,
          0.755700325732899,
          0.752442996742671,
          0.747557003257329,
          0.750814332247557
         ]
        },
        {
         "marker": {
          "maxdisplayed": 10
         },
         "mode": "lines+markers",
         "name": "Trial77",
         "type": "scatter",
         "x": [
          2,
          4,
          6,
          8,
          11,
          22,
          44,
          66,
          88,
          110,
          132,
          154,
          176,
          198,
          221
         ],
         "y": [
          0.6677524429967426,
          0.6889250814332247,
          0.7100977198697068,
          0.7149837133550488,
          0.747557003257329,
          0.754071661237785,
          0.7638436482084691,
          0.750814332247557,
          0.757328990228013,
          0.757328990228013,
          0.749185667752443,
          0.749185667752443,
          0.754071661237785,
          0.754071661237785,
          0.752442996742671
         ]
        },
        {
         "marker": {
          "maxdisplayed": 10
         },
         "mode": "lines+markers",
         "name": "Trial78",
         "type": "scatter",
         "x": [
          2,
          4,
          6,
          9,
          11,
          22,
          45,
          68,
          91,
          114,
          136,
          159,
          182,
          205,
          228
         ],
         "y": [
          0.6693811074918566,
          0.6824104234527687,
          0.6954397394136808,
          0.6970684039087948,
          0.7052117263843648,
          0.7247557003257329,
          0.747557003257329,
          0.747557003257329,
          0.754071661237785,
          0.757328990228013,
          0.758957654723127,
          0.758957654723127,
          0.762214983713355,
          0.762214983713355,
          0.7638436482084691
         ]
        },
        {
         "marker": {
          "maxdisplayed": 10
         },
         "mode": "lines+markers",
         "name": "Trial79",
         "type": "scatter",
         "x": [
          2,
          4,
          7,
          9,
          12,
          24,
          48,
          72,
          96,
          120,
          144,
          168,
          192,
          216,
          241
         ],
         "y": [
          0.6710097719869706,
          0.6872964169381107,
          0.7084690553745928,
          0.7263843648208469,
          0.7182410423452769,
          0.742671009771987,
          0.757328990228013,
          0.7638436482084691,
          0.762214983713355,
          0.760586319218241,
          0.7638436482084691,
          0.762214983713355,
          0.758957654723127,
          0.758957654723127,
          0.757328990228013
         ]
        },
        {
         "marker": {
          "maxdisplayed": 10
         },
         "mode": "lines+markers",
         "name": "Trial80",
         "type": "scatter",
         "x": [
          1,
          2,
          3,
          4,
          9,
          19,
          29,
          39,
          49,
          58,
          68,
          78,
          88,
          98
         ],
         "y": [
          null,
          0.6856677524429967,
          0.6791530944625407,
          0.6840390879478827,
          0.7198697068403909,
          0.7345276872964169,
          0.741042345276873,
          0.752442996742671,
          0.7638436482084691,
          0.755700325732899,
          0.758957654723127,
          0.754071661237785,
          0.754071661237785,
          0.757328990228013
         ]
        },
        {
         "marker": {
          "maxdisplayed": 10
         },
         "mode": "lines+markers",
         "name": "Trial81",
         "type": "scatter",
         "x": [
          1,
          3,
          5,
          7,
          8,
          17,
          35,
          52,
          70,
          88,
          105,
          123,
          140,
          158,
          176
         ],
         "y": [
          null,
          0.7003257328990228,
          0.7166123778501629,
          0.7117263843648208,
          0.7198697068403909,
          0.739413680781759,
          0.745928338762215,
          0.754071661237785,
          0.752442996742671,
          0.755700325732899,
          0.754071661237785,
          0.750814332247557,
          0.750814332247557,
          0.749185667752443,
          0.754071661237785
         ]
        },
        {
         "marker": {
          "maxdisplayed": 10
         },
         "mode": "lines+markers",
         "name": "Trial82",
         "type": "scatter",
         "x": [
          1,
          3,
          5,
          7,
          9,
          19,
          39,
          59,
          79,
          99,
          119,
          139,
          159,
          179,
          199
         ],
         "y": [
          null,
          0.6986970684039088,
          0.7166123778501629,
          0.7247557003257329,
          0.7296416938110749,
          0.742671009771987,
          0.752442996742671,
          0.750814332247557,
          0.749185667752443,
          0.750814332247557,
          0.755700325732899,
          0.747557003257329,
          0.755700325732899,
          0.747557003257329,
          0.754071661237785
         ]
        },
        {
         "marker": {
          "maxdisplayed": 10
         },
         "mode": "lines+markers",
         "name": "Trial83",
         "type": "scatter",
         "x": [
          1,
          3,
          5,
          7,
          8,
          17,
          35,
          52,
          70,
          88,
          105,
          123,
          140,
          158,
          176
         ],
         "y": [
          null,
          0.7003257328990228,
          0.7166123778501629,
          0.7117263843648208,
          0.7198697068403909,
          0.739413680781759,
          0.745928338762215,
          0.754071661237785,
          0.752442996742671,
          0.755700325732899,
          0.754071661237785,
          0.750814332247557,
          0.750814332247557,
          0.750814332247557,
          0.755700325732899
         ]
        },
        {
         "marker": {
          "maxdisplayed": 10
         },
         "mode": "lines+markers",
         "name": "Trial84",
         "type": "scatter",
         "x": [
          1,
          3,
          5,
          7,
          8,
          17,
          35,
          53,
          70,
          88,
          106,
          123,
          141,
          159,
          177
         ],
         "y": [
          null,
          0.6872964169381107,
          0.7117263843648208,
          0.7019543973941368,
          0.7035830618892508,
          0.737785016286645,
          0.749185667752443,
          0.752442996742671,
          0.755700325732899,
          0.750814332247557,
          0.749185667752443,
          0.747557003257329,
          0.744299674267101,
          0.742671009771987,
          0.749185667752443
         ]
        },
        {
         "marker": {
          "maxdisplayed": 10
         },
         "mode": "lines+markers",
         "name": "Trial85",
         "type": "scatter",
         "x": [
          1,
          3,
          5,
          7,
          9,
          18,
          37,
          55,
          74,
          93,
          111,
          130,
          148,
          167,
          186
         ],
         "y": [
          null,
          0.6889250814332247,
          0.7117263843648208,
          0.7214983713355049,
          0.7345276872964169,
          0.737785016286645,
          0.749185667752443,
          0.745928338762215,
          0.742671009771987,
          0.757328990228013,
          0.745928338762215,
          0.750814332247557,
          0.755700325732899,
          0.755700325732899,
          0.760586319218241
         ]
        },
        {
         "marker": {
          "maxdisplayed": 10
         },
         "mode": "lines+markers",
         "name": "Trial86",
         "type": "scatter",
         "x": [
          1,
          3,
          5,
          6,
          8,
          17,
          34,
          51,
          68,
          86,
          103,
          120,
          137,
          154,
          172
         ],
         "y": [
          null,
          0.6807817589576547,
          0.6970684039087948,
          0.7117263843648208,
          0.7198697068403909,
          0.749185667752443,
          0.752442996742671,
          0.758957654723127,
          0.755700325732899,
          0.757328990228013,
          0.754071661237785,
          0.752442996742671,
          0.749185667752443,
          0.755700325732899,
          0.752442996742671
         ]
        },
        {
         "marker": {
          "maxdisplayed": 10
         },
         "mode": "lines+markers",
         "name": "Trial87",
         "type": "scatter",
         "x": [
          1,
          3,
          5,
          7,
          9,
          19,
          38,
          58,
          77,
          97,
          116,
          135,
          155,
          174,
          194
         ],
         "y": [
          null,
          0.7003257328990228,
          0.7166123778501629,
          0.7117263843648208,
          0.7280130293159609,
          0.739413680781759,
          0.752442996742671,
          0.747557003257329,
          0.750814332247557,
          0.747557003257329,
          0.752442996742671,
          0.752442996742671,
          0.752442996742671,
          0.758957654723127,
          0.760586319218241
         ]
        },
        {
         "marker": {
          "maxdisplayed": 10
         },
         "mode": "lines+markers",
         "name": "Trial88",
         "type": "scatter",
         "x": [
          1,
          3,
          5,
          7,
          9,
          19,
          38,
          57,
          77,
          96,
          115,
          135,
          154,
          173,
          193
         ],
         "y": [
          null,
          0.6872964169381107,
          0.7117263843648208,
          0.7019543973941368,
          0.7133550488599348,
          0.742671009771987,
          0.750814332247557,
          0.755700325732899,
          0.752442996742671,
          0.747557003257329,
          0.745928338762215,
          0.745928338762215,
          0.745928338762215,
          0.741042345276873,
          0.749185667752443
         ]
        },
        {
         "marker": {
          "maxdisplayed": 10
         },
         "mode": "lines+markers",
         "name": "Trial89",
         "type": "scatter",
         "x": [
          1,
          3,
          4,
          6,
          8,
          16,
          33,
          49,
          66,
          83,
          99,
          116,
          132,
          149,
          166
         ],
         "y": [
          null,
          0.6563517915309446,
          0.6596091205211726,
          0.6824104234527687,
          0.7068403908794788,
          0.747557003257329,
          0.749185667752443,
          0.750814332247557,
          0.762214983713355,
          0.760586319218241,
          0.7638436482084691,
          0.762214983713355,
          0.7654723127035831,
          0.7671009771986971,
          0.7638436482084691
         ]
        },
        {
         "marker": {
          "maxdisplayed": 10
         },
         "mode": "lines+markers",
         "name": "Trial90",
         "type": "scatter",
         "x": [
          1,
          3,
          5,
          7,
          8,
          17,
          35,
          53,
          71,
          89,
          106,
          124,
          142,
          160,
          178
         ],
         "y": [
          null,
          0.7100977198697068,
          0.741042345276873,
          0.744299674267101,
          0.7361563517915309,
          0.758957654723127,
          0.758957654723127,
          0.7671009771986971,
          0.762214983713355,
          0.7638436482084691,
          0.762214983713355,
          0.7654723127035831,
          0.7654723127035831,
          0.7638436482084691,
          0.762214983713355
         ]
        },
        {
         "marker": {
          "maxdisplayed": 10
         },
         "mode": "lines+markers",
         "name": "Trial91",
         "type": "scatter",
         "x": [
          1,
          3,
          5,
          7,
          9,
          18,
          36,
          54,
          72,
          91,
          109,
          127,
          145,
          163,
          182
         ],
         "y": [
          null,
          0.7003257328990228,
          0.7166123778501629,
          0.7117263843648208,
          0.7280130293159609,
          0.742671009771987,
          0.747557003257329,
          0.752442996742671,
          0.749185667752443,
          0.754071661237785,
          0.752442996742671,
          0.752442996742671,
          0.747557003257329,
          0.757328990228013,
          0.755700325732899
         ]
        },
        {
         "marker": {
          "maxdisplayed": 10
         },
         "mode": "lines+markers",
         "name": "Trial92",
         "type": "scatter",
         "x": [
          2,
          4,
          6,
          8,
          10,
          20,
          40,
          60,
          80,
          100,
          120,
          140,
          160,
          180,
          201
         ],
         "y": [
          0.6938110749185668,
          0.7068403908794788,
          0.7231270358306189,
          0.7214983713355049,
          0.741042345276873,
          0.741042345276873,
          0.750814332247557,
          0.752442996742671,
          0.749185667752443,
          0.752442996742671,
          0.755700325732899,
          0.747557003257329,
          0.752442996742671,
          0.747557003257329,
          0.752442996742671
         ]
        },
        {
         "marker": {
          "maxdisplayed": 10
         },
         "mode": "lines+markers",
         "name": "Trial93",
         "type": "scatter",
         "x": [
          1,
          3,
          5,
          7,
          9,
          19,
          38,
          58,
          77,
          97,
          116,
          135,
          155,
          174,
          194
         ],
         "y": [
          null,
          0.7003257328990228,
          0.7166123778501629,
          0.7117263843648208,
          0.7280130293159609,
          0.739413680781759,
          0.752442996742671,
          0.747557003257329,
          0.750814332247557,
          0.747557003257329,
          0.752442996742671,
          0.752442996742671,
          0.752442996742671,
          0.758957654723127,
          0.760586319218241
         ]
        },
        {
         "marker": {
          "maxdisplayed": 10
         },
         "mode": "lines+markers",
         "name": "Trial94",
         "type": "scatter",
         "x": [
          2,
          4,
          6,
          8,
          10,
          20,
          41,
          62,
          83,
          104,
          124,
          145,
          166,
          187,
          208
         ],
         "y": [
          0.6938110749185668,
          0.7068403908794788,
          0.7231270358306189,
          0.7214983713355049,
          0.741042345276873,
          0.741042345276873,
          0.755700325732899,
          0.747557003257329,
          0.747557003257329,
          0.755700325732899,
          0.750814332247557,
          0.750814332247557,
          0.754071661237785,
          0.745928338762215,
          0.749185667752443
         ]
        },
        {
         "marker": {
          "maxdisplayed": 10
         },
         "mode": "lines+markers",
         "name": "Trial95",
         "type": "scatter",
         "x": [
          1,
          3,
          5,
          7,
          9,
          19,
          38,
          57,
          76,
          96,
          115,
          134,
          153,
          172,
          192
         ],
         "y": [
          null,
          0.6693811074918566,
          0.6970684039087948,
          0.7068403908794788,
          0.7214983713355049,
          0.7263843648208469,
          0.7361563517915309,
          0.745928338762215,
          0.758957654723127,
          0.752442996742671,
          0.755700325732899,
          0.749185667752443,
          0.749185667752443,
          0.754071661237785,
          0.750814332247557
         ]
        },
        {
         "marker": {
          "maxdisplayed": 10
         },
         "mode": "lines+markers",
         "name": "Trial96",
         "type": "scatter",
         "x": [
          1,
          3,
          5,
          7,
          9,
          19,
          39,
          58,
          78,
          98,
          117,
          137,
          156,
          176,
          196
         ],
         "y": [
          null,
          0.6628664495114006,
          0.6986970684039088,
          0.7035830618892508,
          0.7263843648208469,
          0.742671009771987,
          0.760586319218241,
          0.7654723127035831,
          0.760586319218241,
          0.758957654723127,
          0.755700325732899,
          0.762214983713355,
          0.760586319218241,
          0.762214983713355,
          0.758957654723127
         ]
        },
        {
         "marker": {
          "maxdisplayed": 10
         },
         "mode": "lines+markers",
         "name": "Trial97",
         "type": "scatter",
         "x": [
          1,
          3,
          5,
          7,
          9,
          18,
          37,
          56,
          75,
          94,
          112,
          131,
          150,
          169,
          188
         ],
         "y": [
          null,
          0.6872964169381107,
          0.7263843648208469,
          0.7280130293159609,
          0.7296416938110749,
          0.752442996742671,
          0.745928338762215,
          0.742671009771987,
          0.752442996742671,
          0.755700325732899,
          0.755700325732899,
          0.752442996742671,
          0.754071661237785,
          0.754071661237785,
          0.750814332247557
         ]
        },
        {
         "marker": {
          "maxdisplayed": 10
         },
         "mode": "lines+markers",
         "name": "Trial98",
         "type": "scatter",
         "x": [
          1,
          3,
          5,
          6,
          8,
          17,
          34,
          51,
          69,
          86,
          103,
          121,
          138,
          155,
          173
         ],
         "y": [
          null,
          0.6612377850162866,
          0.6921824104234527,
          0.7019543973941368,
          0.7100977198697068,
          0.7247557003257329,
          0.752442996742671,
          0.7654723127035831,
          0.760586319218241,
          0.754071661237785,
          0.758957654723127,
          0.760586319218241,
          0.758957654723127,
          0.754071661237785,
          0.755700325732899
         ]
        },
        {
         "marker": {
          "maxdisplayed": 10
         },
         "mode": "lines+markers",
         "name": "Trial99",
         "type": "scatter",
         "x": [
          1,
          3,
          5,
          6,
          8,
          16,
          33,
          50,
          66,
          83,
          100,
          116,
          133,
          150,
          167
         ],
         "y": [
          null,
          0.6889250814332247,
          0.7117263843648208,
          0.7133550488599348,
          0.7263843648208469,
          0.737785016286645,
          0.737785016286645,
          0.749185667752443,
          0.750814332247557,
          0.747557003257329,
          0.749185667752443,
          0.754071661237785,
          0.749185667752443,
          0.754071661237785,
          0.755700325732899
         ]
        }
       ],
       "layout": {
        "showlegend": false,
        "template": {
         "data": {
          "bar": [
           {
            "error_x": {
             "color": "#2a3f5f"
            },
            "error_y": {
             "color": "#2a3f5f"
            },
            "marker": {
             "line": {
              "color": "#E5ECF6",
              "width": 0.5
             },
             "pattern": {
              "fillmode": "overlay",
              "size": 10,
              "solidity": 0.2
             }
            },
            "type": "bar"
           }
          ],
          "barpolar": [
           {
            "marker": {
             "line": {
              "color": "#E5ECF6",
              "width": 0.5
             },
             "pattern": {
              "fillmode": "overlay",
              "size": 10,
              "solidity": 0.2
             }
            },
            "type": "barpolar"
           }
          ],
          "carpet": [
           {
            "aaxis": {
             "endlinecolor": "#2a3f5f",
             "gridcolor": "white",
             "linecolor": "white",
             "minorgridcolor": "white",
             "startlinecolor": "#2a3f5f"
            },
            "baxis": {
             "endlinecolor": "#2a3f5f",
             "gridcolor": "white",
             "linecolor": "white",
             "minorgridcolor": "white",
             "startlinecolor": "#2a3f5f"
            },
            "type": "carpet"
           }
          ],
          "choropleth": [
           {
            "colorbar": {
             "outlinewidth": 0,
             "ticks": ""
            },
            "type": "choropleth"
           }
          ],
          "contour": [
           {
            "colorbar": {
             "outlinewidth": 0,
             "ticks": ""
            },
            "colorscale": [
             [
              0,
              "#0d0887"
             ],
             [
              0.1111111111111111,
              "#46039f"
             ],
             [
              0.2222222222222222,
              "#7201a8"
             ],
             [
              0.3333333333333333,
              "#9c179e"
             ],
             [
              0.4444444444444444,
              "#bd3786"
             ],
             [
              0.5555555555555556,
              "#d8576b"
             ],
             [
              0.6666666666666666,
              "#ed7953"
             ],
             [
              0.7777777777777778,
              "#fb9f3a"
             ],
             [
              0.8888888888888888,
              "#fdca26"
             ],
             [
              1,
              "#f0f921"
             ]
            ],
            "type": "contour"
           }
          ],
          "contourcarpet": [
           {
            "colorbar": {
             "outlinewidth": 0,
             "ticks": ""
            },
            "type": "contourcarpet"
           }
          ],
          "heatmap": [
           {
            "colorbar": {
             "outlinewidth": 0,
             "ticks": ""
            },
            "colorscale": [
             [
              0,
              "#0d0887"
             ],
             [
              0.1111111111111111,
              "#46039f"
             ],
             [
              0.2222222222222222,
              "#7201a8"
             ],
             [
              0.3333333333333333,
              "#9c179e"
             ],
             [
              0.4444444444444444,
              "#bd3786"
             ],
             [
              0.5555555555555556,
              "#d8576b"
             ],
             [
              0.6666666666666666,
              "#ed7953"
             ],
             [
              0.7777777777777778,
              "#fb9f3a"
             ],
             [
              0.8888888888888888,
              "#fdca26"
             ],
             [
              1,
              "#f0f921"
             ]
            ],
            "type": "heatmap"
           }
          ],
          "histogram": [
           {
            "marker": {
             "pattern": {
              "fillmode": "overlay",
              "size": 10,
              "solidity": 0.2
             }
            },
            "type": "histogram"
           }
          ],
          "histogram2d": [
           {
            "colorbar": {
             "outlinewidth": 0,
             "ticks": ""
            },
            "colorscale": [
             [
              0,
              "#0d0887"
             ],
             [
              0.1111111111111111,
              "#46039f"
             ],
             [
              0.2222222222222222,
              "#7201a8"
             ],
             [
              0.3333333333333333,
              "#9c179e"
             ],
             [
              0.4444444444444444,
              "#bd3786"
             ],
             [
              0.5555555555555556,
              "#d8576b"
             ],
             [
              0.6666666666666666,
              "#ed7953"
             ],
             [
              0.7777777777777778,
              "#fb9f3a"
             ],
             [
              0.8888888888888888,
              "#fdca26"
             ],
             [
              1,
              "#f0f921"
             ]
            ],
            "type": "histogram2d"
           }
          ],
          "histogram2dcontour": [
           {
            "colorbar": {
             "outlinewidth": 0,
             "ticks": ""
            },
            "colorscale": [
             [
              0,
              "#0d0887"
             ],
             [
              0.1111111111111111,
              "#46039f"
             ],
             [
              0.2222222222222222,
              "#7201a8"
             ],
             [
              0.3333333333333333,
              "#9c179e"
             ],
             [
              0.4444444444444444,
              "#bd3786"
             ],
             [
              0.5555555555555556,
              "#d8576b"
             ],
             [
              0.6666666666666666,
              "#ed7953"
             ],
             [
              0.7777777777777778,
              "#fb9f3a"
             ],
             [
              0.8888888888888888,
              "#fdca26"
             ],
             [
              1,
              "#f0f921"
             ]
            ],
            "type": "histogram2dcontour"
           }
          ],
          "mesh3d": [
           {
            "colorbar": {
             "outlinewidth": 0,
             "ticks": ""
            },
            "type": "mesh3d"
           }
          ],
          "parcoords": [
           {
            "line": {
             "colorbar": {
              "outlinewidth": 0,
              "ticks": ""
             }
            },
            "type": "parcoords"
           }
          ],
          "pie": [
           {
            "automargin": true,
            "type": "pie"
           }
          ],
          "scatter": [
           {
            "fillpattern": {
             "fillmode": "overlay",
             "size": 10,
             "solidity": 0.2
            },
            "type": "scatter"
           }
          ],
          "scatter3d": [
           {
            "line": {
             "colorbar": {
              "outlinewidth": 0,
              "ticks": ""
             }
            },
            "marker": {
             "colorbar": {
              "outlinewidth": 0,
              "ticks": ""
             }
            },
            "type": "scatter3d"
           }
          ],
          "scattercarpet": [
           {
            "marker": {
             "colorbar": {
              "outlinewidth": 0,
              "ticks": ""
             }
            },
            "type": "scattercarpet"
           }
          ],
          "scattergeo": [
           {
            "marker": {
             "colorbar": {
              "outlinewidth": 0,
              "ticks": ""
             }
            },
            "type": "scattergeo"
           }
          ],
          "scattergl": [
           {
            "marker": {
             "colorbar": {
              "outlinewidth": 0,
              "ticks": ""
             }
            },
            "type": "scattergl"
           }
          ],
          "scattermap": [
           {
            "marker": {
             "colorbar": {
              "outlinewidth": 0,
              "ticks": ""
             }
            },
            "type": "scattermap"
           }
          ],
          "scattermapbox": [
           {
            "marker": {
             "colorbar": {
              "outlinewidth": 0,
              "ticks": ""
             }
            },
            "type": "scattermapbox"
           }
          ],
          "scatterpolar": [
           {
            "marker": {
             "colorbar": {
              "outlinewidth": 0,
              "ticks": ""
             }
            },
            "type": "scatterpolar"
           }
          ],
          "scatterpolargl": [
           {
            "marker": {
             "colorbar": {
              "outlinewidth": 0,
              "ticks": ""
             }
            },
            "type": "scatterpolargl"
           }
          ],
          "scatterternary": [
           {
            "marker": {
             "colorbar": {
              "outlinewidth": 0,
              "ticks": ""
             }
            },
            "type": "scatterternary"
           }
          ],
          "surface": [
           {
            "colorbar": {
             "outlinewidth": 0,
             "ticks": ""
            },
            "colorscale": [
             [
              0,
              "#0d0887"
             ],
             [
              0.1111111111111111,
              "#46039f"
             ],
             [
              0.2222222222222222,
              "#7201a8"
             ],
             [
              0.3333333333333333,
              "#9c179e"
             ],
             [
              0.4444444444444444,
              "#bd3786"
             ],
             [
              0.5555555555555556,
              "#d8576b"
             ],
             [
              0.6666666666666666,
              "#ed7953"
             ],
             [
              0.7777777777777778,
              "#fb9f3a"
             ],
             [
              0.8888888888888888,
              "#fdca26"
             ],
             [
              1,
              "#f0f921"
             ]
            ],
            "type": "surface"
           }
          ],
          "table": [
           {
            "cells": {
             "fill": {
              "color": "#EBF0F8"
             },
             "line": {
              "color": "white"
             }
            },
            "header": {
             "fill": {
              "color": "#C8D4E3"
             },
             "line": {
              "color": "white"
             }
            },
            "type": "table"
           }
          ]
         },
         "layout": {
          "annotationdefaults": {
           "arrowcolor": "#2a3f5f",
           "arrowhead": 0,
           "arrowwidth": 1
          },
          "autotypenumbers": "strict",
          "coloraxis": {
           "colorbar": {
            "outlinewidth": 0,
            "ticks": ""
           }
          },
          "colorscale": {
           "diverging": [
            [
             0,
             "#8e0152"
            ],
            [
             0.1,
             "#c51b7d"
            ],
            [
             0.2,
             "#de77ae"
            ],
            [
             0.3,
             "#f1b6da"
            ],
            [
             0.4,
             "#fde0ef"
            ],
            [
             0.5,
             "#f7f7f7"
            ],
            [
             0.6,
             "#e6f5d0"
            ],
            [
             0.7,
             "#b8e186"
            ],
            [
             0.8,
             "#7fbc41"
            ],
            [
             0.9,
             "#4d9221"
            ],
            [
             1,
             "#276419"
            ]
           ],
           "sequential": [
            [
             0,
             "#0d0887"
            ],
            [
             0.1111111111111111,
             "#46039f"
            ],
            [
             0.2222222222222222,
             "#7201a8"
            ],
            [
             0.3333333333333333,
             "#9c179e"
            ],
            [
             0.4444444444444444,
             "#bd3786"
            ],
            [
             0.5555555555555556,
             "#d8576b"
            ],
            [
             0.6666666666666666,
             "#ed7953"
            ],
            [
             0.7777777777777778,
             "#fb9f3a"
            ],
            [
             0.8888888888888888,
             "#fdca26"
            ],
            [
             1,
             "#f0f921"
            ]
           ],
           "sequentialminus": [
            [
             0,
             "#0d0887"
            ],
            [
             0.1111111111111111,
             "#46039f"
            ],
            [
             0.2222222222222222,
             "#7201a8"
            ],
            [
             0.3333333333333333,
             "#9c179e"
            ],
            [
             0.4444444444444444,
             "#bd3786"
            ],
            [
             0.5555555555555556,
             "#d8576b"
            ],
            [
             0.6666666666666666,
             "#ed7953"
            ],
            [
             0.7777777777777778,
             "#fb9f3a"
            ],
            [
             0.8888888888888888,
             "#fdca26"
            ],
            [
             1,
             "#f0f921"
            ]
           ]
          },
          "colorway": [
           "#636efa",
           "#EF553B",
           "#00cc96",
           "#ab63fa",
           "#FFA15A",
           "#19d3f3",
           "#FF6692",
           "#B6E880",
           "#FF97FF",
           "#FECB52"
          ],
          "font": {
           "color": "#2a3f5f"
          },
          "geo": {
           "bgcolor": "white",
           "lakecolor": "white",
           "landcolor": "#E5ECF6",
           "showlakes": true,
           "showland": true,
           "subunitcolor": "white"
          },
          "hoverlabel": {
           "align": "left"
          },
          "hovermode": "closest",
          "mapbox": {
           "style": "light"
          },
          "paper_bgcolor": "white",
          "plot_bgcolor": "#E5ECF6",
          "polar": {
           "angularaxis": {
            "gridcolor": "white",
            "linecolor": "white",
            "ticks": ""
           },
           "bgcolor": "#E5ECF6",
           "radialaxis": {
            "gridcolor": "white",
            "linecolor": "white",
            "ticks": ""
           }
          },
          "scene": {
           "xaxis": {
            "backgroundcolor": "#E5ECF6",
            "gridcolor": "white",
            "gridwidth": 2,
            "linecolor": "white",
            "showbackground": true,
            "ticks": "",
            "zerolinecolor": "white"
           },
           "yaxis": {
            "backgroundcolor": "#E5ECF6",
            "gridcolor": "white",
            "gridwidth": 2,
            "linecolor": "white",
            "showbackground": true,
            "ticks": "",
            "zerolinecolor": "white"
           },
           "zaxis": {
            "backgroundcolor": "#E5ECF6",
            "gridcolor": "white",
            "gridwidth": 2,
            "linecolor": "white",
            "showbackground": true,
            "ticks": "",
            "zerolinecolor": "white"
           }
          },
          "shapedefaults": {
           "line": {
            "color": "#2a3f5f"
           }
          },
          "ternary": {
           "aaxis": {
            "gridcolor": "white",
            "linecolor": "white",
            "ticks": ""
           },
           "baxis": {
            "gridcolor": "white",
            "linecolor": "white",
            "ticks": ""
           },
           "bgcolor": "#E5ECF6",
           "caxis": {
            "gridcolor": "white",
            "linecolor": "white",
            "ticks": ""
           }
          },
          "title": {
           "x": 0.05
          },
          "xaxis": {
           "automargin": true,
           "gridcolor": "white",
           "linecolor": "white",
           "ticks": "",
           "title": {
            "standoff": 15
           },
           "zerolinecolor": "white",
           "zerolinewidth": 2
          },
          "yaxis": {
           "automargin": true,
           "gridcolor": "white",
           "linecolor": "white",
           "ticks": "",
           "title": {
            "standoff": 15
           },
           "zerolinecolor": "white",
           "zerolinewidth": 2
          }
         }
        },
        "title": {
         "text": "Intermediate Values Plot"
        },
        "xaxis": {
         "title": {
          "text": "Step"
         }
        },
        "yaxis": {
         "title": {
          "text": "Intermediate Value"
         }
        }
       }
      }
     },
     "metadata": {},
     "output_type": "display_data"
    },
    {
     "data": {
      "application/vnd.plotly.v1+json": {
       "config": {
        "plotlyServerURL": "https://plot.ly"
       },
       "data": [
        {
         "cliponaxis": false,
         "hovertemplate": [
          "n_estimators (IntDistribution): 0.026927057328447097<extra></extra>",
          "min_samples_leaf (IntDistribution): 0.0311330774547448<extra></extra>",
          "max_features (CategoricalDistribution): 0.06670225529632341<extra></extra>",
          "criterion (CategoricalDistribution): 0.1170151816874996<extra></extra>",
          "max_depth (IntDistribution): 0.34777324839847823<extra></extra>",
          "class_weight (CategoricalDistribution): 0.4104491798345068<extra></extra>"
         ],
         "name": "Objective Value",
         "orientation": "h",
         "text": [
          "0.03",
          "0.03",
          "0.07",
          "0.12",
          "0.35",
          "0.41"
         ],
         "textposition": "outside",
         "type": "bar",
         "x": [
          0.026927057328447097,
          0.0311330774547448,
          0.06670225529632341,
          0.1170151816874996,
          0.34777324839847823,
          0.4104491798345068
         ],
         "y": [
          "n_estimators",
          "min_samples_leaf",
          "max_features",
          "criterion",
          "max_depth",
          "class_weight"
         ]
        }
       ],
       "layout": {
        "template": {
         "data": {
          "bar": [
           {
            "error_x": {
             "color": "#2a3f5f"
            },
            "error_y": {
             "color": "#2a3f5f"
            },
            "marker": {
             "line": {
              "color": "#E5ECF6",
              "width": 0.5
             },
             "pattern": {
              "fillmode": "overlay",
              "size": 10,
              "solidity": 0.2
             }
            },
            "type": "bar"
           }
          ],
          "barpolar": [
           {
            "marker": {
             "line": {
              "color": "#E5ECF6",
              "width": 0.5
             },
             "pattern": {
              "fillmode": "overlay",
              "size": 10,
              "solidity": 0.2
             }
            },
            "type": "barpolar"
           }
          ],
          "carpet": [
           {
            "aaxis": {
             "endlinecolor": "#2a3f5f",
             "gridcolor": "white",
             "linecolor": "white",
             "minorgridcolor": "white",
             "startlinecolor": "#2a3f5f"
            },
            "baxis": {
             "endlinecolor": "#2a3f5f",
             "gridcolor": "white",
             "linecolor": "white",
             "minorgridcolor": "white",
             "startlinecolor": "#2a3f5f"
            },
            "type": "carpet"
           }
          ],
          "choropleth": [
           {
            "colorbar": {
             "outlinewidth": 0,
             "ticks": ""
            },
            "type": "choropleth"
           }
          ],
          "contour": [
           {
            "colorbar": {
             "outlinewidth": 0,
             "ticks": ""
            },
            "colorscale": [
             [
              0,
              "#0d0887"
             ],
             [
              0.1111111111111111,
              "#46039f"
             ],
             [
              0.2222222222222222,
              "#7201a8"
             ],
             [
              0.3333333333333333,
              "#9c179e"
             ],
             [
              0.4444444444444444,
              "#bd3786"
             ],
             [
              0.5555555555555556,
              "#d8576b"
             ],
             [
              0.6666666666666666,
              "#ed7953"
             ],
             [
              0.7777777777777778,
              "#fb9f3a"
             ],
             [
              0.8888888888888888,
              "#fdca26"
             ],
             [
              1,
              "#f0f921"
             ]
            ],
            "type": "contour"
           }
          ],
          "contourcarpet": [
           {
            "colorbar": {
             "outlinewidth": 0,
             "ticks": ""
            },
            "type": "contourcarpet"
           }
          ],
          "heatmap": [
           {
            "colorbar": {
             "outlinewidth": 0,
             "ticks": ""
            },
            "colorscale": [
             [
              0,
              "#0d0887"
             ],
             [
              0.1111111111111111,
              "#46039f"
             ],
             [
              0.2222222222222222,
              "#7201a8"
             ],
             [
              0.3333333333333333,
              "#9c179e"
             ],
             [
              0.4444444444444444,
              "#bd3786"
             ],
             [
              0.5555555555555556,
              "#d8576b"
             ],
             [
              0.6666666666666666,
              "#ed7953"
             ],
             [
              0.7777777777777778,
              "#fb9f3a"
             ],
             [
              0.8888888888888888,
              "#fdca26"
             ],
             [
              1,
              "#f0f921"
             ]
            ],
            "type": "heatmap"
           }
          ],
          "histogram": [
           {
            "marker": {
             "pattern": {
              "fillmode": "overlay",
              "size": 10,
              "solidity": 0.2
             }
            },
            "type": "histogram"
           }
          ],
          "histogram2d": [
           {
            "colorbar": {
             "outlinewidth": 0,
             "ticks": ""
            },
            "colorscale": [
             [
              0,
              "#0d0887"
             ],
             [
              0.1111111111111111,
              "#46039f"
             ],
             [
              0.2222222222222222,
              "#7201a8"
             ],
             [
              0.3333333333333333,
              "#9c179e"
             ],
             [
              0.4444444444444444,
              "#bd3786"
             ],
             [
              0.5555555555555556,
              "#d8576b"
             ],
             [
              0.6666666666666666,
              "#ed7953"
             ],
             [
              0.7777777777777778,
              "#fb9f3a"
             ],
             [
              0.8888888888888888,
              "#fdca26"
             ],
             [
              1,
              "#f0f921"
             ]
            ],
            "type": "histogram2d"
           }
          ],
          "histogram2dcontour": [
           {
            "colorbar": {
             "outlinewidth": 0,
             "ticks": ""
            },
            "colorscale": [
             [
              0,
              "#0d0887"
             ],
             [
              0.1111111111111111,
              "#46039f"
             ],
             [
              0.2222222222222222,
              "#7201a8"
             ],
             [
              0.3333333333333333,
              "#9c179e"
             ],
             [
              0.4444444444444444,
              "#bd3786"
             ],
             [
              0.5555555555555556,
              "#d8576b"
             ],
             [
              0.6666666666666666,
              "#ed7953"
             ],
             [
              0.7777777777777778,
              "#fb9f3a"
             ],
             [
              0.8888888888888888,
              "#fdca26"
             ],
             [
              1,
              "#f0f921"
             ]
            ],
            "type": "histogram2dcontour"
           }
          ],
          "mesh3d": [
           {
            "colorbar": {
             "outlinewidth": 0,
             "ticks": ""
            },
            "type": "mesh3d"
           }
          ],
          "parcoords": [
           {
            "line": {
             "colorbar": {
              "outlinewidth": 0,
              "ticks": ""
             }
            },
            "type": "parcoords"
           }
          ],
          "pie": [
           {
            "automargin": true,
            "type": "pie"
           }
          ],
          "scatter": [
           {
            "fillpattern": {
             "fillmode": "overlay",
             "size": 10,
             "solidity": 0.2
            },
            "type": "scatter"
           }
          ],
          "scatter3d": [
           {
            "line": {
             "colorbar": {
              "outlinewidth": 0,
              "ticks": ""
             }
            },
            "marker": {
             "colorbar": {
              "outlinewidth": 0,
              "ticks": ""
             }
            },
            "type": "scatter3d"
           }
          ],
          "scattercarpet": [
           {
            "marker": {
             "colorbar": {
              "outlinewidth": 0,
              "ticks": ""
             }
            },
            "type": "scattercarpet"
           }
          ],
          "scattergeo": [
           {
            "marker": {
             "colorbar": {
              "outlinewidth": 0,
              "ticks": ""
             }
            },
            "type": "scattergeo"
           }
          ],
          "scattergl": [
           {
            "marker": {
             "colorbar": {
              "outlinewidth": 0,
              "ticks": ""
             }
            },
            "type": "scattergl"
           }
          ],
          "scattermap": [
           {
            "marker": {
             "colorbar": {
              "outlinewidth": 0,
              "ticks": ""
             }
            },
            "type": "scattermap"
           }
          ],
          "scattermapbox": [
           {
            "marker": {
             "colorbar": {
              "outlinewidth": 0,
              "ticks": ""
             }
            },
            "type": "scattermapbox"
           }
          ],
          "scatterpolar": [
           {
            "marker": {
             "colorbar": {
              "outlinewidth": 0,
              "ticks": ""
             }
            },
            "type": "scatterpolar"
           }
          ],
          "scatterpolargl": [
           {
            "marker": {
             "colorbar": {
              "outlinewidth": 0,
              "ticks": ""
             }
            },
            "type": "scatterpolargl"
           }
          ],
          "scatterternary": [
           {
            "marker": {
             "colorbar": {
              "outlinewidth": 0,
              "ticks": ""
             }
            },
            "type": "scatterternary"
           }
          ],
          "surface": [
           {
            "colorbar": {
             "outlinewidth": 0,
             "ticks": ""
            },
            "colorscale": [
             [
              0,
              "#0d0887"
             ],
             [
              0.1111111111111111,
              "#46039f"
             ],
             [
              0.2222222222222222,
              "#7201a8"
             ],
             [
              0.3333333333333333,
              "#9c179e"
             ],
             [
              0.4444444444444444,
              "#bd3786"
             ],
             [
              0.5555555555555556,
              "#d8576b"
             ],
             [
              0.6666666666666666,
              "#ed7953"
             ],
             [
              0.7777777777777778,
              "#fb9f3a"
             ],
             [
              0.8888888888888888,
              "#fdca26"
             ],
             [
              1,
              "#f0f921"
             ]
            ],
            "type": "surface"
           }
          ],
          "table": [
           {
            "cells": {
             "fill": {
              "color": "#EBF0F8"
             },
             "line": {
              "color": "white"
             }
            },
            "header": {
             "fill": {
              "color": "#C8D4E3"
             },
             "line": {
              "color": "white"
             }
            },
            "type": "table"
           }
          ]
         },
         "layout": {
          "annotationdefaults": {
           "arrowcolor": "#2a3f5f",
           "arrowhead": 0,
           "arrowwidth": 1
          },
          "autotypenumbers": "strict",
          "coloraxis": {
           "colorbar": {
            "outlinewidth": 0,
            "ticks": ""
           }
          },
          "colorscale": {
           "diverging": [
            [
             0,
             "#8e0152"
            ],
            [
             0.1,
             "#c51b7d"
            ],
            [
             0.2,
             "#de77ae"
            ],
            [
             0.3,
             "#f1b6da"
            ],
            [
             0.4,
             "#fde0ef"
            ],
            [
             0.5,
             "#f7f7f7"
            ],
            [
             0.6,
             "#e6f5d0"
            ],
            [
             0.7,
             "#b8e186"
            ],
            [
             0.8,
             "#7fbc41"
            ],
            [
             0.9,
             "#4d9221"
            ],
            [
             1,
             "#276419"
            ]
           ],
           "sequential": [
            [
             0,
             "#0d0887"
            ],
            [
             0.1111111111111111,
             "#46039f"
            ],
            [
             0.2222222222222222,
             "#7201a8"
            ],
            [
             0.3333333333333333,
             "#9c179e"
            ],
            [
             0.4444444444444444,
             "#bd3786"
            ],
            [
             0.5555555555555556,
             "#d8576b"
            ],
            [
             0.6666666666666666,
             "#ed7953"
            ],
            [
             0.7777777777777778,
             "#fb9f3a"
            ],
            [
             0.8888888888888888,
             "#fdca26"
            ],
            [
             1,
             "#f0f921"
            ]
           ],
           "sequentialminus": [
            [
             0,
             "#0d0887"
            ],
            [
             0.1111111111111111,
             "#46039f"
            ],
            [
             0.2222222222222222,
             "#7201a8"
            ],
            [
             0.3333333333333333,
             "#9c179e"
            ],
            [
             0.4444444444444444,
             "#bd3786"
            ],
            [
             0.5555555555555556,
             "#d8576b"
            ],
            [
             0.6666666666666666,
             "#ed7953"
            ],
            [
             0.7777777777777778,
             "#fb9f3a"
            ],
            [
             0.8888888888888888,
             "#fdca26"
            ],
            [
             1,
             "#f0f921"
            ]
           ]
          },
          "colorway": [
           "#636efa",
           "#EF553B",
           "#00cc96",
           "#ab63fa",
           "#FFA15A",
           "#19d3f3",
           "#FF6692",
           "#B6E880",
           "#FF97FF",
           "#FECB52"
          ],
          "font": {
           "color": "#2a3f5f"
          },
          "geo": {
           "bgcolor": "white",
           "lakecolor": "white",
           "landcolor": "#E5ECF6",
           "showlakes": true,
           "showland": true,
           "subunitcolor": "white"
          },
          "hoverlabel": {
           "align": "left"
          },
          "hovermode": "closest",
          "mapbox": {
           "style": "light"
          },
          "paper_bgcolor": "white",
          "plot_bgcolor": "#E5ECF6",
          "polar": {
           "angularaxis": {
            "gridcolor": "white",
            "linecolor": "white",
            "ticks": ""
           },
           "bgcolor": "#E5ECF6",
           "radialaxis": {
            "gridcolor": "white",
            "linecolor": "white",
            "ticks": ""
           }
          },
          "scene": {
           "xaxis": {
            "backgroundcolor": "#E5ECF6",
            "gridcolor": "white",
            "gridwidth": 2,
            "linecolor": "white",
            "showbackground": true,
            "ticks": "",
            "zerolinecolor": "white"
           },
           "yaxis": {
            "backgroundcolor": "#E5ECF6",
            "gridcolor": "white",
            "gridwidth": 2,
            "linecolor": "white",
            "showbackground": true,
            "ticks": "",
            "zerolinecolor": "white"
           },
           "zaxis": {
            "backgroundcolor": "#E5ECF6",
            "gridcolor": "white",
            "gridwidth": 2,
            "linecolor": "white",
            "showbackground": true,
            "ticks": "",
            "zerolinecolor": "white"
           }
          },
          "shapedefaults": {
           "line": {
            "color": "#2a3f5f"
           }
          },
          "ternary": {
           "aaxis": {
            "gridcolor": "white",
            "linecolor": "white",
            "ticks": ""
           },
           "baxis": {
            "gridcolor": "white",
            "linecolor": "white",
            "ticks": ""
           },
           "bgcolor": "#E5ECF6",
           "caxis": {
            "gridcolor": "white",
            "linecolor": "white",
            "ticks": ""
           }
          },
          "title": {
           "x": 0.05
          },
          "xaxis": {
           "automargin": true,
           "gridcolor": "white",
           "linecolor": "white",
           "ticks": "",
           "title": {
            "standoff": 15
           },
           "zerolinecolor": "white",
           "zerolinewidth": 2
          },
          "yaxis": {
           "automargin": true,
           "gridcolor": "white",
           "linecolor": "white",
           "ticks": "",
           "title": {
            "standoff": 15
           },
           "zerolinecolor": "white",
           "zerolinewidth": 2
          }
         }
        },
        "title": {
         "text": "Hyperparameter Importances"
        },
        "xaxis": {
         "title": {
          "text": "Hyperparameter Importance"
         }
        },
        "yaxis": {
         "title": {
          "text": "Hyperparameter"
         }
        }
       }
      }
     },
     "metadata": {},
     "output_type": "display_data"
    }
   ],
   "source": [
    "# --- Optional: Optuna Visualizations ---\n",
    "import optuna.visualization as ov\n",
    "fig1 = ov.plot_optimization_history(study)\n",
    "fig1.show()\n",
    "fig2 = ov.plot_intermediate_values(study)\n",
    "fig2.show()\n",
    "fig3 = ov.plot_param_importances(study)\n",
    "fig3.show()"
   ]
  },
  {
   "cell_type": "code",
   "execution_count": null,
   "id": "7d9600ef",
   "metadata": {},
   "outputs": [],
   "source": []
  }
 ],
 "metadata": {
  "kernelspec": {
   "display_name": "Python 3",
   "language": "python",
   "name": "python3"
  },
  "language_info": {
   "codemirror_mode": {
    "name": "ipython",
    "version": 3
   },
   "file_extension": ".py",
   "mimetype": "text/x-python",
   "name": "python",
   "nbconvert_exporter": "python",
   "pygments_lexer": "ipython3",
   "version": "3.12.3"
  }
 },
 "nbformat": 4,
 "nbformat_minor": 5
}
