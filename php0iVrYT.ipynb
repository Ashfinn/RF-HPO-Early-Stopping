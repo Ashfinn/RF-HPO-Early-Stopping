{
 "cells": [
  {
   "cell_type": "code",
   "execution_count": 1,
   "id": "eb14dc2a",
   "metadata": {},
   "outputs": [
    {
     "name": "stdout",
     "output_type": "stream",
     "text": [
      "\n",
      "Run 1/5 (Seed: 42)\n"
     ]
    },
    {
     "data": {
      "application/vnd.jupyter.widget-view+json": {
       "model_id": "427b70d858c74660b25dbbb2c6e0a9ac",
       "version_major": 2,
       "version_minor": 0
      },
      "text/plain": [
       "  0%|          | 0/100 [00:00<?, ?it/s]"
      ]
     },
     "metadata": {},
     "output_type": "display_data"
    },
    {
     "data": {
      "application/vnd.jupyter.widget-view+json": {
       "model_id": "9a05e7efc79d446ea554981565fe4d42",
       "version_major": 2,
       "version_minor": 0
      },
      "text/plain": [
       "  0%|          | 0/100 [00:00<?, ?it/s]"
      ]
     },
     "metadata": {},
     "output_type": "display_data"
    },
    {
     "name": "stdout",
     "output_type": "stream",
     "text": [
      "\n",
      "Run 2/5 (Seed: 43)\n"
     ]
    },
    {
     "data": {
      "application/vnd.jupyter.widget-view+json": {
       "model_id": "2cb0644af87044518fce813732004104",
       "version_major": 2,
       "version_minor": 0
      },
      "text/plain": [
       "  0%|          | 0/100 [00:00<?, ?it/s]"
      ]
     },
     "metadata": {},
     "output_type": "display_data"
    },
    {
     "data": {
      "application/vnd.jupyter.widget-view+json": {
       "model_id": "7da0afd3ecac4a4f8dc447c9db05eee6",
       "version_major": 2,
       "version_minor": 0
      },
      "text/plain": [
       "  0%|          | 0/100 [00:00<?, ?it/s]"
      ]
     },
     "metadata": {},
     "output_type": "display_data"
    },
    {
     "name": "stdout",
     "output_type": "stream",
     "text": [
      "\n",
      "Run 3/5 (Seed: 44)\n"
     ]
    },
    {
     "data": {
      "application/vnd.jupyter.widget-view+json": {
       "model_id": "f1fa63a8a2ed4ec2a8c974e373dda901",
       "version_major": 2,
       "version_minor": 0
      },
      "text/plain": [
       "  0%|          | 0/100 [00:00<?, ?it/s]"
      ]
     },
     "metadata": {},
     "output_type": "display_data"
    },
    {
     "data": {
      "application/vnd.jupyter.widget-view+json": {
       "model_id": "f510d3e7d19e49f4a439ff2e0bcb426a",
       "version_major": 2,
       "version_minor": 0
      },
      "text/plain": [
       "  0%|          | 0/100 [00:00<?, ?it/s]"
      ]
     },
     "metadata": {},
     "output_type": "display_data"
    },
    {
     "name": "stdout",
     "output_type": "stream",
     "text": [
      "\n",
      "Run 4/5 (Seed: 45)\n"
     ]
    },
    {
     "data": {
      "application/vnd.jupyter.widget-view+json": {
       "model_id": "65c80d9eb937441fbde4f62d2453a014",
       "version_major": 2,
       "version_minor": 0
      },
      "text/plain": [
       "  0%|          | 0/100 [00:00<?, ?it/s]"
      ]
     },
     "metadata": {},
     "output_type": "display_data"
    },
    {
     "data": {
      "application/vnd.jupyter.widget-view+json": {
       "model_id": "3cb5be28359249409d63e16aa48396b6",
       "version_major": 2,
       "version_minor": 0
      },
      "text/plain": [
       "  0%|          | 0/100 [00:00<?, ?it/s]"
      ]
     },
     "metadata": {},
     "output_type": "display_data"
    },
    {
     "name": "stdout",
     "output_type": "stream",
     "text": [
      "\n",
      "Run 5/5 (Seed: 46)\n"
     ]
    },
    {
     "data": {
      "application/vnd.jupyter.widget-view+json": {
       "model_id": "7c8dbe8fa8f443f89dd895db3b992687",
       "version_major": 2,
       "version_minor": 0
      },
      "text/plain": [
       "  0%|          | 0/100 [00:00<?, ?it/s]"
      ]
     },
     "metadata": {},
     "output_type": "display_data"
    },
    {
     "data": {
      "application/vnd.jupyter.widget-view+json": {
       "model_id": "5cc668c331f247e792ed115e8cc6a26e",
       "version_major": 2,
       "version_minor": 0
      },
      "text/plain": [
       "  0%|          | 0/100 [00:00<?, ?it/s]"
      ]
     },
     "metadata": {},
     "output_type": "display_data"
    },
    {
     "name": "stdout",
     "output_type": "stream",
     "text": [
      "\n",
      "=== Results Summary ===\n",
      "Pruned Runs (AUC): Mean: 0.7972, 95% CI: [0.7941, 0.8004]\n",
      "Baseline Runs (AUC): Mean: 0.8005, 95% CI: [0.7990, 0.8020]\n",
      "Mean Total Time (Pruned): 38.44 seconds\n",
      "Mean Total Time (Baseline): 29.19 seconds\n",
      "Speedup Factor: 0.76x\n",
      "Pruning Rate: 0.0%\n"
     ]
    }
   ],
   "source": [
    "import pandas as pd\n",
    "import numpy as np\n",
    "from scipy.io import arff\n",
    "from sklearn.model_selection import train_test_split\n",
    "from sklearn.preprocessing import LabelEncoder\n",
    "from sklearn.compose import ColumnTransformer\n",
    "from sklearn.pipeline import Pipeline\n",
    "import optuna\n",
    "from sklearn.ensemble import RandomForestClassifier\n",
    "from sklearn.metrics import accuracy_score, roc_auc_score\n",
    "import functools\n",
    "import warnings\n",
    "import joblib\n",
    "import time\n",
    "from collections import defaultdict\n",
    "from scipy.optimize import curve_fit\n",
    "from scipy.stats import t\n",
    "import json\n",
    "\n",
    "# Suppress warnings\n",
    "warnings.filterwarnings(\"ignore\", category=UserWarning, module='sklearn')\n",
    "optuna.logging.set_verbosity(optuna.logging.WARNING)\n",
    "\n",
    "# --- 1. RandomForestMultiFidelityPruner Class ---\n",
    "class RandomForestMultiFidelityPruner(optuna.pruners.BasePruner):\n",
    "    def __init__(self, \n",
    "                 min_intermediate_steps=3, \n",
    "                 pruning_quantile=0.5, \n",
    "                 grace_period_steps=2, \n",
    "                 predictive_model_type='saturating_curve', \n",
    "                 debug_mode=False):\n",
    "        self.min_intermediate_steps = min_intermediate_steps\n",
    "        self.pruning_quantile = pruning_quantile\n",
    "        self.grace_period_steps = grace_period_steps\n",
    "        self.predictive_model_type = predictive_model_type\n",
    "        self.trial_learning_curves = defaultdict(list)\n",
    "        self.debug_mode = debug_mode\n",
    "        self.predictions_log = []\n",
    "\n",
    "    def prune(self, study, trial):\n",
    "        trial_id = trial.number\n",
    "        intermediate_values = trial.intermediate_values\n",
    "        \n",
    "        if self.debug_mode:\n",
    "            print(f\"\\n=== DEBUGGING TRIAL {trial_id} ===\")\n",
    "            print(f\"Intermediate values: {intermediate_values}\")\n",
    "        \n",
    "        if not intermediate_values:\n",
    "            return False\n",
    "        \n",
    "        current_step = max(intermediate_values.keys())\n",
    "        current_value = intermediate_values[current_step]\n",
    "        \n",
    "        if trial_id not in self.trial_learning_curves:\n",
    "            self.trial_learning_curves[trial_id] = []\n",
    "        if not self.trial_learning_curves[trial_id] or \\\n",
    "           self.trial_learning_curves[trial_id][-1][0] != current_step:\n",
    "            self.trial_learning_curves[trial_id].append((current_step, current_value))\n",
    "        \n",
    "        if len(intermediate_values) < self.min_intermediate_steps or current_step < self.grace_period_steps:\n",
    "            return False\n",
    "        \n",
    "        steps = np.array(list(intermediate_values.keys()))\n",
    "        values = np.array(list(intermediate_values.values()))\n",
    "        \n",
    "        try:\n",
    "            predicted_final_performance = self._predict_final_performance(\n",
    "                steps, values, trial.params.get('n_estimators', 250), trial_id)\n",
    "        except Exception:\n",
    "            return False\n",
    "        \n",
    "        completed_trial_values = [\n",
    "            t.value for t in study.trials \n",
    "            if t.state == optuna.trial.TrialState.COMPLETE and t.value is not None\n",
    "        ]\n",
    "        \n",
    "        if not completed_trial_values:\n",
    "            return False\n",
    "        \n",
    "        threshold = np.quantile(completed_trial_values, self.pruning_quantile)\n",
    "        should_prune = predicted_final_performance < threshold\n",
    "        \n",
    "        self.predictions_log.append({\n",
    "            'trial_id': trial_id,\n",
    "            'step': current_step,\n",
    "            'predicted': predicted_final_performance,\n",
    "            'threshold': threshold,\n",
    "            'pruned': should_prune,\n",
    "            'intermediate_values': dict(intermediate_values)\n",
    "        })\n",
    "        \n",
    "        return should_prune\n",
    "\n",
    "    def _predict_final_performance(self, steps, values, max_n_estimators, trial_id):\n",
    "        if self.predictive_model_type == 'saturating_curve':\n",
    "            return self._fit_saturating_curve(steps, values, trial_id)\n",
    "        elif self.predictive_model_type == 'linear_extrapolation':\n",
    "            return self._linear_extrapolation(steps, values)\n",
    "        return values[-1]\n",
    "    \n",
    "    def _fit_saturating_curve(self, steps, values, trial_id):\n",
    "        def saturating_func(x, a, b, c):\n",
    "            return a - b * np.exp(-c * x)\n",
    "        \n",
    "        try:\n",
    "            p0 = [max(values), max(values) - min(values), 0.1]\n",
    "            popt, _ = curve_fit(saturating_func, steps, values, p0=p0, maxfev=1000)\n",
    "            final_step = max(steps) * 3\n",
    "            return saturating_func(final_step, *popt)\n",
    "        except Exception:\n",
    "            return self._linear_extrapolation(steps, values)\n",
    "    \n",
    "    def _linear_extrapolation(self, steps, values):\n",
    "        if len(steps) < 2:\n",
    "            return values[-1]\n",
    "        slope = (values[-1] - values[-2]) / (steps[-1] - steps[-2])\n",
    "        target_step = steps[-1] * 2\n",
    "        return values[-1] + slope * (target_step - steps[-1])\n",
    "    \n",
    "    def get_prediction_analysis(self):\n",
    "        return self.predictions_log\n",
    "\n",
    "# --- 2. Dataset Loading and Preprocessing ---\n",
    "def load_and_preprocess_arff(filepath, target_column_name=None):\n",
    "    data, meta = arff.loadarff(filepath)\n",
    "    df = pd.DataFrame(data)\n",
    "    for col in df.columns:\n",
    "        if df[col].dtype == 'object':\n",
    "            try:\n",
    "                df[col] = df[col].apply(lambda x: x.decode('utf-8') if isinstance(x, bytes) else x)\n",
    "            except (UnicodeDecodeError, AttributeError):\n",
    "                pass\n",
    "    if target_column_name is None:\n",
    "        target_column_name = df.columns[-1]\n",
    "    X = df.drop(columns=[target_column_name])\n",
    "    y = df[target_column_name]\n",
    "    categorical_features = X.select_dtypes(include=['object', 'category']).columns.tolist()\n",
    "    numerical_features = X.select_dtypes(include=np.number).columns.tolist()\n",
    "    feature_names = X.columns.tolist()\n",
    "    categorical_features_idx = [feature_names.index(col) for col in categorical_features]\n",
    "    return X, y, feature_names, categorical_features_idx\n",
    "\n",
    "def get_preprocessor(numerical_features, categorical_features):\n",
    "    from sklearn.preprocessing import OneHotEncoder\n",
    "    transformers = []\n",
    "    if numerical_features:\n",
    "        transformers.append(('num', 'passthrough', numerical_features))\n",
    "    if categorical_features:\n",
    "        transformers.append(('cat', OneHotEncoder(handle_unknown='ignore'), categorical_features))\n",
    "    return ColumnTransformer(transformers=transformers, remainder='drop')\n",
    "\n",
    "# --- 3. Objective Function with Timing ---\n",
    "def objective(trial, X_train_raw, y_train_encoded, X_val_raw, y_val_encoded,\n",
    "              task_type='classification', preprocessor=None, max_n_estimators_upper_bound=250,\n",
    "              debug_mode=False, timing_data=None):\n",
    "    start_time = time.time()\n",
    "    \n",
    "    n_estimators = trial.suggest_int(\"n_estimators\", 50, max_n_estimators_upper_bound)\n",
    "    max_depth = trial.suggest_int(\"max_depth\", 2, 32)\n",
    "    min_samples_leaf = trial.suggest_int(\"min_samples_leaf\", 1, 20)\n",
    "    max_features_val = trial.suggest_categorical(\"max_features\", ['sqrt', 'log2', 0.5, 0.7, 1.0])\n",
    "    criterion = trial.suggest_categorical(\"criterion\", [\"gini\", \"entropy\"])\n",
    "    class_weight = trial.suggest_categorical(\"class_weight\", [None, \"balanced\"])\n",
    "\n",
    "    rf_model = RandomForestClassifier(\n",
    "        n_estimators=1,\n",
    "        max_depth=max_depth,\n",
    "        min_samples_leaf=min_samples_leaf,\n",
    "        max_features=max_features_val,\n",
    "        criterion=criterion,\n",
    "        class_weight=class_weight,\n",
    "        oob_score=True,\n",
    "        random_state=42,\n",
    "        warm_start=True,\n",
    "        n_jobs=-1\n",
    "    )\n",
    "\n",
    "    if preprocessor:\n",
    "        X_train_processed = preprocessor.fit_transform(X_train_raw)\n",
    "        X_val_processed = preprocessor.transform(X_val_raw)\n",
    "    else:\n",
    "        X_train_processed = X_train_raw.to_numpy()\n",
    "        X_val_processed = X_val_raw.to_numpy()\n",
    "\n",
    "    fidelity_schedule = [0.02, 0.05, 0.1, 0.2, 0.5, 1.0]\n",
    "    fidelity_steps = sorted(list(set([max(1, int(n_estimators * p)) for p in fidelity_schedule])))\n",
    "\n",
    "    for step, current_n_estimators in enumerate(fidelity_steps):\n",
    "        if current_n_estimators > rf_model.n_estimators:\n",
    "            rf_model.n_estimators = current_n_estimators\n",
    "            rf_model.fit(X_train_processed, y_train_encoded)\n",
    "\n",
    "        if rf_model.n_estimators > 1 and hasattr(rf_model, 'oob_score_'):\n",
    "            current_oob_score = rf_model.oob_score_\n",
    "        else:\n",
    "            current_oob_score = np.nan\n",
    "\n",
    "        trial.report(current_oob_score, step)\n",
    "\n",
    "        if trial.should_prune():\n",
    "            break\n",
    "\n",
    "    if not trial.should_prune():\n",
    "        y_pred = rf_model.predict(X_val_processed)\n",
    "        if len(np.unique(y_val_encoded)) == 2:\n",
    "            y_proba = rf_model.predict_proba(X_val_processed)[:, 1]\n",
    "            final_metric = roc_auc_score(y_val_encoded, y_proba)\n",
    "        else:\n",
    "            final_metric = accuracy_score(y_val_encoded, y_pred)\n",
    "    else:\n",
    "        final_metric = current_oob_score\n",
    "\n",
    "    trial_time = time.time() - start_time\n",
    "    timing_data.append({\n",
    "        'trial_id': trial.number,\n",
    "        'time_seconds': trial_time,\n",
    "        'pruned': trial.should_prune(),\n",
    "        'final_metric': final_metric\n",
    "    })\n",
    "\n",
    "    return final_metric\n",
    "\n",
    "# --- 4. Baseline Objective Function ---\n",
    "def objective_baseline(trial, X_train_raw, y_train_encoded, X_val_raw, y_val_encoded,\n",
    "                      task_type='classification', preprocessor=None, max_n_estimators_upper_bound=250,\n",
    "                      debug_mode=False, timing_data=None):\n",
    "    start_time = time.time()\n",
    "    \n",
    "    n_estimators = trial.suggest_int(\"n_estimators\", 50, max_n_estimators_upper_bound)\n",
    "    max_depth = trial.suggest_int(\"max_depth\", 2, 32)\n",
    "    min_samples_leaf = trial.suggest_int(\"min_samples_leaf\", 1, 20)\n",
    "    max_features_val = trial.suggest_categorical(\"max_features\", ['sqrt', 'log2', 0.5, 0.7, 1.0])\n",
    "    criterion = trial.suggest_categorical(\"criterion\", [\"gini\", \"entropy\"])\n",
    "    class_weight = trial.suggest_categorical(\"class_weight\", [None, \"balanced\"])\n",
    "\n",
    "    rf_model = RandomForestClassifier(\n",
    "        n_estimators=n_estimators,\n",
    "        max_depth=max_depth,\n",
    "        min_samples_leaf=min_samples_leaf,\n",
    "        max_features=max_features_val,\n",
    "        criterion=criterion,\n",
    "        class_weight=class_weight,\n",
    "        random_state=42,\n",
    "        n_jobs=-1\n",
    "    )\n",
    "\n",
    "    if preprocessor:\n",
    "        X_train_processed = preprocessor.fit_transform(X_train_raw)\n",
    "        X_val_processed = preprocessor.transform(X_val_raw)\n",
    "    else:\n",
    "        X_train_processed = X_train_raw.to_numpy()\n",
    "        X_val_processed = X_val_raw.to_numpy()\n",
    "\n",
    "    rf_model.fit(X_train_processed, y_train_encoded)\n",
    "    y_pred = rf_model.predict(X_val_processed)\n",
    "\n",
    "    if len(np.unique(y_val_encoded)) == 2:\n",
    "        y_proba = rf_model.predict_proba(X_val_processed)[:, 1]\n",
    "        final_metric = roc_auc_score(y_val_encoded, y_proba)\n",
    "    else:\n",
    "        final_metric = accuracy_score(y_val_encoded, y_pred)\n",
    "\n",
    "    trial_time = time.time() - start_time\n",
    "    timing_data.append({\n",
    "        'trial_id': trial.number,\n",
    "        'time_seconds': trial_time,\n",
    "        'pruned': False,\n",
    "        'final_metric': final_metric\n",
    "    })\n",
    "\n",
    "    return final_metric\n",
    "\n",
    "# --- 5. Final Model Evaluation ---\n",
    "def evaluate_final_model(best_params, X_train_full, y_train_full, X_test_full, y_test_full,\n",
    "                         task_type='classification', preprocessor=None):\n",
    "    start_time = time.time()\n",
    "    if preprocessor:\n",
    "        X_train_processed = preprocessor.fit_transform(X_train_full)\n",
    "        X_test_processed = preprocessor.transform(X_test_full)\n",
    "    else:\n",
    "        X_train_processed = X_train_full.to_numpy()\n",
    "        X_test_processed = X_test_full.to_numpy()\n",
    "    model = RandomForestClassifier(random_state=42, n_jobs=-1, **best_params)\n",
    "    model.fit(X_train_processed, y_train_full)\n",
    "    fit_time = time.time() - start_time\n",
    "    y_pred = model.predict(X_test_processed)\n",
    "    if len(np.unique(y_test_full)) == 2:\n",
    "        y_proba = model.predict_proba(X_test_processed)[:, 1]\n",
    "        final_metric = roc_auc_score(y_test_full, y_proba)\n",
    "    else:\n",
    "        final_metric = accuracy_score(y_test_full, y_pred)\n",
    "    return model, final_metric, fit_time\n",
    "\n",
    "# --- 6. Confidence Interval Calculation ---\n",
    "def calculate_confidence_interval(data, confidence=0.95):\n",
    "    n = len(data)\n",
    "    mean = np.mean(data)\n",
    "    std_err = np.std(data, ddof=1) / np.sqrt(n)\n",
    "    t_crit = t.ppf((1 + confidence) / 2, n - 1)\n",
    "    margin_error = t_crit * std_err\n",
    "    return mean, margin_error, (mean - margin_error, mean + margin_error)\n",
    "\n",
    "# --- 7. Main Experiment ---\n",
    "N_RUNS = 5\n",
    "N_TRIALS = 100\n",
    "RANDOM_STATE = 42\n",
    "DATASET_PATH = 'datasets/php0iVrYT.arff'\n",
    "TARGET_COLUMN = 'Class'\n",
    "TASK_TYPE = 'classification'\n",
    "DEBUG_MODE = False\n",
    "\n",
    "# Load and preprocess data\n",
    "X_raw, y_raw, _, _ = load_and_preprocess_arff(DATASET_PATH, target_column_name=TARGET_COLUMN)\n",
    "le = LabelEncoder()\n",
    "y_encoded = le.fit_transform(y_raw)\n",
    "numerical_feats = X_raw.columns.tolist()\n",
    "categorical_feats = []\n",
    "data_preprocessor = get_preprocessor(numerical_feats, categorical_feats)\n",
    "X_train_split, X_val_split, y_train_split, y_val_split = train_test_split(\n",
    "    X_raw, y_encoded, test_size=0.2, random_state=RANDOM_STATE, stratify=y_encoded\n",
    ")\n",
    "X_train_full, X_test_full, y_train_full, y_test_full = train_test_split(\n",
    "    X_raw, y_encoded, test_size=0.2, random_state=RANDOM_STATE, stratify=y_encoded\n",
    ")\n",
    "\n",
    "# Store results\n",
    "results_pruned = []\n",
    "results_baseline = []\n",
    "timing_data_pruned = []\n",
    "timing_data_baseline = []\n",
    "\n",
    "for run in range(N_RUNS):\n",
    "    seed = RANDOM_STATE + run\n",
    "    print(f\"\\nRun {run + 1}/{N_RUNS} (Seed: {seed})\")\n",
    "    \n",
    "    # Pruned Study\n",
    "    timing_data_pruned_run = []\n",
    "    custom_pruner = RandomForestMultiFidelityPruner(\n",
    "        min_intermediate_steps=2,\n",
    "        pruning_quantile=0.25,\n",
    "        grace_period_steps=1,\n",
    "        predictive_model_type='linear_extrapolation',\n",
    "        debug_mode=DEBUG_MODE\n",
    "    )\n",
    "    study_pruned = optuna.create_study(\n",
    "        direction=\"maximize\",\n",
    "        pruner=custom_pruner,\n",
    "        sampler=optuna.samplers.TPESampler(seed=seed),\n",
    "        study_name=f\"blood_transfusion_rf_hpo_pruned_run_{run}\",\n",
    "        storage=f\"sqlite:///blood_transfusion_rf_hpo_pruned_run_{run}.db\",\n",
    "        load_if_exists=True\n",
    "    )\n",
    "    objective_with_args = functools.partial(\n",
    "        objective,\n",
    "        X_train_raw=X_train_split,\n",
    "        y_train_encoded=y_train_split,\n",
    "        X_val_raw=X_val_split,\n",
    "        y_val_encoded=y_val_split,\n",
    "        task_type=TASK_TYPE,\n",
    "        preprocessor=data_preprocessor,\n",
    "        max_n_estimators_upper_bound=250,\n",
    "        debug_mode=DEBUG_MODE,\n",
    "        timing_data=timing_data_pruned_run\n",
    "    )\n",
    "    start_time = time.time()\n",
    "    study_pruned.optimize(objective_with_args, n_trials=N_TRIALS, show_progress_bar=True)\n",
    "    total_time_pruned = time.time() - start_time\n",
    "    pruned_trials = len(study_pruned.get_trials(states=[optuna.trial.TrialState.PRUNED]))\n",
    "    complete_trials = len(study_pruned.get_trials(states=[optuna.trial.TrialState.COMPLETE]))\n",
    "    model, final_score, _ = evaluate_final_model(\n",
    "        study_pruned.best_trial.params, X_train_full, y_train_full, X_test_full, y_test_full,\n",
    "        task_type=TASK_TYPE, preprocessor=data_preprocessor\n",
    "    )\n",
    "    timing_data_pruned.append({\n",
    "        'run': run,\n",
    "        'total_time': total_time_pruned,\n",
    "        'pruned_trials': pruned_trials,\n",
    "        'complete_trials': complete_trials\n",
    "    })\n",
    "    results_pruned.append(final_score)\n",
    "    \n",
    "    # Baseline Study\n",
    "    timing_data_baseline_run = []\n",
    "    study_baseline = optuna.create_study(\n",
    "        direction=\"maximize\",\n",
    "        pruner=optuna.pruners.NopPruner(),\n",
    "        sampler=optuna.samplers.TPESampler(seed=seed),\n",
    "        study_name=f\"blood_transfusion_rf_hpo_baseline_run_{run}\",\n",
    "        storage=f\"sqlite:///blood_transfusion_rf_hpo_baseline_run_{run}.db\",\n",
    "        load_if_exists=True\n",
    "    )\n",
    "    objective_baseline_with_args = functools.partial(\n",
    "        objective_baseline,\n",
    "        X_train_raw=X_train_split,\n",
    "        y_train_encoded=y_train_split,\n",
    "        X_val_raw=X_val_split,\n",
    "        y_val_encoded=y_val_split,\n",
    "        task_type=TASK_TYPE,\n",
    "        preprocessor=data_preprocessor,\n",
    "        max_n_estimators_upper_bound=250,\n",
    "        debug_mode=DEBUG_MODE,\n",
    "        timing_data=timing_data_baseline_run\n",
    "    )\n",
    "    start_time = time.time()\n",
    "    study_baseline.optimize(objective_baseline_with_args, n_trials=N_TRIALS, show_progress_bar=True)\n",
    "    total_time_baseline = time.time() - start_time\n",
    "    model, final_score, _ = evaluate_final_model(\n",
    "        study_baseline.best_trial.params, X_train_full, y_train_full, X_test_full, y_test_full,\n",
    "        task_type=TASK_TYPE, preprocessor=data_preprocessor\n",
    "    )\n",
    "    timing_data_baseline.append({\n",
    "        'run': run,\n",
    "        'total_time': total_time_baseline,\n",
    "        'pruned_trials': 0,\n",
    "        'complete_trials': N_TRIALS\n",
    "    })\n",
    "    results_baseline.append(final_score)\n",
    "\n",
    "# --- 8. Analyze Results ---\n",
    "mean_pruned, margin_pruned, ci_pruned = calculate_confidence_interval(results_pruned)\n",
    "mean_baseline, margin_baseline, ci_baseline = calculate_confidence_interval(results_baseline)\n",
    "mean_time_pruned = np.mean([run['total_time'] for run in timing_data_pruned])\n",
    "mean_time_baseline = np.mean([run['total_time'] for run in timing_data_baseline])\n",
    "speedup_factor = mean_time_baseline / mean_time_pruned\n",
    "mean_pruned_trials = np.mean([run['pruned_trials'] for run in timing_data_pruned])\n",
    "mean_complete_trials = np.mean([run['complete_trials'] for run in timing_data_pruned])\n",
    "\n",
    "print(\"\\n=== Results Summary ===\")\n",
    "print(f\"Pruned Runs (AUC): Mean: {mean_pruned:.4f}, 95% CI: [{ci_pruned[0]:.4f}, {ci_pruned[1]:.4f}]\")\n",
    "print(f\"Baseline Runs (AUC): Mean: {mean_baseline:.4f}, 95% CI: [{ci_baseline[0]:.4f}, {ci_baseline[1]:.4f}]\")\n",
    "print(f\"Mean Total Time (Pruned): {mean_time_pruned:.2f} seconds\")\n",
    "print(f\"Mean Total Time (Baseline): {mean_time_baseline:.2f} seconds\")\n",
    "print(f\"Speedup Factor: {speedup_factor:.2f}x\")\n",
    "print(f\"Pruning Rate: {(mean_pruned_trials / N_TRIALS * 100):.1f}%\")\n",
    "\n",
    "# Save results\n",
    "results_summary = {\n",
    "    'pruned': {'auc_scores': results_pruned, 'mean_auc': mean_pruned, 'ci_95': ci_pruned},\n",
    "    'baseline': {'auc_scores': results_baseline, 'mean_auc': mean_baseline, 'ci_95': ci_baseline},\n",
    "    'speedup_factor': speedup_factor,\n",
    "    'pruning_rate': mean_pruned_trials / N_TRIALS\n",
    "}\n",
    "with open('blood_transfusion_results.json', 'w') as f:\n",
    "    json.dump(results_summary, f, indent=2)\n"
   ]
  },
  {
   "cell_type": "code",
   "execution_count": null,
   "id": "3ea5a828",
   "metadata": {},
   "outputs": [],
   "source": [
    "# --- Visualize Results ---\n",
    "# Create a bar chart comparing AUC scores across runs\n",
    "print(\"\\nCreating comparison chart for AUC scores across runs...\")\n",
    "# --- 9. Chart ---\n",
    "# Placeholder data (replace with actual results_pruned and results_baseline after running)\n",
    "```chartjs\n",
    "{\n",
    "  \"type\": \"bar\",\n",
    "  \"data\": {\n",
    "    \"labels\": [\"Run 1\", \"Run 2\", \"Run 3\", \"Run 4\", \"Run 5\"],\n",
    "    \"datasets\": [\n",
    "      {\n",
    "        \"label\": \"Pruned (AUC)\",\n",
    "        \"data\": [0.0, 0.0, 0.0, 0.0, 0.0],\n",
    "        \"backgroundColor\": \"rgba(54, 162, 235, 0.6)\",\n",
    "        \"borderColor\": \"rgba(54, 162, 235, 1)\",\n",
    "        \"borderWidth\": 1\n",
    "      },\n",
    "      {\n",
    "        \"label\": \"Baseline (AUC)\",\n",
    "        \"data\": [0.0, 0.0, 0.0, 0.0, 0.0],\n",
    "        \"backgroundColor\": \"rgba(255, 99, 132, 0.6)\",\n",
    "        \"borderColor\": \"rgba(255, 99, 132, 1)\",\n",
    "        \"borderWidth\": 1\n",
    "      }\n",
    "    ]\n",
    "  },\n",
    "  \"options\": {\n",
    "    \"scales\": {\n",
    "      \"y\": {\"beginAtZero\": false, \"title\": {\"display\": true, \"text\": \"AUC Score\"}},\n",
    "      \"x\": {\"title\": {\"display\": true, \"text\": \"Run\"}}\n",
    "    },\n",
    "    \"plugins\": {\n",
    "      \"legend\": {\"display\": true},\n",
    "      \"title\": {\"display\": true, \"text\": \"AUC Scores: Pruned vs Baseline\"}\n",
    "    }\n",
    "  }\n",
    "}"
   ]
  },
  {
   "cell_type": "code",
   "execution_count": 3,
   "id": "56f41f67",
   "metadata": {},
   "outputs": [
    {
     "data": {
      "application/vnd.plotly.v1+json": {
       "config": {
        "plotlyServerURL": "https://plot.ly"
       },
       "data": [
        {
         "mode": "markers",
         "name": "Objective Value",
         "type": "scatter",
         "x": [
          1,
          6,
          8,
          15,
          17,
          26,
          45,
          46,
          48,
          52,
          53,
          56,
          59,
          62,
          64,
          65,
          67,
          68,
          69,
          72,
          73,
          74,
          75,
          77,
          81,
          82,
          83,
          84,
          85,
          86,
          87,
          88,
          90,
          91,
          92,
          93,
          94,
          96,
          98,
          99
         ],
         "y": [
          0.7905701754385964,
          0.7938596491228068,
          0.797027290448343,
          0.7860623781676414,
          0.7928849902534112,
          0.7807017543859648,
          0.790204678362573,
          0.7897173489278753,
          0.7887426900584794,
          0.7897173489278753,
          0.7902046783625731,
          0.7877680311890839,
          0.7958089668615984,
          0.7926413255360623,
          0.7923976608187134,
          0.7928849902534112,
          0.7941033138401559,
          0.7921539961013644,
          0.7923976608187134,
          0.7926413255360623,
          0.7923976608187133,
          0.7938596491228069,
          0.7945906432748538,
          0.7938596491228069,
          0.7945906432748537,
          0.7950779727095516,
          0.7945906432748536,
          0.7945906432748536,
          0.7948343079922026,
          0.7945906432748537,
          0.7943469785575048,
          0.794103313840156,
          0.7921539961013645,
          0.7931286549707601,
          0.7911793372319688,
          0.7945906432748536,
          0.7941033138401559,
          0.7945906432748536,
          0.7933723196881092,
          0.7911793372319688
         ]
        },
        {
         "mode": "lines",
         "name": "Best Value",
         "type": "scatter",
         "x": [
          0,
          1,
          2,
          3,
          4,
          5,
          6,
          7,
          8,
          9,
          10,
          11,
          12,
          13,
          14,
          15,
          16,
          17,
          18,
          19,
          20,
          21,
          22,
          23,
          24,
          25,
          26,
          27,
          28,
          29,
          30,
          31,
          32,
          33,
          34,
          35,
          36,
          37,
          38,
          39,
          40,
          41,
          42,
          43,
          44,
          45,
          46,
          47,
          48,
          49,
          50,
          51,
          52,
          53,
          54,
          55,
          56,
          57,
          58,
          59,
          60,
          61,
          62,
          63,
          64,
          65,
          66,
          67,
          68,
          69,
          70,
          71,
          72,
          73,
          74,
          75,
          76,
          77,
          78,
          79,
          80,
          81,
          82,
          83,
          84,
          85,
          86,
          87,
          88,
          89,
          90,
          91,
          92,
          93,
          94,
          95,
          96,
          97,
          98,
          99,
          100
         ],
         "y": [
          null,
          0.7905701754385964,
          0.7905701754385964,
          0.7905701754385964,
          0.7905701754385964,
          0.7905701754385964,
          0.7938596491228068,
          0.7938596491228068,
          0.797027290448343,
          0.797027290448343,
          0.797027290448343,
          0.797027290448343,
          0.797027290448343,
          0.797027290448343,
          0.797027290448343,
          0.797027290448343,
          0.797027290448343,
          0.797027290448343,
          0.797027290448343,
          0.797027290448343,
          0.797027290448343,
          0.797027290448343,
          0.797027290448343,
          0.797027290448343,
          0.797027290448343,
          0.797027290448343,
          0.797027290448343,
          0.797027290448343,
          0.797027290448343,
          0.797027290448343,
          0.797027290448343,
          0.797027290448343,
          0.797027290448343,
          0.797027290448343,
          0.797027290448343,
          0.797027290448343,
          0.797027290448343,
          0.797027290448343,
          0.797027290448343,
          0.797027290448343,
          0.797027290448343,
          0.797027290448343,
          0.797027290448343,
          0.797027290448343,
          0.797027290448343,
          0.797027290448343,
          0.797027290448343,
          0.797027290448343,
          0.797027290448343,
          0.797027290448343,
          0.797027290448343,
          0.797027290448343,
          0.797027290448343,
          0.797027290448343,
          0.797027290448343,
          0.797027290448343,
          0.797027290448343,
          0.797027290448343,
          0.797027290448343,
          0.797027290448343,
          0.797027290448343,
          0.797027290448343,
          0.797027290448343,
          0.797027290448343,
          0.797027290448343,
          0.797027290448343,
          0.797027290448343,
          0.797027290448343,
          0.797027290448343,
          0.797027290448343,
          0.797027290448343,
          0.797027290448343,
          0.797027290448343,
          0.797027290448343,
          0.797027290448343,
          0.797027290448343,
          0.797027290448343,
          0.797027290448343,
          0.797027290448343,
          0.797027290448343,
          0.797027290448343,
          0.797027290448343,
          0.797027290448343,
          0.797027290448343,
          0.797027290448343,
          0.797027290448343,
          0.797027290448343,
          0.797027290448343,
          0.797027290448343,
          0.797027290448343,
          0.797027290448343,
          0.797027290448343,
          0.797027290448343,
          0.797027290448343,
          0.797027290448343,
          0.797027290448343,
          0.797027290448343,
          0.797027290448343,
          0.797027290448343,
          0.797027290448343,
          0.797027290448343
         ]
        },
        {
         "marker": {
          "color": "#cccccc"
         },
         "mode": "markers",
         "name": "Infeasible Trial",
         "showlegend": false,
         "type": "scatter",
         "x": [],
         "y": []
        }
       ],
       "layout": {
        "template": {
         "data": {
          "bar": [
           {
            "error_x": {
             "color": "#2a3f5f"
            },
            "error_y": {
             "color": "#2a3f5f"
            },
            "marker": {
             "line": {
              "color": "#E5ECF6",
              "width": 0.5
             },
             "pattern": {
              "fillmode": "overlay",
              "size": 10,
              "solidity": 0.2
             }
            },
            "type": "bar"
           }
          ],
          "barpolar": [
           {
            "marker": {
             "line": {
              "color": "#E5ECF6",
              "width": 0.5
             },
             "pattern": {
              "fillmode": "overlay",
              "size": 10,
              "solidity": 0.2
             }
            },
            "type": "barpolar"
           }
          ],
          "carpet": [
           {
            "aaxis": {
             "endlinecolor": "#2a3f5f",
             "gridcolor": "white",
             "linecolor": "white",
             "minorgridcolor": "white",
             "startlinecolor": "#2a3f5f"
            },
            "baxis": {
             "endlinecolor": "#2a3f5f",
             "gridcolor": "white",
             "linecolor": "white",
             "minorgridcolor": "white",
             "startlinecolor": "#2a3f5f"
            },
            "type": "carpet"
           }
          ],
          "choropleth": [
           {
            "colorbar": {
             "outlinewidth": 0,
             "ticks": ""
            },
            "type": "choropleth"
           }
          ],
          "contour": [
           {
            "colorbar": {
             "outlinewidth": 0,
             "ticks": ""
            },
            "colorscale": [
             [
              0,
              "#0d0887"
             ],
             [
              0.1111111111111111,
              "#46039f"
             ],
             [
              0.2222222222222222,
              "#7201a8"
             ],
             [
              0.3333333333333333,
              "#9c179e"
             ],
             [
              0.4444444444444444,
              "#bd3786"
             ],
             [
              0.5555555555555556,
              "#d8576b"
             ],
             [
              0.6666666666666666,
              "#ed7953"
             ],
             [
              0.7777777777777778,
              "#fb9f3a"
             ],
             [
              0.8888888888888888,
              "#fdca26"
             ],
             [
              1,
              "#f0f921"
             ]
            ],
            "type": "contour"
           }
          ],
          "contourcarpet": [
           {
            "colorbar": {
             "outlinewidth": 0,
             "ticks": ""
            },
            "type": "contourcarpet"
           }
          ],
          "heatmap": [
           {
            "colorbar": {
             "outlinewidth": 0,
             "ticks": ""
            },
            "colorscale": [
             [
              0,
              "#0d0887"
             ],
             [
              0.1111111111111111,
              "#46039f"
             ],
             [
              0.2222222222222222,
              "#7201a8"
             ],
             [
              0.3333333333333333,
              "#9c179e"
             ],
             [
              0.4444444444444444,
              "#bd3786"
             ],
             [
              0.5555555555555556,
              "#d8576b"
             ],
             [
              0.6666666666666666,
              "#ed7953"
             ],
             [
              0.7777777777777778,
              "#fb9f3a"
             ],
             [
              0.8888888888888888,
              "#fdca26"
             ],
             [
              1,
              "#f0f921"
             ]
            ],
            "type": "heatmap"
           }
          ],
          "histogram": [
           {
            "marker": {
             "pattern": {
              "fillmode": "overlay",
              "size": 10,
              "solidity": 0.2
             }
            },
            "type": "histogram"
           }
          ],
          "histogram2d": [
           {
            "colorbar": {
             "outlinewidth": 0,
             "ticks": ""
            },
            "colorscale": [
             [
              0,
              "#0d0887"
             ],
             [
              0.1111111111111111,
              "#46039f"
             ],
             [
              0.2222222222222222,
              "#7201a8"
             ],
             [
              0.3333333333333333,
              "#9c179e"
             ],
             [
              0.4444444444444444,
              "#bd3786"
             ],
             [
              0.5555555555555556,
              "#d8576b"
             ],
             [
              0.6666666666666666,
              "#ed7953"
             ],
             [
              0.7777777777777778,
              "#fb9f3a"
             ],
             [
              0.8888888888888888,
              "#fdca26"
             ],
             [
              1,
              "#f0f921"
             ]
            ],
            "type": "histogram2d"
           }
          ],
          "histogram2dcontour": [
           {
            "colorbar": {
             "outlinewidth": 0,
             "ticks": ""
            },
            "colorscale": [
             [
              0,
              "#0d0887"
             ],
             [
              0.1111111111111111,
              "#46039f"
             ],
             [
              0.2222222222222222,
              "#7201a8"
             ],
             [
              0.3333333333333333,
              "#9c179e"
             ],
             [
              0.4444444444444444,
              "#bd3786"
             ],
             [
              0.5555555555555556,
              "#d8576b"
             ],
             [
              0.6666666666666666,
              "#ed7953"
             ],
             [
              0.7777777777777778,
              "#fb9f3a"
             ],
             [
              0.8888888888888888,
              "#fdca26"
             ],
             [
              1,
              "#f0f921"
             ]
            ],
            "type": "histogram2dcontour"
           }
          ],
          "mesh3d": [
           {
            "colorbar": {
             "outlinewidth": 0,
             "ticks": ""
            },
            "type": "mesh3d"
           }
          ],
          "parcoords": [
           {
            "line": {
             "colorbar": {
              "outlinewidth": 0,
              "ticks": ""
             }
            },
            "type": "parcoords"
           }
          ],
          "pie": [
           {
            "automargin": true,
            "type": "pie"
           }
          ],
          "scatter": [
           {
            "fillpattern": {
             "fillmode": "overlay",
             "size": 10,
             "solidity": 0.2
            },
            "type": "scatter"
           }
          ],
          "scatter3d": [
           {
            "line": {
             "colorbar": {
              "outlinewidth": 0,
              "ticks": ""
             }
            },
            "marker": {
             "colorbar": {
              "outlinewidth": 0,
              "ticks": ""
             }
            },
            "type": "scatter3d"
           }
          ],
          "scattercarpet": [
           {
            "marker": {
             "colorbar": {
              "outlinewidth": 0,
              "ticks": ""
             }
            },
            "type": "scattercarpet"
           }
          ],
          "scattergeo": [
           {
            "marker": {
             "colorbar": {
              "outlinewidth": 0,
              "ticks": ""
             }
            },
            "type": "scattergeo"
           }
          ],
          "scattergl": [
           {
            "marker": {
             "colorbar": {
              "outlinewidth": 0,
              "ticks": ""
             }
            },
            "type": "scattergl"
           }
          ],
          "scattermap": [
           {
            "marker": {
             "colorbar": {
              "outlinewidth": 0,
              "ticks": ""
             }
            },
            "type": "scattermap"
           }
          ],
          "scattermapbox": [
           {
            "marker": {
             "colorbar": {
              "outlinewidth": 0,
              "ticks": ""
             }
            },
            "type": "scattermapbox"
           }
          ],
          "scatterpolar": [
           {
            "marker": {
             "colorbar": {
              "outlinewidth": 0,
              "ticks": ""
             }
            },
            "type": "scatterpolar"
           }
          ],
          "scatterpolargl": [
           {
            "marker": {
             "colorbar": {
              "outlinewidth": 0,
              "ticks": ""
             }
            },
            "type": "scatterpolargl"
           }
          ],
          "scatterternary": [
           {
            "marker": {
             "colorbar": {
              "outlinewidth": 0,
              "ticks": ""
             }
            },
            "type": "scatterternary"
           }
          ],
          "surface": [
           {
            "colorbar": {
             "outlinewidth": 0,
             "ticks": ""
            },
            "colorscale": [
             [
              0,
              "#0d0887"
             ],
             [
              0.1111111111111111,
              "#46039f"
             ],
             [
              0.2222222222222222,
              "#7201a8"
             ],
             [
              0.3333333333333333,
              "#9c179e"
             ],
             [
              0.4444444444444444,
              "#bd3786"
             ],
             [
              0.5555555555555556,
              "#d8576b"
             ],
             [
              0.6666666666666666,
              "#ed7953"
             ],
             [
              0.7777777777777778,
              "#fb9f3a"
             ],
             [
              0.8888888888888888,
              "#fdca26"
             ],
             [
              1,
              "#f0f921"
             ]
            ],
            "type": "surface"
           }
          ],
          "table": [
           {
            "cells": {
             "fill": {
              "color": "#EBF0F8"
             },
             "line": {
              "color": "white"
             }
            },
            "header": {
             "fill": {
              "color": "#C8D4E3"
             },
             "line": {
              "color": "white"
             }
            },
            "type": "table"
           }
          ]
         },
         "layout": {
          "annotationdefaults": {
           "arrowcolor": "#2a3f5f",
           "arrowhead": 0,
           "arrowwidth": 1
          },
          "autotypenumbers": "strict",
          "coloraxis": {
           "colorbar": {
            "outlinewidth": 0,
            "ticks": ""
           }
          },
          "colorscale": {
           "diverging": [
            [
             0,
             "#8e0152"
            ],
            [
             0.1,
             "#c51b7d"
            ],
            [
             0.2,
             "#de77ae"
            ],
            [
             0.3,
             "#f1b6da"
            ],
            [
             0.4,
             "#fde0ef"
            ],
            [
             0.5,
             "#f7f7f7"
            ],
            [
             0.6,
             "#e6f5d0"
            ],
            [
             0.7,
             "#b8e186"
            ],
            [
             0.8,
             "#7fbc41"
            ],
            [
             0.9,
             "#4d9221"
            ],
            [
             1,
             "#276419"
            ]
           ],
           "sequential": [
            [
             0,
             "#0d0887"
            ],
            [
             0.1111111111111111,
             "#46039f"
            ],
            [
             0.2222222222222222,
             "#7201a8"
            ],
            [
             0.3333333333333333,
             "#9c179e"
            ],
            [
             0.4444444444444444,
             "#bd3786"
            ],
            [
             0.5555555555555556,
             "#d8576b"
            ],
            [
             0.6666666666666666,
             "#ed7953"
            ],
            [
             0.7777777777777778,
             "#fb9f3a"
            ],
            [
             0.8888888888888888,
             "#fdca26"
            ],
            [
             1,
             "#f0f921"
            ]
           ],
           "sequentialminus": [
            [
             0,
             "#0d0887"
            ],
            [
             0.1111111111111111,
             "#46039f"
            ],
            [
             0.2222222222222222,
             "#7201a8"
            ],
            [
             0.3333333333333333,
             "#9c179e"
            ],
            [
             0.4444444444444444,
             "#bd3786"
            ],
            [
             0.5555555555555556,
             "#d8576b"
            ],
            [
             0.6666666666666666,
             "#ed7953"
            ],
            [
             0.7777777777777778,
             "#fb9f3a"
            ],
            [
             0.8888888888888888,
             "#fdca26"
            ],
            [
             1,
             "#f0f921"
            ]
           ]
          },
          "colorway": [
           "#636efa",
           "#EF553B",
           "#00cc96",
           "#ab63fa",
           "#FFA15A",
           "#19d3f3",
           "#FF6692",
           "#B6E880",
           "#FF97FF",
           "#FECB52"
          ],
          "font": {
           "color": "#2a3f5f"
          },
          "geo": {
           "bgcolor": "white",
           "lakecolor": "white",
           "landcolor": "#E5ECF6",
           "showlakes": true,
           "showland": true,
           "subunitcolor": "white"
          },
          "hoverlabel": {
           "align": "left"
          },
          "hovermode": "closest",
          "mapbox": {
           "style": "light"
          },
          "paper_bgcolor": "white",
          "plot_bgcolor": "#E5ECF6",
          "polar": {
           "angularaxis": {
            "gridcolor": "white",
            "linecolor": "white",
            "ticks": ""
           },
           "bgcolor": "#E5ECF6",
           "radialaxis": {
            "gridcolor": "white",
            "linecolor": "white",
            "ticks": ""
           }
          },
          "scene": {
           "xaxis": {
            "backgroundcolor": "#E5ECF6",
            "gridcolor": "white",
            "gridwidth": 2,
            "linecolor": "white",
            "showbackground": true,
            "ticks": "",
            "zerolinecolor": "white"
           },
           "yaxis": {
            "backgroundcolor": "#E5ECF6",
            "gridcolor": "white",
            "gridwidth": 2,
            "linecolor": "white",
            "showbackground": true,
            "ticks": "",
            "zerolinecolor": "white"
           },
           "zaxis": {
            "backgroundcolor": "#E5ECF6",
            "gridcolor": "white",
            "gridwidth": 2,
            "linecolor": "white",
            "showbackground": true,
            "ticks": "",
            "zerolinecolor": "white"
           }
          },
          "shapedefaults": {
           "line": {
            "color": "#2a3f5f"
           }
          },
          "ternary": {
           "aaxis": {
            "gridcolor": "white",
            "linecolor": "white",
            "ticks": ""
           },
           "baxis": {
            "gridcolor": "white",
            "linecolor": "white",
            "ticks": ""
           },
           "bgcolor": "#E5ECF6",
           "caxis": {
            "gridcolor": "white",
            "linecolor": "white",
            "ticks": ""
           }
          },
          "title": {
           "x": 0.05
          },
          "xaxis": {
           "automargin": true,
           "gridcolor": "white",
           "linecolor": "white",
           "ticks": "",
           "title": {
            "standoff": 15
           },
           "zerolinecolor": "white",
           "zerolinewidth": 2
          },
          "yaxis": {
           "automargin": true,
           "gridcolor": "white",
           "linecolor": "white",
           "ticks": "",
           "title": {
            "standoff": 15
           },
           "zerolinecolor": "white",
           "zerolinewidth": 2
          }
         }
        },
        "title": {
         "text": "Optimization History Plot"
        },
        "xaxis": {
         "title": {
          "text": "Trial"
         }
        },
        "yaxis": {
         "title": {
          "text": "Objective Value"
         }
        }
       }
      }
     },
     "metadata": {},
     "output_type": "display_data"
    },
    {
     "data": {
      "application/vnd.plotly.v1+json": {
       "config": {
        "plotlyServerURL": "https://plot.ly"
       },
       "data": [
        {
         "marker": {
          "maxdisplayed": 10
         },
         "mode": "lines+markers",
         "name": "Trial1",
         "type": "scatter",
         "x": [
          0,
          1,
          2,
          3,
          4,
          5
         ],
         "y": [
          0.7040133779264214,
          0.697324414715719,
          0.697324414715719,
          0.705685618729097,
          0.7107023411371237,
          0.7123745819397993
         ]
        },
        {
         "marker": {
          "maxdisplayed": 10
         },
         "mode": "lines+markers",
         "name": "Trial2",
         "type": "scatter",
         "x": [
          0,
          1,
          2
         ],
         "y": [
          0.6688963210702341,
          0.6688963210702341,
          0.7073578595317725
         ]
        },
        {
         "marker": {
          "maxdisplayed": 10
         },
         "mode": "lines+markers",
         "name": "Trial3",
         "type": "scatter",
         "x": [
          0,
          1,
          2
         ],
         "y": [
          0.7441471571906354,
          0.7675585284280937,
          0.7725752508361204
         ]
        },
        {
         "marker": {
          "maxdisplayed": 10
         },
         "mode": "lines+markers",
         "name": "Trial4",
         "type": "scatter",
         "x": [
          0,
          1,
          2
         ],
         "y": [
          0.6923076923076923,
          0.6989966555183946,
          0.6939799331103679
         ]
        },
        {
         "marker": {
          "maxdisplayed": 10
         },
         "mode": "lines+markers",
         "name": "Trial5",
         "type": "scatter",
         "x": [
          0,
          1,
          2
         ],
         "y": [
          0.68561872909699,
          0.6889632107023411,
          0.6889632107023411
         ]
        },
        {
         "marker": {
          "maxdisplayed": 10
         },
         "mode": "lines+markers",
         "name": "Trial6",
         "type": "scatter",
         "x": [
          0,
          1,
          2,
          3,
          4,
          5
         ],
         "y": [
          0.7424749163879598,
          0.7558528428093646,
          0.7759197324414716,
          0.7926421404682275,
          0.7892976588628763,
          0.7909698996655519
         ]
        },
        {
         "marker": {
          "maxdisplayed": 10
         },
         "mode": "lines+markers",
         "name": "Trial7",
         "type": "scatter",
         "x": [
          0,
          1,
          2
         ],
         "y": [
          null,
          0.7441471571906354,
          0.745819397993311
         ]
        },
        {
         "marker": {
          "maxdisplayed": 10
         },
         "mode": "lines+markers",
         "name": "Trial8",
         "type": "scatter",
         "x": [
          0,
          1,
          2,
          3,
          4,
          5
         ],
         "y": [
          0.7441471571906354,
          0.745819397993311,
          0.7709030100334449,
          0.7775919732441472,
          0.7809364548494984,
          0.782608695652174
         ]
        },
        {
         "marker": {
          "maxdisplayed": 10
         },
         "mode": "lines+markers",
         "name": "Trial9",
         "type": "scatter",
         "x": [
          0,
          1,
          2
         ],
         "y": [
          0.7006688963210702,
          0.6906354515050167,
          0.7090301003344481
         ]
        },
        {
         "marker": {
          "maxdisplayed": 10
         },
         "mode": "lines+markers",
         "name": "Trial10",
         "type": "scatter",
         "x": [
          0,
          1,
          2
         ],
         "y": [
          null,
          0.7491638795986622,
          0.7474916387959866
         ]
        },
        {
         "marker": {
          "maxdisplayed": 10
         },
         "mode": "lines+markers",
         "name": "Trial11",
         "type": "scatter",
         "x": [
          0,
          1,
          2
         ],
         "y": [
          0.7608695652173914,
          0.7792642140468228,
          0.782608695652174
         ]
        },
        {
         "marker": {
          "maxdisplayed": 10
         },
         "mode": "lines+markers",
         "name": "Trial12",
         "type": "scatter",
         "x": [
          0,
          1,
          2,
          3,
          4,
          5
         ],
         "y": [
          null,
          0.7474916387959866,
          0.7725752508361204,
          0.7809364548494984,
          0.794314381270903,
          0.7859531772575251
         ]
        },
        {
         "marker": {
          "maxdisplayed": 10
         },
         "mode": "lines+markers",
         "name": "Trial13",
         "type": "scatter",
         "x": [
          0,
          1,
          2
         ],
         "y": [
          0.754180602006689,
          0.7591973244147158,
          0.7692307692307693
         ]
        },
        {
         "marker": {
          "maxdisplayed": 10
         },
         "mode": "lines+markers",
         "name": "Trial14",
         "type": "scatter",
         "x": [
          0,
          1,
          2
         ],
         "y": [
          null,
          0.754180602006689,
          0.7575250836120402
         ]
        },
        {
         "marker": {
          "maxdisplayed": 10
         },
         "mode": "lines+markers",
         "name": "Trial15",
         "type": "scatter",
         "x": [
          0,
          1,
          2,
          3,
          4,
          5
         ],
         "y": [
          0.7525083612040134,
          0.7575250836120402,
          0.7725752508361204,
          0.7876254180602007,
          0.7892976588628763,
          0.7859531772575251
         ]
        },
        {
         "marker": {
          "maxdisplayed": 10
         },
         "mode": "lines+markers",
         "name": "Trial16",
         "type": "scatter",
         "x": [
          0,
          1,
          2
         ],
         "y": [
          0.7575250836120402,
          0.7575250836120402,
          0.7591973244147158
         ]
        },
        {
         "marker": {
          "maxdisplayed": 10
         },
         "mode": "lines+markers",
         "name": "Trial17",
         "type": "scatter",
         "x": [
          0,
          1,
          2,
          3,
          4,
          5
         ],
         "y": [
          0.7591973244147158,
          0.7625418060200669,
          0.7725752508361204,
          0.782608695652174,
          0.7859531772575251,
          0.7842809364548495
         ]
        },
        {
         "marker": {
          "maxdisplayed": 10
         },
         "mode": "lines+markers",
         "name": "Trial18",
         "type": "scatter",
         "x": [
          0,
          1,
          2,
          3,
          4,
          5
         ],
         "y": [
          0.7491638795986622,
          0.7642140468227425,
          0.7892976588628763,
          0.7909698996655519,
          0.7859531772575251,
          0.7876254180602007
         ]
        },
        {
         "marker": {
          "maxdisplayed": 10
         },
         "mode": "lines+markers",
         "name": "Trial19",
         "type": "scatter",
         "x": [
          0,
          1,
          2
         ],
         "y": [
          0.7591973244147158,
          0.7658862876254181,
          0.7725752508361204
         ]
        },
        {
         "marker": {
          "maxdisplayed": 10
         },
         "mode": "lines+markers",
         "name": "Trial20",
         "type": "scatter",
         "x": [
          0,
          1,
          2,
          3
         ],
         "y": [
          null,
          0.7525083612040134,
          0.7709030100334449,
          0.7591973244147158
         ]
        },
        {
         "marker": {
          "maxdisplayed": 10
         },
         "mode": "lines+markers",
         "name": "Trial21",
         "type": "scatter",
         "x": [
          0,
          1,
          2
         ],
         "y": [
          null,
          0.7575250836120402,
          0.7625418060200669
         ]
        },
        {
         "marker": {
          "maxdisplayed": 10
         },
         "mode": "lines+markers",
         "name": "Trial22",
         "type": "scatter",
         "x": [
          0,
          1,
          2,
          3,
          4,
          5
         ],
         "y": [
          0.7591973244147158,
          0.7625418060200669,
          0.774247491638796,
          0.782608695652174,
          0.7859531772575251,
          0.7809364548494984
         ]
        },
        {
         "marker": {
          "maxdisplayed": 10
         },
         "mode": "lines+markers",
         "name": "Trial23",
         "type": "scatter",
         "x": [
          0,
          1,
          2
         ],
         "y": [
          0.754180602006689,
          0.7725752508361204,
          0.7775919732441472
         ]
        },
        {
         "marker": {
          "maxdisplayed": 10
         },
         "mode": "lines+markers",
         "name": "Trial24",
         "type": "scatter",
         "x": [
          0,
          1,
          2,
          3
         ],
         "y": [
          0.7591973244147158,
          0.7658862876254181,
          0.7775919732441472,
          0.7759197324414716
         ]
        },
        {
         "marker": {
          "maxdisplayed": 10
         },
         "mode": "lines+markers",
         "name": "Trial25",
         "type": "scatter",
         "x": [
          0,
          1,
          2,
          3,
          4
         ],
         "y": [
          0.7558528428093646,
          0.7709030100334449,
          0.7842809364548495,
          0.7859531772575251,
          0.782608695652174
         ]
        },
        {
         "marker": {
          "maxdisplayed": 10
         },
         "mode": "lines+markers",
         "name": "Trial26",
         "type": "scatter",
         "x": [
          0,
          1,
          2,
          3,
          4,
          5
         ],
         "y": [
          0.7474916387959866,
          0.7658862876254181,
          0.7792642140468228,
          0.7892976588628763,
          0.7926421404682275,
          0.7876254180602007
         ]
        },
        {
         "marker": {
          "maxdisplayed": 10
         },
         "mode": "lines+markers",
         "name": "Trial27",
         "type": "scatter",
         "x": [
          0,
          1,
          2
         ],
         "y": [
          0.6555183946488294,
          0.6722408026755853,
          0.7073578595317725
         ]
        },
        {
         "marker": {
          "maxdisplayed": 10
         },
         "mode": "lines+markers",
         "name": "Trial28",
         "type": "scatter",
         "x": [
          0,
          1,
          2
         ],
         "y": [
          0.7491638795986622,
          0.7591973244147158,
          0.7642140468227425
         ]
        },
        {
         "marker": {
          "maxdisplayed": 10
         },
         "mode": "lines+markers",
         "name": "Trial29",
         "type": "scatter",
         "x": [
          0,
          1,
          2,
          3
         ],
         "y": [
          0.7474916387959866,
          0.774247491638796,
          0.7859531772575251,
          0.7859531772575251
         ]
        },
        {
         "marker": {
          "maxdisplayed": 10
         },
         "mode": "lines+markers",
         "name": "Trial30",
         "type": "scatter",
         "x": [
          0,
          1,
          2
         ],
         "y": [
          0.7140468227424749,
          0.7090301003344481,
          0.6956521739130435
         ]
        },
        {
         "marker": {
          "maxdisplayed": 10
         },
         "mode": "lines+markers",
         "name": "Trial31",
         "type": "scatter",
         "x": [
          0,
          1,
          2
         ],
         "y": [
          null,
          0.754180602006689,
          0.7608695652173914
         ]
        },
        {
         "marker": {
          "maxdisplayed": 10
         },
         "mode": "lines+markers",
         "name": "Trial32",
         "type": "scatter",
         "x": [
          0,
          1,
          2
         ],
         "y": [
          0.7040133779264214,
          0.697324414715719,
          0.697324414715719
         ]
        },
        {
         "marker": {
          "maxdisplayed": 10
         },
         "mode": "lines+markers",
         "name": "Trial33",
         "type": "scatter",
         "x": [
          0,
          1,
          2
         ],
         "y": [
          0.6872909698996655,
          0.677257525083612,
          0.6655518394648829
         ]
        },
        {
         "marker": {
          "maxdisplayed": 10
         },
         "mode": "lines+markers",
         "name": "Trial34",
         "type": "scatter",
         "x": [
          0,
          1,
          2
         ],
         "y": [
          0.6906354515050167,
          0.6939799331103679,
          0.7157190635451505
         ]
        },
        {
         "marker": {
          "maxdisplayed": 10
         },
         "mode": "lines+markers",
         "name": "Trial35",
         "type": "scatter",
         "x": [
          0,
          1,
          2
         ],
         "y": [
          0.705685618729097,
          0.6806020066889632,
          0.6605351170568562
         ]
        },
        {
         "marker": {
          "maxdisplayed": 10
         },
         "mode": "lines+markers",
         "name": "Trial36",
         "type": "scatter",
         "x": [
          0,
          1,
          2
         ],
         "y": [
          0.7006688963210702,
          0.6956521739130435,
          0.6588628762541806
         ]
        },
        {
         "marker": {
          "maxdisplayed": 10
         },
         "mode": "lines+markers",
         "name": "Trial37",
         "type": "scatter",
         "x": [
          0,
          1,
          2
         ],
         "y": [
          0.6705685618729097,
          0.6722408026755853,
          0.6989966555183946
         ]
        },
        {
         "marker": {
          "maxdisplayed": 10
         },
         "mode": "lines+markers",
         "name": "Trial38",
         "type": "scatter",
         "x": [
          0,
          1,
          2
         ],
         "y": [
          0.6839464882943144,
          0.6722408026755853,
          0.6688963210702341
         ]
        },
        {
         "marker": {
          "maxdisplayed": 10
         },
         "mode": "lines+markers",
         "name": "Trial39",
         "type": "scatter",
         "x": [
          0,
          1,
          2
         ],
         "y": [
          0.7324414715719063,
          0.754180602006689,
          0.7591973244147158
         ]
        },
        {
         "marker": {
          "maxdisplayed": 10
         },
         "mode": "lines+markers",
         "name": "Trial40",
         "type": "scatter",
         "x": [
          0,
          1,
          2
         ],
         "y": [
          0.705685618729097,
          0.6789297658862876,
          0.6939799331103679
         ]
        },
        {
         "marker": {
          "maxdisplayed": 10
         },
         "mode": "lines+markers",
         "name": "Trial41",
         "type": "scatter",
         "x": [
          0,
          1,
          2
         ],
         "y": [
          null,
          0.7575250836120402,
          0.7625418060200669
         ]
        },
        {
         "marker": {
          "maxdisplayed": 10
         },
         "mode": "lines+markers",
         "name": "Trial42",
         "type": "scatter",
         "x": [
          0,
          1,
          2
         ],
         "y": [
          0.7491638795986622,
          0.7675585284280937,
          0.7759197324414716
         ]
        },
        {
         "marker": {
          "maxdisplayed": 10
         },
         "mode": "lines+markers",
         "name": "Trial43",
         "type": "scatter",
         "x": [
          0,
          1,
          2
         ],
         "y": [
          0.7525083612040134,
          0.7575250836120402,
          0.7658862876254181
         ]
        },
        {
         "marker": {
          "maxdisplayed": 10
         },
         "mode": "lines+markers",
         "name": "Trial44",
         "type": "scatter",
         "x": [
          0,
          1,
          2,
          3
         ],
         "y": [
          0.7591973244147158,
          0.7608695652173914,
          0.7809364548494984,
          0.782608695652174
         ]
        },
        {
         "marker": {
          "maxdisplayed": 10
         },
         "mode": "lines+markers",
         "name": "Trial45",
         "type": "scatter",
         "x": [
          0,
          1,
          2,
          3,
          4,
          5
         ],
         "y": [
          0.7525083612040134,
          0.7625418060200669,
          0.774247491638796,
          0.7809364548494984,
          0.7876254180602007,
          0.7876254180602007
         ]
        },
        {
         "marker": {
          "maxdisplayed": 10
         },
         "mode": "lines+markers",
         "name": "Trial46",
         "type": "scatter",
         "x": [
          0,
          1,
          2,
          3,
          4,
          5
         ],
         "y": [
          0.7525083612040134,
          0.7625418060200669,
          0.774247491638796,
          0.7809364548494984,
          0.7876254180602007,
          0.7876254180602007
         ]
        },
        {
         "marker": {
          "maxdisplayed": 10
         },
         "mode": "lines+markers",
         "name": "Trial47",
         "type": "scatter",
         "x": [
          0,
          1,
          2
         ],
         "y": [
          0.7441471571906354,
          0.774247491638796,
          0.7809364548494984
         ]
        },
        {
         "marker": {
          "maxdisplayed": 10
         },
         "mode": "lines+markers",
         "name": "Trial48",
         "type": "scatter",
         "x": [
          0,
          1,
          2,
          3,
          4,
          5
         ],
         "y": [
          0.7525083612040134,
          0.7625418060200669,
          0.774247491638796,
          0.7842809364548495,
          0.7876254180602007,
          0.7876254180602007
         ]
        },
        {
         "marker": {
          "maxdisplayed": 10
         },
         "mode": "lines+markers",
         "name": "Trial49",
         "type": "scatter",
         "x": [
          0,
          1,
          2
         ],
         "y": [
          0.754180602006689,
          0.7675585284280937,
          0.7759197324414716
         ]
        },
        {
         "marker": {
          "maxdisplayed": 10
         },
         "mode": "lines+markers",
         "name": "Trial50",
         "type": "scatter",
         "x": [
          0,
          1,
          2,
          3
         ],
         "y": [
          0.754180602006689,
          0.7625418060200669,
          0.774247491638796,
          0.7759197324414716
         ]
        },
        {
         "marker": {
          "maxdisplayed": 10
         },
         "mode": "lines+markers",
         "name": "Trial51",
         "type": "scatter",
         "x": [
          0,
          1,
          2
         ],
         "y": [
          0.7341137123745819,
          0.774247491638796,
          0.7809364548494984
         ]
        },
        {
         "marker": {
          "maxdisplayed": 10
         },
         "mode": "lines+markers",
         "name": "Trial52",
         "type": "scatter",
         "x": [
          0,
          1,
          2,
          3,
          4,
          5
         ],
         "y": [
          0.7525083612040134,
          0.7625418060200669,
          0.774247491638796,
          0.7809364548494984,
          0.7876254180602007,
          0.7876254180602007
         ]
        },
        {
         "marker": {
          "maxdisplayed": 10
         },
         "mode": "lines+markers",
         "name": "Trial53",
         "type": "scatter",
         "x": [
          0,
          1,
          2,
          3,
          4,
          5
         ],
         "y": [
          0.754180602006689,
          0.7625418060200669,
          0.774247491638796,
          0.782608695652174,
          0.7909698996655519,
          0.7876254180602007
         ]
        },
        {
         "marker": {
          "maxdisplayed": 10
         },
         "mode": "lines+markers",
         "name": "Trial54",
         "type": "scatter",
         "x": [
          0,
          1,
          2,
          3,
          4,
          5
         ],
         "y": [
          0.7558528428093646,
          0.7692307692307693,
          0.7792642140468228,
          0.7892976588628763,
          0.7892976588628763,
          0.782608695652174
         ]
        },
        {
         "marker": {
          "maxdisplayed": 10
         },
         "mode": "lines+markers",
         "name": "Trial55",
         "type": "scatter",
         "x": [
          0,
          1,
          2,
          3,
          4
         ],
         "y": [
          0.7424749163879598,
          0.7558528428093646,
          0.7809364548494984,
          0.7775919732441472,
          0.7809364548494984
         ]
        },
        {
         "marker": {
          "maxdisplayed": 10
         },
         "mode": "lines+markers",
         "name": "Trial56",
         "type": "scatter",
         "x": [
          0,
          1,
          2,
          3,
          4,
          5
         ],
         "y": [
          0.7591973244147158,
          0.745819397993311,
          0.7775919732441472,
          0.7792642140468228,
          0.7859531772575251,
          0.7842809364548495
         ]
        },
        {
         "marker": {
          "maxdisplayed": 10
         },
         "mode": "lines+markers",
         "name": "Trial57",
         "type": "scatter",
         "x": [
          0,
          1,
          2
         ],
         "y": [
          0.7508361204013378,
          0.7575250836120402,
          0.7625418060200669
         ]
        },
        {
         "marker": {
          "maxdisplayed": 10
         },
         "mode": "lines+markers",
         "name": "Trial58",
         "type": "scatter",
         "x": [
          0,
          1,
          2,
          3,
          4,
          5
         ],
         "y": [
          0.7441471571906354,
          0.7525083612040134,
          0.7725752508361204,
          0.7792642140468228,
          0.7842809364548495,
          0.7792642140468228
         ]
        },
        {
         "marker": {
          "maxdisplayed": 10
         },
         "mode": "lines+markers",
         "name": "Trial59",
         "type": "scatter",
         "x": [
          0,
          1,
          2,
          3,
          4,
          5
         ],
         "y": [
          0.7408026755852842,
          0.7491638795986622,
          0.7709030100334449,
          0.782608695652174,
          0.7892976588628763,
          0.7876254180602007
         ]
        },
        {
         "marker": {
          "maxdisplayed": 10
         },
         "mode": "lines+markers",
         "name": "Trial60",
         "type": "scatter",
         "x": [
          0,
          1,
          2
         ],
         "y": [
          null,
          0.7090301003344481,
          0.6889632107023411
         ]
        },
        {
         "marker": {
          "maxdisplayed": 10
         },
         "mode": "lines+markers",
         "name": "Trial61",
         "type": "scatter",
         "x": [
          0,
          1,
          2
         ],
         "y": [
          null,
          0.7558528428093646,
          0.7575250836120402
         ]
        },
        {
         "marker": {
          "maxdisplayed": 10
         },
         "mode": "lines+markers",
         "name": "Trial62",
         "type": "scatter",
         "x": [
          0,
          1,
          2,
          3,
          4,
          5
         ],
         "y": [
          0.7408026755852842,
          0.7491638795986622,
          0.7658862876254181,
          0.7792642140468228,
          0.7859531772575251,
          0.7909698996655519
         ]
        },
        {
         "marker": {
          "maxdisplayed": 10
         },
         "mode": "lines+markers",
         "name": "Trial63",
         "type": "scatter",
         "x": [
          0,
          1,
          2,
          3,
          4,
          5
         ],
         "y": [
          null,
          0.7474916387959866,
          0.7692307692307693,
          0.7809364548494984,
          0.7892976588628763,
          0.7876254180602007
         ]
        },
        {
         "marker": {
          "maxdisplayed": 10
         },
         "mode": "lines+markers",
         "name": "Trial64",
         "type": "scatter",
         "x": [
          0,
          1,
          2,
          3,
          4,
          5
         ],
         "y": [
          0.7408026755852842,
          0.7525083612040134,
          0.7709030100334449,
          0.7809364548494984,
          0.7892976588628763,
          0.7876254180602007
         ]
        },
        {
         "marker": {
          "maxdisplayed": 10
         },
         "mode": "lines+markers",
         "name": "Trial65",
         "type": "scatter",
         "x": [
          0,
          1,
          2,
          3,
          4,
          5
         ],
         "y": [
          null,
          0.7491638795986622,
          0.7692307692307693,
          0.7775919732441472,
          0.7909698996655519,
          0.7909698996655519
         ]
        },
        {
         "marker": {
          "maxdisplayed": 10
         },
         "mode": "lines+markers",
         "name": "Trial66",
         "type": "scatter",
         "x": [
          0,
          1,
          2,
          3,
          4,
          5
         ],
         "y": [
          null,
          0.7491638795986622,
          0.7692307692307693,
          0.7775919732441472,
          0.7926421404682275,
          0.7909698996655519
         ]
        },
        {
         "marker": {
          "maxdisplayed": 10
         },
         "mode": "lines+markers",
         "name": "Trial67",
         "type": "scatter",
         "x": [
          0,
          1,
          2,
          3,
          4,
          5
         ],
         "y": [
          0.7408026755852842,
          0.7525083612040134,
          0.7709030100334449,
          0.7809364548494984,
          0.7876254180602007,
          0.7909698996655519
         ]
        },
        {
         "marker": {
          "maxdisplayed": 10
         },
         "mode": "lines+markers",
         "name": "Trial68",
         "type": "scatter",
         "x": [
          0,
          1,
          2,
          3,
          4,
          5
         ],
         "y": [
          0.7408026755852842,
          0.7491638795986622,
          0.7709030100334449,
          0.782608695652174,
          0.7876254180602007,
          0.7909698996655519
         ]
        },
        {
         "marker": {
          "maxdisplayed": 10
         },
         "mode": "lines+markers",
         "name": "Trial69",
         "type": "scatter",
         "x": [
          0,
          1,
          2,
          3,
          4,
          5
         ],
         "y": [
          null,
          0.7491638795986622,
          0.7692307692307693,
          0.7775919732441472,
          0.7892976588628763,
          0.7909698996655519
         ]
        },
        {
         "marker": {
          "maxdisplayed": 10
         },
         "mode": "lines+markers",
         "name": "Trial70",
         "type": "scatter",
         "x": [
          0,
          1,
          2,
          3,
          4,
          5
         ],
         "y": [
          null,
          0.7474916387959866,
          0.7725752508361204,
          0.7809364548494984,
          0.7876254180602007,
          0.7876254180602007
         ]
        },
        {
         "marker": {
          "maxdisplayed": 10
         },
         "mode": "lines+markers",
         "name": "Trial71",
         "type": "scatter",
         "x": [
          0,
          1,
          2,
          3,
          4,
          5
         ],
         "y": [
          null,
          0.7391304347826086,
          0.7575250836120402,
          0.7842809364548495,
          0.7926421404682275,
          0.7909698996655519
         ]
        },
        {
         "marker": {
          "maxdisplayed": 10
         },
         "mode": "lines+markers",
         "name": "Trial72",
         "type": "scatter",
         "x": [
          0,
          1,
          2,
          3,
          4,
          5
         ],
         "y": [
          0.7408026755852842,
          0.7525083612040134,
          0.7709030100334449,
          0.7809364548494984,
          0.7892976588628763,
          0.7892976588628763
         ]
        },
        {
         "marker": {
          "maxdisplayed": 10
         },
         "mode": "lines+markers",
         "name": "Trial73",
         "type": "scatter",
         "x": [
          0,
          1,
          2,
          3,
          4,
          5
         ],
         "y": [
          0.7424749163879598,
          0.7491638795986622,
          0.7675585284280937,
          0.782608695652174,
          0.7876254180602007,
          0.7892976588628763
         ]
        },
        {
         "marker": {
          "maxdisplayed": 10
         },
         "mode": "lines+markers",
         "name": "Trial74",
         "type": "scatter",
         "x": [
          0,
          1,
          2,
          3,
          4,
          5
         ],
         "y": [
          null,
          0.7474916387959866,
          0.7725752508361204,
          0.7792642140468228,
          0.7876254180602007,
          0.7892976588628763
         ]
        },
        {
         "marker": {
          "maxdisplayed": 10
         },
         "mode": "lines+markers",
         "name": "Trial75",
         "type": "scatter",
         "x": [
          0,
          1,
          2,
          3,
          4,
          5
         ],
         "y": [
          0.7408026755852842,
          0.7491638795986622,
          0.774247491638796,
          0.7842809364548495,
          0.7859531772575251,
          0.7859531772575251
         ]
        },
        {
         "marker": {
          "maxdisplayed": 10
         },
         "mode": "lines+markers",
         "name": "Trial76",
         "type": "scatter",
         "x": [
          0,
          1,
          2
         ],
         "y": [
          0.7441471571906354,
          0.7558528428093646,
          0.7625418060200669
         ]
        },
        {
         "marker": {
          "maxdisplayed": 10
         },
         "mode": "lines+markers",
         "name": "Trial77",
         "type": "scatter",
         "x": [
          0,
          1,
          2,
          3,
          4,
          5
         ],
         "y": [
          null,
          0.7474916387959866,
          0.7725752508361204,
          0.7792642140468228,
          0.7876254180602007,
          0.7892976588628763
         ]
        },
        {
         "marker": {
          "maxdisplayed": 10
         },
         "mode": "lines+markers",
         "name": "Trial78",
         "type": "scatter",
         "x": [
          0,
          1,
          2,
          3,
          4,
          5
         ],
         "y": [
          null,
          0.7474916387959866,
          0.7725752508361204,
          0.7792642140468228,
          0.7876254180602007,
          0.7876254180602007
         ]
        },
        {
         "marker": {
          "maxdisplayed": 10
         },
         "mode": "lines+markers",
         "name": "Trial79",
         "type": "scatter",
         "x": [
          0,
          1,
          2,
          3,
          4,
          5
         ],
         "y": [
          0.7408026755852842,
          0.7575250836120402,
          0.7792642140468228,
          0.7859531772575251,
          0.7842809364548495,
          0.7859531772575251
         ]
        },
        {
         "marker": {
          "maxdisplayed": 10
         },
         "mode": "lines+markers",
         "name": "Trial80",
         "type": "scatter",
         "x": [
          0,
          1,
          2
         ],
         "y": [
          null,
          0.7591973244147158,
          0.7575250836120402
         ]
        },
        {
         "marker": {
          "maxdisplayed": 10
         },
         "mode": "lines+markers",
         "name": "Trial81",
         "type": "scatter",
         "x": [
          0,
          1,
          2,
          3,
          4,
          5
         ],
         "y": [
          0.7408026755852842,
          0.7525083612040134,
          0.774247491638796,
          0.7859531772575251,
          0.7892976588628763,
          0.7876254180602007
         ]
        },
        {
         "marker": {
          "maxdisplayed": 10
         },
         "mode": "lines+markers",
         "name": "Trial82",
         "type": "scatter",
         "x": [
          0,
          1,
          2,
          3,
          4,
          5
         ],
         "y": [
          0.7408026755852842,
          0.7525083612040134,
          0.774247491638796,
          0.7842809364548495,
          0.7859531772575251,
          0.7876254180602007
         ]
        },
        {
         "marker": {
          "maxdisplayed": 10
         },
         "mode": "lines+markers",
         "name": "Trial83",
         "type": "scatter",
         "x": [
          0,
          1,
          2,
          3,
          4,
          5
         ],
         "y": [
          0.7408026755852842,
          0.7525083612040134,
          0.774247491638796,
          0.7842809364548495,
          0.7876254180602007,
          0.7876254180602007
         ]
        },
        {
         "marker": {
          "maxdisplayed": 10
         },
         "mode": "lines+markers",
         "name": "Trial84",
         "type": "scatter",
         "x": [
          0,
          1,
          2,
          3,
          4,
          5
         ],
         "y": [
          0.7408026755852842,
          0.7525083612040134,
          0.774247491638796,
          0.7842809364548495,
          0.7876254180602007,
          0.7876254180602007
         ]
        },
        {
         "marker": {
          "maxdisplayed": 10
         },
         "mode": "lines+markers",
         "name": "Trial85",
         "type": "scatter",
         "x": [
          0,
          1,
          2,
          3,
          4,
          5
         ],
         "y": [
          0.7408026755852842,
          0.7525083612040134,
          0.774247491638796,
          0.7859531772575251,
          0.7876254180602007,
          0.7876254180602007
         ]
        },
        {
         "marker": {
          "maxdisplayed": 10
         },
         "mode": "lines+markers",
         "name": "Trial86",
         "type": "scatter",
         "x": [
          0,
          1,
          2,
          3,
          4,
          5
         ],
         "y": [
          0.7408026755852842,
          0.7525083612040134,
          0.774247491638796,
          0.7859531772575251,
          0.7892976588628763,
          0.7876254180602007
         ]
        },
        {
         "marker": {
          "maxdisplayed": 10
         },
         "mode": "lines+markers",
         "name": "Trial87",
         "type": "scatter",
         "x": [
          0,
          1,
          2,
          3,
          4,
          5
         ],
         "y": [
          0.7408026755852842,
          0.7491638795986622,
          0.7759197324414716,
          0.7892976588628763,
          0.7892976588628763,
          0.7909698996655519
         ]
        },
        {
         "marker": {
          "maxdisplayed": 10
         },
         "mode": "lines+markers",
         "name": "Trial88",
         "type": "scatter",
         "x": [
          0,
          1,
          2,
          3,
          4,
          5
         ],
         "y": [
          0.7408026755852842,
          0.7591973244147158,
          0.7792642140468228,
          0.7859531772575251,
          0.7892976588628763,
          0.7876254180602007
         ]
        },
        {
         "marker": {
          "maxdisplayed": 10
         },
         "mode": "lines+markers",
         "name": "Trial89",
         "type": "scatter",
         "x": [
          0,
          1,
          2,
          3,
          4,
          5
         ],
         "y": [
          0.7408026755852842,
          0.7591973244147158,
          0.7792642140468228,
          0.7876254180602007,
          0.7859531772575251,
          0.7876254180602007
         ]
        },
        {
         "marker": {
          "maxdisplayed": 10
         },
         "mode": "lines+markers",
         "name": "Trial90",
         "type": "scatter",
         "x": [
          0,
          1,
          2,
          3,
          4,
          5
         ],
         "y": [
          0.7424749163879598,
          0.7558528428093646,
          0.7792642140468228,
          0.7892976588628763,
          0.7892976588628763,
          0.7892976588628763
         ]
        },
        {
         "marker": {
          "maxdisplayed": 10
         },
         "mode": "lines+markers",
         "name": "Trial91",
         "type": "scatter",
         "x": [
          0,
          1,
          2,
          3,
          4,
          5
         ],
         "y": [
          0.7474916387959866,
          0.7508361204013378,
          0.7675585284280937,
          0.7775919732441472,
          0.782608695652174,
          0.7792642140468228
         ]
        },
        {
         "marker": {
          "maxdisplayed": 10
         },
         "mode": "lines+markers",
         "name": "Trial92",
         "type": "scatter",
         "x": [
          0,
          1,
          2,
          3,
          4,
          5
         ],
         "y": [
          0.7408026755852842,
          0.7491638795986622,
          0.7759197324414716,
          0.7892976588628763,
          0.7892976588628763,
          0.7909698996655519
         ]
        },
        {
         "marker": {
          "maxdisplayed": 10
         },
         "mode": "lines+markers",
         "name": "Trial93",
         "type": "scatter",
         "x": [
          0,
          1,
          2,
          3,
          4,
          5
         ],
         "y": [
          0.7408026755852842,
          0.7525083612040134,
          0.774247491638796,
          0.7842809364548495,
          0.7876254180602007,
          0.7876254180602007
         ]
        },
        {
         "marker": {
          "maxdisplayed": 10
         },
         "mode": "lines+markers",
         "name": "Trial94",
         "type": "scatter",
         "x": [
          0,
          1,
          2,
          3,
          4,
          5
         ],
         "y": [
          0.7408026755852842,
          0.7591973244147158,
          0.7792642140468228,
          0.7859531772575251,
          0.7892976588628763,
          0.7876254180602007
         ]
        },
        {
         "marker": {
          "maxdisplayed": 10
         },
         "mode": "lines+markers",
         "name": "Trial95",
         "type": "scatter",
         "x": [
          0,
          1,
          2,
          3,
          4,
          5
         ],
         "y": [
          0.7408026755852842,
          0.7575250836120402,
          0.7809364548494984,
          0.7876254180602007,
          0.7859531772575251,
          0.7876254180602007
         ]
        },
        {
         "marker": {
          "maxdisplayed": 10
         },
         "mode": "lines+markers",
         "name": "Trial96",
         "type": "scatter",
         "x": [
          0,
          1,
          2,
          3,
          4,
          5
         ],
         "y": [
          0.7408026755852842,
          0.7525083612040134,
          0.774247491638796,
          0.7842809364548495,
          0.7876254180602007,
          0.7876254180602007
         ]
        },
        {
         "marker": {
          "maxdisplayed": 10
         },
         "mode": "lines+markers",
         "name": "Trial97",
         "type": "scatter",
         "x": [
          0,
          1,
          2
         ],
         "y": [
          0.7441471571906354,
          0.7558528428093646,
          0.7625418060200669
         ]
        },
        {
         "marker": {
          "maxdisplayed": 10
         },
         "mode": "lines+markers",
         "name": "Trial98",
         "type": "scatter",
         "x": [
          0,
          1,
          2,
          3,
          4,
          5
         ],
         "y": [
          0.7408026755852842,
          0.7575250836120402,
          0.7842809364548495,
          0.7959866220735786,
          0.7892976588628763,
          0.7926421404682275
         ]
        },
        {
         "marker": {
          "maxdisplayed": 10
         },
         "mode": "lines+markers",
         "name": "Trial99",
         "type": "scatter",
         "x": [
          0,
          1,
          2,
          3,
          4,
          5
         ],
         "y": [
          0.7424749163879598,
          0.7491638795986622,
          0.7675585284280937,
          0.782608695652174,
          0.7876254180602007,
          0.7876254180602007
         ]
        },
        {
         "marker": {
          "maxdisplayed": 10
         },
         "mode": "lines+markers",
         "name": "Trial100",
         "type": "scatter",
         "x": [
          0,
          1,
          2,
          3
         ],
         "y": [
          null,
          0.7491638795986622,
          0.774247491638796,
          0.7759197324414716
         ]
        }
       ],
       "layout": {
        "showlegend": false,
        "template": {
         "data": {
          "bar": [
           {
            "error_x": {
             "color": "#2a3f5f"
            },
            "error_y": {
             "color": "#2a3f5f"
            },
            "marker": {
             "line": {
              "color": "#E5ECF6",
              "width": 0.5
             },
             "pattern": {
              "fillmode": "overlay",
              "size": 10,
              "solidity": 0.2
             }
            },
            "type": "bar"
           }
          ],
          "barpolar": [
           {
            "marker": {
             "line": {
              "color": "#E5ECF6",
              "width": 0.5
             },
             "pattern": {
              "fillmode": "overlay",
              "size": 10,
              "solidity": 0.2
             }
            },
            "type": "barpolar"
           }
          ],
          "carpet": [
           {
            "aaxis": {
             "endlinecolor": "#2a3f5f",
             "gridcolor": "white",
             "linecolor": "white",
             "minorgridcolor": "white",
             "startlinecolor": "#2a3f5f"
            },
            "baxis": {
             "endlinecolor": "#2a3f5f",
             "gridcolor": "white",
             "linecolor": "white",
             "minorgridcolor": "white",
             "startlinecolor": "#2a3f5f"
            },
            "type": "carpet"
           }
          ],
          "choropleth": [
           {
            "colorbar": {
             "outlinewidth": 0,
             "ticks": ""
            },
            "type": "choropleth"
           }
          ],
          "contour": [
           {
            "colorbar": {
             "outlinewidth": 0,
             "ticks": ""
            },
            "colorscale": [
             [
              0,
              "#0d0887"
             ],
             [
              0.1111111111111111,
              "#46039f"
             ],
             [
              0.2222222222222222,
              "#7201a8"
             ],
             [
              0.3333333333333333,
              "#9c179e"
             ],
             [
              0.4444444444444444,
              "#bd3786"
             ],
             [
              0.5555555555555556,
              "#d8576b"
             ],
             [
              0.6666666666666666,
              "#ed7953"
             ],
             [
              0.7777777777777778,
              "#fb9f3a"
             ],
             [
              0.8888888888888888,
              "#fdca26"
             ],
             [
              1,
              "#f0f921"
             ]
            ],
            "type": "contour"
           }
          ],
          "contourcarpet": [
           {
            "colorbar": {
             "outlinewidth": 0,
             "ticks": ""
            },
            "type": "contourcarpet"
           }
          ],
          "heatmap": [
           {
            "colorbar": {
             "outlinewidth": 0,
             "ticks": ""
            },
            "colorscale": [
             [
              0,
              "#0d0887"
             ],
             [
              0.1111111111111111,
              "#46039f"
             ],
             [
              0.2222222222222222,
              "#7201a8"
             ],
             [
              0.3333333333333333,
              "#9c179e"
             ],
             [
              0.4444444444444444,
              "#bd3786"
             ],
             [
              0.5555555555555556,
              "#d8576b"
             ],
             [
              0.6666666666666666,
              "#ed7953"
             ],
             [
              0.7777777777777778,
              "#fb9f3a"
             ],
             [
              0.8888888888888888,
              "#fdca26"
             ],
             [
              1,
              "#f0f921"
             ]
            ],
            "type": "heatmap"
           }
          ],
          "histogram": [
           {
            "marker": {
             "pattern": {
              "fillmode": "overlay",
              "size": 10,
              "solidity": 0.2
             }
            },
            "type": "histogram"
           }
          ],
          "histogram2d": [
           {
            "colorbar": {
             "outlinewidth": 0,
             "ticks": ""
            },
            "colorscale": [
             [
              0,
              "#0d0887"
             ],
             [
              0.1111111111111111,
              "#46039f"
             ],
             [
              0.2222222222222222,
              "#7201a8"
             ],
             [
              0.3333333333333333,
              "#9c179e"
             ],
             [
              0.4444444444444444,
              "#bd3786"
             ],
             [
              0.5555555555555556,
              "#d8576b"
             ],
             [
              0.6666666666666666,
              "#ed7953"
             ],
             [
              0.7777777777777778,
              "#fb9f3a"
             ],
             [
              0.8888888888888888,
              "#fdca26"
             ],
             [
              1,
              "#f0f921"
             ]
            ],
            "type": "histogram2d"
           }
          ],
          "histogram2dcontour": [
           {
            "colorbar": {
             "outlinewidth": 0,
             "ticks": ""
            },
            "colorscale": [
             [
              0,
              "#0d0887"
             ],
             [
              0.1111111111111111,
              "#46039f"
             ],
             [
              0.2222222222222222,
              "#7201a8"
             ],
             [
              0.3333333333333333,
              "#9c179e"
             ],
             [
              0.4444444444444444,
              "#bd3786"
             ],
             [
              0.5555555555555556,
              "#d8576b"
             ],
             [
              0.6666666666666666,
              "#ed7953"
             ],
             [
              0.7777777777777778,
              "#fb9f3a"
             ],
             [
              0.8888888888888888,
              "#fdca26"
             ],
             [
              1,
              "#f0f921"
             ]
            ],
            "type": "histogram2dcontour"
           }
          ],
          "mesh3d": [
           {
            "colorbar": {
             "outlinewidth": 0,
             "ticks": ""
            },
            "type": "mesh3d"
           }
          ],
          "parcoords": [
           {
            "line": {
             "colorbar": {
              "outlinewidth": 0,
              "ticks": ""
             }
            },
            "type": "parcoords"
           }
          ],
          "pie": [
           {
            "automargin": true,
            "type": "pie"
           }
          ],
          "scatter": [
           {
            "fillpattern": {
             "fillmode": "overlay",
             "size": 10,
             "solidity": 0.2
            },
            "type": "scatter"
           }
          ],
          "scatter3d": [
           {
            "line": {
             "colorbar": {
              "outlinewidth": 0,
              "ticks": ""
             }
            },
            "marker": {
             "colorbar": {
              "outlinewidth": 0,
              "ticks": ""
             }
            },
            "type": "scatter3d"
           }
          ],
          "scattercarpet": [
           {
            "marker": {
             "colorbar": {
              "outlinewidth": 0,
              "ticks": ""
             }
            },
            "type": "scattercarpet"
           }
          ],
          "scattergeo": [
           {
            "marker": {
             "colorbar": {
              "outlinewidth": 0,
              "ticks": ""
             }
            },
            "type": "scattergeo"
           }
          ],
          "scattergl": [
           {
            "marker": {
             "colorbar": {
              "outlinewidth": 0,
              "ticks": ""
             }
            },
            "type": "scattergl"
           }
          ],
          "scattermap": [
           {
            "marker": {
             "colorbar": {
              "outlinewidth": 0,
              "ticks": ""
             }
            },
            "type": "scattermap"
           }
          ],
          "scattermapbox": [
           {
            "marker": {
             "colorbar": {
              "outlinewidth": 0,
              "ticks": ""
             }
            },
            "type": "scattermapbox"
           }
          ],
          "scatterpolar": [
           {
            "marker": {
             "colorbar": {
              "outlinewidth": 0,
              "ticks": ""
             }
            },
            "type": "scatterpolar"
           }
          ],
          "scatterpolargl": [
           {
            "marker": {
             "colorbar": {
              "outlinewidth": 0,
              "ticks": ""
             }
            },
            "type": "scatterpolargl"
           }
          ],
          "scatterternary": [
           {
            "marker": {
             "colorbar": {
              "outlinewidth": 0,
              "ticks": ""
             }
            },
            "type": "scatterternary"
           }
          ],
          "surface": [
           {
            "colorbar": {
             "outlinewidth": 0,
             "ticks": ""
            },
            "colorscale": [
             [
              0,
              "#0d0887"
             ],
             [
              0.1111111111111111,
              "#46039f"
             ],
             [
              0.2222222222222222,
              "#7201a8"
             ],
             [
              0.3333333333333333,
              "#9c179e"
             ],
             [
              0.4444444444444444,
              "#bd3786"
             ],
             [
              0.5555555555555556,
              "#d8576b"
             ],
             [
              0.6666666666666666,
              "#ed7953"
             ],
             [
              0.7777777777777778,
              "#fb9f3a"
             ],
             [
              0.8888888888888888,
              "#fdca26"
             ],
             [
              1,
              "#f0f921"
             ]
            ],
            "type": "surface"
           }
          ],
          "table": [
           {
            "cells": {
             "fill": {
              "color": "#EBF0F8"
             },
             "line": {
              "color": "white"
             }
            },
            "header": {
             "fill": {
              "color": "#C8D4E3"
             },
             "line": {
              "color": "white"
             }
            },
            "type": "table"
           }
          ]
         },
         "layout": {
          "annotationdefaults": {
           "arrowcolor": "#2a3f5f",
           "arrowhead": 0,
           "arrowwidth": 1
          },
          "autotypenumbers": "strict",
          "coloraxis": {
           "colorbar": {
            "outlinewidth": 0,
            "ticks": ""
           }
          },
          "colorscale": {
           "diverging": [
            [
             0,
             "#8e0152"
            ],
            [
             0.1,
             "#c51b7d"
            ],
            [
             0.2,
             "#de77ae"
            ],
            [
             0.3,
             "#f1b6da"
            ],
            [
             0.4,
             "#fde0ef"
            ],
            [
             0.5,
             "#f7f7f7"
            ],
            [
             0.6,
             "#e6f5d0"
            ],
            [
             0.7,
             "#b8e186"
            ],
            [
             0.8,
             "#7fbc41"
            ],
            [
             0.9,
             "#4d9221"
            ],
            [
             1,
             "#276419"
            ]
           ],
           "sequential": [
            [
             0,
             "#0d0887"
            ],
            [
             0.1111111111111111,
             "#46039f"
            ],
            [
             0.2222222222222222,
             "#7201a8"
            ],
            [
             0.3333333333333333,
             "#9c179e"
            ],
            [
             0.4444444444444444,
             "#bd3786"
            ],
            [
             0.5555555555555556,
             "#d8576b"
            ],
            [
             0.6666666666666666,
             "#ed7953"
            ],
            [
             0.7777777777777778,
             "#fb9f3a"
            ],
            [
             0.8888888888888888,
             "#fdca26"
            ],
            [
             1,
             "#f0f921"
            ]
           ],
           "sequentialminus": [
            [
             0,
             "#0d0887"
            ],
            [
             0.1111111111111111,
             "#46039f"
            ],
            [
             0.2222222222222222,
             "#7201a8"
            ],
            [
             0.3333333333333333,
             "#9c179e"
            ],
            [
             0.4444444444444444,
             "#bd3786"
            ],
            [
             0.5555555555555556,
             "#d8576b"
            ],
            [
             0.6666666666666666,
             "#ed7953"
            ],
            [
             0.7777777777777778,
             "#fb9f3a"
            ],
            [
             0.8888888888888888,
             "#fdca26"
            ],
            [
             1,
             "#f0f921"
            ]
           ]
          },
          "colorway": [
           "#636efa",
           "#EF553B",
           "#00cc96",
           "#ab63fa",
           "#FFA15A",
           "#19d3f3",
           "#FF6692",
           "#B6E880",
           "#FF97FF",
           "#FECB52"
          ],
          "font": {
           "color": "#2a3f5f"
          },
          "geo": {
           "bgcolor": "white",
           "lakecolor": "white",
           "landcolor": "#E5ECF6",
           "showlakes": true,
           "showland": true,
           "subunitcolor": "white"
          },
          "hoverlabel": {
           "align": "left"
          },
          "hovermode": "closest",
          "mapbox": {
           "style": "light"
          },
          "paper_bgcolor": "white",
          "plot_bgcolor": "#E5ECF6",
          "polar": {
           "angularaxis": {
            "gridcolor": "white",
            "linecolor": "white",
            "ticks": ""
           },
           "bgcolor": "#E5ECF6",
           "radialaxis": {
            "gridcolor": "white",
            "linecolor": "white",
            "ticks": ""
           }
          },
          "scene": {
           "xaxis": {
            "backgroundcolor": "#E5ECF6",
            "gridcolor": "white",
            "gridwidth": 2,
            "linecolor": "white",
            "showbackground": true,
            "ticks": "",
            "zerolinecolor": "white"
           },
           "yaxis": {
            "backgroundcolor": "#E5ECF6",
            "gridcolor": "white",
            "gridwidth": 2,
            "linecolor": "white",
            "showbackground": true,
            "ticks": "",
            "zerolinecolor": "white"
           },
           "zaxis": {
            "backgroundcolor": "#E5ECF6",
            "gridcolor": "white",
            "gridwidth": 2,
            "linecolor": "white",
            "showbackground": true,
            "ticks": "",
            "zerolinecolor": "white"
           }
          },
          "shapedefaults": {
           "line": {
            "color": "#2a3f5f"
           }
          },
          "ternary": {
           "aaxis": {
            "gridcolor": "white",
            "linecolor": "white",
            "ticks": ""
           },
           "baxis": {
            "gridcolor": "white",
            "linecolor": "white",
            "ticks": ""
           },
           "bgcolor": "#E5ECF6",
           "caxis": {
            "gridcolor": "white",
            "linecolor": "white",
            "ticks": ""
           }
          },
          "title": {
           "x": 0.05
          },
          "xaxis": {
           "automargin": true,
           "gridcolor": "white",
           "linecolor": "white",
           "ticks": "",
           "title": {
            "standoff": 15
           },
           "zerolinecolor": "white",
           "zerolinewidth": 2
          },
          "yaxis": {
           "automargin": true,
           "gridcolor": "white",
           "linecolor": "white",
           "ticks": "",
           "title": {
            "standoff": 15
           },
           "zerolinecolor": "white",
           "zerolinewidth": 2
          }
         }
        },
        "title": {
         "text": "Intermediate Values Plot"
        },
        "xaxis": {
         "title": {
          "text": "Step"
         }
        },
        "yaxis": {
         "title": {
          "text": "Intermediate Value"
         }
        }
       }
      }
     },
     "metadata": {},
     "output_type": "display_data"
    },
    {
     "data": {
      "application/vnd.plotly.v1+json": {
       "config": {
        "plotlyServerURL": "https://plot.ly"
       },
       "data": [
        {
         "cliponaxis": false,
         "hovertemplate": [
          "class_weight (CategoricalDistribution): 0.0011934945814428223<extra></extra>",
          "max_depth (IntDistribution): 0.036086640980139695<extra></extra>",
          "max_features (CategoricalDistribution): 0.04572324253589639<extra></extra>",
          "n_estimators (IntDistribution): 0.06855939774911982<extra></extra>",
          "criterion (CategoricalDistribution): 0.13613820571684154<extra></extra>",
          "min_samples_leaf (IntDistribution): 0.7122990184365596<extra></extra>"
         ],
         "name": "Objective Value",
         "orientation": "h",
         "text": [
          "<0.01",
          "0.04",
          "0.05",
          "0.07",
          "0.14",
          "0.71"
         ],
         "textposition": "outside",
         "type": "bar",
         "x": [
          0.0011934945814428223,
          0.036086640980139695,
          0.04572324253589639,
          0.06855939774911982,
          0.13613820571684154,
          0.7122990184365596
         ],
         "y": [
          "class_weight",
          "max_depth",
          "max_features",
          "n_estimators",
          "criterion",
          "min_samples_leaf"
         ]
        }
       ],
       "layout": {
        "template": {
         "data": {
          "bar": [
           {
            "error_x": {
             "color": "#2a3f5f"
            },
            "error_y": {
             "color": "#2a3f5f"
            },
            "marker": {
             "line": {
              "color": "#E5ECF6",
              "width": 0.5
             },
             "pattern": {
              "fillmode": "overlay",
              "size": 10,
              "solidity": 0.2
             }
            },
            "type": "bar"
           }
          ],
          "barpolar": [
           {
            "marker": {
             "line": {
              "color": "#E5ECF6",
              "width": 0.5
             },
             "pattern": {
              "fillmode": "overlay",
              "size": 10,
              "solidity": 0.2
             }
            },
            "type": "barpolar"
           }
          ],
          "carpet": [
           {
            "aaxis": {
             "endlinecolor": "#2a3f5f",
             "gridcolor": "white",
             "linecolor": "white",
             "minorgridcolor": "white",
             "startlinecolor": "#2a3f5f"
            },
            "baxis": {
             "endlinecolor": "#2a3f5f",
             "gridcolor": "white",
             "linecolor": "white",
             "minorgridcolor": "white",
             "startlinecolor": "#2a3f5f"
            },
            "type": "carpet"
           }
          ],
          "choropleth": [
           {
            "colorbar": {
             "outlinewidth": 0,
             "ticks": ""
            },
            "type": "choropleth"
           }
          ],
          "contour": [
           {
            "colorbar": {
             "outlinewidth": 0,
             "ticks": ""
            },
            "colorscale": [
             [
              0,
              "#0d0887"
             ],
             [
              0.1111111111111111,
              "#46039f"
             ],
             [
              0.2222222222222222,
              "#7201a8"
             ],
             [
              0.3333333333333333,
              "#9c179e"
             ],
             [
              0.4444444444444444,
              "#bd3786"
             ],
             [
              0.5555555555555556,
              "#d8576b"
             ],
             [
              0.6666666666666666,
              "#ed7953"
             ],
             [
              0.7777777777777778,
              "#fb9f3a"
             ],
             [
              0.8888888888888888,
              "#fdca26"
             ],
             [
              1,
              "#f0f921"
             ]
            ],
            "type": "contour"
           }
          ],
          "contourcarpet": [
           {
            "colorbar": {
             "outlinewidth": 0,
             "ticks": ""
            },
            "type": "contourcarpet"
           }
          ],
          "heatmap": [
           {
            "colorbar": {
             "outlinewidth": 0,
             "ticks": ""
            },
            "colorscale": [
             [
              0,
              "#0d0887"
             ],
             [
              0.1111111111111111,
              "#46039f"
             ],
             [
              0.2222222222222222,
              "#7201a8"
             ],
             [
              0.3333333333333333,
              "#9c179e"
             ],
             [
              0.4444444444444444,
              "#bd3786"
             ],
             [
              0.5555555555555556,
              "#d8576b"
             ],
             [
              0.6666666666666666,
              "#ed7953"
             ],
             [
              0.7777777777777778,
              "#fb9f3a"
             ],
             [
              0.8888888888888888,
              "#fdca26"
             ],
             [
              1,
              "#f0f921"
             ]
            ],
            "type": "heatmap"
           }
          ],
          "histogram": [
           {
            "marker": {
             "pattern": {
              "fillmode": "overlay",
              "size": 10,
              "solidity": 0.2
             }
            },
            "type": "histogram"
           }
          ],
          "histogram2d": [
           {
            "colorbar": {
             "outlinewidth": 0,
             "ticks": ""
            },
            "colorscale": [
             [
              0,
              "#0d0887"
             ],
             [
              0.1111111111111111,
              "#46039f"
             ],
             [
              0.2222222222222222,
              "#7201a8"
             ],
             [
              0.3333333333333333,
              "#9c179e"
             ],
             [
              0.4444444444444444,
              "#bd3786"
             ],
             [
              0.5555555555555556,
              "#d8576b"
             ],
             [
              0.6666666666666666,
              "#ed7953"
             ],
             [
              0.7777777777777778,
              "#fb9f3a"
             ],
             [
              0.8888888888888888,
              "#fdca26"
             ],
             [
              1,
              "#f0f921"
             ]
            ],
            "type": "histogram2d"
           }
          ],
          "histogram2dcontour": [
           {
            "colorbar": {
             "outlinewidth": 0,
             "ticks": ""
            },
            "colorscale": [
             [
              0,
              "#0d0887"
             ],
             [
              0.1111111111111111,
              "#46039f"
             ],
             [
              0.2222222222222222,
              "#7201a8"
             ],
             [
              0.3333333333333333,
              "#9c179e"
             ],
             [
              0.4444444444444444,
              "#bd3786"
             ],
             [
              0.5555555555555556,
              "#d8576b"
             ],
             [
              0.6666666666666666,
              "#ed7953"
             ],
             [
              0.7777777777777778,
              "#fb9f3a"
             ],
             [
              0.8888888888888888,
              "#fdca26"
             ],
             [
              1,
              "#f0f921"
             ]
            ],
            "type": "histogram2dcontour"
           }
          ],
          "mesh3d": [
           {
            "colorbar": {
             "outlinewidth": 0,
             "ticks": ""
            },
            "type": "mesh3d"
           }
          ],
          "parcoords": [
           {
            "line": {
             "colorbar": {
              "outlinewidth": 0,
              "ticks": ""
             }
            },
            "type": "parcoords"
           }
          ],
          "pie": [
           {
            "automargin": true,
            "type": "pie"
           }
          ],
          "scatter": [
           {
            "fillpattern": {
             "fillmode": "overlay",
             "size": 10,
             "solidity": 0.2
            },
            "type": "scatter"
           }
          ],
          "scatter3d": [
           {
            "line": {
             "colorbar": {
              "outlinewidth": 0,
              "ticks": ""
             }
            },
            "marker": {
             "colorbar": {
              "outlinewidth": 0,
              "ticks": ""
             }
            },
            "type": "scatter3d"
           }
          ],
          "scattercarpet": [
           {
            "marker": {
             "colorbar": {
              "outlinewidth": 0,
              "ticks": ""
             }
            },
            "type": "scattercarpet"
           }
          ],
          "scattergeo": [
           {
            "marker": {
             "colorbar": {
              "outlinewidth": 0,
              "ticks": ""
             }
            },
            "type": "scattergeo"
           }
          ],
          "scattergl": [
           {
            "marker": {
             "colorbar": {
              "outlinewidth": 0,
              "ticks": ""
             }
            },
            "type": "scattergl"
           }
          ],
          "scattermap": [
           {
            "marker": {
             "colorbar": {
              "outlinewidth": 0,
              "ticks": ""
             }
            },
            "type": "scattermap"
           }
          ],
          "scattermapbox": [
           {
            "marker": {
             "colorbar": {
              "outlinewidth": 0,
              "ticks": ""
             }
            },
            "type": "scattermapbox"
           }
          ],
          "scatterpolar": [
           {
            "marker": {
             "colorbar": {
              "outlinewidth": 0,
              "ticks": ""
             }
            },
            "type": "scatterpolar"
           }
          ],
          "scatterpolargl": [
           {
            "marker": {
             "colorbar": {
              "outlinewidth": 0,
              "ticks": ""
             }
            },
            "type": "scatterpolargl"
           }
          ],
          "scatterternary": [
           {
            "marker": {
             "colorbar": {
              "outlinewidth": 0,
              "ticks": ""
             }
            },
            "type": "scatterternary"
           }
          ],
          "surface": [
           {
            "colorbar": {
             "outlinewidth": 0,
             "ticks": ""
            },
            "colorscale": [
             [
              0,
              "#0d0887"
             ],
             [
              0.1111111111111111,
              "#46039f"
             ],
             [
              0.2222222222222222,
              "#7201a8"
             ],
             [
              0.3333333333333333,
              "#9c179e"
             ],
             [
              0.4444444444444444,
              "#bd3786"
             ],
             [
              0.5555555555555556,
              "#d8576b"
             ],
             [
              0.6666666666666666,
              "#ed7953"
             ],
             [
              0.7777777777777778,
              "#fb9f3a"
             ],
             [
              0.8888888888888888,
              "#fdca26"
             ],
             [
              1,
              "#f0f921"
             ]
            ],
            "type": "surface"
           }
          ],
          "table": [
           {
            "cells": {
             "fill": {
              "color": "#EBF0F8"
             },
             "line": {
              "color": "white"
             }
            },
            "header": {
             "fill": {
              "color": "#C8D4E3"
             },
             "line": {
              "color": "white"
             }
            },
            "type": "table"
           }
          ]
         },
         "layout": {
          "annotationdefaults": {
           "arrowcolor": "#2a3f5f",
           "arrowhead": 0,
           "arrowwidth": 1
          },
          "autotypenumbers": "strict",
          "coloraxis": {
           "colorbar": {
            "outlinewidth": 0,
            "ticks": ""
           }
          },
          "colorscale": {
           "diverging": [
            [
             0,
             "#8e0152"
            ],
            [
             0.1,
             "#c51b7d"
            ],
            [
             0.2,
             "#de77ae"
            ],
            [
             0.3,
             "#f1b6da"
            ],
            [
             0.4,
             "#fde0ef"
            ],
            [
             0.5,
             "#f7f7f7"
            ],
            [
             0.6,
             "#e6f5d0"
            ],
            [
             0.7,
             "#b8e186"
            ],
            [
             0.8,
             "#7fbc41"
            ],
            [
             0.9,
             "#4d9221"
            ],
            [
             1,
             "#276419"
            ]
           ],
           "sequential": [
            [
             0,
             "#0d0887"
            ],
            [
             0.1111111111111111,
             "#46039f"
            ],
            [
             0.2222222222222222,
             "#7201a8"
            ],
            [
             0.3333333333333333,
             "#9c179e"
            ],
            [
             0.4444444444444444,
             "#bd3786"
            ],
            [
             0.5555555555555556,
             "#d8576b"
            ],
            [
             0.6666666666666666,
             "#ed7953"
            ],
            [
             0.7777777777777778,
             "#fb9f3a"
            ],
            [
             0.8888888888888888,
             "#fdca26"
            ],
            [
             1,
             "#f0f921"
            ]
           ],
           "sequentialminus": [
            [
             0,
             "#0d0887"
            ],
            [
             0.1111111111111111,
             "#46039f"
            ],
            [
             0.2222222222222222,
             "#7201a8"
            ],
            [
             0.3333333333333333,
             "#9c179e"
            ],
            [
             0.4444444444444444,
             "#bd3786"
            ],
            [
             0.5555555555555556,
             "#d8576b"
            ],
            [
             0.6666666666666666,
             "#ed7953"
            ],
            [
             0.7777777777777778,
             "#fb9f3a"
            ],
            [
             0.8888888888888888,
             "#fdca26"
            ],
            [
             1,
             "#f0f921"
            ]
           ]
          },
          "colorway": [
           "#636efa",
           "#EF553B",
           "#00cc96",
           "#ab63fa",
           "#FFA15A",
           "#19d3f3",
           "#FF6692",
           "#B6E880",
           "#FF97FF",
           "#FECB52"
          ],
          "font": {
           "color": "#2a3f5f"
          },
          "geo": {
           "bgcolor": "white",
           "lakecolor": "white",
           "landcolor": "#E5ECF6",
           "showlakes": true,
           "showland": true,
           "subunitcolor": "white"
          },
          "hoverlabel": {
           "align": "left"
          },
          "hovermode": "closest",
          "mapbox": {
           "style": "light"
          },
          "paper_bgcolor": "white",
          "plot_bgcolor": "#E5ECF6",
          "polar": {
           "angularaxis": {
            "gridcolor": "white",
            "linecolor": "white",
            "ticks": ""
           },
           "bgcolor": "#E5ECF6",
           "radialaxis": {
            "gridcolor": "white",
            "linecolor": "white",
            "ticks": ""
           }
          },
          "scene": {
           "xaxis": {
            "backgroundcolor": "#E5ECF6",
            "gridcolor": "white",
            "gridwidth": 2,
            "linecolor": "white",
            "showbackground": true,
            "ticks": "",
            "zerolinecolor": "white"
           },
           "yaxis": {
            "backgroundcolor": "#E5ECF6",
            "gridcolor": "white",
            "gridwidth": 2,
            "linecolor": "white",
            "showbackground": true,
            "ticks": "",
            "zerolinecolor": "white"
           },
           "zaxis": {
            "backgroundcolor": "#E5ECF6",
            "gridcolor": "white",
            "gridwidth": 2,
            "linecolor": "white",
            "showbackground": true,
            "ticks": "",
            "zerolinecolor": "white"
           }
          },
          "shapedefaults": {
           "line": {
            "color": "#2a3f5f"
           }
          },
          "ternary": {
           "aaxis": {
            "gridcolor": "white",
            "linecolor": "white",
            "ticks": ""
           },
           "baxis": {
            "gridcolor": "white",
            "linecolor": "white",
            "ticks": ""
           },
           "bgcolor": "#E5ECF6",
           "caxis": {
            "gridcolor": "white",
            "linecolor": "white",
            "ticks": ""
           }
          },
          "title": {
           "x": 0.05
          },
          "xaxis": {
           "automargin": true,
           "gridcolor": "white",
           "linecolor": "white",
           "ticks": "",
           "title": {
            "standoff": 15
           },
           "zerolinecolor": "white",
           "zerolinewidth": 2
          },
          "yaxis": {
           "automargin": true,
           "gridcolor": "white",
           "linecolor": "white",
           "ticks": "",
           "title": {
            "standoff": 15
           },
           "zerolinecolor": "white",
           "zerolinewidth": 2
          }
         }
        },
        "title": {
         "text": "Hyperparameter Importances"
        },
        "xaxis": {
         "title": {
          "text": "Hyperparameter Importance"
         }
        },
        "yaxis": {
         "title": {
          "text": "Hyperparameter"
         }
        }
       }
      }
     },
     "metadata": {},
     "output_type": "display_data"
    }
   ],
   "source": [
    "# --- Optional: Optuna Visualizations ---\n",
    "# To use these, you need to install plotly and kaleido: pip install plotly kaleido\n",
    "import optuna.visualization as ov\n",
    "fig1 = ov.plot_optimization_history(study)\n",
    "fig1.show()\n",
    "fig2 = ov.plot_intermediate_values(study)\n",
    "fig2.show()\n",
    "fig3 = ov.plot_param_importances(study)\n",
    "fig3.show()"
   ]
  },
  {
   "cell_type": "code",
   "execution_count": null,
   "id": "90d281ca",
   "metadata": {},
   "outputs": [],
   "source": []
  }
 ],
 "metadata": {
  "kernelspec": {
   "display_name": "Python 3",
   "language": "python",
   "name": "python3"
  },
  "language_info": {
   "codemirror_mode": {
    "name": "ipython",
    "version": 3
   },
   "file_extension": ".py",
   "mimetype": "text/x-python",
   "name": "python",
   "nbconvert_exporter": "python",
   "pygments_lexer": "ipython3",
   "version": "3.12.3"
  }
 },
 "nbformat": 4,
 "nbformat_minor": 5
}
