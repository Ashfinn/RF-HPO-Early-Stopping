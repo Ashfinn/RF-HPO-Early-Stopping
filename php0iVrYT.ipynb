{
 "cells": [
  {
   "cell_type": "code",
   "execution_count": 2,
   "id": "eb14dc2a",
   "metadata": {},
   "outputs": [
    {
     "name": "stdout",
     "output_type": "stream",
     "text": [
      "Loaded datasets/php0iVrYT.arff. Shape: (748, 5)\n",
      "Target column: 'Class'\n",
      "Numerical features: ['V1', 'V2', 'V3', 'V4']\n",
      "Categorical features detected: []\n",
      "Encoded target classes: ['1' '2']\n",
      "Starting Optuna study with 100 trials for Blood Transfusion dataset (FIXED PRUNER)...\n"
     ]
    },
    {
     "data": {
      "application/vnd.jupyter.widget-view+json": {
       "model_id": "f06799005982490c9b99e2dcbd0227a5",
       "version_major": 2,
       "version_minor": 0
      },
      "text/plain": [
       "  0%|          | 0/100 [00:00<?, ?it/s]"
      ]
     },
     "metadata": {},
     "output_type": "display_data"
    },
    {
     "name": "stdout",
     "output_type": "stream",
     "text": [
      "Trial 1, Step 0: 2 trees, OOB: 0.7040\n",
      "\n",
      "=== DEBUGGING TRIAL 1 ===\n",
      "Intermediate values: {0: 0.7040133779264214}\n",
      "Current step: 0, Current value: 0.7040133779264214\n",
      "[Debug Trial 1]: Not enough steps (1 < 3)\n",
      "Trial 1, Step 1: 6 trees, OOB: 0.6973\n",
      "\n",
      "=== DEBUGGING TRIAL 1 ===\n",
      "Intermediate values: {0: 0.7040133779264214, 1: 0.697324414715719}\n",
      "Current step: 1, Current value: 0.697324414715719\n",
      "[Debug Trial 1]: Not enough steps (2 < 3)\n",
      "Trial 1, Step 2: 12 trees, OOB: 0.6973\n",
      "\n",
      "=== DEBUGGING TRIAL 1 ===\n",
      "Intermediate values: {0: 0.7040133779264214, 1: 0.697324414715719, 2: 0.697324414715719}\n",
      "Current step: 2, Current value: 0.697324414715719\n",
      "Steps for prediction: [0 1 2]\n",
      "Values for prediction: [0.70401338 0.69732441 0.69732441]\n",
      "[Debug Trial 1]: Curve fit params: a=26.8916, b=26.1887, c=-0.0001\n",
      "[Debug Trial 1]: Extrapolated to step 6: 0.6828\n",
      "Predicted final performance: 0.6828270728005563\n",
      "[Debug Trial 1]: No completed trials yet\n",
      "Trial 1, Step 3: 25 trees, OOB: 0.7057\n",
      "\n",
      "=== DEBUGGING TRIAL 1 ===\n",
      "Intermediate values: {0: 0.7040133779264214, 1: 0.697324414715719, 2: 0.697324414715719, 3: 0.705685618729097}\n",
      "Current step: 3, Current value: 0.705685618729097\n",
      "Steps for prediction: [0 1 2 3]\n",
      "Values for prediction: [0.70401338 0.69732441 0.69732441 0.70568562]\n",
      "[Debug Trial 1]: Curve fit params: a=8.1445, b=7.4442, c=0.0001\n",
      "[Debug Trial 1]: Extrapolated to step 9: 0.7048\n",
      "Predicted final performance: 0.7048467596556733\n",
      "[Debug Trial 1]: No completed trials yet\n"
     ]
    },
    {
     "name": "stderr",
     "output_type": "stream",
     "text": [
      "C:\\Users\\Obidur Rahman\\AppData\\Local\\Temp\\ipykernel_3964\\3441492807.py:144: OptimizeWarning: Covariance of the parameters could not be estimated\n",
      "  popt, _ = curve_fit(saturating_func, steps, values, p0=p0, maxfev=1000)\n"
     ]
    },
    {
     "name": "stdout",
     "output_type": "stream",
     "text": [
      "Trial 1, Step 4: 62 trees, OOB: 0.7107\n",
      "\n",
      "=== DEBUGGING TRIAL 1 ===\n",
      "Intermediate values: {0: 0.7040133779264214, 1: 0.697324414715719, 2: 0.697324414715719, 3: 0.705685618729097, 4: 0.7107023411371237}\n",
      "Current step: 4, Current value: 0.7107023411371237\n",
      "Steps for prediction: [0 1 2 3 4]\n",
      "Values for prediction: [0.70401338 0.69732441 0.69732441 0.70568562 0.71070234]\n",
      "[Debug Trial 1]: Curve fit params: a=44.9377, b=44.2390, c=0.0000\n",
      "[Debug Trial 1]: Extrapolated to step 12: 0.7247\n",
      "Predicted final performance: 0.7247434634773597\n",
      "[Debug Trial 1]: No completed trials yet\n",
      "Trial 1, Step 5: 125 trees, OOB: 0.7124\n",
      "\n",
      "=== DEBUGGING TRIAL 1 ===\n",
      "Intermediate values: {0: 0.7040133779264214, 1: 0.697324414715719, 2: 0.697324414715719, 3: 0.705685618729097, 4: 0.7107023411371237, 5: 0.7123745819397993}\n",
      "Current step: 5, Current value: 0.7123745819397993\n",
      "Steps for prediction: [0 1 2 3 4 5]\n",
      "Values for prediction: [0.70401338 0.69732441 0.69732441 0.70568562 0.71070234 0.71237458]\n",
      "[Debug Trial 1]: Curve fitting failed: Optimal parameters not found: Number of calls to function has reached maxfev = 1000., using linear extrapolation\n",
      "Predicted final performance: 0.7207357859531772\n",
      "[Debug Trial 1]: No completed trials yet\n",
      "Trial 1 completed with AUC: 0.7906\n",
      "Trial 2, Step 0: 4 trees, OOB: 0.6689\n",
      "\n",
      "=== DEBUGGING TRIAL 2 ===\n",
      "Intermediate values: {0: 0.6688963210702341}\n",
      "Current step: 0, Current value: 0.6688963210702341\n",
      "[Debug Trial 2]: Not enough steps (1 < 3)\n",
      "Trial 2, Step 1: 10 trees, OOB: 0.6689\n",
      "\n",
      "=== DEBUGGING TRIAL 2 ===\n",
      "Intermediate values: {0: 0.6688963210702341, 1: 0.6688963210702341}\n",
      "Current step: 1, Current value: 0.6688963210702341\n",
      "[Debug Trial 2]: Not enough steps (2 < 3)\n",
      "Trial 2, Step 2: 21 trees, OOB: 0.7074\n",
      "\n",
      "=== DEBUGGING TRIAL 2 ===\n",
      "Intermediate values: {0: 0.6688963210702341, 1: 0.6688963210702341, 2: 0.7073578595317725}\n",
      "Current step: 2, Current value: 0.7073578595317725\n",
      "Steps for prediction: [0 1 2]\n",
      "Values for prediction: [0.66889632 0.66889632 0.70735786]\n",
      "[Debug Trial 2]: Curve fit params: a=194.0474, b=193.3849, c=0.0001\n",
      "[Debug Trial 2]: Extrapolated to step 6: 0.7778\n",
      "Predicted final performance: 0.7778474143989342\n",
      "Completed trial values: [0.7905701754385964]\n",
      "Threshold (quantile 0.5): 0.7905701754385964\n",
      "Prediction vs threshold: 0.7778 vs 0.7906\n",
      "Decision: PRUNE\n",
      "🔥 PRUNING: 0.7778 < 0.7906\n",
      "Trial 2 pruned at step 2 (21 estimators, OOB: 0.7074)\n"
     ]
    },
    {
     "name": "stderr",
     "output_type": "stream",
     "text": [
      "C:\\Users\\Obidur Rahman\\AppData\\Local\\Temp\\ipykernel_3964\\3441492807.py:144: OptimizeWarning: Covariance of the parameters could not be estimated\n",
      "  popt, _ = curve_fit(saturating_func, steps, values, p0=p0, maxfev=1000)\n",
      "C:\\Users\\Obidur Rahman\\AppData\\Local\\Temp\\ipykernel_3964\\3441492807.py:144: OptimizeWarning: Covariance of the parameters could not be estimated\n",
      "  popt, _ = curve_fit(saturating_func, steps, values, p0=p0, maxfev=1000)\n"
     ]
    },
    {
     "name": "stdout",
     "output_type": "stream",
     "text": [
      "Trial 3, Step 0: 2 trees, OOB: 0.7441\n",
      "\n",
      "=== DEBUGGING TRIAL 3 ===\n",
      "Intermediate values: {0: 0.7441471571906354}\n",
      "Current step: 0, Current value: 0.7441471571906354\n",
      "[Debug Trial 3]: Not enough steps (1 < 3)\n",
      "Trial 3, Step 1: 7 trees, OOB: 0.7676\n",
      "\n",
      "=== DEBUGGING TRIAL 3 ===\n",
      "Intermediate values: {0: 0.7441471571906354, 1: 0.7675585284280937}\n",
      "Current step: 1, Current value: 0.7675585284280937\n",
      "[Debug Trial 3]: Not enough steps (2 < 3)\n",
      "Trial 3, Step 2: 14 trees, OOB: 0.7726\n",
      "\n",
      "=== DEBUGGING TRIAL 3 ===\n",
      "Intermediate values: {0: 0.7441471571906354, 1: 0.7675585284280937, 2: 0.7725752508361204}\n",
      "Current step: 2, Current value: 0.7725752508361204\n",
      "Steps for prediction: [0 1 2]\n",
      "Values for prediction: [0.74414716 0.76755853 0.77257525]\n",
      "[Debug Trial 3]: Curve fit params: a=0.7739, b=0.0298, c=1.5404\n",
      "[Debug Trial 3]: Extrapolated to step 6: 0.7739\n",
      "Predicted final performance: 0.7739405630179171\n",
      "Completed trial values: [0.7905701754385964]\n",
      "Threshold (quantile 0.5): 0.7905701754385964\n",
      "Prediction vs threshold: 0.7739 vs 0.7906\n",
      "Decision: PRUNE\n",
      "🔥 PRUNING: 0.7739 < 0.7906\n",
      "Trial 3 pruned at step 2 (14 estimators, OOB: 0.7726)\n",
      "Trial 4, Step 0: 2 trees, OOB: 0.6923\n",
      "\n",
      "=== DEBUGGING TRIAL 4 ===\n",
      "Intermediate values: {0: 0.6923076923076923}\n",
      "Current step: 0, Current value: 0.6923076923076923\n",
      "[Debug Trial 4]: Not enough steps (1 < 3)\n",
      "Trial 4, Step 1: 5 trees, OOB: 0.6990\n",
      "\n",
      "=== DEBUGGING TRIAL 4 ===\n",
      "Intermediate values: {0: 0.6923076923076923, 1: 0.6989966555183946}\n",
      "Current step: 1, Current value: 0.6989966555183946\n",
      "[Debug Trial 4]: Not enough steps (2 < 3)\n",
      "Trial 4, Step 2: 11 trees, OOB: 0.6940\n",
      "\n",
      "=== DEBUGGING TRIAL 4 ===\n",
      "Intermediate values: {0: 0.6923076923076923, 1: 0.6989966555183946, 2: 0.6939799331103679}\n",
      "Current step: 2, Current value: 0.6939799331103679\n",
      "Steps for prediction: [0 1 2]\n",
      "Values for prediction: [0.69230769 0.69899666 0.69397993]\n",
      "[Debug Trial 4]: Curve fit params: a=0.6965, b=0.0042, c=20.3874\n",
      "[Debug Trial 4]: Extrapolated to step 6: 0.6965\n",
      "Predicted final performance: 0.6964882943173059\n",
      "Completed trial values: [0.7905701754385964]\n",
      "Threshold (quantile 0.5): 0.7905701754385964\n",
      "Prediction vs threshold: 0.6965 vs 0.7906\n",
      "Decision: PRUNE\n",
      "🔥 PRUNING: 0.6965 < 0.7906\n",
      "Trial 4 pruned at step 2 (11 estimators, OOB: 0.6940)\n",
      "Trial 5, Step 0: 3 trees, OOB: 0.6856\n",
      "\n",
      "=== DEBUGGING TRIAL 5 ===\n",
      "Intermediate values: {0: 0.68561872909699}\n",
      "Current step: 0, Current value: 0.68561872909699\n",
      "[Debug Trial 5]: Not enough steps (1 < 3)\n",
      "Trial 5, Step 1: 7 trees, OOB: 0.6890\n",
      "\n",
      "=== DEBUGGING TRIAL 5 ===\n",
      "Intermediate values: {0: 0.68561872909699, 1: 0.6889632107023411}\n",
      "Current step: 1, Current value: 0.6889632107023411\n",
      "[Debug Trial 5]: Not enough steps (2 < 3)\n",
      "Trial 5, Step 2: 15 trees, OOB: 0.6890\n",
      "\n",
      "=== DEBUGGING TRIAL 5 ===\n",
      "Intermediate values: {0: 0.68561872909699, 1: 0.6889632107023411, 2: 0.6889632107023411}\n",
      "Current step: 2, Current value: 0.6889632107023411\n",
      "Steps for prediction: [0 1 2]\n",
      "Values for prediction: [0.68561873 0.68896321 0.68896321]\n",
      "[Debug Trial 5]: Curve fit params: a=0.6890, b=0.0033, c=16.0742\n",
      "[Debug Trial 5]: Extrapolated to step 6: 0.6890\n",
      "Predicted final performance: 0.6889632108770734\n",
      "Completed trial values: [0.7905701754385964]\n",
      "Threshold (quantile 0.5): 0.7905701754385964\n",
      "Prediction vs threshold: 0.6890 vs 0.7906\n",
      "Decision: PRUNE\n",
      "🔥 PRUNING: 0.6890 < 0.7906\n",
      "Trial 5 pruned at step 2 (15 estimators, OOB: 0.6890)\n"
     ]
    },
    {
     "name": "stderr",
     "output_type": "stream",
     "text": [
      "C:\\Users\\Obidur Rahman\\AppData\\Local\\Temp\\ipykernel_3964\\3441492807.py:144: OptimizeWarning: Covariance of the parameters could not be estimated\n",
      "  popt, _ = curve_fit(saturating_func, steps, values, p0=p0, maxfev=1000)\n",
      "C:\\Users\\Obidur Rahman\\AppData\\Local\\Temp\\ipykernel_3964\\3441492807.py:144: OptimizeWarning: Covariance of the parameters could not be estimated\n",
      "  popt, _ = curve_fit(saturating_func, steps, values, p0=p0, maxfev=1000)\n"
     ]
    },
    {
     "name": "stdout",
     "output_type": "stream",
     "text": [
      "Trial 6, Step 0: 2 trees, OOB: 0.7425\n",
      "\n",
      "=== DEBUGGING TRIAL 6 ===\n",
      "Intermediate values: {0: 0.7424749163879598}\n",
      "Current step: 0, Current value: 0.7424749163879598\n",
      "[Debug Trial 6]: Not enough steps (1 < 3)\n",
      "Trial 6, Step 1: 6 trees, OOB: 0.7559\n",
      "\n",
      "=== DEBUGGING TRIAL 6 ===\n",
      "Intermediate values: {0: 0.7424749163879598, 1: 0.7558528428093646}\n",
      "Current step: 1, Current value: 0.7558528428093646\n",
      "[Debug Trial 6]: Not enough steps (2 < 3)\n",
      "Trial 6, Step 2: 12 trees, OOB: 0.7759\n",
      "\n",
      "=== DEBUGGING TRIAL 6 ===\n",
      "Intermediate values: {0: 0.7424749163879598, 1: 0.7558528428093646, 2: 0.7759197324414716}\n",
      "Current step: 2, Current value: 0.7759197324414716\n",
      "Steps for prediction: [0 1 2]\n",
      "Values for prediction: [0.74247492 0.75585284 0.77591973]\n",
      "[Debug Trial 6]: Curve fitting failed: Optimal parameters not found: Number of calls to function has reached maxfev = 1000., using linear extrapolation\n",
      "Predicted final performance: 0.8160535117056856\n",
      "Completed trial values: [0.7905701754385964]\n",
      "Threshold (quantile 0.5): 0.7905701754385964\n",
      "Prediction vs threshold: 0.8161 vs 0.7906\n",
      "Decision: CONTINUE\n",
      "✅ CONTINUING: 0.8161 >= 0.7906\n",
      "Trial 6, Step 3: 25 trees, OOB: 0.7926\n",
      "\n",
      "=== DEBUGGING TRIAL 6 ===\n",
      "Intermediate values: {0: 0.7424749163879598, 1: 0.7558528428093646, 2: 0.7759197324414716, 3: 0.7926421404682275}\n",
      "Current step: 3, Current value: 0.7926421404682275\n",
      "Steps for prediction: [0 1 2 3]\n",
      "Values for prediction: [0.74247492 0.75585284 0.77591973 0.79264214]\n",
      "[Debug Trial 6]: Curve fitting failed: Optimal parameters not found: Number of calls to function has reached maxfev = 1000., using linear extrapolation\n",
      "Predicted final performance: 0.842809364548495\n",
      "Completed trial values: [0.7905701754385964]\n",
      "Threshold (quantile 0.5): 0.7905701754385964\n",
      "Prediction vs threshold: 0.8428 vs 0.7906\n",
      "Decision: CONTINUE\n",
      "✅ CONTINUING: 0.8428 >= 0.7906\n",
      "Trial 6, Step 4: 64 trees, OOB: 0.7893\n",
      "\n",
      "=== DEBUGGING TRIAL 6 ===\n",
      "Intermediate values: {0: 0.7424749163879598, 1: 0.7558528428093646, 2: 0.7759197324414716, 3: 0.7926421404682275, 4: 0.7892976588628763}\n",
      "Current step: 4, Current value: 0.7892976588628763\n",
      "Steps for prediction: [0 1 2 3 4]\n",
      "Values for prediction: [0.74247492 0.75585284 0.77591973 0.79264214 0.78929766]\n",
      "[Debug Trial 6]: Curve fit params: a=0.8134, b=0.0728, c=0.3252\n",
      "[Debug Trial 6]: Extrapolated to step 12: 0.8119\n",
      "Predicted final performance: 0.811882906698228\n",
      "Completed trial values: [0.7905701754385964]\n",
      "Threshold (quantile 0.5): 0.7905701754385964\n",
      "Prediction vs threshold: 0.8119 vs 0.7906\n",
      "Decision: CONTINUE\n",
      "✅ CONTINUING: 0.8119 >= 0.7906\n",
      "Trial 6, Step 5: 128 trees, OOB: 0.7910\n",
      "\n",
      "=== DEBUGGING TRIAL 6 ===\n",
      "Intermediate values: {0: 0.7424749163879598, 1: 0.7558528428093646, 2: 0.7759197324414716, 3: 0.7926421404682275, 4: 0.7892976588628763, 5: 0.7909698996655519}\n",
      "Current step: 5, Current value: 0.7909698996655519\n",
      "Steps for prediction: [0 1 2 3 4 5]\n",
      "Values for prediction: [0.74247492 0.75585284 0.77591973 0.79264214 0.78929766 0.7909699 ]\n",
      "[Debug Trial 6]: Curve fit params: a=0.8006, b=0.0604, c=0.4459\n",
      "[Debug Trial 6]: Extrapolated to step 15: 0.8005\n",
      "Predicted final performance: 0.800501122565779\n",
      "Completed trial values: [0.7905701754385964]\n",
      "Threshold (quantile 0.5): 0.7905701754385964\n",
      "Prediction vs threshold: 0.8005 vs 0.7906\n",
      "Decision: CONTINUE\n",
      "✅ CONTINUING: 0.8005 >= 0.7906\n",
      "Trial 6 completed with AUC: 0.7939\n",
      "Trial 7, Step 0: 1 trees, OOB: nan\n",
      "\n",
      "=== DEBUGGING TRIAL 7 ===\n",
      "Intermediate values: {0: nan}\n",
      "Current step: 0, Current value: nan\n",
      "[Debug Trial 7]: Not enough steps (1 < 3)\n",
      "Trial 7, Step 1: 2 trees, OOB: 0.7441\n",
      "\n",
      "=== DEBUGGING TRIAL 7 ===\n",
      "Intermediate values: {0: nan, 1: 0.7441471571906354}\n",
      "Current step: 1, Current value: 0.7441471571906354\n",
      "[Debug Trial 7]: Not enough steps (2 < 3)\n",
      "Trial 7, Step 2: 5 trees, OOB: 0.7458\n",
      "\n",
      "=== DEBUGGING TRIAL 7 ===\n",
      "Intermediate values: {0: nan, 1: 0.7441471571906354, 2: 0.745819397993311}\n",
      "Current step: 2, Current value: 0.745819397993311\n",
      "Steps for prediction: [0 1 2]\n",
      "Values for prediction: [       nan 0.74414716 0.7458194 ]\n",
      "[Debug Trial 7]: Curve fitting failed: array must not contain infs or NaNs, using linear extrapolation\n",
      "Predicted final performance: 0.7491638795986622\n",
      "Completed trial values: [0.7905701754385964, 0.7938596491228068]\n",
      "Threshold (quantile 0.5): 0.7922149122807016\n",
      "Prediction vs threshold: 0.7492 vs 0.7922\n",
      "Decision: PRUNE\n",
      "🔥 PRUNING: 0.7492 < 0.7922\n",
      "Trial 7 pruned at step 2 (5 estimators, OOB: 0.7458)\n",
      "Trial 8, Step 0: 2 trees, OOB: 0.7441\n",
      "\n",
      "=== DEBUGGING TRIAL 8 ===\n",
      "Intermediate values: {0: 0.7441471571906354}\n",
      "Current step: 0, Current value: 0.7441471571906354\n",
      "[Debug Trial 8]: Not enough steps (1 < 3)\n",
      "Trial 8, Step 1: 5 trees, OOB: 0.7458\n",
      "\n",
      "=== DEBUGGING TRIAL 8 ===\n",
      "Intermediate values: {0: 0.7441471571906354, 1: 0.745819397993311}\n",
      "Current step: 1, Current value: 0.745819397993311\n",
      "[Debug Trial 8]: Not enough steps (2 < 3)\n",
      "Trial 8, Step 2: 11 trees, OOB: 0.7709\n",
      "\n",
      "=== DEBUGGING TRIAL 8 ===\n",
      "Intermediate values: {0: 0.7441471571906354, 1: 0.745819397993311, 2: 0.7709030100334449}\n",
      "Current step: 2, Current value: 0.7709030100334449\n",
      "Steps for prediction: [0 1 2]\n",
      "Values for prediction: [0.74414716 0.7458194  0.77090301]\n",
      "[Debug Trial 8]: Curve fit params: a=128.1833, b=127.4431, c=0.0001\n",
      "[Debug Trial 8]: Extrapolated to step 6: 0.8205\n",
      "Predicted final performance: 0.8204930862785034\n",
      "Completed trial values: [0.7905701754385964, 0.7938596491228068]\n",
      "Threshold (quantile 0.5): 0.7922149122807016\n",
      "Prediction vs threshold: 0.8205 vs 0.7922\n",
      "Decision: CONTINUE\n",
      "✅ CONTINUING: 0.8205 >= 0.7922\n"
     ]
    },
    {
     "name": "stderr",
     "output_type": "stream",
     "text": [
      "C:\\Users\\Obidur Rahman\\AppData\\Local\\Temp\\ipykernel_3964\\3441492807.py:144: OptimizeWarning: Covariance of the parameters could not be estimated\n",
      "  popt, _ = curve_fit(saturating_func, steps, values, p0=p0, maxfev=1000)\n"
     ]
    },
    {
     "name": "stdout",
     "output_type": "stream",
     "text": [
      "Trial 8, Step 3: 22 trees, OOB: 0.7776\n",
      "\n",
      "=== DEBUGGING TRIAL 8 ===\n",
      "Intermediate values: {0: 0.7441471571906354, 1: 0.745819397993311, 2: 0.7709030100334449, 3: 0.7775919732441472}\n",
      "Current step: 3, Current value: 0.7775919732441472\n",
      "Steps for prediction: [0 1 2 3]\n",
      "Values for prediction: [0.74414716 0.7458194  0.77090301 0.77759197]\n",
      "[Debug Trial 8]: Curve fitting failed: Optimal parameters not found: Number of calls to function has reached maxfev = 1000., using linear extrapolation\n",
      "Predicted final performance: 0.7976588628762542\n",
      "Completed trial values: [0.7905701754385964, 0.7938596491228068]\n",
      "Threshold (quantile 0.5): 0.7922149122807016\n",
      "Prediction vs threshold: 0.7977 vs 0.7922\n",
      "Decision: CONTINUE\n",
      "✅ CONTINUING: 0.7977 >= 0.7922\n",
      "Trial 8, Step 4: 56 trees, OOB: 0.7809\n",
      "\n",
      "=== DEBUGGING TRIAL 8 ===\n",
      "Intermediate values: {0: 0.7441471571906354, 1: 0.745819397993311, 2: 0.7709030100334449, 3: 0.7775919732441472, 4: 0.7809364548494984}\n",
      "Current step: 4, Current value: 0.7809364548494984\n",
      "Steps for prediction: [0 1 2 3 4]\n",
      "Values for prediction: [0.74414716 0.7458194  0.77090301 0.77759197 0.78093645]\n",
      "[Debug Trial 8]: Curve fit params: a=0.8319, b=0.0908, c=0.1567\n",
      "[Debug Trial 8]: Extrapolated to step 12: 0.8181\n",
      "Predicted final performance: 0.818057777931824\n",
      "Completed trial values: [0.7905701754385964, 0.7938596491228068]\n",
      "Threshold (quantile 0.5): 0.7922149122807016\n",
      "Prediction vs threshold: 0.8181 vs 0.7922\n",
      "Decision: CONTINUE\n",
      "✅ CONTINUING: 0.8181 >= 0.7922\n",
      "Trial 8, Step 5: 112 trees, OOB: 0.7826\n",
      "\n",
      "=== DEBUGGING TRIAL 8 ===\n",
      "Intermediate values: {0: 0.7441471571906354, 1: 0.745819397993311, 2: 0.7709030100334449, 3: 0.7775919732441472, 4: 0.7809364548494984, 5: 0.782608695652174}\n",
      "Current step: 5, Current value: 0.782608695652174\n",
      "Steps for prediction: [0 1 2 3 4 5]\n",
      "Values for prediction: [0.74414716 0.7458194  0.77090301 0.77759197 0.78093645 0.7826087 ]\n",
      "[Debug Trial 8]: Curve fit params: a=0.7990, b=0.0583, c=0.2867\n",
      "[Debug Trial 8]: Extrapolated to step 15: 0.7982\n",
      "Predicted final performance: 0.798232950864718\n",
      "Completed trial values: [0.7905701754385964, 0.7938596491228068]\n",
      "Threshold (quantile 0.5): 0.7922149122807016\n",
      "Prediction vs threshold: 0.7982 vs 0.7922\n",
      "Decision: CONTINUE\n",
      "✅ CONTINUING: 0.7982 >= 0.7922\n",
      "Trial 8 completed with AUC: 0.7970\n",
      "Trial 9, Step 0: 3 trees, OOB: 0.7007\n",
      "\n",
      "=== DEBUGGING TRIAL 9 ===\n",
      "Intermediate values: {0: 0.7006688963210702}\n",
      "Current step: 0, Current value: 0.7006688963210702\n",
      "[Debug Trial 9]: Not enough steps (1 < 3)\n",
      "Trial 9, Step 1: 7 trees, OOB: 0.6906\n",
      "\n",
      "=== DEBUGGING TRIAL 9 ===\n",
      "Intermediate values: {0: 0.7006688963210702, 1: 0.6906354515050167}\n",
      "Current step: 1, Current value: 0.6906354515050167\n",
      "[Debug Trial 9]: Not enough steps (2 < 3)\n",
      "Trial 9, Step 2: 15 trees, OOB: 0.7090\n",
      "\n",
      "=== DEBUGGING TRIAL 9 ===\n",
      "Intermediate values: {0: 0.7006688963210702, 1: 0.6906354515050167, 2: 0.7090301003344481}\n",
      "Current step: 2, Current value: 0.7090301003344481\n",
      "Steps for prediction: [0 1 2]\n",
      "Values for prediction: [0.7006689  0.69063545 0.7090301 ]\n",
      "[Debug Trial 9]: Curve fit params: a=54.0553, b=53.3594, c=0.0001\n",
      "[Debug Trial 9]: Extrapolated to step 6: 0.7210\n",
      "Predicted final performance: 0.7210063860961995\n",
      "Completed trial values: [0.7905701754385964, 0.7938596491228068, 0.797027290448343]\n",
      "Threshold (quantile 0.5): 0.7938596491228068\n",
      "Prediction vs threshold: 0.7210 vs 0.7939\n",
      "Decision: PRUNE\n",
      "🔥 PRUNING: 0.7210 < 0.7939\n",
      "Trial 9 pruned at step 2 (15 estimators, OOB: 0.7090)\n",
      "Trial 10, Step 0: 1 trees, OOB: nan\n",
      "\n",
      "=== DEBUGGING TRIAL 10 ===\n",
      "Intermediate values: {0: nan}\n",
      "Current step: 0, Current value: nan\n",
      "[Debug Trial 10]: Not enough steps (1 < 3)\n",
      "Trial 10, Step 1: 4 trees, OOB: 0.7492\n",
      "\n",
      "=== DEBUGGING TRIAL 10 ===\n",
      "Intermediate values: {0: nan, 1: 0.7491638795986622}\n",
      "Current step: 1, Current value: 0.7491638795986622\n",
      "[Debug Trial 10]: Not enough steps (2 < 3)\n",
      "Trial 10, Step 2: 9 trees, OOB: 0.7475\n",
      "\n",
      "=== DEBUGGING TRIAL 10 ===\n",
      "Intermediate values: {0: nan, 1: 0.7491638795986622, 2: 0.7474916387959866}\n",
      "Current step: 2, Current value: 0.7474916387959866\n",
      "Steps for prediction: [0 1 2]\n",
      "Values for prediction: [       nan 0.74916388 0.74749164]\n",
      "[Debug Trial 10]: Curve fitting failed: array must not contain infs or NaNs, using linear extrapolation\n",
      "Predicted final performance: 0.7441471571906354\n",
      "Completed trial values: [0.7905701754385964, 0.7938596491228068, 0.797027290448343]\n",
      "Threshold (quantile 0.5): 0.7938596491228068\n",
      "Prediction vs threshold: 0.7441 vs 0.7939\n",
      "Decision: PRUNE\n",
      "🔥 PRUNING: 0.7441 < 0.7939\n",
      "Trial 10 pruned at step 2 (9 estimators, OOB: 0.7475)\n"
     ]
    },
    {
     "name": "stderr",
     "output_type": "stream",
     "text": [
      "C:\\Users\\Obidur Rahman\\AppData\\Local\\Temp\\ipykernel_3964\\3441492807.py:144: OptimizeWarning: Covariance of the parameters could not be estimated\n",
      "  popt, _ = curve_fit(saturating_func, steps, values, p0=p0, maxfev=1000)\n"
     ]
    },
    {
     "name": "stdout",
     "output_type": "stream",
     "text": [
      "Trial 11, Step 0: 4 trees, OOB: 0.7609\n",
      "\n",
      "=== DEBUGGING TRIAL 11 ===\n",
      "Intermediate values: {0: 0.7608695652173914}\n",
      "Current step: 0, Current value: 0.7608695652173914\n",
      "[Debug Trial 11]: Not enough steps (1 < 3)\n",
      "Trial 11, Step 1: 10 trees, OOB: 0.7793\n",
      "\n",
      "=== DEBUGGING TRIAL 11 ===\n",
      "Intermediate values: {0: 0.7608695652173914, 1: 0.7792642140468228}\n",
      "Current step: 1, Current value: 0.7792642140468228\n",
      "[Debug Trial 11]: Not enough steps (2 < 3)\n",
      "Trial 11, Step 2: 20 trees, OOB: 0.7826\n",
      "\n",
      "=== DEBUGGING TRIAL 11 ===\n",
      "Intermediate values: {0: 0.7608695652173914, 1: 0.7792642140468228, 2: 0.782608695652174}\n",
      "Current step: 2, Current value: 0.782608695652174\n",
      "Steps for prediction: [0 1 2]\n",
      "Values for prediction: [0.76086957 0.77926421 0.7826087 ]\n",
      "[Debug Trial 11]: Curve fit params: a=0.7834, b=0.0225, c=1.7047\n",
      "[Debug Trial 11]: Extrapolated to step 6: 0.7834\n",
      "Predicted final performance: 0.7833511015819187\n",
      "Completed trial values: [0.7905701754385964, 0.7938596491228068, 0.797027290448343]\n",
      "Threshold (quantile 0.5): 0.7938596491228068\n",
      "Prediction vs threshold: 0.7834 vs 0.7939\n",
      "Decision: PRUNE\n",
      "🔥 PRUNING: 0.7834 < 0.7939\n",
      "Trial 11 pruned at step 2 (20 estimators, OOB: 0.7826)\n",
      "Trial 12, Step 0: 1 trees, OOB: nan\n",
      "\n",
      "=== DEBUGGING TRIAL 12 ===\n",
      "Intermediate values: {0: nan}\n",
      "Current step: 0, Current value: nan\n",
      "[Debug Trial 12]: Not enough steps (1 < 3)\n",
      "Trial 12, Step 1: 4 trees, OOB: 0.7475\n",
      "\n",
      "=== DEBUGGING TRIAL 12 ===\n",
      "Intermediate values: {0: nan, 1: 0.7474916387959866}\n",
      "Current step: 1, Current value: 0.7474916387959866\n",
      "[Debug Trial 12]: Not enough steps (2 < 3)\n",
      "Trial 12, Step 2: 8 trees, OOB: 0.7726\n",
      "\n",
      "=== DEBUGGING TRIAL 12 ===\n",
      "Intermediate values: {0: nan, 1: 0.7474916387959866, 2: 0.7725752508361204}\n",
      "Current step: 2, Current value: 0.7725752508361204\n",
      "Steps for prediction: [0 1 2]\n",
      "Values for prediction: [       nan 0.74749164 0.77257525]\n",
      "[Debug Trial 12]: Curve fitting failed: array must not contain infs or NaNs, using linear extrapolation\n",
      "Predicted final performance: 0.8227424749163882\n"
     ]
    },
    {
     "name": "stderr",
     "output_type": "stream",
     "text": [
      "C:\\Users\\Obidur Rahman\\AppData\\Local\\Temp\\ipykernel_3964\\3441492807.py:144: OptimizeWarning: Covariance of the parameters could not be estimated\n",
      "  popt, _ = curve_fit(saturating_func, steps, values, p0=p0, maxfev=1000)\n"
     ]
    },
    {
     "name": "stdout",
     "output_type": "stream",
     "text": [
      "Completed trial values: [0.7905701754385964, 0.7938596491228068, 0.797027290448343]\n",
      "Threshold (quantile 0.5): 0.7938596491228068\n",
      "Prediction vs threshold: 0.8227 vs 0.7939\n",
      "Decision: CONTINUE\n",
      "✅ CONTINUING: 0.8227 >= 0.7939\n",
      "Trial 12, Step 3: 16 trees, OOB: 0.7809\n",
      "\n",
      "=== DEBUGGING TRIAL 12 ===\n",
      "Intermediate values: {0: nan, 1: 0.7474916387959866, 2: 0.7725752508361204, 3: 0.7809364548494984}\n",
      "Current step: 3, Current value: 0.7809364548494984\n",
      "Steps for prediction: [0 1 2 3]\n",
      "Values for prediction: [       nan 0.74749164 0.77257525 0.78093645]\n",
      "[Debug Trial 12]: Curve fitting failed: array must not contain infs or NaNs, using linear extrapolation\n",
      "Predicted final performance: 0.8060200668896321\n",
      "Completed trial values: [0.7905701754385964, 0.7938596491228068, 0.797027290448343]\n",
      "Threshold (quantile 0.5): 0.7938596491228068\n",
      "Prediction vs threshold: 0.8060 vs 0.7939\n",
      "Decision: CONTINUE\n",
      "✅ CONTINUING: 0.8060 >= 0.7939\n",
      "Trial 12, Step 4: 40 trees, OOB: 0.7943\n",
      "\n",
      "=== DEBUGGING TRIAL 12 ===\n",
      "Intermediate values: {0: nan, 1: 0.7474916387959866, 2: 0.7725752508361204, 3: 0.7809364548494984, 4: 0.794314381270903}\n",
      "Current step: 4, Current value: 0.794314381270903\n",
      "Steps for prediction: [0 1 2 3 4]\n",
      "Values for prediction: [       nan 0.74749164 0.77257525 0.78093645 0.79431438]\n",
      "[Debug Trial 12]: Curve fitting failed: array must not contain infs or NaNs, using linear extrapolation\n",
      "Predicted final performance: 0.8478260869565217\n",
      "Completed trial values: [0.7905701754385964, 0.7938596491228068, 0.797027290448343]\n",
      "Threshold (quantile 0.5): 0.7938596491228068\n",
      "Prediction vs threshold: 0.8478 vs 0.7939\n",
      "Decision: CONTINUE\n",
      "✅ CONTINUING: 0.8478 >= 0.7939\n",
      "Trial 12, Step 5: 80 trees, OOB: 0.7860\n",
      "\n",
      "=== DEBUGGING TRIAL 12 ===\n",
      "Intermediate values: {0: nan, 1: 0.7474916387959866, 2: 0.7725752508361204, 3: 0.7809364548494984, 4: 0.794314381270903, 5: 0.7859531772575251}\n",
      "Current step: 5, Current value: 0.7859531772575251\n",
      "Steps for prediction: [0 1 2 3 4 5]\n",
      "Values for prediction: [       nan 0.74749164 0.77257525 0.78093645 0.79431438 0.78595318]\n",
      "[Debug Trial 12]: Curve fitting failed: array must not contain infs or NaNs, using linear extrapolation\n",
      "Predicted final performance: 0.7441471571906355\n",
      "Completed trial values: [0.7905701754385964, 0.7938596491228068, 0.797027290448343]\n",
      "Threshold (quantile 0.5): 0.7938596491228068\n",
      "Prediction vs threshold: 0.7441 vs 0.7939\n",
      "Decision: PRUNE\n",
      "🔥 PRUNING: 0.7441 < 0.7939\n",
      "Trial 12 pruned at step 5 (80 estimators, OOB: 0.7860)\n",
      "Trial 13, Step 0: 3 trees, OOB: 0.7542\n",
      "\n",
      "=== DEBUGGING TRIAL 13 ===\n",
      "Intermediate values: {0: 0.754180602006689}\n",
      "Current step: 0, Current value: 0.754180602006689\n",
      "[Debug Trial 13]: Not enough steps (1 < 3)\n",
      "Trial 13, Step 1: 9 trees, OOB: 0.7592\n",
      "\n",
      "=== DEBUGGING TRIAL 13 ===\n",
      "Intermediate values: {0: 0.754180602006689, 1: 0.7591973244147158}\n",
      "Current step: 1, Current value: 0.7591973244147158\n",
      "[Debug Trial 13]: Not enough steps (2 < 3)\n",
      "Trial 13, Step 2: 18 trees, OOB: 0.7692\n",
      "\n",
      "=== DEBUGGING TRIAL 13 ===\n",
      "Intermediate values: {0: 0.754180602006689, 1: 0.7591973244147158, 2: 0.7692307692307693}\n",
      "Current step: 2, Current value: 0.7692307692307693\n",
      "Steps for prediction: [0 1 2]\n",
      "Values for prediction: [0.7541806  0.75919732 0.76923077]\n",
      "[Debug Trial 13]: Curve fitting failed: Optimal parameters not found: Number of calls to function has reached maxfev = 1000., using linear extrapolation\n",
      "Predicted final performance: 0.7892976588628763\n",
      "Completed trial values: [0.7905701754385964, 0.7938596491228068, 0.797027290448343]\n",
      "Threshold (quantile 0.5): 0.7938596491228068\n",
      "Prediction vs threshold: 0.7893 vs 0.7939\n",
      "Decision: PRUNE\n",
      "🔥 PRUNING: 0.7893 < 0.7939\n",
      "Trial 13 pruned at step 2 (18 estimators, OOB: 0.7692)\n",
      "Trial 14, Step 0: 1 trees, OOB: nan\n",
      "\n",
      "=== DEBUGGING TRIAL 14 ===\n",
      "Intermediate values: {0: nan}\n",
      "Current step: 0, Current value: nan\n",
      "[Debug Trial 14]: Not enough steps (1 < 3)\n",
      "Trial 14, Step 1: 3 trees, OOB: 0.7542\n",
      "\n",
      "=== DEBUGGING TRIAL 14 ===\n",
      "Intermediate values: {0: nan, 1: 0.754180602006689}\n",
      "Current step: 1, Current value: 0.754180602006689\n",
      "[Debug Trial 14]: Not enough steps (2 < 3)\n",
      "Trial 14, Step 2: 7 trees, OOB: 0.7575\n",
      "\n",
      "=== DEBUGGING TRIAL 14 ===\n",
      "Intermediate values: {0: nan, 1: 0.754180602006689, 2: 0.7575250836120402}\n",
      "Current step: 2, Current value: 0.7575250836120402\n",
      "Steps for prediction: [0 1 2]\n",
      "Values for prediction: [       nan 0.7541806  0.75752508]\n",
      "[Debug Trial 14]: Curve fitting failed: array must not contain infs or NaNs, using linear extrapolation\n",
      "Predicted final performance: 0.7642140468227425\n",
      "Completed trial values: [0.7905701754385964, 0.7938596491228068, 0.797027290448343]\n",
      "Threshold (quantile 0.5): 0.7938596491228068\n",
      "Prediction vs threshold: 0.7642 vs 0.7939\n",
      "Decision: PRUNE\n",
      "🔥 PRUNING: 0.7642 < 0.7939\n",
      "Trial 14 pruned at step 2 (7 estimators, OOB: 0.7575)\n",
      "Trial 15, Step 0: 2 trees, OOB: 0.7525\n",
      "\n",
      "=== DEBUGGING TRIAL 15 ===\n",
      "Intermediate values: {0: 0.7525083612040134}\n",
      "Current step: 0, Current value: 0.7525083612040134\n",
      "[Debug Trial 15]: Not enough steps (1 < 3)\n",
      "Trial 15, Step 1: 5 trees, OOB: 0.7575\n",
      "\n",
      "=== DEBUGGING TRIAL 15 ===\n",
      "Intermediate values: {0: 0.7525083612040134, 1: 0.7575250836120402}\n",
      "Current step: 1, Current value: 0.7575250836120402\n",
      "[Debug Trial 15]: Not enough steps (2 < 3)\n",
      "Trial 15, Step 2: 11 trees, OOB: 0.7726\n",
      "\n",
      "=== DEBUGGING TRIAL 15 ===\n",
      "Intermediate values: {0: 0.7525083612040134, 1: 0.7575250836120402, 2: 0.7725752508361204}\n",
      "Current step: 2, Current value: 0.7725752508361204\n",
      "Steps for prediction: [0 1 2]\n",
      "Values for prediction: [0.75250836 0.75752508 0.77257525]\n",
      "[Debug Trial 15]: Curve fitting failed: Optimal parameters not found: Number of calls to function has reached maxfev = 1000., using linear extrapolation\n",
      "Predicted final performance: 0.802675585284281\n",
      "Completed trial values: [0.7905701754385964, 0.7938596491228068, 0.797027290448343]\n",
      "Threshold (quantile 0.5): 0.7938596491228068\n",
      "Prediction vs threshold: 0.8027 vs 0.7939\n",
      "Decision: CONTINUE\n",
      "✅ CONTINUING: 0.8027 >= 0.7939\n",
      "Trial 15, Step 3: 23 trees, OOB: 0.7876\n",
      "\n",
      "=== DEBUGGING TRIAL 15 ===\n",
      "Intermediate values: {0: 0.7525083612040134, 1: 0.7575250836120402, 2: 0.7725752508361204, 3: 0.7876254180602007}\n",
      "Current step: 3, Current value: 0.7876254180602007\n",
      "Steps for prediction: [0 1 2 3]\n",
      "Values for prediction: [0.75250836 0.75752508 0.77257525 0.78762542]\n",
      "[Debug Trial 15]: Curve fitting failed: Optimal parameters not found: Number of calls to function has reached maxfev = 1000., using linear extrapolation\n",
      "Predicted final performance: 0.8327759197324415\n",
      "Completed trial values: [0.7905701754385964, 0.7938596491228068, 0.797027290448343]\n",
      "Threshold (quantile 0.5): 0.7938596491228068\n",
      "Prediction vs threshold: 0.8328 vs 0.7939\n",
      "Decision: CONTINUE\n",
      "✅ CONTINUING: 0.8328 >= 0.7939\n",
      "Trial 15, Step 4: 59 trees, OOB: 0.7893\n",
      "\n",
      "=== DEBUGGING TRIAL 15 ===\n",
      "Intermediate values: {0: 0.7525083612040134, 1: 0.7575250836120402, 2: 0.7725752508361204, 3: 0.7876254180602007, 4: 0.7892976588628763}\n",
      "Current step: 4, Current value: 0.7892976588628763\n",
      "Steps for prediction: [0 1 2 3 4]\n",
      "Values for prediction: [0.75250836 0.75752508 0.77257525 0.78762542 0.78929766]\n",
      "[Debug Trial 15]: Curve fit params: a=0.9138, b=0.1634, c=0.0733\n",
      "[Debug Trial 15]: Extrapolated to step 12: 0.8460\n",
      "Predicted final performance: 0.8459600055314439\n",
      "Completed trial values: [0.7905701754385964, 0.7938596491228068, 0.797027290448343]\n",
      "Threshold (quantile 0.5): 0.7938596491228068\n",
      "Prediction vs threshold: 0.8460 vs 0.7939\n",
      "Decision: CONTINUE\n",
      "✅ CONTINUING: 0.8460 >= 0.7939\n",
      "Trial 15, Step 5: 119 trees, OOB: 0.7860\n",
      "\n",
      "=== DEBUGGING TRIAL 15 ===\n",
      "Intermediate values: {0: 0.7525083612040134, 1: 0.7575250836120402, 2: 0.7725752508361204, 3: 0.7876254180602007, 4: 0.7892976588628763, 5: 0.7859531772575251}\n",
      "Current step: 5, Current value: 0.7859531772575251\n",
      "Steps for prediction: [0 1 2 3 4 5]\n",
      "Values for prediction: [0.75250836 0.75752508 0.77257525 0.78762542 0.78929766 0.78595318]\n",
      "[Debug Trial 15]: Curve fit params: a=0.8009, b=0.0512, c=0.3186\n",
      "[Debug Trial 15]: Extrapolated to step 15: 0.8005\n",
      "Predicted final performance: 0.8004925253963305\n",
      "Completed trial values: [0.7905701754385964, 0.7938596491228068, 0.797027290448343]\n",
      "Threshold (quantile 0.5): 0.7938596491228068\n",
      "Prediction vs threshold: 0.8005 vs 0.7939\n",
      "Decision: CONTINUE\n",
      "✅ CONTINUING: 0.8005 >= 0.7939\n",
      "Trial 15 completed with AUC: 0.7861\n",
      "Trial 16, Step 0: 5 trees, OOB: 0.7575\n",
      "\n",
      "=== DEBUGGING TRIAL 16 ===\n",
      "Intermediate values: {0: 0.7575250836120402}\n",
      "Current step: 0, Current value: 0.7575250836120402\n",
      "[Debug Trial 16]: Not enough steps (1 < 3)\n",
      "Trial 16, Step 1: 12 trees, OOB: 0.7575\n",
      "\n",
      "=== DEBUGGING TRIAL 16 ===\n",
      "Intermediate values: {0: 0.7575250836120402, 1: 0.7575250836120402}\n",
      "Current step: 1, Current value: 0.7575250836120402\n",
      "[Debug Trial 16]: Not enough steps (2 < 3)\n",
      "Trial 16, Step 2: 25 trees, OOB: 0.7592\n",
      "\n",
      "=== DEBUGGING TRIAL 16 ===\n",
      "Intermediate values: {0: 0.7575250836120402, 1: 0.7575250836120402, 2: 0.7591973244147158}\n",
      "Current step: 2, Current value: 0.7591973244147158\n",
      "Steps for prediction: [0 1 2]\n",
      "Values for prediction: [0.75752508 0.75752508 0.75919732]\n",
      "[Debug Trial 16]: Curve fit params: a=8.8126, b=8.0554, c=0.0001\n",
      "[Debug Trial 16]: Extrapolated to step 6: 0.7623\n",
      "Predicted final performance: 0.7622619432403202\n",
      "Completed trial values: [0.7905701754385964, 0.7938596491228068, 0.797027290448343, 0.7860623781676414]\n",
      "Threshold (quantile 0.5): 0.7922149122807016\n",
      "Prediction vs threshold: 0.7623 vs 0.7922\n",
      "Decision: PRUNE\n",
      "🔥 PRUNING: 0.7623 < 0.7922\n",
      "Trial 16 pruned at step 2 (25 estimators, OOB: 0.7592)\n",
      "Trial 17, Step 0: 3 trees, OOB: 0.7592\n",
      "\n",
      "=== DEBUGGING TRIAL 17 ===\n",
      "Intermediate values: {0: 0.7591973244147158}\n",
      "Current step: 0, Current value: 0.7591973244147158\n",
      "[Debug Trial 17]: Not enough steps (1 < 3)\n",
      "Trial 17, Step 1: 8 trees, OOB: 0.7625\n",
      "\n",
      "=== DEBUGGING TRIAL 17 ===\n",
      "Intermediate values: {0: 0.7591973244147158, 1: 0.7625418060200669}\n",
      "Current step: 1, Current value: 0.7625418060200669\n",
      "[Debug Trial 17]: Not enough steps (2 < 3)\n",
      "Trial 17, Step 2: 16 trees, OOB: 0.7726\n",
      "\n",
      "=== DEBUGGING TRIAL 17 ===\n",
      "Intermediate values: {0: 0.7591973244147158, 1: 0.7625418060200669, 2: 0.7725752508361204}\n",
      "Current step: 2, Current value: 0.7725752508361204\n",
      "Steps for prediction: [0 1 2]\n",
      "Values for prediction: [0.75919732 0.76254181 0.77257525]\n",
      "[Debug Trial 17]: Curve fitting failed: Optimal parameters not found: Number of calls to function has reached maxfev = 1000., using linear extrapolation\n",
      "Predicted final performance: 0.7926421404682275\n",
      "Completed trial values: [0.7905701754385964, 0.7938596491228068, 0.797027290448343, 0.7860623781676414]\n",
      "Threshold (quantile 0.5): 0.7922149122807016\n",
      "Prediction vs threshold: 0.7926 vs 0.7922\n",
      "Decision: CONTINUE\n",
      "✅ CONTINUING: 0.7926 >= 0.7922\n"
     ]
    },
    {
     "name": "stderr",
     "output_type": "stream",
     "text": [
      "C:\\Users\\Obidur Rahman\\AppData\\Local\\Temp\\ipykernel_3964\\3441492807.py:144: OptimizeWarning: Covariance of the parameters could not be estimated\n",
      "  popt, _ = curve_fit(saturating_func, steps, values, p0=p0, maxfev=1000)\n"
     ]
    },
    {
     "name": "stdout",
     "output_type": "stream",
     "text": [
      "Trial 17, Step 3: 33 trees, OOB: 0.7826\n",
      "\n",
      "=== DEBUGGING TRIAL 17 ===\n",
      "Intermediate values: {0: 0.7591973244147158, 1: 0.7625418060200669, 2: 0.7725752508361204, 3: 0.782608695652174}\n",
      "Current step: 3, Current value: 0.782608695652174\n",
      "Steps for prediction: [0 1 2 3]\n",
      "Values for prediction: [0.75919732 0.76254181 0.77257525 0.7826087 ]\n",
      "[Debug Trial 17]: Curve fitting failed: Optimal parameters not found: Number of calls to function has reached maxfev = 1000., using linear extrapolation\n",
      "Predicted final performance: 0.8127090301003345\n",
      "Completed trial values: [0.7905701754385964, 0.7938596491228068, 0.797027290448343, 0.7860623781676414]\n",
      "Threshold (quantile 0.5): 0.7922149122807016\n",
      "Prediction vs threshold: 0.8127 vs 0.7922\n",
      "Decision: CONTINUE\n",
      "✅ CONTINUING: 0.8127 >= 0.7922\n",
      "Trial 17, Step 4: 84 trees, OOB: 0.7860\n",
      "\n",
      "=== DEBUGGING TRIAL 17 ===\n",
      "Intermediate values: {0: 0.7591973244147158, 1: 0.7625418060200669, 2: 0.7725752508361204, 3: 0.782608695652174, 4: 0.7859531772575251}\n",
      "Current step: 4, Current value: 0.7859531772575251\n",
      "Steps for prediction: [0 1 2 3 4]\n",
      "Values for prediction: [0.75919732 0.76254181 0.77257525 0.7826087  0.78595318]\n",
      "[Debug Trial 17]: Curve fitting failed: Optimal parameters not found: Number of calls to function has reached maxfev = 1000., using linear extrapolation\n",
      "Predicted final performance: 0.7993311036789298\n",
      "Completed trial values: [0.7905701754385964, 0.7938596491228068, 0.797027290448343, 0.7860623781676414]\n",
      "Threshold (quantile 0.5): 0.7922149122807016\n",
      "Prediction vs threshold: 0.7993 vs 0.7922\n",
      "Decision: CONTINUE\n",
      "✅ CONTINUING: 0.7993 >= 0.7922\n",
      "Trial 17, Step 5: 169 trees, OOB: 0.7843\n",
      "\n",
      "=== DEBUGGING TRIAL 17 ===\n",
      "Intermediate values: {0: 0.7591973244147158, 1: 0.7625418060200669, 2: 0.7725752508361204, 3: 0.782608695652174, 4: 0.7859531772575251, 5: 0.7842809364548495}\n",
      "Current step: 5, Current value: 0.7842809364548495\n",
      "Steps for prediction: [0 1 2 3 4 5]\n",
      "Values for prediction: [0.75919732 0.76254181 0.77257525 0.7826087  0.78595318 0.78428094]\n",
      "[Debug Trial 17]: Curve fit params: a=0.7998, b=0.0426, c=0.2415\n",
      "[Debug Trial 17]: Extrapolated to step 15: 0.7987\n",
      "Predicted final performance: 0.7987108088688506\n",
      "Completed trial values: [0.7905701754385964, 0.7938596491228068, 0.797027290448343, 0.7860623781676414]\n",
      "Threshold (quantile 0.5): 0.7922149122807016\n",
      "Prediction vs threshold: 0.7987 vs 0.7922\n",
      "Decision: CONTINUE\n",
      "✅ CONTINUING: 0.7987 >= 0.7922\n",
      "Trial 17 completed with AUC: 0.7929\n",
      "Trial 18, Step 0: 2 trees, OOB: 0.7492\n",
      "\n",
      "=== DEBUGGING TRIAL 18 ===\n",
      "Intermediate values: {0: 0.7491638795986622}\n",
      "Current step: 0, Current value: 0.7491638795986622\n",
      "[Debug Trial 18]: Not enough steps (1 < 3)\n",
      "Trial 18, Step 1: 6 trees, OOB: 0.7642\n",
      "\n",
      "=== DEBUGGING TRIAL 18 ===\n",
      "Intermediate values: {0: 0.7491638795986622, 1: 0.7642140468227425}\n",
      "Current step: 1, Current value: 0.7642140468227425\n",
      "[Debug Trial 18]: Not enough steps (2 < 3)\n",
      "Trial 18, Step 2: 13 trees, OOB: 0.7893\n",
      "\n",
      "=== DEBUGGING TRIAL 18 ===\n",
      "Intermediate values: {0: 0.7491638795986622, 1: 0.7642140468227425, 2: 0.7892976588628763}\n",
      "Current step: 2, Current value: 0.7892976588628763\n",
      "Steps for prediction: [0 1 2]\n",
      "Values for prediction: [0.74916388 0.76421405 0.78929766]\n",
      "[Debug Trial 18]: Curve fitting failed: Optimal parameters not found: Number of calls to function has reached maxfev = 1000., using linear extrapolation\n",
      "Predicted final performance: 0.8394648829431438\n",
      "Completed trial values: [0.7905701754385964, 0.7938596491228068, 0.797027290448343, 0.7860623781676414, 0.7928849902534112]\n",
      "Threshold (quantile 0.5): 0.7928849902534112\n",
      "Prediction vs threshold: 0.8395 vs 0.7929\n",
      "Decision: CONTINUE\n",
      "✅ CONTINUING: 0.8395 >= 0.7929\n",
      "Trial 18, Step 3: 26 trees, OOB: 0.7910\n",
      "\n",
      "=== DEBUGGING TRIAL 18 ===\n",
      "Intermediate values: {0: 0.7491638795986622, 1: 0.7642140468227425, 2: 0.7892976588628763, 3: 0.7909698996655519}\n",
      "Current step: 3, Current value: 0.7909698996655519\n",
      "Steps for prediction: [0 1 2 3]\n",
      "Values for prediction: [0.74916388 0.76421405 0.78929766 0.7909699 ]\n",
      "[Debug Trial 18]: Curve fit params: a=0.8164, b=0.0684, c=0.3644\n",
      "[Debug Trial 18]: Extrapolated to step 9: 0.8138\n",
      "Predicted final performance: 0.8138066138906866\n",
      "Completed trial values: [0.7905701754385964, 0.7938596491228068, 0.797027290448343, 0.7860623781676414, 0.7928849902534112]\n",
      "Threshold (quantile 0.5): 0.7928849902534112\n",
      "Prediction vs threshold: 0.8138 vs 0.7929\n",
      "Decision: CONTINUE\n",
      "✅ CONTINUING: 0.8138 >= 0.7929\n",
      "Trial 18, Step 4: 67 trees, OOB: 0.7860\n",
      "\n",
      "=== DEBUGGING TRIAL 18 ===\n",
      "Intermediate values: {0: 0.7491638795986622, 1: 0.7642140468227425, 2: 0.7892976588628763, 3: 0.7909698996655519, 4: 0.7859531772575251}\n",
      "Current step: 4, Current value: 0.7859531772575251\n",
      "Steps for prediction: [0 1 2 3 4]\n",
      "Values for prediction: [0.74916388 0.76421405 0.78929766 0.7909699  0.78595318]\n",
      "[Debug Trial 18]: Curve fit params: a=0.7934, b=0.0457, c=0.7126\n",
      "[Debug Trial 18]: Extrapolated to step 12: 0.7934\n",
      "Predicted final performance: 0.7933543141280431\n",
      "Completed trial values: [0.7905701754385964, 0.7938596491228068, 0.797027290448343, 0.7860623781676414, 0.7928849902534112]\n",
      "Threshold (quantile 0.5): 0.7928849902534112\n",
      "Prediction vs threshold: 0.7934 vs 0.7929\n",
      "Decision: CONTINUE\n",
      "✅ CONTINUING: 0.7934 >= 0.7929\n",
      "Trial 18, Step 5: 134 trees, OOB: 0.7876\n",
      "\n",
      "=== DEBUGGING TRIAL 18 ===\n",
      "Intermediate values: {0: 0.7491638795986622, 1: 0.7642140468227425, 2: 0.7892976588628763, 3: 0.7909698996655519, 4: 0.7859531772575251, 5: 0.7876254180602007}\n",
      "Current step: 5, Current value: 0.7876254180602007\n",
      "Steps for prediction: [0 1 2 3 4 5]\n",
      "Values for prediction: [0.74916388 0.76421405 0.78929766 0.7909699  0.78595318 0.78762542]\n",
      "[Debug Trial 18]: Curve fit params: a=0.7908, b=0.0433, c=0.8024\n",
      "[Debug Trial 18]: Extrapolated to step 15: 0.7908\n",
      "Predicted final performance: 0.7908395150384541\n",
      "Completed trial values: [0.7905701754385964, 0.7938596491228068, 0.797027290448343, 0.7860623781676414, 0.7928849902534112]\n",
      "Threshold (quantile 0.5): 0.7928849902534112\n",
      "Prediction vs threshold: 0.7908 vs 0.7929\n",
      "Decision: PRUNE\n",
      "🔥 PRUNING: 0.7908 < 0.7929\n",
      "Trial 18 pruned at step 5 (134 estimators, OOB: 0.7876)\n",
      "Trial 19, Step 0: 2 trees, OOB: 0.7592\n",
      "\n",
      "=== DEBUGGING TRIAL 19 ===\n",
      "Intermediate values: {0: 0.7591973244147158}\n",
      "Current step: 0, Current value: 0.7591973244147158\n",
      "[Debug Trial 19]: Not enough steps (1 < 3)\n",
      "Trial 19, Step 1: 5 trees, OOB: 0.7659\n",
      "\n",
      "=== DEBUGGING TRIAL 19 ===\n",
      "Intermediate values: {0: 0.7591973244147158, 1: 0.7658862876254181}\n",
      "Current step: 1, Current value: 0.7658862876254181\n",
      "[Debug Trial 19]: Not enough steps (2 < 3)\n",
      "Trial 19, Step 2: 10 trees, OOB: 0.7726\n",
      "\n",
      "=== DEBUGGING TRIAL 19 ===\n",
      "Intermediate values: {0: 0.7591973244147158, 1: 0.7658862876254181, 2: 0.7725752508361204}\n",
      "Current step: 2, Current value: 0.7725752508361204\n",
      "Steps for prediction: [0 1 2]\n",
      "Values for prediction: [0.75919732 0.76588629 0.77257525]\n",
      "[Debug Trial 19]: Curve fitting failed: Optimal parameters not found: Number of calls to function has reached maxfev = 1000., using linear extrapolation\n",
      "Predicted final performance: 0.7859531772575251\n",
      "Completed trial values: [0.7905701754385964, 0.7938596491228068, 0.797027290448343, 0.7860623781676414, 0.7928849902534112]\n",
      "Threshold (quantile 0.5): 0.7928849902534112\n",
      "Prediction vs threshold: 0.7860 vs 0.7929\n",
      "Decision: PRUNE\n",
      "🔥 PRUNING: 0.7860 < 0.7929\n",
      "Trial 19 pruned at step 2 (10 estimators, OOB: 0.7726)\n",
      "Trial 20, Step 0: 1 trees, OOB: nan\n",
      "\n",
      "=== DEBUGGING TRIAL 20 ===\n",
      "Intermediate values: {0: nan}\n",
      "Current step: 0, Current value: nan\n",
      "[Debug Trial 20]: Not enough steps (1 < 3)\n",
      "Trial 20, Step 1: 2 trees, OOB: 0.7525\n",
      "\n",
      "=== DEBUGGING TRIAL 20 ===\n",
      "Intermediate values: {0: nan, 1: 0.7525083612040134}\n",
      "Current step: 1, Current value: 0.7525083612040134\n",
      "[Debug Trial 20]: Not enough steps (2 < 3)\n",
      "Trial 20, Step 2: 5 trees, OOB: 0.7709\n",
      "\n",
      "=== DEBUGGING TRIAL 20 ===\n",
      "Intermediate values: {0: nan, 1: 0.7525083612040134, 2: 0.7709030100334449}\n",
      "Current step: 2, Current value: 0.7709030100334449\n",
      "Steps for prediction: [0 1 2]\n",
      "Values for prediction: [       nan 0.75250836 0.77090301]\n",
      "[Debug Trial 20]: Curve fitting failed: array must not contain infs or NaNs, using linear extrapolation\n",
      "Predicted final performance: 0.8076923076923077\n",
      "Completed trial values: [0.7905701754385964, 0.7938596491228068, 0.797027290448343, 0.7860623781676414, 0.7928849902534112]\n",
      "Threshold (quantile 0.5): 0.7928849902534112\n",
      "Prediction vs threshold: 0.8077 vs 0.7929\n",
      "Decision: CONTINUE\n",
      "✅ CONTINUING: 0.8077 >= 0.7929\n",
      "Trial 20, Step 3: 10 trees, OOB: 0.7592\n",
      "\n",
      "=== DEBUGGING TRIAL 20 ===\n",
      "Intermediate values: {0: nan, 1: 0.7525083612040134, 2: 0.7709030100334449, 3: 0.7591973244147158}\n",
      "Current step: 3, Current value: 0.7591973244147158\n",
      "Steps for prediction: [0 1 2 3]\n",
      "Values for prediction: [       nan 0.75250836 0.77090301 0.75919732]\n",
      "[Debug Trial 20]: Curve fitting failed: array must not contain infs or NaNs, using linear extrapolation\n",
      "Predicted final performance: 0.7240802675585285\n",
      "Completed trial values: [0.7905701754385964, 0.7938596491228068, 0.797027290448343, 0.7860623781676414, 0.7928849902534112]\n",
      "Threshold (quantile 0.5): 0.7928849902534112\n",
      "Prediction vs threshold: 0.7241 vs 0.7929\n",
      "Decision: PRUNE\n",
      "🔥 PRUNING: 0.7241 < 0.7929\n",
      "Trial 20 pruned at step 3 (10 estimators, OOB: 0.7592)\n",
      "Trial 21, Step 0: 1 trees, OOB: nan\n",
      "\n",
      "=== DEBUGGING TRIAL 21 ===\n",
      "Intermediate values: {0: nan}\n",
      "Current step: 0, Current value: nan\n",
      "[Debug Trial 21]: Not enough steps (1 < 3)\n",
      "Trial 21, Step 1: 4 trees, OOB: 0.7575\n",
      "\n",
      "=== DEBUGGING TRIAL 21 ===\n",
      "Intermediate values: {0: nan, 1: 0.7575250836120402}\n",
      "Current step: 1, Current value: 0.7575250836120402\n",
      "[Debug Trial 21]: Not enough steps (2 < 3)\n",
      "Trial 21, Step 2: 8 trees, OOB: 0.7625\n",
      "\n",
      "=== DEBUGGING TRIAL 21 ===\n",
      "Intermediate values: {0: nan, 1: 0.7575250836120402, 2: 0.7625418060200669}\n",
      "Current step: 2, Current value: 0.7625418060200669\n",
      "Steps for prediction: [0 1 2]\n",
      "Values for prediction: [       nan 0.75752508 0.76254181]\n",
      "[Debug Trial 21]: Curve fitting failed: array must not contain infs or NaNs, using linear extrapolation\n",
      "Predicted final performance: 0.7725752508361204\n",
      "Completed trial values: [0.7905701754385964, 0.7938596491228068, 0.797027290448343, 0.7860623781676414, 0.7928849902534112]\n",
      "Threshold (quantile 0.5): 0.7928849902534112\n",
      "Prediction vs threshold: 0.7726 vs 0.7929\n",
      "Decision: PRUNE\n",
      "🔥 PRUNING: 0.7726 < 0.7929\n",
      "Trial 21 pruned at step 2 (8 estimators, OOB: 0.7625)\n",
      "Trial 22, Step 0: 3 trees, OOB: 0.7592\n",
      "\n",
      "=== DEBUGGING TRIAL 22 ===\n",
      "Intermediate values: {0: 0.7591973244147158}\n",
      "Current step: 0, Current value: 0.7591973244147158\n",
      "[Debug Trial 22]: Not enough steps (1 < 3)\n",
      "Trial 22, Step 1: 8 trees, OOB: 0.7625\n",
      "\n",
      "=== DEBUGGING TRIAL 22 ===\n",
      "Intermediate values: {0: 0.7591973244147158, 1: 0.7625418060200669}\n",
      "Current step: 1, Current value: 0.7625418060200669\n",
      "[Debug Trial 22]: Not enough steps (2 < 3)\n",
      "Trial 22, Step 2: 17 trees, OOB: 0.7742\n",
      "\n",
      "=== DEBUGGING TRIAL 22 ===\n",
      "Intermediate values: {0: 0.7591973244147158, 1: 0.7625418060200669, 2: 0.774247491638796}\n",
      "Current step: 2, Current value: 0.774247491638796\n",
      "Steps for prediction: [0 1 2]\n",
      "Values for prediction: [0.75919732 0.76254181 0.77424749]\n",
      "[Debug Trial 22]: Curve fit params: a=67.6521, b=66.8943, c=0.0001\n",
      "[Debug Trial 22]: Extrapolated to step 6: 0.8029\n",
      "Predicted final performance: 0.802942168261211\n",
      "Completed trial values: [0.7905701754385964, 0.7938596491228068, 0.797027290448343, 0.7860623781676414, 0.7928849902534112]\n",
      "Threshold (quantile 0.5): 0.7928849902534112\n",
      "Prediction vs threshold: 0.8029 vs 0.7929\n",
      "Decision: CONTINUE\n",
      "✅ CONTINUING: 0.8029 >= 0.7929\n",
      "Trial 22, Step 3: 34 trees, OOB: 0.7826\n",
      "\n",
      "=== DEBUGGING TRIAL 22 ===\n",
      "Intermediate values: {0: 0.7591973244147158, 1: 0.7625418060200669, 2: 0.774247491638796, 3: 0.782608695652174}\n",
      "Current step: 3, Current value: 0.782608695652174\n",
      "Steps for prediction: [0 1 2 3]\n",
      "Values for prediction: [0.75919732 0.76254181 0.77424749 0.7826087 ]\n",
      "[Debug Trial 22]: Curve fitting failed: Optimal parameters not found: Number of calls to function has reached maxfev = 1000., using linear extrapolation\n",
      "Predicted final performance: 0.8076923076923077\n",
      "Completed trial values: [0.7905701754385964, 0.7938596491228068, 0.797027290448343, 0.7860623781676414, 0.7928849902534112]\n",
      "Threshold (quantile 0.5): 0.7928849902534112\n",
      "Prediction vs threshold: 0.8077 vs 0.7929\n",
      "Decision: CONTINUE\n",
      "✅ CONTINUING: 0.8077 >= 0.7929\n"
     ]
    },
    {
     "name": "stderr",
     "output_type": "stream",
     "text": [
      "C:\\Users\\Obidur Rahman\\AppData\\Local\\Temp\\ipykernel_3964\\3441492807.py:144: OptimizeWarning: Covariance of the parameters could not be estimated\n",
      "  popt, _ = curve_fit(saturating_func, steps, values, p0=p0, maxfev=1000)\n"
     ]
    },
    {
     "name": "stdout",
     "output_type": "stream",
     "text": [
      "Trial 22, Step 4: 86 trees, OOB: 0.7860\n",
      "\n",
      "=== DEBUGGING TRIAL 22 ===\n",
      "Intermediate values: {0: 0.7591973244147158, 1: 0.7625418060200669, 2: 0.774247491638796, 3: 0.782608695652174, 4: 0.7859531772575251}\n",
      "Current step: 4, Current value: 0.7859531772575251\n",
      "Steps for prediction: [0 1 2 3 4]\n",
      "Values for prediction: [0.75919732 0.76254181 0.77424749 0.7826087  0.78595318]\n",
      "[Debug Trial 22]: Curve fit params: a=0.9101, b=0.1523, c=0.0537\n",
      "[Debug Trial 22]: Extrapolated to step 12: 0.8301\n",
      "Predicted final performance: 0.830144937640235\n",
      "Completed trial values: [0.7905701754385964, 0.7938596491228068, 0.797027290448343, 0.7860623781676414, 0.7928849902534112]\n",
      "Threshold (quantile 0.5): 0.7928849902534112\n",
      "Prediction vs threshold: 0.8301 vs 0.7929\n",
      "Decision: CONTINUE\n",
      "✅ CONTINUING: 0.8301 >= 0.7929\n",
      "Trial 22, Step 5: 173 trees, OOB: 0.7809\n",
      "\n",
      "=== DEBUGGING TRIAL 22 ===\n",
      "Intermediate values: {0: 0.7591973244147158, 1: 0.7625418060200669, 2: 0.774247491638796, 3: 0.782608695652174, 4: 0.7859531772575251, 5: 0.7809364548494984}\n",
      "Current step: 5, Current value: 0.7809364548494984\n",
      "Steps for prediction: [0 1 2 3 4 5]\n",
      "Values for prediction: [0.75919732 0.76254181 0.77424749 0.7826087  0.78595318 0.78093645]\n",
      "[Debug Trial 22]: Curve fit params: a=0.7905, b=0.0333, c=0.3603\n",
      "[Debug Trial 22]: Extrapolated to step 15: 0.7903\n",
      "Predicted final performance: 0.7903305673751744\n",
      "Completed trial values: [0.7905701754385964, 0.7938596491228068, 0.797027290448343, 0.7860623781676414, 0.7928849902534112]\n",
      "Threshold (quantile 0.5): 0.7928849902534112\n",
      "Prediction vs threshold: 0.7903 vs 0.7929\n",
      "Decision: PRUNE\n",
      "🔥 PRUNING: 0.7903 < 0.7929\n",
      "Trial 22 pruned at step 5 (173 estimators, OOB: 0.7809)\n",
      "Trial 23, Step 0: 3 trees, OOB: 0.7542\n",
      "\n",
      "=== DEBUGGING TRIAL 23 ===\n",
      "Intermediate values: {0: 0.754180602006689}\n",
      "Current step: 0, Current value: 0.754180602006689\n",
      "[Debug Trial 23]: Not enough steps (1 < 3)\n",
      "Trial 23, Step 1: 8 trees, OOB: 0.7726\n",
      "\n",
      "=== DEBUGGING TRIAL 23 ===\n",
      "Intermediate values: {0: 0.754180602006689, 1: 0.7725752508361204}\n",
      "Current step: 1, Current value: 0.7725752508361204\n",
      "[Debug Trial 23]: Not enough steps (2 < 3)\n",
      "Trial 23, Step 2: 17 trees, OOB: 0.7776\n",
      "\n",
      "=== DEBUGGING TRIAL 23 ===\n",
      "Intermediate values: {0: 0.754180602006689, 1: 0.7725752508361204, 2: 0.7775919732441472}\n",
      "Current step: 2, Current value: 0.7775919732441472\n",
      "Steps for prediction: [0 1 2]\n",
      "Values for prediction: [0.7541806  0.77257525 0.77759197]\n",
      "[Debug Trial 23]: Curve fit params: a=0.7795, b=0.0253, c=1.2993\n",
      "[Debug Trial 23]: Extrapolated to step 6: 0.7795\n",
      "Predicted final performance: 0.7794628361871037\n",
      "Completed trial values: [0.7905701754385964, 0.7938596491228068, 0.797027290448343, 0.7860623781676414, 0.7928849902534112]\n",
      "Threshold (quantile 0.5): 0.7928849902534112\n",
      "Prediction vs threshold: 0.7795 vs 0.7929\n",
      "Decision: PRUNE\n",
      "🔥 PRUNING: 0.7795 < 0.7929\n",
      "Trial 23 pruned at step 2 (17 estimators, OOB: 0.7776)\n",
      "Trial 24, Step 0: 3 trees, OOB: 0.7592\n",
      "\n",
      "=== DEBUGGING TRIAL 24 ===\n",
      "Intermediate values: {0: 0.7591973244147158}\n",
      "Current step: 0, Current value: 0.7591973244147158\n",
      "[Debug Trial 24]: Not enough steps (1 < 3)\n",
      "Trial 24, Step 1: 7 trees, OOB: 0.7659\n",
      "\n",
      "=== DEBUGGING TRIAL 24 ===\n",
      "Intermediate values: {0: 0.7591973244147158, 1: 0.7658862876254181}\n",
      "Current step: 1, Current value: 0.7658862876254181\n",
      "[Debug Trial 24]: Not enough steps (2 < 3)\n"
     ]
    },
    {
     "name": "stderr",
     "output_type": "stream",
     "text": [
      "C:\\Users\\Obidur Rahman\\AppData\\Local\\Temp\\ipykernel_3964\\3441492807.py:144: OptimizeWarning: Covariance of the parameters could not be estimated\n",
      "  popt, _ = curve_fit(saturating_func, steps, values, p0=p0, maxfev=1000)\n"
     ]
    },
    {
     "name": "stdout",
     "output_type": "stream",
     "text": [
      "Trial 24, Step 2: 15 trees, OOB: 0.7776\n",
      "\n",
      "=== DEBUGGING TRIAL 24 ===\n",
      "Intermediate values: {0: 0.7591973244147158, 1: 0.7658862876254181, 2: 0.7775919732441472}\n",
      "Current step: 2, Current value: 0.7775919732441472\n",
      "Steps for prediction: [0 1 2]\n",
      "Values for prediction: [0.75919732 0.76588629 0.77759197]\n",
      "[Debug Trial 24]: Curve fitting failed: Optimal parameters not found: Number of calls to function has reached maxfev = 1000., using linear extrapolation\n",
      "Predicted final performance: 0.8010033444816054\n",
      "Completed trial values: [0.7905701754385964, 0.7938596491228068, 0.797027290448343, 0.7860623781676414, 0.7928849902534112]\n",
      "Threshold (quantile 0.5): 0.7928849902534112\n",
      "Prediction vs threshold: 0.8010 vs 0.7929\n",
      "Decision: CONTINUE\n",
      "✅ CONTINUING: 0.8010 >= 0.7929\n",
      "Trial 24, Step 3: 30 trees, OOB: 0.7759\n",
      "\n",
      "=== DEBUGGING TRIAL 24 ===\n",
      "Intermediate values: {0: 0.7591973244147158, 1: 0.7658862876254181, 2: 0.7775919732441472, 3: 0.7759197324414716}\n",
      "Current step: 3, Current value: 0.7759197324414716\n",
      "Steps for prediction: [0 1 2 3]\n",
      "Values for prediction: [0.75919732 0.76588629 0.77759197 0.77591973]\n",
      "[Debug Trial 24]: Curve fit params: a=0.7825, b=0.0239, c=0.5222\n",
      "[Debug Trial 24]: Extrapolated to step 9: 0.7823\n",
      "Predicted final performance: 0.7822799358138868\n",
      "Completed trial values: [0.7905701754385964, 0.7938596491228068, 0.797027290448343, 0.7860623781676414, 0.7928849902534112]\n",
      "Threshold (quantile 0.5): 0.7928849902534112\n",
      "Prediction vs threshold: 0.7823 vs 0.7929\n",
      "Decision: PRUNE\n",
      "🔥 PRUNING: 0.7823 < 0.7929\n",
      "Trial 24 pruned at step 3 (30 estimators, OOB: 0.7759)\n",
      "Trial 25, Step 0: 4 trees, OOB: 0.7559\n",
      "\n",
      "=== DEBUGGING TRIAL 25 ===\n",
      "Intermediate values: {0: 0.7558528428093646}\n",
      "Current step: 0, Current value: 0.7558528428093646\n",
      "[Debug Trial 25]: Not enough steps (1 < 3)\n",
      "Trial 25, Step 1: 10 trees, OOB: 0.7709\n",
      "\n",
      "=== DEBUGGING TRIAL 25 ===\n",
      "Intermediate values: {0: 0.7558528428093646, 1: 0.7709030100334449}\n",
      "Current step: 1, Current value: 0.7709030100334449\n",
      "[Debug Trial 25]: Not enough steps (2 < 3)\n",
      "Trial 25, Step 2: 20 trees, OOB: 0.7843\n",
      "\n",
      "=== DEBUGGING TRIAL 25 ===\n",
      "Intermediate values: {0: 0.7558528428093646, 1: 0.7709030100334449, 2: 0.7842809364548495}\n",
      "Current step: 2, Current value: 0.7842809364548495\n",
      "Steps for prediction: [0 1 2]\n",
      "Values for prediction: [0.75585284 0.77090301 0.78428094]\n",
      "[Debug Trial 25]: Curve fit params: a=0.8913, b=0.1355, c=0.1178\n",
      "[Debug Trial 25]: Extrapolated to step 6: 0.8245\n",
      "Predicted final performance: 0.8244901589864908\n",
      "Completed trial values: [0.7905701754385964, 0.7938596491228068, 0.797027290448343, 0.7860623781676414, 0.7928849902534112]\n",
      "Threshold (quantile 0.5): 0.7928849902534112\n",
      "Prediction vs threshold: 0.8245 vs 0.7929\n",
      "Decision: CONTINUE\n",
      "✅ CONTINUING: 0.8245 >= 0.7929\n",
      "Trial 25, Step 3: 40 trees, OOB: 0.7860\n",
      "\n",
      "=== DEBUGGING TRIAL 25 ===\n",
      "Intermediate values: {0: 0.7558528428093646, 1: 0.7709030100334449, 2: 0.7842809364548495, 3: 0.7859531772575251}\n",
      "Current step: 3, Current value: 0.7859531772575251\n",
      "Steps for prediction: [0 1 2 3]\n",
      "Values for prediction: [0.75585284 0.77090301 0.78428094 0.78595318]\n",
      "[Debug Trial 25]: Curve fit params: a=0.7935, b=0.0380, c=0.5930\n",
      "[Debug Trial 25]: Extrapolated to step 9: 0.7933\n",
      "Predicted final performance: 0.7933181055524485\n",
      "Completed trial values: [0.7905701754385964, 0.7938596491228068, 0.797027290448343, 0.7860623781676414, 0.7928849902534112]\n",
      "Threshold (quantile 0.5): 0.7928849902534112\n",
      "Prediction vs threshold: 0.7933 vs 0.7929\n",
      "Decision: CONTINUE\n",
      "✅ CONTINUING: 0.7933 >= 0.7929\n",
      "Trial 25, Step 4: 101 trees, OOB: 0.7826\n",
      "\n",
      "=== DEBUGGING TRIAL 25 ===\n",
      "Intermediate values: {0: 0.7558528428093646, 1: 0.7709030100334449, 2: 0.7842809364548495, 3: 0.7859531772575251, 4: 0.782608695652174}\n",
      "Current step: 4, Current value: 0.782608695652174\n",
      "Steps for prediction: [0 1 2 3 4]\n",
      "Values for prediction: [0.75585284 0.77090301 0.78428094 0.78595318 0.7826087 ]\n",
      "[Debug Trial 25]: Curve fit params: a=0.7862, b=0.0309, c=0.8972\n",
      "[Debug Trial 25]: Extrapolated to step 12: 0.7862\n",
      "Predicted final performance: 0.7862479601124236\n",
      "Completed trial values: [0.7905701754385964, 0.7938596491228068, 0.797027290448343, 0.7860623781676414, 0.7928849902534112]\n",
      "Threshold (quantile 0.5): 0.7928849902534112\n",
      "Prediction vs threshold: 0.7862 vs 0.7929\n",
      "Decision: PRUNE\n",
      "🔥 PRUNING: 0.7862 < 0.7929\n",
      "Trial 25 pruned at step 4 (101 estimators, OOB: 0.7826)\n"
     ]
    },
    {
     "name": "stderr",
     "output_type": "stream",
     "text": [
      "C:\\Users\\Obidur Rahman\\AppData\\Local\\Temp\\ipykernel_3964\\3441492807.py:144: OptimizeWarning: Covariance of the parameters could not be estimated\n",
      "  popt, _ = curve_fit(saturating_func, steps, values, p0=p0, maxfev=1000)\n"
     ]
    },
    {
     "name": "stdout",
     "output_type": "stream",
     "text": [
      "Trial 26, Step 0: 2 trees, OOB: 0.7475\n",
      "\n",
      "=== DEBUGGING TRIAL 26 ===\n",
      "Intermediate values: {0: 0.7474916387959866}\n",
      "Current step: 0, Current value: 0.7474916387959866\n",
      "[Debug Trial 26]: Not enough steps (1 < 3)\n",
      "Trial 26, Step 1: 6 trees, OOB: 0.7659\n",
      "\n",
      "=== DEBUGGING TRIAL 26 ===\n",
      "Intermediate values: {0: 0.7474916387959866, 1: 0.7658862876254181}\n",
      "Current step: 1, Current value: 0.7658862876254181\n",
      "[Debug Trial 26]: Not enough steps (2 < 3)\n",
      "Trial 26, Step 2: 13 trees, OOB: 0.7793\n",
      "\n",
      "=== DEBUGGING TRIAL 26 ===\n",
      "Intermediate values: {0: 0.7474916387959866, 1: 0.7658862876254181, 2: 0.7792642140468228}\n",
      "Current step: 2, Current value: 0.7792642140468228\n",
      "Steps for prediction: [0 1 2]\n",
      "Values for prediction: [0.74749164 0.76588629 0.77926421]\n",
      "[Debug Trial 26]: Curve fit params: a=0.8149, b=0.0674, c=0.3185\n",
      "[Debug Trial 26]: Extrapolated to step 6: 0.8050\n",
      "Predicted final performance: 0.8049583121937999\n",
      "Completed trial values: [0.7905701754385964, 0.7938596491228068, 0.797027290448343, 0.7860623781676414, 0.7928849902534112]\n",
      "Threshold (quantile 0.5): 0.7928849902534112\n",
      "Prediction vs threshold: 0.8050 vs 0.7929\n",
      "Decision: CONTINUE\n",
      "✅ CONTINUING: 0.8050 >= 0.7929\n",
      "Trial 26, Step 3: 26 trees, OOB: 0.7893\n",
      "\n",
      "=== DEBUGGING TRIAL 26 ===\n",
      "Intermediate values: {0: 0.7474916387959866, 1: 0.7658862876254181, 2: 0.7792642140468228, 3: 0.7892976588628763}\n",
      "Current step: 3, Current value: 0.7892976588628763\n",
      "Steps for prediction: [0 1 2 3]\n",
      "Values for prediction: [0.74749164 0.76588629 0.77926421 0.78929766]\n",
      "[Debug Trial 26]: Curve fit params: a=0.8171, b=0.0696, c=0.3058\n",
      "[Debug Trial 26]: Extrapolated to step 9: 0.8126\n",
      "Predicted final performance: 0.8126220667288828\n",
      "Completed trial values: [0.7905701754385964, 0.7938596491228068, 0.797027290448343, 0.7860623781676414, 0.7928849902534112]\n",
      "Threshold (quantile 0.5): 0.7928849902534112\n",
      "Prediction vs threshold: 0.8126 vs 0.7929\n",
      "Decision: CONTINUE\n",
      "✅ CONTINUING: 0.8126 >= 0.7929\n"
     ]
    },
    {
     "name": "stderr",
     "output_type": "stream",
     "text": [
      "C:\\Users\\Obidur Rahman\\AppData\\Local\\Temp\\ipykernel_3964\\3441492807.py:144: OptimizeWarning: Covariance of the parameters could not be estimated\n",
      "  popt, _ = curve_fit(saturating_func, steps, values, p0=p0, maxfev=1000)\n"
     ]
    },
    {
     "name": "stdout",
     "output_type": "stream",
     "text": [
      "Trial 26, Step 4: 66 trees, OOB: 0.7926\n",
      "\n",
      "=== DEBUGGING TRIAL 26 ===\n",
      "Intermediate values: {0: 0.7474916387959866, 1: 0.7658862876254181, 2: 0.7792642140468228, 3: 0.7892976588628763, 4: 0.7926421404682275}\n",
      "Current step: 4, Current value: 0.7926421404682275\n",
      "Steps for prediction: [0 1 2 3 4]\n",
      "Values for prediction: [0.74749164 0.76588629 0.77926421 0.78929766 0.79264214]\n",
      "[Debug Trial 26]: Curve fit params: a=0.8046, b=0.0573, c=0.4116\n",
      "[Debug Trial 26]: Extrapolated to step 12: 0.8042\n",
      "Predicted final performance: 0.8041504417148156\n",
      "Completed trial values: [0.7905701754385964, 0.7938596491228068, 0.797027290448343, 0.7860623781676414, 0.7928849902534112]\n",
      "Threshold (quantile 0.5): 0.7928849902534112\n",
      "Prediction vs threshold: 0.8042 vs 0.7929\n",
      "Decision: CONTINUE\n",
      "✅ CONTINUING: 0.8042 >= 0.7929\n",
      "Trial 26, Step 5: 132 trees, OOB: 0.7876\n",
      "\n",
      "=== DEBUGGING TRIAL 26 ===\n",
      "Intermediate values: {0: 0.7474916387959866, 1: 0.7658862876254181, 2: 0.7792642140468228, 3: 0.7892976588628763, 4: 0.7926421404682275, 5: 0.7876254180602007}\n",
      "Current step: 5, Current value: 0.7876254180602007\n",
      "Steps for prediction: [0 1 2 3 4 5]\n",
      "Values for prediction: [0.74749164 0.76588629 0.77926421 0.78929766 0.79264214 0.78762542]\n",
      "[Debug Trial 26]: Curve fit params: a=0.7939, b=0.0473, c=0.6054\n",
      "[Debug Trial 26]: Extrapolated to step 15: 0.7939\n",
      "Predicted final performance: 0.7939131397637077\n",
      "Completed trial values: [0.7905701754385964, 0.7938596491228068, 0.797027290448343, 0.7860623781676414, 0.7928849902534112]\n",
      "Threshold (quantile 0.5): 0.7928849902534112\n",
      "Prediction vs threshold: 0.7939 vs 0.7929\n",
      "Decision: CONTINUE\n",
      "✅ CONTINUING: 0.7939 >= 0.7929\n",
      "Trial 26 completed with AUC: 0.7807\n",
      "Trial 27, Step 0: 3 trees, OOB: 0.6555\n",
      "\n",
      "=== DEBUGGING TRIAL 27 ===\n",
      "Intermediate values: {0: 0.6555183946488294}\n",
      "Current step: 0, Current value: 0.6555183946488294\n",
      "[Debug Trial 27]: Not enough steps (1 < 3)\n",
      "Trial 27, Step 1: 8 trees, OOB: 0.6722\n",
      "\n",
      "=== DEBUGGING TRIAL 27 ===\n",
      "Intermediate values: {0: 0.6555183946488294, 1: 0.6722408026755853}\n",
      "Current step: 1, Current value: 0.6722408026755853\n",
      "[Debug Trial 27]: Not enough steps (2 < 3)\n",
      "Trial 27, Step 2: 16 trees, OOB: 0.7074\n",
      "\n",
      "=== DEBUGGING TRIAL 27 ===\n",
      "Intermediate values: {0: 0.6555183946488294, 1: 0.6722408026755853, 2: 0.7073578595317725}\n",
      "Current step: 2, Current value: 0.7073578595317725\n",
      "Steps for prediction: [0 1 2]\n",
      "Values for prediction: [0.65551839 0.6722408  0.70735786]\n",
      "[Debug Trial 27]: Curve fitting failed: Optimal parameters not found: Number of calls to function has reached maxfev = 1000., using linear extrapolation\n",
      "Predicted final performance: 0.7775919732441471\n",
      "Completed trial values: [0.7905701754385964, 0.7938596491228068, 0.797027290448343, 0.7860623781676414, 0.7928849902534112, 0.7807017543859648]\n",
      "Threshold (quantile 0.5): 0.7917275828460038\n",
      "Prediction vs threshold: 0.7776 vs 0.7917\n",
      "Decision: PRUNE\n",
      "🔥 PRUNING: 0.7776 < 0.7917\n",
      "Trial 27 pruned at step 2 (16 estimators, OOB: 0.7074)\n",
      "Trial 28, Step 0: 2 trees, OOB: 0.7492\n",
      "\n",
      "=== DEBUGGING TRIAL 28 ===\n",
      "Intermediate values: {0: 0.7491638795986622}\n",
      "Current step: 0, Current value: 0.7491638795986622\n",
      "[Debug Trial 28]: Not enough steps (1 < 3)\n",
      "Trial 28, Step 1: 5 trees, OOB: 0.7592\n",
      "\n",
      "=== DEBUGGING TRIAL 28 ===\n",
      "Intermediate values: {0: 0.7491638795986622, 1: 0.7591973244147158}\n",
      "Current step: 1, Current value: 0.7591973244147158\n",
      "[Debug Trial 28]: Not enough steps (2 < 3)\n",
      "Trial 28, Step 2: 10 trees, OOB: 0.7642\n",
      "\n",
      "=== DEBUGGING TRIAL 28 ===\n",
      "Intermediate values: {0: 0.7491638795986622, 1: 0.7591973244147158, 2: 0.7642140468227425}\n",
      "Current step: 2, Current value: 0.7642140468227425\n",
      "Steps for prediction: [0 1 2]\n",
      "Values for prediction: [0.74916388 0.75919732 0.76421405]\n",
      "[Debug Trial 28]: Curve fit params: a=0.7692, b=0.0201, c=0.6931\n",
      "[Debug Trial 28]: Extrapolated to step 6: 0.7689\n",
      "Predicted final performance: 0.7689172240802675\n",
      "Completed trial values: [0.7905701754385964, 0.7938596491228068, 0.797027290448343, 0.7860623781676414, 0.7928849902534112, 0.7807017543859648]\n",
      "Threshold (quantile 0.5): 0.7917275828460038\n",
      "Prediction vs threshold: 0.7689 vs 0.7917\n",
      "Decision: PRUNE\n",
      "🔥 PRUNING: 0.7689 < 0.7917\n",
      "Trial 28 pruned at step 2 (10 estimators, OOB: 0.7642)\n",
      "Trial 29, Step 0: 2 trees, OOB: 0.7475\n",
      "\n",
      "=== DEBUGGING TRIAL 29 ===\n",
      "Intermediate values: {0: 0.7474916387959866}\n",
      "Current step: 0, Current value: 0.7474916387959866\n",
      "[Debug Trial 29]: Not enough steps (1 < 3)\n",
      "Trial 29, Step 1: 7 trees, OOB: 0.7742\n",
      "\n",
      "=== DEBUGGING TRIAL 29 ===\n",
      "Intermediate values: {0: 0.7474916387959866, 1: 0.774247491638796}\n",
      "Current step: 1, Current value: 0.774247491638796\n",
      "[Debug Trial 29]: Not enough steps (2 < 3)\n",
      "Trial 29, Step 2: 14 trees, OOB: 0.7860\n",
      "\n",
      "=== DEBUGGING TRIAL 29 ===\n",
      "Intermediate values: {0: 0.7474916387959866, 1: 0.774247491638796, 2: 0.7859531772575251}\n",
      "Current step: 2, Current value: 0.7859531772575251\n",
      "Steps for prediction: [0 1 2]\n",
      "Values for prediction: [0.74749164 0.77424749 0.78595318]\n",
      "[Debug Trial 29]: Curve fit params: a=0.7951, b=0.0476, c=0.8267\n",
      "[Debug Trial 29]: Extrapolated to step 6: 0.7947\n",
      "Predicted final performance: 0.7947240465859505\n",
      "Completed trial values: [0.7905701754385964, 0.7938596491228068, 0.797027290448343, 0.7860623781676414, 0.7928849902534112, 0.7807017543859648]\n",
      "Threshold (quantile 0.5): 0.7917275828460038\n",
      "Prediction vs threshold: 0.7947 vs 0.7917\n",
      "Decision: CONTINUE\n",
      "✅ CONTINUING: 0.7947 >= 0.7917\n",
      "Trial 29, Step 3: 28 trees, OOB: 0.7860\n",
      "\n",
      "=== DEBUGGING TRIAL 29 ===\n",
      "Intermediate values: {0: 0.7474916387959866, 1: 0.774247491638796, 2: 0.7859531772575251, 3: 0.7859531772575251}\n",
      "Current step: 3, Current value: 0.7859531772575251\n",
      "Steps for prediction: [0 1 2 3]\n",
      "Values for prediction: [0.74749164 0.77424749 0.78595318 0.78595318]\n",
      "[Debug Trial 29]: Curve fit params: a=0.7885, b=0.0411, c=1.1213\n",
      "[Debug Trial 29]: Extrapolated to step 9: 0.7885\n",
      "Predicted final performance: 0.7884839332864129\n"
     ]
    },
    {
     "name": "stderr",
     "output_type": "stream",
     "text": [
      "C:\\Users\\Obidur Rahman\\AppData\\Local\\Temp\\ipykernel_3964\\3441492807.py:144: OptimizeWarning: Covariance of the parameters could not be estimated\n",
      "  popt, _ = curve_fit(saturating_func, steps, values, p0=p0, maxfev=1000)\n",
      "C:\\Users\\Obidur Rahman\\AppData\\Local\\Temp\\ipykernel_3964\\3441492807.py:144: OptimizeWarning: Covariance of the parameters could not be estimated\n",
      "  popt, _ = curve_fit(saturating_func, steps, values, p0=p0, maxfev=1000)\n"
     ]
    },
    {
     "name": "stdout",
     "output_type": "stream",
     "text": [
      "Completed trial values: [0.7905701754385964, 0.7938596491228068, 0.797027290448343, 0.7860623781676414, 0.7928849902534112, 0.7807017543859648]\n",
      "Threshold (quantile 0.5): 0.7917275828460038\n",
      "Prediction vs threshold: 0.7885 vs 0.7917\n",
      "Decision: PRUNE\n",
      "🔥 PRUNING: 0.7885 < 0.7917\n",
      "Trial 29 pruned at step 3 (28 estimators, OOB: 0.7860)\n",
      "Trial 30, Step 0: 2 trees, OOB: 0.7140\n",
      "\n",
      "=== DEBUGGING TRIAL 30 ===\n",
      "Intermediate values: {0: 0.7140468227424749}\n",
      "Current step: 0, Current value: 0.7140468227424749\n",
      "[Debug Trial 30]: Not enough steps (1 < 3)\n",
      "Trial 30, Step 1: 5 trees, OOB: 0.7090\n",
      "\n",
      "=== DEBUGGING TRIAL 30 ===\n",
      "Intermediate values: {0: 0.7140468227424749, 1: 0.7090301003344481}\n",
      "Current step: 1, Current value: 0.7090301003344481\n",
      "[Debug Trial 30]: Not enough steps (2 < 3)\n",
      "Trial 30, Step 2: 11 trees, OOB: 0.6957\n",
      "\n",
      "=== DEBUGGING TRIAL 30 ===\n",
      "Intermediate values: {0: 0.7140468227424749, 1: 0.7090301003344481, 2: 0.6956521739130435}\n",
      "Current step: 2, Current value: 0.6956521739130435\n",
      "Steps for prediction: [0 1 2]\n",
      "Values for prediction: [0.71404682 0.7090301  0.69565217]\n",
      "[Debug Trial 30]: Curve fit params: a=-66.3231, b=-67.0386, c=0.0001\n",
      "[Debug Trial 30]: Extrapolated to step 6: 0.6603\n",
      "Predicted final performance: 0.6602728444373867\n",
      "Completed trial values: [0.7905701754385964, 0.7938596491228068, 0.797027290448343, 0.7860623781676414, 0.7928849902534112, 0.7807017543859648]\n",
      "Threshold (quantile 0.5): 0.7917275828460038\n",
      "Prediction vs threshold: 0.6603 vs 0.7917\n",
      "Decision: PRUNE\n",
      "🔥 PRUNING: 0.6603 < 0.7917\n",
      "Trial 30 pruned at step 2 (11 estimators, OOB: 0.6957)\n"
     ]
    },
    {
     "name": "stderr",
     "output_type": "stream",
     "text": [
      "C:\\Users\\Obidur Rahman\\AppData\\Local\\Temp\\ipykernel_3964\\3441492807.py:144: OptimizeWarning: Covariance of the parameters could not be estimated\n",
      "  popt, _ = curve_fit(saturating_func, steps, values, p0=p0, maxfev=1000)\n"
     ]
    },
    {
     "name": "stdout",
     "output_type": "stream",
     "text": [
      "Trial 31, Step 0: 1 trees, OOB: nan\n",
      "\n",
      "=== DEBUGGING TRIAL 31 ===\n",
      "Intermediate values: {0: nan}\n",
      "Current step: 0, Current value: nan\n",
      "[Debug Trial 31]: Not enough steps (1 < 3)\n",
      "Trial 31, Step 1: 3 trees, OOB: 0.7542\n",
      "\n",
      "=== DEBUGGING TRIAL 31 ===\n",
      "Intermediate values: {0: nan, 1: 0.754180602006689}\n",
      "Current step: 1, Current value: 0.754180602006689\n",
      "[Debug Trial 31]: Not enough steps (2 < 3)\n",
      "Trial 31, Step 2: 6 trees, OOB: 0.7609\n",
      "\n",
      "=== DEBUGGING TRIAL 31 ===\n",
      "Intermediate values: {0: nan, 1: 0.754180602006689, 2: 0.7608695652173914}\n",
      "Current step: 2, Current value: 0.7608695652173914\n",
      "Steps for prediction: [0 1 2]\n",
      "Values for prediction: [       nan 0.7541806  0.76086957]\n",
      "[Debug Trial 31]: Curve fitting failed: array must not contain infs or NaNs, using linear extrapolation\n",
      "Predicted final performance: 0.774247491638796\n",
      "Completed trial values: [0.7905701754385964, 0.7938596491228068, 0.797027290448343, 0.7860623781676414, 0.7928849902534112, 0.7807017543859648]\n",
      "Threshold (quantile 0.5): 0.7917275828460038\n",
      "Prediction vs threshold: 0.7742 vs 0.7917\n",
      "Decision: PRUNE\n",
      "🔥 PRUNING: 0.7742 < 0.7917\n",
      "Trial 31 pruned at step 2 (6 estimators, OOB: 0.7609)\n",
      "Trial 32, Step 0: 2 trees, OOB: 0.7040\n",
      "\n",
      "=== DEBUGGING TRIAL 32 ===\n",
      "Intermediate values: {0: 0.7040133779264214}\n",
      "Current step: 0, Current value: 0.7040133779264214\n",
      "[Debug Trial 32]: Not enough steps (1 < 3)\n",
      "Trial 32, Step 1: 6 trees, OOB: 0.6973\n",
      "\n",
      "=== DEBUGGING TRIAL 32 ===\n",
      "Intermediate values: {0: 0.7040133779264214, 1: 0.697324414715719}\n",
      "Current step: 1, Current value: 0.697324414715719\n",
      "[Debug Trial 32]: Not enough steps (2 < 3)\n",
      "Trial 32, Step 2: 12 trees, OOB: 0.6973\n",
      "\n",
      "=== DEBUGGING TRIAL 32 ===\n",
      "Intermediate values: {0: 0.7040133779264214, 1: 0.697324414715719, 2: 0.697324414715719}\n",
      "Current step: 2, Current value: 0.697324414715719\n",
      "Steps for prediction: [0 1 2]\n",
      "Values for prediction: [0.70401338 0.69732441 0.69732441]\n"
     ]
    },
    {
     "name": "stderr",
     "output_type": "stream",
     "text": [
      "C:\\Users\\Obidur Rahman\\AppData\\Local\\Temp\\ipykernel_3964\\3441492807.py:144: OptimizeWarning: Covariance of the parameters could not be estimated\n",
      "  popt, _ = curve_fit(saturating_func, steps, values, p0=p0, maxfev=1000)\n",
      "C:\\Users\\Obidur Rahman\\AppData\\Local\\Temp\\ipykernel_3964\\3441492807.py:144: OptimizeWarning: Covariance of the parameters could not be estimated\n",
      "  popt, _ = curve_fit(saturating_func, steps, values, p0=p0, maxfev=1000)\n"
     ]
    },
    {
     "name": "stdout",
     "output_type": "stream",
     "text": [
      "[Debug Trial 32]: Curve fit params: a=26.8916, b=26.1887, c=-0.0001\n",
      "[Debug Trial 32]: Extrapolated to step 6: 0.6828\n",
      "Predicted final performance: 0.6828270728005563\n",
      "Completed trial values: [0.7905701754385964, 0.7938596491228068, 0.797027290448343, 0.7860623781676414, 0.7928849902534112, 0.7807017543859648]\n",
      "Threshold (quantile 0.5): 0.7917275828460038\n",
      "Prediction vs threshold: 0.6828 vs 0.7917\n",
      "Decision: PRUNE\n",
      "🔥 PRUNING: 0.6828 < 0.7917\n",
      "Trial 32 pruned at step 2 (12 estimators, OOB: 0.6973)\n",
      "Trial 33, Step 0: 2 trees, OOB: 0.6873\n",
      "\n",
      "=== DEBUGGING TRIAL 33 ===\n",
      "Intermediate values: {0: 0.6872909698996655}\n",
      "Current step: 0, Current value: 0.6872909698996655\n",
      "[Debug Trial 33]: Not enough steps (1 < 3)\n",
      "Trial 33, Step 1: 7 trees, OOB: 0.6773\n",
      "\n",
      "=== DEBUGGING TRIAL 33 ===\n",
      "Intermediate values: {0: 0.6872909698996655, 1: 0.677257525083612}\n",
      "Current step: 1, Current value: 0.677257525083612\n",
      "[Debug Trial 33]: Not enough steps (2 < 3)\n",
      "Trial 33, Step 2: 14 trees, OOB: 0.6656\n",
      "\n",
      "=== DEBUGGING TRIAL 33 ===\n",
      "Intermediate values: {0: 0.6872909698996655, 1: 0.677257525083612, 2: 0.6655518394648829}\n",
      "Current step: 2, Current value: 0.6655518394648829\n",
      "Steps for prediction: [0 1 2]\n",
      "Values for prediction: [0.68729097 0.67725753 0.66555184]\n",
      "[Debug Trial 33]: Curve fit params: a=0.7475, b=0.0602, c=-0.1542\n",
      "[Debug Trial 33]: Extrapolated to step 6: 0.5957\n",
      "Predicted final performance: 0.5956880445105114\n",
      "Completed trial values: [0.7905701754385964, 0.7938596491228068, 0.797027290448343, 0.7860623781676414, 0.7928849902534112, 0.7807017543859648]\n",
      "Threshold (quantile 0.5): 0.7917275828460038\n",
      "Prediction vs threshold: 0.5957 vs 0.7917\n",
      "Decision: PRUNE\n",
      "🔥 PRUNING: 0.5957 < 0.7917\n",
      "Trial 33 pruned at step 2 (14 estimators, OOB: 0.6656)\n",
      "Trial 34, Step 0: 3 trees, OOB: 0.6906\n",
      "\n",
      "=== DEBUGGING TRIAL 34 ===\n",
      "Intermediate values: {0: 0.6906354515050167}\n",
      "Current step: 0, Current value: 0.6906354515050167\n",
      "[Debug Trial 34]: Not enough steps (1 < 3)\n",
      "Trial 34, Step 1: 9 trees, OOB: 0.6940\n",
      "\n",
      "=== DEBUGGING TRIAL 34 ===\n",
      "Intermediate values: {0: 0.6906354515050167, 1: 0.6939799331103679}\n",
      "Current step: 1, Current value: 0.6939799331103679\n",
      "[Debug Trial 34]: Not enough steps (2 < 3)\n",
      "Trial 34, Step 2: 19 trees, OOB: 0.7157\n",
      "\n",
      "=== DEBUGGING TRIAL 34 ===\n",
      "Intermediate values: {0: 0.6906354515050167, 1: 0.6939799331103679, 2: 0.7157190635451505}\n",
      "Current step: 2, Current value: 0.7157190635451505\n",
      "Steps for prediction: [0 1 2]\n",
      "Values for prediction: [0.69063545 0.69397993 0.71571906]\n",
      "[Debug Trial 34]: Curve fit params: a=137.4959, b=136.8083, c=0.0001\n",
      "[Debug Trial 34]: Extrapolated to step 6: 0.7628\n",
      "Predicted final performance: 0.7628053590342461\n",
      "Completed trial values: [0.7905701754385964, 0.7938596491228068, 0.797027290448343, 0.7860623781676414, 0.7928849902534112, 0.7807017543859648]\n",
      "Threshold (quantile 0.5): 0.7917275828460038\n",
      "Prediction vs threshold: 0.7628 vs 0.7917\n",
      "Decision: PRUNE\n",
      "🔥 PRUNING: 0.7628 < 0.7917\n",
      "Trial 34 pruned at step 2 (19 estimators, OOB: 0.7157)\n",
      "Trial 35, Step 0: 2 trees, OOB: 0.7057\n",
      "\n",
      "=== DEBUGGING TRIAL 35 ===\n",
      "Intermediate values: {0: 0.705685618729097}\n",
      "Current step: 0, Current value: 0.705685618729097\n",
      "[Debug Trial 35]: Not enough steps (1 < 3)\n",
      "Trial 35, Step 1: 6 trees, OOB: 0.6806\n",
      "\n",
      "=== DEBUGGING TRIAL 35 ===\n",
      "Intermediate values: {0: 0.705685618729097, 1: 0.6806020066889632}\n",
      "Current step: 1, Current value: 0.6806020066889632\n",
      "[Debug Trial 35]: Not enough steps (2 < 3)\n"
     ]
    },
    {
     "name": "stderr",
     "output_type": "stream",
     "text": [
      "C:\\Users\\Obidur Rahman\\AppData\\Local\\Temp\\ipykernel_3964\\3441492807.py:144: OptimizeWarning: Covariance of the parameters could not be estimated\n",
      "  popt, _ = curve_fit(saturating_func, steps, values, p0=p0, maxfev=1000)\n"
     ]
    },
    {
     "name": "stdout",
     "output_type": "stream",
     "text": [
      "Trial 35, Step 2: 12 trees, OOB: 0.6605\n",
      "\n",
      "=== DEBUGGING TRIAL 35 ===\n",
      "Intermediate values: {0: 0.705685618729097, 1: 0.6806020066889632, 2: 0.6605351170568562}\n",
      "Current step: 2, Current value: 0.6605351170568562\n",
      "Steps for prediction: [0 1 2]\n",
      "Values for prediction: [0.70568562 0.68060201 0.66053512]\n",
      "[Debug Trial 35]: Curve fitting failed: Optimal parameters not found: Number of calls to function has reached maxfev = 1000., using linear extrapolation\n",
      "Predicted final performance: 0.6204013377926422\n",
      "Completed trial values: [0.7905701754385964, 0.7938596491228068, 0.797027290448343, 0.7860623781676414, 0.7928849902534112, 0.7807017543859648]\n",
      "Threshold (quantile 0.5): 0.7917275828460038\n",
      "Prediction vs threshold: 0.6204 vs 0.7917\n",
      "Decision: PRUNE\n",
      "🔥 PRUNING: 0.6204 < 0.7917\n",
      "Trial 35 pruned at step 2 (12 estimators, OOB: 0.6605)\n",
      "Trial 36, Step 0: 2 trees, OOB: 0.7007\n",
      "\n",
      "=== DEBUGGING TRIAL 36 ===\n",
      "Intermediate values: {0: 0.7006688963210702}\n",
      "Current step: 0, Current value: 0.7006688963210702\n",
      "[Debug Trial 36]: Not enough steps (1 < 3)\n",
      "Trial 36, Step 1: 5 trees, OOB: 0.6957\n",
      "\n",
      "=== DEBUGGING TRIAL 36 ===\n",
      "Intermediate values: {0: 0.7006688963210702, 1: 0.6956521739130435}\n",
      "Current step: 1, Current value: 0.6956521739130435\n",
      "[Debug Trial 36]: Not enough steps (2 < 3)\n",
      "Trial 36, Step 2: 10 trees, OOB: 0.6589\n",
      "\n",
      "=== DEBUGGING TRIAL 36 ===\n",
      "Intermediate values: {0: 0.7006688963210702, 1: 0.6956521739130435, 2: 0.6588628762541806}\n",
      "Current step: 2, Current value: 0.6588628762541806\n",
      "Steps for prediction: [0 1 2]\n",
      "Values for prediction: [0.7006689  0.69565217 0.65886288]\n"
     ]
    },
    {
     "name": "stderr",
     "output_type": "stream",
     "text": [
      "C:\\Users\\Obidur Rahman\\AppData\\Local\\Temp\\ipykernel_3964\\3441492807.py:144: OptimizeWarning: Covariance of the parameters could not be estimated\n",
      "  popt, _ = curve_fit(saturating_func, steps, values, p0=p0, maxfev=1000)\n",
      "C:\\Users\\Obidur Rahman\\AppData\\Local\\Temp\\ipykernel_3964\\3441492807.py:144: OptimizeWarning: Covariance of the parameters could not be estimated\n",
      "  popt, _ = curve_fit(saturating_func, steps, values, p0=p0, maxfev=1000)\n"
     ]
    },
    {
     "name": "stdout",
     "output_type": "stream",
     "text": [
      "[Debug Trial 36]: Curve fit params: a=0.7015, b=0.0008, c=-1.9924\n",
      "[Debug Trial 36]: Extrapolated to step 6: -122.4944\n",
      "Predicted final performance: -122.4944465089379\n",
      "Completed trial values: [0.7905701754385964, 0.7938596491228068, 0.797027290448343, 0.7860623781676414, 0.7928849902534112, 0.7807017543859648]\n",
      "Threshold (quantile 0.5): 0.7917275828460038\n",
      "Prediction vs threshold: -122.4944 vs 0.7917\n",
      "Decision: PRUNE\n",
      "🔥 PRUNING: -122.4944 < 0.7917\n",
      "Trial 36 pruned at step 2 (10 estimators, OOB: 0.6589)\n",
      "Trial 37, Step 0: 3 trees, OOB: 0.6706\n",
      "\n",
      "=== DEBUGGING TRIAL 37 ===\n",
      "Intermediate values: {0: 0.6705685618729097}\n",
      "Current step: 0, Current value: 0.6705685618729097\n",
      "[Debug Trial 37]: Not enough steps (1 < 3)\n",
      "Trial 37, Step 1: 7 trees, OOB: 0.6722\n",
      "\n",
      "=== DEBUGGING TRIAL 37 ===\n",
      "Intermediate values: {0: 0.6705685618729097, 1: 0.6722408026755853}\n",
      "Current step: 1, Current value: 0.6722408026755853\n",
      "[Debug Trial 37]: Not enough steps (2 < 3)\n",
      "Trial 37, Step 2: 15 trees, OOB: 0.6990\n",
      "\n",
      "=== DEBUGGING TRIAL 37 ===\n",
      "Intermediate values: {0: 0.6705685618729097, 1: 0.6722408026755853, 2: 0.6989966555183946}\n",
      "Current step: 2, Current value: 0.6989966555183946\n",
      "Steps for prediction: [0 1 2]\n",
      "Values for prediction: [0.67056856 0.6722408  0.69899666]\n",
      "[Debug Trial 37]: Curve fit params: a=130.9168, b=130.2504, c=0.0001\n",
      "[Debug Trial 37]: Extrapolated to step 6: 0.7517\n",
      "Predicted final performance: 0.7516533668270426\n",
      "Completed trial values: [0.7905701754385964, 0.7938596491228068, 0.797027290448343, 0.7860623781676414, 0.7928849902534112, 0.7807017543859648]\n",
      "Threshold (quantile 0.5): 0.7917275828460038\n",
      "Prediction vs threshold: 0.7517 vs 0.7917\n",
      "Decision: PRUNE\n",
      "🔥 PRUNING: 0.7517 < 0.7917\n",
      "Trial 37 pruned at step 2 (15 estimators, OOB: 0.6990)\n",
      "Trial 38, Step 0: 2 trees, OOB: 0.6839\n",
      "\n",
      "=== DEBUGGING TRIAL 38 ===\n",
      "Intermediate values: {0: 0.6839464882943144}\n",
      "Current step: 0, Current value: 0.6839464882943144\n",
      "[Debug Trial 38]: Not enough steps (1 < 3)\n",
      "Trial 38, Step 1: 5 trees, OOB: 0.6722\n",
      "\n",
      "=== DEBUGGING TRIAL 38 ===\n",
      "Intermediate values: {0: 0.6839464882943144, 1: 0.6722408026755853}\n",
      "Current step: 1, Current value: 0.6722408026755853\n",
      "[Debug Trial 38]: Not enough steps (2 < 3)\n",
      "Trial 38, Step 2: 11 trees, OOB: 0.6689\n",
      "\n",
      "=== DEBUGGING TRIAL 38 ===\n",
      "Intermediate values: {0: 0.6839464882943144, 1: 0.6722408026755853, 2: 0.6688963210702341}\n",
      "Current step: 2, Current value: 0.6688963210702341\n",
      "Steps for prediction: [0 1 2]\n",
      "Values for prediction: [0.68394649 0.6722408  0.66889632]\n",
      "[Debug Trial 38]: Curve fit params: a=42.4855, b=41.8030, c=-0.0002\n",
      "[Debug Trial 38]: Extrapolated to step 6: 0.6374\n",
      "Predicted final performance: 0.6373878343853363\n",
      "Completed trial values: [0.7905701754385964, 0.7938596491228068, 0.797027290448343, 0.7860623781676414, 0.7928849902534112, 0.7807017543859648]\n",
      "Threshold (quantile 0.5): 0.7917275828460038\n",
      "Prediction vs threshold: 0.6374 vs 0.7917\n",
      "Decision: PRUNE\n",
      "🔥 PRUNING: 0.6374 < 0.7917\n",
      "Trial 38 pruned at step 2 (11 estimators, OOB: 0.6689)\n",
      "Trial 39, Step 0: 3 trees, OOB: 0.7324\n",
      "\n",
      "=== DEBUGGING TRIAL 39 ===\n",
      "Intermediate values: {0: 0.7324414715719063}\n",
      "Current step: 0, Current value: 0.7324414715719063\n",
      "[Debug Trial 39]: Not enough steps (1 < 3)\n",
      "Trial 39, Step 1: 8 trees, OOB: 0.7542\n",
      "\n",
      "=== DEBUGGING TRIAL 39 ===\n",
      "Intermediate values: {0: 0.7324414715719063, 1: 0.754180602006689}\n",
      "Current step: 1, Current value: 0.754180602006689\n",
      "[Debug Trial 39]: Not enough steps (2 < 3)\n"
     ]
    },
    {
     "name": "stderr",
     "output_type": "stream",
     "text": [
      "C:\\Users\\Obidur Rahman\\AppData\\Local\\Temp\\ipykernel_3964\\3441492807.py:144: OptimizeWarning: Covariance of the parameters could not be estimated\n",
      "  popt, _ = curve_fit(saturating_func, steps, values, p0=p0, maxfev=1000)\n",
      "C:\\Users\\Obidur Rahman\\AppData\\Local\\Temp\\ipykernel_3964\\3441492807.py:144: OptimizeWarning: Covariance of the parameters could not be estimated\n",
      "  popt, _ = curve_fit(saturating_func, steps, values, p0=p0, maxfev=1000)\n"
     ]
    },
    {
     "name": "stdout",
     "output_type": "stream",
     "text": [
      "Trial 39, Step 2: 16 trees, OOB: 0.7592\n",
      "\n",
      "=== DEBUGGING TRIAL 39 ===\n",
      "Intermediate values: {0: 0.7324414715719063, 1: 0.754180602006689, 2: 0.7591973244147158}\n",
      "Current step: 2, Current value: 0.7591973244147158\n",
      "Steps for prediction: [0 1 2]\n",
      "Values for prediction: [0.73244147 0.7541806  0.75919732]\n",
      "[Debug Trial 39]: Curve fit params: a=0.7607, b=0.0283, c=1.4663\n",
      "[Debug Trial 39]: Extrapolated to step 6: 0.7607\n",
      "Predicted final performance: 0.7606980728567933\n",
      "Completed trial values: [0.7905701754385964, 0.7938596491228068, 0.797027290448343, 0.7860623781676414, 0.7928849902534112, 0.7807017543859648]\n",
      "Threshold (quantile 0.5): 0.7917275828460038\n",
      "Prediction vs threshold: 0.7607 vs 0.7917\n",
      "Decision: PRUNE\n",
      "🔥 PRUNING: 0.7607 < 0.7917\n",
      "Trial 39 pruned at step 2 (16 estimators, OOB: 0.7592)\n",
      "Trial 40, Step 0: 4 trees, OOB: 0.7057\n",
      "\n",
      "=== DEBUGGING TRIAL 40 ===\n",
      "Intermediate values: {0: 0.705685618729097}\n",
      "Current step: 0, Current value: 0.705685618729097\n",
      "[Debug Trial 40]: Not enough steps (1 < 3)\n",
      "Trial 40, Step 1: 11 trees, OOB: 0.6789\n",
      "\n",
      "=== DEBUGGING TRIAL 40 ===\n",
      "Intermediate values: {0: 0.705685618729097, 1: 0.6789297658862876}\n",
      "Current step: 1, Current value: 0.6789297658862876\n",
      "[Debug Trial 40]: Not enough steps (2 < 3)\n",
      "Trial 40, Step 2: 22 trees, OOB: 0.6940\n",
      "\n",
      "=== DEBUGGING TRIAL 40 ===\n",
      "Intermediate values: {0: 0.705685618729097, 1: 0.6789297658862876, 2: 0.6939799331103679}\n",
      "Current step: 2, Current value: 0.6939799331103679\n",
      "Steps for prediction: [0 1 2]\n",
      "Values for prediction: [0.70568562 0.67892977 0.69397993]\n",
      "[Debug Trial 40]: Curve fit params: a=37.6129, b=36.9141, c=-0.0002\n",
      "[Debug Trial 40]: Extrapolated to step 6: 0.6636\n",
      "Predicted final performance: 0.6635940455062084\n",
      "Completed trial values: [0.7905701754385964, 0.7938596491228068, 0.797027290448343, 0.7860623781676414, 0.7928849902534112, 0.7807017543859648]\n",
      "Threshold (quantile 0.5): 0.7917275828460038\n",
      "Prediction vs threshold: 0.6636 vs 0.7917\n",
      "Decision: PRUNE\n",
      "🔥 PRUNING: 0.6636 < 0.7917\n",
      "Trial 40 pruned at step 2 (22 estimators, OOB: 0.6940)\n"
     ]
    },
    {
     "name": "stderr",
     "output_type": "stream",
     "text": [
      "C:\\Users\\Obidur Rahman\\AppData\\Local\\Temp\\ipykernel_3964\\3441492807.py:144: OptimizeWarning: Covariance of the parameters could not be estimated\n",
      "  popt, _ = curve_fit(saturating_func, steps, values, p0=p0, maxfev=1000)\n"
     ]
    },
    {
     "name": "stdout",
     "output_type": "stream",
     "text": [
      "Trial 41, Step 0: 1 trees, OOB: nan\n",
      "\n",
      "=== DEBUGGING TRIAL 41 ===\n",
      "Intermediate values: {0: nan}\n",
      "Current step: 0, Current value: nan\n",
      "[Debug Trial 41]: Not enough steps (1 < 3)\n",
      "Trial 41, Step 1: 4 trees, OOB: 0.7575\n",
      "\n",
      "=== DEBUGGING TRIAL 41 ===\n",
      "Intermediate values: {0: nan, 1: 0.7575250836120402}\n",
      "Current step: 1, Current value: 0.7575250836120402\n",
      "[Debug Trial 41]: Not enough steps (2 < 3)\n",
      "Trial 41, Step 2: 9 trees, OOB: 0.7625\n",
      "\n",
      "=== DEBUGGING TRIAL 41 ===\n",
      "Intermediate values: {0: nan, 1: 0.7575250836120402, 2: 0.7625418060200669}\n",
      "Current step: 2, Current value: 0.7625418060200669\n",
      "Steps for prediction: [0 1 2]\n",
      "Values for prediction: [       nan 0.75752508 0.76254181]\n",
      "[Debug Trial 41]: Curve fitting failed: array must not contain infs or NaNs, using linear extrapolation\n",
      "Predicted final performance: 0.7725752508361204\n",
      "Completed trial values: [0.7905701754385964, 0.7938596491228068, 0.797027290448343, 0.7860623781676414, 0.7928849902534112, 0.7807017543859648]\n",
      "Threshold (quantile 0.5): 0.7917275828460038\n",
      "Prediction vs threshold: 0.7726 vs 0.7917\n",
      "Decision: PRUNE\n",
      "🔥 PRUNING: 0.7726 < 0.7917\n",
      "Trial 41 pruned at step 2 (9 estimators, OOB: 0.7625)\n",
      "Trial 42, Step 0: 2 trees, OOB: 0.7492\n",
      "\n",
      "=== DEBUGGING TRIAL 42 ===\n",
      "Intermediate values: {0: 0.7491638795986622}\n",
      "Current step: 0, Current value: 0.7491638795986622\n",
      "[Debug Trial 42]: Not enough steps (1 < 3)\n",
      "Trial 42, Step 1: 6 trees, OOB: 0.7676\n",
      "\n",
      "=== DEBUGGING TRIAL 42 ===\n",
      "Intermediate values: {0: 0.7491638795986622, 1: 0.7675585284280937}\n",
      "Current step: 1, Current value: 0.7675585284280937\n",
      "[Debug Trial 42]: Not enough steps (2 < 3)\n",
      "Trial 42, Step 2: 12 trees, OOB: 0.7759\n",
      "\n",
      "=== DEBUGGING TRIAL 42 ===\n",
      "Intermediate values: {0: 0.7491638795986622, 1: 0.7675585284280937, 2: 0.7759197324414716}\n",
      "Current step: 2, Current value: 0.7759197324414716\n",
      "Steps for prediction: [0 1 2]\n",
      "Values for prediction: [0.74916388 0.76755853 0.77591973]\n",
      "[Debug Trial 42]: Curve fit params: a=0.7829, b=0.0337, c=0.7885\n",
      "[Debug Trial 42]: Extrapolated to step 6: 0.7826\n",
      "Predicted final performance: 0.7825899641794851\n",
      "Completed trial values: [0.7905701754385964, 0.7938596491228068, 0.797027290448343, 0.7860623781676414, 0.7928849902534112, 0.7807017543859648]\n",
      "Threshold (quantile 0.5): 0.7917275828460038\n",
      "Prediction vs threshold: 0.7826 vs 0.7917\n",
      "Decision: PRUNE\n",
      "🔥 PRUNING: 0.7826 < 0.7917\n",
      "Trial 42 pruned at step 2 (12 estimators, OOB: 0.7759)\n",
      "Trial 43, Step 0: 2 trees, OOB: 0.7525\n",
      "\n",
      "=== DEBUGGING TRIAL 43 ===\n",
      "Intermediate values: {0: 0.7525083612040134}\n",
      "Current step: 0, Current value: 0.7525083612040134\n",
      "[Debug Trial 43]: Not enough steps (1 < 3)\n",
      "Trial 43, Step 1: 5 trees, OOB: 0.7575\n",
      "\n",
      "=== DEBUGGING TRIAL 43 ===\n",
      "Intermediate values: {0: 0.7525083612040134, 1: 0.7575250836120402}\n",
      "Current step: 1, Current value: 0.7575250836120402\n",
      "[Debug Trial 43]: Not enough steps (2 < 3)\n",
      "Trial 43, Step 2: 10 trees, OOB: 0.7659\n",
      "\n",
      "=== DEBUGGING TRIAL 43 ===\n",
      "Intermediate values: {0: 0.7525083612040134, 1: 0.7575250836120402, 2: 0.7658862876254181}\n",
      "Current step: 2, Current value: 0.7658862876254181\n",
      "Steps for prediction: [0 1 2]\n",
      "Values for prediction: [0.75250836 0.75752508 0.76588629]\n",
      "[Debug Trial 43]: Curve fitting failed: Optimal parameters not found: Number of calls to function has reached maxfev = 1000., using linear extrapolation\n",
      "Predicted final performance: 0.782608695652174\n",
      "Completed trial values: [0.7905701754385964, 0.7938596491228068, 0.797027290448343, 0.7860623781676414, 0.7928849902534112, 0.7807017543859648]\n",
      "Threshold (quantile 0.5): 0.7917275828460038\n",
      "Prediction vs threshold: 0.7826 vs 0.7917\n",
      "Decision: PRUNE\n",
      "🔥 PRUNING: 0.7826 < 0.7917\n",
      "Trial 43 pruned at step 2 (10 estimators, OOB: 0.7659)\n"
     ]
    },
    {
     "name": "stderr",
     "output_type": "stream",
     "text": [
      "C:\\Users\\Obidur Rahman\\AppData\\Local\\Temp\\ipykernel_3964\\3441492807.py:144: OptimizeWarning: Covariance of the parameters could not be estimated\n",
      "  popt, _ = curve_fit(saturating_func, steps, values, p0=p0, maxfev=1000)\n"
     ]
    },
    {
     "name": "stdout",
     "output_type": "stream",
     "text": [
      "Trial 44, Step 0: 2 trees, OOB: 0.7592\n",
      "\n",
      "=== DEBUGGING TRIAL 44 ===\n",
      "Intermediate values: {0: 0.7591973244147158}\n",
      "Current step: 0, Current value: 0.7591973244147158\n",
      "[Debug Trial 44]: Not enough steps (1 < 3)\n",
      "Trial 44, Step 1: 6 trees, OOB: 0.7609\n",
      "\n",
      "=== DEBUGGING TRIAL 44 ===\n",
      "Intermediate values: {0: 0.7591973244147158, 1: 0.7608695652173914}\n",
      "Current step: 1, Current value: 0.7608695652173914\n",
      "[Debug Trial 44]: Not enough steps (2 < 3)\n",
      "Trial 44, Step 2: 13 trees, OOB: 0.7809\n",
      "\n",
      "=== DEBUGGING TRIAL 44 ===\n",
      "Intermediate values: {0: 0.7591973244147158, 1: 0.7608695652173914, 2: 0.7809364548494984}\n",
      "Current step: 2, Current value: 0.7809364548494984\n",
      "Steps for prediction: [0 1 2]\n",
      "Values for prediction: [0.75919732 0.76086957 0.78093645]\n",
      "[Debug Trial 44]: Curve fit params: a=112.2503, b=111.4942, c=0.0001\n",
      "[Debug Trial 44]: Extrapolated to step 6: 0.8213\n",
      "Predicted final performance: 0.8213347680807033\n",
      "Completed trial values: [0.7905701754385964, 0.7938596491228068, 0.797027290448343, 0.7860623781676414, 0.7928849902534112, 0.7807017543859648]\n",
      "Threshold (quantile 0.5): 0.7917275828460038\n",
      "Prediction vs threshold: 0.8213 vs 0.7917\n",
      "Decision: CONTINUE\n",
      "✅ CONTINUING: 0.8213 >= 0.7917\n",
      "Trial 44, Step 3: 27 trees, OOB: 0.7826\n",
      "\n",
      "=== DEBUGGING TRIAL 44 ===\n",
      "Intermediate values: {0: 0.7591973244147158, 1: 0.7608695652173914, 2: 0.7809364548494984, 3: 0.782608695652174}\n",
      "Current step: 3, Current value: 0.782608695652174\n",
      "Steps for prediction: [0 1 2 3]\n",
      "Values for prediction: [0.75919732 0.76086957 0.78093645 0.7826087 ]\n",
      "[Debug Trial 44]: Curve fitting failed: Optimal parameters not found: Number of calls to function has reached maxfev = 1000., using linear extrapolation\n",
      "Predicted final performance: 0.7876254180602007\n",
      "Completed trial values: [0.7905701754385964, 0.7938596491228068, 0.797027290448343, 0.7860623781676414, 0.7928849902534112, 0.7807017543859648]\n",
      "Threshold (quantile 0.5): 0.7917275828460038\n",
      "Prediction vs threshold: 0.7876 vs 0.7917\n",
      "Decision: PRUNE\n",
      "🔥 PRUNING: 0.7876 < 0.7917\n",
      "Trial 44 pruned at step 3 (27 estimators, OOB: 0.7826)\n"
     ]
    },
    {
     "name": "stderr",
     "output_type": "stream",
     "text": [
      "C:\\Users\\Obidur Rahman\\AppData\\Local\\Temp\\ipykernel_3964\\3441492807.py:144: OptimizeWarning: Covariance of the parameters could not be estimated\n",
      "  popt, _ = curve_fit(saturating_func, steps, values, p0=p0, maxfev=1000)\n"
     ]
    },
    {
     "name": "stdout",
     "output_type": "stream",
     "text": [
      "Trial 45, Step 0: 2 trees, OOB: 0.7525\n",
      "\n",
      "=== DEBUGGING TRIAL 45 ===\n",
      "Intermediate values: {0: 0.7525083612040134}\n",
      "Current step: 0, Current value: 0.7525083612040134\n",
      "[Debug Trial 45]: Not enough steps (1 < 3)\n",
      "Trial 45, Step 1: 7 trees, OOB: 0.7625\n",
      "\n",
      "=== DEBUGGING TRIAL 45 ===\n",
      "Intermediate values: {0: 0.7525083612040134, 1: 0.7625418060200669}\n",
      "Current step: 1, Current value: 0.7625418060200669\n",
      "[Debug Trial 45]: Not enough steps (2 < 3)\n",
      "Trial 45, Step 2: 14 trees, OOB: 0.7742\n",
      "\n",
      "=== DEBUGGING TRIAL 45 ===\n",
      "Intermediate values: {0: 0.7525083612040134, 1: 0.7625418060200669, 2: 0.774247491638796}\n",
      "Current step: 2, Current value: 0.774247491638796\n",
      "Steps for prediction: [0 1 2]\n",
      "Values for prediction: [0.75250836 0.76254181 0.77424749]\n",
      "[Debug Trial 45]: Curve fitting failed: Optimal parameters not found: Number of calls to function has reached maxfev = 1000., using linear extrapolation\n",
      "Predicted final performance: 0.7976588628762542\n",
      "Completed trial values: [0.7905701754385964, 0.7938596491228068, 0.797027290448343, 0.7860623781676414, 0.7928849902534112, 0.7807017543859648]\n",
      "Threshold (quantile 0.5): 0.7917275828460038\n",
      "Prediction vs threshold: 0.7977 vs 0.7917\n",
      "Decision: CONTINUE\n",
      "✅ CONTINUING: 0.7977 >= 0.7917\n",
      "Trial 45, Step 3: 29 trees, OOB: 0.7809\n",
      "\n",
      "=== DEBUGGING TRIAL 45 ===\n",
      "Intermediate values: {0: 0.7525083612040134, 1: 0.7625418060200669, 2: 0.774247491638796, 3: 0.7809364548494984}\n",
      "Current step: 3, Current value: 0.7809364548494984\n",
      "Steps for prediction: [0 1 2 3]\n",
      "Values for prediction: [0.75250836 0.76254181 0.77424749 0.78093645]\n",
      "[Debug Trial 45]: Curve fit params: a=0.8281, b=0.0759, c=0.1614\n",
      "[Debug Trial 45]: Extrapolated to step 9: 0.8103\n",
      "Predicted final performance: 0.8103493893523329\n",
      "Completed trial values: [0.7905701754385964, 0.7938596491228068, 0.797027290448343, 0.7860623781676414, 0.7928849902534112, 0.7807017543859648]\n",
      "Threshold (quantile 0.5): 0.7917275828460038\n",
      "Prediction vs threshold: 0.8103 vs 0.7917\n",
      "Decision: CONTINUE\n",
      "✅ CONTINUING: 0.8103 >= 0.7917\n",
      "Trial 45, Step 4: 74 trees, OOB: 0.7876\n",
      "\n",
      "=== DEBUGGING TRIAL 45 ===\n",
      "Intermediate values: {0: 0.7525083612040134, 1: 0.7625418060200669, 2: 0.774247491638796, 3: 0.7809364548494984, 4: 0.7876254180602007}\n",
      "Current step: 4, Current value: 0.7876254180602007\n",
      "Steps for prediction: [0 1 2 3 4]\n",
      "Values for prediction: [0.75250836 0.76254181 0.77424749 0.78093645 0.78762542]\n",
      "[Debug Trial 45]: Curve fit params: a=0.8205, b=0.0683, c=0.1839\n",
      "[Debug Trial 45]: Extrapolated to step 12: 0.8130\n",
      "Predicted final performance: 0.812953110586203\n",
      "Completed trial values: [0.7905701754385964, 0.7938596491228068, 0.797027290448343, 0.7860623781676414, 0.7928849902534112, 0.7807017543859648]\n",
      "Threshold (quantile 0.5): 0.7917275828460038\n",
      "Prediction vs threshold: 0.8130 vs 0.7917\n",
      "Decision: CONTINUE\n",
      "✅ CONTINUING: 0.8130 >= 0.7917\n",
      "Trial 45, Step 5: 149 trees, OOB: 0.7876\n",
      "\n",
      "=== DEBUGGING TRIAL 45 ===\n",
      "Intermediate values: {0: 0.7525083612040134, 1: 0.7625418060200669, 2: 0.774247491638796, 3: 0.7809364548494984, 4: 0.7876254180602007, 5: 0.7876254180602007}\n",
      "Current step: 5, Current value: 0.7876254180602007\n",
      "Steps for prediction: [0 1 2 3 4 5]\n",
      "Values for prediction: [0.75250836 0.76254181 0.77424749 0.78093645 0.78762542 0.78762542]\n",
      "[Debug Trial 45]: Curve fit params: a=0.7993, b=0.0476, c=0.3124\n",
      "[Debug Trial 45]: Extrapolated to step 15: 0.7988\n",
      "Predicted final performance: 0.7988229792698087\n",
      "Completed trial values: [0.7905701754385964, 0.7938596491228068, 0.797027290448343, 0.7860623781676414, 0.7928849902534112, 0.7807017543859648]\n",
      "Threshold (quantile 0.5): 0.7917275828460038\n",
      "Prediction vs threshold: 0.7988 vs 0.7917\n",
      "Decision: CONTINUE\n",
      "✅ CONTINUING: 0.7988 >= 0.7917\n",
      "Trial 45 completed with AUC: 0.7902\n",
      "Trial 46, Step 0: 2 trees, OOB: 0.7525\n",
      "\n",
      "=== DEBUGGING TRIAL 46 ===\n",
      "Intermediate values: {0: 0.7525083612040134}\n",
      "Current step: 0, Current value: 0.7525083612040134\n",
      "[Debug Trial 46]: Not enough steps (1 < 3)\n",
      "Trial 46, Step 1: 7 trees, OOB: 0.7625\n",
      "\n",
      "=== DEBUGGING TRIAL 46 ===\n",
      "Intermediate values: {0: 0.7525083612040134, 1: 0.7625418060200669}\n",
      "Current step: 1, Current value: 0.7625418060200669\n",
      "[Debug Trial 46]: Not enough steps (2 < 3)\n",
      "Trial 46, Step 2: 14 trees, OOB: 0.7742\n",
      "\n",
      "=== DEBUGGING TRIAL 46 ===\n",
      "Intermediate values: {0: 0.7525083612040134, 1: 0.7625418060200669, 2: 0.774247491638796}\n",
      "Current step: 2, Current value: 0.774247491638796\n",
      "Steps for prediction: [0 1 2]\n",
      "Values for prediction: [0.75250836 0.76254181 0.77424749]\n",
      "[Debug Trial 46]: Curve fitting failed: Optimal parameters not found: Number of calls to function has reached maxfev = 1000., using linear extrapolation\n",
      "Predicted final performance: 0.7976588628762542\n",
      "Completed trial values: [0.7905701754385964, 0.7938596491228068, 0.797027290448343, 0.7860623781676414, 0.7928849902534112, 0.7807017543859648, 0.790204678362573]\n",
      "Threshold (quantile 0.5): 0.7905701754385964\n",
      "Prediction vs threshold: 0.7977 vs 0.7906\n",
      "Decision: CONTINUE\n",
      "✅ CONTINUING: 0.7977 >= 0.7906\n",
      "Trial 46, Step 3: 29 trees, OOB: 0.7809\n",
      "\n",
      "=== DEBUGGING TRIAL 46 ===\n",
      "Intermediate values: {0: 0.7525083612040134, 1: 0.7625418060200669, 2: 0.774247491638796, 3: 0.7809364548494984}\n",
      "Current step: 3, Current value: 0.7809364548494984\n",
      "Steps for prediction: [0 1 2 3]\n",
      "Values for prediction: [0.75250836 0.76254181 0.77424749 0.78093645]\n",
      "[Debug Trial 46]: Curve fit params: a=0.8281, b=0.0759, c=0.1614\n",
      "[Debug Trial 46]: Extrapolated to step 9: 0.8103\n",
      "Predicted final performance: 0.8103493893523329\n",
      "Completed trial values: [0.7905701754385964, 0.7938596491228068, 0.797027290448343, 0.7860623781676414, 0.7928849902534112, 0.7807017543859648, 0.790204678362573]\n",
      "Threshold (quantile 0.5): 0.7905701754385964\n",
      "Prediction vs threshold: 0.8103 vs 0.7906\n",
      "Decision: CONTINUE\n",
      "✅ CONTINUING: 0.8103 >= 0.7906\n",
      "Trial 46, Step 4: 73 trees, OOB: 0.7876\n",
      "\n",
      "=== DEBUGGING TRIAL 46 ===\n",
      "Intermediate values: {0: 0.7525083612040134, 1: 0.7625418060200669, 2: 0.774247491638796, 3: 0.7809364548494984, 4: 0.7876254180602007}\n",
      "Current step: 4, Current value: 0.7876254180602007\n",
      "Steps for prediction: [0 1 2 3 4]\n",
      "Values for prediction: [0.75250836 0.76254181 0.77424749 0.78093645 0.78762542]\n",
      "[Debug Trial 46]: Curve fit params: a=0.8205, b=0.0683, c=0.1839\n",
      "[Debug Trial 46]: Extrapolated to step 12: 0.8130\n",
      "Predicted final performance: 0.812953110586203\n",
      "Completed trial values: [0.7905701754385964, 0.7938596491228068, 0.797027290448343, 0.7860623781676414, 0.7928849902534112, 0.7807017543859648, 0.790204678362573]\n",
      "Threshold (quantile 0.5): 0.7905701754385964\n",
      "Prediction vs threshold: 0.8130 vs 0.7906\n",
      "Decision: CONTINUE\n",
      "✅ CONTINUING: 0.8130 >= 0.7906\n",
      "Trial 46, Step 5: 147 trees, OOB: 0.7876\n",
      "\n",
      "=== DEBUGGING TRIAL 46 ===\n",
      "Intermediate values: {0: 0.7525083612040134, 1: 0.7625418060200669, 2: 0.774247491638796, 3: 0.7809364548494984, 4: 0.7876254180602007, 5: 0.7876254180602007}\n",
      "Current step: 5, Current value: 0.7876254180602007\n",
      "Steps for prediction: [0 1 2 3 4 5]\n",
      "Values for prediction: [0.75250836 0.76254181 0.77424749 0.78093645 0.78762542 0.78762542]\n",
      "[Debug Trial 46]: Curve fit params: a=0.7993, b=0.0476, c=0.3124\n",
      "[Debug Trial 46]: Extrapolated to step 15: 0.7988\n",
      "Predicted final performance: 0.7988229792698087\n",
      "Completed trial values: [0.7905701754385964, 0.7938596491228068, 0.797027290448343, 0.7860623781676414, 0.7928849902534112, 0.7807017543859648, 0.790204678362573]\n",
      "Threshold (quantile 0.5): 0.7905701754385964\n",
      "Prediction vs threshold: 0.7988 vs 0.7906\n",
      "Decision: CONTINUE\n",
      "✅ CONTINUING: 0.7988 >= 0.7906\n",
      "Trial 46 completed with AUC: 0.7897\n",
      "Trial 47, Step 0: 3 trees, OOB: 0.7441\n",
      "\n",
      "=== DEBUGGING TRIAL 47 ===\n",
      "Intermediate values: {0: 0.7441471571906354}\n",
      "Current step: 0, Current value: 0.7441471571906354\n",
      "[Debug Trial 47]: Not enough steps (1 < 3)\n",
      "Trial 47, Step 1: 7 trees, OOB: 0.7742\n",
      "\n",
      "=== DEBUGGING TRIAL 47 ===\n",
      "Intermediate values: {0: 0.7441471571906354, 1: 0.774247491638796}\n",
      "Current step: 1, Current value: 0.774247491638796\n",
      "[Debug Trial 47]: Not enough steps (2 < 3)\n",
      "Trial 47, Step 2: 15 trees, OOB: 0.7809\n",
      "\n",
      "=== DEBUGGING TRIAL 47 ===\n",
      "Intermediate values: {0: 0.7441471571906354, 1: 0.774247491638796, 2: 0.7809364548494984}\n",
      "Current step: 2, Current value: 0.7809364548494984\n",
      "Steps for prediction: [0 1 2]\n",
      "Values for prediction: [0.74414716 0.77424749 0.78093645]\n",
      "[Debug Trial 47]: Curve fit params: a=0.7828, b=0.0387, c=1.5041\n",
      "[Debug Trial 47]: Extrapolated to step 6: 0.7828\n",
      "Predicted final performance: 0.7828429266074636\n",
      "Completed trial values: [0.7905701754385964, 0.7938596491228068, 0.797027290448343, 0.7860623781676414, 0.7928849902534112, 0.7807017543859648, 0.790204678362573, 0.7897173489278753]\n",
      "Threshold (quantile 0.5): 0.7903874269005847\n",
      "Prediction vs threshold: 0.7828 vs 0.7904\n",
      "Decision: PRUNE\n",
      "🔥 PRUNING: 0.7828 < 0.7904\n",
      "Trial 47 pruned at step 2 (15 estimators, OOB: 0.7809)\n",
      "Trial 48, Step 0: 2 trees, OOB: 0.7525\n",
      "\n",
      "=== DEBUGGING TRIAL 48 ===\n",
      "Intermediate values: {0: 0.7525083612040134}\n",
      "Current step: 0, Current value: 0.7525083612040134\n",
      "[Debug Trial 48]: Not enough steps (1 < 3)\n",
      "Trial 48, Step 1: 7 trees, OOB: 0.7625\n",
      "\n",
      "=== DEBUGGING TRIAL 48 ===\n",
      "Intermediate values: {0: 0.7525083612040134, 1: 0.7625418060200669}\n",
      "Current step: 1, Current value: 0.7625418060200669\n",
      "[Debug Trial 48]: Not enough steps (2 < 3)\n",
      "Trial 48, Step 2: 14 trees, OOB: 0.7742\n",
      "\n",
      "=== DEBUGGING TRIAL 48 ===\n",
      "Intermediate values: {0: 0.7525083612040134, 1: 0.7625418060200669, 2: 0.774247491638796}\n",
      "Current step: 2, Current value: 0.774247491638796\n",
      "Steps for prediction: [0 1 2]\n",
      "Values for prediction: [0.75250836 0.76254181 0.77424749]\n",
      "[Debug Trial 48]: Curve fitting failed: Optimal parameters not found: Number of calls to function has reached maxfev = 1000., using linear extrapolation\n",
      "Predicted final performance: 0.7976588628762542\n",
      "Completed trial values: [0.7905701754385964, 0.7938596491228068, 0.797027290448343, 0.7860623781676414, 0.7928849902534112, 0.7807017543859648, 0.790204678362573, 0.7897173489278753]\n",
      "Threshold (quantile 0.5): 0.7903874269005847\n",
      "Prediction vs threshold: 0.7977 vs 0.7904\n",
      "Decision: CONTINUE\n",
      "✅ CONTINUING: 0.7977 >= 0.7904\n"
     ]
    },
    {
     "name": "stderr",
     "output_type": "stream",
     "text": [
      "C:\\Users\\Obidur Rahman\\AppData\\Local\\Temp\\ipykernel_3964\\3441492807.py:144: OptimizeWarning: Covariance of the parameters could not be estimated\n",
      "  popt, _ = curve_fit(saturating_func, steps, values, p0=p0, maxfev=1000)\n"
     ]
    },
    {
     "name": "stdout",
     "output_type": "stream",
     "text": [
      "Trial 48, Step 3: 28 trees, OOB: 0.7843\n",
      "\n",
      "=== DEBUGGING TRIAL 48 ===\n",
      "Intermediate values: {0: 0.7525083612040134, 1: 0.7625418060200669, 2: 0.774247491638796, 3: 0.7842809364548495}\n",
      "Current step: 3, Current value: 0.7842809364548495\n",
      "Steps for prediction: [0 1 2 3]\n",
      "Values for prediction: [0.75250836 0.76254181 0.77424749 0.78428094]\n",
      "[Debug Trial 48]: Curve fitting failed: Optimal parameters not found: Number of calls to function has reached maxfev = 1000., using linear extrapolation\n",
      "Predicted final performance: 0.81438127090301\n",
      "Completed trial values: [0.7905701754385964, 0.7938596491228068, 0.797027290448343, 0.7860623781676414, 0.7928849902534112, 0.7807017543859648, 0.790204678362573, 0.7897173489278753]\n",
      "Threshold (quantile 0.5): 0.7903874269005847\n",
      "Prediction vs threshold: 0.8144 vs 0.7904\n",
      "Decision: CONTINUE\n",
      "✅ CONTINUING: 0.8144 >= 0.7904\n",
      "Trial 48, Step 4: 70 trees, OOB: 0.7876\n",
      "\n",
      "=== DEBUGGING TRIAL 48 ===\n",
      "Intermediate values: {0: 0.7525083612040134, 1: 0.7625418060200669, 2: 0.774247491638796, 3: 0.7842809364548495, 4: 0.7876254180602007}\n",
      "Current step: 4, Current value: 0.7876254180602007\n",
      "Steps for prediction: [0 1 2 3 4]\n",
      "Values for prediction: [0.75250836 0.76254181 0.77424749 0.78428094 0.78762542]\n",
      "[Debug Trial 48]: Curve fit params: a=0.8166, b=0.0648, c=0.2115\n",
      "[Debug Trial 48]: Extrapolated to step 12: 0.8115\n",
      "Predicted final performance: 0.8114880430178611\n",
      "Completed trial values: [0.7905701754385964, 0.7938596491228068, 0.797027290448343, 0.7860623781676414, 0.7928849902534112, 0.7807017543859648, 0.790204678362573, 0.7897173489278753]\n",
      "Threshold (quantile 0.5): 0.7903874269005847\n",
      "Prediction vs threshold: 0.8115 vs 0.7904\n",
      "Decision: CONTINUE\n",
      "✅ CONTINUING: 0.8115 >= 0.7904\n",
      "Trial 48, Step 5: 140 trees, OOB: 0.7876\n",
      "\n",
      "=== DEBUGGING TRIAL 48 ===\n",
      "Intermediate values: {0: 0.7525083612040134, 1: 0.7625418060200669, 2: 0.774247491638796, 3: 0.7842809364548495, 4: 0.7876254180602007, 5: 0.7876254180602007}\n",
      "Current step: 5, Current value: 0.7876254180602007\n",
      "Steps for prediction: [0 1 2 3 4 5]\n",
      "Values for prediction: [0.75250836 0.76254181 0.77424749 0.78428094 0.78762542 0.78762542]\n",
      "[Debug Trial 48]: Curve fit params: a=0.7977, b=0.0463, c=0.3514\n",
      "[Debug Trial 48]: Extrapolated to step 15: 0.7975\n",
      "Predicted final performance: 0.7974711643100033\n",
      "Completed trial values: [0.7905701754385964, 0.7938596491228068, 0.797027290448343, 0.7860623781676414, 0.7928849902534112, 0.7807017543859648, 0.790204678362573, 0.7897173489278753]\n",
      "Threshold (quantile 0.5): 0.7903874269005847\n",
      "Prediction vs threshold: 0.7975 vs 0.7904\n",
      "Decision: CONTINUE\n",
      "✅ CONTINUING: 0.7975 >= 0.7904\n",
      "Trial 48 completed with AUC: 0.7887\n",
      "Trial 49, Step 0: 3 trees, OOB: 0.7542\n",
      "\n",
      "=== DEBUGGING TRIAL 49 ===\n",
      "Intermediate values: {0: 0.754180602006689}\n",
      "Current step: 0, Current value: 0.754180602006689\n",
      "[Debug Trial 49]: Not enough steps (1 < 3)\n",
      "Trial 49, Step 1: 8 trees, OOB: 0.7676\n",
      "\n",
      "=== DEBUGGING TRIAL 49 ===\n",
      "Intermediate values: {0: 0.754180602006689, 1: 0.7675585284280937}\n",
      "Current step: 1, Current value: 0.7675585284280937\n",
      "[Debug Trial 49]: Not enough steps (2 < 3)\n",
      "Trial 49, Step 2: 16 trees, OOB: 0.7759\n",
      "\n",
      "=== DEBUGGING TRIAL 49 ===\n",
      "Intermediate values: {0: 0.754180602006689, 1: 0.7675585284280937, 2: 0.7759197324414716}\n",
      "Current step: 2, Current value: 0.7759197324414716\n",
      "Steps for prediction: [0 1 2]\n",
      "Values for prediction: [0.7541806  0.76755853 0.77591973]\n",
      "[Debug Trial 49]: Curve fit params: a=0.7899, b=0.0357, c=0.4700\n",
      "[Debug Trial 49]: Extrapolated to step 6: 0.7877\n",
      "Predicted final performance: 0.7877287083246236\n",
      "Completed trial values: [0.7905701754385964, 0.7938596491228068, 0.797027290448343, 0.7860623781676414, 0.7928849902534112, 0.7807017543859648, 0.790204678362573, 0.7897173489278753, 0.7887426900584794]\n",
      "Threshold (quantile 0.5): 0.790204678362573\n",
      "Prediction vs threshold: 0.7877 vs 0.7902\n",
      "Decision: PRUNE\n",
      "🔥 PRUNING: 0.7877 < 0.7902\n",
      "Trial 49 pruned at step 2 (16 estimators, OOB: 0.7759)\n",
      "Trial 50, Step 0: 3 trees, OOB: 0.7542\n",
      "\n",
      "=== DEBUGGING TRIAL 50 ===\n",
      "Intermediate values: {0: 0.754180602006689}\n",
      "Current step: 0, Current value: 0.754180602006689\n",
      "[Debug Trial 50]: Not enough steps (1 < 3)\n",
      "Trial 50, Step 1: 8 trees, OOB: 0.7625\n",
      "\n",
      "=== DEBUGGING TRIAL 50 ===\n",
      "Intermediate values: {0: 0.754180602006689, 1: 0.7625418060200669}\n",
      "Current step: 1, Current value: 0.7625418060200669\n",
      "[Debug Trial 50]: Not enough steps (2 < 3)\n",
      "Trial 50, Step 2: 17 trees, OOB: 0.7742\n",
      "\n",
      "=== DEBUGGING TRIAL 50 ===\n",
      "Intermediate values: {0: 0.754180602006689, 1: 0.7625418060200669, 2: 0.774247491638796}\n",
      "Current step: 2, Current value: 0.774247491638796\n",
      "Steps for prediction: [0 1 2]\n",
      "Values for prediction: [0.7541806  0.76254181 0.77424749]\n",
      "[Debug Trial 50]: Curve fitting failed: Optimal parameters not found: Number of calls to function has reached maxfev = 1000., using linear extrapolation\n",
      "Predicted final performance: 0.7976588628762542\n",
      "Completed trial values: [0.7905701754385964, 0.7938596491228068, 0.797027290448343, 0.7860623781676414, 0.7928849902534112, 0.7807017543859648, 0.790204678362573, 0.7897173489278753, 0.7887426900584794]\n",
      "Threshold (quantile 0.5): 0.790204678362573\n",
      "Prediction vs threshold: 0.7977 vs 0.7902\n",
      "Decision: CONTINUE\n",
      "✅ CONTINUING: 0.7977 >= 0.7902\n",
      "Trial 50, Step 3: 34 trees, OOB: 0.7759\n",
      "\n",
      "=== DEBUGGING TRIAL 50 ===\n",
      "Intermediate values: {0: 0.754180602006689, 1: 0.7625418060200669, 2: 0.774247491638796, 3: 0.7759197324414716}\n",
      "Current step: 3, Current value: 0.7759197324414716\n",
      "Steps for prediction: [0 1 2 3]\n",
      "Values for prediction: [0.7541806  0.76254181 0.77424749 0.77591973]\n",
      "[Debug Trial 50]: Curve fit params: a=0.7883, b=0.0346, c=0.3713\n",
      "[Debug Trial 50]: Extrapolated to step 9: 0.7871\n",
      "Predicted final performance: 0.7870695085655077\n",
      "Completed trial values: [0.7905701754385964, 0.7938596491228068, 0.797027290448343, 0.7860623781676414, 0.7928849902534112, 0.7807017543859648, 0.790204678362573, 0.7897173489278753, 0.7887426900584794]\n",
      "Threshold (quantile 0.5): 0.790204678362573\n",
      "Prediction vs threshold: 0.7871 vs 0.7902\n",
      "Decision: PRUNE\n",
      "🔥 PRUNING: 0.7871 < 0.7902\n",
      "Trial 50 pruned at step 3 (34 estimators, OOB: 0.7759)\n"
     ]
    },
    {
     "name": "stderr",
     "output_type": "stream",
     "text": [
      "C:\\Users\\Obidur Rahman\\AppData\\Local\\Temp\\ipykernel_3964\\3441492807.py:144: OptimizeWarning: Covariance of the parameters could not be estimated\n",
      "  popt, _ = curve_fit(saturating_func, steps, values, p0=p0, maxfev=1000)\n"
     ]
    },
    {
     "name": "stdout",
     "output_type": "stream",
     "text": [
      "Trial 51, Step 0: 3 trees, OOB: 0.7341\n",
      "\n",
      "=== DEBUGGING TRIAL 51 ===\n",
      "Intermediate values: {0: 0.7341137123745819}\n",
      "Current step: 0, Current value: 0.7341137123745819\n",
      "[Debug Trial 51]: Not enough steps (1 < 3)\n",
      "Trial 51, Step 1: 9 trees, OOB: 0.7742\n",
      "\n",
      "=== DEBUGGING TRIAL 51 ===\n",
      "Intermediate values: {0: 0.7341137123745819, 1: 0.774247491638796}\n",
      "Current step: 1, Current value: 0.774247491638796\n",
      "[Debug Trial 51]: Not enough steps (2 < 3)\n",
      "Trial 51, Step 2: 19 trees, OOB: 0.7809\n",
      "\n",
      "=== DEBUGGING TRIAL 51 ===\n",
      "Intermediate values: {0: 0.7341137123745819, 1: 0.774247491638796, 2: 0.7809364548494984}\n",
      "Current step: 2, Current value: 0.7809364548494984\n",
      "Steps for prediction: [0 1 2]\n",
      "Values for prediction: [0.73411371 0.77424749 0.78093645]\n",
      "[Debug Trial 51]: Curve fit params: a=0.7823, b=0.0482, c=1.7918\n",
      "[Debug Trial 51]: Extrapolated to step 6: 0.7823\n",
      "Predicted final performance: 0.7822732152442298\n",
      "Completed trial values: [0.7905701754385964, 0.7938596491228068, 0.797027290448343, 0.7860623781676414, 0.7928849902534112, 0.7807017543859648, 0.790204678362573, 0.7897173489278753, 0.7887426900584794]\n",
      "Threshold (quantile 0.5): 0.790204678362573\n",
      "Prediction vs threshold: 0.7823 vs 0.7902\n",
      "Decision: PRUNE\n",
      "🔥 PRUNING: 0.7823 < 0.7902\n",
      "Trial 51 pruned at step 2 (19 estimators, OOB: 0.7809)\n",
      "Trial 52, Step 0: 2 trees, OOB: 0.7525\n",
      "\n",
      "=== DEBUGGING TRIAL 52 ===\n",
      "Intermediate values: {0: 0.7525083612040134}\n",
      "Current step: 0, Current value: 0.7525083612040134\n",
      "[Debug Trial 52]: Not enough steps (1 < 3)\n",
      "Trial 52, Step 1: 7 trees, OOB: 0.7625\n",
      "\n",
      "=== DEBUGGING TRIAL 52 ===\n",
      "Intermediate values: {0: 0.7525083612040134, 1: 0.7625418060200669}\n",
      "Current step: 1, Current value: 0.7625418060200669\n",
      "[Debug Trial 52]: Not enough steps (2 < 3)\n"
     ]
    },
    {
     "name": "stderr",
     "output_type": "stream",
     "text": [
      "C:\\Users\\Obidur Rahman\\AppData\\Local\\Temp\\ipykernel_3964\\3441492807.py:144: OptimizeWarning: Covariance of the parameters could not be estimated\n",
      "  popt, _ = curve_fit(saturating_func, steps, values, p0=p0, maxfev=1000)\n"
     ]
    },
    {
     "name": "stdout",
     "output_type": "stream",
     "text": [
      "Trial 52, Step 2: 14 trees, OOB: 0.7742\n",
      "\n",
      "=== DEBUGGING TRIAL 52 ===\n",
      "Intermediate values: {0: 0.7525083612040134, 1: 0.7625418060200669, 2: 0.774247491638796}\n",
      "Current step: 2, Current value: 0.774247491638796\n",
      "Steps for prediction: [0 1 2]\n",
      "Values for prediction: [0.75250836 0.76254181 0.77424749]\n",
      "[Debug Trial 52]: Curve fitting failed: Optimal parameters not found: Number of calls to function has reached maxfev = 1000., using linear extrapolation\n",
      "Predicted final performance: 0.7976588628762542\n",
      "Completed trial values: [0.7905701754385964, 0.7938596491228068, 0.797027290448343, 0.7860623781676414, 0.7928849902534112, 0.7807017543859648, 0.790204678362573, 0.7897173489278753, 0.7887426900584794]\n",
      "Threshold (quantile 0.5): 0.790204678362573\n",
      "Prediction vs threshold: 0.7977 vs 0.7902\n",
      "Decision: CONTINUE\n",
      "✅ CONTINUING: 0.7977 >= 0.7902\n",
      "Trial 52, Step 3: 29 trees, OOB: 0.7809\n",
      "\n",
      "=== DEBUGGING TRIAL 52 ===\n",
      "Intermediate values: {0: 0.7525083612040134, 1: 0.7625418060200669, 2: 0.774247491638796, 3: 0.7809364548494984}\n",
      "Current step: 3, Current value: 0.7809364548494984\n",
      "Steps for prediction: [0 1 2 3]\n",
      "Values for prediction: [0.75250836 0.76254181 0.77424749 0.78093645]\n",
      "[Debug Trial 52]: Curve fit params: a=0.8281, b=0.0759, c=0.1614\n",
      "[Debug Trial 52]: Extrapolated to step 9: 0.8103\n",
      "Predicted final performance: 0.8103493893523329\n",
      "Completed trial values: [0.7905701754385964, 0.7938596491228068, 0.797027290448343, 0.7860623781676414, 0.7928849902534112, 0.7807017543859648, 0.790204678362573, 0.7897173489278753, 0.7887426900584794]\n",
      "Threshold (quantile 0.5): 0.790204678362573\n",
      "Prediction vs threshold: 0.8103 vs 0.7902\n",
      "Decision: CONTINUE\n",
      "✅ CONTINUING: 0.8103 >= 0.7902\n",
      "Trial 52, Step 4: 73 trees, OOB: 0.7876\n",
      "\n",
      "=== DEBUGGING TRIAL 52 ===\n",
      "Intermediate values: {0: 0.7525083612040134, 1: 0.7625418060200669, 2: 0.774247491638796, 3: 0.7809364548494984, 4: 0.7876254180602007}\n",
      "Current step: 4, Current value: 0.7876254180602007\n",
      "Steps for prediction: [0 1 2 3 4]\n",
      "Values for prediction: [0.75250836 0.76254181 0.77424749 0.78093645 0.78762542]\n",
      "[Debug Trial 52]: Curve fit params: a=0.8205, b=0.0683, c=0.1839\n",
      "[Debug Trial 52]: Extrapolated to step 12: 0.8130\n",
      "Predicted final performance: 0.812953110586203\n",
      "Completed trial values: [0.7905701754385964, 0.7938596491228068, 0.797027290448343, 0.7860623781676414, 0.7928849902534112, 0.7807017543859648, 0.790204678362573, 0.7897173489278753, 0.7887426900584794]\n",
      "Threshold (quantile 0.5): 0.790204678362573\n",
      "Prediction vs threshold: 0.8130 vs 0.7902\n",
      "Decision: CONTINUE\n",
      "✅ CONTINUING: 0.8130 >= 0.7902\n",
      "Trial 52, Step 5: 147 trees, OOB: 0.7876\n",
      "\n",
      "=== DEBUGGING TRIAL 52 ===\n",
      "Intermediate values: {0: 0.7525083612040134, 1: 0.7625418060200669, 2: 0.774247491638796, 3: 0.7809364548494984, 4: 0.7876254180602007, 5: 0.7876254180602007}\n",
      "Current step: 5, Current value: 0.7876254180602007\n",
      "Steps for prediction: [0 1 2 3 4 5]\n",
      "Values for prediction: [0.75250836 0.76254181 0.77424749 0.78093645 0.78762542 0.78762542]\n",
      "[Debug Trial 52]: Curve fit params: a=0.7993, b=0.0476, c=0.3124\n",
      "[Debug Trial 52]: Extrapolated to step 15: 0.7988\n",
      "Predicted final performance: 0.7988229792698087\n",
      "Completed trial values: [0.7905701754385964, 0.7938596491228068, 0.797027290448343, 0.7860623781676414, 0.7928849902534112, 0.7807017543859648, 0.790204678362573, 0.7897173489278753, 0.7887426900584794]\n",
      "Threshold (quantile 0.5): 0.790204678362573\n",
      "Prediction vs threshold: 0.7988 vs 0.7902\n",
      "Decision: CONTINUE\n",
      "✅ CONTINUING: 0.7988 >= 0.7902\n",
      "Trial 52 completed with AUC: 0.7897\n",
      "Trial 53, Step 0: 3 trees, OOB: 0.7542\n",
      "\n",
      "=== DEBUGGING TRIAL 53 ===\n",
      "Intermediate values: {0: 0.754180602006689}\n",
      "Current step: 0, Current value: 0.754180602006689\n",
      "[Debug Trial 53]: Not enough steps (1 < 3)\n",
      "Trial 53, Step 1: 7 trees, OOB: 0.7625\n",
      "\n",
      "=== DEBUGGING TRIAL 53 ===\n",
      "Intermediate values: {0: 0.754180602006689, 1: 0.7625418060200669}\n",
      "Current step: 1, Current value: 0.7625418060200669\n",
      "[Debug Trial 53]: Not enough steps (2 < 3)\n",
      "Trial 53, Step 2: 15 trees, OOB: 0.7742\n",
      "\n",
      "=== DEBUGGING TRIAL 53 ===\n",
      "Intermediate values: {0: 0.754180602006689, 1: 0.7625418060200669, 2: 0.774247491638796}\n",
      "Current step: 2, Current value: 0.774247491638796\n",
      "Steps for prediction: [0 1 2]\n",
      "Values for prediction: [0.7541806  0.76254181 0.77424749]\n",
      "[Debug Trial 53]: Curve fitting failed: Optimal parameters not found: Number of calls to function has reached maxfev = 1000., using linear extrapolation\n",
      "Predicted final performance: 0.7976588628762542\n",
      "Completed trial values: [0.7905701754385964, 0.7938596491228068, 0.797027290448343, 0.7860623781676414, 0.7928849902534112, 0.7807017543859648, 0.790204678362573, 0.7897173489278753, 0.7887426900584794, 0.7897173489278753]\n",
      "Threshold (quantile 0.5): 0.7899610136452242\n",
      "Prediction vs threshold: 0.7977 vs 0.7900\n",
      "Decision: CONTINUE\n",
      "✅ CONTINUING: 0.7977 >= 0.7900\n",
      "Trial 53, Step 3: 30 trees, OOB: 0.7826\n",
      "\n",
      "=== DEBUGGING TRIAL 53 ===\n",
      "Intermediate values: {0: 0.754180602006689, 1: 0.7625418060200669, 2: 0.774247491638796, 3: 0.782608695652174}\n",
      "Current step: 3, Current value: 0.782608695652174\n",
      "Steps for prediction: [0 1 2 3]\n",
      "Values for prediction: [0.7541806  0.76254181 0.77424749 0.7826087 ]\n",
      "[Debug Trial 53]: Curve fitting failed: Optimal parameters not found: Number of calls to function has reached maxfev = 1000., using linear extrapolation\n",
      "Predicted final performance: 0.8076923076923077\n",
      "Completed trial values: [0.7905701754385964, 0.7938596491228068, 0.797027290448343, 0.7860623781676414, 0.7928849902534112, 0.7807017543859648, 0.790204678362573, 0.7897173489278753, 0.7887426900584794, 0.7897173489278753]\n",
      "Threshold (quantile 0.5): 0.7899610136452242\n",
      "Prediction vs threshold: 0.8077 vs 0.7900\n",
      "Decision: CONTINUE\n",
      "✅ CONTINUING: 0.8077 >= 0.7900\n",
      "Trial 53, Step 4: 77 trees, OOB: 0.7910\n",
      "\n",
      "=== DEBUGGING TRIAL 53 ===\n",
      "Intermediate values: {0: 0.754180602006689, 1: 0.7625418060200669, 2: 0.774247491638796, 3: 0.782608695652174, 4: 0.7909698996655519}\n",
      "Current step: 4, Current value: 0.7909698996655519\n",
      "Steps for prediction: [0 1 2 3 4]\n",
      "Values for prediction: [0.7541806  0.76254181 0.77424749 0.7826087  0.7909699 ]\n",
      "[Debug Trial 53]: Curve fit params: a=0.9643, b=0.2106, c=0.0490\n",
      "[Debug Trial 53]: Extrapolated to step 12: 0.8473\n",
      "Predicted final performance: 0.8473062241203552\n",
      "Completed trial values: [0.7905701754385964, 0.7938596491228068, 0.797027290448343, 0.7860623781676414, 0.7928849902534112, 0.7807017543859648, 0.790204678362573, 0.7897173489278753, 0.7887426900584794, 0.7897173489278753]\n",
      "Threshold (quantile 0.5): 0.7899610136452242\n",
      "Prediction vs threshold: 0.8473 vs 0.7900\n",
      "Decision: CONTINUE\n",
      "✅ CONTINUING: 0.8473 >= 0.7900\n",
      "Trial 53, Step 5: 154 trees, OOB: 0.7876\n",
      "\n",
      "=== DEBUGGING TRIAL 53 ===\n",
      "Intermediate values: {0: 0.754180602006689, 1: 0.7625418060200669, 2: 0.774247491638796, 3: 0.782608695652174, 4: 0.7909698996655519, 5: 0.7876254180602007}\n",
      "Current step: 5, Current value: 0.7876254180602007\n",
      "Steps for prediction: [0 1 2 3 4 5]\n",
      "Values for prediction: [0.7541806  0.76254181 0.77424749 0.7826087  0.7909699  0.78762542]\n",
      "[Debug Trial 53]: Curve fit params: a=0.8027, b=0.0499, c=0.2880\n",
      "[Debug Trial 53]: Extrapolated to step 15: 0.8020\n",
      "Predicted final performance: 0.8020028649175774\n",
      "Completed trial values: [0.7905701754385964, 0.7938596491228068, 0.797027290448343, 0.7860623781676414, 0.7928849902534112, 0.7807017543859648, 0.790204678362573, 0.7897173489278753, 0.7887426900584794, 0.7897173489278753]\n",
      "Threshold (quantile 0.5): 0.7899610136452242\n",
      "Prediction vs threshold: 0.8020 vs 0.7900\n",
      "Decision: CONTINUE\n",
      "✅ CONTINUING: 0.8020 >= 0.7900\n",
      "Trial 53 completed with AUC: 0.7902\n",
      "Trial 54, Step 0: 3 trees, OOB: 0.7559\n",
      "\n",
      "=== DEBUGGING TRIAL 54 ===\n",
      "Intermediate values: {0: 0.7558528428093646}\n",
      "Current step: 0, Current value: 0.7558528428093646\n",
      "[Debug Trial 54]: Not enough steps (1 < 3)\n",
      "Trial 54, Step 1: 9 trees, OOB: 0.7692\n",
      "\n",
      "=== DEBUGGING TRIAL 54 ===\n",
      "Intermediate values: {0: 0.7558528428093646, 1: 0.7692307692307693}\n",
      "Current step: 1, Current value: 0.7692307692307693\n",
      "[Debug Trial 54]: Not enough steps (2 < 3)\n",
      "Trial 54, Step 2: 18 trees, OOB: 0.7793\n",
      "\n",
      "=== DEBUGGING TRIAL 54 ===\n",
      "Intermediate values: {0: 0.7558528428093646, 1: 0.7692307692307693, 2: 0.7792642140468228}\n",
      "Current step: 2, Current value: 0.7792642140468228\n",
      "Steps for prediction: [0 1 2]\n",
      "Values for prediction: [0.75585284 0.76923077 0.77926421]\n",
      "[Debug Trial 54]: Curve fit params: a=0.8094, b=0.0535, c=0.2877\n",
      "[Debug Trial 54]: Extrapolated to step 6: 0.7998\n",
      "Predicted final performance: 0.7998406145484898\n",
      "Completed trial values: [0.7905701754385964, 0.7938596491228068, 0.797027290448343, 0.7860623781676414, 0.7928849902534112, 0.7807017543859648, 0.790204678362573, 0.7897173489278753, 0.7887426900584794, 0.7897173489278753, 0.7902046783625731]\n",
      "Threshold (quantile 0.5): 0.790204678362573\n",
      "Prediction vs threshold: 0.7998 vs 0.7902\n",
      "Decision: CONTINUE\n",
      "✅ CONTINUING: 0.7998 >= 0.7902\n",
      "Trial 54, Step 3: 36 trees, OOB: 0.7893\n",
      "\n",
      "=== DEBUGGING TRIAL 54 ===\n",
      "Intermediate values: {0: 0.7558528428093646, 1: 0.7692307692307693, 2: 0.7792642140468228, 3: 0.7892976588628763}\n",
      "Current step: 3, Current value: 0.7892976588628763\n",
      "Steps for prediction: [0 1 2 3]\n",
      "Values for prediction: [0.75585284 0.76923077 0.77926421 0.78929766]\n",
      "[Debug Trial 54]: Curve fit params: a=0.8445, b=0.0885, c=0.1564\n",
      "[Debug Trial 54]: Extrapolated to step 9: 0.8228\n",
      "Predicted final performance: 0.8228104338893488\n",
      "Completed trial values: [0.7905701754385964, 0.7938596491228068, 0.797027290448343, 0.7860623781676414, 0.7928849902534112, 0.7807017543859648, 0.790204678362573, 0.7897173489278753, 0.7887426900584794, 0.7897173489278753, 0.7902046783625731]\n",
      "Threshold (quantile 0.5): 0.790204678362573\n",
      "Prediction vs threshold: 0.8228 vs 0.7902\n",
      "Decision: CONTINUE\n",
      "✅ CONTINUING: 0.8228 >= 0.7902\n",
      "Trial 54, Step 4: 90 trees, OOB: 0.7893\n",
      "\n",
      "=== DEBUGGING TRIAL 54 ===\n",
      "Intermediate values: {0: 0.7558528428093646, 1: 0.7692307692307693, 2: 0.7792642140468228, 3: 0.7892976588628763, 4: 0.7892976588628763}\n",
      "Current step: 4, Current value: 0.7892976588628763\n",
      "Steps for prediction: [0 1 2 3 4]\n",
      "Values for prediction: [0.75585284 0.76923077 0.77926421 0.78929766 0.78929766]\n",
      "[Debug Trial 54]: Curve fit params: a=0.7997, b=0.0442, c=0.4041\n",
      "[Debug Trial 54]: Extrapolated to step 12: 0.7993\n",
      "Predicted final performance: 0.7993156704915002\n",
      "Completed trial values: [0.7905701754385964, 0.7938596491228068, 0.797027290448343, 0.7860623781676414, 0.7928849902534112, 0.7807017543859648, 0.790204678362573, 0.7897173489278753, 0.7887426900584794, 0.7897173489278753, 0.7902046783625731]\n",
      "Threshold (quantile 0.5): 0.790204678362573\n",
      "Prediction vs threshold: 0.7993 vs 0.7902\n",
      "Decision: CONTINUE\n",
      "✅ CONTINUING: 0.7993 >= 0.7902\n"
     ]
    },
    {
     "name": "stderr",
     "output_type": "stream",
     "text": [
      "C:\\Users\\Obidur Rahman\\AppData\\Local\\Temp\\ipykernel_3964\\3441492807.py:144: OptimizeWarning: Covariance of the parameters could not be estimated\n",
      "  popt, _ = curve_fit(saturating_func, steps, values, p0=p0, maxfev=1000)\n"
     ]
    },
    {
     "name": "stdout",
     "output_type": "stream",
     "text": [
      "Trial 54, Step 5: 180 trees, OOB: 0.7826\n",
      "\n",
      "=== DEBUGGING TRIAL 54 ===\n",
      "Intermediate values: {0: 0.7558528428093646, 1: 0.7692307692307693, 2: 0.7792642140468228, 3: 0.7892976588628763, 4: 0.7892976588628763, 5: 0.782608695652174}\n",
      "Current step: 5, Current value: 0.782608695652174\n",
      "Steps for prediction: [0 1 2 3 4 5]\n",
      "Values for prediction: [0.75585284 0.76923077 0.77926421 0.78929766 0.78929766 0.7826087 ]\n",
      "[Debug Trial 54]: Curve fit params: a=0.7887, b=0.0337, c=0.6890\n",
      "[Debug Trial 54]: Extrapolated to step 15: 0.7887\n",
      "Predicted final performance: 0.7886989863516847\n",
      "Completed trial values: [0.7905701754385964, 0.7938596491228068, 0.797027290448343, 0.7860623781676414, 0.7928849902534112, 0.7807017543859648, 0.790204678362573, 0.7897173489278753, 0.7887426900584794, 0.7897173489278753, 0.7902046783625731]\n",
      "Threshold (quantile 0.5): 0.790204678362573\n",
      "Prediction vs threshold: 0.7887 vs 0.7902\n",
      "Decision: PRUNE\n",
      "🔥 PRUNING: 0.7887 < 0.7902\n",
      "Trial 54 pruned at step 5 (180 estimators, OOB: 0.7826)\n",
      "Trial 55, Step 0: 2 trees, OOB: 0.7425\n",
      "\n",
      "=== DEBUGGING TRIAL 55 ===\n",
      "Intermediate values: {0: 0.7424749163879598}\n",
      "Current step: 0, Current value: 0.7424749163879598\n",
      "[Debug Trial 55]: Not enough steps (1 < 3)\n",
      "Trial 55, Step 1: 6 trees, OOB: 0.7559\n",
      "\n",
      "=== DEBUGGING TRIAL 55 ===\n",
      "Intermediate values: {0: 0.7424749163879598, 1: 0.7558528428093646}\n",
      "Current step: 1, Current value: 0.7558528428093646\n",
      "[Debug Trial 55]: Not enough steps (2 < 3)\n",
      "Trial 55, Step 2: 13 trees, OOB: 0.7809\n",
      "\n",
      "=== DEBUGGING TRIAL 55 ===\n",
      "Intermediate values: {0: 0.7424749163879598, 1: 0.7558528428093646, 2: 0.7809364548494984}\n",
      "Current step: 2, Current value: 0.7809364548494984\n",
      "Steps for prediction: [0 1 2]\n",
      "Values for prediction: [0.74247492 0.75585284 0.78093645]\n",
      "[Debug Trial 55]: Curve fitting failed: Optimal parameters not found: Number of calls to function has reached maxfev = 1000., using linear extrapolation\n",
      "Predicted final performance: 0.8311036789297659\n",
      "Completed trial values: [0.7905701754385964, 0.7938596491228068, 0.797027290448343, 0.7860623781676414, 0.7928849902534112, 0.7807017543859648, 0.790204678362573, 0.7897173489278753, 0.7887426900584794, 0.7897173489278753, 0.7902046783625731]\n",
      "Threshold (quantile 0.5): 0.790204678362573\n",
      "Prediction vs threshold: 0.8311 vs 0.7902\n",
      "Decision: CONTINUE\n",
      "✅ CONTINUING: 0.8311 >= 0.7902\n",
      "Trial 55, Step 3: 27 trees, OOB: 0.7776\n",
      "\n",
      "=== DEBUGGING TRIAL 55 ===\n",
      "Intermediate values: {0: 0.7424749163879598, 1: 0.7558528428093646, 2: 0.7809364548494984, 3: 0.7775919732441472}\n",
      "Current step: 3, Current value: 0.7775919732441472\n",
      "Steps for prediction: [0 1 2 3]\n",
      "Values for prediction: [0.74247492 0.75585284 0.78093645 0.77759197]\n",
      "[Debug Trial 55]: Curve fit params: a=0.7928, b=0.0515, c=0.4913\n",
      "[Debug Trial 55]: Extrapolated to step 9: 0.7921\n",
      "Predicted final performance: 0.7921387737754481\n",
      "Completed trial values: [0.7905701754385964, 0.7938596491228068, 0.797027290448343, 0.7860623781676414, 0.7928849902534112, 0.7807017543859648, 0.790204678362573, 0.7897173489278753, 0.7887426900584794, 0.7897173489278753, 0.7902046783625731]\n",
      "Threshold (quantile 0.5): 0.790204678362573\n",
      "Prediction vs threshold: 0.7921 vs 0.7902\n",
      "Decision: CONTINUE\n",
      "✅ CONTINUING: 0.7921 >= 0.7902\n",
      "Trial 55, Step 4: 69 trees, OOB: 0.7809\n",
      "\n",
      "=== DEBUGGING TRIAL 55 ===\n",
      "Intermediate values: {0: 0.7424749163879598, 1: 0.7558528428093646, 2: 0.7809364548494984, 3: 0.7775919732441472, 4: 0.7809364548494984}\n",
      "Current step: 4, Current value: 0.7809364548494984\n",
      "Steps for prediction: [0 1 2 3 4]\n",
      "Values for prediction: [0.74247492 0.75585284 0.78093645 0.77759197 0.78093645]\n",
      "[Debug Trial 55]: Curve fit params: a=0.7863, b=0.0452, c=0.6178\n",
      "[Debug Trial 55]: Extrapolated to step 12: 0.7862\n",
      "Predicted final performance: 0.786241812088026\n",
      "Completed trial values: [0.7905701754385964, 0.7938596491228068, 0.797027290448343, 0.7860623781676414, 0.7928849902534112, 0.7807017543859648, 0.790204678362573, 0.7897173489278753, 0.7887426900584794, 0.7897173489278753, 0.7902046783625731]\n",
      "Threshold (quantile 0.5): 0.790204678362573\n",
      "Prediction vs threshold: 0.7862 vs 0.7902\n",
      "Decision: PRUNE\n",
      "🔥 PRUNING: 0.7862 < 0.7902\n",
      "Trial 55 pruned at step 4 (69 estimators, OOB: 0.7809)\n",
      "Trial 56, Step 0: 3 trees, OOB: 0.7592\n",
      "\n",
      "=== DEBUGGING TRIAL 56 ===\n",
      "Intermediate values: {0: 0.7591973244147158}\n",
      "Current step: 0, Current value: 0.7591973244147158\n",
      "[Debug Trial 56]: Not enough steps (1 < 3)\n",
      "Trial 56, Step 1: 7 trees, OOB: 0.7458\n",
      "\n",
      "=== DEBUGGING TRIAL 56 ===\n",
      "Intermediate values: {0: 0.7591973244147158, 1: 0.745819397993311}\n",
      "Current step: 1, Current value: 0.745819397993311\n",
      "[Debug Trial 56]: Not enough steps (2 < 3)\n",
      "Trial 56, Step 2: 15 trees, OOB: 0.7776\n",
      "\n",
      "=== DEBUGGING TRIAL 56 ===\n",
      "Intermediate values: {0: 0.7591973244147158, 1: 0.745819397993311, 2: 0.7775919732441472}\n",
      "Current step: 2, Current value: 0.7775919732441472\n",
      "Steps for prediction: [0 1 2]\n",
      "Values for prediction: [0.75919732 0.7458194  0.77759197]\n",
      "[Debug Trial 56]: Curve fit params: a=91.9113, b=91.1596, c=0.0001\n",
      "[Debug Trial 56]: Extrapolated to step 6: 0.8068\n",
      "Predicted final performance: 0.8068401005163253\n",
      "Completed trial values: [0.7905701754385964, 0.7938596491228068, 0.797027290448343, 0.7860623781676414, 0.7928849902534112, 0.7807017543859648, 0.790204678362573, 0.7897173489278753, 0.7887426900584794, 0.7897173489278753, 0.7902046783625731]\n",
      "Threshold (quantile 0.5): 0.790204678362573\n",
      "Prediction vs threshold: 0.8068 vs 0.7902\n",
      "Decision: CONTINUE\n",
      "✅ CONTINUING: 0.8068 >= 0.7902\n",
      "Trial 56, Step 3: 31 trees, OOB: 0.7793\n",
      "\n",
      "=== DEBUGGING TRIAL 56 ===\n",
      "Intermediate values: {0: 0.7591973244147158, 1: 0.745819397993311, 2: 0.7775919732441472, 3: 0.7792642140468228}\n",
      "Current step: 3, Current value: 0.7792642140468228\n",
      "Steps for prediction: [0 1 2 3]\n",
      "Values for prediction: [0.75919732 0.7458194  0.77759197 0.77926421]\n",
      "[Debug Trial 56]: Curve fit params: a=95.5126, b=94.7610, c=0.0001\n",
      "[Debug Trial 56]: Extrapolated to step 9: 0.8344\n",
      "Predicted final performance: 0.8344212705502656\n",
      "Completed trial values: [0.7905701754385964, 0.7938596491228068, 0.797027290448343, 0.7860623781676414, 0.7928849902534112, 0.7807017543859648, 0.790204678362573, 0.7897173489278753, 0.7887426900584794, 0.7897173489278753, 0.7902046783625731]\n",
      "Threshold (quantile 0.5): 0.790204678362573\n",
      "Prediction vs threshold: 0.8344 vs 0.7902\n",
      "Decision: CONTINUE\n",
      "✅ CONTINUING: 0.8344 >= 0.7902\n",
      "Trial 56, Step 4: 77 trees, OOB: 0.7860\n",
      "\n",
      "=== DEBUGGING TRIAL 56 ===\n",
      "Intermediate values: {0: 0.7591973244147158, 1: 0.745819397993311, 2: 0.7775919732441472, 3: 0.7792642140468228, 4: 0.7859531772575251}\n",
      "Current step: 4, Current value: 0.7859531772575251\n",
      "Steps for prediction: [0 1 2 3 4]\n",
      "Values for prediction: [0.75919732 0.7458194  0.77759197 0.77926421 0.78595318]\n",
      "[Debug Trial 56]: Curve fitting failed: Optimal parameters not found: Number of calls to function has reached maxfev = 1000., using linear extrapolation\n",
      "Predicted final performance: 0.8127090301003345\n"
     ]
    },
    {
     "name": "stderr",
     "output_type": "stream",
     "text": [
      "C:\\Users\\Obidur Rahman\\AppData\\Local\\Temp\\ipykernel_3964\\3441492807.py:144: OptimizeWarning: Covariance of the parameters could not be estimated\n",
      "  popt, _ = curve_fit(saturating_func, steps, values, p0=p0, maxfev=1000)\n"
     ]
    },
    {
     "name": "stdout",
     "output_type": "stream",
     "text": [
      "Completed trial values: [0.7905701754385964, 0.7938596491228068, 0.797027290448343, 0.7860623781676414, 0.7928849902534112, 0.7807017543859648, 0.790204678362573, 0.7897173489278753, 0.7887426900584794, 0.7897173489278753, 0.7902046783625731]\n",
      "Threshold (quantile 0.5): 0.790204678362573\n",
      "Prediction vs threshold: 0.8127 vs 0.7902\n",
      "Decision: CONTINUE\n",
      "✅ CONTINUING: 0.8127 >= 0.7902\n",
      "Trial 56, Step 5: 155 trees, OOB: 0.7843\n",
      "\n",
      "=== DEBUGGING TRIAL 56 ===\n",
      "Intermediate values: {0: 0.7591973244147158, 1: 0.745819397993311, 2: 0.7775919732441472, 3: 0.7792642140468228, 4: 0.7859531772575251, 5: 0.7842809364548495}\n",
      "Current step: 5, Current value: 0.7842809364548495\n",
      "Steps for prediction: [0 1 2 3 4 5]\n",
      "Values for prediction: [0.75919732 0.7458194  0.77759197 0.77926421 0.78595318 0.78428094]\n",
      "[Debug Trial 56]: Curve fit params: a=0.8238, b=0.0712, c=0.1385\n",
      "[Debug Trial 56]: Extrapolated to step 15: 0.8149\n",
      "Predicted final performance: 0.8148884566911271\n",
      "Completed trial values: [0.7905701754385964, 0.7938596491228068, 0.797027290448343, 0.7860623781676414, 0.7928849902534112, 0.7807017543859648, 0.790204678362573, 0.7897173489278753, 0.7887426900584794, 0.7897173489278753, 0.7902046783625731]\n",
      "Threshold (quantile 0.5): 0.790204678362573\n",
      "Prediction vs threshold: 0.8149 vs 0.7902\n",
      "Decision: CONTINUE\n",
      "✅ CONTINUING: 0.8149 >= 0.7902\n",
      "Trial 56 completed with AUC: 0.7878\n",
      "Trial 57, Step 0: 2 trees, OOB: 0.7508\n",
      "\n",
      "=== DEBUGGING TRIAL 57 ===\n",
      "Intermediate values: {0: 0.7508361204013378}\n",
      "Current step: 0, Current value: 0.7508361204013378\n",
      "[Debug Trial 57]: Not enough steps (1 < 3)\n",
      "Trial 57, Step 1: 5 trees, OOB: 0.7575\n",
      "\n",
      "=== DEBUGGING TRIAL 57 ===\n",
      "Intermediate values: {0: 0.7508361204013378, 1: 0.7575250836120402}\n",
      "Current step: 1, Current value: 0.7575250836120402\n",
      "[Debug Trial 57]: Not enough steps (2 < 3)\n",
      "Trial 57, Step 2: 11 trees, OOB: 0.7625\n",
      "\n",
      "=== DEBUGGING TRIAL 57 ===\n",
      "Intermediate values: {0: 0.7508361204013378, 1: 0.7575250836120402, 2: 0.7625418060200669}\n",
      "Current step: 2, Current value: 0.7625418060200669\n",
      "Steps for prediction: [0 1 2]\n",
      "Values for prediction: [0.75083612 0.75752508 0.76254181]\n",
      "[Debug Trial 57]: Curve fit params: a=0.7776, b=0.0268, c=0.2877\n",
      "[Debug Trial 57]: Extrapolated to step 6: 0.7728\n",
      "Predicted final performance: 0.7728300062708928\n",
      "Completed trial values: [0.7905701754385964, 0.7938596491228068, 0.797027290448343, 0.7860623781676414, 0.7928849902534112, 0.7807017543859648, 0.790204678362573, 0.7897173489278753, 0.7887426900584794, 0.7897173489278753, 0.7902046783625731, 0.7877680311890839]\n",
      "Threshold (quantile 0.5): 0.7899610136452242\n",
      "Prediction vs threshold: 0.7728 vs 0.7900\n",
      "Decision: PRUNE\n",
      "🔥 PRUNING: 0.7728 < 0.7900\n",
      "Trial 57 pruned at step 2 (11 estimators, OOB: 0.7625)\n"
     ]
    },
    {
     "name": "stderr",
     "output_type": "stream",
     "text": [
      "C:\\Users\\Obidur Rahman\\AppData\\Local\\Temp\\ipykernel_3964\\3441492807.py:144: OptimizeWarning: Covariance of the parameters could not be estimated\n",
      "  popt, _ = curve_fit(saturating_func, steps, values, p0=p0, maxfev=1000)\n"
     ]
    },
    {
     "name": "stdout",
     "output_type": "stream",
     "text": [
      "Trial 58, Step 0: 2 trees, OOB: 0.7441\n",
      "\n",
      "=== DEBUGGING TRIAL 58 ===\n",
      "Intermediate values: {0: 0.7441471571906354}\n",
      "Current step: 0, Current value: 0.7441471571906354\n",
      "[Debug Trial 58]: Not enough steps (1 < 3)\n",
      "Trial 58, Step 1: 6 trees, OOB: 0.7525\n",
      "\n",
      "=== DEBUGGING TRIAL 58 ===\n",
      "Intermediate values: {0: 0.7441471571906354, 1: 0.7525083612040134}\n",
      "Current step: 1, Current value: 0.7525083612040134\n",
      "[Debug Trial 58]: Not enough steps (2 < 3)\n",
      "Trial 58, Step 2: 12 trees, OOB: 0.7726\n",
      "\n",
      "=== DEBUGGING TRIAL 58 ===\n",
      "Intermediate values: {0: 0.7441471571906354, 1: 0.7525083612040134, 2: 0.7725752508361204}\n",
      "Current step: 2, Current value: 0.7725752508361204\n",
      "Steps for prediction: [0 1 2]\n",
      "Values for prediction: [0.74414716 0.75250836 0.77257525]\n",
      "[Debug Trial 58]: Curve fitting failed: Optimal parameters not found: Number of calls to function has reached maxfev = 1000., using linear extrapolation\n",
      "Predicted final performance: 0.8127090301003345\n",
      "Completed trial values: [0.7905701754385964, 0.7938596491228068, 0.797027290448343, 0.7860623781676414, 0.7928849902534112, 0.7807017543859648, 0.790204678362573, 0.7897173489278753, 0.7887426900584794, 0.7897173489278753, 0.7902046783625731, 0.7877680311890839]\n",
      "Threshold (quantile 0.5): 0.7899610136452242\n",
      "Prediction vs threshold: 0.8127 vs 0.7900\n",
      "Decision: CONTINUE\n",
      "✅ CONTINUING: 0.8127 >= 0.7900\n",
      "Trial 58, Step 3: 25 trees, OOB: 0.7793\n",
      "\n",
      "=== DEBUGGING TRIAL 58 ===\n",
      "Intermediate values: {0: 0.7441471571906354, 1: 0.7525083612040134, 2: 0.7725752508361204, 3: 0.7792642140468228}\n",
      "Current step: 3, Current value: 0.7792642140468228\n",
      "Steps for prediction: [0 1 2 3]\n",
      "Values for prediction: [0.74414716 0.75250836 0.77257525 0.77926421]\n",
      "[Debug Trial 58]: Curve fit params: a=0.9881, b=0.2451, c=0.0556\n",
      "[Debug Trial 58]: Extrapolated to step 9: 0.8394\n",
      "Predicted final performance: 0.8394091572000397\n",
      "Completed trial values: [0.7905701754385964, 0.7938596491228068, 0.797027290448343, 0.7860623781676414, 0.7928849902534112, 0.7807017543859648, 0.790204678362573, 0.7897173489278753, 0.7887426900584794, 0.7897173489278753, 0.7902046783625731, 0.7877680311890839]\n",
      "Threshold (quantile 0.5): 0.7899610136452242\n",
      "Prediction vs threshold: 0.8394 vs 0.7900\n",
      "Decision: CONTINUE\n",
      "✅ CONTINUING: 0.8394 >= 0.7900\n",
      "Trial 58, Step 4: 63 trees, OOB: 0.7843\n",
      "\n",
      "=== DEBUGGING TRIAL 58 ===\n",
      "Intermediate values: {0: 0.7441471571906354, 1: 0.7525083612040134, 2: 0.7725752508361204, 3: 0.7792642140468228, 4: 0.7842809364548495}\n",
      "Current step: 4, Current value: 0.7842809364548495\n",
      "Steps for prediction: [0 1 2 3 4]\n",
      "Values for prediction: [0.74414716 0.75250836 0.77257525 0.77926421 0.78428094]\n",
      "[Debug Trial 58]: Curve fit params: a=0.8139, b=0.0713, c=0.2318\n",
      "[Debug Trial 58]: Extrapolated to step 12: 0.8094\n",
      "Predicted final performance: 0.809445457870578\n",
      "Completed trial values: [0.7905701754385964, 0.7938596491228068, 0.797027290448343, 0.7860623781676414, 0.7928849902534112, 0.7807017543859648, 0.790204678362573, 0.7897173489278753, 0.7887426900584794, 0.7897173489278753, 0.7902046783625731, 0.7877680311890839]\n",
      "Threshold (quantile 0.5): 0.7899610136452242\n",
      "Prediction vs threshold: 0.8094 vs 0.7900\n",
      "Decision: CONTINUE\n",
      "✅ CONTINUING: 0.8094 >= 0.7900\n",
      "Trial 58, Step 5: 127 trees, OOB: 0.7793\n",
      "\n",
      "=== DEBUGGING TRIAL 58 ===\n",
      "Intermediate values: {0: 0.7441471571906354, 1: 0.7525083612040134, 2: 0.7725752508361204, 3: 0.7792642140468228, 4: 0.7842809364548495, 5: 0.7792642140468228}\n",
      "Current step: 5, Current value: 0.7792642140468228\n",
      "Steps for prediction: [0 1 2 3 4 5]\n",
      "Values for prediction: [0.74414716 0.75250836 0.77257525 0.77926421 0.78428094 0.77926421]\n",
      "[Debug Trial 58]: Curve fit params: a=0.7886, b=0.0466, c=0.4547\n",
      "[Debug Trial 58]: Extrapolated to step 15: 0.7885\n",
      "Predicted final performance: 0.7885040037652761\n",
      "Completed trial values: [0.7905701754385964, 0.7938596491228068, 0.797027290448343, 0.7860623781676414, 0.7928849902534112, 0.7807017543859648, 0.790204678362573, 0.7897173489278753, 0.7887426900584794, 0.7897173489278753, 0.7902046783625731, 0.7877680311890839]\n",
      "Threshold (quantile 0.5): 0.7899610136452242\n",
      "Prediction vs threshold: 0.7885 vs 0.7900\n",
      "Decision: PRUNE\n",
      "🔥 PRUNING: 0.7885 < 0.7900\n",
      "Trial 58 pruned at step 5 (127 estimators, OOB: 0.7793)\n",
      "Trial 59, Step 0: 2 trees, OOB: 0.7408\n",
      "\n",
      "=== DEBUGGING TRIAL 59 ===\n",
      "Intermediate values: {0: 0.7408026755852842}\n",
      "Current step: 0, Current value: 0.7408026755852842\n",
      "[Debug Trial 59]: Not enough steps (1 < 3)\n",
      "Trial 59, Step 1: 5 trees, OOB: 0.7492\n",
      "\n",
      "=== DEBUGGING TRIAL 59 ===\n",
      "Intermediate values: {0: 0.7408026755852842, 1: 0.7491638795986622}\n",
      "Current step: 1, Current value: 0.7491638795986622\n",
      "[Debug Trial 59]: Not enough steps (2 < 3)\n",
      "Trial 59, Step 2: 10 trees, OOB: 0.7709\n",
      "\n",
      "=== DEBUGGING TRIAL 59 ===\n",
      "Intermediate values: {0: 0.7408026755852842, 1: 0.7491638795986622, 2: 0.7709030100334449}\n",
      "Current step: 2, Current value: 0.7709030100334449\n",
      "Steps for prediction: [0 1 2]\n",
      "Values for prediction: [0.74080268 0.74916388 0.77090301]\n",
      "[Debug Trial 59]: Curve fit params: a=129.8614, b=129.1228, c=0.0001\n",
      "[Debug Trial 59]: Extrapolated to step 6: 0.8289\n",
      "Predicted final performance: 0.828851073332288\n",
      "Completed trial values: [0.7905701754385964, 0.7938596491228068, 0.797027290448343, 0.7860623781676414, 0.7928849902534112, 0.7807017543859648, 0.790204678362573, 0.7897173489278753, 0.7887426900584794, 0.7897173489278753, 0.7902046783625731, 0.7877680311890839]\n",
      "Threshold (quantile 0.5): 0.7899610136452242\n",
      "Prediction vs threshold: 0.8289 vs 0.7900\n",
      "Decision: CONTINUE\n",
      "✅ CONTINUING: 0.8289 >= 0.7900\n",
      "Trial 59, Step 3: 20 trees, OOB: 0.7826\n",
      "\n",
      "=== DEBUGGING TRIAL 59 ===\n",
      "Intermediate values: {0: 0.7408026755852842, 1: 0.7491638795986622, 2: 0.7709030100334449, 3: 0.782608695652174}\n",
      "Current step: 3, Current value: 0.782608695652174\n",
      "Steps for prediction: [0 1 2 3]\n",
      "Values for prediction: [0.74080268 0.74916388 0.77090301 0.7826087 ]\n",
      "[Debug Trial 59]: Curve fitting failed: Optimal parameters not found: Number of calls to function has reached maxfev = 1000., using linear extrapolation\n",
      "Predicted final performance: 0.8177257525083612\n"
     ]
    },
    {
     "name": "stderr",
     "output_type": "stream",
     "text": [
      "C:\\Users\\Obidur Rahman\\AppData\\Local\\Temp\\ipykernel_3964\\3441492807.py:144: OptimizeWarning: Covariance of the parameters could not be estimated\n",
      "  popt, _ = curve_fit(saturating_func, steps, values, p0=p0, maxfev=1000)\n"
     ]
    },
    {
     "name": "stdout",
     "output_type": "stream",
     "text": [
      "Completed trial values: [0.7905701754385964, 0.7938596491228068, 0.797027290448343, 0.7860623781676414, 0.7928849902534112, 0.7807017543859648, 0.790204678362573, 0.7897173489278753, 0.7887426900584794, 0.7897173489278753, 0.7902046783625731, 0.7877680311890839]\n",
      "Threshold (quantile 0.5): 0.7899610136452242\n",
      "Prediction vs threshold: 0.8177 vs 0.7900\n",
      "Decision: CONTINUE\n",
      "✅ CONTINUING: 0.8177 >= 0.7900\n",
      "Trial 59, Step 4: 51 trees, OOB: 0.7893\n",
      "\n",
      "=== DEBUGGING TRIAL 59 ===\n",
      "Intermediate values: {0: 0.7408026755852842, 1: 0.7491638795986622, 2: 0.7709030100334449, 3: 0.782608695652174, 4: 0.7892976588628763}\n",
      "Current step: 4, Current value: 0.7892976588628763\n",
      "Steps for prediction: [0 1 2 3 4]\n",
      "Values for prediction: [0.74080268 0.74916388 0.77090301 0.7826087  0.78929766]\n",
      "[Debug Trial 59]: Curve fit params: a=0.8711, b=0.1323, c=0.1257\n",
      "[Debug Trial 59]: Extrapolated to step 12: 0.8418\n",
      "Predicted final performance: 0.8417982188071906\n",
      "Completed trial values: [0.7905701754385964, 0.7938596491228068, 0.797027290448343, 0.7860623781676414, 0.7928849902534112, 0.7807017543859648, 0.790204678362573, 0.7897173489278753, 0.7887426900584794, 0.7897173489278753, 0.7902046783625731, 0.7877680311890839]\n",
      "Threshold (quantile 0.5): 0.7899610136452242\n",
      "Prediction vs threshold: 0.8418 vs 0.7900\n",
      "Decision: CONTINUE\n",
      "✅ CONTINUING: 0.8418 >= 0.7900\n",
      "Trial 59, Step 5: 102 trees, OOB: 0.7876\n",
      "\n",
      "=== DEBUGGING TRIAL 59 ===\n",
      "Intermediate values: {0: 0.7408026755852842, 1: 0.7491638795986622, 2: 0.7709030100334449, 3: 0.782608695652174, 4: 0.7892976588628763, 5: 0.7876254180602007}\n",
      "Current step: 5, Current value: 0.7876254180602007\n",
      "Steps for prediction: [0 1 2 3 4 5]\n",
      "Values for prediction: [0.74080268 0.74916388 0.77090301 0.7826087  0.78929766 0.78762542]\n",
      "[Debug Trial 59]: Curve fit params: a=0.8062, b=0.0682, c=0.3085\n",
      "[Debug Trial 59]: Extrapolated to step 15: 0.8055\n",
      "Predicted final performance: 0.8054857411293861\n",
      "Completed trial values: [0.7905701754385964, 0.7938596491228068, 0.797027290448343, 0.7860623781676414, 0.7928849902534112, 0.7807017543859648, 0.790204678362573, 0.7897173489278753, 0.7887426900584794, 0.7897173489278753, 0.7902046783625731, 0.7877680311890839]\n",
      "Threshold (quantile 0.5): 0.7899610136452242\n",
      "Prediction vs threshold: 0.8055 vs 0.7900\n",
      "Decision: CONTINUE\n",
      "✅ CONTINUING: 0.8055 >= 0.7900\n",
      "Trial 59 completed with AUC: 0.7958\n",
      "Trial 60, Step 0: 1 trees, OOB: nan\n",
      "\n",
      "=== DEBUGGING TRIAL 60 ===\n",
      "Intermediate values: {0: nan}\n",
      "Current step: 0, Current value: nan\n",
      "[Debug Trial 60]: Not enough steps (1 < 3)\n",
      "Trial 60, Step 1: 3 trees, OOB: 0.7090\n",
      "\n",
      "=== DEBUGGING TRIAL 60 ===\n",
      "Intermediate values: {0: nan, 1: 0.7090301003344481}\n",
      "Current step: 1, Current value: 0.7090301003344481\n",
      "[Debug Trial 60]: Not enough steps (2 < 3)\n",
      "Trial 60, Step 2: 7 trees, OOB: 0.6890\n",
      "\n",
      "=== DEBUGGING TRIAL 60 ===\n",
      "Intermediate values: {0: nan, 1: 0.7090301003344481, 2: 0.6889632107023411}\n",
      "Current step: 2, Current value: 0.6889632107023411\n",
      "Steps for prediction: [0 1 2]\n",
      "Values for prediction: [       nan 0.7090301  0.68896321]\n",
      "[Debug Trial 60]: Curve fitting failed: array must not contain infs or NaNs, using linear extrapolation\n",
      "Predicted final performance: 0.6488294314381271\n",
      "Completed trial values: [0.7905701754385964, 0.7938596491228068, 0.797027290448343, 0.7860623781676414, 0.7928849902534112, 0.7807017543859648, 0.790204678362573, 0.7897173489278753, 0.7887426900584794, 0.7897173489278753, 0.7902046783625731, 0.7877680311890839, 0.7958089668615984]\n",
      "Threshold (quantile 0.5): 0.790204678362573\n",
      "Prediction vs threshold: 0.6488 vs 0.7902\n",
      "Decision: PRUNE\n",
      "🔥 PRUNING: 0.6488 < 0.7902\n",
      "Trial 60 pruned at step 2 (7 estimators, OOB: 0.6890)\n",
      "Trial 61, Step 0: 1 trees, OOB: nan\n",
      "\n",
      "=== DEBUGGING TRIAL 61 ===\n",
      "Intermediate values: {0: nan}\n",
      "Current step: 0, Current value: nan\n",
      "[Debug Trial 61]: Not enough steps (1 < 3)\n",
      "Trial 61, Step 1: 3 trees, OOB: 0.7559\n",
      "\n",
      "=== DEBUGGING TRIAL 61 ===\n",
      "Intermediate values: {0: nan, 1: 0.7558528428093646}\n",
      "Current step: 1, Current value: 0.7558528428093646\n",
      "[Debug Trial 61]: Not enough steps (2 < 3)\n",
      "Trial 61, Step 2: 6 trees, OOB: 0.7575\n",
      "\n",
      "=== DEBUGGING TRIAL 61 ===\n",
      "Intermediate values: {0: nan, 1: 0.7558528428093646, 2: 0.7575250836120402}\n",
      "Current step: 2, Current value: 0.7575250836120402\n",
      "Steps for prediction: [0 1 2]\n",
      "Values for prediction: [       nan 0.75585284 0.75752508]\n",
      "[Debug Trial 61]: Curve fitting failed: array must not contain infs or NaNs, using linear extrapolation\n",
      "Predicted final performance: 0.7608695652173914\n",
      "Completed trial values: [0.7905701754385964, 0.7938596491228068, 0.797027290448343, 0.7860623781676414, 0.7928849902534112, 0.7807017543859648, 0.790204678362573, 0.7897173489278753, 0.7887426900584794, 0.7897173489278753, 0.7902046783625731, 0.7877680311890839, 0.7958089668615984]\n",
      "Threshold (quantile 0.5): 0.790204678362573\n",
      "Prediction vs threshold: 0.7609 vs 0.7902\n",
      "Decision: PRUNE\n",
      "🔥 PRUNING: 0.7609 < 0.7902\n",
      "Trial 61 pruned at step 2 (6 estimators, OOB: 0.7575)\n",
      "Trial 62, Step 0: 2 trees, OOB: 0.7408\n",
      "\n",
      "=== DEBUGGING TRIAL 62 ===\n",
      "Intermediate values: {0: 0.7408026755852842}\n",
      "Current step: 0, Current value: 0.7408026755852842\n",
      "[Debug Trial 62]: Not enough steps (1 < 3)\n",
      "Trial 62, Step 1: 5 trees, OOB: 0.7492\n",
      "\n",
      "=== DEBUGGING TRIAL 62 ===\n",
      "Intermediate values: {0: 0.7408026755852842, 1: 0.7491638795986622}\n",
      "Current step: 1, Current value: 0.7491638795986622\n",
      "[Debug Trial 62]: Not enough steps (2 < 3)\n",
      "Trial 62, Step 2: 10 trees, OOB: 0.7659\n",
      "\n",
      "=== DEBUGGING TRIAL 62 ===\n",
      "Intermediate values: {0: 0.7408026755852842, 1: 0.7491638795986622, 2: 0.7658862876254181}\n",
      "Current step: 2, Current value: 0.7658862876254181\n",
      "Steps for prediction: [0 1 2]\n",
      "Values for prediction: [0.74080268 0.74916388 0.76588629]\n",
      "[Debug Trial 62]: Curve fitting failed: Optimal parameters not found: Number of calls to function has reached maxfev = 1000., using linear extrapolation\n",
      "Predicted final performance: 0.79933110367893\n",
      "Completed trial values: [0.7905701754385964, 0.7938596491228068, 0.797027290448343, 0.7860623781676414, 0.7928849902534112, 0.7807017543859648, 0.790204678362573, 0.7897173489278753, 0.7887426900584794, 0.7897173489278753, 0.7902046783625731, 0.7877680311890839, 0.7958089668615984]\n",
      "Threshold (quantile 0.5): 0.790204678362573\n",
      "Prediction vs threshold: 0.7993 vs 0.7902\n",
      "Decision: CONTINUE\n",
      "✅ CONTINUING: 0.7993 >= 0.7902\n",
      "Trial 62, Step 3: 20 trees, OOB: 0.7793\n",
      "\n",
      "=== DEBUGGING TRIAL 62 ===\n",
      "Intermediate values: {0: 0.7408026755852842, 1: 0.7491638795986622, 2: 0.7658862876254181, 3: 0.7792642140468228}\n",
      "Current step: 3, Current value: 0.7792642140468228\n",
      "Steps for prediction: [0 1 2 3]\n",
      "Values for prediction: [0.74080268 0.74916388 0.76588629 0.77926421]\n",
      "[Debug Trial 62]: Curve fitting failed: Optimal parameters not found: Number of calls to function has reached maxfev = 1000., using linear extrapolation\n",
      "Predicted final performance: 0.8193979933110368\n",
      "Completed trial values: [0.7905701754385964, 0.7938596491228068, 0.797027290448343, 0.7860623781676414, 0.7928849902534112, 0.7807017543859648, 0.790204678362573, 0.7897173489278753, 0.7887426900584794, 0.7897173489278753, 0.7902046783625731, 0.7877680311890839, 0.7958089668615984]\n",
      "Threshold (quantile 0.5): 0.790204678362573\n",
      "Prediction vs threshold: 0.8194 vs 0.7902\n",
      "Decision: CONTINUE\n",
      "✅ CONTINUING: 0.8194 >= 0.7902\n",
      "Trial 62, Step 4: 50 trees, OOB: 0.7860\n",
      "\n",
      "=== DEBUGGING TRIAL 62 ===\n",
      "Intermediate values: {0: 0.7408026755852842, 1: 0.7491638795986622, 2: 0.7658862876254181, 3: 0.7792642140468228, 4: 0.7859531772575251}\n",
      "Current step: 4, Current value: 0.7859531772575251\n",
      "Steps for prediction: [0 1 2 3 4]\n",
      "Values for prediction: [0.74080268 0.74916388 0.76588629 0.77926421 0.78595318]\n",
      "[Debug Trial 62]: Curve fit params: a=0.9381, b=0.1988, c=0.0694\n",
      "[Debug Trial 62]: Extrapolated to step 12: 0.8516\n",
      "Predicted final performance: 0.8516434027053208\n",
      "Completed trial values: [0.7905701754385964, 0.7938596491228068, 0.797027290448343, 0.7860623781676414, 0.7928849902534112, 0.7807017543859648, 0.790204678362573, 0.7897173489278753, 0.7887426900584794, 0.7897173489278753, 0.7902046783625731, 0.7877680311890839, 0.7958089668615984]\n",
      "Threshold (quantile 0.5): 0.790204678362573\n",
      "Prediction vs threshold: 0.8516 vs 0.7902\n",
      "Decision: CONTINUE\n",
      "✅ CONTINUING: 0.8516 >= 0.7902\n",
      "Trial 62, Step 5: 101 trees, OOB: 0.7910\n",
      "\n",
      "=== DEBUGGING TRIAL 62 ===\n",
      "Intermediate values: {0: 0.7408026755852842, 1: 0.7491638795986622, 2: 0.7658862876254181, 3: 0.7792642140468228, 4: 0.7859531772575251, 5: 0.7909698996655519}\n",
      "Current step: 5, Current value: 0.7909698996655519\n",
      "Steps for prediction: [0 1 2 3 4 5]\n",
      "Values for prediction: [0.74080268 0.74916388 0.76588629 0.77926421 0.78595318 0.7909699 ]\n",
      "[Debug Trial 62]: Curve fit params: a=0.8336, b=0.0948, c=0.1678\n",
      "[Debug Trial 62]: Extrapolated to step 15: 0.8260\n",
      "Predicted final performance: 0.825958653956122\n",
      "Completed trial values: [0.7905701754385964, 0.7938596491228068, 0.797027290448343, 0.7860623781676414, 0.7928849902534112, 0.7807017543859648, 0.790204678362573, 0.7897173489278753, 0.7887426900584794, 0.7897173489278753, 0.7902046783625731, 0.7877680311890839, 0.7958089668615984]\n",
      "Threshold (quantile 0.5): 0.790204678362573\n",
      "Prediction vs threshold: 0.8260 vs 0.7902\n",
      "Decision: CONTINUE\n",
      "✅ CONTINUING: 0.8260 >= 0.7902\n",
      "Trial 62 completed with AUC: 0.7926\n",
      "Trial 63, Step 0: 1 trees, OOB: nan\n",
      "\n",
      "=== DEBUGGING TRIAL 63 ===\n",
      "Intermediate values: {0: nan}\n",
      "Current step: 0, Current value: nan\n",
      "[Debug Trial 63]: Not enough steps (1 < 3)\n",
      "Trial 63, Step 1: 4 trees, OOB: 0.7475\n",
      "\n",
      "=== DEBUGGING TRIAL 63 ===\n",
      "Intermediate values: {0: nan, 1: 0.7474916387959866}\n",
      "Current step: 1, Current value: 0.7474916387959866\n",
      "[Debug Trial 63]: Not enough steps (2 < 3)\n",
      "Trial 63, Step 2: 9 trees, OOB: 0.7692\n",
      "\n",
      "=== DEBUGGING TRIAL 63 ===\n",
      "Intermediate values: {0: nan, 1: 0.7474916387959866, 2: 0.7692307692307693}\n",
      "Current step: 2, Current value: 0.7692307692307693\n",
      "Steps for prediction: [0 1 2]\n",
      "Values for prediction: [       nan 0.74749164 0.76923077]\n",
      "[Debug Trial 63]: Curve fitting failed: array must not contain infs or NaNs, using linear extrapolation\n",
      "Predicted final performance: 0.8127090301003347\n",
      "Completed trial values: [0.7905701754385964, 0.7938596491228068, 0.797027290448343, 0.7860623781676414, 0.7928849902534112, 0.7807017543859648, 0.790204678362573, 0.7897173489278753, 0.7887426900584794, 0.7897173489278753, 0.7902046783625731, 0.7877680311890839, 0.7958089668615984, 0.7926413255360623]\n",
      "Threshold (quantile 0.5): 0.7902046783625731\n",
      "Prediction vs threshold: 0.8127 vs 0.7902\n",
      "Decision: CONTINUE\n",
      "✅ CONTINUING: 0.8127 >= 0.7902\n",
      "Trial 63, Step 3: 19 trees, OOB: 0.7809\n",
      "\n",
      "=== DEBUGGING TRIAL 63 ===\n",
      "Intermediate values: {0: nan, 1: 0.7474916387959866, 2: 0.7692307692307693, 3: 0.7809364548494984}\n",
      "Current step: 3, Current value: 0.7809364548494984\n",
      "Steps for prediction: [0 1 2 3]\n",
      "Values for prediction: [       nan 0.74749164 0.76923077 0.78093645]\n",
      "[Debug Trial 63]: Curve fitting failed: array must not contain infs or NaNs, using linear extrapolation\n",
      "Predicted final performance: 0.8160535117056856\n",
      "Completed trial values: [0.7905701754385964, 0.7938596491228068, 0.797027290448343, 0.7860623781676414, 0.7928849902534112, 0.7807017543859648, 0.790204678362573, 0.7897173489278753, 0.7887426900584794, 0.7897173489278753, 0.7902046783625731, 0.7877680311890839, 0.7958089668615984, 0.7926413255360623]\n",
      "Threshold (quantile 0.5): 0.7902046783625731\n",
      "Prediction vs threshold: 0.8161 vs 0.7902\n",
      "Decision: CONTINUE\n",
      "✅ CONTINUING: 0.8161 >= 0.7902\n",
      "Trial 63, Step 4: 47 trees, OOB: 0.7893\n",
      "\n",
      "=== DEBUGGING TRIAL 63 ===\n",
      "Intermediate values: {0: nan, 1: 0.7474916387959866, 2: 0.7692307692307693, 3: 0.7809364548494984, 4: 0.7892976588628763}\n",
      "Current step: 4, Current value: 0.7892976588628763\n",
      "Steps for prediction: [0 1 2 3 4]\n",
      "Values for prediction: [       nan 0.74749164 0.76923077 0.78093645 0.78929766]\n",
      "[Debug Trial 63]: Curve fitting failed: array must not contain infs or NaNs, using linear extrapolation\n",
      "Predicted final performance: 0.822742474916388\n",
      "Completed trial values: [0.7905701754385964, 0.7938596491228068, 0.797027290448343, 0.7860623781676414, 0.7928849902534112, 0.7807017543859648, 0.790204678362573, 0.7897173489278753, 0.7887426900584794, 0.7897173489278753, 0.7902046783625731, 0.7877680311890839, 0.7958089668615984, 0.7926413255360623]\n",
      "Threshold (quantile 0.5): 0.7902046783625731\n",
      "Prediction vs threshold: 0.8227 vs 0.7902\n",
      "Decision: CONTINUE\n",
      "✅ CONTINUING: 0.8227 >= 0.7902\n",
      "Trial 63, Step 5: 95 trees, OOB: 0.7876\n",
      "\n",
      "=== DEBUGGING TRIAL 63 ===\n",
      "Intermediate values: {0: nan, 1: 0.7474916387959866, 2: 0.7692307692307693, 3: 0.7809364548494984, 4: 0.7892976588628763, 5: 0.7876254180602007}\n",
      "Current step: 5, Current value: 0.7876254180602007\n",
      "Steps for prediction: [0 1 2 3 4 5]\n",
      "Values for prediction: [       nan 0.74749164 0.76923077 0.78093645 0.78929766 0.78762542]\n",
      "[Debug Trial 63]: Curve fitting failed: array must not contain infs or NaNs, using linear extrapolation\n",
      "Predicted final performance: 0.7792642140468228\n",
      "Completed trial values: [0.7905701754385964, 0.7938596491228068, 0.797027290448343, 0.7860623781676414, 0.7928849902534112, 0.7807017543859648, 0.790204678362573, 0.7897173489278753, 0.7887426900584794, 0.7897173489278753, 0.7902046783625731, 0.7877680311890839, 0.7958089668615984, 0.7926413255360623]\n",
      "Threshold (quantile 0.5): 0.7902046783625731\n",
      "Prediction vs threshold: 0.7793 vs 0.7902\n",
      "Decision: PRUNE\n",
      "🔥 PRUNING: 0.7793 < 0.7902\n",
      "Trial 63 pruned at step 5 (95 estimators, OOB: 0.7876)\n",
      "Trial 64, Step 0: 2 trees, OOB: 0.7408\n",
      "\n",
      "=== DEBUGGING TRIAL 64 ===\n",
      "Intermediate values: {0: 0.7408026755852842}\n",
      "Current step: 0, Current value: 0.7408026755852842\n",
      "[Debug Trial 64]: Not enough steps (1 < 3)\n",
      "Trial 64, Step 1: 5 trees, OOB: 0.7525\n",
      "\n",
      "=== DEBUGGING TRIAL 64 ===\n",
      "Intermediate values: {0: 0.7408026755852842, 1: 0.7525083612040134}\n",
      "Current step: 1, Current value: 0.7525083612040134\n",
      "[Debug Trial 64]: Not enough steps (2 < 3)\n",
      "Trial 64, Step 2: 10 trees, OOB: 0.7709\n",
      "\n",
      "=== DEBUGGING TRIAL 64 ===\n",
      "Intermediate values: {0: 0.7408026755852842, 1: 0.7525083612040134, 2: 0.7709030100334449}\n",
      "Current step: 2, Current value: 0.7709030100334449\n",
      "Steps for prediction: [0 1 2]\n",
      "Values for prediction: [0.74080268 0.75250836 0.77090301]\n",
      "[Debug Trial 64]: Curve fitting failed: Optimal parameters not found: Number of calls to function has reached maxfev = 1000., using linear extrapolation\n",
      "Predicted final performance: 0.8076923076923077\n",
      "Completed trial values: [0.7905701754385964, 0.7938596491228068, 0.797027290448343, 0.7860623781676414, 0.7928849902534112, 0.7807017543859648, 0.790204678362573, 0.7897173489278753, 0.7887426900584794, 0.7897173489278753, 0.7902046783625731, 0.7877680311890839, 0.7958089668615984, 0.7926413255360623]\n",
      "Threshold (quantile 0.5): 0.7902046783625731\n",
      "Prediction vs threshold: 0.8077 vs 0.7902\n",
      "Decision: CONTINUE\n",
      "✅ CONTINUING: 0.8077 >= 0.7902\n",
      "Trial 64, Step 3: 20 trees, OOB: 0.7809\n",
      "\n",
      "=== DEBUGGING TRIAL 64 ===\n",
      "Intermediate values: {0: 0.7408026755852842, 1: 0.7525083612040134, 2: 0.7709030100334449, 3: 0.7809364548494984}\n",
      "Current step: 3, Current value: 0.7809364548494984\n",
      "Steps for prediction: [0 1 2 3]\n",
      "Values for prediction: [0.74080268 0.75250836 0.77090301 0.78093645]\n",
      "[Debug Trial 64]: Curve fit params: a=1.0169, b=0.2768, c=0.0544\n",
      "[Debug Trial 64]: Extrapolated to step 9: 0.8472\n",
      "Predicted final performance: 0.8471669229783091\n",
      "Completed trial values: [0.7905701754385964, 0.7938596491228068, 0.797027290448343, 0.7860623781676414, 0.7928849902534112, 0.7807017543859648, 0.790204678362573, 0.7897173489278753, 0.7887426900584794, 0.7897173489278753, 0.7902046783625731, 0.7877680311890839, 0.7958089668615984, 0.7926413255360623]\n",
      "Threshold (quantile 0.5): 0.7902046783625731\n",
      "Prediction vs threshold: 0.8472 vs 0.7902\n",
      "Decision: CONTINUE\n",
      "✅ CONTINUING: 0.8472 >= 0.7902\n",
      "Trial 64, Step 4: 50 trees, OOB: 0.7893\n",
      "\n",
      "=== DEBUGGING TRIAL 64 ===\n",
      "Intermediate values: {0: 0.7408026755852842, 1: 0.7525083612040134, 2: 0.7709030100334449, 3: 0.7809364548494984, 4: 0.7892976588628763}\n",
      "Current step: 4, Current value: 0.7892976588628763\n",
      "Steps for prediction: [0 1 2 3 4]\n",
      "Values for prediction: [0.74080268 0.75250836 0.77090301 0.78093645 0.78929766]\n",
      "[Debug Trial 64]: Curve fit params: a=0.8468, b=0.1071, c=0.1586\n",
      "[Debug Trial 64]: Extrapolated to step 12: 0.8309\n",
      "Predicted final performance: 0.8308793304061654\n",
      "Completed trial values: [0.7905701754385964, 0.7938596491228068, 0.797027290448343, 0.7860623781676414, 0.7928849902534112, 0.7807017543859648, 0.790204678362573, 0.7897173489278753, 0.7887426900584794, 0.7897173489278753, 0.7902046783625731, 0.7877680311890839, 0.7958089668615984, 0.7926413255360623]\n",
      "Threshold (quantile 0.5): 0.7902046783625731\n",
      "Prediction vs threshold: 0.8309 vs 0.7902\n",
      "Decision: CONTINUE\n",
      "✅ CONTINUING: 0.8309 >= 0.7902\n",
      "Trial 64, Step 5: 101 trees, OOB: 0.7876\n",
      "\n",
      "=== DEBUGGING TRIAL 64 ===\n",
      "Intermediate values: {0: 0.7408026755852842, 1: 0.7525083612040134, 2: 0.7709030100334449, 3: 0.7809364548494984, 4: 0.7892976588628763, 5: 0.7876254180602007}\n",
      "Current step: 5, Current value: 0.7876254180602007\n",
      "Steps for prediction: [0 1 2 3 4 5]\n",
      "Values for prediction: [0.74080268 0.75250836 0.77090301 0.78093645 0.78929766 0.78762542]\n",
      "[Debug Trial 64]: Curve fit params: a=0.8035, b=0.0646, c=0.3265\n",
      "[Debug Trial 64]: Extrapolated to step 15: 0.8030\n",
      "Predicted final performance: 0.8030409228572735\n",
      "Completed trial values: [0.7905701754385964, 0.7938596491228068, 0.797027290448343, 0.7860623781676414, 0.7928849902534112, 0.7807017543859648, 0.790204678362573, 0.7897173489278753, 0.7887426900584794, 0.7897173489278753, 0.7902046783625731, 0.7877680311890839, 0.7958089668615984, 0.7926413255360623]\n",
      "Threshold (quantile 0.5): 0.7902046783625731\n",
      "Prediction vs threshold: 0.8030 vs 0.7902\n",
      "Decision: CONTINUE\n",
      "✅ CONTINUING: 0.8030 >= 0.7902\n",
      "Trial 64 completed with AUC: 0.7924\n",
      "Trial 65, Step 0: 1 trees, OOB: nan\n",
      "\n",
      "=== DEBUGGING TRIAL 65 ===\n",
      "Intermediate values: {0: nan}\n",
      "Current step: 0, Current value: nan\n",
      "[Debug Trial 65]: Not enough steps (1 < 3)\n",
      "Trial 65, Step 1: 4 trees, OOB: 0.7492\n",
      "\n",
      "=== DEBUGGING TRIAL 65 ===\n",
      "Intermediate values: {0: nan, 1: 0.7491638795986622}\n",
      "Current step: 1, Current value: 0.7491638795986622\n",
      "[Debug Trial 65]: Not enough steps (2 < 3)\n",
      "Trial 65, Step 2: 8 trees, OOB: 0.7692\n",
      "\n",
      "=== DEBUGGING TRIAL 65 ===\n",
      "Intermediate values: {0: nan, 1: 0.7491638795986622, 2: 0.7692307692307693}\n",
      "Current step: 2, Current value: 0.7692307692307693\n",
      "Steps for prediction: [0 1 2]\n",
      "Values for prediction: [       nan 0.74916388 0.76923077]\n",
      "[Debug Trial 65]: Curve fitting failed: array must not contain infs or NaNs, using linear extrapolation\n",
      "Predicted final performance: 0.8093645484949835\n",
      "Completed trial values: [0.7905701754385964, 0.7938596491228068, 0.797027290448343, 0.7860623781676414, 0.7928849902534112, 0.7807017543859648, 0.790204678362573, 0.7897173489278753, 0.7887426900584794, 0.7897173489278753, 0.7902046783625731, 0.7877680311890839, 0.7958089668615984, 0.7926413255360623, 0.7923976608187134]\n",
      "Threshold (quantile 0.5): 0.7902046783625731\n",
      "Prediction vs threshold: 0.8094 vs 0.7902\n",
      "Decision: CONTINUE\n",
      "✅ CONTINUING: 0.8094 >= 0.7902\n",
      "Trial 65, Step 3: 17 trees, OOB: 0.7776\n",
      "\n",
      "=== DEBUGGING TRIAL 65 ===\n",
      "Intermediate values: {0: nan, 1: 0.7491638795986622, 2: 0.7692307692307693, 3: 0.7775919732441472}\n",
      "Current step: 3, Current value: 0.7775919732441472\n",
      "Steps for prediction: [0 1 2 3]\n",
      "Values for prediction: [       nan 0.74916388 0.76923077 0.77759197]\n",
      "[Debug Trial 65]: Curve fitting failed: array must not contain infs or NaNs, using linear extrapolation\n",
      "Predicted final performance: 0.802675585284281\n",
      "Completed trial values: [0.7905701754385964, 0.7938596491228068, 0.797027290448343, 0.7860623781676414, 0.7928849902534112, 0.7807017543859648, 0.790204678362573, 0.7897173489278753, 0.7887426900584794, 0.7897173489278753, 0.7902046783625731, 0.7877680311890839, 0.7958089668615984, 0.7926413255360623, 0.7923976608187134]\n",
      "Threshold (quantile 0.5): 0.7902046783625731\n",
      "Prediction vs threshold: 0.8027 vs 0.7902\n",
      "Decision: CONTINUE\n",
      "✅ CONTINUING: 0.8027 >= 0.7902\n",
      "Trial 65, Step 4: 42 trees, OOB: 0.7910\n",
      "\n",
      "=== DEBUGGING TRIAL 65 ===\n",
      "Intermediate values: {0: nan, 1: 0.7491638795986622, 2: 0.7692307692307693, 3: 0.7775919732441472, 4: 0.7909698996655519}\n",
      "Current step: 4, Current value: 0.7909698996655519\n",
      "Steps for prediction: [0 1 2 3 4]\n",
      "Values for prediction: [       nan 0.74916388 0.76923077 0.77759197 0.7909699 ]\n",
      "[Debug Trial 65]: Curve fitting failed: array must not contain infs or NaNs, using linear extrapolation\n",
      "Predicted final performance: 0.8444816053511706\n",
      "Completed trial values: [0.7905701754385964, 0.7938596491228068, 0.797027290448343, 0.7860623781676414, 0.7928849902534112, 0.7807017543859648, 0.790204678362573, 0.7897173489278753, 0.7887426900584794, 0.7897173489278753, 0.7902046783625731, 0.7877680311890839, 0.7958089668615984, 0.7926413255360623, 0.7923976608187134]\n",
      "Threshold (quantile 0.5): 0.7902046783625731\n",
      "Prediction vs threshold: 0.8445 vs 0.7902\n",
      "Decision: CONTINUE\n",
      "✅ CONTINUING: 0.8445 >= 0.7902\n",
      "Trial 65, Step 5: 85 trees, OOB: 0.7910\n",
      "\n",
      "=== DEBUGGING TRIAL 65 ===\n",
      "Intermediate values: {0: nan, 1: 0.7491638795986622, 2: 0.7692307692307693, 3: 0.7775919732441472, 4: 0.7909698996655519, 5: 0.7909698996655519}\n",
      "Current step: 5, Current value: 0.7909698996655519\n",
      "Steps for prediction: [0 1 2 3 4 5]\n",
      "Values for prediction: [       nan 0.74916388 0.76923077 0.77759197 0.7909699  0.7909699 ]\n",
      "[Debug Trial 65]: Curve fitting failed: array must not contain infs or NaNs, using linear extrapolation\n",
      "Predicted final performance: 0.7909698996655519\n",
      "Completed trial values: [0.7905701754385964, 0.7938596491228068, 0.797027290448343, 0.7860623781676414, 0.7928849902534112, 0.7807017543859648, 0.790204678362573, 0.7897173489278753, 0.7887426900584794, 0.7897173489278753, 0.7902046783625731, 0.7877680311890839, 0.7958089668615984, 0.7926413255360623, 0.7923976608187134]\n",
      "Threshold (quantile 0.5): 0.7902046783625731\n",
      "Prediction vs threshold: 0.7910 vs 0.7902\n",
      "Decision: CONTINUE\n",
      "✅ CONTINUING: 0.7910 >= 0.7902\n",
      "Trial 65 completed with AUC: 0.7929\n",
      "Trial 66, Step 0: 1 trees, OOB: nan\n",
      "\n",
      "=== DEBUGGING TRIAL 66 ===\n",
      "Intermediate values: {0: nan}\n",
      "Current step: 0, Current value: nan\n",
      "[Debug Trial 66]: Not enough steps (1 < 3)\n",
      "Trial 66, Step 1: 4 trees, OOB: 0.7492\n",
      "\n",
      "=== DEBUGGING TRIAL 66 ===\n",
      "Intermediate values: {0: nan, 1: 0.7491638795986622}\n",
      "Current step: 1, Current value: 0.7491638795986622\n",
      "[Debug Trial 66]: Not enough steps (2 < 3)\n",
      "Trial 66, Step 2: 8 trees, OOB: 0.7692\n",
      "\n",
      "=== DEBUGGING TRIAL 66 ===\n",
      "Intermediate values: {0: nan, 1: 0.7491638795986622, 2: 0.7692307692307693}\n",
      "Current step: 2, Current value: 0.7692307692307693\n",
      "Steps for prediction: [0 1 2]\n",
      "Values for prediction: [       nan 0.74916388 0.76923077]\n",
      "[Debug Trial 66]: Curve fitting failed: array must not contain infs or NaNs, using linear extrapolation\n",
      "Predicted final performance: 0.8093645484949835\n",
      "Completed trial values: [0.7905701754385964, 0.7938596491228068, 0.797027290448343, 0.7860623781676414, 0.7928849902534112, 0.7807017543859648, 0.790204678362573, 0.7897173489278753, 0.7887426900584794, 0.7897173489278753, 0.7902046783625731, 0.7877680311890839, 0.7958089668615984, 0.7926413255360623, 0.7923976608187134, 0.7928849902534112]\n",
      "Threshold (quantile 0.5): 0.7903874269005848\n",
      "Prediction vs threshold: 0.8094 vs 0.7904\n",
      "Decision: CONTINUE\n",
      "✅ CONTINUING: 0.8094 >= 0.7904\n",
      "Trial 66, Step 3: 16 trees, OOB: 0.7776\n",
      "\n",
      "=== DEBUGGING TRIAL 66 ===\n",
      "Intermediate values: {0: nan, 1: 0.7491638795986622, 2: 0.7692307692307693, 3: 0.7775919732441472}\n",
      "Current step: 3, Current value: 0.7775919732441472\n",
      "Steps for prediction: [0 1 2 3]\n",
      "Values for prediction: [       nan 0.74916388 0.76923077 0.77759197]\n",
      "[Debug Trial 66]: Curve fitting failed: array must not contain infs or NaNs, using linear extrapolation\n",
      "Predicted final performance: 0.802675585284281\n",
      "Completed trial values: [0.7905701754385964, 0.7938596491228068, 0.797027290448343, 0.7860623781676414, 0.7928849902534112, 0.7807017543859648, 0.790204678362573, 0.7897173489278753, 0.7887426900584794, 0.7897173489278753, 0.7902046783625731, 0.7877680311890839, 0.7958089668615984, 0.7926413255360623, 0.7923976608187134, 0.7928849902534112]\n",
      "Threshold (quantile 0.5): 0.7903874269005848\n",
      "Prediction vs threshold: 0.8027 vs 0.7904\n",
      "Decision: CONTINUE\n",
      "✅ CONTINUING: 0.8027 >= 0.7904\n",
      "Trial 66, Step 4: 41 trees, OOB: 0.7926\n",
      "\n",
      "=== DEBUGGING TRIAL 66 ===\n",
      "Intermediate values: {0: nan, 1: 0.7491638795986622, 2: 0.7692307692307693, 3: 0.7775919732441472, 4: 0.7926421404682275}\n",
      "Current step: 4, Current value: 0.7926421404682275\n",
      "Steps for prediction: [0 1 2 3 4]\n",
      "Values for prediction: [       nan 0.74916388 0.76923077 0.77759197 0.79264214]\n",
      "[Debug Trial 66]: Curve fitting failed: array must not contain infs or NaNs, using linear extrapolation\n",
      "Predicted final performance: 0.8528428093645485\n",
      "Completed trial values: [0.7905701754385964, 0.7938596491228068, 0.797027290448343, 0.7860623781676414, 0.7928849902534112, 0.7807017543859648, 0.790204678362573, 0.7897173489278753, 0.7887426900584794, 0.7897173489278753, 0.7902046783625731, 0.7877680311890839, 0.7958089668615984, 0.7926413255360623, 0.7923976608187134, 0.7928849902534112]\n",
      "Threshold (quantile 0.5): 0.7903874269005848\n",
      "Prediction vs threshold: 0.8528 vs 0.7904\n",
      "Decision: CONTINUE\n",
      "✅ CONTINUING: 0.8528 >= 0.7904\n",
      "Trial 66, Step 5: 82 trees, OOB: 0.7910\n",
      "\n",
      "=== DEBUGGING TRIAL 66 ===\n",
      "Intermediate values: {0: nan, 1: 0.7491638795986622, 2: 0.7692307692307693, 3: 0.7775919732441472, 4: 0.7926421404682275, 5: 0.7909698996655519}\n",
      "Current step: 5, Current value: 0.7909698996655519\n",
      "Steps for prediction: [0 1 2 3 4 5]\n",
      "Values for prediction: [       nan 0.74916388 0.76923077 0.77759197 0.79264214 0.7909699 ]\n",
      "[Debug Trial 66]: Curve fitting failed: array must not contain infs or NaNs, using linear extrapolation\n",
      "Predicted final performance: 0.782608695652174\n",
      "Completed trial values: [0.7905701754385964, 0.7938596491228068, 0.797027290448343, 0.7860623781676414, 0.7928849902534112, 0.7807017543859648, 0.790204678362573, 0.7897173489278753, 0.7887426900584794, 0.7897173489278753, 0.7902046783625731, 0.7877680311890839, 0.7958089668615984, 0.7926413255360623, 0.7923976608187134, 0.7928849902534112]\n",
      "Threshold (quantile 0.5): 0.7903874269005848\n",
      "Prediction vs threshold: 0.7826 vs 0.7904\n",
      "Decision: PRUNE\n",
      "🔥 PRUNING: 0.7826 < 0.7904\n",
      "Trial 66 pruned at step 5 (82 estimators, OOB: 0.7910)\n",
      "Trial 67, Step 0: 2 trees, OOB: 0.7408\n",
      "\n",
      "=== DEBUGGING TRIAL 67 ===\n",
      "Intermediate values: {0: 0.7408026755852842}\n",
      "Current step: 0, Current value: 0.7408026755852842\n",
      "[Debug Trial 67]: Not enough steps (1 < 3)\n",
      "Trial 67, Step 1: 5 trees, OOB: 0.7525\n",
      "\n",
      "=== DEBUGGING TRIAL 67 ===\n",
      "Intermediate values: {0: 0.7408026755852842, 1: 0.7525083612040134}\n",
      "Current step: 1, Current value: 0.7525083612040134\n",
      "[Debug Trial 67]: Not enough steps (2 < 3)\n",
      "Trial 67, Step 2: 10 trees, OOB: 0.7709\n",
      "\n",
      "=== DEBUGGING TRIAL 67 ===\n",
      "Intermediate values: {0: 0.7408026755852842, 1: 0.7525083612040134, 2: 0.7709030100334449}\n",
      "Current step: 2, Current value: 0.7709030100334449\n",
      "Steps for prediction: [0 1 2]\n",
      "Values for prediction: [0.74080268 0.75250836 0.77090301]\n",
      "[Debug Trial 67]: Curve fitting failed: Optimal parameters not found: Number of calls to function has reached maxfev = 1000., using linear extrapolation\n",
      "Predicted final performance: 0.8076923076923077\n",
      "Completed trial values: [0.7905701754385964, 0.7938596491228068, 0.797027290448343, 0.7860623781676414, 0.7928849902534112, 0.7807017543859648, 0.790204678362573, 0.7897173489278753, 0.7887426900584794, 0.7897173489278753, 0.7902046783625731, 0.7877680311890839, 0.7958089668615984, 0.7926413255360623, 0.7923976608187134, 0.7928849902534112]\n",
      "Threshold (quantile 0.5): 0.7903874269005848\n",
      "Prediction vs threshold: 0.8077 vs 0.7904\n",
      "Decision: CONTINUE\n",
      "✅ CONTINUING: 0.8077 >= 0.7904\n",
      "Trial 67, Step 3: 21 trees, OOB: 0.7809\n",
      "\n",
      "=== DEBUGGING TRIAL 67 ===\n",
      "Intermediate values: {0: 0.7408026755852842, 1: 0.7525083612040134, 2: 0.7709030100334449, 3: 0.7809364548494984}\n",
      "Current step: 3, Current value: 0.7809364548494984\n",
      "Steps for prediction: [0 1 2 3]\n",
      "Values for prediction: [0.74080268 0.75250836 0.77090301 0.78093645]\n",
      "[Debug Trial 67]: Curve fit params: a=1.0169, b=0.2768, c=0.0544\n",
      "[Debug Trial 67]: Extrapolated to step 9: 0.8472\n",
      "Predicted final performance: 0.8471669229783091\n",
      "Completed trial values: [0.7905701754385964, 0.7938596491228068, 0.797027290448343, 0.7860623781676414, 0.7928849902534112, 0.7807017543859648, 0.790204678362573, 0.7897173489278753, 0.7887426900584794, 0.7897173489278753, 0.7902046783625731, 0.7877680311890839, 0.7958089668615984, 0.7926413255360623, 0.7923976608187134, 0.7928849902534112]\n",
      "Threshold (quantile 0.5): 0.7903874269005848\n",
      "Prediction vs threshold: 0.8472 vs 0.7904\n",
      "Decision: CONTINUE\n",
      "✅ CONTINUING: 0.8472 >= 0.7904\n",
      "Trial 67, Step 4: 52 trees, OOB: 0.7876\n",
      "\n",
      "=== DEBUGGING TRIAL 67 ===\n",
      "Intermediate values: {0: 0.7408026755852842, 1: 0.7525083612040134, 2: 0.7709030100334449, 3: 0.7809364548494984, 4: 0.7876254180602007}\n",
      "Current step: 4, Current value: 0.7876254180602007\n",
      "Steps for prediction: [0 1 2 3 4]\n",
      "Values for prediction: [0.74080268 0.75250836 0.77090301 0.78093645 0.78762542]\n",
      "[Debug Trial 67]: Curve fit params: a=0.8300, b=0.0903, c=0.1958\n",
      "[Debug Trial 67]: Extrapolated to step 12: 0.8214\n",
      "Predicted final performance: 0.8213646462744487\n",
      "Completed trial values: [0.7905701754385964, 0.7938596491228068, 0.797027290448343, 0.7860623781676414, 0.7928849902534112, 0.7807017543859648, 0.790204678362573, 0.7897173489278753, 0.7887426900584794, 0.7897173489278753, 0.7902046783625731, 0.7877680311890839, 0.7958089668615984, 0.7926413255360623, 0.7923976608187134, 0.7928849902534112]\n",
      "Threshold (quantile 0.5): 0.7903874269005848\n",
      "Prediction vs threshold: 0.8214 vs 0.7904\n",
      "Decision: CONTINUE\n",
      "✅ CONTINUING: 0.8214 >= 0.7904\n",
      "Trial 67, Step 5: 105 trees, OOB: 0.7910\n",
      "\n",
      "=== DEBUGGING TRIAL 67 ===\n",
      "Intermediate values: {0: 0.7408026755852842, 1: 0.7525083612040134, 2: 0.7709030100334449, 3: 0.7809364548494984, 4: 0.7876254180602007, 5: 0.7909698996655519}\n",
      "Current step: 5, Current value: 0.7909698996655519\n",
      "Steps for prediction: [0 1 2 3 4 5]\n",
      "Values for prediction: [0.74080268 0.75250836 0.77090301 0.78093645 0.78762542 0.7909699 ]\n",
      "[Debug Trial 67]: Curve fit params: a=0.8102, b=0.0710, c=0.2771\n",
      "[Debug Trial 67]: Extrapolated to step 15: 0.8091\n",
      "Predicted final performance: 0.8091155675689261\n",
      "Completed trial values: [0.7905701754385964, 0.7938596491228068, 0.797027290448343, 0.7860623781676414, 0.7928849902534112, 0.7807017543859648, 0.790204678362573, 0.7897173489278753, 0.7887426900584794, 0.7897173489278753, 0.7902046783625731, 0.7877680311890839, 0.7958089668615984, 0.7926413255360623, 0.7923976608187134, 0.7928849902534112]\n",
      "Threshold (quantile 0.5): 0.7903874269005848\n",
      "Prediction vs threshold: 0.8091 vs 0.7904\n",
      "Decision: CONTINUE\n",
      "✅ CONTINUING: 0.8091 >= 0.7904\n",
      "Trial 67 completed with AUC: 0.7941\n",
      "Trial 68, Step 0: 2 trees, OOB: 0.7408\n",
      "\n",
      "=== DEBUGGING TRIAL 68 ===\n",
      "Intermediate values: {0: 0.7408026755852842}\n",
      "Current step: 0, Current value: 0.7408026755852842\n",
      "[Debug Trial 68]: Not enough steps (1 < 3)\n",
      "Trial 68, Step 1: 5 trees, OOB: 0.7492\n",
      "\n",
      "=== DEBUGGING TRIAL 68 ===\n",
      "Intermediate values: {0: 0.7408026755852842, 1: 0.7491638795986622}\n",
      "Current step: 1, Current value: 0.7491638795986622\n",
      "[Debug Trial 68]: Not enough steps (2 < 3)\n",
      "Trial 68, Step 2: 10 trees, OOB: 0.7709\n",
      "\n",
      "=== DEBUGGING TRIAL 68 ===\n",
      "Intermediate values: {0: 0.7408026755852842, 1: 0.7491638795986622, 2: 0.7709030100334449}\n",
      "Current step: 2, Current value: 0.7709030100334449\n",
      "Steps for prediction: [0 1 2]\n",
      "Values for prediction: [0.74080268 0.74916388 0.77090301]\n"
     ]
    },
    {
     "name": "stderr",
     "output_type": "stream",
     "text": [
      "C:\\Users\\Obidur Rahman\\AppData\\Local\\Temp\\ipykernel_3964\\3441492807.py:144: OptimizeWarning: Covariance of the parameters could not be estimated\n",
      "  popt, _ = curve_fit(saturating_func, steps, values, p0=p0, maxfev=1000)\n"
     ]
    },
    {
     "name": "stdout",
     "output_type": "stream",
     "text": [
      "[Debug Trial 68]: Curve fit params: a=129.8614, b=129.1228, c=0.0001\n",
      "[Debug Trial 68]: Extrapolated to step 6: 0.8289\n",
      "Predicted final performance: 0.828851073332288\n",
      "Completed trial values: [0.7905701754385964, 0.7938596491228068, 0.797027290448343, 0.7860623781676414, 0.7928849902534112, 0.7807017543859648, 0.790204678362573, 0.7897173489278753, 0.7887426900584794, 0.7897173489278753, 0.7902046783625731, 0.7877680311890839, 0.7958089668615984, 0.7926413255360623, 0.7923976608187134, 0.7928849902534112, 0.7941033138401559]\n",
      "Threshold (quantile 0.5): 0.7905701754385964\n",
      "Prediction vs threshold: 0.8289 vs 0.7906\n",
      "Decision: CONTINUE\n",
      "✅ CONTINUING: 0.8289 >= 0.7906\n",
      "Trial 68, Step 3: 21 trees, OOB: 0.7826\n",
      "\n",
      "=== DEBUGGING TRIAL 68 ===\n",
      "Intermediate values: {0: 0.7408026755852842, 1: 0.7491638795986622, 2: 0.7709030100334449, 3: 0.782608695652174}\n",
      "Current step: 3, Current value: 0.782608695652174\n",
      "Steps for prediction: [0 1 2 3]\n",
      "Values for prediction: [0.74080268 0.74916388 0.77090301 0.7826087 ]\n",
      "[Debug Trial 68]: Curve fitting failed: Optimal parameters not found: Number of calls to function has reached maxfev = 1000., using linear extrapolation\n",
      "Predicted final performance: 0.8177257525083612\n",
      "Completed trial values: [0.7905701754385964, 0.7938596491228068, 0.797027290448343, 0.7860623781676414, 0.7928849902534112, 0.7807017543859648, 0.790204678362573, 0.7897173489278753, 0.7887426900584794, 0.7897173489278753, 0.7902046783625731, 0.7877680311890839, 0.7958089668615984, 0.7926413255360623, 0.7923976608187134, 0.7928849902534112, 0.7941033138401559]\n",
      "Threshold (quantile 0.5): 0.7905701754385964\n",
      "Prediction vs threshold: 0.8177 vs 0.7906\n",
      "Decision: CONTINUE\n",
      "✅ CONTINUING: 0.8177 >= 0.7906\n",
      "Trial 68, Step 4: 54 trees, OOB: 0.7876\n",
      "\n",
      "=== DEBUGGING TRIAL 68 ===\n",
      "Intermediate values: {0: 0.7408026755852842, 1: 0.7491638795986622, 2: 0.7709030100334449, 3: 0.782608695652174, 4: 0.7876254180602007}\n",
      "Current step: 4, Current value: 0.7876254180602007\n",
      "Steps for prediction: [0 1 2 3 4]\n",
      "Values for prediction: [0.74080268 0.74916388 0.77090301 0.7826087  0.78762542]\n",
      "[Debug Trial 68]: Curve fit params: a=0.8473, b=0.1086, c=0.1585\n",
      "[Debug Trial 68]: Extrapolated to step 12: 0.8311\n",
      "Predicted final performance: 0.8311274710284353\n",
      "Completed trial values: [0.7905701754385964, 0.7938596491228068, 0.797027290448343, 0.7860623781676414, 0.7928849902534112, 0.7807017543859648, 0.790204678362573, 0.7897173489278753, 0.7887426900584794, 0.7897173489278753, 0.7902046783625731, 0.7877680311890839, 0.7958089668615984, 0.7926413255360623, 0.7923976608187134, 0.7928849902534112, 0.7941033138401559]\n",
      "Threshold (quantile 0.5): 0.7905701754385964\n",
      "Prediction vs threshold: 0.8311 vs 0.7906\n",
      "Decision: CONTINUE\n",
      "✅ CONTINUING: 0.8311 >= 0.7906\n",
      "Trial 68, Step 5: 108 trees, OOB: 0.7910\n",
      "\n",
      "=== DEBUGGING TRIAL 68 ===\n",
      "Intermediate values: {0: 0.7408026755852842, 1: 0.7491638795986622, 2: 0.7709030100334449, 3: 0.782608695652174, 4: 0.7876254180602007, 5: 0.7909698996655519}\n",
      "Current step: 5, Current value: 0.7909698996655519\n",
      "Steps for prediction: [0 1 2 3 4 5]\n",
      "Values for prediction: [0.74080268 0.74916388 0.77090301 0.7826087  0.78762542 0.7909699 ]\n",
      "[Debug Trial 68]: Curve fit params: a=0.8132, b=0.0750, c=0.2632\n",
      "[Debug Trial 68]: Extrapolated to step 15: 0.8118\n",
      "Predicted final performance: 0.8117846804398708\n",
      "Completed trial values: [0.7905701754385964, 0.7938596491228068, 0.797027290448343, 0.7860623781676414, 0.7928849902534112, 0.7807017543859648, 0.790204678362573, 0.7897173489278753, 0.7887426900584794, 0.7897173489278753, 0.7902046783625731, 0.7877680311890839, 0.7958089668615984, 0.7926413255360623, 0.7923976608187134, 0.7928849902534112, 0.7941033138401559]\n",
      "Threshold (quantile 0.5): 0.7905701754385964\n",
      "Prediction vs threshold: 0.8118 vs 0.7906\n",
      "Decision: CONTINUE\n",
      "✅ CONTINUING: 0.8118 >= 0.7906\n",
      "Trial 68 completed with AUC: 0.7922\n",
      "Trial 69, Step 0: 1 trees, OOB: nan\n",
      "\n",
      "=== DEBUGGING TRIAL 69 ===\n",
      "Intermediate values: {0: nan}\n",
      "Current step: 0, Current value: nan\n",
      "[Debug Trial 69]: Not enough steps (1 < 3)\n",
      "Trial 69, Step 1: 4 trees, OOB: 0.7492\n",
      "\n",
      "=== DEBUGGING TRIAL 69 ===\n",
      "Intermediate values: {0: nan, 1: 0.7491638795986622}\n",
      "Current step: 1, Current value: 0.7491638795986622\n",
      "[Debug Trial 69]: Not enough steps (2 < 3)\n",
      "Trial 69, Step 2: 8 trees, OOB: 0.7692\n",
      "\n",
      "=== DEBUGGING TRIAL 69 ===\n",
      "Intermediate values: {0: nan, 1: 0.7491638795986622, 2: 0.7692307692307693}\n",
      "Current step: 2, Current value: 0.7692307692307693\n",
      "Steps for prediction: [0 1 2]\n",
      "Values for prediction: [       nan 0.74916388 0.76923077]\n",
      "[Debug Trial 69]: Curve fitting failed: array must not contain infs or NaNs, using linear extrapolation\n",
      "Predicted final performance: 0.8093645484949835\n",
      "Completed trial values: [0.7905701754385964, 0.7938596491228068, 0.797027290448343, 0.7860623781676414, 0.7928849902534112, 0.7807017543859648, 0.790204678362573, 0.7897173489278753, 0.7887426900584794, 0.7897173489278753, 0.7902046783625731, 0.7877680311890839, 0.7958089668615984, 0.7926413255360623, 0.7923976608187134, 0.7928849902534112, 0.7941033138401559, 0.7921539961013644]\n",
      "Threshold (quantile 0.5): 0.7913620857699804\n",
      "Prediction vs threshold: 0.8094 vs 0.7914\n",
      "Decision: CONTINUE\n",
      "✅ CONTINUING: 0.8094 >= 0.7914\n",
      "Trial 69, Step 3: 17 trees, OOB: 0.7776\n",
      "\n",
      "=== DEBUGGING TRIAL 69 ===\n",
      "Intermediate values: {0: nan, 1: 0.7491638795986622, 2: 0.7692307692307693, 3: 0.7775919732441472}\n",
      "Current step: 3, Current value: 0.7775919732441472\n",
      "Steps for prediction: [0 1 2 3]\n",
      "Values for prediction: [       nan 0.74916388 0.76923077 0.77759197]\n",
      "[Debug Trial 69]: Curve fitting failed: array must not contain infs or NaNs, using linear extrapolation\n",
      "Predicted final performance: 0.802675585284281\n",
      "Completed trial values: [0.7905701754385964, 0.7938596491228068, 0.797027290448343, 0.7860623781676414, 0.7928849902534112, 0.7807017543859648, 0.790204678362573, 0.7897173489278753, 0.7887426900584794, 0.7897173489278753, 0.7902046783625731, 0.7877680311890839, 0.7958089668615984, 0.7926413255360623, 0.7923976608187134, 0.7928849902534112, 0.7941033138401559, 0.7921539961013644]\n",
      "Threshold (quantile 0.5): 0.7913620857699804\n",
      "Prediction vs threshold: 0.8027 vs 0.7914\n",
      "Decision: CONTINUE\n",
      "✅ CONTINUING: 0.8027 >= 0.7914\n",
      "Trial 69, Step 4: 43 trees, OOB: 0.7893\n",
      "\n",
      "=== DEBUGGING TRIAL 69 ===\n",
      "Intermediate values: {0: nan, 1: 0.7491638795986622, 2: 0.7692307692307693, 3: 0.7775919732441472, 4: 0.7892976588628763}\n",
      "Current step: 4, Current value: 0.7892976588628763\n",
      "Steps for prediction: [0 1 2 3 4]\n",
      "Values for prediction: [       nan 0.74916388 0.76923077 0.77759197 0.78929766]\n",
      "[Debug Trial 69]: Curve fitting failed: array must not contain infs or NaNs, using linear extrapolation\n",
      "Predicted final performance: 0.8361204013377926\n",
      "Completed trial values: [0.7905701754385964, 0.7938596491228068, 0.797027290448343, 0.7860623781676414, 0.7928849902534112, 0.7807017543859648, 0.790204678362573, 0.7897173489278753, 0.7887426900584794, 0.7897173489278753, 0.7902046783625731, 0.7877680311890839, 0.7958089668615984, 0.7926413255360623, 0.7923976608187134, 0.7928849902534112, 0.7941033138401559, 0.7921539961013644]\n",
      "Threshold (quantile 0.5): 0.7913620857699804\n",
      "Prediction vs threshold: 0.8361 vs 0.7914\n",
      "Decision: CONTINUE\n",
      "✅ CONTINUING: 0.8361 >= 0.7914\n",
      "Trial 69, Step 5: 87 trees, OOB: 0.7910\n",
      "\n",
      "=== DEBUGGING TRIAL 69 ===\n",
      "Intermediate values: {0: nan, 1: 0.7491638795986622, 2: 0.7692307692307693, 3: 0.7775919732441472, 4: 0.7892976588628763, 5: 0.7909698996655519}\n",
      "Current step: 5, Current value: 0.7909698996655519\n",
      "Steps for prediction: [0 1 2 3 4 5]\n",
      "Values for prediction: [       nan 0.74916388 0.76923077 0.77759197 0.78929766 0.7909699 ]\n",
      "[Debug Trial 69]: Curve fitting failed: array must not contain infs or NaNs, using linear extrapolation\n",
      "Predicted final performance: 0.7993311036789298\n",
      "Completed trial values: [0.7905701754385964, 0.7938596491228068, 0.797027290448343, 0.7860623781676414, 0.7928849902534112, 0.7807017543859648, 0.790204678362573, 0.7897173489278753, 0.7887426900584794, 0.7897173489278753, 0.7902046783625731, 0.7877680311890839, 0.7958089668615984, 0.7926413255360623, 0.7923976608187134, 0.7928849902534112, 0.7941033138401559, 0.7921539961013644]\n",
      "Threshold (quantile 0.5): 0.7913620857699804\n",
      "Prediction vs threshold: 0.7993 vs 0.7914\n",
      "Decision: CONTINUE\n",
      "✅ CONTINUING: 0.7993 >= 0.7914\n",
      "Trial 69 completed with AUC: 0.7924\n",
      "Trial 70, Step 0: 1 trees, OOB: nan\n",
      "\n",
      "=== DEBUGGING TRIAL 70 ===\n",
      "Intermediate values: {0: nan}\n",
      "Current step: 0, Current value: nan\n",
      "[Debug Trial 70]: Not enough steps (1 < 3)\n",
      "Trial 70, Step 1: 4 trees, OOB: 0.7475\n",
      "\n",
      "=== DEBUGGING TRIAL 70 ===\n",
      "Intermediate values: {0: nan, 1: 0.7474916387959866}\n",
      "Current step: 1, Current value: 0.7474916387959866\n",
      "[Debug Trial 70]: Not enough steps (2 < 3)\n",
      "Trial 70, Step 2: 9 trees, OOB: 0.7726\n",
      "\n",
      "=== DEBUGGING TRIAL 70 ===\n",
      "Intermediate values: {0: nan, 1: 0.7474916387959866, 2: 0.7725752508361204}\n",
      "Current step: 2, Current value: 0.7725752508361204\n",
      "Steps for prediction: [0 1 2]\n",
      "Values for prediction: [       nan 0.74749164 0.77257525]\n",
      "[Debug Trial 70]: Curve fitting failed: array must not contain infs or NaNs, using linear extrapolation\n",
      "Predicted final performance: 0.8227424749163882\n",
      "Completed trial values: [0.7905701754385964, 0.7938596491228068, 0.797027290448343, 0.7860623781676414, 0.7928849902534112, 0.7807017543859648, 0.790204678362573, 0.7897173489278753, 0.7887426900584794, 0.7897173489278753, 0.7902046783625731, 0.7877680311890839, 0.7958089668615984, 0.7926413255360623, 0.7923976608187134, 0.7928849902534112, 0.7941033138401559, 0.7921539961013644, 0.7923976608187134]\n",
      "Threshold (quantile 0.5): 0.7921539961013644\n",
      "Prediction vs threshold: 0.8227 vs 0.7922\n",
      "Decision: CONTINUE\n",
      "✅ CONTINUING: 0.8227 >= 0.7922\n",
      "Trial 70, Step 3: 19 trees, OOB: 0.7809\n",
      "\n",
      "=== DEBUGGING TRIAL 70 ===\n",
      "Intermediate values: {0: nan, 1: 0.7474916387959866, 2: 0.7725752508361204, 3: 0.7809364548494984}\n",
      "Current step: 3, Current value: 0.7809364548494984\n",
      "Steps for prediction: [0 1 2 3]\n",
      "Values for prediction: [       nan 0.74749164 0.77257525 0.78093645]\n",
      "[Debug Trial 70]: Curve fitting failed: array must not contain infs or NaNs, using linear extrapolation\n",
      "Predicted final performance: 0.8060200668896321\n",
      "Completed trial values: [0.7905701754385964, 0.7938596491228068, 0.797027290448343, 0.7860623781676414, 0.7928849902534112, 0.7807017543859648, 0.790204678362573, 0.7897173489278753, 0.7887426900584794, 0.7897173489278753, 0.7902046783625731, 0.7877680311890839, 0.7958089668615984, 0.7926413255360623, 0.7923976608187134, 0.7928849902534112, 0.7941033138401559, 0.7921539961013644, 0.7923976608187134]\n",
      "Threshold (quantile 0.5): 0.7921539961013644\n",
      "Prediction vs threshold: 0.8060 vs 0.7922\n",
      "Decision: CONTINUE\n",
      "✅ CONTINUING: 0.8060 >= 0.7922\n",
      "Trial 70, Step 4: 47 trees, OOB: 0.7876\n",
      "\n",
      "=== DEBUGGING TRIAL 70 ===\n",
      "Intermediate values: {0: nan, 1: 0.7474916387959866, 2: 0.7725752508361204, 3: 0.7809364548494984, 4: 0.7876254180602007}\n",
      "Current step: 4, Current value: 0.7876254180602007\n",
      "Steps for prediction: [0 1 2 3 4]\n",
      "Values for prediction: [       nan 0.74749164 0.77257525 0.78093645 0.78762542]\n",
      "[Debug Trial 70]: Curve fitting failed: array must not contain infs or NaNs, using linear extrapolation\n",
      "Predicted final performance: 0.81438127090301\n",
      "Completed trial values: [0.7905701754385964, 0.7938596491228068, 0.797027290448343, 0.7860623781676414, 0.7928849902534112, 0.7807017543859648, 0.790204678362573, 0.7897173489278753, 0.7887426900584794, 0.7897173489278753, 0.7902046783625731, 0.7877680311890839, 0.7958089668615984, 0.7926413255360623, 0.7923976608187134, 0.7928849902534112, 0.7941033138401559, 0.7921539961013644, 0.7923976608187134]\n",
      "Threshold (quantile 0.5): 0.7921539961013644\n",
      "Prediction vs threshold: 0.8144 vs 0.7922\n",
      "Decision: CONTINUE\n",
      "✅ CONTINUING: 0.8144 >= 0.7922\n",
      "Trial 70, Step 5: 95 trees, OOB: 0.7876\n",
      "\n",
      "=== DEBUGGING TRIAL 70 ===\n",
      "Intermediate values: {0: nan, 1: 0.7474916387959866, 2: 0.7725752508361204, 3: 0.7809364548494984, 4: 0.7876254180602007, 5: 0.7876254180602007}\n",
      "Current step: 5, Current value: 0.7876254180602007\n",
      "Steps for prediction: [0 1 2 3 4 5]\n",
      "Values for prediction: [       nan 0.74749164 0.77257525 0.78093645 0.78762542 0.78762542]\n",
      "[Debug Trial 70]: Curve fitting failed: array must not contain infs or NaNs, using linear extrapolation\n",
      "Predicted final performance: 0.7876254180602007\n",
      "Completed trial values: [0.7905701754385964, 0.7938596491228068, 0.797027290448343, 0.7860623781676414, 0.7928849902534112, 0.7807017543859648, 0.790204678362573, 0.7897173489278753, 0.7887426900584794, 0.7897173489278753, 0.7902046783625731, 0.7877680311890839, 0.7958089668615984, 0.7926413255360623, 0.7923976608187134, 0.7928849902534112, 0.7941033138401559, 0.7921539961013644, 0.7923976608187134]\n",
      "Threshold (quantile 0.5): 0.7921539961013644\n",
      "Prediction vs threshold: 0.7876 vs 0.7922\n",
      "Decision: PRUNE\n",
      "🔥 PRUNING: 0.7876 < 0.7922\n",
      "Trial 70 pruned at step 5 (95 estimators, OOB: 0.7876)\n",
      "Trial 71, Step 0: 1 trees, OOB: nan\n",
      "\n",
      "=== DEBUGGING TRIAL 71 ===\n",
      "Intermediate values: {0: nan}\n",
      "Current step: 0, Current value: nan\n",
      "[Debug Trial 71]: Not enough steps (1 < 3)\n",
      "Trial 71, Step 1: 3 trees, OOB: 0.7391\n",
      "\n",
      "=== DEBUGGING TRIAL 71 ===\n",
      "Intermediate values: {0: nan, 1: 0.7391304347826086}\n",
      "Current step: 1, Current value: 0.7391304347826086\n",
      "[Debug Trial 71]: Not enough steps (2 < 3)\n",
      "Trial 71, Step 2: 6 trees, OOB: 0.7575\n",
      "\n",
      "=== DEBUGGING TRIAL 71 ===\n",
      "Intermediate values: {0: nan, 1: 0.7391304347826086, 2: 0.7575250836120402}\n",
      "Current step: 2, Current value: 0.7575250836120402\n",
      "Steps for prediction: [0 1 2]\n",
      "Values for prediction: [       nan 0.73913043 0.75752508]\n",
      "[Debug Trial 71]: Curve fitting failed: array must not contain infs or NaNs, using linear extrapolation\n",
      "Predicted final performance: 0.7943143812709033\n",
      "Completed trial values: [0.7905701754385964, 0.7938596491228068, 0.797027290448343, 0.7860623781676414, 0.7928849902534112, 0.7807017543859648, 0.790204678362573, 0.7897173489278753, 0.7887426900584794, 0.7897173489278753, 0.7902046783625731, 0.7877680311890839, 0.7958089668615984, 0.7926413255360623, 0.7923976608187134, 0.7928849902534112, 0.7941033138401559, 0.7921539961013644, 0.7923976608187134]\n",
      "Threshold (quantile 0.5): 0.7921539961013644\n",
      "Prediction vs threshold: 0.7943 vs 0.7922\n",
      "Decision: CONTINUE\n",
      "✅ CONTINUING: 0.7943 >= 0.7922\n",
      "Trial 71, Step 3: 13 trees, OOB: 0.7843\n",
      "\n",
      "=== DEBUGGING TRIAL 71 ===\n",
      "Intermediate values: {0: nan, 1: 0.7391304347826086, 2: 0.7575250836120402, 3: 0.7842809364548495}\n",
      "Current step: 3, Current value: 0.7842809364548495\n",
      "Steps for prediction: [0 1 2 3]\n",
      "Values for prediction: [       nan 0.73913043 0.75752508 0.78428094]\n",
      "[Debug Trial 71]: Curve fitting failed: array must not contain infs or NaNs, using linear extrapolation\n",
      "Predicted final performance: 0.8645484949832776\n",
      "Completed trial values: [0.7905701754385964, 0.7938596491228068, 0.797027290448343, 0.7860623781676414, 0.7928849902534112, 0.7807017543859648, 0.790204678362573, 0.7897173489278753, 0.7887426900584794, 0.7897173489278753, 0.7902046783625731, 0.7877680311890839, 0.7958089668615984, 0.7926413255360623, 0.7923976608187134, 0.7928849902534112, 0.7941033138401559, 0.7921539961013644, 0.7923976608187134]\n",
      "Threshold (quantile 0.5): 0.7921539961013644\n",
      "Prediction vs threshold: 0.8645 vs 0.7922\n",
      "Decision: CONTINUE\n",
      "✅ CONTINUING: 0.8645 >= 0.7922\n",
      "Trial 71, Step 4: 32 trees, OOB: 0.7926\n",
      "\n",
      "=== DEBUGGING TRIAL 71 ===\n",
      "Intermediate values: {0: nan, 1: 0.7391304347826086, 2: 0.7575250836120402, 3: 0.7842809364548495, 4: 0.7926421404682275}\n",
      "Current step: 4, Current value: 0.7926421404682275\n",
      "Steps for prediction: [0 1 2 3 4]\n",
      "Values for prediction: [       nan 0.73913043 0.75752508 0.78428094 0.79264214]\n",
      "[Debug Trial 71]: Curve fitting failed: array must not contain infs or NaNs, using linear extrapolation\n",
      "Predicted final performance: 0.8260869565217391\n",
      "Completed trial values: [0.7905701754385964, 0.7938596491228068, 0.797027290448343, 0.7860623781676414, 0.7928849902534112, 0.7807017543859648, 0.790204678362573, 0.7897173489278753, 0.7887426900584794, 0.7897173489278753, 0.7902046783625731, 0.7877680311890839, 0.7958089668615984, 0.7926413255360623, 0.7923976608187134, 0.7928849902534112, 0.7941033138401559, 0.7921539961013644, 0.7923976608187134]\n",
      "Threshold (quantile 0.5): 0.7921539961013644\n",
      "Prediction vs threshold: 0.8261 vs 0.7922\n",
      "Decision: CONTINUE\n",
      "✅ CONTINUING: 0.8261 >= 0.7922\n",
      "Trial 71, Step 5: 65 trees, OOB: 0.7910\n",
      "\n",
      "=== DEBUGGING TRIAL 71 ===\n",
      "Intermediate values: {0: nan, 1: 0.7391304347826086, 2: 0.7575250836120402, 3: 0.7842809364548495, 4: 0.7926421404682275, 5: 0.7909698996655519}\n",
      "Current step: 5, Current value: 0.7909698996655519\n",
      "Steps for prediction: [0 1 2 3 4 5]\n",
      "Values for prediction: [       nan 0.73913043 0.75752508 0.78428094 0.79264214 0.7909699 ]\n",
      "[Debug Trial 71]: Curve fitting failed: array must not contain infs or NaNs, using linear extrapolation\n",
      "Predicted final performance: 0.782608695652174\n",
      "Completed trial values: [0.7905701754385964, 0.7938596491228068, 0.797027290448343, 0.7860623781676414, 0.7928849902534112, 0.7807017543859648, 0.790204678362573, 0.7897173489278753, 0.7887426900584794, 0.7897173489278753, 0.7902046783625731, 0.7877680311890839, 0.7958089668615984, 0.7926413255360623, 0.7923976608187134, 0.7928849902534112, 0.7941033138401559, 0.7921539961013644, 0.7923976608187134]\n",
      "Threshold (quantile 0.5): 0.7921539961013644\n",
      "Prediction vs threshold: 0.7826 vs 0.7922\n",
      "Decision: PRUNE\n",
      "🔥 PRUNING: 0.7826 < 0.7922\n",
      "Trial 71 pruned at step 5 (65 estimators, OOB: 0.7910)\n",
      "Trial 72, Step 0: 2 trees, OOB: 0.7408\n",
      "\n",
      "=== DEBUGGING TRIAL 72 ===\n",
      "Intermediate values: {0: 0.7408026755852842}\n",
      "Current step: 0, Current value: 0.7408026755852842\n",
      "[Debug Trial 72]: Not enough steps (1 < 3)\n",
      "Trial 72, Step 1: 5 trees, OOB: 0.7525\n",
      "\n",
      "=== DEBUGGING TRIAL 72 ===\n",
      "Intermediate values: {0: 0.7408026755852842, 1: 0.7525083612040134}\n",
      "Current step: 1, Current value: 0.7525083612040134\n",
      "[Debug Trial 72]: Not enough steps (2 < 3)\n",
      "Trial 72, Step 2: 10 trees, OOB: 0.7709\n",
      "\n",
      "=== DEBUGGING TRIAL 72 ===\n",
      "Intermediate values: {0: 0.7408026755852842, 1: 0.7525083612040134, 2: 0.7709030100334449}\n",
      "Current step: 2, Current value: 0.7709030100334449\n",
      "Steps for prediction: [0 1 2]\n",
      "Values for prediction: [0.74080268 0.75250836 0.77090301]\n",
      "[Debug Trial 72]: Curve fitting failed: Optimal parameters not found: Number of calls to function has reached maxfev = 1000., using linear extrapolation\n",
      "Predicted final performance: 0.8076923076923077\n",
      "Completed trial values: [0.7905701754385964, 0.7938596491228068, 0.797027290448343, 0.7860623781676414, 0.7928849902534112, 0.7807017543859648, 0.790204678362573, 0.7897173489278753, 0.7887426900584794, 0.7897173489278753, 0.7902046783625731, 0.7877680311890839, 0.7958089668615984, 0.7926413255360623, 0.7923976608187134, 0.7928849902534112, 0.7941033138401559, 0.7921539961013644, 0.7923976608187134]\n",
      "Threshold (quantile 0.5): 0.7921539961013644\n",
      "Prediction vs threshold: 0.8077 vs 0.7922\n",
      "Decision: CONTINUE\n",
      "✅ CONTINUING: 0.8077 >= 0.7922\n",
      "Trial 72, Step 3: 20 trees, OOB: 0.7809\n",
      "\n",
      "=== DEBUGGING TRIAL 72 ===\n",
      "Intermediate values: {0: 0.7408026755852842, 1: 0.7525083612040134, 2: 0.7709030100334449, 3: 0.7809364548494984}\n",
      "Current step: 3, Current value: 0.7809364548494984\n",
      "Steps for prediction: [0 1 2 3]\n",
      "Values for prediction: [0.74080268 0.75250836 0.77090301 0.78093645]\n",
      "[Debug Trial 72]: Curve fit params: a=1.0169, b=0.2768, c=0.0544\n",
      "[Debug Trial 72]: Extrapolated to step 9: 0.8472\n",
      "Predicted final performance: 0.8471669229783091\n",
      "Completed trial values: [0.7905701754385964, 0.7938596491228068, 0.797027290448343, 0.7860623781676414, 0.7928849902534112, 0.7807017543859648, 0.790204678362573, 0.7897173489278753, 0.7887426900584794, 0.7897173489278753, 0.7902046783625731, 0.7877680311890839, 0.7958089668615984, 0.7926413255360623, 0.7923976608187134, 0.7928849902534112, 0.7941033138401559, 0.7921539961013644, 0.7923976608187134]\n",
      "Threshold (quantile 0.5): 0.7921539961013644\n",
      "Prediction vs threshold: 0.8472 vs 0.7922\n",
      "Decision: CONTINUE\n",
      "✅ CONTINUING: 0.8472 >= 0.7922\n",
      "Trial 72, Step 4: 51 trees, OOB: 0.7893\n",
      "\n",
      "=== DEBUGGING TRIAL 72 ===\n",
      "Intermediate values: {0: 0.7408026755852842, 1: 0.7525083612040134, 2: 0.7709030100334449, 3: 0.7809364548494984, 4: 0.7892976588628763}\n",
      "Current step: 4, Current value: 0.7892976588628763\n",
      "Steps for prediction: [0 1 2 3 4]\n",
      "Values for prediction: [0.74080268 0.75250836 0.77090301 0.78093645 0.78929766]\n",
      "[Debug Trial 72]: Curve fit params: a=0.8468, b=0.1071, c=0.1586\n",
      "[Debug Trial 72]: Extrapolated to step 12: 0.8309\n",
      "Predicted final performance: 0.8308793304061654\n",
      "Completed trial values: [0.7905701754385964, 0.7938596491228068, 0.797027290448343, 0.7860623781676414, 0.7928849902534112, 0.7807017543859648, 0.790204678362573, 0.7897173489278753, 0.7887426900584794, 0.7897173489278753, 0.7902046783625731, 0.7877680311890839, 0.7958089668615984, 0.7926413255360623, 0.7923976608187134, 0.7928849902534112, 0.7941033138401559, 0.7921539961013644, 0.7923976608187134]\n",
      "Threshold (quantile 0.5): 0.7921539961013644\n",
      "Prediction vs threshold: 0.8309 vs 0.7922\n",
      "Decision: CONTINUE\n",
      "✅ CONTINUING: 0.8309 >= 0.7922\n",
      "Trial 72, Step 5: 102 trees, OOB: 0.7893\n",
      "\n",
      "=== DEBUGGING TRIAL 72 ===\n",
      "Intermediate values: {0: 0.7408026755852842, 1: 0.7525083612040134, 2: 0.7709030100334449, 3: 0.7809364548494984, 4: 0.7892976588628763, 5: 0.7892976588628763}\n",
      "Current step: 5, Current value: 0.7892976588628763\n",
      "Steps for prediction: [0 1 2 3 4 5]\n",
      "Values for prediction: [0.74080268 0.75250836 0.77090301 0.78093645 0.78929766 0.78929766]\n",
      "[Debug Trial 72]: Curve fit params: a=0.8072, b=0.0681, c=0.3000\n",
      "[Debug Trial 72]: Extrapolated to step 15: 0.8064\n",
      "Predicted final performance: 0.8064385412524828\n",
      "Completed trial values: [0.7905701754385964, 0.7938596491228068, 0.797027290448343, 0.7860623781676414, 0.7928849902534112, 0.7807017543859648, 0.790204678362573, 0.7897173489278753, 0.7887426900584794, 0.7897173489278753, 0.7902046783625731, 0.7877680311890839, 0.7958089668615984, 0.7926413255360623, 0.7923976608187134, 0.7928849902534112, 0.7941033138401559, 0.7921539961013644, 0.7923976608187134]\n",
      "Threshold (quantile 0.5): 0.7921539961013644\n",
      "Prediction vs threshold: 0.8064 vs 0.7922\n",
      "Decision: CONTINUE\n",
      "✅ CONTINUING: 0.8064 >= 0.7922\n",
      "Trial 72 completed with AUC: 0.7926\n",
      "Trial 73, Step 0: 2 trees, OOB: 0.7425\n",
      "\n",
      "=== DEBUGGING TRIAL 73 ===\n",
      "Intermediate values: {0: 0.7424749163879598}\n",
      "Current step: 0, Current value: 0.7424749163879598\n",
      "[Debug Trial 73]: Not enough steps (1 < 3)\n",
      "Trial 73, Step 1: 5 trees, OOB: 0.7492\n",
      "\n",
      "=== DEBUGGING TRIAL 73 ===\n",
      "Intermediate values: {0: 0.7424749163879598, 1: 0.7491638795986622}\n",
      "Current step: 1, Current value: 0.7491638795986622\n",
      "[Debug Trial 73]: Not enough steps (2 < 3)\n",
      "Trial 73, Step 2: 10 trees, OOB: 0.7676\n",
      "\n",
      "=== DEBUGGING TRIAL 73 ===\n",
      "Intermediate values: {0: 0.7424749163879598, 1: 0.7491638795986622, 2: 0.7675585284280937}\n",
      "Current step: 2, Current value: 0.7675585284280937\n",
      "Steps for prediction: [0 1 2]\n",
      "Values for prediction: [0.74247492 0.74916388 0.76755853]\n",
      "[Debug Trial 73]: Curve fitting failed: Optimal parameters not found: Number of calls to function has reached maxfev = 1000., using linear extrapolation\n",
      "Predicted final performance: 0.8043478260869568\n",
      "Completed trial values: [0.7905701754385964, 0.7938596491228068, 0.797027290448343, 0.7860623781676414, 0.7928849902534112, 0.7807017543859648, 0.790204678362573, 0.7897173489278753, 0.7887426900584794, 0.7897173489278753, 0.7902046783625731, 0.7877680311890839, 0.7958089668615984, 0.7926413255360623, 0.7923976608187134, 0.7928849902534112, 0.7941033138401559, 0.7921539961013644, 0.7923976608187134, 0.7926413255360623]\n",
      "Threshold (quantile 0.5): 0.7922758284600389\n",
      "Prediction vs threshold: 0.8043 vs 0.7923\n",
      "Decision: CONTINUE\n",
      "✅ CONTINUING: 0.8043 >= 0.7923\n",
      "Trial 73, Step 3: 21 trees, OOB: 0.7826\n",
      "\n",
      "=== DEBUGGING TRIAL 73 ===\n",
      "Intermediate values: {0: 0.7424749163879598, 1: 0.7491638795986622, 2: 0.7675585284280937, 3: 0.782608695652174}\n",
      "Current step: 3, Current value: 0.782608695652174\n",
      "Steps for prediction: [0 1 2 3]\n",
      "Values for prediction: [0.74247492 0.74916388 0.76755853 0.7826087 ]\n",
      "[Debug Trial 73]: Curve fitting failed: Optimal parameters not found: Number of calls to function has reached maxfev = 1000., using linear extrapolation\n",
      "Predicted final performance: 0.8277591973244147\n",
      "Completed trial values: [0.7905701754385964, 0.7938596491228068, 0.797027290448343, 0.7860623781676414, 0.7928849902534112, 0.7807017543859648, 0.790204678362573, 0.7897173489278753, 0.7887426900584794, 0.7897173489278753, 0.7902046783625731, 0.7877680311890839, 0.7958089668615984, 0.7926413255360623, 0.7923976608187134, 0.7928849902534112, 0.7941033138401559, 0.7921539961013644, 0.7923976608187134, 0.7926413255360623]\n",
      "Threshold (quantile 0.5): 0.7922758284600389\n",
      "Prediction vs threshold: 0.8278 vs 0.7923\n",
      "Decision: CONTINUE\n",
      "✅ CONTINUING: 0.8278 >= 0.7923\n",
      "Trial 73, Step 4: 52 trees, OOB: 0.7876\n",
      "\n",
      "=== DEBUGGING TRIAL 73 ===\n",
      "Intermediate values: {0: 0.7424749163879598, 1: 0.7491638795986622, 2: 0.7675585284280937, 3: 0.782608695652174, 4: 0.7876254180602007}\n",
      "Current step: 4, Current value: 0.7876254180602007\n",
      "Steps for prediction: [0 1 2 3 4]\n",
      "Values for prediction: [0.74247492 0.74916388 0.76755853 0.7826087  0.78762542]\n",
      "[Debug Trial 73]: Curve fit params: a=0.9588, b=0.2185, c=0.0643\n",
      "[Debug Trial 73]: Extrapolated to step 12: 0.8578\n",
      "Predicted final performance: 0.8577714395366768\n",
      "Completed trial values: [0.7905701754385964, 0.7938596491228068, 0.797027290448343, 0.7860623781676414, 0.7928849902534112, 0.7807017543859648, 0.790204678362573, 0.7897173489278753, 0.7887426900584794, 0.7897173489278753, 0.7902046783625731, 0.7877680311890839, 0.7958089668615984, 0.7926413255360623, 0.7923976608187134, 0.7928849902534112, 0.7941033138401559, 0.7921539961013644, 0.7923976608187134, 0.7926413255360623]\n",
      "Threshold (quantile 0.5): 0.7922758284600389\n",
      "Prediction vs threshold: 0.8578 vs 0.7923\n",
      "Decision: CONTINUE\n",
      "✅ CONTINUING: 0.8578 >= 0.7923\n",
      "Trial 73, Step 5: 105 trees, OOB: 0.7893\n",
      "\n",
      "=== DEBUGGING TRIAL 73 ===\n",
      "Intermediate values: {0: 0.7424749163879598, 1: 0.7491638795986622, 2: 0.7675585284280937, 3: 0.782608695652174, 4: 0.7876254180602007, 5: 0.7892976588628763}\n",
      "Current step: 5, Current value: 0.7892976588628763\n",
      "Steps for prediction: [0 1 2 3 4 5]\n",
      "Values for prediction: [0.74247492 0.74916388 0.76755853 0.7826087  0.78762542 0.78929766]\n",
      "[Debug Trial 73]: Curve fit params: a=0.8183, b=0.0787, c=0.2219\n",
      "[Debug Trial 73]: Extrapolated to step 15: 0.8155\n",
      "Predicted final performance: 0.8154590365424722\n",
      "Completed trial values: [0.7905701754385964, 0.7938596491228068, 0.797027290448343, 0.7860623781676414, 0.7928849902534112, 0.7807017543859648, 0.790204678362573, 0.7897173489278753, 0.7887426900584794, 0.7897173489278753, 0.7902046783625731, 0.7877680311890839, 0.7958089668615984, 0.7926413255360623, 0.7923976608187134, 0.7928849902534112, 0.7941033138401559, 0.7921539961013644, 0.7923976608187134, 0.7926413255360623]\n",
      "Threshold (quantile 0.5): 0.7922758284600389\n",
      "Prediction vs threshold: 0.8155 vs 0.7923\n",
      "Decision: CONTINUE\n",
      "✅ CONTINUING: 0.8155 >= 0.7923\n",
      "Trial 73 completed with AUC: 0.7924\n",
      "Trial 74, Step 0: 1 trees, OOB: nan\n",
      "\n",
      "=== DEBUGGING TRIAL 74 ===\n",
      "Intermediate values: {0: nan}\n",
      "Current step: 0, Current value: nan\n",
      "[Debug Trial 74]: Not enough steps (1 < 3)\n",
      "Trial 74, Step 1: 4 trees, OOB: 0.7475\n",
      "\n",
      "=== DEBUGGING TRIAL 74 ===\n",
      "Intermediate values: {0: nan, 1: 0.7474916387959866}\n",
      "Current step: 1, Current value: 0.7474916387959866\n",
      "[Debug Trial 74]: Not enough steps (2 < 3)\n",
      "Trial 74, Step 2: 9 trees, OOB: 0.7726\n",
      "\n",
      "=== DEBUGGING TRIAL 74 ===\n",
      "Intermediate values: {0: nan, 1: 0.7474916387959866, 2: 0.7725752508361204}\n",
      "Current step: 2, Current value: 0.7725752508361204\n",
      "Steps for prediction: [0 1 2]\n",
      "Values for prediction: [       nan 0.74749164 0.77257525]\n",
      "[Debug Trial 74]: Curve fitting failed: array must not contain infs or NaNs, using linear extrapolation\n",
      "Predicted final performance: 0.8227424749163882\n",
      "Completed trial values: [0.7905701754385964, 0.7938596491228068, 0.797027290448343, 0.7860623781676414, 0.7928849902534112, 0.7807017543859648, 0.790204678362573, 0.7897173489278753, 0.7887426900584794, 0.7897173489278753, 0.7902046783625731, 0.7877680311890839, 0.7958089668615984, 0.7926413255360623, 0.7923976608187134, 0.7928849902534112, 0.7941033138401559, 0.7921539961013644, 0.7923976608187134, 0.7926413255360623, 0.7923976608187133]\n",
      "Threshold (quantile 0.5): 0.7923976608187133\n",
      "Prediction vs threshold: 0.8227 vs 0.7924\n",
      "Decision: CONTINUE\n",
      "✅ CONTINUING: 0.8227 >= 0.7924\n",
      "Trial 74, Step 3: 18 trees, OOB: 0.7793\n",
      "\n",
      "=== DEBUGGING TRIAL 74 ===\n",
      "Intermediate values: {0: nan, 1: 0.7474916387959866, 2: 0.7725752508361204, 3: 0.7792642140468228}\n",
      "Current step: 3, Current value: 0.7792642140468228\n",
      "Steps for prediction: [0 1 2 3]\n",
      "Values for prediction: [       nan 0.74749164 0.77257525 0.77926421]\n",
      "[Debug Trial 74]: Curve fitting failed: array must not contain infs or NaNs, using linear extrapolation\n",
      "Predicted final performance: 0.7993311036789298\n",
      "Completed trial values: [0.7905701754385964, 0.7938596491228068, 0.797027290448343, 0.7860623781676414, 0.7928849902534112, 0.7807017543859648, 0.790204678362573, 0.7897173489278753, 0.7887426900584794, 0.7897173489278753, 0.7902046783625731, 0.7877680311890839, 0.7958089668615984, 0.7926413255360623, 0.7923976608187134, 0.7928849902534112, 0.7941033138401559, 0.7921539961013644, 0.7923976608187134, 0.7926413255360623, 0.7923976608187133]\n",
      "Threshold (quantile 0.5): 0.7923976608187133\n",
      "Prediction vs threshold: 0.7993 vs 0.7924\n",
      "Decision: CONTINUE\n",
      "✅ CONTINUING: 0.7993 >= 0.7924\n",
      "Trial 74, Step 4: 45 trees, OOB: 0.7876\n",
      "\n",
      "=== DEBUGGING TRIAL 74 ===\n",
      "Intermediate values: {0: nan, 1: 0.7474916387959866, 2: 0.7725752508361204, 3: 0.7792642140468228, 4: 0.7876254180602007}\n",
      "Current step: 4, Current value: 0.7876254180602007\n",
      "Steps for prediction: [0 1 2 3 4]\n",
      "Values for prediction: [       nan 0.74749164 0.77257525 0.77926421 0.78762542]\n",
      "[Debug Trial 74]: Curve fitting failed: array must not contain infs or NaNs, using linear extrapolation\n",
      "Predicted final performance: 0.8210702341137124\n",
      "Completed trial values: [0.7905701754385964, 0.7938596491228068, 0.797027290448343, 0.7860623781676414, 0.7928849902534112, 0.7807017543859648, 0.790204678362573, 0.7897173489278753, 0.7887426900584794, 0.7897173489278753, 0.7902046783625731, 0.7877680311890839, 0.7958089668615984, 0.7926413255360623, 0.7923976608187134, 0.7928849902534112, 0.7941033138401559, 0.7921539961013644, 0.7923976608187134, 0.7926413255360623, 0.7923976608187133]\n",
      "Threshold (quantile 0.5): 0.7923976608187133\n",
      "Prediction vs threshold: 0.8211 vs 0.7924\n",
      "Decision: CONTINUE\n",
      "✅ CONTINUING: 0.8211 >= 0.7924\n",
      "Trial 74, Step 5: 91 trees, OOB: 0.7893\n",
      "\n",
      "=== DEBUGGING TRIAL 74 ===\n",
      "Intermediate values: {0: nan, 1: 0.7474916387959866, 2: 0.7725752508361204, 3: 0.7792642140468228, 4: 0.7876254180602007, 5: 0.7892976588628763}\n",
      "Current step: 5, Current value: 0.7892976588628763\n",
      "Steps for prediction: [0 1 2 3 4 5]\n",
      "Values for prediction: [       nan 0.74749164 0.77257525 0.77926421 0.78762542 0.78929766]\n",
      "[Debug Trial 74]: Curve fitting failed: array must not contain infs or NaNs, using linear extrapolation\n",
      "Predicted final performance: 0.7976588628762542\n",
      "Completed trial values: [0.7905701754385964, 0.7938596491228068, 0.797027290448343, 0.7860623781676414, 0.7928849902534112, 0.7807017543859648, 0.790204678362573, 0.7897173489278753, 0.7887426900584794, 0.7897173489278753, 0.7902046783625731, 0.7877680311890839, 0.7958089668615984, 0.7926413255360623, 0.7923976608187134, 0.7928849902534112, 0.7941033138401559, 0.7921539961013644, 0.7923976608187134, 0.7926413255360623, 0.7923976608187133]\n",
      "Threshold (quantile 0.5): 0.7923976608187133\n",
      "Prediction vs threshold: 0.7977 vs 0.7924\n",
      "Decision: CONTINUE\n",
      "✅ CONTINUING: 0.7977 >= 0.7924\n",
      "Trial 74 completed with AUC: 0.7939\n",
      "Trial 75, Step 0: 2 trees, OOB: 0.7408\n",
      "\n",
      "=== DEBUGGING TRIAL 75 ===\n",
      "Intermediate values: {0: 0.7408026755852842}\n",
      "Current step: 0, Current value: 0.7408026755852842\n",
      "[Debug Trial 75]: Not enough steps (1 < 3)\n",
      "Trial 75, Step 1: 5 trees, OOB: 0.7492\n",
      "\n",
      "=== DEBUGGING TRIAL 75 ===\n",
      "Intermediate values: {0: 0.7408026755852842, 1: 0.7491638795986622}\n",
      "Current step: 1, Current value: 0.7491638795986622\n",
      "[Debug Trial 75]: Not enough steps (2 < 3)\n",
      "Trial 75, Step 2: 11 trees, OOB: 0.7742\n",
      "\n",
      "=== DEBUGGING TRIAL 75 ===\n",
      "Intermediate values: {0: 0.7408026755852842, 1: 0.7491638795986622, 2: 0.774247491638796}\n",
      "Current step: 2, Current value: 0.774247491638796\n",
      "Steps for prediction: [0 1 2]\n",
      "Values for prediction: [0.74080268 0.74916388 0.77424749]\n",
      "[Debug Trial 75]: Curve fit params: a=150.0045, b=149.2665, c=0.0001\n",
      "[Debug Trial 75]: Extrapolated to step 6: 0.8383\n",
      "Predicted final performance: 0.838324880844624\n",
      "Completed trial values: [0.7905701754385964, 0.7938596491228068, 0.797027290448343, 0.7860623781676414, 0.7928849902534112, 0.7807017543859648, 0.790204678362573, 0.7897173489278753, 0.7887426900584794, 0.7897173489278753, 0.7902046783625731, 0.7877680311890839, 0.7958089668615984, 0.7926413255360623, 0.7923976608187134, 0.7928849902534112, 0.7941033138401559, 0.7921539961013644, 0.7923976608187134, 0.7926413255360623, 0.7923976608187133, 0.7938596491228069]\n",
      "Threshold (quantile 0.5): 0.7923976608187133\n",
      "Prediction vs threshold: 0.8383 vs 0.7924\n",
      "Decision: CONTINUE\n",
      "✅ CONTINUING: 0.8383 >= 0.7924\n"
     ]
    },
    {
     "name": "stderr",
     "output_type": "stream",
     "text": [
      "C:\\Users\\Obidur Rahman\\AppData\\Local\\Temp\\ipykernel_3964\\3441492807.py:144: OptimizeWarning: Covariance of the parameters could not be estimated\n",
      "  popt, _ = curve_fit(saturating_func, steps, values, p0=p0, maxfev=1000)\n"
     ]
    },
    {
     "name": "stdout",
     "output_type": "stream",
     "text": [
      "Trial 75, Step 3: 22 trees, OOB: 0.7843\n",
      "\n",
      "=== DEBUGGING TRIAL 75 ===\n",
      "Intermediate values: {0: 0.7408026755852842, 1: 0.7491638795986622, 2: 0.774247491638796, 3: 0.7842809364548495}\n",
      "Current step: 3, Current value: 0.7842809364548495\n",
      "Steps for prediction: [0 1 2 3]\n",
      "Values for prediction: [0.74080268 0.74916388 0.77424749 0.78428094]\n",
      "[Debug Trial 75]: Curve fitting failed: Optimal parameters not found: Number of calls to function has reached maxfev = 1000., using linear extrapolation\n",
      "Predicted final performance: 0.81438127090301\n",
      "Completed trial values: [0.7905701754385964, 0.7938596491228068, 0.797027290448343, 0.7860623781676414, 0.7928849902534112, 0.7807017543859648, 0.790204678362573, 0.7897173489278753, 0.7887426900584794, 0.7897173489278753, 0.7902046783625731, 0.7877680311890839, 0.7958089668615984, 0.7926413255360623, 0.7923976608187134, 0.7928849902534112, 0.7941033138401559, 0.7921539961013644, 0.7923976608187134, 0.7926413255360623, 0.7923976608187133, 0.7938596491228069]\n",
      "Threshold (quantile 0.5): 0.7923976608187133\n",
      "Prediction vs threshold: 0.8144 vs 0.7924\n",
      "Decision: CONTINUE\n",
      "✅ CONTINUING: 0.8144 >= 0.7924\n",
      "Trial 75, Step 4: 56 trees, OOB: 0.7860\n",
      "\n",
      "=== DEBUGGING TRIAL 75 ===\n",
      "Intermediate values: {0: 0.7408026755852842, 1: 0.7491638795986622, 2: 0.774247491638796, 3: 0.7842809364548495, 4: 0.7859531772575251}\n",
      "Current step: 4, Current value: 0.7859531772575251\n",
      "Steps for prediction: [0 1 2 3 4]\n",
      "Values for prediction: [0.74080268 0.74916388 0.77424749 0.78428094 0.78595318]\n",
      "[Debug Trial 75]: Curve fit params: a=0.8166, b=0.0782, c=0.2606\n",
      "[Debug Trial 75]: Extrapolated to step 12: 0.8131\n",
      "Predicted final performance: 0.8131405752363015\n",
      "Completed trial values: [0.7905701754385964, 0.7938596491228068, 0.797027290448343, 0.7860623781676414, 0.7928849902534112, 0.7807017543859648, 0.790204678362573, 0.7897173489278753, 0.7887426900584794, 0.7897173489278753, 0.7902046783625731, 0.7877680311890839, 0.7958089668615984, 0.7926413255360623, 0.7923976608187134, 0.7928849902534112, 0.7941033138401559, 0.7921539961013644, 0.7923976608187134, 0.7926413255360623, 0.7923976608187133, 0.7938596491228069]\n",
      "Threshold (quantile 0.5): 0.7923976608187133\n",
      "Prediction vs threshold: 0.8131 vs 0.7924\n",
      "Decision: CONTINUE\n",
      "✅ CONTINUING: 0.8131 >= 0.7924\n",
      "Trial 75, Step 5: 113 trees, OOB: 0.7860\n",
      "\n",
      "=== DEBUGGING TRIAL 75 ===\n",
      "Intermediate values: {0: 0.7408026755852842, 1: 0.7491638795986622, 2: 0.774247491638796, 3: 0.7842809364548495, 4: 0.7859531772575251, 5: 0.7859531772575251}\n",
      "Current step: 5, Current value: 0.7859531772575251\n",
      "Steps for prediction: [0 1 2 3 4 5]\n",
      "Values for prediction: [0.74080268 0.74916388 0.77424749 0.78428094 0.78595318 0.78595318]\n",
      "[Debug Trial 75]: Curve fit params: a=0.7974, b=0.0595, c=0.4013\n",
      "[Debug Trial 75]: Extrapolated to step 15: 0.7972\n",
      "Predicted final performance: 0.797221217643687\n",
      "Completed trial values: [0.7905701754385964, 0.7938596491228068, 0.797027290448343, 0.7860623781676414, 0.7928849902534112, 0.7807017543859648, 0.790204678362573, 0.7897173489278753, 0.7887426900584794, 0.7897173489278753, 0.7902046783625731, 0.7877680311890839, 0.7958089668615984, 0.7926413255360623, 0.7923976608187134, 0.7928849902534112, 0.7941033138401559, 0.7921539961013644, 0.7923976608187134, 0.7926413255360623, 0.7923976608187133, 0.7938596491228069]\n",
      "Threshold (quantile 0.5): 0.7923976608187133\n",
      "Prediction vs threshold: 0.7972 vs 0.7924\n",
      "Decision: CONTINUE\n",
      "✅ CONTINUING: 0.7972 >= 0.7924\n",
      "Trial 75 completed with AUC: 0.7946\n",
      "Trial 76, Step 0: 2 trees, OOB: 0.7441\n",
      "\n",
      "=== DEBUGGING TRIAL 76 ===\n",
      "Intermediate values: {0: 0.7441471571906354}\n",
      "Current step: 0, Current value: 0.7441471571906354\n",
      "[Debug Trial 76]: Not enough steps (1 < 3)\n",
      "Trial 76, Step 1: 5 trees, OOB: 0.7559\n",
      "\n",
      "=== DEBUGGING TRIAL 76 ===\n",
      "Intermediate values: {0: 0.7441471571906354, 1: 0.7558528428093646}\n",
      "Current step: 1, Current value: 0.7558528428093646\n",
      "[Debug Trial 76]: Not enough steps (2 < 3)\n",
      "Trial 76, Step 2: 11 trees, OOB: 0.7625\n",
      "\n",
      "=== DEBUGGING TRIAL 76 ===\n",
      "Intermediate values: {0: 0.7441471571906354, 1: 0.7558528428093646, 2: 0.7625418060200669}\n",
      "Current step: 2, Current value: 0.7625418060200669\n",
      "Steps for prediction: [0 1 2]\n",
      "Values for prediction: [0.74414716 0.75585284 0.76254181]\n",
      "[Debug Trial 76]: Curve fit params: a=0.7715, b=0.0273, c=0.5596\n",
      "[Debug Trial 76]: Extrapolated to step 6: 0.7705\n",
      "Predicted final performance: 0.7705095006400624\n",
      "Completed trial values: [0.7905701754385964, 0.7938596491228068, 0.797027290448343, 0.7860623781676414, 0.7928849902534112, 0.7807017543859648, 0.790204678362573, 0.7897173489278753, 0.7887426900584794, 0.7897173489278753, 0.7902046783625731, 0.7877680311890839, 0.7958089668615984, 0.7926413255360623, 0.7923976608187134, 0.7928849902534112, 0.7941033138401559, 0.7921539961013644, 0.7923976608187134, 0.7926413255360623, 0.7923976608187133, 0.7938596491228069, 0.7945906432748538]\n",
      "Threshold (quantile 0.5): 0.7923976608187134\n",
      "Prediction vs threshold: 0.7705 vs 0.7924\n",
      "Decision: PRUNE\n",
      "🔥 PRUNING: 0.7705 < 0.7924\n",
      "Trial 76 pruned at step 2 (11 estimators, OOB: 0.7625)\n",
      "Trial 77, Step 0: 1 trees, OOB: nan\n",
      "\n",
      "=== DEBUGGING TRIAL 77 ===\n",
      "Intermediate values: {0: nan}\n",
      "Current step: 0, Current value: nan\n",
      "[Debug Trial 77]: Not enough steps (1 < 3)\n",
      "Trial 77, Step 1: 4 trees, OOB: 0.7475\n",
      "\n",
      "=== DEBUGGING TRIAL 77 ===\n",
      "Intermediate values: {0: nan, 1: 0.7474916387959866}\n",
      "Current step: 1, Current value: 0.7474916387959866\n",
      "[Debug Trial 77]: Not enough steps (2 < 3)\n",
      "Trial 77, Step 2: 9 trees, OOB: 0.7726\n",
      "\n",
      "=== DEBUGGING TRIAL 77 ===\n",
      "Intermediate values: {0: nan, 1: 0.7474916387959866, 2: 0.7725752508361204}\n",
      "Current step: 2, Current value: 0.7725752508361204\n",
      "Steps for prediction: [0 1 2]\n",
      "Values for prediction: [       nan 0.74749164 0.77257525]\n",
      "[Debug Trial 77]: Curve fitting failed: array must not contain infs or NaNs, using linear extrapolation\n",
      "Predicted final performance: 0.8227424749163882\n",
      "Completed trial values: [0.7905701754385964, 0.7938596491228068, 0.797027290448343, 0.7860623781676414, 0.7928849902534112, 0.7807017543859648, 0.790204678362573, 0.7897173489278753, 0.7887426900584794, 0.7897173489278753, 0.7902046783625731, 0.7877680311890839, 0.7958089668615984, 0.7926413255360623, 0.7923976608187134, 0.7928849902534112, 0.7941033138401559, 0.7921539961013644, 0.7923976608187134, 0.7926413255360623, 0.7923976608187133, 0.7938596491228069, 0.7945906432748538]\n",
      "Threshold (quantile 0.5): 0.7923976608187134\n",
      "Prediction vs threshold: 0.8227 vs 0.7924\n",
      "Decision: CONTINUE\n",
      "✅ CONTINUING: 0.8227 >= 0.7924\n",
      "Trial 77, Step 3: 18 trees, OOB: 0.7793\n",
      "\n",
      "=== DEBUGGING TRIAL 77 ===\n",
      "Intermediate values: {0: nan, 1: 0.7474916387959866, 2: 0.7725752508361204, 3: 0.7792642140468228}\n",
      "Current step: 3, Current value: 0.7792642140468228\n",
      "Steps for prediction: [0 1 2 3]\n",
      "Values for prediction: [       nan 0.74749164 0.77257525 0.77926421]\n",
      "[Debug Trial 77]: Curve fitting failed: array must not contain infs or NaNs, using linear extrapolation\n",
      "Predicted final performance: 0.7993311036789298\n",
      "Completed trial values: [0.7905701754385964, 0.7938596491228068, 0.797027290448343, 0.7860623781676414, 0.7928849902534112, 0.7807017543859648, 0.790204678362573, 0.7897173489278753, 0.7887426900584794, 0.7897173489278753, 0.7902046783625731, 0.7877680311890839, 0.7958089668615984, 0.7926413255360623, 0.7923976608187134, 0.7928849902534112, 0.7941033138401559, 0.7921539961013644, 0.7923976608187134, 0.7926413255360623, 0.7923976608187133, 0.7938596491228069, 0.7945906432748538]\n",
      "Threshold (quantile 0.5): 0.7923976608187134\n",
      "Prediction vs threshold: 0.7993 vs 0.7924\n",
      "Decision: CONTINUE\n",
      "✅ CONTINUING: 0.7993 >= 0.7924\n"
     ]
    },
    {
     "name": "stderr",
     "output_type": "stream",
     "text": [
      "C:\\Users\\Obidur Rahman\\AppData\\Local\\Temp\\ipykernel_3964\\3441492807.py:144: OptimizeWarning: Covariance of the parameters could not be estimated\n",
      "  popt, _ = curve_fit(saturating_func, steps, values, p0=p0, maxfev=1000)\n"
     ]
    },
    {
     "name": "stdout",
     "output_type": "stream",
     "text": [
      "Trial 77, Step 4: 45 trees, OOB: 0.7876\n",
      "\n",
      "=== DEBUGGING TRIAL 77 ===\n",
      "Intermediate values: {0: nan, 1: 0.7474916387959866, 2: 0.7725752508361204, 3: 0.7792642140468228, 4: 0.7876254180602007}\n",
      "Current step: 4, Current value: 0.7876254180602007\n",
      "Steps for prediction: [0 1 2 3 4]\n",
      "Values for prediction: [       nan 0.74749164 0.77257525 0.77926421 0.78762542]\n",
      "[Debug Trial 77]: Curve fitting failed: array must not contain infs or NaNs, using linear extrapolation\n",
      "Predicted final performance: 0.8210702341137124\n",
      "Completed trial values: [0.7905701754385964, 0.7938596491228068, 0.797027290448343, 0.7860623781676414, 0.7928849902534112, 0.7807017543859648, 0.790204678362573, 0.7897173489278753, 0.7887426900584794, 0.7897173489278753, 0.7902046783625731, 0.7877680311890839, 0.7958089668615984, 0.7926413255360623, 0.7923976608187134, 0.7928849902534112, 0.7941033138401559, 0.7921539961013644, 0.7923976608187134, 0.7926413255360623, 0.7923976608187133, 0.7938596491228069, 0.7945906432748538]\n",
      "Threshold (quantile 0.5): 0.7923976608187134\n",
      "Prediction vs threshold: 0.8211 vs 0.7924\n",
      "Decision: CONTINUE\n",
      "✅ CONTINUING: 0.8211 >= 0.7924\n",
      "Trial 77, Step 5: 91 trees, OOB: 0.7893\n",
      "\n",
      "=== DEBUGGING TRIAL 77 ===\n",
      "Intermediate values: {0: nan, 1: 0.7474916387959866, 2: 0.7725752508361204, 3: 0.7792642140468228, 4: 0.7876254180602007, 5: 0.7892976588628763}\n",
      "Current step: 5, Current value: 0.7892976588628763\n",
      "Steps for prediction: [0 1 2 3 4 5]\n",
      "Values for prediction: [       nan 0.74749164 0.77257525 0.77926421 0.78762542 0.78929766]\n",
      "[Debug Trial 77]: Curve fitting failed: array must not contain infs or NaNs, using linear extrapolation\n",
      "Predicted final performance: 0.7976588628762542\n",
      "Completed trial values: [0.7905701754385964, 0.7938596491228068, 0.797027290448343, 0.7860623781676414, 0.7928849902534112, 0.7807017543859648, 0.790204678362573, 0.7897173489278753, 0.7887426900584794, 0.7897173489278753, 0.7902046783625731, 0.7877680311890839, 0.7958089668615984, 0.7926413255360623, 0.7923976608187134, 0.7928849902534112, 0.7941033138401559, 0.7921539961013644, 0.7923976608187134, 0.7926413255360623, 0.7923976608187133, 0.7938596491228069, 0.7945906432748538]\n",
      "Threshold (quantile 0.5): 0.7923976608187134\n",
      "Prediction vs threshold: 0.7977 vs 0.7924\n",
      "Decision: CONTINUE\n",
      "✅ CONTINUING: 0.7977 >= 0.7924\n",
      "Trial 77 completed with AUC: 0.7939\n",
      "Trial 78, Step 0: 1 trees, OOB: nan\n",
      "\n",
      "=== DEBUGGING TRIAL 78 ===\n",
      "Intermediate values: {0: nan}\n",
      "Current step: 0, Current value: nan\n",
      "[Debug Trial 78]: Not enough steps (1 < 3)\n",
      "Trial 78, Step 1: 4 trees, OOB: 0.7475\n",
      "\n",
      "=== DEBUGGING TRIAL 78 ===\n",
      "Intermediate values: {0: nan, 1: 0.7474916387959866}\n",
      "Current step: 1, Current value: 0.7474916387959866\n",
      "[Debug Trial 78]: Not enough steps (2 < 3)\n",
      "Trial 78, Step 2: 9 trees, OOB: 0.7726\n",
      "\n",
      "=== DEBUGGING TRIAL 78 ===\n",
      "Intermediate values: {0: nan, 1: 0.7474916387959866, 2: 0.7725752508361204}\n",
      "Current step: 2, Current value: 0.7725752508361204\n",
      "Steps for prediction: [0 1 2]\n",
      "Values for prediction: [       nan 0.74749164 0.77257525]\n",
      "[Debug Trial 78]: Curve fitting failed: array must not contain infs or NaNs, using linear extrapolation\n",
      "Predicted final performance: 0.8227424749163882\n",
      "Completed trial values: [0.7905701754385964, 0.7938596491228068, 0.797027290448343, 0.7860623781676414, 0.7928849902534112, 0.7807017543859648, 0.790204678362573, 0.7897173489278753, 0.7887426900584794, 0.7897173489278753, 0.7902046783625731, 0.7877680311890839, 0.7958089668615984, 0.7926413255360623, 0.7923976608187134, 0.7928849902534112, 0.7941033138401559, 0.7921539961013644, 0.7923976608187134, 0.7926413255360623, 0.7923976608187133, 0.7938596491228069, 0.7945906432748538, 0.7938596491228069]\n",
      "Threshold (quantile 0.5): 0.7923976608187134\n",
      "Prediction vs threshold: 0.8227 vs 0.7924\n",
      "Decision: CONTINUE\n",
      "✅ CONTINUING: 0.8227 >= 0.7924\n",
      "Trial 78, Step 3: 18 trees, OOB: 0.7793\n",
      "\n",
      "=== DEBUGGING TRIAL 78 ===\n",
      "Intermediate values: {0: nan, 1: 0.7474916387959866, 2: 0.7725752508361204, 3: 0.7792642140468228}\n",
      "Current step: 3, Current value: 0.7792642140468228\n",
      "Steps for prediction: [0 1 2 3]\n",
      "Values for prediction: [       nan 0.74749164 0.77257525 0.77926421]\n",
      "[Debug Trial 78]: Curve fitting failed: array must not contain infs or NaNs, using linear extrapolation\n",
      "Predicted final performance: 0.7993311036789298\n",
      "Completed trial values: [0.7905701754385964, 0.7938596491228068, 0.797027290448343, 0.7860623781676414, 0.7928849902534112, 0.7807017543859648, 0.790204678362573, 0.7897173489278753, 0.7887426900584794, 0.7897173489278753, 0.7902046783625731, 0.7877680311890839, 0.7958089668615984, 0.7926413255360623, 0.7923976608187134, 0.7928849902534112, 0.7941033138401559, 0.7921539961013644, 0.7923976608187134, 0.7926413255360623, 0.7923976608187133, 0.7938596491228069, 0.7945906432748538, 0.7938596491228069]\n",
      "Threshold (quantile 0.5): 0.7923976608187134\n",
      "Prediction vs threshold: 0.7993 vs 0.7924\n",
      "Decision: CONTINUE\n",
      "✅ CONTINUING: 0.7993 >= 0.7924\n",
      "Trial 78, Step 4: 47 trees, OOB: 0.7876\n",
      "\n",
      "=== DEBUGGING TRIAL 78 ===\n",
      "Intermediate values: {0: nan, 1: 0.7474916387959866, 2: 0.7725752508361204, 3: 0.7792642140468228, 4: 0.7876254180602007}\n",
      "Current step: 4, Current value: 0.7876254180602007\n",
      "Steps for prediction: [0 1 2 3 4]\n",
      "Values for prediction: [       nan 0.74749164 0.77257525 0.77926421 0.78762542]\n",
      "[Debug Trial 78]: Curve fitting failed: array must not contain infs or NaNs, using linear extrapolation\n",
      "Predicted final performance: 0.8210702341137124\n",
      "Completed trial values: [0.7905701754385964, 0.7938596491228068, 0.797027290448343, 0.7860623781676414, 0.7928849902534112, 0.7807017543859648, 0.790204678362573, 0.7897173489278753, 0.7887426900584794, 0.7897173489278753, 0.7902046783625731, 0.7877680311890839, 0.7958089668615984, 0.7926413255360623, 0.7923976608187134, 0.7928849902534112, 0.7941033138401559, 0.7921539961013644, 0.7923976608187134, 0.7926413255360623, 0.7923976608187133, 0.7938596491228069, 0.7945906432748538, 0.7938596491228069]\n",
      "Threshold (quantile 0.5): 0.7923976608187134\n",
      "Prediction vs threshold: 0.8211 vs 0.7924\n",
      "Decision: CONTINUE\n",
      "✅ CONTINUING: 0.8211 >= 0.7924\n",
      "Trial 78, Step 5: 94 trees, OOB: 0.7876\n",
      "\n",
      "=== DEBUGGING TRIAL 78 ===\n",
      "Intermediate values: {0: nan, 1: 0.7474916387959866, 2: 0.7725752508361204, 3: 0.7792642140468228, 4: 0.7876254180602007, 5: 0.7876254180602007}\n",
      "Current step: 5, Current value: 0.7876254180602007\n",
      "Steps for prediction: [0 1 2 3 4 5]\n",
      "Values for prediction: [       nan 0.74749164 0.77257525 0.77926421 0.78762542 0.78762542]\n",
      "[Debug Trial 78]: Curve fitting failed: array must not contain infs or NaNs, using linear extrapolation\n",
      "Predicted final performance: 0.7876254180602007\n",
      "Completed trial values: [0.7905701754385964, 0.7938596491228068, 0.797027290448343, 0.7860623781676414, 0.7928849902534112, 0.7807017543859648, 0.790204678362573, 0.7897173489278753, 0.7887426900584794, 0.7897173489278753, 0.7902046783625731, 0.7877680311890839, 0.7958089668615984, 0.7926413255360623, 0.7923976608187134, 0.7928849902534112, 0.7941033138401559, 0.7921539961013644, 0.7923976608187134, 0.7926413255360623, 0.7923976608187133, 0.7938596491228069, 0.7945906432748538, 0.7938596491228069]\n",
      "Threshold (quantile 0.5): 0.7923976608187134\n",
      "Prediction vs threshold: 0.7876 vs 0.7924\n",
      "Decision: PRUNE\n",
      "🔥 PRUNING: 0.7876 < 0.7924\n",
      "Trial 78 pruned at step 5 (94 estimators, OOB: 0.7876)\n",
      "Trial 79, Step 0: 2 trees, OOB: 0.7408\n",
      "\n",
      "=== DEBUGGING TRIAL 79 ===\n",
      "Intermediate values: {0: 0.7408026755852842}\n",
      "Current step: 0, Current value: 0.7408026755852842\n",
      "[Debug Trial 79]: Not enough steps (1 < 3)\n",
      "Trial 79, Step 1: 6 trees, OOB: 0.7575\n",
      "\n",
      "=== DEBUGGING TRIAL 79 ===\n",
      "Intermediate values: {0: 0.7408026755852842, 1: 0.7575250836120402}\n",
      "Current step: 1, Current value: 0.7575250836120402\n",
      "[Debug Trial 79]: Not enough steps (2 < 3)\n",
      "Trial 79, Step 2: 12 trees, OOB: 0.7793\n",
      "\n",
      "=== DEBUGGING TRIAL 79 ===\n",
      "Intermediate values: {0: 0.7408026755852842, 1: 0.7575250836120402, 2: 0.7792642140468228}\n",
      "Current step: 2, Current value: 0.7792642140468228\n",
      "Steps for prediction: [0 1 2]\n",
      "Values for prediction: [0.74080268 0.75752508 0.77926421]\n",
      "[Debug Trial 79]: Curve fitting failed: Optimal parameters not found: Number of calls to function has reached maxfev = 1000., using linear extrapolation\n",
      "Predicted final performance: 0.822742474916388\n",
      "Completed trial values: [0.7905701754385964, 0.7938596491228068, 0.797027290448343, 0.7860623781676414, 0.7928849902534112, 0.7807017543859648, 0.790204678362573, 0.7897173489278753, 0.7887426900584794, 0.7897173489278753, 0.7902046783625731, 0.7877680311890839, 0.7958089668615984, 0.7926413255360623, 0.7923976608187134, 0.7928849902534112, 0.7941033138401559, 0.7921539961013644, 0.7923976608187134, 0.7926413255360623, 0.7923976608187133, 0.7938596491228069, 0.7945906432748538, 0.7938596491228069]\n",
      "Threshold (quantile 0.5): 0.7923976608187134\n",
      "Prediction vs threshold: 0.8227 vs 0.7924\n",
      "Decision: CONTINUE\n",
      "✅ CONTINUING: 0.8227 >= 0.7924\n",
      "Trial 79, Step 3: 24 trees, OOB: 0.7860\n",
      "\n",
      "=== DEBUGGING TRIAL 79 ===\n",
      "Intermediate values: {0: 0.7408026755852842, 1: 0.7575250836120402, 2: 0.7792642140468228, 3: 0.7859531772575251}\n",
      "Current step: 3, Current value: 0.7859531772575251\n",
      "Steps for prediction: [0 1 2 3]\n",
      "Values for prediction: [0.74080268 0.75752508 0.77926421 0.78595318]\n",
      "[Debug Trial 79]: Curve fit params: a=0.8226, b=0.0826, c=0.2835\n",
      "[Debug Trial 79]: Extrapolated to step 9: 0.8162\n",
      "Predicted final performance: 0.8162032757127228\n",
      "Completed trial values: [0.7905701754385964, 0.7938596491228068, 0.797027290448343, 0.7860623781676414, 0.7928849902534112, 0.7807017543859648, 0.790204678362573, 0.7897173489278753, 0.7887426900584794, 0.7897173489278753, 0.7902046783625731, 0.7877680311890839, 0.7958089668615984, 0.7926413255360623, 0.7923976608187134, 0.7928849902534112, 0.7941033138401559, 0.7921539961013644, 0.7923976608187134, 0.7926413255360623, 0.7923976608187133, 0.7938596491228069, 0.7945906432748538, 0.7938596491228069]\n",
      "Threshold (quantile 0.5): 0.7923976608187134\n",
      "Prediction vs threshold: 0.8162 vs 0.7924\n",
      "Decision: CONTINUE\n",
      "✅ CONTINUING: 0.8162 >= 0.7924\n",
      "Trial 79, Step 4: 61 trees, OOB: 0.7843\n",
      "\n",
      "=== DEBUGGING TRIAL 79 ===\n",
      "Intermediate values: {0: 0.7408026755852842, 1: 0.7575250836120402, 2: 0.7792642140468228, 3: 0.7859531772575251, 4: 0.7842809364548495}\n",
      "Current step: 4, Current value: 0.7842809364548495\n",
      "Steps for prediction: [0 1 2 3 4]\n",
      "Values for prediction: [0.74080268 0.75752508 0.77926421 0.78595318 0.78428094]\n",
      "[Debug Trial 79]: Curve fit params: a=0.7934, b=0.0539, c=0.5508\n",
      "[Debug Trial 79]: Extrapolated to step 12: 0.7933\n",
      "Predicted final performance: 0.793329711981935\n",
      "Completed trial values: [0.7905701754385964, 0.7938596491228068, 0.797027290448343, 0.7860623781676414, 0.7928849902534112, 0.7807017543859648, 0.790204678362573, 0.7897173489278753, 0.7887426900584794, 0.7897173489278753, 0.7902046783625731, 0.7877680311890839, 0.7958089668615984, 0.7926413255360623, 0.7923976608187134, 0.7928849902534112, 0.7941033138401559, 0.7921539961013644, 0.7923976608187134, 0.7926413255360623, 0.7923976608187133, 0.7938596491228069, 0.7945906432748538, 0.7938596491228069]\n",
      "Threshold (quantile 0.5): 0.7923976608187134\n",
      "Prediction vs threshold: 0.7933 vs 0.7924\n",
      "Decision: CONTINUE\n",
      "✅ CONTINUING: 0.7933 >= 0.7924\n",
      "Trial 79, Step 5: 122 trees, OOB: 0.7860\n",
      "\n",
      "=== DEBUGGING TRIAL 79 ===\n",
      "Intermediate values: {0: 0.7408026755852842, 1: 0.7575250836120402, 2: 0.7792642140468228, 3: 0.7859531772575251, 4: 0.7842809364548495, 5: 0.7859531772575251}\n",
      "Current step: 5, Current value: 0.7859531772575251\n",
      "Steps for prediction: [0 1 2 3 4 5]\n",
      "Values for prediction: [0.74080268 0.75752508 0.77926421 0.78595318 0.78428094 0.78595318]\n",
      "[Debug Trial 79]: Curve fit params: a=0.7900, b=0.0507, c=0.6256\n",
      "[Debug Trial 79]: Extrapolated to step 15: 0.7900\n",
      "Predicted final performance: 0.7900385741682192\n",
      "Completed trial values: [0.7905701754385964, 0.7938596491228068, 0.797027290448343, 0.7860623781676414, 0.7928849902534112, 0.7807017543859648, 0.790204678362573, 0.7897173489278753, 0.7887426900584794, 0.7897173489278753, 0.7902046783625731, 0.7877680311890839, 0.7958089668615984, 0.7926413255360623, 0.7923976608187134, 0.7928849902534112, 0.7941033138401559, 0.7921539961013644, 0.7923976608187134, 0.7926413255360623, 0.7923976608187133, 0.7938596491228069, 0.7945906432748538, 0.7938596491228069]\n",
      "Threshold (quantile 0.5): 0.7923976608187134\n",
      "Prediction vs threshold: 0.7900 vs 0.7924\n",
      "Decision: PRUNE\n",
      "🔥 PRUNING: 0.7900 < 0.7924\n",
      "Trial 79 pruned at step 5 (122 estimators, OOB: 0.7860)\n",
      "Trial 80, Step 0: 1 trees, OOB: nan\n",
      "\n",
      "=== DEBUGGING TRIAL 80 ===\n",
      "Intermediate values: {0: nan}\n",
      "Current step: 0, Current value: nan\n",
      "[Debug Trial 80]: Not enough steps (1 < 3)\n",
      "Trial 80, Step 1: 3 trees, OOB: 0.7592\n",
      "\n",
      "=== DEBUGGING TRIAL 80 ===\n",
      "Intermediate values: {0: nan, 1: 0.7591973244147158}\n",
      "Current step: 1, Current value: 0.7591973244147158\n",
      "[Debug Trial 80]: Not enough steps (2 < 3)\n",
      "Trial 80, Step 2: 7 trees, OOB: 0.7575\n",
      "\n",
      "=== DEBUGGING TRIAL 80 ===\n",
      "Intermediate values: {0: nan, 1: 0.7591973244147158, 2: 0.7575250836120402}\n",
      "Current step: 2, Current value: 0.7575250836120402\n",
      "Steps for prediction: [0 1 2]\n",
      "Values for prediction: [       nan 0.75919732 0.75752508]\n",
      "[Debug Trial 80]: Curve fitting failed: array must not contain infs or NaNs, using linear extrapolation\n",
      "Predicted final performance: 0.754180602006689\n",
      "Completed trial values: [0.7905701754385964, 0.7938596491228068, 0.797027290448343, 0.7860623781676414, 0.7928849902534112, 0.7807017543859648, 0.790204678362573, 0.7897173489278753, 0.7887426900584794, 0.7897173489278753, 0.7902046783625731, 0.7877680311890839, 0.7958089668615984, 0.7926413255360623, 0.7923976608187134, 0.7928849902534112, 0.7941033138401559, 0.7921539961013644, 0.7923976608187134, 0.7926413255360623, 0.7923976608187133, 0.7938596491228069, 0.7945906432748538, 0.7938596491228069]\n",
      "Threshold (quantile 0.5): 0.7923976608187134\n",
      "Prediction vs threshold: 0.7542 vs 0.7924\n",
      "Decision: PRUNE\n",
      "🔥 PRUNING: 0.7542 < 0.7924\n",
      "Trial 80 pruned at step 2 (7 estimators, OOB: 0.7575)\n",
      "Trial 81, Step 0: 2 trees, OOB: 0.7408\n",
      "\n",
      "=== DEBUGGING TRIAL 81 ===\n",
      "Intermediate values: {0: 0.7408026755852842}\n",
      "Current step: 0, Current value: 0.7408026755852842\n",
      "[Debug Trial 81]: Not enough steps (1 < 3)\n",
      "Trial 81, Step 1: 5 trees, OOB: 0.7525\n",
      "\n",
      "=== DEBUGGING TRIAL 81 ===\n",
      "Intermediate values: {0: 0.7408026755852842, 1: 0.7525083612040134}\n",
      "Current step: 1, Current value: 0.7525083612040134\n",
      "[Debug Trial 81]: Not enough steps (2 < 3)\n",
      "Trial 81, Step 2: 11 trees, OOB: 0.7742\n",
      "\n",
      "=== DEBUGGING TRIAL 81 ===\n",
      "Intermediate values: {0: 0.7408026755852842, 1: 0.7525083612040134, 2: 0.774247491638796}\n",
      "Current step: 2, Current value: 0.774247491638796\n",
      "Steps for prediction: [0 1 2]\n",
      "Values for prediction: [0.74080268 0.75250836 0.77424749]\n",
      "[Debug Trial 81]: Curve fitting failed: Optimal parameters not found: Number of calls to function has reached maxfev = 1000., using linear extrapolation\n",
      "Predicted final performance: 0.8177257525083612\n",
      "Completed trial values: [0.7905701754385964, 0.7938596491228068, 0.797027290448343, 0.7860623781676414, 0.7928849902534112, 0.7807017543859648, 0.790204678362573, 0.7897173489278753, 0.7887426900584794, 0.7897173489278753, 0.7902046783625731, 0.7877680311890839, 0.7958089668615984, 0.7926413255360623, 0.7923976608187134, 0.7928849902534112, 0.7941033138401559, 0.7921539961013644, 0.7923976608187134, 0.7926413255360623, 0.7923976608187133, 0.7938596491228069, 0.7945906432748538, 0.7938596491228069]\n",
      "Threshold (quantile 0.5): 0.7923976608187134\n",
      "Prediction vs threshold: 0.8177 vs 0.7924\n",
      "Decision: CONTINUE\n",
      "✅ CONTINUING: 0.8177 >= 0.7924\n",
      "Trial 81, Step 3: 23 trees, OOB: 0.7860\n",
      "\n",
      "=== DEBUGGING TRIAL 81 ===\n",
      "Intermediate values: {0: 0.7408026755852842, 1: 0.7525083612040134, 2: 0.774247491638796, 3: 0.7859531772575251}\n",
      "Current step: 3, Current value: 0.7859531772575251\n",
      "Steps for prediction: [0 1 2 3]\n",
      "Values for prediction: [0.74080268 0.75250836 0.77424749 0.78595318]\n",
      "[Debug Trial 81]: Curve fitting failed: Optimal parameters not found: Number of calls to function has reached maxfev = 1000., using linear extrapolation\n",
      "Predicted final performance: 0.8210702341137124\n",
      "Completed trial values: [0.7905701754385964, 0.7938596491228068, 0.797027290448343, 0.7860623781676414, 0.7928849902534112, 0.7807017543859648, 0.790204678362573, 0.7897173489278753, 0.7887426900584794, 0.7897173489278753, 0.7902046783625731, 0.7877680311890839, 0.7958089668615984, 0.7926413255360623, 0.7923976608187134, 0.7928849902534112, 0.7941033138401559, 0.7921539961013644, 0.7923976608187134, 0.7926413255360623, 0.7923976608187133, 0.7938596491228069, 0.7945906432748538, 0.7938596491228069]\n",
      "Threshold (quantile 0.5): 0.7923976608187134\n",
      "Prediction vs threshold: 0.8211 vs 0.7924\n",
      "Decision: CONTINUE\n",
      "✅ CONTINUING: 0.8211 >= 0.7924\n",
      "Trial 81, Step 4: 59 trees, OOB: 0.7893\n",
      "\n",
      "=== DEBUGGING TRIAL 81 ===\n",
      "Intermediate values: {0: 0.7408026755852842, 1: 0.7525083612040134, 2: 0.774247491638796, 3: 0.7859531772575251, 4: 0.7892976588628763}\n",
      "Current step: 4, Current value: 0.7892976588628763\n",
      "Steps for prediction: [0 1 2 3 4]\n",
      "Values for prediction: [0.74080268 0.75250836 0.77424749 0.78595318 0.78929766]\n",
      "[Debug Trial 81]: Curve fit params: a=0.8221, b=0.0831, c=0.2505\n",
      "[Debug Trial 81]: Extrapolated to step 12: 0.8180\n",
      "Predicted final performance: 0.8180233758555265\n",
      "Completed trial values: [0.7905701754385964, 0.7938596491228068, 0.797027290448343, 0.7860623781676414, 0.7928849902534112, 0.7807017543859648, 0.790204678362573, 0.7897173489278753, 0.7887426900584794, 0.7897173489278753, 0.7902046783625731, 0.7877680311890839, 0.7958089668615984, 0.7926413255360623, 0.7923976608187134, 0.7928849902534112, 0.7941033138401559, 0.7921539961013644, 0.7923976608187134, 0.7926413255360623, 0.7923976608187133, 0.7938596491228069, 0.7945906432748538, 0.7938596491228069]\n",
      "Threshold (quantile 0.5): 0.7923976608187134\n",
      "Prediction vs threshold: 0.8180 vs 0.7924\n",
      "Decision: CONTINUE\n",
      "✅ CONTINUING: 0.8180 >= 0.7924\n",
      "Trial 81, Step 5: 119 trees, OOB: 0.7876\n",
      "\n",
      "=== DEBUGGING TRIAL 81 ===\n",
      "Intermediate values: {0: 0.7408026755852842, 1: 0.7525083612040134, 2: 0.774247491638796, 3: 0.7859531772575251, 4: 0.7892976588628763, 5: 0.7876254180602007}\n",
      "Current step: 5, Current value: 0.7876254180602007\n",
      "Steps for prediction: [0 1 2 3 4 5]\n",
      "Values for prediction: [0.74080268 0.75250836 0.77424749 0.78595318 0.78929766 0.78762542]\n",
      "[Debug Trial 81]: Curve fit params: a=0.7992, b=0.0608, c=0.4119\n",
      "[Debug Trial 81]: Extrapolated to step 15: 0.7991\n",
      "Predicted final performance: 0.7990933985991108\n",
      "Completed trial values: [0.7905701754385964, 0.7938596491228068, 0.797027290448343, 0.7860623781676414, 0.7928849902534112, 0.7807017543859648, 0.790204678362573, 0.7897173489278753, 0.7887426900584794, 0.7897173489278753, 0.7902046783625731, 0.7877680311890839, 0.7958089668615984, 0.7926413255360623, 0.7923976608187134, 0.7928849902534112, 0.7941033138401559, 0.7921539961013644, 0.7923976608187134, 0.7926413255360623, 0.7923976608187133, 0.7938596491228069, 0.7945906432748538, 0.7938596491228069]\n",
      "Threshold (quantile 0.5): 0.7923976608187134\n",
      "Prediction vs threshold: 0.7991 vs 0.7924\n",
      "Decision: CONTINUE\n",
      "✅ CONTINUING: 0.7991 >= 0.7924\n",
      "Trial 81 completed with AUC: 0.7946\n",
      "Trial 82, Step 0: 2 trees, OOB: 0.7408\n",
      "\n",
      "=== DEBUGGING TRIAL 82 ===\n",
      "Intermediate values: {0: 0.7408026755852842}\n",
      "Current step: 0, Current value: 0.7408026755852842\n",
      "[Debug Trial 82]: Not enough steps (1 < 3)\n",
      "Trial 82, Step 1: 5 trees, OOB: 0.7525\n",
      "\n",
      "=== DEBUGGING TRIAL 82 ===\n",
      "Intermediate values: {0: 0.7408026755852842, 1: 0.7525083612040134}\n",
      "Current step: 1, Current value: 0.7525083612040134\n",
      "[Debug Trial 82]: Not enough steps (2 < 3)\n",
      "Trial 82, Step 2: 11 trees, OOB: 0.7742\n",
      "\n",
      "=== DEBUGGING TRIAL 82 ===\n",
      "Intermediate values: {0: 0.7408026755852842, 1: 0.7525083612040134, 2: 0.774247491638796}\n",
      "Current step: 2, Current value: 0.774247491638796\n",
      "Steps for prediction: [0 1 2]\n",
      "Values for prediction: [0.74080268 0.75250836 0.77424749]\n",
      "[Debug Trial 82]: Curve fitting failed: Optimal parameters not found: Number of calls to function has reached maxfev = 1000., using linear extrapolation\n",
      "Predicted final performance: 0.8177257525083612\n",
      "Completed trial values: [0.7905701754385964, 0.7938596491228068, 0.797027290448343, 0.7860623781676414, 0.7928849902534112, 0.7807017543859648, 0.790204678362573, 0.7897173489278753, 0.7887426900584794, 0.7897173489278753, 0.7902046783625731, 0.7877680311890839, 0.7958089668615984, 0.7926413255360623, 0.7923976608187134, 0.7928849902534112, 0.7941033138401559, 0.7921539961013644, 0.7923976608187134, 0.7926413255360623, 0.7923976608187133, 0.7938596491228069, 0.7945906432748538, 0.7938596491228069, 0.7945906432748537]\n",
      "Threshold (quantile 0.5): 0.7923976608187134\n",
      "Prediction vs threshold: 0.8177 vs 0.7924\n",
      "Decision: CONTINUE\n",
      "✅ CONTINUING: 0.8177 >= 0.7924\n",
      "Trial 82, Step 3: 22 trees, OOB: 0.7843\n",
      "\n",
      "=== DEBUGGING TRIAL 82 ===\n",
      "Intermediate values: {0: 0.7408026755852842, 1: 0.7525083612040134, 2: 0.774247491638796, 3: 0.7842809364548495}\n",
      "Current step: 3, Current value: 0.7842809364548495\n",
      "Steps for prediction: [0 1 2 3]\n",
      "Values for prediction: [0.74080268 0.75250836 0.77424749 0.78428094]\n",
      "[Debug Trial 82]: Curve fit params: a=1.0797, b=0.3399, c=0.0481\n",
      "[Debug Trial 82]: Extrapolated to step 9: 0.8592\n",
      "Predicted final performance: 0.8591637397121169\n",
      "Completed trial values: [0.7905701754385964, 0.7938596491228068, 0.797027290448343, 0.7860623781676414, 0.7928849902534112, 0.7807017543859648, 0.790204678362573, 0.7897173489278753, 0.7887426900584794, 0.7897173489278753, 0.7902046783625731, 0.7877680311890839, 0.7958089668615984, 0.7926413255360623, 0.7923976608187134, 0.7928849902534112, 0.7941033138401559, 0.7921539961013644, 0.7923976608187134, 0.7926413255360623, 0.7923976608187133, 0.7938596491228069, 0.7945906432748538, 0.7938596491228069, 0.7945906432748537]\n",
      "Threshold (quantile 0.5): 0.7923976608187134\n",
      "Prediction vs threshold: 0.8592 vs 0.7924\n",
      "Decision: CONTINUE\n",
      "✅ CONTINUING: 0.8592 >= 0.7924\n",
      "Trial 82, Step 4: 56 trees, OOB: 0.7860\n",
      "\n",
      "=== DEBUGGING TRIAL 82 ===\n",
      "Intermediate values: {0: 0.7408026755852842, 1: 0.7525083612040134, 2: 0.774247491638796, 3: 0.7842809364548495, 4: 0.7859531772575251}\n",
      "Current step: 4, Current value: 0.7859531772575251\n",
      "Steps for prediction: [0 1 2 3 4]\n",
      "Values for prediction: [0.74080268 0.75250836 0.77424749 0.78428094 0.78595318]\n",
      "[Debug Trial 82]: Curve fit params: a=0.8083, b=0.0692, c=0.3136\n",
      "[Debug Trial 82]: Extrapolated to step 12: 0.8067\n",
      "Predicted final performance: 0.8066537134270773\n",
      "Completed trial values: [0.7905701754385964, 0.7938596491228068, 0.797027290448343, 0.7860623781676414, 0.7928849902534112, 0.7807017543859648, 0.790204678362573, 0.7897173489278753, 0.7887426900584794, 0.7897173489278753, 0.7902046783625731, 0.7877680311890839, 0.7958089668615984, 0.7926413255360623, 0.7923976608187134, 0.7928849902534112, 0.7941033138401559, 0.7921539961013644, 0.7923976608187134, 0.7926413255360623, 0.7923976608187133, 0.7938596491228069, 0.7945906432748538, 0.7938596491228069, 0.7945906432748537]\n",
      "Threshold (quantile 0.5): 0.7923976608187134\n",
      "Prediction vs threshold: 0.8067 vs 0.7924\n",
      "Decision: CONTINUE\n",
      "✅ CONTINUING: 0.8067 >= 0.7924\n",
      "Trial 82, Step 5: 113 trees, OOB: 0.7876\n",
      "\n",
      "=== DEBUGGING TRIAL 82 ===\n",
      "Intermediate values: {0: 0.7408026755852842, 1: 0.7525083612040134, 2: 0.774247491638796, 3: 0.7842809364548495, 4: 0.7859531772575251, 5: 0.7876254180602007}\n",
      "Current step: 5, Current value: 0.7876254180602007\n",
      "Steps for prediction: [0 1 2 3 4 5]\n",
      "Values for prediction: [0.74080268 0.75250836 0.77424749 0.78428094 0.78595318 0.78762542]\n",
      "[Debug Trial 82]: Curve fit params: a=0.7973, b=0.0586, c=0.4144\n",
      "[Debug Trial 82]: Extrapolated to step 15: 0.7972\n",
      "Predicted final performance: 0.7971755964545334\n",
      "Completed trial values: [0.7905701754385964, 0.7938596491228068, 0.797027290448343, 0.7860623781676414, 0.7928849902534112, 0.7807017543859648, 0.790204678362573, 0.7897173489278753, 0.7887426900584794, 0.7897173489278753, 0.7902046783625731, 0.7877680311890839, 0.7958089668615984, 0.7926413255360623, 0.7923976608187134, 0.7928849902534112, 0.7941033138401559, 0.7921539961013644, 0.7923976608187134, 0.7926413255360623, 0.7923976608187133, 0.7938596491228069, 0.7945906432748538, 0.7938596491228069, 0.7945906432748537]\n",
      "Threshold (quantile 0.5): 0.7923976608187134\n",
      "Prediction vs threshold: 0.7972 vs 0.7924\n",
      "Decision: CONTINUE\n",
      "✅ CONTINUING: 0.7972 >= 0.7924\n",
      "Trial 82 completed with AUC: 0.7951\n",
      "Trial 83, Step 0: 2 trees, OOB: 0.7408\n",
      "\n",
      "=== DEBUGGING TRIAL 83 ===\n",
      "Intermediate values: {0: 0.7408026755852842}\n",
      "Current step: 0, Current value: 0.7408026755852842\n",
      "[Debug Trial 83]: Not enough steps (1 < 3)\n",
      "Trial 83, Step 1: 5 trees, OOB: 0.7525\n",
      "\n",
      "=== DEBUGGING TRIAL 83 ===\n",
      "Intermediate values: {0: 0.7408026755852842, 1: 0.7525083612040134}\n",
      "Current step: 1, Current value: 0.7525083612040134\n",
      "[Debug Trial 83]: Not enough steps (2 < 3)\n",
      "Trial 83, Step 2: 11 trees, OOB: 0.7742\n",
      "\n",
      "=== DEBUGGING TRIAL 83 ===\n",
      "Intermediate values: {0: 0.7408026755852842, 1: 0.7525083612040134, 2: 0.774247491638796}\n",
      "Current step: 2, Current value: 0.774247491638796\n",
      "Steps for prediction: [0 1 2]\n",
      "Values for prediction: [0.74080268 0.75250836 0.77424749]\n",
      "[Debug Trial 83]: Curve fitting failed: Optimal parameters not found: Number of calls to function has reached maxfev = 1000., using linear extrapolation\n",
      "Predicted final performance: 0.8177257525083612\n",
      "Completed trial values: [0.7905701754385964, 0.7938596491228068, 0.797027290448343, 0.7860623781676414, 0.7928849902534112, 0.7807017543859648, 0.790204678362573, 0.7897173489278753, 0.7887426900584794, 0.7897173489278753, 0.7902046783625731, 0.7877680311890839, 0.7958089668615984, 0.7926413255360623, 0.7923976608187134, 0.7928849902534112, 0.7941033138401559, 0.7921539961013644, 0.7923976608187134, 0.7926413255360623, 0.7923976608187133, 0.7938596491228069, 0.7945906432748538, 0.7938596491228069, 0.7945906432748537, 0.7950779727095516]\n",
      "Threshold (quantile 0.5): 0.7925194931773878\n",
      "Prediction vs threshold: 0.8177 vs 0.7925\n",
      "Decision: CONTINUE\n",
      "✅ CONTINUING: 0.8177 >= 0.7925\n",
      "Trial 83, Step 3: 22 trees, OOB: 0.7843\n",
      "\n",
      "=== DEBUGGING TRIAL 83 ===\n",
      "Intermediate values: {0: 0.7408026755852842, 1: 0.7525083612040134, 2: 0.774247491638796, 3: 0.7842809364548495}\n",
      "Current step: 3, Current value: 0.7842809364548495\n",
      "Steps for prediction: [0 1 2 3]\n",
      "Values for prediction: [0.74080268 0.75250836 0.77424749 0.78428094]\n",
      "[Debug Trial 83]: Curve fit params: a=1.0797, b=0.3399, c=0.0481\n",
      "[Debug Trial 83]: Extrapolated to step 9: 0.8592\n",
      "Predicted final performance: 0.8591637397121169\n",
      "Completed trial values: [0.7905701754385964, 0.7938596491228068, 0.797027290448343, 0.7860623781676414, 0.7928849902534112, 0.7807017543859648, 0.790204678362573, 0.7897173489278753, 0.7887426900584794, 0.7897173489278753, 0.7902046783625731, 0.7877680311890839, 0.7958089668615984, 0.7926413255360623, 0.7923976608187134, 0.7928849902534112, 0.7941033138401559, 0.7921539961013644, 0.7923976608187134, 0.7926413255360623, 0.7923976608187133, 0.7938596491228069, 0.7945906432748538, 0.7938596491228069, 0.7945906432748537, 0.7950779727095516]\n",
      "Threshold (quantile 0.5): 0.7925194931773878\n",
      "Prediction vs threshold: 0.8592 vs 0.7925\n",
      "Decision: CONTINUE\n",
      "✅ CONTINUING: 0.8592 >= 0.7925\n",
      "Trial 83, Step 4: 57 trees, OOB: 0.7876\n",
      "\n",
      "=== DEBUGGING TRIAL 83 ===\n",
      "Intermediate values: {0: 0.7408026755852842, 1: 0.7525083612040134, 2: 0.774247491638796, 3: 0.7842809364548495, 4: 0.7876254180602007}\n",
      "Current step: 4, Current value: 0.7876254180602007\n",
      "Steps for prediction: [0 1 2 3 4]\n",
      "Values for prediction: [0.74080268 0.75250836 0.77424749 0.78428094 0.78762542]\n",
      "[Debug Trial 83]: Curve fit params: a=0.8146, b=0.0755, c=0.2782\n",
      "[Debug Trial 83]: Extrapolated to step 12: 0.8119\n",
      "Predicted final performance: 0.8118980840555844\n",
      "Completed trial values: [0.7905701754385964, 0.7938596491228068, 0.797027290448343, 0.7860623781676414, 0.7928849902534112, 0.7807017543859648, 0.790204678362573, 0.7897173489278753, 0.7887426900584794, 0.7897173489278753, 0.7902046783625731, 0.7877680311890839, 0.7958089668615984, 0.7926413255360623, 0.7923976608187134, 0.7928849902534112, 0.7941033138401559, 0.7921539961013644, 0.7923976608187134, 0.7926413255360623, 0.7923976608187133, 0.7938596491228069, 0.7945906432748538, 0.7938596491228069, 0.7945906432748537, 0.7950779727095516]\n",
      "Threshold (quantile 0.5): 0.7925194931773878\n",
      "Prediction vs threshold: 0.8119 vs 0.7925\n",
      "Decision: CONTINUE\n",
      "✅ CONTINUING: 0.8119 >= 0.7925\n",
      "Trial 83, Step 5: 114 trees, OOB: 0.7876\n",
      "\n",
      "=== DEBUGGING TRIAL 83 ===\n",
      "Intermediate values: {0: 0.7408026755852842, 1: 0.7525083612040134, 2: 0.774247491638796, 3: 0.7842809364548495, 4: 0.7876254180602007, 5: 0.7876254180602007}\n",
      "Current step: 5, Current value: 0.7876254180602007\n",
      "Steps for prediction: [0 1 2 3 4 5]\n",
      "Values for prediction: [0.74080268 0.75250836 0.77424749 0.78428094 0.78762542 0.78762542]\n",
      "[Debug Trial 83]: Curve fit params: a=0.7984, b=0.0597, c=0.4072\n",
      "[Debug Trial 83]: Extrapolated to step 15: 0.7982\n",
      "Predicted final performance: 0.7982211923054937\n",
      "Completed trial values: [0.7905701754385964, 0.7938596491228068, 0.797027290448343, 0.7860623781676414, 0.7928849902534112, 0.7807017543859648, 0.790204678362573, 0.7897173489278753, 0.7887426900584794, 0.7897173489278753, 0.7902046783625731, 0.7877680311890839, 0.7958089668615984, 0.7926413255360623, 0.7923976608187134, 0.7928849902534112, 0.7941033138401559, 0.7921539961013644, 0.7923976608187134, 0.7926413255360623, 0.7923976608187133, 0.7938596491228069, 0.7945906432748538, 0.7938596491228069, 0.7945906432748537, 0.7950779727095516]\n",
      "Threshold (quantile 0.5): 0.7925194931773878\n",
      "Prediction vs threshold: 0.7982 vs 0.7925\n",
      "Decision: CONTINUE\n",
      "✅ CONTINUING: 0.7982 >= 0.7925\n",
      "Trial 83 completed with AUC: 0.7946\n",
      "Trial 84, Step 0: 2 trees, OOB: 0.7408\n",
      "\n",
      "=== DEBUGGING TRIAL 84 ===\n",
      "Intermediate values: {0: 0.7408026755852842}\n",
      "Current step: 0, Current value: 0.7408026755852842\n",
      "[Debug Trial 84]: Not enough steps (1 < 3)\n",
      "Trial 84, Step 1: 5 trees, OOB: 0.7525\n",
      "\n",
      "=== DEBUGGING TRIAL 84 ===\n",
      "Intermediate values: {0: 0.7408026755852842, 1: 0.7525083612040134}\n",
      "Current step: 1, Current value: 0.7525083612040134\n",
      "[Debug Trial 84]: Not enough steps (2 < 3)\n",
      "Trial 84, Step 2: 11 trees, OOB: 0.7742\n",
      "\n",
      "=== DEBUGGING TRIAL 84 ===\n",
      "Intermediate values: {0: 0.7408026755852842, 1: 0.7525083612040134, 2: 0.774247491638796}\n",
      "Current step: 2, Current value: 0.774247491638796\n",
      "Steps for prediction: [0 1 2]\n",
      "Values for prediction: [0.74080268 0.75250836 0.77424749]\n",
      "[Debug Trial 84]: Curve fitting failed: Optimal parameters not found: Number of calls to function has reached maxfev = 1000., using linear extrapolation\n",
      "Predicted final performance: 0.8177257525083612\n",
      "Completed trial values: [0.7905701754385964, 0.7938596491228068, 0.797027290448343, 0.7860623781676414, 0.7928849902534112, 0.7807017543859648, 0.790204678362573, 0.7897173489278753, 0.7887426900584794, 0.7897173489278753, 0.7902046783625731, 0.7877680311890839, 0.7958089668615984, 0.7926413255360623, 0.7923976608187134, 0.7928849902534112, 0.7941033138401559, 0.7921539961013644, 0.7923976608187134, 0.7926413255360623, 0.7923976608187133, 0.7938596491228069, 0.7945906432748538, 0.7938596491228069, 0.7945906432748537, 0.7950779727095516, 0.7945906432748536]\n",
      "Threshold (quantile 0.5): 0.7926413255360623\n",
      "Prediction vs threshold: 0.8177 vs 0.7926\n",
      "Decision: CONTINUE\n",
      "✅ CONTINUING: 0.8177 >= 0.7926\n",
      "Trial 84, Step 3: 22 trees, OOB: 0.7843\n",
      "\n",
      "=== DEBUGGING TRIAL 84 ===\n",
      "Intermediate values: {0: 0.7408026755852842, 1: 0.7525083612040134, 2: 0.774247491638796, 3: 0.7842809364548495}\n",
      "Current step: 3, Current value: 0.7842809364548495\n",
      "Steps for prediction: [0 1 2 3]\n",
      "Values for prediction: [0.74080268 0.75250836 0.77424749 0.78428094]\n",
      "[Debug Trial 84]: Curve fit params: a=1.0797, b=0.3399, c=0.0481\n",
      "[Debug Trial 84]: Extrapolated to step 9: 0.8592\n",
      "Predicted final performance: 0.8591637397121169\n",
      "Completed trial values: [0.7905701754385964, 0.7938596491228068, 0.797027290448343, 0.7860623781676414, 0.7928849902534112, 0.7807017543859648, 0.790204678362573, 0.7897173489278753, 0.7887426900584794, 0.7897173489278753, 0.7902046783625731, 0.7877680311890839, 0.7958089668615984, 0.7926413255360623, 0.7923976608187134, 0.7928849902534112, 0.7941033138401559, 0.7921539961013644, 0.7923976608187134, 0.7926413255360623, 0.7923976608187133, 0.7938596491228069, 0.7945906432748538, 0.7938596491228069, 0.7945906432748537, 0.7950779727095516, 0.7945906432748536]\n",
      "Threshold (quantile 0.5): 0.7926413255360623\n",
      "Prediction vs threshold: 0.8592 vs 0.7926\n",
      "Decision: CONTINUE\n",
      "✅ CONTINUING: 0.8592 >= 0.7926\n",
      "Trial 84, Step 4: 57 trees, OOB: 0.7876\n",
      "\n",
      "=== DEBUGGING TRIAL 84 ===\n",
      "Intermediate values: {0: 0.7408026755852842, 1: 0.7525083612040134, 2: 0.774247491638796, 3: 0.7842809364548495, 4: 0.7876254180602007}\n",
      "Current step: 4, Current value: 0.7876254180602007\n",
      "Steps for prediction: [0 1 2 3 4]\n",
      "Values for prediction: [0.74080268 0.75250836 0.77424749 0.78428094 0.78762542]\n",
      "[Debug Trial 84]: Curve fit params: a=0.8146, b=0.0755, c=0.2782\n",
      "[Debug Trial 84]: Extrapolated to step 12: 0.8119\n",
      "Predicted final performance: 0.8118980840555844\n",
      "Completed trial values: [0.7905701754385964, 0.7938596491228068, 0.797027290448343, 0.7860623781676414, 0.7928849902534112, 0.7807017543859648, 0.790204678362573, 0.7897173489278753, 0.7887426900584794, 0.7897173489278753, 0.7902046783625731, 0.7877680311890839, 0.7958089668615984, 0.7926413255360623, 0.7923976608187134, 0.7928849902534112, 0.7941033138401559, 0.7921539961013644, 0.7923976608187134, 0.7926413255360623, 0.7923976608187133, 0.7938596491228069, 0.7945906432748538, 0.7938596491228069, 0.7945906432748537, 0.7950779727095516, 0.7945906432748536]\n",
      "Threshold (quantile 0.5): 0.7926413255360623\n",
      "Prediction vs threshold: 0.8119 vs 0.7926\n",
      "Decision: CONTINUE\n",
      "✅ CONTINUING: 0.8119 >= 0.7926\n",
      "Trial 84, Step 5: 114 trees, OOB: 0.7876\n",
      "\n",
      "=== DEBUGGING TRIAL 84 ===\n",
      "Intermediate values: {0: 0.7408026755852842, 1: 0.7525083612040134, 2: 0.774247491638796, 3: 0.7842809364548495, 4: 0.7876254180602007, 5: 0.7876254180602007}\n",
      "Current step: 5, Current value: 0.7876254180602007\n",
      "Steps for prediction: [0 1 2 3 4 5]\n",
      "Values for prediction: [0.74080268 0.75250836 0.77424749 0.78428094 0.78762542 0.78762542]\n",
      "[Debug Trial 84]: Curve fit params: a=0.7984, b=0.0597, c=0.4072\n",
      "[Debug Trial 84]: Extrapolated to step 15: 0.7982\n",
      "Predicted final performance: 0.7982211923054937\n",
      "Completed trial values: [0.7905701754385964, 0.7938596491228068, 0.797027290448343, 0.7860623781676414, 0.7928849902534112, 0.7807017543859648, 0.790204678362573, 0.7897173489278753, 0.7887426900584794, 0.7897173489278753, 0.7902046783625731, 0.7877680311890839, 0.7958089668615984, 0.7926413255360623, 0.7923976608187134, 0.7928849902534112, 0.7941033138401559, 0.7921539961013644, 0.7923976608187134, 0.7926413255360623, 0.7923976608187133, 0.7938596491228069, 0.7945906432748538, 0.7938596491228069, 0.7945906432748537, 0.7950779727095516, 0.7945906432748536]\n",
      "Threshold (quantile 0.5): 0.7926413255360623\n",
      "Prediction vs threshold: 0.7982 vs 0.7926\n",
      "Decision: CONTINUE\n",
      "✅ CONTINUING: 0.7982 >= 0.7926\n",
      "Trial 84 completed with AUC: 0.7946\n",
      "Trial 85, Step 0: 2 trees, OOB: 0.7408\n",
      "\n",
      "=== DEBUGGING TRIAL 85 ===\n",
      "Intermediate values: {0: 0.7408026755852842}\n",
      "Current step: 0, Current value: 0.7408026755852842\n",
      "[Debug Trial 85]: Not enough steps (1 < 3)\n",
      "Trial 85, Step 1: 5 trees, OOB: 0.7525\n",
      "\n",
      "=== DEBUGGING TRIAL 85 ===\n",
      "Intermediate values: {0: 0.7408026755852842, 1: 0.7525083612040134}\n",
      "Current step: 1, Current value: 0.7525083612040134\n",
      "[Debug Trial 85]: Not enough steps (2 < 3)\n",
      "Trial 85, Step 2: 11 trees, OOB: 0.7742\n",
      "\n",
      "=== DEBUGGING TRIAL 85 ===\n",
      "Intermediate values: {0: 0.7408026755852842, 1: 0.7525083612040134, 2: 0.774247491638796}\n",
      "Current step: 2, Current value: 0.774247491638796\n",
      "Steps for prediction: [0 1 2]\n",
      "Values for prediction: [0.74080268 0.75250836 0.77424749]\n",
      "[Debug Trial 85]: Curve fitting failed: Optimal parameters not found: Number of calls to function has reached maxfev = 1000., using linear extrapolation\n",
      "Predicted final performance: 0.8177257525083612\n",
      "Completed trial values: [0.7905701754385964, 0.7938596491228068, 0.797027290448343, 0.7860623781676414, 0.7928849902534112, 0.7807017543859648, 0.790204678362573, 0.7897173489278753, 0.7887426900584794, 0.7897173489278753, 0.7902046783625731, 0.7877680311890839, 0.7958089668615984, 0.7926413255360623, 0.7923976608187134, 0.7928849902534112, 0.7941033138401559, 0.7921539961013644, 0.7923976608187134, 0.7926413255360623, 0.7923976608187133, 0.7938596491228069, 0.7945906432748538, 0.7938596491228069, 0.7945906432748537, 0.7950779727095516, 0.7945906432748536, 0.7945906432748536]\n",
      "Threshold (quantile 0.5): 0.7926413255360623\n",
      "Prediction vs threshold: 0.8177 vs 0.7926\n",
      "Decision: CONTINUE\n",
      "✅ CONTINUING: 0.8177 >= 0.7926\n",
      "Trial 85, Step 3: 23 trees, OOB: 0.7860\n",
      "\n",
      "=== DEBUGGING TRIAL 85 ===\n",
      "Intermediate values: {0: 0.7408026755852842, 1: 0.7525083612040134, 2: 0.774247491638796, 3: 0.7859531772575251}\n",
      "Current step: 3, Current value: 0.7859531772575251\n",
      "Steps for prediction: [0 1 2 3]\n",
      "Values for prediction: [0.74080268 0.75250836 0.77424749 0.78595318]\n",
      "[Debug Trial 85]: Curve fitting failed: Optimal parameters not found: Number of calls to function has reached maxfev = 1000., using linear extrapolation\n",
      "Predicted final performance: 0.8210702341137124\n",
      "Completed trial values: [0.7905701754385964, 0.7938596491228068, 0.797027290448343, 0.7860623781676414, 0.7928849902534112, 0.7807017543859648, 0.790204678362573, 0.7897173489278753, 0.7887426900584794, 0.7897173489278753, 0.7902046783625731, 0.7877680311890839, 0.7958089668615984, 0.7926413255360623, 0.7923976608187134, 0.7928849902534112, 0.7941033138401559, 0.7921539961013644, 0.7923976608187134, 0.7926413255360623, 0.7923976608187133, 0.7938596491228069, 0.7945906432748538, 0.7938596491228069, 0.7945906432748537, 0.7950779727095516, 0.7945906432748536, 0.7945906432748536]\n",
      "Threshold (quantile 0.5): 0.7926413255360623\n",
      "Prediction vs threshold: 0.8211 vs 0.7926\n",
      "Decision: CONTINUE\n",
      "✅ CONTINUING: 0.8211 >= 0.7926\n",
      "Trial 85, Step 4: 58 trees, OOB: 0.7876\n",
      "\n",
      "=== DEBUGGING TRIAL 85 ===\n",
      "Intermediate values: {0: 0.7408026755852842, 1: 0.7525083612040134, 2: 0.774247491638796, 3: 0.7859531772575251, 4: 0.7876254180602007}\n",
      "Current step: 4, Current value: 0.7876254180602007\n",
      "Steps for prediction: [0 1 2 3 4]\n",
      "Values for prediction: [0.74080268 0.75250836 0.77424749 0.78595318 0.78762542]\n",
      "[Debug Trial 85]: Curve fit params: a=0.8146, b=0.0757, c=0.2842\n",
      "[Debug Trial 85]: Extrapolated to step 12: 0.8121\n",
      "Predicted final performance: 0.8121275350001278\n",
      "Completed trial values: [0.7905701754385964, 0.7938596491228068, 0.797027290448343, 0.7860623781676414, 0.7928849902534112, 0.7807017543859648, 0.790204678362573, 0.7897173489278753, 0.7887426900584794, 0.7897173489278753, 0.7902046783625731, 0.7877680311890839, 0.7958089668615984, 0.7926413255360623, 0.7923976608187134, 0.7928849902534112, 0.7941033138401559, 0.7921539961013644, 0.7923976608187134, 0.7926413255360623, 0.7923976608187133, 0.7938596491228069, 0.7945906432748538, 0.7938596491228069, 0.7945906432748537, 0.7950779727095516, 0.7945906432748536, 0.7945906432748536]\n",
      "Threshold (quantile 0.5): 0.7926413255360623\n",
      "Prediction vs threshold: 0.8121 vs 0.7926\n",
      "Decision: CONTINUE\n",
      "✅ CONTINUING: 0.8121 >= 0.7926\n",
      "Trial 85, Step 5: 117 trees, OOB: 0.7876\n",
      "\n",
      "=== DEBUGGING TRIAL 85 ===\n",
      "Intermediate values: {0: 0.7408026755852842, 1: 0.7525083612040134, 2: 0.774247491638796, 3: 0.7859531772575251, 4: 0.7876254180602007, 5: 0.7876254180602007}\n",
      "Current step: 5, Current value: 0.7876254180602007\n",
      "Steps for prediction: [0 1 2 3 4 5]\n",
      "Values for prediction: [0.74080268 0.75250836 0.77424749 0.78595318 0.78762542 0.78762542]\n",
      "[Debug Trial 85]: Curve fit params: a=0.7982, b=0.0597, c=0.4188\n",
      "[Debug Trial 85]: Extrapolated to step 15: 0.7981\n",
      "Predicted final performance: 0.7980645418691367\n",
      "Completed trial values: [0.7905701754385964, 0.7938596491228068, 0.797027290448343, 0.7860623781676414, 0.7928849902534112, 0.7807017543859648, 0.790204678362573, 0.7897173489278753, 0.7887426900584794, 0.7897173489278753, 0.7902046783625731, 0.7877680311890839, 0.7958089668615984, 0.7926413255360623, 0.7923976608187134, 0.7928849902534112, 0.7941033138401559, 0.7921539961013644, 0.7923976608187134, 0.7926413255360623, 0.7923976608187133, 0.7938596491228069, 0.7945906432748538, 0.7938596491228069, 0.7945906432748537, 0.7950779727095516, 0.7945906432748536, 0.7945906432748536]\n",
      "Threshold (quantile 0.5): 0.7926413255360623\n",
      "Prediction vs threshold: 0.7981 vs 0.7926\n",
      "Decision: CONTINUE\n",
      "✅ CONTINUING: 0.7981 >= 0.7926\n",
      "Trial 85 completed with AUC: 0.7948\n",
      "Trial 86, Step 0: 2 trees, OOB: 0.7408\n",
      "\n",
      "=== DEBUGGING TRIAL 86 ===\n",
      "Intermediate values: {0: 0.7408026755852842}\n",
      "Current step: 0, Current value: 0.7408026755852842\n",
      "[Debug Trial 86]: Not enough steps (1 < 3)\n",
      "Trial 86, Step 1: 5 trees, OOB: 0.7525\n",
      "\n",
      "=== DEBUGGING TRIAL 86 ===\n",
      "Intermediate values: {0: 0.7408026755852842, 1: 0.7525083612040134}\n",
      "Current step: 1, Current value: 0.7525083612040134\n",
      "[Debug Trial 86]: Not enough steps (2 < 3)\n",
      "Trial 86, Step 2: 11 trees, OOB: 0.7742\n",
      "\n",
      "=== DEBUGGING TRIAL 86 ===\n",
      "Intermediate values: {0: 0.7408026755852842, 1: 0.7525083612040134, 2: 0.774247491638796}\n",
      "Current step: 2, Current value: 0.774247491638796\n",
      "Steps for prediction: [0 1 2]\n",
      "Values for prediction: [0.74080268 0.75250836 0.77424749]\n",
      "[Debug Trial 86]: Curve fitting failed: Optimal parameters not found: Number of calls to function has reached maxfev = 1000., using linear extrapolation\n",
      "Predicted final performance: 0.8177257525083612\n",
      "Completed trial values: [0.7905701754385964, 0.7938596491228068, 0.797027290448343, 0.7860623781676414, 0.7928849902534112, 0.7807017543859648, 0.790204678362573, 0.7897173489278753, 0.7887426900584794, 0.7897173489278753, 0.7902046783625731, 0.7877680311890839, 0.7958089668615984, 0.7926413255360623, 0.7923976608187134, 0.7928849902534112, 0.7941033138401559, 0.7921539961013644, 0.7923976608187134, 0.7926413255360623, 0.7923976608187133, 0.7938596491228069, 0.7945906432748538, 0.7938596491228069, 0.7945906432748537, 0.7950779727095516, 0.7945906432748536, 0.7945906432748536, 0.7948343079922026]\n",
      "Threshold (quantile 0.5): 0.7926413255360623\n",
      "Prediction vs threshold: 0.8177 vs 0.7926\n",
      "Decision: CONTINUE\n",
      "✅ CONTINUING: 0.8177 >= 0.7926\n",
      "Trial 86, Step 3: 23 trees, OOB: 0.7860\n",
      "\n",
      "=== DEBUGGING TRIAL 86 ===\n",
      "Intermediate values: {0: 0.7408026755852842, 1: 0.7525083612040134, 2: 0.774247491638796, 3: 0.7859531772575251}\n",
      "Current step: 3, Current value: 0.7859531772575251\n",
      "Steps for prediction: [0 1 2 3]\n",
      "Values for prediction: [0.74080268 0.75250836 0.77424749 0.78595318]\n",
      "[Debug Trial 86]: Curve fitting failed: Optimal parameters not found: Number of calls to function has reached maxfev = 1000., using linear extrapolation\n",
      "Predicted final performance: 0.8210702341137124\n",
      "Completed trial values: [0.7905701754385964, 0.7938596491228068, 0.797027290448343, 0.7860623781676414, 0.7928849902534112, 0.7807017543859648, 0.790204678362573, 0.7897173489278753, 0.7887426900584794, 0.7897173489278753, 0.7902046783625731, 0.7877680311890839, 0.7958089668615984, 0.7926413255360623, 0.7923976608187134, 0.7928849902534112, 0.7941033138401559, 0.7921539961013644, 0.7923976608187134, 0.7926413255360623, 0.7923976608187133, 0.7938596491228069, 0.7945906432748538, 0.7938596491228069, 0.7945906432748537, 0.7950779727095516, 0.7945906432748536, 0.7945906432748536, 0.7948343079922026]\n",
      "Threshold (quantile 0.5): 0.7926413255360623\n",
      "Prediction vs threshold: 0.8211 vs 0.7926\n",
      "Decision: CONTINUE\n",
      "✅ CONTINUING: 0.8211 >= 0.7926\n",
      "Trial 86, Step 4: 59 trees, OOB: 0.7893\n",
      "\n",
      "=== DEBUGGING TRIAL 86 ===\n",
      "Intermediate values: {0: 0.7408026755852842, 1: 0.7525083612040134, 2: 0.774247491638796, 3: 0.7859531772575251, 4: 0.7892976588628763}\n",
      "Current step: 4, Current value: 0.7892976588628763\n",
      "Steps for prediction: [0 1 2 3 4]\n",
      "Values for prediction: [0.74080268 0.75250836 0.77424749 0.78595318 0.78929766]\n",
      "[Debug Trial 86]: Curve fit params: a=0.8221, b=0.0831, c=0.2505\n",
      "[Debug Trial 86]: Extrapolated to step 12: 0.8180\n",
      "Predicted final performance: 0.8180233758555265\n",
      "Completed trial values: [0.7905701754385964, 0.7938596491228068, 0.797027290448343, 0.7860623781676414, 0.7928849902534112, 0.7807017543859648, 0.790204678362573, 0.7897173489278753, 0.7887426900584794, 0.7897173489278753, 0.7902046783625731, 0.7877680311890839, 0.7958089668615984, 0.7926413255360623, 0.7923976608187134, 0.7928849902534112, 0.7941033138401559, 0.7921539961013644, 0.7923976608187134, 0.7926413255360623, 0.7923976608187133, 0.7938596491228069, 0.7945906432748538, 0.7938596491228069, 0.7945906432748537, 0.7950779727095516, 0.7945906432748536, 0.7945906432748536, 0.7948343079922026]\n",
      "Threshold (quantile 0.5): 0.7926413255360623\n",
      "Prediction vs threshold: 0.8180 vs 0.7926\n",
      "Decision: CONTINUE\n",
      "✅ CONTINUING: 0.8180 >= 0.7926\n",
      "Trial 86, Step 5: 119 trees, OOB: 0.7876\n",
      "\n",
      "=== DEBUGGING TRIAL 86 ===\n",
      "Intermediate values: {0: 0.7408026755852842, 1: 0.7525083612040134, 2: 0.774247491638796, 3: 0.7859531772575251, 4: 0.7892976588628763, 5: 0.7876254180602007}\n",
      "Current step: 5, Current value: 0.7876254180602007\n",
      "Steps for prediction: [0 1 2 3 4 5]\n",
      "Values for prediction: [0.74080268 0.75250836 0.77424749 0.78595318 0.78929766 0.78762542]\n",
      "[Debug Trial 86]: Curve fit params: a=0.7992, b=0.0608, c=0.4119\n",
      "[Debug Trial 86]: Extrapolated to step 15: 0.7991\n",
      "Predicted final performance: 0.7990933985991108\n",
      "Completed trial values: [0.7905701754385964, 0.7938596491228068, 0.797027290448343, 0.7860623781676414, 0.7928849902534112, 0.7807017543859648, 0.790204678362573, 0.7897173489278753, 0.7887426900584794, 0.7897173489278753, 0.7902046783625731, 0.7877680311890839, 0.7958089668615984, 0.7926413255360623, 0.7923976608187134, 0.7928849902534112, 0.7941033138401559, 0.7921539961013644, 0.7923976608187134, 0.7926413255360623, 0.7923976608187133, 0.7938596491228069, 0.7945906432748538, 0.7938596491228069, 0.7945906432748537, 0.7950779727095516, 0.7945906432748536, 0.7945906432748536, 0.7948343079922026]\n",
      "Threshold (quantile 0.5): 0.7926413255360623\n",
      "Prediction vs threshold: 0.7991 vs 0.7926\n",
      "Decision: CONTINUE\n",
      "✅ CONTINUING: 0.7991 >= 0.7926\n",
      "Trial 86 completed with AUC: 0.7946\n",
      "Trial 87, Step 0: 2 trees, OOB: 0.7408\n",
      "\n",
      "=== DEBUGGING TRIAL 87 ===\n",
      "Intermediate values: {0: 0.7408026755852842}\n",
      "Current step: 0, Current value: 0.7408026755852842\n",
      "[Debug Trial 87]: Not enough steps (1 < 3)\n",
      "Trial 87, Step 1: 5 trees, OOB: 0.7492\n",
      "\n",
      "=== DEBUGGING TRIAL 87 ===\n",
      "Intermediate values: {0: 0.7408026755852842, 1: 0.7491638795986622}\n",
      "Current step: 1, Current value: 0.7491638795986622\n",
      "[Debug Trial 87]: Not enough steps (2 < 3)\n",
      "Trial 87, Step 2: 11 trees, OOB: 0.7759\n",
      "\n",
      "=== DEBUGGING TRIAL 87 ===\n",
      "Intermediate values: {0: 0.7408026755852842, 1: 0.7491638795986622, 2: 0.7759197324414716}\n",
      "Current step: 2, Current value: 0.7759197324414716\n",
      "Steps for prediction: [0 1 2]\n",
      "Values for prediction: [0.74080268 0.74916388 0.77591973]\n",
      "[Debug Trial 87]: Curve fit params: a=153.5694, b=152.8317, c=0.0001\n",
      "[Debug Trial 87]: Extrapolated to step 6: 0.8431\n",
      "Predicted final performance: 0.8430609144890582\n",
      "Completed trial values: [0.7905701754385964, 0.7938596491228068, 0.797027290448343, 0.7860623781676414, 0.7928849902534112, 0.7807017543859648, 0.790204678362573, 0.7897173489278753, 0.7887426900584794, 0.7897173489278753, 0.7902046783625731, 0.7877680311890839, 0.7958089668615984, 0.7926413255360623, 0.7923976608187134, 0.7928849902534112, 0.7941033138401559, 0.7921539961013644, 0.7923976608187134, 0.7926413255360623, 0.7923976608187133, 0.7938596491228069, 0.7945906432748538, 0.7938596491228069, 0.7945906432748537, 0.7950779727095516, 0.7945906432748536, 0.7945906432748536, 0.7948343079922026, 0.7945906432748537]\n",
      "Threshold (quantile 0.5): 0.7927631578947367\n",
      "Prediction vs threshold: 0.8431 vs 0.7928\n",
      "Decision: CONTINUE\n",
      "✅ CONTINUING: 0.8431 >= 0.7928\n",
      "Trial 87, Step 3: 22 trees, OOB: 0.7893\n",
      "\n",
      "=== DEBUGGING TRIAL 87 ===\n",
      "Intermediate values: {0: 0.7408026755852842, 1: 0.7491638795986622, 2: 0.7759197324414716, 3: 0.7892976588628763}\n",
      "Current step: 3, Current value: 0.7892976588628763\n",
      "Steps for prediction: [0 1 2 3]\n",
      "Values for prediction: [0.74080268 0.74916388 0.77591973 0.78929766]\n",
      "[Debug Trial 87]: Curve fitting failed: Optimal parameters not found: Number of calls to function has reached maxfev = 1000., using linear extrapolation\n",
      "Predicted final performance: 0.8294314381270903\n",
      "Completed trial values: [0.7905701754385964, 0.7938596491228068, 0.797027290448343, 0.7860623781676414, 0.7928849902534112, 0.7807017543859648, 0.790204678362573, 0.7897173489278753, 0.7887426900584794, 0.7897173489278753, 0.7902046783625731, 0.7877680311890839, 0.7958089668615984, 0.7926413255360623, 0.7923976608187134, 0.7928849902534112, 0.7941033138401559, 0.7921539961013644, 0.7923976608187134, 0.7926413255360623, 0.7923976608187133, 0.7938596491228069, 0.7945906432748538, 0.7938596491228069, 0.7945906432748537, 0.7950779727095516, 0.7945906432748536, 0.7945906432748536, 0.7948343079922026, 0.7945906432748537]\n",
      "Threshold (quantile 0.5): 0.7927631578947367\n",
      "Prediction vs threshold: 0.8294 vs 0.7928\n",
      "Decision: CONTINUE\n",
      "✅ CONTINUING: 0.8294 >= 0.7928\n",
      "Trial 87, Step 4: 56 trees, OOB: 0.7893\n",
      "\n",
      "=== DEBUGGING TRIAL 87 ===\n",
      "Intermediate values: {0: 0.7408026755852842, 1: 0.7491638795986622, 2: 0.7759197324414716, 3: 0.7892976588628763, 4: 0.7892976588628763}\n",
      "Current step: 4, Current value: 0.7892976588628763\n",
      "Steps for prediction: [0 1 2 3 4]\n",
      "Values for prediction: [0.74080268 0.74916388 0.77591973 0.78929766 0.78929766]\n",
      "[Debug Trial 87]: Curve fit params: a=0.8263, b=0.0884, c=0.2458\n",
      "[Debug Trial 87]: Extrapolated to step 12: 0.8217\n",
      "Predicted final performance: 0.8216773865161962\n",
      "Completed trial values: [0.7905701754385964, 0.7938596491228068, 0.797027290448343, 0.7860623781676414, 0.7928849902534112, 0.7807017543859648, 0.790204678362573, 0.7897173489278753, 0.7887426900584794, 0.7897173489278753, 0.7902046783625731, 0.7877680311890839, 0.7958089668615984, 0.7926413255360623, 0.7923976608187134, 0.7928849902534112, 0.7941033138401559, 0.7921539961013644, 0.7923976608187134, 0.7926413255360623, 0.7923976608187133, 0.7938596491228069, 0.7945906432748538, 0.7938596491228069, 0.7945906432748537, 0.7950779727095516, 0.7945906432748536, 0.7945906432748536, 0.7948343079922026, 0.7945906432748537]\n",
      "Threshold (quantile 0.5): 0.7927631578947367\n",
      "Prediction vs threshold: 0.8217 vs 0.7928\n",
      "Decision: CONTINUE\n",
      "✅ CONTINUING: 0.8217 >= 0.7928\n"
     ]
    },
    {
     "name": "stderr",
     "output_type": "stream",
     "text": [
      "C:\\Users\\Obidur Rahman\\AppData\\Local\\Temp\\ipykernel_3964\\3441492807.py:144: OptimizeWarning: Covariance of the parameters could not be estimated\n",
      "  popt, _ = curve_fit(saturating_func, steps, values, p0=p0, maxfev=1000)\n"
     ]
    },
    {
     "name": "stdout",
     "output_type": "stream",
     "text": [
      "Trial 87, Step 5: 113 trees, OOB: 0.7910\n",
      "\n",
      "=== DEBUGGING TRIAL 87 ===\n",
      "Intermediate values: {0: 0.7408026755852842, 1: 0.7491638795986622, 2: 0.7759197324414716, 3: 0.7892976588628763, 4: 0.7892976588628763, 5: 0.7909698996655519}\n",
      "Current step: 5, Current value: 0.7909698996655519\n",
      "Steps for prediction: [0 1 2 3 4 5]\n",
      "Values for prediction: [0.74080268 0.74916388 0.77591973 0.78929766 0.78929766 0.7909699 ]\n",
      "[Debug Trial 87]: Curve fit params: a=0.8048, b=0.0673, c=0.3734\n",
      "[Debug Trial 87]: Extrapolated to step 15: 0.8045\n",
      "Predicted final performance: 0.8045095067861355\n",
      "Completed trial values: [0.7905701754385964, 0.7938596491228068, 0.797027290448343, 0.7860623781676414, 0.7928849902534112, 0.7807017543859648, 0.790204678362573, 0.7897173489278753, 0.7887426900584794, 0.7897173489278753, 0.7902046783625731, 0.7877680311890839, 0.7958089668615984, 0.7926413255360623, 0.7923976608187134, 0.7928849902534112, 0.7941033138401559, 0.7921539961013644, 0.7923976608187134, 0.7926413255360623, 0.7923976608187133, 0.7938596491228069, 0.7945906432748538, 0.7938596491228069, 0.7945906432748537, 0.7950779727095516, 0.7945906432748536, 0.7945906432748536, 0.7948343079922026, 0.7945906432748537]\n",
      "Threshold (quantile 0.5): 0.7927631578947367\n",
      "Prediction vs threshold: 0.8045 vs 0.7928\n",
      "Decision: CONTINUE\n",
      "✅ CONTINUING: 0.8045 >= 0.7928\n",
      "Trial 87 completed with AUC: 0.7943\n",
      "Trial 88, Step 0: 2 trees, OOB: 0.7408\n",
      "\n",
      "=== DEBUGGING TRIAL 88 ===\n",
      "Intermediate values: {0: 0.7408026755852842}\n",
      "Current step: 0, Current value: 0.7408026755852842\n",
      "[Debug Trial 88]: Not enough steps (1 < 3)\n",
      "Trial 88, Step 1: 6 trees, OOB: 0.7592\n",
      "\n",
      "=== DEBUGGING TRIAL 88 ===\n",
      "Intermediate values: {0: 0.7408026755852842, 1: 0.7591973244147158}\n",
      "Current step: 1, Current value: 0.7591973244147158\n",
      "[Debug Trial 88]: Not enough steps (2 < 3)\n",
      "Trial 88, Step 2: 12 trees, OOB: 0.7793\n",
      "\n",
      "=== DEBUGGING TRIAL 88 ===\n",
      "Intermediate values: {0: 0.7408026755852842, 1: 0.7591973244147158, 2: 0.7792642140468228}\n",
      "Current step: 2, Current value: 0.7792642140468228\n",
      "Steps for prediction: [0 1 2]\n",
      "Values for prediction: [0.74080268 0.75919732 0.77926421]\n",
      "[Debug Trial 88]: Curve fitting failed: Optimal parameters not found: Number of calls to function has reached maxfev = 1000., using linear extrapolation\n",
      "Predicted final performance: 0.8193979933110368\n",
      "Completed trial values: [0.7905701754385964, 0.7938596491228068, 0.797027290448343, 0.7860623781676414, 0.7928849902534112, 0.7807017543859648, 0.790204678362573, 0.7897173489278753, 0.7887426900584794, 0.7897173489278753, 0.7902046783625731, 0.7877680311890839, 0.7958089668615984, 0.7926413255360623, 0.7923976608187134, 0.7928849902534112, 0.7941033138401559, 0.7921539961013644, 0.7923976608187134, 0.7926413255360623, 0.7923976608187133, 0.7938596491228069, 0.7945906432748538, 0.7938596491228069, 0.7945906432748537, 0.7950779727095516, 0.7945906432748536, 0.7945906432748536, 0.7948343079922026, 0.7945906432748537, 0.7943469785575048]\n",
      "Threshold (quantile 0.5): 0.7928849902534112\n",
      "Prediction vs threshold: 0.8194 vs 0.7929\n",
      "Decision: CONTINUE\n",
      "✅ CONTINUING: 0.8194 >= 0.7929\n",
      "Trial 88, Step 3: 24 trees, OOB: 0.7860\n",
      "\n",
      "=== DEBUGGING TRIAL 88 ===\n",
      "Intermediate values: {0: 0.7408026755852842, 1: 0.7591973244147158, 2: 0.7792642140468228, 3: 0.7859531772575251}\n",
      "Current step: 3, Current value: 0.7859531772575251\n",
      "Steps for prediction: [0 1 2 3]\n",
      "Values for prediction: [0.74080268 0.75919732 0.77926421 0.78595318]\n",
      "[Debug Trial 88]: Curve fit params: a=0.8131, b=0.0728, c=0.3441\n",
      "[Debug Trial 88]: Extrapolated to step 9: 0.8098\n",
      "Predicted final performance: 0.8097657310064268\n",
      "Completed trial values: [0.7905701754385964, 0.7938596491228068, 0.797027290448343, 0.7860623781676414, 0.7928849902534112, 0.7807017543859648, 0.790204678362573, 0.7897173489278753, 0.7887426900584794, 0.7897173489278753, 0.7902046783625731, 0.7877680311890839, 0.7958089668615984, 0.7926413255360623, 0.7923976608187134, 0.7928849902534112, 0.7941033138401559, 0.7921539961013644, 0.7923976608187134, 0.7926413255360623, 0.7923976608187133, 0.7938596491228069, 0.7945906432748538, 0.7938596491228069, 0.7945906432748537, 0.7950779727095516, 0.7945906432748536, 0.7945906432748536, 0.7948343079922026, 0.7945906432748537, 0.7943469785575048]\n",
      "Threshold (quantile 0.5): 0.7928849902534112\n",
      "Prediction vs threshold: 0.8098 vs 0.7929\n",
      "Decision: CONTINUE\n",
      "✅ CONTINUING: 0.8098 >= 0.7929\n",
      "Trial 88, Step 4: 60 trees, OOB: 0.7893\n",
      "\n",
      "=== DEBUGGING TRIAL 88 ===\n",
      "Intermediate values: {0: 0.7408026755852842, 1: 0.7591973244147158, 2: 0.7792642140468228, 3: 0.7859531772575251, 4: 0.7892976588628763}\n",
      "Current step: 4, Current value: 0.7892976588628763\n",
      "Steps for prediction: [0 1 2 3 4]\n",
      "Values for prediction: [0.74080268 0.75919732 0.77926421 0.78595318 0.78929766]\n",
      "[Debug Trial 88]: Curve fit params: a=0.7998, b=0.0599, c=0.4701\n",
      "[Debug Trial 88]: Extrapolated to step 12: 0.7996\n",
      "Predicted final performance: 0.7995652598068625\n",
      "Completed trial values: [0.7905701754385964, 0.7938596491228068, 0.797027290448343, 0.7860623781676414, 0.7928849902534112, 0.7807017543859648, 0.790204678362573, 0.7897173489278753, 0.7887426900584794, 0.7897173489278753, 0.7902046783625731, 0.7877680311890839, 0.7958089668615984, 0.7926413255360623, 0.7923976608187134, 0.7928849902534112, 0.7941033138401559, 0.7921539961013644, 0.7923976608187134, 0.7926413255360623, 0.7923976608187133, 0.7938596491228069, 0.7945906432748538, 0.7938596491228069, 0.7945906432748537, 0.7950779727095516, 0.7945906432748536, 0.7945906432748536, 0.7948343079922026, 0.7945906432748537, 0.7943469785575048]\n",
      "Threshold (quantile 0.5): 0.7928849902534112\n",
      "Prediction vs threshold: 0.7996 vs 0.7929\n",
      "Decision: CONTINUE\n",
      "✅ CONTINUING: 0.7996 >= 0.7929\n",
      "Trial 88, Step 5: 120 trees, OOB: 0.7876\n",
      "\n",
      "=== DEBUGGING TRIAL 88 ===\n",
      "Intermediate values: {0: 0.7408026755852842, 1: 0.7591973244147158, 2: 0.7792642140468228, 3: 0.7859531772575251, 4: 0.7892976588628763, 5: 0.7876254180602007}\n",
      "Current step: 5, Current value: 0.7876254180602007\n",
      "Steps for prediction: [0 1 2 3 4 5]\n",
      "Values for prediction: [0.74080268 0.75919732 0.77926421 0.78595318 0.78929766 0.78762542]\n",
      "[Debug Trial 88]: Curve fit params: a=0.7932, b=0.0537, c=0.5868\n",
      "[Debug Trial 88]: Extrapolated to step 15: 0.7932\n",
      "Predicted final performance: 0.7932385606012683\n",
      "Completed trial values: [0.7905701754385964, 0.7938596491228068, 0.797027290448343, 0.7860623781676414, 0.7928849902534112, 0.7807017543859648, 0.790204678362573, 0.7897173489278753, 0.7887426900584794, 0.7897173489278753, 0.7902046783625731, 0.7877680311890839, 0.7958089668615984, 0.7926413255360623, 0.7923976608187134, 0.7928849902534112, 0.7941033138401559, 0.7921539961013644, 0.7923976608187134, 0.7926413255360623, 0.7923976608187133, 0.7938596491228069, 0.7945906432748538, 0.7938596491228069, 0.7945906432748537, 0.7950779727095516, 0.7945906432748536, 0.7945906432748536, 0.7948343079922026, 0.7945906432748537, 0.7943469785575048]\n",
      "Threshold (quantile 0.5): 0.7928849902534112\n",
      "Prediction vs threshold: 0.7932 vs 0.7929\n",
      "Decision: CONTINUE\n",
      "✅ CONTINUING: 0.7932 >= 0.7929\n",
      "Trial 88 completed with AUC: 0.7941\n",
      "Trial 89, Step 0: 2 trees, OOB: 0.7408\n",
      "\n",
      "=== DEBUGGING TRIAL 89 ===\n",
      "Intermediate values: {0: 0.7408026755852842}\n",
      "Current step: 0, Current value: 0.7408026755852842\n",
      "[Debug Trial 89]: Not enough steps (1 < 3)\n",
      "Trial 89, Step 1: 6 trees, OOB: 0.7592\n",
      "\n",
      "=== DEBUGGING TRIAL 89 ===\n",
      "Intermediate values: {0: 0.7408026755852842, 1: 0.7591973244147158}\n",
      "Current step: 1, Current value: 0.7591973244147158\n",
      "[Debug Trial 89]: Not enough steps (2 < 3)\n",
      "Trial 89, Step 2: 12 trees, OOB: 0.7793\n",
      "\n",
      "=== DEBUGGING TRIAL 89 ===\n",
      "Intermediate values: {0: 0.7408026755852842, 1: 0.7591973244147158, 2: 0.7792642140468228}\n",
      "Current step: 2, Current value: 0.7792642140468228\n",
      "Steps for prediction: [0 1 2]\n",
      "Values for prediction: [0.74080268 0.75919732 0.77926421]\n",
      "[Debug Trial 89]: Curve fitting failed: Optimal parameters not found: Number of calls to function has reached maxfev = 1000., using linear extrapolation\n",
      "Predicted final performance: 0.8193979933110368\n",
      "Completed trial values: [0.7905701754385964, 0.7938596491228068, 0.797027290448343, 0.7860623781676414, 0.7928849902534112, 0.7807017543859648, 0.790204678362573, 0.7897173489278753, 0.7887426900584794, 0.7897173489278753, 0.7902046783625731, 0.7877680311890839, 0.7958089668615984, 0.7926413255360623, 0.7923976608187134, 0.7928849902534112, 0.7941033138401559, 0.7921539961013644, 0.7923976608187134, 0.7926413255360623, 0.7923976608187133, 0.7938596491228069, 0.7945906432748538, 0.7938596491228069, 0.7945906432748537, 0.7950779727095516, 0.7945906432748536, 0.7945906432748536, 0.7948343079922026, 0.7945906432748537, 0.7943469785575048, 0.794103313840156]\n",
      "Threshold (quantile 0.5): 0.7928849902534112\n",
      "Prediction vs threshold: 0.8194 vs 0.7929\n",
      "Decision: CONTINUE\n",
      "✅ CONTINUING: 0.8194 >= 0.7929\n",
      "Trial 89, Step 3: 25 trees, OOB: 0.7876\n",
      "\n",
      "=== DEBUGGING TRIAL 89 ===\n",
      "Intermediate values: {0: 0.7408026755852842, 1: 0.7591973244147158, 2: 0.7792642140468228, 3: 0.7876254180602007}\n",
      "Current step: 3, Current value: 0.7876254180602007\n",
      "Steps for prediction: [0 1 2 3]\n",
      "Values for prediction: [0.74080268 0.75919732 0.77926421 0.78762542]\n",
      "[Debug Trial 89]: Curve fit params: a=0.8236, b=0.0833, c=0.2891\n",
      "[Debug Trial 89]: Extrapolated to step 9: 0.8174\n",
      "Predicted final performance: 0.817424726400146\n",
      "Completed trial values: [0.7905701754385964, 0.7938596491228068, 0.797027290448343, 0.7860623781676414, 0.7928849902534112, 0.7807017543859648, 0.790204678362573, 0.7897173489278753, 0.7887426900584794, 0.7897173489278753, 0.7902046783625731, 0.7877680311890839, 0.7958089668615984, 0.7926413255360623, 0.7923976608187134, 0.7928849902534112, 0.7941033138401559, 0.7921539961013644, 0.7923976608187134, 0.7926413255360623, 0.7923976608187133, 0.7938596491228069, 0.7945906432748538, 0.7938596491228069, 0.7945906432748537, 0.7950779727095516, 0.7945906432748536, 0.7945906432748536, 0.7948343079922026, 0.7945906432748537, 0.7943469785575048, 0.794103313840156]\n",
      "Threshold (quantile 0.5): 0.7928849902534112\n",
      "Prediction vs threshold: 0.8174 vs 0.7929\n",
      "Decision: CONTINUE\n",
      "✅ CONTINUING: 0.8174 >= 0.7929\n",
      "Trial 89, Step 4: 63 trees, OOB: 0.7860\n",
      "\n",
      "=== DEBUGGING TRIAL 89 ===\n",
      "Intermediate values: {0: 0.7408026755852842, 1: 0.7591973244147158, 2: 0.7792642140468228, 3: 0.7876254180602007, 4: 0.7859531772575251}\n",
      "Current step: 4, Current value: 0.7859531772575251\n",
      "Steps for prediction: [0 1 2 3 4]\n",
      "Values for prediction: [0.74080268 0.75919732 0.77926421 0.78762542 0.78595318]\n",
      "[Debug Trial 89]: Curve fit params: a=0.7951, b=0.0554, c=0.5485\n",
      "[Debug Trial 89]: Extrapolated to step 12: 0.7951\n",
      "Predicted final performance: 0.7950610493634458\n",
      "Completed trial values: [0.7905701754385964, 0.7938596491228068, 0.797027290448343, 0.7860623781676414, 0.7928849902534112, 0.7807017543859648, 0.790204678362573, 0.7897173489278753, 0.7887426900584794, 0.7897173489278753, 0.7902046783625731, 0.7877680311890839, 0.7958089668615984, 0.7926413255360623, 0.7923976608187134, 0.7928849902534112, 0.7941033138401559, 0.7921539961013644, 0.7923976608187134, 0.7926413255360623, 0.7923976608187133, 0.7938596491228069, 0.7945906432748538, 0.7938596491228069, 0.7945906432748537, 0.7950779727095516, 0.7945906432748536, 0.7945906432748536, 0.7948343079922026, 0.7945906432748537, 0.7943469785575048, 0.794103313840156]\n",
      "Threshold (quantile 0.5): 0.7928849902534112\n",
      "Prediction vs threshold: 0.7951 vs 0.7929\n",
      "Decision: CONTINUE\n",
      "✅ CONTINUING: 0.7951 >= 0.7929\n",
      "Trial 89, Step 5: 127 trees, OOB: 0.7876\n",
      "\n",
      "=== DEBUGGING TRIAL 89 ===\n",
      "Intermediate values: {0: 0.7408026755852842, 1: 0.7591973244147158, 2: 0.7792642140468228, 3: 0.7876254180602007, 4: 0.7859531772575251, 5: 0.7876254180602007}\n",
      "Current step: 5, Current value: 0.7876254180602007\n",
      "Steps for prediction: [0 1 2 3 4 5]\n",
      "Values for prediction: [0.74080268 0.75919732 0.77926421 0.78762542 0.78595318 0.78762542]\n",
      "[Debug Trial 89]: Curve fit params: a=0.7918, b=0.0522, c=0.6215\n",
      "[Debug Trial 89]: Extrapolated to step 15: 0.7918\n",
      "Predicted final performance: 0.7917661912097942\n",
      "Completed trial values: [0.7905701754385964, 0.7938596491228068, 0.797027290448343, 0.7860623781676414, 0.7928849902534112, 0.7807017543859648, 0.790204678362573, 0.7897173489278753, 0.7887426900584794, 0.7897173489278753, 0.7902046783625731, 0.7877680311890839, 0.7958089668615984, 0.7926413255360623, 0.7923976608187134, 0.7928849902534112, 0.7941033138401559, 0.7921539961013644, 0.7923976608187134, 0.7926413255360623, 0.7923976608187133, 0.7938596491228069, 0.7945906432748538, 0.7938596491228069, 0.7945906432748537, 0.7950779727095516, 0.7945906432748536, 0.7945906432748536, 0.7948343079922026, 0.7945906432748537, 0.7943469785575048, 0.794103313840156]\n",
      "Threshold (quantile 0.5): 0.7928849902534112\n",
      "Prediction vs threshold: 0.7918 vs 0.7929\n",
      "Decision: PRUNE\n",
      "🔥 PRUNING: 0.7918 < 0.7929\n",
      "Trial 89 pruned at step 5 (127 estimators, OOB: 0.7876)\n",
      "Trial 90, Step 0: 2 trees, OOB: 0.7425\n",
      "\n",
      "=== DEBUGGING TRIAL 90 ===\n",
      "Intermediate values: {0: 0.7424749163879598}\n",
      "Current step: 0, Current value: 0.7424749163879598\n",
      "[Debug Trial 90]: Not enough steps (1 < 3)\n",
      "Trial 90, Step 1: 6 trees, OOB: 0.7559\n",
      "\n",
      "=== DEBUGGING TRIAL 90 ===\n",
      "Intermediate values: {0: 0.7424749163879598, 1: 0.7558528428093646}\n",
      "Current step: 1, Current value: 0.7558528428093646\n",
      "[Debug Trial 90]: Not enough steps (2 < 3)\n",
      "Trial 90, Step 2: 13 trees, OOB: 0.7793\n",
      "\n",
      "=== DEBUGGING TRIAL 90 ===\n",
      "Intermediate values: {0: 0.7424749163879598, 1: 0.7558528428093646, 2: 0.7792642140468228}\n",
      "Current step: 2, Current value: 0.7792642140468228\n",
      "Steps for prediction: [0 1 2]\n",
      "Values for prediction: [0.74247492 0.75585284 0.77926421]\n",
      "[Debug Trial 90]: Curve fitting failed: Optimal parameters not found: Number of calls to function has reached maxfev = 1000., using linear extrapolation\n",
      "Predicted final performance: 0.8260869565217391\n",
      "Completed trial values: [0.7905701754385964, 0.7938596491228068, 0.797027290448343, 0.7860623781676414, 0.7928849902534112, 0.7807017543859648, 0.790204678362573, 0.7897173489278753, 0.7887426900584794, 0.7897173489278753, 0.7902046783625731, 0.7877680311890839, 0.7958089668615984, 0.7926413255360623, 0.7923976608187134, 0.7928849902534112, 0.7941033138401559, 0.7921539961013644, 0.7923976608187134, 0.7926413255360623, 0.7923976608187133, 0.7938596491228069, 0.7945906432748538, 0.7938596491228069, 0.7945906432748537, 0.7950779727095516, 0.7945906432748536, 0.7945906432748536, 0.7948343079922026, 0.7945906432748537, 0.7943469785575048, 0.794103313840156]\n",
      "Threshold (quantile 0.5): 0.7928849902534112\n",
      "Prediction vs threshold: 0.8261 vs 0.7929\n",
      "Decision: CONTINUE\n",
      "✅ CONTINUING: 0.8261 >= 0.7929\n",
      "Trial 90, Step 3: 26 trees, OOB: 0.7893\n",
      "\n",
      "=== DEBUGGING TRIAL 90 ===\n",
      "Intermediate values: {0: 0.7424749163879598, 1: 0.7558528428093646, 2: 0.7792642140468228, 3: 0.7892976588628763}\n",
      "Current step: 3, Current value: 0.7892976588628763\n",
      "Steps for prediction: [0 1 2 3]\n",
      "Values for prediction: [0.74247492 0.75585284 0.77926421 0.78929766]\n",
      "[Debug Trial 90]: Curve fit params: a=0.9507, b=0.2093, c=0.0893\n",
      "[Debug Trial 90]: Extrapolated to step 9: 0.8570\n",
      "Predicted final performance: 0.856989082642744\n",
      "Completed trial values: [0.7905701754385964, 0.7938596491228068, 0.797027290448343, 0.7860623781676414, 0.7928849902534112, 0.7807017543859648, 0.790204678362573, 0.7897173489278753, 0.7887426900584794, 0.7897173489278753, 0.7902046783625731, 0.7877680311890839, 0.7958089668615984, 0.7926413255360623, 0.7923976608187134, 0.7928849902534112, 0.7941033138401559, 0.7921539961013644, 0.7923976608187134, 0.7926413255360623, 0.7923976608187133, 0.7938596491228069, 0.7945906432748538, 0.7938596491228069, 0.7945906432748537, 0.7950779727095516, 0.7945906432748536, 0.7945906432748536, 0.7948343079922026, 0.7945906432748537, 0.7943469785575048, 0.794103313840156]\n",
      "Threshold (quantile 0.5): 0.7928849902534112\n",
      "Prediction vs threshold: 0.8570 vs 0.7929\n",
      "Decision: CONTINUE\n",
      "✅ CONTINUING: 0.8570 >= 0.7929\n",
      "Trial 90, Step 4: 66 trees, OOB: 0.7893\n",
      "\n",
      "=== DEBUGGING TRIAL 90 ===\n",
      "Intermediate values: {0: 0.7424749163879598, 1: 0.7558528428093646, 2: 0.7792642140468228, 3: 0.7892976588628763, 4: 0.7892976588628763}\n",
      "Current step: 4, Current value: 0.7892976588628763\n",
      "Steps for prediction: [0 1 2 3 4]\n",
      "Values for prediction: [0.74247492 0.75585284 0.77926421 0.78929766 0.78929766]\n",
      "[Debug Trial 90]: Curve fit params: a=0.8072, b=0.0666, c=0.3764\n",
      "[Debug Trial 90]: Extrapolated to step 12: 0.8065\n",
      "Predicted final performance: 0.8064965815128745\n",
      "Completed trial values: [0.7905701754385964, 0.7938596491228068, 0.797027290448343, 0.7860623781676414, 0.7928849902534112, 0.7807017543859648, 0.790204678362573, 0.7897173489278753, 0.7887426900584794, 0.7897173489278753, 0.7902046783625731, 0.7877680311890839, 0.7958089668615984, 0.7926413255360623, 0.7923976608187134, 0.7928849902534112, 0.7941033138401559, 0.7921539961013644, 0.7923976608187134, 0.7926413255360623, 0.7923976608187133, 0.7938596491228069, 0.7945906432748538, 0.7938596491228069, 0.7945906432748537, 0.7950779727095516, 0.7945906432748536, 0.7945906432748536, 0.7948343079922026, 0.7945906432748537, 0.7943469785575048, 0.794103313840156]\n",
      "Threshold (quantile 0.5): 0.7928849902534112\n",
      "Prediction vs threshold: 0.8065 vs 0.7929\n",
      "Decision: CONTINUE\n",
      "✅ CONTINUING: 0.8065 >= 0.7929\n",
      "Trial 90, Step 5: 132 trees, OOB: 0.7893\n",
      "\n",
      "=== DEBUGGING TRIAL 90 ===\n",
      "Intermediate values: {0: 0.7424749163879598, 1: 0.7558528428093646, 2: 0.7792642140468228, 3: 0.7892976588628763, 4: 0.7892976588628763, 5: 0.7892976588628763}\n",
      "Current step: 5, Current value: 0.7892976588628763\n",
      "Steps for prediction: [0 1 2 3 4 5]\n",
      "Values for prediction: [0.74247492 0.75585284 0.77926421 0.78929766 0.78929766 0.78929766]\n",
      "[Debug Trial 90]: Curve fit params: a=0.7971, b=0.0569, c=0.4998\n",
      "[Debug Trial 90]: Extrapolated to step 15: 0.7971\n",
      "Predicted final performance: 0.7971044506374269\n",
      "Completed trial values: [0.7905701754385964, 0.7938596491228068, 0.797027290448343, 0.7860623781676414, 0.7928849902534112, 0.7807017543859648, 0.790204678362573, 0.7897173489278753, 0.7887426900584794, 0.7897173489278753, 0.7902046783625731, 0.7877680311890839, 0.7958089668615984, 0.7926413255360623, 0.7923976608187134, 0.7928849902534112, 0.7941033138401559, 0.7921539961013644, 0.7923976608187134, 0.7926413255360623, 0.7923976608187133, 0.7938596491228069, 0.7945906432748538, 0.7938596491228069, 0.7945906432748537, 0.7950779727095516, 0.7945906432748536, 0.7945906432748536, 0.7948343079922026, 0.7945906432748537, 0.7943469785575048, 0.794103313840156]\n",
      "Threshold (quantile 0.5): 0.7928849902534112\n",
      "Prediction vs threshold: 0.7971 vs 0.7929\n",
      "Decision: CONTINUE\n",
      "✅ CONTINUING: 0.7971 >= 0.7929\n",
      "Trial 90 completed with AUC: 0.7922\n",
      "Trial 91, Step 0: 2 trees, OOB: 0.7475\n",
      "\n",
      "=== DEBUGGING TRIAL 91 ===\n",
      "Intermediate values: {0: 0.7474916387959866}\n",
      "Current step: 0, Current value: 0.7474916387959866\n",
      "[Debug Trial 91]: Not enough steps (1 < 3)\n",
      "Trial 91, Step 1: 5 trees, OOB: 0.7508\n",
      "\n",
      "=== DEBUGGING TRIAL 91 ===\n",
      "Intermediate values: {0: 0.7474916387959866, 1: 0.7508361204013378}\n",
      "Current step: 1, Current value: 0.7508361204013378\n",
      "[Debug Trial 91]: Not enough steps (2 < 3)\n",
      "Trial 91, Step 2: 11 trees, OOB: 0.7676\n",
      "\n",
      "=== DEBUGGING TRIAL 91 ===\n",
      "Intermediate values: {0: 0.7474916387959866, 1: 0.7508361204013378, 2: 0.7675585284280937}\n",
      "Current step: 2, Current value: 0.7675585284280937\n",
      "Steps for prediction: [0 1 2]\n",
      "Values for prediction: [0.74749164 0.75083612 0.76755853]\n"
     ]
    },
    {
     "name": "stderr",
     "output_type": "stream",
     "text": [
      "C:\\Users\\Obidur Rahman\\AppData\\Local\\Temp\\ipykernel_3964\\3441492807.py:144: OptimizeWarning: Covariance of the parameters could not be estimated\n",
      "  popt, _ = curve_fit(saturating_func, steps, values, p0=p0, maxfev=1000)\n"
     ]
    },
    {
     "name": "stdout",
     "output_type": "stream",
     "text": [
      "[Debug Trial 91]: Curve fit params: a=99.9992, b=99.2539, c=0.0001\n",
      "[Debug Trial 91]: Extrapolated to step 6: 0.8054\n",
      "Predicted final performance: 0.8054487248557933\n",
      "Completed trial values: [0.7905701754385964, 0.7938596491228068, 0.797027290448343, 0.7860623781676414, 0.7928849902534112, 0.7807017543859648, 0.790204678362573, 0.7897173489278753, 0.7887426900584794, 0.7897173489278753, 0.7902046783625731, 0.7877680311890839, 0.7958089668615984, 0.7926413255360623, 0.7923976608187134, 0.7928849902534112, 0.7941033138401559, 0.7921539961013644, 0.7923976608187134, 0.7926413255360623, 0.7923976608187133, 0.7938596491228069, 0.7945906432748538, 0.7938596491228069, 0.7945906432748537, 0.7950779727095516, 0.7945906432748536, 0.7945906432748536, 0.7948343079922026, 0.7945906432748537, 0.7943469785575048, 0.794103313840156, 0.7921539961013645]\n",
      "Threshold (quantile 0.5): 0.7928849902534112\n",
      "Prediction vs threshold: 0.8054 vs 0.7929\n",
      "Decision: CONTINUE\n",
      "✅ CONTINUING: 0.8054 >= 0.7929\n",
      "Trial 91, Step 3: 23 trees, OOB: 0.7776\n",
      "\n",
      "=== DEBUGGING TRIAL 91 ===\n",
      "Intermediate values: {0: 0.7474916387959866, 1: 0.7508361204013378, 2: 0.7675585284280937, 3: 0.7775919732441472}\n",
      "Current step: 3, Current value: 0.7775919732441472\n",
      "Steps for prediction: [0 1 2 3]\n",
      "Values for prediction: [0.74749164 0.75083612 0.76755853 0.77759197]\n",
      "[Debug Trial 91]: Curve fitting failed: Optimal parameters not found: Number of calls to function has reached maxfev = 1000., using linear extrapolation\n",
      "Predicted final performance: 0.8076923076923077\n",
      "Completed trial values: [0.7905701754385964, 0.7938596491228068, 0.797027290448343, 0.7860623781676414, 0.7928849902534112, 0.7807017543859648, 0.790204678362573, 0.7897173489278753, 0.7887426900584794, 0.7897173489278753, 0.7902046783625731, 0.7877680311890839, 0.7958089668615984, 0.7926413255360623, 0.7923976608187134, 0.7928849902534112, 0.7941033138401559, 0.7921539961013644, 0.7923976608187134, 0.7926413255360623, 0.7923976608187133, 0.7938596491228069, 0.7945906432748538, 0.7938596491228069, 0.7945906432748537, 0.7950779727095516, 0.7945906432748536, 0.7945906432748536, 0.7948343079922026, 0.7945906432748537, 0.7943469785575048, 0.794103313840156, 0.7921539961013645]\n",
      "Threshold (quantile 0.5): 0.7928849902534112\n",
      "Prediction vs threshold: 0.8077 vs 0.7929\n",
      "Decision: CONTINUE\n",
      "✅ CONTINUING: 0.8077 >= 0.7929\n",
      "Trial 91, Step 4: 59 trees, OOB: 0.7826\n",
      "\n",
      "=== DEBUGGING TRIAL 91 ===\n",
      "Intermediate values: {0: 0.7474916387959866, 1: 0.7508361204013378, 2: 0.7675585284280937, 3: 0.7775919732441472, 4: 0.782608695652174}\n",
      "Current step: 4, Current value: 0.782608695652174\n",
      "Steps for prediction: [0 1 2 3 4]\n",
      "Values for prediction: [0.74749164 0.75083612 0.76755853 0.77759197 0.7826087 ]\n",
      "[Debug Trial 91]: Curve fit params: a=1.0052, b=0.2598, c=0.0404\n",
      "[Debug Trial 91]: Extrapolated to step 12: 0.8453\n",
      "Predicted final performance: 0.8453145426717185\n",
      "Completed trial values: [0.7905701754385964, 0.7938596491228068, 0.797027290448343, 0.7860623781676414, 0.7928849902534112, 0.7807017543859648, 0.790204678362573, 0.7897173489278753, 0.7887426900584794, 0.7897173489278753, 0.7902046783625731, 0.7877680311890839, 0.7958089668615984, 0.7926413255360623, 0.7923976608187134, 0.7928849902534112, 0.7941033138401559, 0.7921539961013644, 0.7923976608187134, 0.7926413255360623, 0.7923976608187133, 0.7938596491228069, 0.7945906432748538, 0.7938596491228069, 0.7945906432748537, 0.7950779727095516, 0.7945906432748536, 0.7945906432748536, 0.7948343079922026, 0.7945906432748537, 0.7943469785575048, 0.794103313840156, 0.7921539961013645]\n",
      "Threshold (quantile 0.5): 0.7928849902534112\n",
      "Prediction vs threshold: 0.8453 vs 0.7929\n",
      "Decision: CONTINUE\n",
      "✅ CONTINUING: 0.8453 >= 0.7929\n",
      "Trial 91, Step 5: 118 trees, OOB: 0.7793\n",
      "\n",
      "=== DEBUGGING TRIAL 91 ===\n",
      "Intermediate values: {0: 0.7474916387959866, 1: 0.7508361204013378, 2: 0.7675585284280937, 3: 0.7775919732441472, 4: 0.782608695652174, 5: 0.7792642140468228}\n",
      "Current step: 5, Current value: 0.7792642140468228\n",
      "Steps for prediction: [0 1 2 3 4 5]\n",
      "Values for prediction: [0.74749164 0.75083612 0.76755853 0.77759197 0.7826087  0.77926421]\n",
      "[Debug Trial 91]: Curve fit params: a=0.7954, b=0.0507, c=0.2868\n",
      "[Debug Trial 91]: Extrapolated to step 15: 0.7947\n",
      "Predicted final performance: 0.7947120070975525\n",
      "Completed trial values: [0.7905701754385964, 0.7938596491228068, 0.797027290448343, 0.7860623781676414, 0.7928849902534112, 0.7807017543859648, 0.790204678362573, 0.7897173489278753, 0.7887426900584794, 0.7897173489278753, 0.7902046783625731, 0.7877680311890839, 0.7958089668615984, 0.7926413255360623, 0.7923976608187134, 0.7928849902534112, 0.7941033138401559, 0.7921539961013644, 0.7923976608187134, 0.7926413255360623, 0.7923976608187133, 0.7938596491228069, 0.7945906432748538, 0.7938596491228069, 0.7945906432748537, 0.7950779727095516, 0.7945906432748536, 0.7945906432748536, 0.7948343079922026, 0.7945906432748537, 0.7943469785575048, 0.794103313840156, 0.7921539961013645]\n",
      "Threshold (quantile 0.5): 0.7928849902534112\n",
      "Prediction vs threshold: 0.7947 vs 0.7929\n",
      "Decision: CONTINUE\n",
      "✅ CONTINUING: 0.7947 >= 0.7929\n",
      "Trial 91 completed with AUC: 0.7931\n",
      "Trial 92, Step 0: 2 trees, OOB: 0.7408\n",
      "\n",
      "=== DEBUGGING TRIAL 92 ===\n",
      "Intermediate values: {0: 0.7408026755852842}\n",
      "Current step: 0, Current value: 0.7408026755852842\n",
      "[Debug Trial 92]: Not enough steps (1 < 3)\n",
      "Trial 92, Step 1: 5 trees, OOB: 0.7492\n",
      "\n",
      "=== DEBUGGING TRIAL 92 ===\n",
      "Intermediate values: {0: 0.7408026755852842, 1: 0.7491638795986622}\n",
      "Current step: 1, Current value: 0.7491638795986622\n",
      "[Debug Trial 92]: Not enough steps (2 < 3)\n",
      "Trial 92, Step 2: 11 trees, OOB: 0.7759\n",
      "\n",
      "=== DEBUGGING TRIAL 92 ===\n",
      "Intermediate values: {0: 0.7408026755852842, 1: 0.7491638795986622, 2: 0.7759197324414716}\n",
      "Current step: 2, Current value: 0.7759197324414716\n",
      "Steps for prediction: [0 1 2]\n",
      "Values for prediction: [0.74080268 0.74916388 0.77591973]\n",
      "[Debug Trial 92]: Curve fit params: a=153.5694, b=152.8317, c=0.0001\n",
      "[Debug Trial 92]: Extrapolated to step 6: 0.8431\n",
      "Predicted final performance: 0.8430609144890582\n",
      "Completed trial values: [0.7905701754385964, 0.7938596491228068, 0.797027290448343, 0.7860623781676414, 0.7928849902534112, 0.7807017543859648, 0.790204678362573, 0.7897173489278753, 0.7887426900584794, 0.7897173489278753, 0.7902046783625731, 0.7877680311890839, 0.7958089668615984, 0.7926413255360623, 0.7923976608187134, 0.7928849902534112, 0.7941033138401559, 0.7921539961013644, 0.7923976608187134, 0.7926413255360623, 0.7923976608187133, 0.7938596491228069, 0.7945906432748538, 0.7938596491228069, 0.7945906432748537, 0.7950779727095516, 0.7945906432748536, 0.7945906432748536, 0.7948343079922026, 0.7945906432748537, 0.7943469785575048, 0.794103313840156, 0.7921539961013645, 0.7931286549707601]\n",
      "Threshold (quantile 0.5): 0.7928849902534112\n",
      "Prediction vs threshold: 0.8431 vs 0.7929\n",
      "Decision: CONTINUE\n",
      "✅ CONTINUING: 0.8431 >= 0.7929\n",
      "Trial 92, Step 3: 22 trees, OOB: 0.7893\n",
      "\n",
      "=== DEBUGGING TRIAL 92 ===\n",
      "Intermediate values: {0: 0.7408026755852842, 1: 0.7491638795986622, 2: 0.7759197324414716, 3: 0.7892976588628763}\n",
      "Current step: 3, Current value: 0.7892976588628763\n",
      "Steps for prediction: [0 1 2 3]\n",
      "Values for prediction: [0.74080268 0.74916388 0.77591973 0.78929766]\n",
      "[Debug Trial 92]: Curve fitting failed: Optimal parameters not found: Number of calls to function has reached maxfev = 1000., using linear extrapolation\n",
      "Predicted final performance: 0.8294314381270903\n",
      "Completed trial values: [0.7905701754385964, 0.7938596491228068, 0.797027290448343, 0.7860623781676414, 0.7928849902534112, 0.7807017543859648, 0.790204678362573, 0.7897173489278753, 0.7887426900584794, 0.7897173489278753, 0.7902046783625731, 0.7877680311890839, 0.7958089668615984, 0.7926413255360623, 0.7923976608187134, 0.7928849902534112, 0.7941033138401559, 0.7921539961013644, 0.7923976608187134, 0.7926413255360623, 0.7923976608187133, 0.7938596491228069, 0.7945906432748538, 0.7938596491228069, 0.7945906432748537, 0.7950779727095516, 0.7945906432748536, 0.7945906432748536, 0.7948343079922026, 0.7945906432748537, 0.7943469785575048, 0.794103313840156, 0.7921539961013645, 0.7931286549707601]\n",
      "Threshold (quantile 0.5): 0.7928849902534112\n",
      "Prediction vs threshold: 0.8294 vs 0.7929\n",
      "Decision: CONTINUE\n",
      "✅ CONTINUING: 0.8294 >= 0.7929\n",
      "Trial 92, Step 4: 55 trees, OOB: 0.7893\n",
      "\n",
      "=== DEBUGGING TRIAL 92 ===\n",
      "Intermediate values: {0: 0.7408026755852842, 1: 0.7491638795986622, 2: 0.7759197324414716, 3: 0.7892976588628763, 4: 0.7892976588628763}\n",
      "Current step: 4, Current value: 0.7892976588628763\n",
      "Steps for prediction: [0 1 2 3 4]\n",
      "Values for prediction: [0.74080268 0.74916388 0.77591973 0.78929766 0.78929766]\n",
      "[Debug Trial 92]: Curve fit params: a=0.8263, b=0.0884, c=0.2458\n",
      "[Debug Trial 92]: Extrapolated to step 12: 0.8217\n",
      "Predicted final performance: 0.8216773865161962\n",
      "Completed trial values: [0.7905701754385964, 0.7938596491228068, 0.797027290448343, 0.7860623781676414, 0.7928849902534112, 0.7807017543859648, 0.790204678362573, 0.7897173489278753, 0.7887426900584794, 0.7897173489278753, 0.7902046783625731, 0.7877680311890839, 0.7958089668615984, 0.7926413255360623, 0.7923976608187134, 0.7928849902534112, 0.7941033138401559, 0.7921539961013644, 0.7923976608187134, 0.7926413255360623, 0.7923976608187133, 0.7938596491228069, 0.7945906432748538, 0.7938596491228069, 0.7945906432748537, 0.7950779727095516, 0.7945906432748536, 0.7945906432748536, 0.7948343079922026, 0.7945906432748537, 0.7943469785575048, 0.794103313840156, 0.7921539961013645, 0.7931286549707601]\n",
      "Threshold (quantile 0.5): 0.7928849902534112\n",
      "Prediction vs threshold: 0.8217 vs 0.7929\n",
      "Decision: CONTINUE\n",
      "✅ CONTINUING: 0.8217 >= 0.7929\n"
     ]
    },
    {
     "name": "stderr",
     "output_type": "stream",
     "text": [
      "C:\\Users\\Obidur Rahman\\AppData\\Local\\Temp\\ipykernel_3964\\3441492807.py:144: OptimizeWarning: Covariance of the parameters could not be estimated\n",
      "  popt, _ = curve_fit(saturating_func, steps, values, p0=p0, maxfev=1000)\n"
     ]
    },
    {
     "name": "stdout",
     "output_type": "stream",
     "text": [
      "Trial 92, Step 5: 111 trees, OOB: 0.7910\n",
      "\n",
      "=== DEBUGGING TRIAL 92 ===\n",
      "Intermediate values: {0: 0.7408026755852842, 1: 0.7491638795986622, 2: 0.7759197324414716, 3: 0.7892976588628763, 4: 0.7892976588628763, 5: 0.7909698996655519}\n",
      "Current step: 5, Current value: 0.7909698996655519\n",
      "Steps for prediction: [0 1 2 3 4 5]\n",
      "Values for prediction: [0.74080268 0.74916388 0.77591973 0.78929766 0.78929766 0.7909699 ]\n",
      "[Debug Trial 92]: Curve fit params: a=0.8048, b=0.0673, c=0.3734\n",
      "[Debug Trial 92]: Extrapolated to step 15: 0.8045\n",
      "Predicted final performance: 0.8045095067861355\n",
      "Completed trial values: [0.7905701754385964, 0.7938596491228068, 0.797027290448343, 0.7860623781676414, 0.7928849902534112, 0.7807017543859648, 0.790204678362573, 0.7897173489278753, 0.7887426900584794, 0.7897173489278753, 0.7902046783625731, 0.7877680311890839, 0.7958089668615984, 0.7926413255360623, 0.7923976608187134, 0.7928849902534112, 0.7941033138401559, 0.7921539961013644, 0.7923976608187134, 0.7926413255360623, 0.7923976608187133, 0.7938596491228069, 0.7945906432748538, 0.7938596491228069, 0.7945906432748537, 0.7950779727095516, 0.7945906432748536, 0.7945906432748536, 0.7948343079922026, 0.7945906432748537, 0.7943469785575048, 0.794103313840156, 0.7921539961013645, 0.7931286549707601]\n",
      "Threshold (quantile 0.5): 0.7928849902534112\n",
      "Prediction vs threshold: 0.8045 vs 0.7929\n",
      "Decision: CONTINUE\n",
      "✅ CONTINUING: 0.8045 >= 0.7929\n",
      "Trial 92 completed with AUC: 0.7912\n",
      "Trial 93, Step 0: 2 trees, OOB: 0.7408\n",
      "\n",
      "=== DEBUGGING TRIAL 93 ===\n",
      "Intermediate values: {0: 0.7408026755852842}\n",
      "Current step: 0, Current value: 0.7408026755852842\n",
      "[Debug Trial 93]: Not enough steps (1 < 3)\n",
      "Trial 93, Step 1: 5 trees, OOB: 0.7525\n",
      "\n",
      "=== DEBUGGING TRIAL 93 ===\n",
      "Intermediate values: {0: 0.7408026755852842, 1: 0.7525083612040134}\n",
      "Current step: 1, Current value: 0.7525083612040134\n",
      "[Debug Trial 93]: Not enough steps (2 < 3)\n",
      "Trial 93, Step 2: 11 trees, OOB: 0.7742\n",
      "\n",
      "=== DEBUGGING TRIAL 93 ===\n",
      "Intermediate values: {0: 0.7408026755852842, 1: 0.7525083612040134, 2: 0.774247491638796}\n",
      "Current step: 2, Current value: 0.774247491638796\n",
      "Steps for prediction: [0 1 2]\n",
      "Values for prediction: [0.74080268 0.75250836 0.77424749]\n",
      "[Debug Trial 93]: Curve fitting failed: Optimal parameters not found: Number of calls to function has reached maxfev = 1000., using linear extrapolation\n",
      "Predicted final performance: 0.8177257525083612\n",
      "Completed trial values: [0.7905701754385964, 0.7938596491228068, 0.797027290448343, 0.7860623781676414, 0.7928849902534112, 0.7807017543859648, 0.790204678362573, 0.7897173489278753, 0.7887426900584794, 0.7897173489278753, 0.7902046783625731, 0.7877680311890839, 0.7958089668615984, 0.7926413255360623, 0.7923976608187134, 0.7928849902534112, 0.7941033138401559, 0.7921539961013644, 0.7923976608187134, 0.7926413255360623, 0.7923976608187133, 0.7938596491228069, 0.7945906432748538, 0.7938596491228069, 0.7945906432748537, 0.7950779727095516, 0.7945906432748536, 0.7945906432748536, 0.7948343079922026, 0.7945906432748537, 0.7943469785575048, 0.794103313840156, 0.7921539961013645, 0.7931286549707601, 0.7911793372319688]\n",
      "Threshold (quantile 0.5): 0.7928849902534112\n",
      "Prediction vs threshold: 0.8177 vs 0.7929\n",
      "Decision: CONTINUE\n",
      "✅ CONTINUING: 0.8177 >= 0.7929\n",
      "Trial 93, Step 3: 22 trees, OOB: 0.7843\n",
      "\n",
      "=== DEBUGGING TRIAL 93 ===\n",
      "Intermediate values: {0: 0.7408026755852842, 1: 0.7525083612040134, 2: 0.774247491638796, 3: 0.7842809364548495}\n",
      "Current step: 3, Current value: 0.7842809364548495\n",
      "Steps for prediction: [0 1 2 3]\n",
      "Values for prediction: [0.74080268 0.75250836 0.77424749 0.78428094]\n",
      "[Debug Trial 93]: Curve fit params: a=1.0797, b=0.3399, c=0.0481\n",
      "[Debug Trial 93]: Extrapolated to step 9: 0.8592\n",
      "Predicted final performance: 0.8591637397121169\n",
      "Completed trial values: [0.7905701754385964, 0.7938596491228068, 0.797027290448343, 0.7860623781676414, 0.7928849902534112, 0.7807017543859648, 0.790204678362573, 0.7897173489278753, 0.7887426900584794, 0.7897173489278753, 0.7902046783625731, 0.7877680311890839, 0.7958089668615984, 0.7926413255360623, 0.7923976608187134, 0.7928849902534112, 0.7941033138401559, 0.7921539961013644, 0.7923976608187134, 0.7926413255360623, 0.7923976608187133, 0.7938596491228069, 0.7945906432748538, 0.7938596491228069, 0.7945906432748537, 0.7950779727095516, 0.7945906432748536, 0.7945906432748536, 0.7948343079922026, 0.7945906432748537, 0.7943469785575048, 0.794103313840156, 0.7921539961013645, 0.7931286549707601, 0.7911793372319688]\n",
      "Threshold (quantile 0.5): 0.7928849902534112\n",
      "Prediction vs threshold: 0.8592 vs 0.7929\n",
      "Decision: CONTINUE\n",
      "✅ CONTINUING: 0.8592 >= 0.7929\n",
      "Trial 93, Step 4: 57 trees, OOB: 0.7876\n",
      "\n",
      "=== DEBUGGING TRIAL 93 ===\n",
      "Intermediate values: {0: 0.7408026755852842, 1: 0.7525083612040134, 2: 0.774247491638796, 3: 0.7842809364548495, 4: 0.7876254180602007}\n",
      "Current step: 4, Current value: 0.7876254180602007\n",
      "Steps for prediction: [0 1 2 3 4]\n",
      "Values for prediction: [0.74080268 0.75250836 0.77424749 0.78428094 0.78762542]\n",
      "[Debug Trial 93]: Curve fit params: a=0.8146, b=0.0755, c=0.2782\n",
      "[Debug Trial 93]: Extrapolated to step 12: 0.8119\n",
      "Predicted final performance: 0.8118980840555844\n",
      "Completed trial values: [0.7905701754385964, 0.7938596491228068, 0.797027290448343, 0.7860623781676414, 0.7928849902534112, 0.7807017543859648, 0.790204678362573, 0.7897173489278753, 0.7887426900584794, 0.7897173489278753, 0.7902046783625731, 0.7877680311890839, 0.7958089668615984, 0.7926413255360623, 0.7923976608187134, 0.7928849902534112, 0.7941033138401559, 0.7921539961013644, 0.7923976608187134, 0.7926413255360623, 0.7923976608187133, 0.7938596491228069, 0.7945906432748538, 0.7938596491228069, 0.7945906432748537, 0.7950779727095516, 0.7945906432748536, 0.7945906432748536, 0.7948343079922026, 0.7945906432748537, 0.7943469785575048, 0.794103313840156, 0.7921539961013645, 0.7931286549707601, 0.7911793372319688]\n",
      "Threshold (quantile 0.5): 0.7928849902534112\n",
      "Prediction vs threshold: 0.8119 vs 0.7929\n",
      "Decision: CONTINUE\n",
      "✅ CONTINUING: 0.8119 >= 0.7929\n",
      "Trial 93, Step 5: 114 trees, OOB: 0.7876\n",
      "\n",
      "=== DEBUGGING TRIAL 93 ===\n",
      "Intermediate values: {0: 0.7408026755852842, 1: 0.7525083612040134, 2: 0.774247491638796, 3: 0.7842809364548495, 4: 0.7876254180602007, 5: 0.7876254180602007}\n",
      "Current step: 5, Current value: 0.7876254180602007\n",
      "Steps for prediction: [0 1 2 3 4 5]\n",
      "Values for prediction: [0.74080268 0.75250836 0.77424749 0.78428094 0.78762542 0.78762542]\n",
      "[Debug Trial 93]: Curve fit params: a=0.7984, b=0.0597, c=0.4072\n",
      "[Debug Trial 93]: Extrapolated to step 15: 0.7982\n",
      "Predicted final performance: 0.7982211923054937\n",
      "Completed trial values: [0.7905701754385964, 0.7938596491228068, 0.797027290448343, 0.7860623781676414, 0.7928849902534112, 0.7807017543859648, 0.790204678362573, 0.7897173489278753, 0.7887426900584794, 0.7897173489278753, 0.7902046783625731, 0.7877680311890839, 0.7958089668615984, 0.7926413255360623, 0.7923976608187134, 0.7928849902534112, 0.7941033138401559, 0.7921539961013644, 0.7923976608187134, 0.7926413255360623, 0.7923976608187133, 0.7938596491228069, 0.7945906432748538, 0.7938596491228069, 0.7945906432748537, 0.7950779727095516, 0.7945906432748536, 0.7945906432748536, 0.7948343079922026, 0.7945906432748537, 0.7943469785575048, 0.794103313840156, 0.7921539961013645, 0.7931286549707601, 0.7911793372319688]\n",
      "Threshold (quantile 0.5): 0.7928849902534112\n",
      "Prediction vs threshold: 0.7982 vs 0.7929\n",
      "Decision: CONTINUE\n",
      "✅ CONTINUING: 0.7982 >= 0.7929\n",
      "Trial 93 completed with AUC: 0.7946\n",
      "Trial 94, Step 0: 2 trees, OOB: 0.7408\n",
      "\n",
      "=== DEBUGGING TRIAL 94 ===\n",
      "Intermediate values: {0: 0.7408026755852842}\n",
      "Current step: 0, Current value: 0.7408026755852842\n",
      "[Debug Trial 94]: Not enough steps (1 < 3)\n",
      "Trial 94, Step 1: 6 trees, OOB: 0.7592\n",
      "\n",
      "=== DEBUGGING TRIAL 94 ===\n",
      "Intermediate values: {0: 0.7408026755852842, 1: 0.7591973244147158}\n",
      "Current step: 1, Current value: 0.7591973244147158\n",
      "[Debug Trial 94]: Not enough steps (2 < 3)\n",
      "Trial 94, Step 2: 12 trees, OOB: 0.7793\n",
      "\n",
      "=== DEBUGGING TRIAL 94 ===\n",
      "Intermediate values: {0: 0.7408026755852842, 1: 0.7591973244147158, 2: 0.7792642140468228}\n",
      "Current step: 2, Current value: 0.7792642140468228\n",
      "Steps for prediction: [0 1 2]\n",
      "Values for prediction: [0.74080268 0.75919732 0.77926421]\n",
      "[Debug Trial 94]: Curve fitting failed: Optimal parameters not found: Number of calls to function has reached maxfev = 1000., using linear extrapolation\n",
      "Predicted final performance: 0.8193979933110368\n",
      "Completed trial values: [0.7905701754385964, 0.7938596491228068, 0.797027290448343, 0.7860623781676414, 0.7928849902534112, 0.7807017543859648, 0.790204678362573, 0.7897173489278753, 0.7887426900584794, 0.7897173489278753, 0.7902046783625731, 0.7877680311890839, 0.7958089668615984, 0.7926413255360623, 0.7923976608187134, 0.7928849902534112, 0.7941033138401559, 0.7921539961013644, 0.7923976608187134, 0.7926413255360623, 0.7923976608187133, 0.7938596491228069, 0.7945906432748538, 0.7938596491228069, 0.7945906432748537, 0.7950779727095516, 0.7945906432748536, 0.7945906432748536, 0.7948343079922026, 0.7945906432748537, 0.7943469785575048, 0.794103313840156, 0.7921539961013645, 0.7931286549707601, 0.7911793372319688, 0.7945906432748536]\n",
      "Threshold (quantile 0.5): 0.7928849902534112\n",
      "Prediction vs threshold: 0.8194 vs 0.7929\n",
      "Decision: CONTINUE\n",
      "✅ CONTINUING: 0.8194 >= 0.7929\n",
      "Trial 94, Step 3: 24 trees, OOB: 0.7860\n",
      "\n",
      "=== DEBUGGING TRIAL 94 ===\n",
      "Intermediate values: {0: 0.7408026755852842, 1: 0.7591973244147158, 2: 0.7792642140468228, 3: 0.7859531772575251}\n",
      "Current step: 3, Current value: 0.7859531772575251\n",
      "Steps for prediction: [0 1 2 3]\n",
      "Values for prediction: [0.74080268 0.75919732 0.77926421 0.78595318]\n",
      "[Debug Trial 94]: Curve fit params: a=0.8131, b=0.0728, c=0.3441\n",
      "[Debug Trial 94]: Extrapolated to step 9: 0.8098\n",
      "Predicted final performance: 0.8097657310064268\n",
      "Completed trial values: [0.7905701754385964, 0.7938596491228068, 0.797027290448343, 0.7860623781676414, 0.7928849902534112, 0.7807017543859648, 0.790204678362573, 0.7897173489278753, 0.7887426900584794, 0.7897173489278753, 0.7902046783625731, 0.7877680311890839, 0.7958089668615984, 0.7926413255360623, 0.7923976608187134, 0.7928849902534112, 0.7941033138401559, 0.7921539961013644, 0.7923976608187134, 0.7926413255360623, 0.7923976608187133, 0.7938596491228069, 0.7945906432748538, 0.7938596491228069, 0.7945906432748537, 0.7950779727095516, 0.7945906432748536, 0.7945906432748536, 0.7948343079922026, 0.7945906432748537, 0.7943469785575048, 0.794103313840156, 0.7921539961013645, 0.7931286549707601, 0.7911793372319688, 0.7945906432748536]\n",
      "Threshold (quantile 0.5): 0.7928849902534112\n",
      "Prediction vs threshold: 0.8098 vs 0.7929\n",
      "Decision: CONTINUE\n",
      "✅ CONTINUING: 0.8098 >= 0.7929\n",
      "Trial 94, Step 4: 61 trees, OOB: 0.7893\n",
      "\n",
      "=== DEBUGGING TRIAL 94 ===\n",
      "Intermediate values: {0: 0.7408026755852842, 1: 0.7591973244147158, 2: 0.7792642140468228, 3: 0.7859531772575251, 4: 0.7892976588628763}\n",
      "Current step: 4, Current value: 0.7892976588628763\n",
      "Steps for prediction: [0 1 2 3 4]\n",
      "Values for prediction: [0.74080268 0.75919732 0.77926421 0.78595318 0.78929766]\n",
      "[Debug Trial 94]: Curve fit params: a=0.7998, b=0.0599, c=0.4701\n",
      "[Debug Trial 94]: Extrapolated to step 12: 0.7996\n",
      "Predicted final performance: 0.7995652598068625\n",
      "Completed trial values: [0.7905701754385964, 0.7938596491228068, 0.797027290448343, 0.7860623781676414, 0.7928849902534112, 0.7807017543859648, 0.790204678362573, 0.7897173489278753, 0.7887426900584794, 0.7897173489278753, 0.7902046783625731, 0.7877680311890839, 0.7958089668615984, 0.7926413255360623, 0.7923976608187134, 0.7928849902534112, 0.7941033138401559, 0.7921539961013644, 0.7923976608187134, 0.7926413255360623, 0.7923976608187133, 0.7938596491228069, 0.7945906432748538, 0.7938596491228069, 0.7945906432748537, 0.7950779727095516, 0.7945906432748536, 0.7945906432748536, 0.7948343079922026, 0.7945906432748537, 0.7943469785575048, 0.794103313840156, 0.7921539961013645, 0.7931286549707601, 0.7911793372319688, 0.7945906432748536]\n",
      "Threshold (quantile 0.5): 0.7928849902534112\n",
      "Prediction vs threshold: 0.7996 vs 0.7929\n",
      "Decision: CONTINUE\n",
      "✅ CONTINUING: 0.7996 >= 0.7929\n",
      "Trial 94, Step 5: 123 trees, OOB: 0.7876\n",
      "\n",
      "=== DEBUGGING TRIAL 94 ===\n",
      "Intermediate values: {0: 0.7408026755852842, 1: 0.7591973244147158, 2: 0.7792642140468228, 3: 0.7859531772575251, 4: 0.7892976588628763, 5: 0.7876254180602007}\n",
      "Current step: 5, Current value: 0.7876254180602007\n",
      "Steps for prediction: [0 1 2 3 4 5]\n",
      "Values for prediction: [0.74080268 0.75919732 0.77926421 0.78595318 0.78929766 0.78762542]\n",
      "[Debug Trial 94]: Curve fit params: a=0.7932, b=0.0537, c=0.5868\n",
      "[Debug Trial 94]: Extrapolated to step 15: 0.7932\n",
      "Predicted final performance: 0.7932385606012683\n",
      "Completed trial values: [0.7905701754385964, 0.7938596491228068, 0.797027290448343, 0.7860623781676414, 0.7928849902534112, 0.7807017543859648, 0.790204678362573, 0.7897173489278753, 0.7887426900584794, 0.7897173489278753, 0.7902046783625731, 0.7877680311890839, 0.7958089668615984, 0.7926413255360623, 0.7923976608187134, 0.7928849902534112, 0.7941033138401559, 0.7921539961013644, 0.7923976608187134, 0.7926413255360623, 0.7923976608187133, 0.7938596491228069, 0.7945906432748538, 0.7938596491228069, 0.7945906432748537, 0.7950779727095516, 0.7945906432748536, 0.7945906432748536, 0.7948343079922026, 0.7945906432748537, 0.7943469785575048, 0.794103313840156, 0.7921539961013645, 0.7931286549707601, 0.7911793372319688, 0.7945906432748536]\n",
      "Threshold (quantile 0.5): 0.7928849902534112\n",
      "Prediction vs threshold: 0.7932 vs 0.7929\n",
      "Decision: CONTINUE\n",
      "✅ CONTINUING: 0.7932 >= 0.7929\n",
      "Trial 94 completed with AUC: 0.7941\n",
      "Trial 95, Step 0: 2 trees, OOB: 0.7408\n",
      "\n",
      "=== DEBUGGING TRIAL 95 ===\n",
      "Intermediate values: {0: 0.7408026755852842}\n",
      "Current step: 0, Current value: 0.7408026755852842\n",
      "[Debug Trial 95]: Not enough steps (1 < 3)\n",
      "Trial 95, Step 1: 6 trees, OOB: 0.7575\n",
      "\n",
      "=== DEBUGGING TRIAL 95 ===\n",
      "Intermediate values: {0: 0.7408026755852842, 1: 0.7575250836120402}\n",
      "Current step: 1, Current value: 0.7575250836120402\n",
      "[Debug Trial 95]: Not enough steps (2 < 3)\n",
      "Trial 95, Step 2: 13 trees, OOB: 0.7809\n",
      "\n",
      "=== DEBUGGING TRIAL 95 ===\n",
      "Intermediate values: {0: 0.7408026755852842, 1: 0.7575250836120402, 2: 0.7809364548494984}\n",
      "Current step: 2, Current value: 0.7809364548494984\n",
      "Steps for prediction: [0 1 2]\n",
      "Values for prediction: [0.74080268 0.75752508 0.78093645]\n",
      "[Debug Trial 95]: Curve fitting failed: Optimal parameters not found: Number of calls to function has reached maxfev = 1000., using linear extrapolation\n",
      "Predicted final performance: 0.8277591973244147\n",
      "Completed trial values: [0.7905701754385964, 0.7938596491228068, 0.797027290448343, 0.7860623781676414, 0.7928849902534112, 0.7807017543859648, 0.790204678362573, 0.7897173489278753, 0.7887426900584794, 0.7897173489278753, 0.7902046783625731, 0.7877680311890839, 0.7958089668615984, 0.7926413255360623, 0.7923976608187134, 0.7928849902534112, 0.7941033138401559, 0.7921539961013644, 0.7923976608187134, 0.7926413255360623, 0.7923976608187133, 0.7938596491228069, 0.7945906432748538, 0.7938596491228069, 0.7945906432748537, 0.7950779727095516, 0.7945906432748536, 0.7945906432748536, 0.7948343079922026, 0.7945906432748537, 0.7943469785575048, 0.794103313840156, 0.7921539961013645, 0.7931286549707601, 0.7911793372319688, 0.7945906432748536, 0.7941033138401559]\n",
      "Threshold (quantile 0.5): 0.7928849902534112\n",
      "Prediction vs threshold: 0.8278 vs 0.7929\n",
      "Decision: CONTINUE\n",
      "✅ CONTINUING: 0.8278 >= 0.7929\n",
      "Trial 95, Step 3: 26 trees, OOB: 0.7876\n",
      "\n",
      "=== DEBUGGING TRIAL 95 ===\n",
      "Intermediate values: {0: 0.7408026755852842, 1: 0.7575250836120402, 2: 0.7809364548494984, 3: 0.7876254180602007}\n",
      "Current step: 3, Current value: 0.7876254180602007\n",
      "Steps for prediction: [0 1 2 3]\n",
      "Values for prediction: [0.74080268 0.75752508 0.78093645 0.78762542]\n",
      "[Debug Trial 95]: Curve fit params: a=0.8291, b=0.0892, c=0.2682\n",
      "[Debug Trial 95]: Extrapolated to step 9: 0.8211\n",
      "Predicted final performance: 0.8211370189814324\n",
      "Completed trial values: [0.7905701754385964, 0.7938596491228068, 0.797027290448343, 0.7860623781676414, 0.7928849902534112, 0.7807017543859648, 0.790204678362573, 0.7897173489278753, 0.7887426900584794, 0.7897173489278753, 0.7902046783625731, 0.7877680311890839, 0.7958089668615984, 0.7926413255360623, 0.7923976608187134, 0.7928849902534112, 0.7941033138401559, 0.7921539961013644, 0.7923976608187134, 0.7926413255360623, 0.7923976608187133, 0.7938596491228069, 0.7945906432748538, 0.7938596491228069, 0.7945906432748537, 0.7950779727095516, 0.7945906432748536, 0.7945906432748536, 0.7948343079922026, 0.7945906432748537, 0.7943469785575048, 0.794103313840156, 0.7921539961013645, 0.7931286549707601, 0.7911793372319688, 0.7945906432748536, 0.7941033138401559]\n",
      "Threshold (quantile 0.5): 0.7928849902534112\n",
      "Prediction vs threshold: 0.8211 vs 0.7929\n",
      "Decision: CONTINUE\n",
      "✅ CONTINUING: 0.8211 >= 0.7929\n",
      "Trial 95, Step 4: 65 trees, OOB: 0.7860\n",
      "\n",
      "=== DEBUGGING TRIAL 95 ===\n",
      "Intermediate values: {0: 0.7408026755852842, 1: 0.7575250836120402, 2: 0.7809364548494984, 3: 0.7876254180602007, 4: 0.7859531772575251}\n",
      "Current step: 4, Current value: 0.7859531772575251\n",
      "Steps for prediction: [0 1 2 3 4]\n",
      "Values for prediction: [0.74080268 0.75752508 0.78093645 0.78762542 0.78595318]\n",
      "[Debug Trial 95]: Curve fit params: a=0.7959, b=0.0565, c=0.5394\n",
      "[Debug Trial 95]: Extrapolated to step 12: 0.7958\n",
      "Predicted final performance: 0.7957712245767076\n",
      "Completed trial values: [0.7905701754385964, 0.7938596491228068, 0.797027290448343, 0.7860623781676414, 0.7928849902534112, 0.7807017543859648, 0.790204678362573, 0.7897173489278753, 0.7887426900584794, 0.7897173489278753, 0.7902046783625731, 0.7877680311890839, 0.7958089668615984, 0.7926413255360623, 0.7923976608187134, 0.7928849902534112, 0.7941033138401559, 0.7921539961013644, 0.7923976608187134, 0.7926413255360623, 0.7923976608187133, 0.7938596491228069, 0.7945906432748538, 0.7938596491228069, 0.7945906432748537, 0.7950779727095516, 0.7945906432748536, 0.7945906432748536, 0.7948343079922026, 0.7945906432748537, 0.7943469785575048, 0.794103313840156, 0.7921539961013645, 0.7931286549707601, 0.7911793372319688, 0.7945906432748536, 0.7941033138401559]\n",
      "Threshold (quantile 0.5): 0.7928849902534112\n",
      "Prediction vs threshold: 0.7958 vs 0.7929\n",
      "Decision: CONTINUE\n",
      "✅ CONTINUING: 0.7958 >= 0.7929\n",
      "Trial 95, Step 5: 130 trees, OOB: 0.7876\n",
      "\n",
      "=== DEBUGGING TRIAL 95 ===\n",
      "Intermediate values: {0: 0.7408026755852842, 1: 0.7575250836120402, 2: 0.7809364548494984, 3: 0.7876254180602007, 4: 0.7859531772575251, 5: 0.7876254180602007}\n",
      "Current step: 5, Current value: 0.7876254180602007\n",
      "Steps for prediction: [0 1 2 3 4 5]\n",
      "Values for prediction: [0.74080268 0.75752508 0.78093645 0.78762542 0.78595318 0.78762542]\n",
      "[Debug Trial 95]: Curve fit params: a=0.7921, b=0.0529, c=0.6175\n",
      "[Debug Trial 95]: Extrapolated to step 15: 0.7921\n",
      "Predicted final performance: 0.7920831825287837\n",
      "Completed trial values: [0.7905701754385964, 0.7938596491228068, 0.797027290448343, 0.7860623781676414, 0.7928849902534112, 0.7807017543859648, 0.790204678362573, 0.7897173489278753, 0.7887426900584794, 0.7897173489278753, 0.7902046783625731, 0.7877680311890839, 0.7958089668615984, 0.7926413255360623, 0.7923976608187134, 0.7928849902534112, 0.7941033138401559, 0.7921539961013644, 0.7923976608187134, 0.7926413255360623, 0.7923976608187133, 0.7938596491228069, 0.7945906432748538, 0.7938596491228069, 0.7945906432748537, 0.7950779727095516, 0.7945906432748536, 0.7945906432748536, 0.7948343079922026, 0.7945906432748537, 0.7943469785575048, 0.794103313840156, 0.7921539961013645, 0.7931286549707601, 0.7911793372319688, 0.7945906432748536, 0.7941033138401559]\n",
      "Threshold (quantile 0.5): 0.7928849902534112\n",
      "Prediction vs threshold: 0.7921 vs 0.7929\n",
      "Decision: PRUNE\n",
      "🔥 PRUNING: 0.7921 < 0.7929\n",
      "Trial 95 pruned at step 5 (130 estimators, OOB: 0.7876)\n",
      "Trial 96, Step 0: 2 trees, OOB: 0.7408\n",
      "\n",
      "=== DEBUGGING TRIAL 96 ===\n",
      "Intermediate values: {0: 0.7408026755852842}\n",
      "Current step: 0, Current value: 0.7408026755852842\n",
      "[Debug Trial 96]: Not enough steps (1 < 3)\n",
      "Trial 96, Step 1: 5 trees, OOB: 0.7525\n",
      "\n",
      "=== DEBUGGING TRIAL 96 ===\n",
      "Intermediate values: {0: 0.7408026755852842, 1: 0.7525083612040134}\n",
      "Current step: 1, Current value: 0.7525083612040134\n",
      "[Debug Trial 96]: Not enough steps (2 < 3)\n",
      "Trial 96, Step 2: 11 trees, OOB: 0.7742\n",
      "\n",
      "=== DEBUGGING TRIAL 96 ===\n",
      "Intermediate values: {0: 0.7408026755852842, 1: 0.7525083612040134, 2: 0.774247491638796}\n",
      "Current step: 2, Current value: 0.774247491638796\n",
      "Steps for prediction: [0 1 2]\n",
      "Values for prediction: [0.74080268 0.75250836 0.77424749]\n",
      "[Debug Trial 96]: Curve fitting failed: Optimal parameters not found: Number of calls to function has reached maxfev = 1000., using linear extrapolation\n",
      "Predicted final performance: 0.8177257525083612\n",
      "Completed trial values: [0.7905701754385964, 0.7938596491228068, 0.797027290448343, 0.7860623781676414, 0.7928849902534112, 0.7807017543859648, 0.790204678362573, 0.7897173489278753, 0.7887426900584794, 0.7897173489278753, 0.7902046783625731, 0.7877680311890839, 0.7958089668615984, 0.7926413255360623, 0.7923976608187134, 0.7928849902534112, 0.7941033138401559, 0.7921539961013644, 0.7923976608187134, 0.7926413255360623, 0.7923976608187133, 0.7938596491228069, 0.7945906432748538, 0.7938596491228069, 0.7945906432748537, 0.7950779727095516, 0.7945906432748536, 0.7945906432748536, 0.7948343079922026, 0.7945906432748537, 0.7943469785575048, 0.794103313840156, 0.7921539961013645, 0.7931286549707601, 0.7911793372319688, 0.7945906432748536, 0.7941033138401559]\n",
      "Threshold (quantile 0.5): 0.7928849902534112\n",
      "Prediction vs threshold: 0.8177 vs 0.7929\n",
      "Decision: CONTINUE\n",
      "✅ CONTINUING: 0.8177 >= 0.7929\n",
      "Trial 96, Step 3: 22 trees, OOB: 0.7843\n",
      "\n",
      "=== DEBUGGING TRIAL 96 ===\n",
      "Intermediate values: {0: 0.7408026755852842, 1: 0.7525083612040134, 2: 0.774247491638796, 3: 0.7842809364548495}\n",
      "Current step: 3, Current value: 0.7842809364548495\n",
      "Steps for prediction: [0 1 2 3]\n",
      "Values for prediction: [0.74080268 0.75250836 0.77424749 0.78428094]\n",
      "[Debug Trial 96]: Curve fit params: a=1.0797, b=0.3399, c=0.0481\n",
      "[Debug Trial 96]: Extrapolated to step 9: 0.8592\n",
      "Predicted final performance: 0.8591637397121169\n",
      "Completed trial values: [0.7905701754385964, 0.7938596491228068, 0.797027290448343, 0.7860623781676414, 0.7928849902534112, 0.7807017543859648, 0.790204678362573, 0.7897173489278753, 0.7887426900584794, 0.7897173489278753, 0.7902046783625731, 0.7877680311890839, 0.7958089668615984, 0.7926413255360623, 0.7923976608187134, 0.7928849902534112, 0.7941033138401559, 0.7921539961013644, 0.7923976608187134, 0.7926413255360623, 0.7923976608187133, 0.7938596491228069, 0.7945906432748538, 0.7938596491228069, 0.7945906432748537, 0.7950779727095516, 0.7945906432748536, 0.7945906432748536, 0.7948343079922026, 0.7945906432748537, 0.7943469785575048, 0.794103313840156, 0.7921539961013645, 0.7931286549707601, 0.7911793372319688, 0.7945906432748536, 0.7941033138401559]\n",
      "Threshold (quantile 0.5): 0.7928849902534112\n",
      "Prediction vs threshold: 0.8592 vs 0.7929\n",
      "Decision: CONTINUE\n",
      "✅ CONTINUING: 0.8592 >= 0.7929\n",
      "Trial 96, Step 4: 57 trees, OOB: 0.7876\n",
      "\n",
      "=== DEBUGGING TRIAL 96 ===\n",
      "Intermediate values: {0: 0.7408026755852842, 1: 0.7525083612040134, 2: 0.774247491638796, 3: 0.7842809364548495, 4: 0.7876254180602007}\n",
      "Current step: 4, Current value: 0.7876254180602007\n",
      "Steps for prediction: [0 1 2 3 4]\n",
      "Values for prediction: [0.74080268 0.75250836 0.77424749 0.78428094 0.78762542]\n",
      "[Debug Trial 96]: Curve fit params: a=0.8146, b=0.0755, c=0.2782\n",
      "[Debug Trial 96]: Extrapolated to step 12: 0.8119\n",
      "Predicted final performance: 0.8118980840555844\n",
      "Completed trial values: [0.7905701754385964, 0.7938596491228068, 0.797027290448343, 0.7860623781676414, 0.7928849902534112, 0.7807017543859648, 0.790204678362573, 0.7897173489278753, 0.7887426900584794, 0.7897173489278753, 0.7902046783625731, 0.7877680311890839, 0.7958089668615984, 0.7926413255360623, 0.7923976608187134, 0.7928849902534112, 0.7941033138401559, 0.7921539961013644, 0.7923976608187134, 0.7926413255360623, 0.7923976608187133, 0.7938596491228069, 0.7945906432748538, 0.7938596491228069, 0.7945906432748537, 0.7950779727095516, 0.7945906432748536, 0.7945906432748536, 0.7948343079922026, 0.7945906432748537, 0.7943469785575048, 0.794103313840156, 0.7921539961013645, 0.7931286549707601, 0.7911793372319688, 0.7945906432748536, 0.7941033138401559]\n",
      "Threshold (quantile 0.5): 0.7928849902534112\n",
      "Prediction vs threshold: 0.8119 vs 0.7929\n",
      "Decision: CONTINUE\n",
      "✅ CONTINUING: 0.8119 >= 0.7929\n",
      "Trial 96, Step 5: 114 trees, OOB: 0.7876\n",
      "\n",
      "=== DEBUGGING TRIAL 96 ===\n",
      "Intermediate values: {0: 0.7408026755852842, 1: 0.7525083612040134, 2: 0.774247491638796, 3: 0.7842809364548495, 4: 0.7876254180602007, 5: 0.7876254180602007}\n",
      "Current step: 5, Current value: 0.7876254180602007\n",
      "Steps for prediction: [0 1 2 3 4 5]\n",
      "Values for prediction: [0.74080268 0.75250836 0.77424749 0.78428094 0.78762542 0.78762542]\n",
      "[Debug Trial 96]: Curve fit params: a=0.7984, b=0.0597, c=0.4072\n",
      "[Debug Trial 96]: Extrapolated to step 15: 0.7982\n",
      "Predicted final performance: 0.7982211923054937\n",
      "Completed trial values: [0.7905701754385964, 0.7938596491228068, 0.797027290448343, 0.7860623781676414, 0.7928849902534112, 0.7807017543859648, 0.790204678362573, 0.7897173489278753, 0.7887426900584794, 0.7897173489278753, 0.7902046783625731, 0.7877680311890839, 0.7958089668615984, 0.7926413255360623, 0.7923976608187134, 0.7928849902534112, 0.7941033138401559, 0.7921539961013644, 0.7923976608187134, 0.7926413255360623, 0.7923976608187133, 0.7938596491228069, 0.7945906432748538, 0.7938596491228069, 0.7945906432748537, 0.7950779727095516, 0.7945906432748536, 0.7945906432748536, 0.7948343079922026, 0.7945906432748537, 0.7943469785575048, 0.794103313840156, 0.7921539961013645, 0.7931286549707601, 0.7911793372319688, 0.7945906432748536, 0.7941033138401559]\n",
      "Threshold (quantile 0.5): 0.7928849902534112\n",
      "Prediction vs threshold: 0.7982 vs 0.7929\n",
      "Decision: CONTINUE\n",
      "✅ CONTINUING: 0.7982 >= 0.7929\n",
      "Trial 96 completed with AUC: 0.7946\n",
      "Trial 97, Step 0: 2 trees, OOB: 0.7441\n",
      "\n",
      "=== DEBUGGING TRIAL 97 ===\n",
      "Intermediate values: {0: 0.7441471571906354}\n",
      "Current step: 0, Current value: 0.7441471571906354\n",
      "[Debug Trial 97]: Not enough steps (1 < 3)\n",
      "Trial 97, Step 1: 5 trees, OOB: 0.7559\n",
      "\n",
      "=== DEBUGGING TRIAL 97 ===\n",
      "Intermediate values: {0: 0.7441471571906354, 1: 0.7558528428093646}\n",
      "Current step: 1, Current value: 0.7558528428093646\n",
      "[Debug Trial 97]: Not enough steps (2 < 3)\n",
      "Trial 97, Step 2: 11 trees, OOB: 0.7625\n",
      "\n",
      "=== DEBUGGING TRIAL 97 ===\n",
      "Intermediate values: {0: 0.7441471571906354, 1: 0.7558528428093646, 2: 0.7625418060200669}\n",
      "Current step: 2, Current value: 0.7625418060200669\n",
      "Steps for prediction: [0 1 2]\n",
      "Values for prediction: [0.74414716 0.75585284 0.76254181]\n",
      "[Debug Trial 97]: Curve fit params: a=0.7715, b=0.0273, c=0.5596\n",
      "[Debug Trial 97]: Extrapolated to step 6: 0.7705\n",
      "Predicted final performance: 0.7705095006400624\n",
      "Completed trial values: [0.7905701754385964, 0.7938596491228068, 0.797027290448343, 0.7860623781676414, 0.7928849902534112, 0.7807017543859648, 0.790204678362573, 0.7897173489278753, 0.7887426900584794, 0.7897173489278753, 0.7902046783625731, 0.7877680311890839, 0.7958089668615984, 0.7926413255360623, 0.7923976608187134, 0.7928849902534112, 0.7941033138401559, 0.7921539961013644, 0.7923976608187134, 0.7926413255360623, 0.7923976608187133, 0.7938596491228069, 0.7945906432748538, 0.7938596491228069, 0.7945906432748537, 0.7950779727095516, 0.7945906432748536, 0.7945906432748536, 0.7948343079922026, 0.7945906432748537, 0.7943469785575048, 0.794103313840156, 0.7921539961013645, 0.7931286549707601, 0.7911793372319688, 0.7945906432748536, 0.7941033138401559, 0.7945906432748536]\n",
      "Threshold (quantile 0.5): 0.7930068226120857\n",
      "Prediction vs threshold: 0.7705 vs 0.7930\n",
      "Decision: PRUNE\n",
      "🔥 PRUNING: 0.7705 < 0.7930\n",
      "Trial 97 pruned at step 2 (11 estimators, OOB: 0.7625)\n",
      "Trial 98, Step 0: 2 trees, OOB: 0.7408\n",
      "\n",
      "=== DEBUGGING TRIAL 98 ===\n",
      "Intermediate values: {0: 0.7408026755852842}\n",
      "Current step: 0, Current value: 0.7408026755852842\n",
      "[Debug Trial 98]: Not enough steps (1 < 3)\n",
      "Trial 98, Step 1: 6 trees, OOB: 0.7575\n",
      "\n",
      "=== DEBUGGING TRIAL 98 ===\n",
      "Intermediate values: {0: 0.7408026755852842, 1: 0.7575250836120402}\n",
      "Current step: 1, Current value: 0.7575250836120402\n",
      "[Debug Trial 98]: Not enough steps (2 < 3)\n",
      "Trial 98, Step 2: 13 trees, OOB: 0.7843\n",
      "\n",
      "=== DEBUGGING TRIAL 98 ===\n",
      "Intermediate values: {0: 0.7408026755852842, 1: 0.7575250836120402, 2: 0.7842809364548495}\n",
      "Current step: 2, Current value: 0.7842809364548495\n",
      "Steps for prediction: [0 1 2]\n",
      "Values for prediction: [0.74080268 0.75752508 0.78428094]\n",
      "[Debug Trial 98]: Curve fitting failed: Optimal parameters not found: Number of calls to function has reached maxfev = 1000., using linear extrapolation\n",
      "Predicted final performance: 0.8377926421404682\n",
      "Completed trial values: [0.7905701754385964, 0.7938596491228068, 0.797027290448343, 0.7860623781676414, 0.7928849902534112, 0.7807017543859648, 0.790204678362573, 0.7897173489278753, 0.7887426900584794, 0.7897173489278753, 0.7902046783625731, 0.7877680311890839, 0.7958089668615984, 0.7926413255360623, 0.7923976608187134, 0.7928849902534112, 0.7941033138401559, 0.7921539961013644, 0.7923976608187134, 0.7926413255360623, 0.7923976608187133, 0.7938596491228069, 0.7945906432748538, 0.7938596491228069, 0.7945906432748537, 0.7950779727095516, 0.7945906432748536, 0.7945906432748536, 0.7948343079922026, 0.7945906432748537, 0.7943469785575048, 0.794103313840156, 0.7921539961013645, 0.7931286549707601, 0.7911793372319688, 0.7945906432748536, 0.7941033138401559, 0.7945906432748536]\n",
      "Threshold (quantile 0.5): 0.7930068226120857\n",
      "Prediction vs threshold: 0.8378 vs 0.7930\n",
      "Decision: CONTINUE\n",
      "✅ CONTINUING: 0.8378 >= 0.7930\n"
     ]
    },
    {
     "name": "stderr",
     "output_type": "stream",
     "text": [
      "C:\\Users\\Obidur Rahman\\AppData\\Local\\Temp\\ipykernel_3964\\3441492807.py:144: OptimizeWarning: Covariance of the parameters could not be estimated\n",
      "  popt, _ = curve_fit(saturating_func, steps, values, p0=p0, maxfev=1000)\n"
     ]
    },
    {
     "name": "stdout",
     "output_type": "stream",
     "text": [
      "Trial 98, Step 3: 27 trees, OOB: 0.7960\n",
      "\n",
      "=== DEBUGGING TRIAL 98 ===\n",
      "Intermediate values: {0: 0.7408026755852842, 1: 0.7575250836120402, 2: 0.7842809364548495, 3: 0.7959866220735786}\n",
      "Current step: 3, Current value: 0.7959866220735786\n",
      "Steps for prediction: [0 1 2 3]\n",
      "Values for prediction: [0.74080268 0.75752508 0.78428094 0.79598662]\n",
      "[Debug Trial 98]: Curve fit params: a=0.9369, b=0.1972, c=0.1154\n",
      "[Debug Trial 98]: Extrapolated to step 9: 0.8671\n",
      "Predicted final performance: 0.867119242147773\n",
      "Completed trial values: [0.7905701754385964, 0.7938596491228068, 0.797027290448343, 0.7860623781676414, 0.7928849902534112, 0.7807017543859648, 0.790204678362573, 0.7897173489278753, 0.7887426900584794, 0.7897173489278753, 0.7902046783625731, 0.7877680311890839, 0.7958089668615984, 0.7926413255360623, 0.7923976608187134, 0.7928849902534112, 0.7941033138401559, 0.7921539961013644, 0.7923976608187134, 0.7926413255360623, 0.7923976608187133, 0.7938596491228069, 0.7945906432748538, 0.7938596491228069, 0.7945906432748537, 0.7950779727095516, 0.7945906432748536, 0.7945906432748536, 0.7948343079922026, 0.7945906432748537, 0.7943469785575048, 0.794103313840156, 0.7921539961013645, 0.7931286549707601, 0.7911793372319688, 0.7945906432748536, 0.7941033138401559, 0.7945906432748536]\n",
      "Threshold (quantile 0.5): 0.7930068226120857\n",
      "Prediction vs threshold: 0.8671 vs 0.7930\n",
      "Decision: CONTINUE\n",
      "✅ CONTINUING: 0.8671 >= 0.7930\n",
      "Trial 98, Step 4: 67 trees, OOB: 0.7893\n",
      "\n",
      "=== DEBUGGING TRIAL 98 ===\n",
      "Intermediate values: {0: 0.7408026755852842, 1: 0.7575250836120402, 2: 0.7842809364548495, 3: 0.7959866220735786, 4: 0.7892976588628763}\n",
      "Current step: 4, Current value: 0.7892976588628763\n",
      "Steps for prediction: [0 1 2 3 4]\n",
      "Values for prediction: [0.74080268 0.75752508 0.78428094 0.79598662 0.78929766]\n",
      "[Debug Trial 98]: Curve fit params: a=0.8032, b=0.0645, c=0.5145\n",
      "[Debug Trial 98]: Extrapolated to step 12: 0.8031\n",
      "Predicted final performance: 0.8030707820976889\n",
      "Completed trial values: [0.7905701754385964, 0.7938596491228068, 0.797027290448343, 0.7860623781676414, 0.7928849902534112, 0.7807017543859648, 0.790204678362573, 0.7897173489278753, 0.7887426900584794, 0.7897173489278753, 0.7902046783625731, 0.7877680311890839, 0.7958089668615984, 0.7926413255360623, 0.7923976608187134, 0.7928849902534112, 0.7941033138401559, 0.7921539961013644, 0.7923976608187134, 0.7926413255360623, 0.7923976608187133, 0.7938596491228069, 0.7945906432748538, 0.7938596491228069, 0.7945906432748537, 0.7950779727095516, 0.7945906432748536, 0.7945906432748536, 0.7948343079922026, 0.7945906432748537, 0.7943469785575048, 0.794103313840156, 0.7921539961013645, 0.7931286549707601, 0.7911793372319688, 0.7945906432748536, 0.7941033138401559, 0.7945906432748536]\n",
      "Threshold (quantile 0.5): 0.7930068226120857\n",
      "Prediction vs threshold: 0.8031 vs 0.7930\n",
      "Decision: CONTINUE\n",
      "✅ CONTINUING: 0.8031 >= 0.7930\n",
      "Trial 98, Step 5: 135 trees, OOB: 0.7926\n",
      "\n",
      "=== DEBUGGING TRIAL 98 ===\n",
      "Intermediate values: {0: 0.7408026755852842, 1: 0.7575250836120402, 2: 0.7842809364548495, 3: 0.7959866220735786, 4: 0.7892976588628763, 5: 0.7926421404682275}\n",
      "Current step: 5, Current value: 0.7926421404682275\n",
      "Steps for prediction: [0 1 2 3 4 5]\n",
      "Values for prediction: [0.74080268 0.75752508 0.78428094 0.79598662 0.78929766 0.79264214]\n",
      "[Debug Trial 98]: Curve fit params: a=0.7983, b=0.0597, c=0.5984\n",
      "[Debug Trial 98]: Extrapolated to step 15: 0.7982\n",
      "Predicted final performance: 0.7982493893690218\n",
      "Completed trial values: [0.7905701754385964, 0.7938596491228068, 0.797027290448343, 0.7860623781676414, 0.7928849902534112, 0.7807017543859648, 0.790204678362573, 0.7897173489278753, 0.7887426900584794, 0.7897173489278753, 0.7902046783625731, 0.7877680311890839, 0.7958089668615984, 0.7926413255360623, 0.7923976608187134, 0.7928849902534112, 0.7941033138401559, 0.7921539961013644, 0.7923976608187134, 0.7926413255360623, 0.7923976608187133, 0.7938596491228069, 0.7945906432748538, 0.7938596491228069, 0.7945906432748537, 0.7950779727095516, 0.7945906432748536, 0.7945906432748536, 0.7948343079922026, 0.7945906432748537, 0.7943469785575048, 0.794103313840156, 0.7921539961013645, 0.7931286549707601, 0.7911793372319688, 0.7945906432748536, 0.7941033138401559, 0.7945906432748536]\n",
      "Threshold (quantile 0.5): 0.7930068226120857\n",
      "Prediction vs threshold: 0.7982 vs 0.7930\n",
      "Decision: CONTINUE\n",
      "✅ CONTINUING: 0.7982 >= 0.7930\n",
      "Trial 98 completed with AUC: 0.7934\n",
      "Trial 99, Step 0: 2 trees, OOB: 0.7425\n",
      "\n",
      "=== DEBUGGING TRIAL 99 ===\n",
      "Intermediate values: {0: 0.7424749163879598}\n",
      "Current step: 0, Current value: 0.7424749163879598\n",
      "[Debug Trial 99]: Not enough steps (1 < 3)\n",
      "Trial 99, Step 1: 5 trees, OOB: 0.7492\n",
      "\n",
      "=== DEBUGGING TRIAL 99 ===\n",
      "Intermediate values: {0: 0.7424749163879598, 1: 0.7491638795986622}\n",
      "Current step: 1, Current value: 0.7491638795986622\n",
      "[Debug Trial 99]: Not enough steps (2 < 3)\n",
      "Trial 99, Step 2: 10 trees, OOB: 0.7676\n",
      "\n",
      "=== DEBUGGING TRIAL 99 ===\n",
      "Intermediate values: {0: 0.7424749163879598, 1: 0.7491638795986622, 2: 0.7675585284280937}\n",
      "Current step: 2, Current value: 0.7675585284280937\n",
      "Steps for prediction: [0 1 2]\n",
      "Values for prediction: [0.74247492 0.74916388 0.76755853]\n",
      "[Debug Trial 99]: Curve fitting failed: Optimal parameters not found: Number of calls to function has reached maxfev = 1000., using linear extrapolation\n",
      "Predicted final performance: 0.8043478260869568\n",
      "Completed trial values: [0.7905701754385964, 0.7938596491228068, 0.797027290448343, 0.7860623781676414, 0.7928849902534112, 0.7807017543859648, 0.790204678362573, 0.7897173489278753, 0.7887426900584794, 0.7897173489278753, 0.7902046783625731, 0.7877680311890839, 0.7958089668615984, 0.7926413255360623, 0.7923976608187134, 0.7928849902534112, 0.7941033138401559, 0.7921539961013644, 0.7923976608187134, 0.7926413255360623, 0.7923976608187133, 0.7938596491228069, 0.7945906432748538, 0.7938596491228069, 0.7945906432748537, 0.7950779727095516, 0.7945906432748536, 0.7945906432748536, 0.7948343079922026, 0.7945906432748537, 0.7943469785575048, 0.794103313840156, 0.7921539961013645, 0.7931286549707601, 0.7911793372319688, 0.7945906432748536, 0.7941033138401559, 0.7945906432748536, 0.7933723196881092]\n",
      "Threshold (quantile 0.5): 0.7931286549707601\n",
      "Prediction vs threshold: 0.8043 vs 0.7931\n",
      "Decision: CONTINUE\n",
      "✅ CONTINUING: 0.8043 >= 0.7931\n",
      "Trial 99, Step 3: 21 trees, OOB: 0.7826\n",
      "\n",
      "=== DEBUGGING TRIAL 99 ===\n",
      "Intermediate values: {0: 0.7424749163879598, 1: 0.7491638795986622, 2: 0.7675585284280937, 3: 0.782608695652174}\n",
      "Current step: 3, Current value: 0.782608695652174\n",
      "Steps for prediction: [0 1 2 3]\n",
      "Values for prediction: [0.74247492 0.74916388 0.76755853 0.7826087 ]\n",
      "[Debug Trial 99]: Curve fitting failed: Optimal parameters not found: Number of calls to function has reached maxfev = 1000., using linear extrapolation\n",
      "Predicted final performance: 0.8277591973244147\n",
      "Completed trial values: [0.7905701754385964, 0.7938596491228068, 0.797027290448343, 0.7860623781676414, 0.7928849902534112, 0.7807017543859648, 0.790204678362573, 0.7897173489278753, 0.7887426900584794, 0.7897173489278753, 0.7902046783625731, 0.7877680311890839, 0.7958089668615984, 0.7926413255360623, 0.7923976608187134, 0.7928849902534112, 0.7941033138401559, 0.7921539961013644, 0.7923976608187134, 0.7926413255360623, 0.7923976608187133, 0.7938596491228069, 0.7945906432748538, 0.7938596491228069, 0.7945906432748537, 0.7950779727095516, 0.7945906432748536, 0.7945906432748536, 0.7948343079922026, 0.7945906432748537, 0.7943469785575048, 0.794103313840156, 0.7921539961013645, 0.7931286549707601, 0.7911793372319688, 0.7945906432748536, 0.7941033138401559, 0.7945906432748536, 0.7933723196881092]\n",
      "Threshold (quantile 0.5): 0.7931286549707601\n",
      "Prediction vs threshold: 0.8278 vs 0.7931\n",
      "Decision: CONTINUE\n",
      "✅ CONTINUING: 0.8278 >= 0.7931\n",
      "Trial 99, Step 4: 54 trees, OOB: 0.7876\n",
      "\n",
      "=== DEBUGGING TRIAL 99 ===\n",
      "Intermediate values: {0: 0.7424749163879598, 1: 0.7491638795986622, 2: 0.7675585284280937, 3: 0.782608695652174, 4: 0.7876254180602007}\n",
      "Current step: 4, Current value: 0.7876254180602007\n",
      "Steps for prediction: [0 1 2 3 4]\n",
      "Values for prediction: [0.74247492 0.74916388 0.76755853 0.7826087  0.78762542]\n",
      "[Debug Trial 99]: Curve fit params: a=0.9588, b=0.2185, c=0.0643\n",
      "[Debug Trial 99]: Extrapolated to step 12: 0.8578\n",
      "Predicted final performance: 0.8577714395366768\n",
      "Completed trial values: [0.7905701754385964, 0.7938596491228068, 0.797027290448343, 0.7860623781676414, 0.7928849902534112, 0.7807017543859648, 0.790204678362573, 0.7897173489278753, 0.7887426900584794, 0.7897173489278753, 0.7902046783625731, 0.7877680311890839, 0.7958089668615984, 0.7926413255360623, 0.7923976608187134, 0.7928849902534112, 0.7941033138401559, 0.7921539961013644, 0.7923976608187134, 0.7926413255360623, 0.7923976608187133, 0.7938596491228069, 0.7945906432748538, 0.7938596491228069, 0.7945906432748537, 0.7950779727095516, 0.7945906432748536, 0.7945906432748536, 0.7948343079922026, 0.7945906432748537, 0.7943469785575048, 0.794103313840156, 0.7921539961013645, 0.7931286549707601, 0.7911793372319688, 0.7945906432748536, 0.7941033138401559, 0.7945906432748536, 0.7933723196881092]\n",
      "Threshold (quantile 0.5): 0.7931286549707601\n",
      "Prediction vs threshold: 0.8578 vs 0.7931\n",
      "Decision: CONTINUE\n",
      "✅ CONTINUING: 0.8578 >= 0.7931\n",
      "Trial 99, Step 5: 109 trees, OOB: 0.7876\n",
      "\n",
      "=== DEBUGGING TRIAL 99 ===\n",
      "Intermediate values: {0: 0.7424749163879598, 1: 0.7491638795986622, 2: 0.7675585284280937, 3: 0.782608695652174, 4: 0.7876254180602007, 5: 0.7876254180602007}\n",
      "Current step: 5, Current value: 0.7876254180602007\n",
      "Steps for prediction: [0 1 2 3 4 5]\n",
      "Values for prediction: [0.74247492 0.74916388 0.76755853 0.7826087  0.78762542 0.78762542]\n",
      "[Debug Trial 99]: Curve fit params: a=0.8125, b=0.0730, c=0.2462\n",
      "[Debug Trial 99]: Extrapolated to step 15: 0.8107\n",
      "Predicted final performance: 0.8107199482567421\n",
      "Completed trial values: [0.7905701754385964, 0.7938596491228068, 0.797027290448343, 0.7860623781676414, 0.7928849902534112, 0.7807017543859648, 0.790204678362573, 0.7897173489278753, 0.7887426900584794, 0.7897173489278753, 0.7902046783625731, 0.7877680311890839, 0.7958089668615984, 0.7926413255360623, 0.7923976608187134, 0.7928849902534112, 0.7941033138401559, 0.7921539961013644, 0.7923976608187134, 0.7926413255360623, 0.7923976608187133, 0.7938596491228069, 0.7945906432748538, 0.7938596491228069, 0.7945906432748537, 0.7950779727095516, 0.7945906432748536, 0.7945906432748536, 0.7948343079922026, 0.7945906432748537, 0.7943469785575048, 0.794103313840156, 0.7921539961013645, 0.7931286549707601, 0.7911793372319688, 0.7945906432748536, 0.7941033138401559, 0.7945906432748536, 0.7933723196881092]\n",
      "Threshold (quantile 0.5): 0.7931286549707601\n",
      "Prediction vs threshold: 0.8107 vs 0.7931\n",
      "Decision: CONTINUE\n",
      "✅ CONTINUING: 0.8107 >= 0.7931\n",
      "Trial 99 completed with AUC: 0.7912\n",
      "Trial 100, Step 0: 1 trees, OOB: nan\n",
      "\n",
      "=== DEBUGGING TRIAL 100 ===\n",
      "Intermediate values: {0: nan}\n",
      "Current step: 0, Current value: nan\n",
      "[Debug Trial 100]: Not enough steps (1 < 3)\n",
      "Trial 100, Step 1: 4 trees, OOB: 0.7492\n",
      "\n",
      "=== DEBUGGING TRIAL 100 ===\n",
      "Intermediate values: {0: nan, 1: 0.7491638795986622}\n",
      "Current step: 1, Current value: 0.7491638795986622\n",
      "[Debug Trial 100]: Not enough steps (2 < 3)\n",
      "Trial 100, Step 2: 9 trees, OOB: 0.7742\n",
      "\n",
      "=== DEBUGGING TRIAL 100 ===\n",
      "Intermediate values: {0: nan, 1: 0.7491638795986622, 2: 0.774247491638796}\n",
      "Current step: 2, Current value: 0.774247491638796\n",
      "Steps for prediction: [0 1 2]\n",
      "Values for prediction: [       nan 0.74916388 0.77424749]\n",
      "[Debug Trial 100]: Curve fitting failed: array must not contain infs or NaNs, using linear extrapolation\n",
      "Predicted final performance: 0.8244147157190638\n",
      "Completed trial values: [0.7905701754385964, 0.7938596491228068, 0.797027290448343, 0.7860623781676414, 0.7928849902534112, 0.7807017543859648, 0.790204678362573, 0.7897173489278753, 0.7887426900584794, 0.7897173489278753, 0.7902046783625731, 0.7877680311890839, 0.7958089668615984, 0.7926413255360623, 0.7923976608187134, 0.7928849902534112, 0.7941033138401559, 0.7921539961013644, 0.7923976608187134, 0.7926413255360623, 0.7923976608187133, 0.7938596491228069, 0.7945906432748538, 0.7938596491228069, 0.7945906432748537, 0.7950779727095516, 0.7945906432748536, 0.7945906432748536, 0.7948343079922026, 0.7945906432748537, 0.7943469785575048, 0.794103313840156, 0.7921539961013645, 0.7931286549707601, 0.7911793372319688, 0.7945906432748536, 0.7941033138401559, 0.7945906432748536, 0.7933723196881092, 0.7911793372319688]\n",
      "Threshold (quantile 0.5): 0.7930068226120857\n",
      "Prediction vs threshold: 0.8244 vs 0.7930\n",
      "Decision: CONTINUE\n",
      "✅ CONTINUING: 0.8244 >= 0.7930\n",
      "Trial 100, Step 3: 19 trees, OOB: 0.7759\n",
      "\n",
      "=== DEBUGGING TRIAL 100 ===\n",
      "Intermediate values: {0: nan, 1: 0.7491638795986622, 2: 0.774247491638796, 3: 0.7759197324414716}\n",
      "Current step: 3, Current value: 0.7759197324414716\n",
      "Steps for prediction: [0 1 2 3]\n",
      "Values for prediction: [       nan 0.74916388 0.77424749 0.77591973]\n",
      "[Debug Trial 100]: Curve fitting failed: array must not contain infs or NaNs, using linear extrapolation\n",
      "Predicted final performance: 0.7809364548494984\n",
      "Completed trial values: [0.7905701754385964, 0.7938596491228068, 0.797027290448343, 0.7860623781676414, 0.7928849902534112, 0.7807017543859648, 0.790204678362573, 0.7897173489278753, 0.7887426900584794, 0.7897173489278753, 0.7902046783625731, 0.7877680311890839, 0.7958089668615984, 0.7926413255360623, 0.7923976608187134, 0.7928849902534112, 0.7941033138401559, 0.7921539961013644, 0.7923976608187134, 0.7926413255360623, 0.7923976608187133, 0.7938596491228069, 0.7945906432748538, 0.7938596491228069, 0.7945906432748537, 0.7950779727095516, 0.7945906432748536, 0.7945906432748536, 0.7948343079922026, 0.7945906432748537, 0.7943469785575048, 0.794103313840156, 0.7921539961013645, 0.7931286549707601, 0.7911793372319688, 0.7945906432748536, 0.7941033138401559, 0.7945906432748536, 0.7933723196881092, 0.7911793372319688]\n",
      "Threshold (quantile 0.5): 0.7930068226120857\n",
      "Prediction vs threshold: 0.7809 vs 0.7930\n",
      "Decision: PRUNE\n",
      "🔥 PRUNING: 0.7809 < 0.7930\n",
      "Trial 100 pruned at step 3 (19 estimators, OOB: 0.7759)\n",
      "\n",
      "Optimization finished.\n",
      "Best trial value (AUC/Accuracy): 0.7970\n",
      "Best hyperparameters:\n",
      "  n_estimators: 112\n",
      "  max_depth: 12\n",
      "  min_samples_leaf: 15\n",
      "  max_features: log2\n",
      "  criterion: gini\n",
      "  class_weight: None\n",
      "Number of pruned trials: 60\n",
      "Number of complete trials: 40\n",
      "\n",
      "Pruning prediction analysis:\n",
      "Trial 2, Step 2: Predicted 0.7778, Threshold 0.7906, Pruned: True\n",
      "Trial 3, Step 2: Predicted 0.7739, Threshold 0.7906, Pruned: True\n",
      "Trial 4, Step 2: Predicted 0.6965, Threshold 0.7906, Pruned: True\n",
      "Trial 5, Step 2: Predicted 0.6890, Threshold 0.7906, Pruned: True\n",
      "Trial 6, Step 2: Predicted 0.8161, Threshold 0.7906, Pruned: False\n",
      "Trial 6, Step 3: Predicted 0.8428, Threshold 0.7906, Pruned: False\n",
      "Trial 6, Step 4: Predicted 0.8119, Threshold 0.7906, Pruned: False\n",
      "Trial 6, Step 5: Predicted 0.8005, Threshold 0.7906, Pruned: False\n",
      "Trial 7, Step 2: Predicted 0.7492, Threshold 0.7922, Pruned: True\n",
      "Trial 8, Step 2: Predicted 0.8205, Threshold 0.7922, Pruned: False\n",
      "Trial 8, Step 3: Predicted 0.7977, Threshold 0.7922, Pruned: False\n",
      "Trial 8, Step 4: Predicted 0.8181, Threshold 0.7922, Pruned: False\n",
      "Trial 8, Step 5: Predicted 0.7982, Threshold 0.7922, Pruned: False\n",
      "Trial 9, Step 2: Predicted 0.7210, Threshold 0.7939, Pruned: True\n",
      "Trial 10, Step 2: Predicted 0.7441, Threshold 0.7939, Pruned: True\n",
      "Trial 11, Step 2: Predicted 0.7834, Threshold 0.7939, Pruned: True\n",
      "Trial 12, Step 2: Predicted 0.8227, Threshold 0.7939, Pruned: False\n",
      "Trial 12, Step 3: Predicted 0.8060, Threshold 0.7939, Pruned: False\n",
      "Trial 12, Step 4: Predicted 0.8478, Threshold 0.7939, Pruned: False\n",
      "Trial 12, Step 5: Predicted 0.7441, Threshold 0.7939, Pruned: True\n",
      "Trial 13, Step 2: Predicted 0.7893, Threshold 0.7939, Pruned: True\n",
      "Trial 14, Step 2: Predicted 0.7642, Threshold 0.7939, Pruned: True\n",
      "Trial 15, Step 2: Predicted 0.8027, Threshold 0.7939, Pruned: False\n",
      "Trial 15, Step 3: Predicted 0.8328, Threshold 0.7939, Pruned: False\n",
      "Trial 15, Step 4: Predicted 0.8460, Threshold 0.7939, Pruned: False\n",
      "Trial 15, Step 5: Predicted 0.8005, Threshold 0.7939, Pruned: False\n",
      "Trial 16, Step 2: Predicted 0.7623, Threshold 0.7922, Pruned: True\n",
      "Trial 17, Step 2: Predicted 0.7926, Threshold 0.7922, Pruned: False\n",
      "Trial 17, Step 3: Predicted 0.8127, Threshold 0.7922, Pruned: False\n",
      "Trial 17, Step 4: Predicted 0.7993, Threshold 0.7922, Pruned: False\n",
      "Trial 17, Step 5: Predicted 0.7987, Threshold 0.7922, Pruned: False\n",
      "Trial 18, Step 2: Predicted 0.8395, Threshold 0.7929, Pruned: False\n",
      "Trial 18, Step 3: Predicted 0.8138, Threshold 0.7929, Pruned: False\n",
      "Trial 18, Step 4: Predicted 0.7934, Threshold 0.7929, Pruned: False\n",
      "Trial 18, Step 5: Predicted 0.7908, Threshold 0.7929, Pruned: True\n",
      "Trial 19, Step 2: Predicted 0.7860, Threshold 0.7929, Pruned: True\n",
      "Trial 20, Step 2: Predicted 0.8077, Threshold 0.7929, Pruned: False\n",
      "Trial 20, Step 3: Predicted 0.7241, Threshold 0.7929, Pruned: True\n",
      "Trial 21, Step 2: Predicted 0.7726, Threshold 0.7929, Pruned: True\n",
      "Trial 22, Step 2: Predicted 0.8029, Threshold 0.7929, Pruned: False\n",
      "Trial 22, Step 3: Predicted 0.8077, Threshold 0.7929, Pruned: False\n",
      "Trial 22, Step 4: Predicted 0.8301, Threshold 0.7929, Pruned: False\n",
      "Trial 22, Step 5: Predicted 0.7903, Threshold 0.7929, Pruned: True\n",
      "Trial 23, Step 2: Predicted 0.7795, Threshold 0.7929, Pruned: True\n",
      "Trial 24, Step 2: Predicted 0.8010, Threshold 0.7929, Pruned: False\n",
      "Trial 24, Step 3: Predicted 0.7823, Threshold 0.7929, Pruned: True\n",
      "Trial 25, Step 2: Predicted 0.8245, Threshold 0.7929, Pruned: False\n",
      "Trial 25, Step 3: Predicted 0.7933, Threshold 0.7929, Pruned: False\n",
      "Trial 25, Step 4: Predicted 0.7862, Threshold 0.7929, Pruned: True\n",
      "Trial 26, Step 2: Predicted 0.8050, Threshold 0.7929, Pruned: False\n",
      "Trial 26, Step 3: Predicted 0.8126, Threshold 0.7929, Pruned: False\n",
      "Trial 26, Step 4: Predicted 0.8042, Threshold 0.7929, Pruned: False\n",
      "Trial 26, Step 5: Predicted 0.7939, Threshold 0.7929, Pruned: False\n",
      "Trial 27, Step 2: Predicted 0.7776, Threshold 0.7917, Pruned: True\n",
      "Trial 28, Step 2: Predicted 0.7689, Threshold 0.7917, Pruned: True\n",
      "Trial 29, Step 2: Predicted 0.7947, Threshold 0.7917, Pruned: False\n",
      "Trial 29, Step 3: Predicted 0.7885, Threshold 0.7917, Pruned: True\n",
      "Trial 30, Step 2: Predicted 0.6603, Threshold 0.7917, Pruned: True\n",
      "Trial 31, Step 2: Predicted 0.7742, Threshold 0.7917, Pruned: True\n",
      "Trial 32, Step 2: Predicted 0.6828, Threshold 0.7917, Pruned: True\n",
      "Trial 33, Step 2: Predicted 0.5957, Threshold 0.7917, Pruned: True\n",
      "Trial 34, Step 2: Predicted 0.7628, Threshold 0.7917, Pruned: True\n",
      "Trial 35, Step 2: Predicted 0.6204, Threshold 0.7917, Pruned: True\n",
      "Trial 36, Step 2: Predicted -122.4944, Threshold 0.7917, Pruned: True\n",
      "Trial 37, Step 2: Predicted 0.7517, Threshold 0.7917, Pruned: True\n",
      "Trial 38, Step 2: Predicted 0.6374, Threshold 0.7917, Pruned: True\n",
      "Trial 39, Step 2: Predicted 0.7607, Threshold 0.7917, Pruned: True\n",
      "Trial 40, Step 2: Predicted 0.6636, Threshold 0.7917, Pruned: True\n",
      "Trial 41, Step 2: Predicted 0.7726, Threshold 0.7917, Pruned: True\n",
      "Trial 42, Step 2: Predicted 0.7826, Threshold 0.7917, Pruned: True\n",
      "Trial 43, Step 2: Predicted 0.7826, Threshold 0.7917, Pruned: True\n",
      "Trial 44, Step 2: Predicted 0.8213, Threshold 0.7917, Pruned: False\n",
      "Trial 44, Step 3: Predicted 0.7876, Threshold 0.7917, Pruned: True\n",
      "Trial 45, Step 2: Predicted 0.7977, Threshold 0.7917, Pruned: False\n",
      "Trial 45, Step 3: Predicted 0.8103, Threshold 0.7917, Pruned: False\n",
      "Trial 45, Step 4: Predicted 0.8130, Threshold 0.7917, Pruned: False\n",
      "Trial 45, Step 5: Predicted 0.7988, Threshold 0.7917, Pruned: False\n",
      "Trial 46, Step 2: Predicted 0.7977, Threshold 0.7906, Pruned: False\n",
      "Trial 46, Step 3: Predicted 0.8103, Threshold 0.7906, Pruned: False\n",
      "Trial 46, Step 4: Predicted 0.8130, Threshold 0.7906, Pruned: False\n",
      "Trial 46, Step 5: Predicted 0.7988, Threshold 0.7906, Pruned: False\n",
      "Trial 47, Step 2: Predicted 0.7828, Threshold 0.7904, Pruned: True\n",
      "Trial 48, Step 2: Predicted 0.7977, Threshold 0.7904, Pruned: False\n",
      "Trial 48, Step 3: Predicted 0.8144, Threshold 0.7904, Pruned: False\n",
      "Trial 48, Step 4: Predicted 0.8115, Threshold 0.7904, Pruned: False\n",
      "Trial 48, Step 5: Predicted 0.7975, Threshold 0.7904, Pruned: False\n",
      "Trial 49, Step 2: Predicted 0.7877, Threshold 0.7902, Pruned: True\n",
      "Trial 50, Step 2: Predicted 0.7977, Threshold 0.7902, Pruned: False\n",
      "Trial 50, Step 3: Predicted 0.7871, Threshold 0.7902, Pruned: True\n",
      "Trial 51, Step 2: Predicted 0.7823, Threshold 0.7902, Pruned: True\n",
      "Trial 52, Step 2: Predicted 0.7977, Threshold 0.7902, Pruned: False\n",
      "Trial 52, Step 3: Predicted 0.8103, Threshold 0.7902, Pruned: False\n",
      "Trial 52, Step 4: Predicted 0.8130, Threshold 0.7902, Pruned: False\n",
      "Trial 52, Step 5: Predicted 0.7988, Threshold 0.7902, Pruned: False\n",
      "Trial 53, Step 2: Predicted 0.7977, Threshold 0.7900, Pruned: False\n",
      "Trial 53, Step 3: Predicted 0.8077, Threshold 0.7900, Pruned: False\n",
      "Trial 53, Step 4: Predicted 0.8473, Threshold 0.7900, Pruned: False\n",
      "Trial 53, Step 5: Predicted 0.8020, Threshold 0.7900, Pruned: False\n",
      "Trial 54, Step 2: Predicted 0.7998, Threshold 0.7902, Pruned: False\n",
      "Trial 54, Step 3: Predicted 0.8228, Threshold 0.7902, Pruned: False\n",
      "Trial 54, Step 4: Predicted 0.7993, Threshold 0.7902, Pruned: False\n",
      "Trial 54, Step 5: Predicted 0.7887, Threshold 0.7902, Pruned: True\n",
      "Trial 55, Step 2: Predicted 0.8311, Threshold 0.7902, Pruned: False\n",
      "Trial 55, Step 3: Predicted 0.7921, Threshold 0.7902, Pruned: False\n",
      "Trial 55, Step 4: Predicted 0.7862, Threshold 0.7902, Pruned: True\n",
      "Trial 56, Step 2: Predicted 0.8068, Threshold 0.7902, Pruned: False\n",
      "Trial 56, Step 3: Predicted 0.8344, Threshold 0.7902, Pruned: False\n",
      "Trial 56, Step 4: Predicted 0.8127, Threshold 0.7902, Pruned: False\n",
      "Trial 56, Step 5: Predicted 0.8149, Threshold 0.7902, Pruned: False\n",
      "Trial 57, Step 2: Predicted 0.7728, Threshold 0.7900, Pruned: True\n",
      "Trial 58, Step 2: Predicted 0.8127, Threshold 0.7900, Pruned: False\n",
      "Trial 58, Step 3: Predicted 0.8394, Threshold 0.7900, Pruned: False\n",
      "Trial 58, Step 4: Predicted 0.8094, Threshold 0.7900, Pruned: False\n",
      "Trial 58, Step 5: Predicted 0.7885, Threshold 0.7900, Pruned: True\n",
      "Trial 59, Step 2: Predicted 0.8289, Threshold 0.7900, Pruned: False\n",
      "Trial 59, Step 3: Predicted 0.8177, Threshold 0.7900, Pruned: False\n",
      "Trial 59, Step 4: Predicted 0.8418, Threshold 0.7900, Pruned: False\n",
      "Trial 59, Step 5: Predicted 0.8055, Threshold 0.7900, Pruned: False\n",
      "Trial 60, Step 2: Predicted 0.6488, Threshold 0.7902, Pruned: True\n",
      "Trial 61, Step 2: Predicted 0.7609, Threshold 0.7902, Pruned: True\n",
      "Trial 62, Step 2: Predicted 0.7993, Threshold 0.7902, Pruned: False\n",
      "Trial 62, Step 3: Predicted 0.8194, Threshold 0.7902, Pruned: False\n",
      "Trial 62, Step 4: Predicted 0.8516, Threshold 0.7902, Pruned: False\n",
      "Trial 62, Step 5: Predicted 0.8260, Threshold 0.7902, Pruned: False\n",
      "Trial 63, Step 2: Predicted 0.8127, Threshold 0.7902, Pruned: False\n",
      "Trial 63, Step 3: Predicted 0.8161, Threshold 0.7902, Pruned: False\n",
      "Trial 63, Step 4: Predicted 0.8227, Threshold 0.7902, Pruned: False\n",
      "Trial 63, Step 5: Predicted 0.7793, Threshold 0.7902, Pruned: True\n",
      "Trial 64, Step 2: Predicted 0.8077, Threshold 0.7902, Pruned: False\n",
      "Trial 64, Step 3: Predicted 0.8472, Threshold 0.7902, Pruned: False\n",
      "Trial 64, Step 4: Predicted 0.8309, Threshold 0.7902, Pruned: False\n",
      "Trial 64, Step 5: Predicted 0.8030, Threshold 0.7902, Pruned: False\n",
      "Trial 65, Step 2: Predicted 0.8094, Threshold 0.7902, Pruned: False\n",
      "Trial 65, Step 3: Predicted 0.8027, Threshold 0.7902, Pruned: False\n",
      "Trial 65, Step 4: Predicted 0.8445, Threshold 0.7902, Pruned: False\n",
      "Trial 65, Step 5: Predicted 0.7910, Threshold 0.7902, Pruned: False\n",
      "Trial 66, Step 2: Predicted 0.8094, Threshold 0.7904, Pruned: False\n",
      "Trial 66, Step 3: Predicted 0.8027, Threshold 0.7904, Pruned: False\n",
      "Trial 66, Step 4: Predicted 0.8528, Threshold 0.7904, Pruned: False\n",
      "Trial 66, Step 5: Predicted 0.7826, Threshold 0.7904, Pruned: True\n",
      "Trial 67, Step 2: Predicted 0.8077, Threshold 0.7904, Pruned: False\n",
      "Trial 67, Step 3: Predicted 0.8472, Threshold 0.7904, Pruned: False\n",
      "Trial 67, Step 4: Predicted 0.8214, Threshold 0.7904, Pruned: False\n",
      "Trial 67, Step 5: Predicted 0.8091, Threshold 0.7904, Pruned: False\n",
      "Trial 68, Step 2: Predicted 0.8289, Threshold 0.7906, Pruned: False\n",
      "Trial 68, Step 3: Predicted 0.8177, Threshold 0.7906, Pruned: False\n",
      "Trial 68, Step 4: Predicted 0.8311, Threshold 0.7906, Pruned: False\n",
      "Trial 68, Step 5: Predicted 0.8118, Threshold 0.7906, Pruned: False\n",
      "Trial 69, Step 2: Predicted 0.8094, Threshold 0.7914, Pruned: False\n",
      "Trial 69, Step 3: Predicted 0.8027, Threshold 0.7914, Pruned: False\n",
      "Trial 69, Step 4: Predicted 0.8361, Threshold 0.7914, Pruned: False\n",
      "Trial 69, Step 5: Predicted 0.7993, Threshold 0.7914, Pruned: False\n",
      "Trial 70, Step 2: Predicted 0.8227, Threshold 0.7922, Pruned: False\n",
      "Trial 70, Step 3: Predicted 0.8060, Threshold 0.7922, Pruned: False\n",
      "Trial 70, Step 4: Predicted 0.8144, Threshold 0.7922, Pruned: False\n",
      "Trial 70, Step 5: Predicted 0.7876, Threshold 0.7922, Pruned: True\n",
      "Trial 71, Step 2: Predicted 0.7943, Threshold 0.7922, Pruned: False\n",
      "Trial 71, Step 3: Predicted 0.8645, Threshold 0.7922, Pruned: False\n",
      "Trial 71, Step 4: Predicted 0.8261, Threshold 0.7922, Pruned: False\n",
      "Trial 71, Step 5: Predicted 0.7826, Threshold 0.7922, Pruned: True\n",
      "Trial 72, Step 2: Predicted 0.8077, Threshold 0.7922, Pruned: False\n",
      "Trial 72, Step 3: Predicted 0.8472, Threshold 0.7922, Pruned: False\n",
      "Trial 72, Step 4: Predicted 0.8309, Threshold 0.7922, Pruned: False\n",
      "Trial 72, Step 5: Predicted 0.8064, Threshold 0.7922, Pruned: False\n",
      "Trial 73, Step 2: Predicted 0.8043, Threshold 0.7923, Pruned: False\n",
      "Trial 73, Step 3: Predicted 0.8278, Threshold 0.7923, Pruned: False\n",
      "Trial 73, Step 4: Predicted 0.8578, Threshold 0.7923, Pruned: False\n",
      "Trial 73, Step 5: Predicted 0.8155, Threshold 0.7923, Pruned: False\n",
      "Trial 74, Step 2: Predicted 0.8227, Threshold 0.7924, Pruned: False\n",
      "Trial 74, Step 3: Predicted 0.7993, Threshold 0.7924, Pruned: False\n",
      "Trial 74, Step 4: Predicted 0.8211, Threshold 0.7924, Pruned: False\n",
      "Trial 74, Step 5: Predicted 0.7977, Threshold 0.7924, Pruned: False\n",
      "Trial 75, Step 2: Predicted 0.8383, Threshold 0.7924, Pruned: False\n",
      "Trial 75, Step 3: Predicted 0.8144, Threshold 0.7924, Pruned: False\n",
      "Trial 75, Step 4: Predicted 0.8131, Threshold 0.7924, Pruned: False\n",
      "Trial 75, Step 5: Predicted 0.7972, Threshold 0.7924, Pruned: False\n",
      "Trial 76, Step 2: Predicted 0.7705, Threshold 0.7924, Pruned: True\n",
      "Trial 77, Step 2: Predicted 0.8227, Threshold 0.7924, Pruned: False\n",
      "Trial 77, Step 3: Predicted 0.7993, Threshold 0.7924, Pruned: False\n",
      "Trial 77, Step 4: Predicted 0.8211, Threshold 0.7924, Pruned: False\n",
      "Trial 77, Step 5: Predicted 0.7977, Threshold 0.7924, Pruned: False\n",
      "Trial 78, Step 2: Predicted 0.8227, Threshold 0.7924, Pruned: False\n",
      "Trial 78, Step 3: Predicted 0.7993, Threshold 0.7924, Pruned: False\n",
      "Trial 78, Step 4: Predicted 0.8211, Threshold 0.7924, Pruned: False\n",
      "Trial 78, Step 5: Predicted 0.7876, Threshold 0.7924, Pruned: True\n",
      "Trial 79, Step 2: Predicted 0.8227, Threshold 0.7924, Pruned: False\n",
      "Trial 79, Step 3: Predicted 0.8162, Threshold 0.7924, Pruned: False\n",
      "Trial 79, Step 4: Predicted 0.7933, Threshold 0.7924, Pruned: False\n",
      "Trial 79, Step 5: Predicted 0.7900, Threshold 0.7924, Pruned: True\n",
      "Trial 80, Step 2: Predicted 0.7542, Threshold 0.7924, Pruned: True\n",
      "Trial 81, Step 2: Predicted 0.8177, Threshold 0.7924, Pruned: False\n",
      "Trial 81, Step 3: Predicted 0.8211, Threshold 0.7924, Pruned: False\n",
      "Trial 81, Step 4: Predicted 0.8180, Threshold 0.7924, Pruned: False\n",
      "Trial 81, Step 5: Predicted 0.7991, Threshold 0.7924, Pruned: False\n",
      "Trial 82, Step 2: Predicted 0.8177, Threshold 0.7924, Pruned: False\n",
      "Trial 82, Step 3: Predicted 0.8592, Threshold 0.7924, Pruned: False\n",
      "Trial 82, Step 4: Predicted 0.8067, Threshold 0.7924, Pruned: False\n",
      "Trial 82, Step 5: Predicted 0.7972, Threshold 0.7924, Pruned: False\n",
      "Trial 83, Step 2: Predicted 0.8177, Threshold 0.7925, Pruned: False\n",
      "Trial 83, Step 3: Predicted 0.8592, Threshold 0.7925, Pruned: False\n",
      "Trial 83, Step 4: Predicted 0.8119, Threshold 0.7925, Pruned: False\n",
      "Trial 83, Step 5: Predicted 0.7982, Threshold 0.7925, Pruned: False\n",
      "Trial 84, Step 2: Predicted 0.8177, Threshold 0.7926, Pruned: False\n",
      "Trial 84, Step 3: Predicted 0.8592, Threshold 0.7926, Pruned: False\n",
      "Trial 84, Step 4: Predicted 0.8119, Threshold 0.7926, Pruned: False\n",
      "Trial 84, Step 5: Predicted 0.7982, Threshold 0.7926, Pruned: False\n",
      "Trial 85, Step 2: Predicted 0.8177, Threshold 0.7926, Pruned: False\n",
      "Trial 85, Step 3: Predicted 0.8211, Threshold 0.7926, Pruned: False\n",
      "Trial 85, Step 4: Predicted 0.8121, Threshold 0.7926, Pruned: False\n",
      "Trial 85, Step 5: Predicted 0.7981, Threshold 0.7926, Pruned: False\n",
      "Trial 86, Step 2: Predicted 0.8177, Threshold 0.7926, Pruned: False\n",
      "Trial 86, Step 3: Predicted 0.8211, Threshold 0.7926, Pruned: False\n",
      "Trial 86, Step 4: Predicted 0.8180, Threshold 0.7926, Pruned: False\n",
      "Trial 86, Step 5: Predicted 0.7991, Threshold 0.7926, Pruned: False\n",
      "Trial 87, Step 2: Predicted 0.8431, Threshold 0.7928, Pruned: False\n",
      "Trial 87, Step 3: Predicted 0.8294, Threshold 0.7928, Pruned: False\n",
      "Trial 87, Step 4: Predicted 0.8217, Threshold 0.7928, Pruned: False\n",
      "Trial 87, Step 5: Predicted 0.8045, Threshold 0.7928, Pruned: False\n",
      "Trial 88, Step 2: Predicted 0.8194, Threshold 0.7929, Pruned: False\n",
      "Trial 88, Step 3: Predicted 0.8098, Threshold 0.7929, Pruned: False\n",
      "Trial 88, Step 4: Predicted 0.7996, Threshold 0.7929, Pruned: False\n",
      "Trial 88, Step 5: Predicted 0.7932, Threshold 0.7929, Pruned: False\n",
      "Trial 89, Step 2: Predicted 0.8194, Threshold 0.7929, Pruned: False\n",
      "Trial 89, Step 3: Predicted 0.8174, Threshold 0.7929, Pruned: False\n",
      "Trial 89, Step 4: Predicted 0.7951, Threshold 0.7929, Pruned: False\n",
      "Trial 89, Step 5: Predicted 0.7918, Threshold 0.7929, Pruned: True\n",
      "Trial 90, Step 2: Predicted 0.8261, Threshold 0.7929, Pruned: False\n",
      "Trial 90, Step 3: Predicted 0.8570, Threshold 0.7929, Pruned: False\n",
      "Trial 90, Step 4: Predicted 0.8065, Threshold 0.7929, Pruned: False\n",
      "Trial 90, Step 5: Predicted 0.7971, Threshold 0.7929, Pruned: False\n",
      "Trial 91, Step 2: Predicted 0.8054, Threshold 0.7929, Pruned: False\n",
      "Trial 91, Step 3: Predicted 0.8077, Threshold 0.7929, Pruned: False\n",
      "Trial 91, Step 4: Predicted 0.8453, Threshold 0.7929, Pruned: False\n",
      "Trial 91, Step 5: Predicted 0.7947, Threshold 0.7929, Pruned: False\n",
      "Trial 92, Step 2: Predicted 0.8431, Threshold 0.7929, Pruned: False\n",
      "Trial 92, Step 3: Predicted 0.8294, Threshold 0.7929, Pruned: False\n",
      "Trial 92, Step 4: Predicted 0.8217, Threshold 0.7929, Pruned: False\n",
      "Trial 92, Step 5: Predicted 0.8045, Threshold 0.7929, Pruned: False\n",
      "Trial 93, Step 2: Predicted 0.8177, Threshold 0.7929, Pruned: False\n",
      "Trial 93, Step 3: Predicted 0.8592, Threshold 0.7929, Pruned: False\n",
      "Trial 93, Step 4: Predicted 0.8119, Threshold 0.7929, Pruned: False\n",
      "Trial 93, Step 5: Predicted 0.7982, Threshold 0.7929, Pruned: False\n",
      "Trial 94, Step 2: Predicted 0.8194, Threshold 0.7929, Pruned: False\n",
      "Trial 94, Step 3: Predicted 0.8098, Threshold 0.7929, Pruned: False\n",
      "Trial 94, Step 4: Predicted 0.7996, Threshold 0.7929, Pruned: False\n",
      "Trial 94, Step 5: Predicted 0.7932, Threshold 0.7929, Pruned: False\n",
      "Trial 95, Step 2: Predicted 0.8278, Threshold 0.7929, Pruned: False\n",
      "Trial 95, Step 3: Predicted 0.8211, Threshold 0.7929, Pruned: False\n",
      "Trial 95, Step 4: Predicted 0.7958, Threshold 0.7929, Pruned: False\n",
      "Trial 95, Step 5: Predicted 0.7921, Threshold 0.7929, Pruned: True\n",
      "Trial 96, Step 2: Predicted 0.8177, Threshold 0.7929, Pruned: False\n",
      "Trial 96, Step 3: Predicted 0.8592, Threshold 0.7929, Pruned: False\n",
      "Trial 96, Step 4: Predicted 0.8119, Threshold 0.7929, Pruned: False\n",
      "Trial 96, Step 5: Predicted 0.7982, Threshold 0.7929, Pruned: False\n",
      "Trial 97, Step 2: Predicted 0.7705, Threshold 0.7930, Pruned: True\n",
      "Trial 98, Step 2: Predicted 0.8378, Threshold 0.7930, Pruned: False\n",
      "Trial 98, Step 3: Predicted 0.8671, Threshold 0.7930, Pruned: False\n",
      "Trial 98, Step 4: Predicted 0.8031, Threshold 0.7930, Pruned: False\n",
      "Trial 98, Step 5: Predicted 0.7982, Threshold 0.7930, Pruned: False\n",
      "Trial 99, Step 2: Predicted 0.8043, Threshold 0.7931, Pruned: False\n",
      "Trial 99, Step 3: Predicted 0.8278, Threshold 0.7931, Pruned: False\n",
      "Trial 99, Step 4: Predicted 0.8578, Threshold 0.7931, Pruned: False\n",
      "Trial 99, Step 5: Predicted 0.8107, Threshold 0.7931, Pruned: False\n",
      "Trial 100, Step 2: Predicted 0.8244, Threshold 0.7930, Pruned: False\n",
      "Trial 100, Step 3: Predicted 0.7809, Threshold 0.7930, Pruned: True\n",
      "Final Model AUC: 0.7970\n",
      "\n",
      "--- Final Model Evaluation ---\n",
      "Metric (AUC): 0.7970\n",
      "Training time for final model: 0.14 seconds\n",
      "Best model and preprocessor for Blood Transfusion saved (fixed pruner run).\n"
     ]
    }
   ],
   "source": [
    "import pandas as pd\n",
    "import numpy as np\n",
    "from scipy.io import arff\n",
    "from sklearn.model_selection import train_test_split\n",
    "from sklearn.preprocessing import LabelEncoder\n",
    "from sklearn.compose import ColumnTransformer\n",
    "from sklearn.pipeline import Pipeline\n",
    "import optuna\n",
    "from sklearn.ensemble import RandomForestClassifier\n",
    "from sklearn.metrics import accuracy_score, roc_auc_score\n",
    "import functools\n",
    "import warnings\n",
    "import joblib\n",
    "import time\n",
    "from collections import defaultdict\n",
    "from scipy.optimize import curve_fit\n",
    "\n",
    "# Suppress warnings\n",
    "warnings.filterwarnings(\"ignore\", category=UserWarning, module='sklearn')\n",
    "optuna.logging.set_verbosity(optuna.logging.WARNING)\n",
    "\n",
    "# --- 1. RandomForestMultiFidelityPruner (Unchanged) ---\n",
    "class RandomForestMultiFidelityPruner(optuna.pruners.BasePruner):\n",
    "    def __init__(self, \n",
    "                 min_intermediate_steps=3, \n",
    "                 pruning_quantile=0.5, \n",
    "                 grace_period_steps=2, \n",
    "                 predictive_model_type='saturating_curve', \n",
    "                 debug_mode=True):\n",
    "        self.min_intermediate_steps = min_intermediate_steps\n",
    "        self.pruning_quantile = pruning_quantile\n",
    "        self.grace_period_steps = grace_period_steps\n",
    "        self.predictive_model_type = predictive_model_type\n",
    "        self.trial_learning_curves = defaultdict(list)\n",
    "        self.debug_mode = debug_mode\n",
    "        self.predictions_log = []\n",
    "\n",
    "    def prune(self, study, trial):\n",
    "        trial_id = trial.number\n",
    "        intermediate_values = trial.intermediate_values\n",
    "        \n",
    "        if self.debug_mode:\n",
    "            print(f\"\\n=== DEBUGGING TRIAL {trial_id} ===\")\n",
    "            print(f\"Intermediate values: {intermediate_values}\")\n",
    "        \n",
    "        if not intermediate_values:\n",
    "            if self.debug_mode:\n",
    "                print(f\"[Debug Trial {trial_id}]: No intermediate values reported\")\n",
    "            return False\n",
    "        \n",
    "        current_step = max(intermediate_values.keys())\n",
    "        current_value = intermediate_values[current_step]\n",
    "        \n",
    "        if self.debug_mode:\n",
    "            print(f\"Current step: {current_step}, Current value: {current_value}\")\n",
    "        \n",
    "        if trial_id not in self.trial_learning_curves:\n",
    "            self.trial_learning_curves[trial_id] = []\n",
    "        if not self.trial_learning_curves[trial_id] or \\\n",
    "           self.trial_learning_curves[trial_id][-1][0] != current_step:\n",
    "            self.trial_learning_curves[trial_id].append((current_step, current_value))\n",
    "        \n",
    "        if len(intermediate_values) < self.min_intermediate_steps:\n",
    "            if self.debug_mode:\n",
    "                print(f\"[Debug Trial {trial_id}]: Not enough steps ({len(intermediate_values)} < {self.min_intermediate_steps})\")\n",
    "            return False\n",
    "        \n",
    "        if current_step < self.grace_period_steps:\n",
    "            if self.debug_mode:\n",
    "                print(f\"[Debug Trial {trial_id}]: In grace period (step {current_step} < {self.grace_period_steps})\")\n",
    "            return False\n",
    "        \n",
    "        steps = np.array(list(intermediate_values.keys()))\n",
    "        values = np.array(list(intermediate_values.values()))\n",
    "        \n",
    "        if self.debug_mode:\n",
    "            print(f\"Steps for prediction: {steps}\")\n",
    "            print(f\"Values for prediction: {values}\")\n",
    "        \n",
    "        try:\n",
    "            predicted_final_performance = self._predict_final_performance(\n",
    "                steps, values, trial.params.get('n_estimators', 250), trial_id)\n",
    "            \n",
    "            if self.debug_mode:\n",
    "                print(f\"Predicted final performance: {predicted_final_performance}\")\n",
    "                \n",
    "        except Exception as e:\n",
    "            if self.debug_mode:\n",
    "                print(f\"[Debug Trial {trial_id}]: Prediction failed: {e}\")\n",
    "            return False\n",
    "        \n",
    "        completed_trial_values = [\n",
    "            t.value for t in study.trials \n",
    "            if t.state == optuna.trial.TrialState.COMPLETE and t.value is not None\n",
    "        ]\n",
    "        \n",
    "        if not completed_trial_values:\n",
    "            if self.debug_mode:\n",
    "                print(f\"[Debug Trial {trial_id}]: No completed trials yet\")\n",
    "            return False\n",
    "        \n",
    "        threshold = np.quantile(completed_trial_values, self.pruning_quantile)\n",
    "        \n",
    "        if self.debug_mode:\n",
    "            print(f\"Completed trial values: {completed_trial_values}\")\n",
    "            print(f\"Threshold (quantile {self.pruning_quantile}): {threshold}\")\n",
    "            print(f\"Prediction vs threshold: {predicted_final_performance:.4f} vs {threshold:.4f}\")\n",
    "        \n",
    "        should_prune = predicted_final_performance < threshold\n",
    "        \n",
    "        if self.debug_mode:\n",
    "            decision = \"PRUNE\" if should_prune else \"CONTINUE\"\n",
    "            print(f\"Decision: {decision}\")\n",
    "            if should_prune:\n",
    "                print(f\"🔥 PRUNING: {predicted_final_performance:.4f} < {threshold:.4f}\")\n",
    "            else:\n",
    "                print(f\"✅ CONTINUING: {predicted_final_performance:.4f} >= {threshold:.4f}\")\n",
    "        \n",
    "        self.predictions_log.append({\n",
    "            'trial_id': trial_id,\n",
    "            'step': current_step,\n",
    "            'predicted': predicted_final_performance,\n",
    "            'threshold': threshold,\n",
    "            'pruned': should_prune,\n",
    "            'intermediate_values': dict(intermediate_values)\n",
    "        })\n",
    "        \n",
    "        return should_prune\n",
    "\n",
    "    def _predict_final_performance(self, steps, values, max_n_estimators, trial_id):\n",
    "        if self.predictive_model_type == 'saturating_curve':\n",
    "            return self._fit_saturating_curve(steps, values, trial_id)\n",
    "        elif self.predictive_model_type == 'linear_extrapolation':\n",
    "            return self._linear_extrapolation(steps, values)\n",
    "        else:\n",
    "            return values[-1]\n",
    "    \n",
    "    def _fit_saturating_curve(self, steps, values, trial_id):\n",
    "        def saturating_func(x, a, b, c):\n",
    "            return a - b * np.exp(-c * x)\n",
    "        \n",
    "        try:\n",
    "            p0 = [max(values), max(values) - min(values), 0.1]\n",
    "            popt, _ = curve_fit(saturating_func, steps, values, p0=p0, maxfev=1000)\n",
    "            final_step = max(steps) * 3\n",
    "            predicted = saturating_func(final_step, *popt)\n",
    "            \n",
    "            if self.debug_mode:\n",
    "                print(f\"[Debug Trial {trial_id}]: Curve fit params: a={popt[0]:.4f}, b={popt[1]:.4f}, c={popt[2]:.4f}\")\n",
    "                print(f\"[Debug Trial {trial_id}]: Extrapolated to step {final_step}: {predicted:.4f}\")\n",
    "            \n",
    "            return predicted\n",
    "            \n",
    "        except Exception as e:\n",
    "            if self.debug_mode:\n",
    "                print(f\"[Debug Trial {trial_id}]: Curve fitting failed: {e}, using linear extrapolation\")\n",
    "            return self._linear_extrapolation(steps, values)\n",
    "    \n",
    "    def _linear_extrapolation(self, steps, values):\n",
    "        if len(steps) < 2:\n",
    "            return values[-1]\n",
    "        \n",
    "        slope = (values[-1] - values[-2]) / (steps[-1] - steps[-2])\n",
    "        target_step = steps[-1] * 2\n",
    "        predicted = values[-1] + slope * (target_step - steps[-1])\n",
    "        \n",
    "        return predicted\n",
    "    \n",
    "    def get_prediction_analysis(self):\n",
    "        return self.predictions_log\n",
    "\n",
    "# --- 2. Dataset Loading and Preprocessing ---\n",
    "def load_and_preprocess_arff(filepath, target_column_name=None):\n",
    "    data, meta = arff.loadarff(filepath)\n",
    "    df = pd.DataFrame(data)\n",
    "\n",
    "    for col in df.columns:\n",
    "        if df[col].dtype == 'object':\n",
    "            try:\n",
    "                df[col] = df[col].apply(lambda x: x.decode('utf-8') if isinstance(x, bytes) else x)\n",
    "            except (UnicodeDecodeError, AttributeError):\n",
    "                pass\n",
    "\n",
    "    if target_column_name is None:\n",
    "        target_column_name = df.columns[-1]\n",
    "\n",
    "    X = df.drop(columns=[target_column_name])\n",
    "    y = df[target_column_name]\n",
    "\n",
    "    categorical_features = X.select_dtypes(include=['object', 'category']).columns.tolist()\n",
    "    numerical_features = X.select_dtypes(include=np.number).columns.tolist()\n",
    "\n",
    "    feature_names = X.columns.tolist()\n",
    "    categorical_features_idx = [feature_names.index(col) for col in categorical_features]\n",
    "\n",
    "    print(f\"Loaded {filepath}. Shape: {df.shape}\")\n",
    "    print(f\"Target column: '{target_column_name}'\")\n",
    "    print(f\"Numerical features: {numerical_features}\")\n",
    "    print(f\"Categorical features detected: {categorical_features}\")\n",
    "\n",
    "    return X, y, feature_names, categorical_features_idx\n",
    "\n",
    "def get_preprocessor(numerical_features, categorical_features):\n",
    "    from sklearn.preprocessing import OneHotEncoder\n",
    "    transformers = []\n",
    "    if numerical_features:\n",
    "        transformers.append(('num', 'passthrough', numerical_features))\n",
    "    if categorical_features:\n",
    "        transformers.append(('cat', OneHotEncoder(handle_unknown='ignore'), categorical_features))\n",
    "\n",
    "    preprocessor = ColumnTransformer(\n",
    "        transformers=transformers,\n",
    "        remainder='drop'\n",
    "    )\n",
    "    return preprocessor\n",
    "\n",
    "# --- 3. Corrected Objective Function ---\n",
    "def objective(trial, X_train_raw, y_train_encoded, X_val_raw, y_val_encoded,\n",
    "              task_type='classification', preprocessor=None, max_n_estimators_upper_bound=250,\n",
    "              debug_mode=True):  # Added debug_mode parameter\n",
    "    n_estimators = trial.suggest_int(\"n_estimators\", 50, max_n_estimators_upper_bound)\n",
    "    max_depth = trial.suggest_int(\"max_depth\", 2, 32)\n",
    "    min_samples_leaf = trial.suggest_int(\"min_samples_leaf\", 1, 20)\n",
    "    max_features_val = trial.suggest_categorical(\"max_features\", ['sqrt', 'log2', 0.5, 0.7, 1.0])\n",
    "    criterion = trial.suggest_categorical(\"criterion\", [\"gini\", \"entropy\"])\n",
    "    class_weight = trial.suggest_categorical(\"class_weight\", [None, \"balanced\"])\n",
    "\n",
    "    rf_model = RandomForestClassifier(\n",
    "        n_estimators=1,\n",
    "        max_depth=max_depth,\n",
    "        min_samples_leaf=min_samples_leaf,\n",
    "        max_features=max_features_val,\n",
    "        criterion=criterion,\n",
    "        class_weight=class_weight,\n",
    "        oob_score=True,\n",
    "        random_state=42,\n",
    "        warm_start=True,\n",
    "        n_jobs=-1\n",
    "    )\n",
    "\n",
    "    if preprocessor:\n",
    "        X_train_processed = preprocessor.fit_transform(X_train_raw)\n",
    "        X_val_processed = preprocessor.transform(X_val_raw)\n",
    "    else:\n",
    "        X_train_processed = X_train_raw.to_numpy()\n",
    "        X_val_processed = X_val_raw.to_numpy()\n",
    "\n",
    "    fidelity_schedule = [0.02, 0.05, 0.1, 0.2, 0.5, 1.0]\n",
    "    fidelity_steps = sorted(list(set([max(1, int(n_estimators * p)) for p in fidelity_schedule])))\n",
    "\n",
    "    for step, current_n_estimators in enumerate(fidelity_steps):\n",
    "        if current_n_estimators > rf_model.n_estimators:\n",
    "            rf_model.n_estimators = current_n_estimators\n",
    "            rf_model.fit(X_train_processed, y_train_encoded)\n",
    "\n",
    "        if rf_model.n_estimators > 1 and hasattr(rf_model, 'oob_score_'):\n",
    "            current_oob_score = rf_model.oob_score_\n",
    "        else:\n",
    "            current_oob_score = np.nan\n",
    "\n",
    "        trial.report(current_oob_score, step)\n",
    "\n",
    "        if debug_mode:  # Fixed: Use debug_mode parameter instead of self.debug_mode\n",
    "            print(f\"Trial {trial.number}, Step {step}: {current_n_estimators} trees, OOB: {current_oob_score:.4f}\")\n",
    "\n",
    "        if trial.should_prune():\n",
    "            print(f\"Trial {trial.number} pruned at step {step} ({current_n_estimators} estimators, OOB: {current_oob_score:.4f})\")\n",
    "            raise optuna.TrialPruned()\n",
    "\n",
    "    y_pred = rf_model.predict(X_val_processed)\n",
    "\n",
    "    if len(np.unique(y_val_encoded)) == 2:\n",
    "        y_proba = rf_model.predict_proba(X_val_processed)[:, 1]\n",
    "        final_metric = roc_auc_score(y_val_encoded, y_proba)\n",
    "        metric_name = \"AUC\"\n",
    "    else:\n",
    "        final_metric = accuracy_score(y_val_encoded, y_pred)\n",
    "        metric_name = \"Accuracy\"\n",
    "\n",
    "    print(f\"Trial {trial.number} completed with {metric_name}: {final_metric:.4f}\")\n",
    "    return final_metric\n",
    "\n",
    "# --- 4. Running the Optuna Study ---\n",
    "N_TRIALS = 100\n",
    "RANDOM_STATE = 42\n",
    "DATASET_PATH = 'datasets/php0iVrYT.arff'\n",
    "TARGET_COLUMN = 'Class'\n",
    "TASK_TYPE = 'classification'\n",
    "\n",
    "# Load and preprocess data\n",
    "X_raw, y_raw, feature_names, categorical_features_idx = load_and_preprocess_arff(\n",
    "    DATASET_PATH, target_column_name=TARGET_COLUMN\n",
    ")\n",
    "\n",
    "le = LabelEncoder()\n",
    "y_encoded = le.fit_transform(y_raw)\n",
    "print(f\"Encoded target classes: {le.classes_}\")\n",
    "\n",
    "numerical_feats = X_raw.columns.tolist()\n",
    "categorical_feats = []\n",
    "\n",
    "data_preprocessor = get_preprocessor(numerical_feats, categorical_feats)\n",
    "\n",
    "X_train_split, X_val_split, y_train_split, y_val_split = train_test_split(\n",
    "    X_raw, y_encoded, test_size=0.2, random_state=RANDOM_STATE,\n",
    "    stratify=y_encoded\n",
    ")\n",
    "\n",
    "# Initialize pruner\n",
    "custom_pruner = RandomForestMultiFidelityPruner(\n",
    "    min_intermediate_steps=3,\n",
    "    pruning_quantile=0.5,\n",
    "    grace_period_steps=2,\n",
    "    predictive_model_type='saturating_curve',\n",
    "    debug_mode=True\n",
    ")\n",
    "\n",
    "# Create Optuna study\n",
    "study = optuna.create_study(\n",
    "    direction=\"maximize\",\n",
    "    pruner=custom_pruner,\n",
    "    sampler=optuna.samplers.TPESampler(seed=RANDOM_STATE),\n",
    "    study_name=\"blood_transfusion_rf_hpo_study_fixed_pruner\",\n",
    "    storage=\"sqlite:///blood_transfusion_rf_hpo_fixed.db\",\n",
    "    load_if_exists=True\n",
    ")\n",
    "\n",
    "objective_with_args = functools.partial(\n",
    "    objective,\n",
    "    X_train_raw=X_train_split,\n",
    "    y_train_encoded=y_train_split,\n",
    "    X_val_raw=X_val_split,\n",
    "    y_val_encoded=y_val_split,\n",
    "    task_type=TASK_TYPE,\n",
    "    preprocessor=data_preprocessor,\n",
    "    max_n_estimators_upper_bound=250,\n",
    "    debug_mode=True  # Pass debug_mode to objective\n",
    ")\n",
    "\n",
    "print(f\"Starting Optuna study with {N_TRIALS} trials for Blood Transfusion dataset (FIXED PRUNER)...\")\n",
    "study.optimize(objective_with_args, n_trials=N_TRIALS, show_progress_bar=True)\n",
    "\n",
    "# Print results\n",
    "print(\"\\nOptimization finished.\")\n",
    "print(f\"Best trial value (AUC/Accuracy): {study.best_trial.value:.4f}\")\n",
    "print(\"Best hyperparameters:\")\n",
    "for key, value in study.best_trial.params.items():\n",
    "    print(f\"  {key}: {value}\")\n",
    "\n",
    "pruned_trials = study.get_trials(deepcopy=False, states=[optuna.trial.TrialState.PRUNED])\n",
    "complete_trials = study.get_trials(deepcopy=False, states=[optuna.trial.TrialState.COMPLETE])\n",
    "print(f\"Number of pruned trials: {len(pruned_trials)}\")\n",
    "print(f\"Number of complete trials: {len(complete_trials)}\")\n",
    "\n",
    "# Analyze pruning predictions\n",
    "print(\"\\nPruning prediction analysis:\")\n",
    "for log in custom_pruner.get_prediction_analysis():\n",
    "    print(f\"Trial {log['trial_id']}, Step {log['step']}: Predicted {log['predicted']:.4f}, Threshold {log['threshold']:.4f}, Pruned: {log['pruned']}\")\n",
    "\n",
    "# --- 5. Final Model Evaluation ---\n",
    "def evaluate_final_model(best_params, X_train_full, y_train_full, X_test_full, y_test_full,\n",
    "                         task_type='classification', preprocessor=None):\n",
    "    start_time = time.time()\n",
    "\n",
    "    if preprocessor:\n",
    "        X_train_processed = preprocessor.fit_transform(X_train_full)\n",
    "        X_test_processed = preprocessor.transform(X_test_full)\n",
    "    else:\n",
    "        X_train_processed = X_train_full.to_numpy()\n",
    "        X_test_processed = X_test_full.to_numpy()\n",
    "\n",
    "    model = RandomForestClassifier(random_state=42, n_jobs=-1, **best_params)\n",
    "\n",
    "    model.fit(X_train_processed, y_train_full)\n",
    "    fit_time = time.time() - start_time\n",
    "\n",
    "    y_pred = model.predict(X_test_processed)\n",
    "\n",
    "    if task_type == 'classification':\n",
    "        if len(np.unique(y_test_full)) == 2:\n",
    "            y_proba = model.predict_proba(X_test_processed)[:, 1]\n",
    "            auc_score = roc_auc_score(y_test_full, y_proba)\n",
    "            print(f\"Final Model AUC: {auc_score:.4f}\")\n",
    "            final_metric = auc_score\n",
    "            metric_name = \"AUC\"\n",
    "        else:\n",
    "            final_metric = accuracy_score(y_test_full, y_pred)\n",
    "            metric_name = \"Accuracy\"\n",
    "    else:\n",
    "        from sklearn.metrics import mean_squared_error\n",
    "        final_metric = mean_squared_error(y_test_full, y_pred)\n",
    "        metric_name = \"MSE\"\n",
    "\n",
    "    print(f\"\\n--- Final Model Evaluation ---\")\n",
    "    print(f\"Metric ({metric_name}): {final_metric:.4f}\")\n",
    "    print(f\"Training time for final model: {fit_time:.2f} seconds\")\n",
    "\n",
    "    return model, final_metric\n",
    "\n",
    "X_train_full, X_test_full, y_train_full, y_test_full = train_test_split(\n",
    "    X_raw, y_encoded, test_size=0.2, random_state=RANDOM_STATE,\n",
    "    stratify=y_encoded\n",
    ")\n",
    "\n",
    "if study.best_trial:\n",
    "    best_params = study.best_trial.params\n",
    "    final_model, final_score = evaluate_final_model(\n",
    "        best_params, X_train_full, y_train_full, X_test_full, y_test_full,\n",
    "        task_type=TASK_TYPE, preprocessor=data_preprocessor\n",
    "    )\n",
    "\n",
    "    joblib.dump(final_model, 'best_rf_blood_transfusion_model_fixed.pkl')\n",
    "    joblib.dump(data_preprocessor, 'data_preprocessor_blood_transfusion_fixed.pkl')\n",
    "    print(\"Best model and preprocessor for Blood Transfusion saved (fixed pruner run).\")"
   ]
  },
  {
   "cell_type": "code",
   "execution_count": 3,
   "id": "56f41f67",
   "metadata": {},
   "outputs": [
    {
     "data": {
      "application/vnd.plotly.v1+json": {
       "config": {
        "plotlyServerURL": "https://plot.ly"
       },
       "data": [
        {
         "mode": "markers",
         "name": "Objective Value",
         "type": "scatter",
         "x": [
          1,
          6,
          8,
          15,
          17,
          26,
          45,
          46,
          48,
          52,
          53,
          56,
          59,
          62,
          64,
          65,
          67,
          68,
          69,
          72,
          73,
          74,
          75,
          77,
          81,
          82,
          83,
          84,
          85,
          86,
          87,
          88,
          90,
          91,
          92,
          93,
          94,
          96,
          98,
          99
         ],
         "y": [
          0.7905701754385964,
          0.7938596491228068,
          0.797027290448343,
          0.7860623781676414,
          0.7928849902534112,
          0.7807017543859648,
          0.790204678362573,
          0.7897173489278753,
          0.7887426900584794,
          0.7897173489278753,
          0.7902046783625731,
          0.7877680311890839,
          0.7958089668615984,
          0.7926413255360623,
          0.7923976608187134,
          0.7928849902534112,
          0.7941033138401559,
          0.7921539961013644,
          0.7923976608187134,
          0.7926413255360623,
          0.7923976608187133,
          0.7938596491228069,
          0.7945906432748538,
          0.7938596491228069,
          0.7945906432748537,
          0.7950779727095516,
          0.7945906432748536,
          0.7945906432748536,
          0.7948343079922026,
          0.7945906432748537,
          0.7943469785575048,
          0.794103313840156,
          0.7921539961013645,
          0.7931286549707601,
          0.7911793372319688,
          0.7945906432748536,
          0.7941033138401559,
          0.7945906432748536,
          0.7933723196881092,
          0.7911793372319688
         ]
        },
        {
         "mode": "lines",
         "name": "Best Value",
         "type": "scatter",
         "x": [
          0,
          1,
          2,
          3,
          4,
          5,
          6,
          7,
          8,
          9,
          10,
          11,
          12,
          13,
          14,
          15,
          16,
          17,
          18,
          19,
          20,
          21,
          22,
          23,
          24,
          25,
          26,
          27,
          28,
          29,
          30,
          31,
          32,
          33,
          34,
          35,
          36,
          37,
          38,
          39,
          40,
          41,
          42,
          43,
          44,
          45,
          46,
          47,
          48,
          49,
          50,
          51,
          52,
          53,
          54,
          55,
          56,
          57,
          58,
          59,
          60,
          61,
          62,
          63,
          64,
          65,
          66,
          67,
          68,
          69,
          70,
          71,
          72,
          73,
          74,
          75,
          76,
          77,
          78,
          79,
          80,
          81,
          82,
          83,
          84,
          85,
          86,
          87,
          88,
          89,
          90,
          91,
          92,
          93,
          94,
          95,
          96,
          97,
          98,
          99,
          100
         ],
         "y": [
          null,
          0.7905701754385964,
          0.7905701754385964,
          0.7905701754385964,
          0.7905701754385964,
          0.7905701754385964,
          0.7938596491228068,
          0.7938596491228068,
          0.797027290448343,
          0.797027290448343,
          0.797027290448343,
          0.797027290448343,
          0.797027290448343,
          0.797027290448343,
          0.797027290448343,
          0.797027290448343,
          0.797027290448343,
          0.797027290448343,
          0.797027290448343,
          0.797027290448343,
          0.797027290448343,
          0.797027290448343,
          0.797027290448343,
          0.797027290448343,
          0.797027290448343,
          0.797027290448343,
          0.797027290448343,
          0.797027290448343,
          0.797027290448343,
          0.797027290448343,
          0.797027290448343,
          0.797027290448343,
          0.797027290448343,
          0.797027290448343,
          0.797027290448343,
          0.797027290448343,
          0.797027290448343,
          0.797027290448343,
          0.797027290448343,
          0.797027290448343,
          0.797027290448343,
          0.797027290448343,
          0.797027290448343,
          0.797027290448343,
          0.797027290448343,
          0.797027290448343,
          0.797027290448343,
          0.797027290448343,
          0.797027290448343,
          0.797027290448343,
          0.797027290448343,
          0.797027290448343,
          0.797027290448343,
          0.797027290448343,
          0.797027290448343,
          0.797027290448343,
          0.797027290448343,
          0.797027290448343,
          0.797027290448343,
          0.797027290448343,
          0.797027290448343,
          0.797027290448343,
          0.797027290448343,
          0.797027290448343,
          0.797027290448343,
          0.797027290448343,
          0.797027290448343,
          0.797027290448343,
          0.797027290448343,
          0.797027290448343,
          0.797027290448343,
          0.797027290448343,
          0.797027290448343,
          0.797027290448343,
          0.797027290448343,
          0.797027290448343,
          0.797027290448343,
          0.797027290448343,
          0.797027290448343,
          0.797027290448343,
          0.797027290448343,
          0.797027290448343,
          0.797027290448343,
          0.797027290448343,
          0.797027290448343,
          0.797027290448343,
          0.797027290448343,
          0.797027290448343,
          0.797027290448343,
          0.797027290448343,
          0.797027290448343,
          0.797027290448343,
          0.797027290448343,
          0.797027290448343,
          0.797027290448343,
          0.797027290448343,
          0.797027290448343,
          0.797027290448343,
          0.797027290448343,
          0.797027290448343,
          0.797027290448343
         ]
        },
        {
         "marker": {
          "color": "#cccccc"
         },
         "mode": "markers",
         "name": "Infeasible Trial",
         "showlegend": false,
         "type": "scatter",
         "x": [],
         "y": []
        }
       ],
       "layout": {
        "template": {
         "data": {
          "bar": [
           {
            "error_x": {
             "color": "#2a3f5f"
            },
            "error_y": {
             "color": "#2a3f5f"
            },
            "marker": {
             "line": {
              "color": "#E5ECF6",
              "width": 0.5
             },
             "pattern": {
              "fillmode": "overlay",
              "size": 10,
              "solidity": 0.2
             }
            },
            "type": "bar"
           }
          ],
          "barpolar": [
           {
            "marker": {
             "line": {
              "color": "#E5ECF6",
              "width": 0.5
             },
             "pattern": {
              "fillmode": "overlay",
              "size": 10,
              "solidity": 0.2
             }
            },
            "type": "barpolar"
           }
          ],
          "carpet": [
           {
            "aaxis": {
             "endlinecolor": "#2a3f5f",
             "gridcolor": "white",
             "linecolor": "white",
             "minorgridcolor": "white",
             "startlinecolor": "#2a3f5f"
            },
            "baxis": {
             "endlinecolor": "#2a3f5f",
             "gridcolor": "white",
             "linecolor": "white",
             "minorgridcolor": "white",
             "startlinecolor": "#2a3f5f"
            },
            "type": "carpet"
           }
          ],
          "choropleth": [
           {
            "colorbar": {
             "outlinewidth": 0,
             "ticks": ""
            },
            "type": "choropleth"
           }
          ],
          "contour": [
           {
            "colorbar": {
             "outlinewidth": 0,
             "ticks": ""
            },
            "colorscale": [
             [
              0,
              "#0d0887"
             ],
             [
              0.1111111111111111,
              "#46039f"
             ],
             [
              0.2222222222222222,
              "#7201a8"
             ],
             [
              0.3333333333333333,
              "#9c179e"
             ],
             [
              0.4444444444444444,
              "#bd3786"
             ],
             [
              0.5555555555555556,
              "#d8576b"
             ],
             [
              0.6666666666666666,
              "#ed7953"
             ],
             [
              0.7777777777777778,
              "#fb9f3a"
             ],
             [
              0.8888888888888888,
              "#fdca26"
             ],
             [
              1,
              "#f0f921"
             ]
            ],
            "type": "contour"
           }
          ],
          "contourcarpet": [
           {
            "colorbar": {
             "outlinewidth": 0,
             "ticks": ""
            },
            "type": "contourcarpet"
           }
          ],
          "heatmap": [
           {
            "colorbar": {
             "outlinewidth": 0,
             "ticks": ""
            },
            "colorscale": [
             [
              0,
              "#0d0887"
             ],
             [
              0.1111111111111111,
              "#46039f"
             ],
             [
              0.2222222222222222,
              "#7201a8"
             ],
             [
              0.3333333333333333,
              "#9c179e"
             ],
             [
              0.4444444444444444,
              "#bd3786"
             ],
             [
              0.5555555555555556,
              "#d8576b"
             ],
             [
              0.6666666666666666,
              "#ed7953"
             ],
             [
              0.7777777777777778,
              "#fb9f3a"
             ],
             [
              0.8888888888888888,
              "#fdca26"
             ],
             [
              1,
              "#f0f921"
             ]
            ],
            "type": "heatmap"
           }
          ],
          "histogram": [
           {
            "marker": {
             "pattern": {
              "fillmode": "overlay",
              "size": 10,
              "solidity": 0.2
             }
            },
            "type": "histogram"
           }
          ],
          "histogram2d": [
           {
            "colorbar": {
             "outlinewidth": 0,
             "ticks": ""
            },
            "colorscale": [
             [
              0,
              "#0d0887"
             ],
             [
              0.1111111111111111,
              "#46039f"
             ],
             [
              0.2222222222222222,
              "#7201a8"
             ],
             [
              0.3333333333333333,
              "#9c179e"
             ],
             [
              0.4444444444444444,
              "#bd3786"
             ],
             [
              0.5555555555555556,
              "#d8576b"
             ],
             [
              0.6666666666666666,
              "#ed7953"
             ],
             [
              0.7777777777777778,
              "#fb9f3a"
             ],
             [
              0.8888888888888888,
              "#fdca26"
             ],
             [
              1,
              "#f0f921"
             ]
            ],
            "type": "histogram2d"
           }
          ],
          "histogram2dcontour": [
           {
            "colorbar": {
             "outlinewidth": 0,
             "ticks": ""
            },
            "colorscale": [
             [
              0,
              "#0d0887"
             ],
             [
              0.1111111111111111,
              "#46039f"
             ],
             [
              0.2222222222222222,
              "#7201a8"
             ],
             [
              0.3333333333333333,
              "#9c179e"
             ],
             [
              0.4444444444444444,
              "#bd3786"
             ],
             [
              0.5555555555555556,
              "#d8576b"
             ],
             [
              0.6666666666666666,
              "#ed7953"
             ],
             [
              0.7777777777777778,
              "#fb9f3a"
             ],
             [
              0.8888888888888888,
              "#fdca26"
             ],
             [
              1,
              "#f0f921"
             ]
            ],
            "type": "histogram2dcontour"
           }
          ],
          "mesh3d": [
           {
            "colorbar": {
             "outlinewidth": 0,
             "ticks": ""
            },
            "type": "mesh3d"
           }
          ],
          "parcoords": [
           {
            "line": {
             "colorbar": {
              "outlinewidth": 0,
              "ticks": ""
             }
            },
            "type": "parcoords"
           }
          ],
          "pie": [
           {
            "automargin": true,
            "type": "pie"
           }
          ],
          "scatter": [
           {
            "fillpattern": {
             "fillmode": "overlay",
             "size": 10,
             "solidity": 0.2
            },
            "type": "scatter"
           }
          ],
          "scatter3d": [
           {
            "line": {
             "colorbar": {
              "outlinewidth": 0,
              "ticks": ""
             }
            },
            "marker": {
             "colorbar": {
              "outlinewidth": 0,
              "ticks": ""
             }
            },
            "type": "scatter3d"
           }
          ],
          "scattercarpet": [
           {
            "marker": {
             "colorbar": {
              "outlinewidth": 0,
              "ticks": ""
             }
            },
            "type": "scattercarpet"
           }
          ],
          "scattergeo": [
           {
            "marker": {
             "colorbar": {
              "outlinewidth": 0,
              "ticks": ""
             }
            },
            "type": "scattergeo"
           }
          ],
          "scattergl": [
           {
            "marker": {
             "colorbar": {
              "outlinewidth": 0,
              "ticks": ""
             }
            },
            "type": "scattergl"
           }
          ],
          "scattermap": [
           {
            "marker": {
             "colorbar": {
              "outlinewidth": 0,
              "ticks": ""
             }
            },
            "type": "scattermap"
           }
          ],
          "scattermapbox": [
           {
            "marker": {
             "colorbar": {
              "outlinewidth": 0,
              "ticks": ""
             }
            },
            "type": "scattermapbox"
           }
          ],
          "scatterpolar": [
           {
            "marker": {
             "colorbar": {
              "outlinewidth": 0,
              "ticks": ""
             }
            },
            "type": "scatterpolar"
           }
          ],
          "scatterpolargl": [
           {
            "marker": {
             "colorbar": {
              "outlinewidth": 0,
              "ticks": ""
             }
            },
            "type": "scatterpolargl"
           }
          ],
          "scatterternary": [
           {
            "marker": {
             "colorbar": {
              "outlinewidth": 0,
              "ticks": ""
             }
            },
            "type": "scatterternary"
           }
          ],
          "surface": [
           {
            "colorbar": {
             "outlinewidth": 0,
             "ticks": ""
            },
            "colorscale": [
             [
              0,
              "#0d0887"
             ],
             [
              0.1111111111111111,
              "#46039f"
             ],
             [
              0.2222222222222222,
              "#7201a8"
             ],
             [
              0.3333333333333333,
              "#9c179e"
             ],
             [
              0.4444444444444444,
              "#bd3786"
             ],
             [
              0.5555555555555556,
              "#d8576b"
             ],
             [
              0.6666666666666666,
              "#ed7953"
             ],
             [
              0.7777777777777778,
              "#fb9f3a"
             ],
             [
              0.8888888888888888,
              "#fdca26"
             ],
             [
              1,
              "#f0f921"
             ]
            ],
            "type": "surface"
           }
          ],
          "table": [
           {
            "cells": {
             "fill": {
              "color": "#EBF0F8"
             },
             "line": {
              "color": "white"
             }
            },
            "header": {
             "fill": {
              "color": "#C8D4E3"
             },
             "line": {
              "color": "white"
             }
            },
            "type": "table"
           }
          ]
         },
         "layout": {
          "annotationdefaults": {
           "arrowcolor": "#2a3f5f",
           "arrowhead": 0,
           "arrowwidth": 1
          },
          "autotypenumbers": "strict",
          "coloraxis": {
           "colorbar": {
            "outlinewidth": 0,
            "ticks": ""
           }
          },
          "colorscale": {
           "diverging": [
            [
             0,
             "#8e0152"
            ],
            [
             0.1,
             "#c51b7d"
            ],
            [
             0.2,
             "#de77ae"
            ],
            [
             0.3,
             "#f1b6da"
            ],
            [
             0.4,
             "#fde0ef"
            ],
            [
             0.5,
             "#f7f7f7"
            ],
            [
             0.6,
             "#e6f5d0"
            ],
            [
             0.7,
             "#b8e186"
            ],
            [
             0.8,
             "#7fbc41"
            ],
            [
             0.9,
             "#4d9221"
            ],
            [
             1,
             "#276419"
            ]
           ],
           "sequential": [
            [
             0,
             "#0d0887"
            ],
            [
             0.1111111111111111,
             "#46039f"
            ],
            [
             0.2222222222222222,
             "#7201a8"
            ],
            [
             0.3333333333333333,
             "#9c179e"
            ],
            [
             0.4444444444444444,
             "#bd3786"
            ],
            [
             0.5555555555555556,
             "#d8576b"
            ],
            [
             0.6666666666666666,
             "#ed7953"
            ],
            [
             0.7777777777777778,
             "#fb9f3a"
            ],
            [
             0.8888888888888888,
             "#fdca26"
            ],
            [
             1,
             "#f0f921"
            ]
           ],
           "sequentialminus": [
            [
             0,
             "#0d0887"
            ],
            [
             0.1111111111111111,
             "#46039f"
            ],
            [
             0.2222222222222222,
             "#7201a8"
            ],
            [
             0.3333333333333333,
             "#9c179e"
            ],
            [
             0.4444444444444444,
             "#bd3786"
            ],
            [
             0.5555555555555556,
             "#d8576b"
            ],
            [
             0.6666666666666666,
             "#ed7953"
            ],
            [
             0.7777777777777778,
             "#fb9f3a"
            ],
            [
             0.8888888888888888,
             "#fdca26"
            ],
            [
             1,
             "#f0f921"
            ]
           ]
          },
          "colorway": [
           "#636efa",
           "#EF553B",
           "#00cc96",
           "#ab63fa",
           "#FFA15A",
           "#19d3f3",
           "#FF6692",
           "#B6E880",
           "#FF97FF",
           "#FECB52"
          ],
          "font": {
           "color": "#2a3f5f"
          },
          "geo": {
           "bgcolor": "white",
           "lakecolor": "white",
           "landcolor": "#E5ECF6",
           "showlakes": true,
           "showland": true,
           "subunitcolor": "white"
          },
          "hoverlabel": {
           "align": "left"
          },
          "hovermode": "closest",
          "mapbox": {
           "style": "light"
          },
          "paper_bgcolor": "white",
          "plot_bgcolor": "#E5ECF6",
          "polar": {
           "angularaxis": {
            "gridcolor": "white",
            "linecolor": "white",
            "ticks": ""
           },
           "bgcolor": "#E5ECF6",
           "radialaxis": {
            "gridcolor": "white",
            "linecolor": "white",
            "ticks": ""
           }
          },
          "scene": {
           "xaxis": {
            "backgroundcolor": "#E5ECF6",
            "gridcolor": "white",
            "gridwidth": 2,
            "linecolor": "white",
            "showbackground": true,
            "ticks": "",
            "zerolinecolor": "white"
           },
           "yaxis": {
            "backgroundcolor": "#E5ECF6",
            "gridcolor": "white",
            "gridwidth": 2,
            "linecolor": "white",
            "showbackground": true,
            "ticks": "",
            "zerolinecolor": "white"
           },
           "zaxis": {
            "backgroundcolor": "#E5ECF6",
            "gridcolor": "white",
            "gridwidth": 2,
            "linecolor": "white",
            "showbackground": true,
            "ticks": "",
            "zerolinecolor": "white"
           }
          },
          "shapedefaults": {
           "line": {
            "color": "#2a3f5f"
           }
          },
          "ternary": {
           "aaxis": {
            "gridcolor": "white",
            "linecolor": "white",
            "ticks": ""
           },
           "baxis": {
            "gridcolor": "white",
            "linecolor": "white",
            "ticks": ""
           },
           "bgcolor": "#E5ECF6",
           "caxis": {
            "gridcolor": "white",
            "linecolor": "white",
            "ticks": ""
           }
          },
          "title": {
           "x": 0.05
          },
          "xaxis": {
           "automargin": true,
           "gridcolor": "white",
           "linecolor": "white",
           "ticks": "",
           "title": {
            "standoff": 15
           },
           "zerolinecolor": "white",
           "zerolinewidth": 2
          },
          "yaxis": {
           "automargin": true,
           "gridcolor": "white",
           "linecolor": "white",
           "ticks": "",
           "title": {
            "standoff": 15
           },
           "zerolinecolor": "white",
           "zerolinewidth": 2
          }
         }
        },
        "title": {
         "text": "Optimization History Plot"
        },
        "xaxis": {
         "title": {
          "text": "Trial"
         }
        },
        "yaxis": {
         "title": {
          "text": "Objective Value"
         }
        }
       }
      }
     },
     "metadata": {},
     "output_type": "display_data"
    },
    {
     "data": {
      "application/vnd.plotly.v1+json": {
       "config": {
        "plotlyServerURL": "https://plot.ly"
       },
       "data": [
        {
         "marker": {
          "maxdisplayed": 10
         },
         "mode": "lines+markers",
         "name": "Trial1",
         "type": "scatter",
         "x": [
          0,
          1,
          2,
          3,
          4,
          5
         ],
         "y": [
          0.7040133779264214,
          0.697324414715719,
          0.697324414715719,
          0.705685618729097,
          0.7107023411371237,
          0.7123745819397993
         ]
        },
        {
         "marker": {
          "maxdisplayed": 10
         },
         "mode": "lines+markers",
         "name": "Trial2",
         "type": "scatter",
         "x": [
          0,
          1,
          2
         ],
         "y": [
          0.6688963210702341,
          0.6688963210702341,
          0.7073578595317725
         ]
        },
        {
         "marker": {
          "maxdisplayed": 10
         },
         "mode": "lines+markers",
         "name": "Trial3",
         "type": "scatter",
         "x": [
          0,
          1,
          2
         ],
         "y": [
          0.7441471571906354,
          0.7675585284280937,
          0.7725752508361204
         ]
        },
        {
         "marker": {
          "maxdisplayed": 10
         },
         "mode": "lines+markers",
         "name": "Trial4",
         "type": "scatter",
         "x": [
          0,
          1,
          2
         ],
         "y": [
          0.6923076923076923,
          0.6989966555183946,
          0.6939799331103679
         ]
        },
        {
         "marker": {
          "maxdisplayed": 10
         },
         "mode": "lines+markers",
         "name": "Trial5",
         "type": "scatter",
         "x": [
          0,
          1,
          2
         ],
         "y": [
          0.68561872909699,
          0.6889632107023411,
          0.6889632107023411
         ]
        },
        {
         "marker": {
          "maxdisplayed": 10
         },
         "mode": "lines+markers",
         "name": "Trial6",
         "type": "scatter",
         "x": [
          0,
          1,
          2,
          3,
          4,
          5
         ],
         "y": [
          0.7424749163879598,
          0.7558528428093646,
          0.7759197324414716,
          0.7926421404682275,
          0.7892976588628763,
          0.7909698996655519
         ]
        },
        {
         "marker": {
          "maxdisplayed": 10
         },
         "mode": "lines+markers",
         "name": "Trial7",
         "type": "scatter",
         "x": [
          0,
          1,
          2
         ],
         "y": [
          null,
          0.7441471571906354,
          0.745819397993311
         ]
        },
        {
         "marker": {
          "maxdisplayed": 10
         },
         "mode": "lines+markers",
         "name": "Trial8",
         "type": "scatter",
         "x": [
          0,
          1,
          2,
          3,
          4,
          5
         ],
         "y": [
          0.7441471571906354,
          0.745819397993311,
          0.7709030100334449,
          0.7775919732441472,
          0.7809364548494984,
          0.782608695652174
         ]
        },
        {
         "marker": {
          "maxdisplayed": 10
         },
         "mode": "lines+markers",
         "name": "Trial9",
         "type": "scatter",
         "x": [
          0,
          1,
          2
         ],
         "y": [
          0.7006688963210702,
          0.6906354515050167,
          0.7090301003344481
         ]
        },
        {
         "marker": {
          "maxdisplayed": 10
         },
         "mode": "lines+markers",
         "name": "Trial10",
         "type": "scatter",
         "x": [
          0,
          1,
          2
         ],
         "y": [
          null,
          0.7491638795986622,
          0.7474916387959866
         ]
        },
        {
         "marker": {
          "maxdisplayed": 10
         },
         "mode": "lines+markers",
         "name": "Trial11",
         "type": "scatter",
         "x": [
          0,
          1,
          2
         ],
         "y": [
          0.7608695652173914,
          0.7792642140468228,
          0.782608695652174
         ]
        },
        {
         "marker": {
          "maxdisplayed": 10
         },
         "mode": "lines+markers",
         "name": "Trial12",
         "type": "scatter",
         "x": [
          0,
          1,
          2,
          3,
          4,
          5
         ],
         "y": [
          null,
          0.7474916387959866,
          0.7725752508361204,
          0.7809364548494984,
          0.794314381270903,
          0.7859531772575251
         ]
        },
        {
         "marker": {
          "maxdisplayed": 10
         },
         "mode": "lines+markers",
         "name": "Trial13",
         "type": "scatter",
         "x": [
          0,
          1,
          2
         ],
         "y": [
          0.754180602006689,
          0.7591973244147158,
          0.7692307692307693
         ]
        },
        {
         "marker": {
          "maxdisplayed": 10
         },
         "mode": "lines+markers",
         "name": "Trial14",
         "type": "scatter",
         "x": [
          0,
          1,
          2
         ],
         "y": [
          null,
          0.754180602006689,
          0.7575250836120402
         ]
        },
        {
         "marker": {
          "maxdisplayed": 10
         },
         "mode": "lines+markers",
         "name": "Trial15",
         "type": "scatter",
         "x": [
          0,
          1,
          2,
          3,
          4,
          5
         ],
         "y": [
          0.7525083612040134,
          0.7575250836120402,
          0.7725752508361204,
          0.7876254180602007,
          0.7892976588628763,
          0.7859531772575251
         ]
        },
        {
         "marker": {
          "maxdisplayed": 10
         },
         "mode": "lines+markers",
         "name": "Trial16",
         "type": "scatter",
         "x": [
          0,
          1,
          2
         ],
         "y": [
          0.7575250836120402,
          0.7575250836120402,
          0.7591973244147158
         ]
        },
        {
         "marker": {
          "maxdisplayed": 10
         },
         "mode": "lines+markers",
         "name": "Trial17",
         "type": "scatter",
         "x": [
          0,
          1,
          2,
          3,
          4,
          5
         ],
         "y": [
          0.7591973244147158,
          0.7625418060200669,
          0.7725752508361204,
          0.782608695652174,
          0.7859531772575251,
          0.7842809364548495
         ]
        },
        {
         "marker": {
          "maxdisplayed": 10
         },
         "mode": "lines+markers",
         "name": "Trial18",
         "type": "scatter",
         "x": [
          0,
          1,
          2,
          3,
          4,
          5
         ],
         "y": [
          0.7491638795986622,
          0.7642140468227425,
          0.7892976588628763,
          0.7909698996655519,
          0.7859531772575251,
          0.7876254180602007
         ]
        },
        {
         "marker": {
          "maxdisplayed": 10
         },
         "mode": "lines+markers",
         "name": "Trial19",
         "type": "scatter",
         "x": [
          0,
          1,
          2
         ],
         "y": [
          0.7591973244147158,
          0.7658862876254181,
          0.7725752508361204
         ]
        },
        {
         "marker": {
          "maxdisplayed": 10
         },
         "mode": "lines+markers",
         "name": "Trial20",
         "type": "scatter",
         "x": [
          0,
          1,
          2,
          3
         ],
         "y": [
          null,
          0.7525083612040134,
          0.7709030100334449,
          0.7591973244147158
         ]
        },
        {
         "marker": {
          "maxdisplayed": 10
         },
         "mode": "lines+markers",
         "name": "Trial21",
         "type": "scatter",
         "x": [
          0,
          1,
          2
         ],
         "y": [
          null,
          0.7575250836120402,
          0.7625418060200669
         ]
        },
        {
         "marker": {
          "maxdisplayed": 10
         },
         "mode": "lines+markers",
         "name": "Trial22",
         "type": "scatter",
         "x": [
          0,
          1,
          2,
          3,
          4,
          5
         ],
         "y": [
          0.7591973244147158,
          0.7625418060200669,
          0.774247491638796,
          0.782608695652174,
          0.7859531772575251,
          0.7809364548494984
         ]
        },
        {
         "marker": {
          "maxdisplayed": 10
         },
         "mode": "lines+markers",
         "name": "Trial23",
         "type": "scatter",
         "x": [
          0,
          1,
          2
         ],
         "y": [
          0.754180602006689,
          0.7725752508361204,
          0.7775919732441472
         ]
        },
        {
         "marker": {
          "maxdisplayed": 10
         },
         "mode": "lines+markers",
         "name": "Trial24",
         "type": "scatter",
         "x": [
          0,
          1,
          2,
          3
         ],
         "y": [
          0.7591973244147158,
          0.7658862876254181,
          0.7775919732441472,
          0.7759197324414716
         ]
        },
        {
         "marker": {
          "maxdisplayed": 10
         },
         "mode": "lines+markers",
         "name": "Trial25",
         "type": "scatter",
         "x": [
          0,
          1,
          2,
          3,
          4
         ],
         "y": [
          0.7558528428093646,
          0.7709030100334449,
          0.7842809364548495,
          0.7859531772575251,
          0.782608695652174
         ]
        },
        {
         "marker": {
          "maxdisplayed": 10
         },
         "mode": "lines+markers",
         "name": "Trial26",
         "type": "scatter",
         "x": [
          0,
          1,
          2,
          3,
          4,
          5
         ],
         "y": [
          0.7474916387959866,
          0.7658862876254181,
          0.7792642140468228,
          0.7892976588628763,
          0.7926421404682275,
          0.7876254180602007
         ]
        },
        {
         "marker": {
          "maxdisplayed": 10
         },
         "mode": "lines+markers",
         "name": "Trial27",
         "type": "scatter",
         "x": [
          0,
          1,
          2
         ],
         "y": [
          0.6555183946488294,
          0.6722408026755853,
          0.7073578595317725
         ]
        },
        {
         "marker": {
          "maxdisplayed": 10
         },
         "mode": "lines+markers",
         "name": "Trial28",
         "type": "scatter",
         "x": [
          0,
          1,
          2
         ],
         "y": [
          0.7491638795986622,
          0.7591973244147158,
          0.7642140468227425
         ]
        },
        {
         "marker": {
          "maxdisplayed": 10
         },
         "mode": "lines+markers",
         "name": "Trial29",
         "type": "scatter",
         "x": [
          0,
          1,
          2,
          3
         ],
         "y": [
          0.7474916387959866,
          0.774247491638796,
          0.7859531772575251,
          0.7859531772575251
         ]
        },
        {
         "marker": {
          "maxdisplayed": 10
         },
         "mode": "lines+markers",
         "name": "Trial30",
         "type": "scatter",
         "x": [
          0,
          1,
          2
         ],
         "y": [
          0.7140468227424749,
          0.7090301003344481,
          0.6956521739130435
         ]
        },
        {
         "marker": {
          "maxdisplayed": 10
         },
         "mode": "lines+markers",
         "name": "Trial31",
         "type": "scatter",
         "x": [
          0,
          1,
          2
         ],
         "y": [
          null,
          0.754180602006689,
          0.7608695652173914
         ]
        },
        {
         "marker": {
          "maxdisplayed": 10
         },
         "mode": "lines+markers",
         "name": "Trial32",
         "type": "scatter",
         "x": [
          0,
          1,
          2
         ],
         "y": [
          0.7040133779264214,
          0.697324414715719,
          0.697324414715719
         ]
        },
        {
         "marker": {
          "maxdisplayed": 10
         },
         "mode": "lines+markers",
         "name": "Trial33",
         "type": "scatter",
         "x": [
          0,
          1,
          2
         ],
         "y": [
          0.6872909698996655,
          0.677257525083612,
          0.6655518394648829
         ]
        },
        {
         "marker": {
          "maxdisplayed": 10
         },
         "mode": "lines+markers",
         "name": "Trial34",
         "type": "scatter",
         "x": [
          0,
          1,
          2
         ],
         "y": [
          0.6906354515050167,
          0.6939799331103679,
          0.7157190635451505
         ]
        },
        {
         "marker": {
          "maxdisplayed": 10
         },
         "mode": "lines+markers",
         "name": "Trial35",
         "type": "scatter",
         "x": [
          0,
          1,
          2
         ],
         "y": [
          0.705685618729097,
          0.6806020066889632,
          0.6605351170568562
         ]
        },
        {
         "marker": {
          "maxdisplayed": 10
         },
         "mode": "lines+markers",
         "name": "Trial36",
         "type": "scatter",
         "x": [
          0,
          1,
          2
         ],
         "y": [
          0.7006688963210702,
          0.6956521739130435,
          0.6588628762541806
         ]
        },
        {
         "marker": {
          "maxdisplayed": 10
         },
         "mode": "lines+markers",
         "name": "Trial37",
         "type": "scatter",
         "x": [
          0,
          1,
          2
         ],
         "y": [
          0.6705685618729097,
          0.6722408026755853,
          0.6989966555183946
         ]
        },
        {
         "marker": {
          "maxdisplayed": 10
         },
         "mode": "lines+markers",
         "name": "Trial38",
         "type": "scatter",
         "x": [
          0,
          1,
          2
         ],
         "y": [
          0.6839464882943144,
          0.6722408026755853,
          0.6688963210702341
         ]
        },
        {
         "marker": {
          "maxdisplayed": 10
         },
         "mode": "lines+markers",
         "name": "Trial39",
         "type": "scatter",
         "x": [
          0,
          1,
          2
         ],
         "y": [
          0.7324414715719063,
          0.754180602006689,
          0.7591973244147158
         ]
        },
        {
         "marker": {
          "maxdisplayed": 10
         },
         "mode": "lines+markers",
         "name": "Trial40",
         "type": "scatter",
         "x": [
          0,
          1,
          2
         ],
         "y": [
          0.705685618729097,
          0.6789297658862876,
          0.6939799331103679
         ]
        },
        {
         "marker": {
          "maxdisplayed": 10
         },
         "mode": "lines+markers",
         "name": "Trial41",
         "type": "scatter",
         "x": [
          0,
          1,
          2
         ],
         "y": [
          null,
          0.7575250836120402,
          0.7625418060200669
         ]
        },
        {
         "marker": {
          "maxdisplayed": 10
         },
         "mode": "lines+markers",
         "name": "Trial42",
         "type": "scatter",
         "x": [
          0,
          1,
          2
         ],
         "y": [
          0.7491638795986622,
          0.7675585284280937,
          0.7759197324414716
         ]
        },
        {
         "marker": {
          "maxdisplayed": 10
         },
         "mode": "lines+markers",
         "name": "Trial43",
         "type": "scatter",
         "x": [
          0,
          1,
          2
         ],
         "y": [
          0.7525083612040134,
          0.7575250836120402,
          0.7658862876254181
         ]
        },
        {
         "marker": {
          "maxdisplayed": 10
         },
         "mode": "lines+markers",
         "name": "Trial44",
         "type": "scatter",
         "x": [
          0,
          1,
          2,
          3
         ],
         "y": [
          0.7591973244147158,
          0.7608695652173914,
          0.7809364548494984,
          0.782608695652174
         ]
        },
        {
         "marker": {
          "maxdisplayed": 10
         },
         "mode": "lines+markers",
         "name": "Trial45",
         "type": "scatter",
         "x": [
          0,
          1,
          2,
          3,
          4,
          5
         ],
         "y": [
          0.7525083612040134,
          0.7625418060200669,
          0.774247491638796,
          0.7809364548494984,
          0.7876254180602007,
          0.7876254180602007
         ]
        },
        {
         "marker": {
          "maxdisplayed": 10
         },
         "mode": "lines+markers",
         "name": "Trial46",
         "type": "scatter",
         "x": [
          0,
          1,
          2,
          3,
          4,
          5
         ],
         "y": [
          0.7525083612040134,
          0.7625418060200669,
          0.774247491638796,
          0.7809364548494984,
          0.7876254180602007,
          0.7876254180602007
         ]
        },
        {
         "marker": {
          "maxdisplayed": 10
         },
         "mode": "lines+markers",
         "name": "Trial47",
         "type": "scatter",
         "x": [
          0,
          1,
          2
         ],
         "y": [
          0.7441471571906354,
          0.774247491638796,
          0.7809364548494984
         ]
        },
        {
         "marker": {
          "maxdisplayed": 10
         },
         "mode": "lines+markers",
         "name": "Trial48",
         "type": "scatter",
         "x": [
          0,
          1,
          2,
          3,
          4,
          5
         ],
         "y": [
          0.7525083612040134,
          0.7625418060200669,
          0.774247491638796,
          0.7842809364548495,
          0.7876254180602007,
          0.7876254180602007
         ]
        },
        {
         "marker": {
          "maxdisplayed": 10
         },
         "mode": "lines+markers",
         "name": "Trial49",
         "type": "scatter",
         "x": [
          0,
          1,
          2
         ],
         "y": [
          0.754180602006689,
          0.7675585284280937,
          0.7759197324414716
         ]
        },
        {
         "marker": {
          "maxdisplayed": 10
         },
         "mode": "lines+markers",
         "name": "Trial50",
         "type": "scatter",
         "x": [
          0,
          1,
          2,
          3
         ],
         "y": [
          0.754180602006689,
          0.7625418060200669,
          0.774247491638796,
          0.7759197324414716
         ]
        },
        {
         "marker": {
          "maxdisplayed": 10
         },
         "mode": "lines+markers",
         "name": "Trial51",
         "type": "scatter",
         "x": [
          0,
          1,
          2
         ],
         "y": [
          0.7341137123745819,
          0.774247491638796,
          0.7809364548494984
         ]
        },
        {
         "marker": {
          "maxdisplayed": 10
         },
         "mode": "lines+markers",
         "name": "Trial52",
         "type": "scatter",
         "x": [
          0,
          1,
          2,
          3,
          4,
          5
         ],
         "y": [
          0.7525083612040134,
          0.7625418060200669,
          0.774247491638796,
          0.7809364548494984,
          0.7876254180602007,
          0.7876254180602007
         ]
        },
        {
         "marker": {
          "maxdisplayed": 10
         },
         "mode": "lines+markers",
         "name": "Trial53",
         "type": "scatter",
         "x": [
          0,
          1,
          2,
          3,
          4,
          5
         ],
         "y": [
          0.754180602006689,
          0.7625418060200669,
          0.774247491638796,
          0.782608695652174,
          0.7909698996655519,
          0.7876254180602007
         ]
        },
        {
         "marker": {
          "maxdisplayed": 10
         },
         "mode": "lines+markers",
         "name": "Trial54",
         "type": "scatter",
         "x": [
          0,
          1,
          2,
          3,
          4,
          5
         ],
         "y": [
          0.7558528428093646,
          0.7692307692307693,
          0.7792642140468228,
          0.7892976588628763,
          0.7892976588628763,
          0.782608695652174
         ]
        },
        {
         "marker": {
          "maxdisplayed": 10
         },
         "mode": "lines+markers",
         "name": "Trial55",
         "type": "scatter",
         "x": [
          0,
          1,
          2,
          3,
          4
         ],
         "y": [
          0.7424749163879598,
          0.7558528428093646,
          0.7809364548494984,
          0.7775919732441472,
          0.7809364548494984
         ]
        },
        {
         "marker": {
          "maxdisplayed": 10
         },
         "mode": "lines+markers",
         "name": "Trial56",
         "type": "scatter",
         "x": [
          0,
          1,
          2,
          3,
          4,
          5
         ],
         "y": [
          0.7591973244147158,
          0.745819397993311,
          0.7775919732441472,
          0.7792642140468228,
          0.7859531772575251,
          0.7842809364548495
         ]
        },
        {
         "marker": {
          "maxdisplayed": 10
         },
         "mode": "lines+markers",
         "name": "Trial57",
         "type": "scatter",
         "x": [
          0,
          1,
          2
         ],
         "y": [
          0.7508361204013378,
          0.7575250836120402,
          0.7625418060200669
         ]
        },
        {
         "marker": {
          "maxdisplayed": 10
         },
         "mode": "lines+markers",
         "name": "Trial58",
         "type": "scatter",
         "x": [
          0,
          1,
          2,
          3,
          4,
          5
         ],
         "y": [
          0.7441471571906354,
          0.7525083612040134,
          0.7725752508361204,
          0.7792642140468228,
          0.7842809364548495,
          0.7792642140468228
         ]
        },
        {
         "marker": {
          "maxdisplayed": 10
         },
         "mode": "lines+markers",
         "name": "Trial59",
         "type": "scatter",
         "x": [
          0,
          1,
          2,
          3,
          4,
          5
         ],
         "y": [
          0.7408026755852842,
          0.7491638795986622,
          0.7709030100334449,
          0.782608695652174,
          0.7892976588628763,
          0.7876254180602007
         ]
        },
        {
         "marker": {
          "maxdisplayed": 10
         },
         "mode": "lines+markers",
         "name": "Trial60",
         "type": "scatter",
         "x": [
          0,
          1,
          2
         ],
         "y": [
          null,
          0.7090301003344481,
          0.6889632107023411
         ]
        },
        {
         "marker": {
          "maxdisplayed": 10
         },
         "mode": "lines+markers",
         "name": "Trial61",
         "type": "scatter",
         "x": [
          0,
          1,
          2
         ],
         "y": [
          null,
          0.7558528428093646,
          0.7575250836120402
         ]
        },
        {
         "marker": {
          "maxdisplayed": 10
         },
         "mode": "lines+markers",
         "name": "Trial62",
         "type": "scatter",
         "x": [
          0,
          1,
          2,
          3,
          4,
          5
         ],
         "y": [
          0.7408026755852842,
          0.7491638795986622,
          0.7658862876254181,
          0.7792642140468228,
          0.7859531772575251,
          0.7909698996655519
         ]
        },
        {
         "marker": {
          "maxdisplayed": 10
         },
         "mode": "lines+markers",
         "name": "Trial63",
         "type": "scatter",
         "x": [
          0,
          1,
          2,
          3,
          4,
          5
         ],
         "y": [
          null,
          0.7474916387959866,
          0.7692307692307693,
          0.7809364548494984,
          0.7892976588628763,
          0.7876254180602007
         ]
        },
        {
         "marker": {
          "maxdisplayed": 10
         },
         "mode": "lines+markers",
         "name": "Trial64",
         "type": "scatter",
         "x": [
          0,
          1,
          2,
          3,
          4,
          5
         ],
         "y": [
          0.7408026755852842,
          0.7525083612040134,
          0.7709030100334449,
          0.7809364548494984,
          0.7892976588628763,
          0.7876254180602007
         ]
        },
        {
         "marker": {
          "maxdisplayed": 10
         },
         "mode": "lines+markers",
         "name": "Trial65",
         "type": "scatter",
         "x": [
          0,
          1,
          2,
          3,
          4,
          5
         ],
         "y": [
          null,
          0.7491638795986622,
          0.7692307692307693,
          0.7775919732441472,
          0.7909698996655519,
          0.7909698996655519
         ]
        },
        {
         "marker": {
          "maxdisplayed": 10
         },
         "mode": "lines+markers",
         "name": "Trial66",
         "type": "scatter",
         "x": [
          0,
          1,
          2,
          3,
          4,
          5
         ],
         "y": [
          null,
          0.7491638795986622,
          0.7692307692307693,
          0.7775919732441472,
          0.7926421404682275,
          0.7909698996655519
         ]
        },
        {
         "marker": {
          "maxdisplayed": 10
         },
         "mode": "lines+markers",
         "name": "Trial67",
         "type": "scatter",
         "x": [
          0,
          1,
          2,
          3,
          4,
          5
         ],
         "y": [
          0.7408026755852842,
          0.7525083612040134,
          0.7709030100334449,
          0.7809364548494984,
          0.7876254180602007,
          0.7909698996655519
         ]
        },
        {
         "marker": {
          "maxdisplayed": 10
         },
         "mode": "lines+markers",
         "name": "Trial68",
         "type": "scatter",
         "x": [
          0,
          1,
          2,
          3,
          4,
          5
         ],
         "y": [
          0.7408026755852842,
          0.7491638795986622,
          0.7709030100334449,
          0.782608695652174,
          0.7876254180602007,
          0.7909698996655519
         ]
        },
        {
         "marker": {
          "maxdisplayed": 10
         },
         "mode": "lines+markers",
         "name": "Trial69",
         "type": "scatter",
         "x": [
          0,
          1,
          2,
          3,
          4,
          5
         ],
         "y": [
          null,
          0.7491638795986622,
          0.7692307692307693,
          0.7775919732441472,
          0.7892976588628763,
          0.7909698996655519
         ]
        },
        {
         "marker": {
          "maxdisplayed": 10
         },
         "mode": "lines+markers",
         "name": "Trial70",
         "type": "scatter",
         "x": [
          0,
          1,
          2,
          3,
          4,
          5
         ],
         "y": [
          null,
          0.7474916387959866,
          0.7725752508361204,
          0.7809364548494984,
          0.7876254180602007,
          0.7876254180602007
         ]
        },
        {
         "marker": {
          "maxdisplayed": 10
         },
         "mode": "lines+markers",
         "name": "Trial71",
         "type": "scatter",
         "x": [
          0,
          1,
          2,
          3,
          4,
          5
         ],
         "y": [
          null,
          0.7391304347826086,
          0.7575250836120402,
          0.7842809364548495,
          0.7926421404682275,
          0.7909698996655519
         ]
        },
        {
         "marker": {
          "maxdisplayed": 10
         },
         "mode": "lines+markers",
         "name": "Trial72",
         "type": "scatter",
         "x": [
          0,
          1,
          2,
          3,
          4,
          5
         ],
         "y": [
          0.7408026755852842,
          0.7525083612040134,
          0.7709030100334449,
          0.7809364548494984,
          0.7892976588628763,
          0.7892976588628763
         ]
        },
        {
         "marker": {
          "maxdisplayed": 10
         },
         "mode": "lines+markers",
         "name": "Trial73",
         "type": "scatter",
         "x": [
          0,
          1,
          2,
          3,
          4,
          5
         ],
         "y": [
          0.7424749163879598,
          0.7491638795986622,
          0.7675585284280937,
          0.782608695652174,
          0.7876254180602007,
          0.7892976588628763
         ]
        },
        {
         "marker": {
          "maxdisplayed": 10
         },
         "mode": "lines+markers",
         "name": "Trial74",
         "type": "scatter",
         "x": [
          0,
          1,
          2,
          3,
          4,
          5
         ],
         "y": [
          null,
          0.7474916387959866,
          0.7725752508361204,
          0.7792642140468228,
          0.7876254180602007,
          0.7892976588628763
         ]
        },
        {
         "marker": {
          "maxdisplayed": 10
         },
         "mode": "lines+markers",
         "name": "Trial75",
         "type": "scatter",
         "x": [
          0,
          1,
          2,
          3,
          4,
          5
         ],
         "y": [
          0.7408026755852842,
          0.7491638795986622,
          0.774247491638796,
          0.7842809364548495,
          0.7859531772575251,
          0.7859531772575251
         ]
        },
        {
         "marker": {
          "maxdisplayed": 10
         },
         "mode": "lines+markers",
         "name": "Trial76",
         "type": "scatter",
         "x": [
          0,
          1,
          2
         ],
         "y": [
          0.7441471571906354,
          0.7558528428093646,
          0.7625418060200669
         ]
        },
        {
         "marker": {
          "maxdisplayed": 10
         },
         "mode": "lines+markers",
         "name": "Trial77",
         "type": "scatter",
         "x": [
          0,
          1,
          2,
          3,
          4,
          5
         ],
         "y": [
          null,
          0.7474916387959866,
          0.7725752508361204,
          0.7792642140468228,
          0.7876254180602007,
          0.7892976588628763
         ]
        },
        {
         "marker": {
          "maxdisplayed": 10
         },
         "mode": "lines+markers",
         "name": "Trial78",
         "type": "scatter",
         "x": [
          0,
          1,
          2,
          3,
          4,
          5
         ],
         "y": [
          null,
          0.7474916387959866,
          0.7725752508361204,
          0.7792642140468228,
          0.7876254180602007,
          0.7876254180602007
         ]
        },
        {
         "marker": {
          "maxdisplayed": 10
         },
         "mode": "lines+markers",
         "name": "Trial79",
         "type": "scatter",
         "x": [
          0,
          1,
          2,
          3,
          4,
          5
         ],
         "y": [
          0.7408026755852842,
          0.7575250836120402,
          0.7792642140468228,
          0.7859531772575251,
          0.7842809364548495,
          0.7859531772575251
         ]
        },
        {
         "marker": {
          "maxdisplayed": 10
         },
         "mode": "lines+markers",
         "name": "Trial80",
         "type": "scatter",
         "x": [
          0,
          1,
          2
         ],
         "y": [
          null,
          0.7591973244147158,
          0.7575250836120402
         ]
        },
        {
         "marker": {
          "maxdisplayed": 10
         },
         "mode": "lines+markers",
         "name": "Trial81",
         "type": "scatter",
         "x": [
          0,
          1,
          2,
          3,
          4,
          5
         ],
         "y": [
          0.7408026755852842,
          0.7525083612040134,
          0.774247491638796,
          0.7859531772575251,
          0.7892976588628763,
          0.7876254180602007
         ]
        },
        {
         "marker": {
          "maxdisplayed": 10
         },
         "mode": "lines+markers",
         "name": "Trial82",
         "type": "scatter",
         "x": [
          0,
          1,
          2,
          3,
          4,
          5
         ],
         "y": [
          0.7408026755852842,
          0.7525083612040134,
          0.774247491638796,
          0.7842809364548495,
          0.7859531772575251,
          0.7876254180602007
         ]
        },
        {
         "marker": {
          "maxdisplayed": 10
         },
         "mode": "lines+markers",
         "name": "Trial83",
         "type": "scatter",
         "x": [
          0,
          1,
          2,
          3,
          4,
          5
         ],
         "y": [
          0.7408026755852842,
          0.7525083612040134,
          0.774247491638796,
          0.7842809364548495,
          0.7876254180602007,
          0.7876254180602007
         ]
        },
        {
         "marker": {
          "maxdisplayed": 10
         },
         "mode": "lines+markers",
         "name": "Trial84",
         "type": "scatter",
         "x": [
          0,
          1,
          2,
          3,
          4,
          5
         ],
         "y": [
          0.7408026755852842,
          0.7525083612040134,
          0.774247491638796,
          0.7842809364548495,
          0.7876254180602007,
          0.7876254180602007
         ]
        },
        {
         "marker": {
          "maxdisplayed": 10
         },
         "mode": "lines+markers",
         "name": "Trial85",
         "type": "scatter",
         "x": [
          0,
          1,
          2,
          3,
          4,
          5
         ],
         "y": [
          0.7408026755852842,
          0.7525083612040134,
          0.774247491638796,
          0.7859531772575251,
          0.7876254180602007,
          0.7876254180602007
         ]
        },
        {
         "marker": {
          "maxdisplayed": 10
         },
         "mode": "lines+markers",
         "name": "Trial86",
         "type": "scatter",
         "x": [
          0,
          1,
          2,
          3,
          4,
          5
         ],
         "y": [
          0.7408026755852842,
          0.7525083612040134,
          0.774247491638796,
          0.7859531772575251,
          0.7892976588628763,
          0.7876254180602007
         ]
        },
        {
         "marker": {
          "maxdisplayed": 10
         },
         "mode": "lines+markers",
         "name": "Trial87",
         "type": "scatter",
         "x": [
          0,
          1,
          2,
          3,
          4,
          5
         ],
         "y": [
          0.7408026755852842,
          0.7491638795986622,
          0.7759197324414716,
          0.7892976588628763,
          0.7892976588628763,
          0.7909698996655519
         ]
        },
        {
         "marker": {
          "maxdisplayed": 10
         },
         "mode": "lines+markers",
         "name": "Trial88",
         "type": "scatter",
         "x": [
          0,
          1,
          2,
          3,
          4,
          5
         ],
         "y": [
          0.7408026755852842,
          0.7591973244147158,
          0.7792642140468228,
          0.7859531772575251,
          0.7892976588628763,
          0.7876254180602007
         ]
        },
        {
         "marker": {
          "maxdisplayed": 10
         },
         "mode": "lines+markers",
         "name": "Trial89",
         "type": "scatter",
         "x": [
          0,
          1,
          2,
          3,
          4,
          5
         ],
         "y": [
          0.7408026755852842,
          0.7591973244147158,
          0.7792642140468228,
          0.7876254180602007,
          0.7859531772575251,
          0.7876254180602007
         ]
        },
        {
         "marker": {
          "maxdisplayed": 10
         },
         "mode": "lines+markers",
         "name": "Trial90",
         "type": "scatter",
         "x": [
          0,
          1,
          2,
          3,
          4,
          5
         ],
         "y": [
          0.7424749163879598,
          0.7558528428093646,
          0.7792642140468228,
          0.7892976588628763,
          0.7892976588628763,
          0.7892976588628763
         ]
        },
        {
         "marker": {
          "maxdisplayed": 10
         },
         "mode": "lines+markers",
         "name": "Trial91",
         "type": "scatter",
         "x": [
          0,
          1,
          2,
          3,
          4,
          5
         ],
         "y": [
          0.7474916387959866,
          0.7508361204013378,
          0.7675585284280937,
          0.7775919732441472,
          0.782608695652174,
          0.7792642140468228
         ]
        },
        {
         "marker": {
          "maxdisplayed": 10
         },
         "mode": "lines+markers",
         "name": "Trial92",
         "type": "scatter",
         "x": [
          0,
          1,
          2,
          3,
          4,
          5
         ],
         "y": [
          0.7408026755852842,
          0.7491638795986622,
          0.7759197324414716,
          0.7892976588628763,
          0.7892976588628763,
          0.7909698996655519
         ]
        },
        {
         "marker": {
          "maxdisplayed": 10
         },
         "mode": "lines+markers",
         "name": "Trial93",
         "type": "scatter",
         "x": [
          0,
          1,
          2,
          3,
          4,
          5
         ],
         "y": [
          0.7408026755852842,
          0.7525083612040134,
          0.774247491638796,
          0.7842809364548495,
          0.7876254180602007,
          0.7876254180602007
         ]
        },
        {
         "marker": {
          "maxdisplayed": 10
         },
         "mode": "lines+markers",
         "name": "Trial94",
         "type": "scatter",
         "x": [
          0,
          1,
          2,
          3,
          4,
          5
         ],
         "y": [
          0.7408026755852842,
          0.7591973244147158,
          0.7792642140468228,
          0.7859531772575251,
          0.7892976588628763,
          0.7876254180602007
         ]
        },
        {
         "marker": {
          "maxdisplayed": 10
         },
         "mode": "lines+markers",
         "name": "Trial95",
         "type": "scatter",
         "x": [
          0,
          1,
          2,
          3,
          4,
          5
         ],
         "y": [
          0.7408026755852842,
          0.7575250836120402,
          0.7809364548494984,
          0.7876254180602007,
          0.7859531772575251,
          0.7876254180602007
         ]
        },
        {
         "marker": {
          "maxdisplayed": 10
         },
         "mode": "lines+markers",
         "name": "Trial96",
         "type": "scatter",
         "x": [
          0,
          1,
          2,
          3,
          4,
          5
         ],
         "y": [
          0.7408026755852842,
          0.7525083612040134,
          0.774247491638796,
          0.7842809364548495,
          0.7876254180602007,
          0.7876254180602007
         ]
        },
        {
         "marker": {
          "maxdisplayed": 10
         },
         "mode": "lines+markers",
         "name": "Trial97",
         "type": "scatter",
         "x": [
          0,
          1,
          2
         ],
         "y": [
          0.7441471571906354,
          0.7558528428093646,
          0.7625418060200669
         ]
        },
        {
         "marker": {
          "maxdisplayed": 10
         },
         "mode": "lines+markers",
         "name": "Trial98",
         "type": "scatter",
         "x": [
          0,
          1,
          2,
          3,
          4,
          5
         ],
         "y": [
          0.7408026755852842,
          0.7575250836120402,
          0.7842809364548495,
          0.7959866220735786,
          0.7892976588628763,
          0.7926421404682275
         ]
        },
        {
         "marker": {
          "maxdisplayed": 10
         },
         "mode": "lines+markers",
         "name": "Trial99",
         "type": "scatter",
         "x": [
          0,
          1,
          2,
          3,
          4,
          5
         ],
         "y": [
          0.7424749163879598,
          0.7491638795986622,
          0.7675585284280937,
          0.782608695652174,
          0.7876254180602007,
          0.7876254180602007
         ]
        },
        {
         "marker": {
          "maxdisplayed": 10
         },
         "mode": "lines+markers",
         "name": "Trial100",
         "type": "scatter",
         "x": [
          0,
          1,
          2,
          3
         ],
         "y": [
          null,
          0.7491638795986622,
          0.774247491638796,
          0.7759197324414716
         ]
        }
       ],
       "layout": {
        "showlegend": false,
        "template": {
         "data": {
          "bar": [
           {
            "error_x": {
             "color": "#2a3f5f"
            },
            "error_y": {
             "color": "#2a3f5f"
            },
            "marker": {
             "line": {
              "color": "#E5ECF6",
              "width": 0.5
             },
             "pattern": {
              "fillmode": "overlay",
              "size": 10,
              "solidity": 0.2
             }
            },
            "type": "bar"
           }
          ],
          "barpolar": [
           {
            "marker": {
             "line": {
              "color": "#E5ECF6",
              "width": 0.5
             },
             "pattern": {
              "fillmode": "overlay",
              "size": 10,
              "solidity": 0.2
             }
            },
            "type": "barpolar"
           }
          ],
          "carpet": [
           {
            "aaxis": {
             "endlinecolor": "#2a3f5f",
             "gridcolor": "white",
             "linecolor": "white",
             "minorgridcolor": "white",
             "startlinecolor": "#2a3f5f"
            },
            "baxis": {
             "endlinecolor": "#2a3f5f",
             "gridcolor": "white",
             "linecolor": "white",
             "minorgridcolor": "white",
             "startlinecolor": "#2a3f5f"
            },
            "type": "carpet"
           }
          ],
          "choropleth": [
           {
            "colorbar": {
             "outlinewidth": 0,
             "ticks": ""
            },
            "type": "choropleth"
           }
          ],
          "contour": [
           {
            "colorbar": {
             "outlinewidth": 0,
             "ticks": ""
            },
            "colorscale": [
             [
              0,
              "#0d0887"
             ],
             [
              0.1111111111111111,
              "#46039f"
             ],
             [
              0.2222222222222222,
              "#7201a8"
             ],
             [
              0.3333333333333333,
              "#9c179e"
             ],
             [
              0.4444444444444444,
              "#bd3786"
             ],
             [
              0.5555555555555556,
              "#d8576b"
             ],
             [
              0.6666666666666666,
              "#ed7953"
             ],
             [
              0.7777777777777778,
              "#fb9f3a"
             ],
             [
              0.8888888888888888,
              "#fdca26"
             ],
             [
              1,
              "#f0f921"
             ]
            ],
            "type": "contour"
           }
          ],
          "contourcarpet": [
           {
            "colorbar": {
             "outlinewidth": 0,
             "ticks": ""
            },
            "type": "contourcarpet"
           }
          ],
          "heatmap": [
           {
            "colorbar": {
             "outlinewidth": 0,
             "ticks": ""
            },
            "colorscale": [
             [
              0,
              "#0d0887"
             ],
             [
              0.1111111111111111,
              "#46039f"
             ],
             [
              0.2222222222222222,
              "#7201a8"
             ],
             [
              0.3333333333333333,
              "#9c179e"
             ],
             [
              0.4444444444444444,
              "#bd3786"
             ],
             [
              0.5555555555555556,
              "#d8576b"
             ],
             [
              0.6666666666666666,
              "#ed7953"
             ],
             [
              0.7777777777777778,
              "#fb9f3a"
             ],
             [
              0.8888888888888888,
              "#fdca26"
             ],
             [
              1,
              "#f0f921"
             ]
            ],
            "type": "heatmap"
           }
          ],
          "histogram": [
           {
            "marker": {
             "pattern": {
              "fillmode": "overlay",
              "size": 10,
              "solidity": 0.2
             }
            },
            "type": "histogram"
           }
          ],
          "histogram2d": [
           {
            "colorbar": {
             "outlinewidth": 0,
             "ticks": ""
            },
            "colorscale": [
             [
              0,
              "#0d0887"
             ],
             [
              0.1111111111111111,
              "#46039f"
             ],
             [
              0.2222222222222222,
              "#7201a8"
             ],
             [
              0.3333333333333333,
              "#9c179e"
             ],
             [
              0.4444444444444444,
              "#bd3786"
             ],
             [
              0.5555555555555556,
              "#d8576b"
             ],
             [
              0.6666666666666666,
              "#ed7953"
             ],
             [
              0.7777777777777778,
              "#fb9f3a"
             ],
             [
              0.8888888888888888,
              "#fdca26"
             ],
             [
              1,
              "#f0f921"
             ]
            ],
            "type": "histogram2d"
           }
          ],
          "histogram2dcontour": [
           {
            "colorbar": {
             "outlinewidth": 0,
             "ticks": ""
            },
            "colorscale": [
             [
              0,
              "#0d0887"
             ],
             [
              0.1111111111111111,
              "#46039f"
             ],
             [
              0.2222222222222222,
              "#7201a8"
             ],
             [
              0.3333333333333333,
              "#9c179e"
             ],
             [
              0.4444444444444444,
              "#bd3786"
             ],
             [
              0.5555555555555556,
              "#d8576b"
             ],
             [
              0.6666666666666666,
              "#ed7953"
             ],
             [
              0.7777777777777778,
              "#fb9f3a"
             ],
             [
              0.8888888888888888,
              "#fdca26"
             ],
             [
              1,
              "#f0f921"
             ]
            ],
            "type": "histogram2dcontour"
           }
          ],
          "mesh3d": [
           {
            "colorbar": {
             "outlinewidth": 0,
             "ticks": ""
            },
            "type": "mesh3d"
           }
          ],
          "parcoords": [
           {
            "line": {
             "colorbar": {
              "outlinewidth": 0,
              "ticks": ""
             }
            },
            "type": "parcoords"
           }
          ],
          "pie": [
           {
            "automargin": true,
            "type": "pie"
           }
          ],
          "scatter": [
           {
            "fillpattern": {
             "fillmode": "overlay",
             "size": 10,
             "solidity": 0.2
            },
            "type": "scatter"
           }
          ],
          "scatter3d": [
           {
            "line": {
             "colorbar": {
              "outlinewidth": 0,
              "ticks": ""
             }
            },
            "marker": {
             "colorbar": {
              "outlinewidth": 0,
              "ticks": ""
             }
            },
            "type": "scatter3d"
           }
          ],
          "scattercarpet": [
           {
            "marker": {
             "colorbar": {
              "outlinewidth": 0,
              "ticks": ""
             }
            },
            "type": "scattercarpet"
           }
          ],
          "scattergeo": [
           {
            "marker": {
             "colorbar": {
              "outlinewidth": 0,
              "ticks": ""
             }
            },
            "type": "scattergeo"
           }
          ],
          "scattergl": [
           {
            "marker": {
             "colorbar": {
              "outlinewidth": 0,
              "ticks": ""
             }
            },
            "type": "scattergl"
           }
          ],
          "scattermap": [
           {
            "marker": {
             "colorbar": {
              "outlinewidth": 0,
              "ticks": ""
             }
            },
            "type": "scattermap"
           }
          ],
          "scattermapbox": [
           {
            "marker": {
             "colorbar": {
              "outlinewidth": 0,
              "ticks": ""
             }
            },
            "type": "scattermapbox"
           }
          ],
          "scatterpolar": [
           {
            "marker": {
             "colorbar": {
              "outlinewidth": 0,
              "ticks": ""
             }
            },
            "type": "scatterpolar"
           }
          ],
          "scatterpolargl": [
           {
            "marker": {
             "colorbar": {
              "outlinewidth": 0,
              "ticks": ""
             }
            },
            "type": "scatterpolargl"
           }
          ],
          "scatterternary": [
           {
            "marker": {
             "colorbar": {
              "outlinewidth": 0,
              "ticks": ""
             }
            },
            "type": "scatterternary"
           }
          ],
          "surface": [
           {
            "colorbar": {
             "outlinewidth": 0,
             "ticks": ""
            },
            "colorscale": [
             [
              0,
              "#0d0887"
             ],
             [
              0.1111111111111111,
              "#46039f"
             ],
             [
              0.2222222222222222,
              "#7201a8"
             ],
             [
              0.3333333333333333,
              "#9c179e"
             ],
             [
              0.4444444444444444,
              "#bd3786"
             ],
             [
              0.5555555555555556,
              "#d8576b"
             ],
             [
              0.6666666666666666,
              "#ed7953"
             ],
             [
              0.7777777777777778,
              "#fb9f3a"
             ],
             [
              0.8888888888888888,
              "#fdca26"
             ],
             [
              1,
              "#f0f921"
             ]
            ],
            "type": "surface"
           }
          ],
          "table": [
           {
            "cells": {
             "fill": {
              "color": "#EBF0F8"
             },
             "line": {
              "color": "white"
             }
            },
            "header": {
             "fill": {
              "color": "#C8D4E3"
             },
             "line": {
              "color": "white"
             }
            },
            "type": "table"
           }
          ]
         },
         "layout": {
          "annotationdefaults": {
           "arrowcolor": "#2a3f5f",
           "arrowhead": 0,
           "arrowwidth": 1
          },
          "autotypenumbers": "strict",
          "coloraxis": {
           "colorbar": {
            "outlinewidth": 0,
            "ticks": ""
           }
          },
          "colorscale": {
           "diverging": [
            [
             0,
             "#8e0152"
            ],
            [
             0.1,
             "#c51b7d"
            ],
            [
             0.2,
             "#de77ae"
            ],
            [
             0.3,
             "#f1b6da"
            ],
            [
             0.4,
             "#fde0ef"
            ],
            [
             0.5,
             "#f7f7f7"
            ],
            [
             0.6,
             "#e6f5d0"
            ],
            [
             0.7,
             "#b8e186"
            ],
            [
             0.8,
             "#7fbc41"
            ],
            [
             0.9,
             "#4d9221"
            ],
            [
             1,
             "#276419"
            ]
           ],
           "sequential": [
            [
             0,
             "#0d0887"
            ],
            [
             0.1111111111111111,
             "#46039f"
            ],
            [
             0.2222222222222222,
             "#7201a8"
            ],
            [
             0.3333333333333333,
             "#9c179e"
            ],
            [
             0.4444444444444444,
             "#bd3786"
            ],
            [
             0.5555555555555556,
             "#d8576b"
            ],
            [
             0.6666666666666666,
             "#ed7953"
            ],
            [
             0.7777777777777778,
             "#fb9f3a"
            ],
            [
             0.8888888888888888,
             "#fdca26"
            ],
            [
             1,
             "#f0f921"
            ]
           ],
           "sequentialminus": [
            [
             0,
             "#0d0887"
            ],
            [
             0.1111111111111111,
             "#46039f"
            ],
            [
             0.2222222222222222,
             "#7201a8"
            ],
            [
             0.3333333333333333,
             "#9c179e"
            ],
            [
             0.4444444444444444,
             "#bd3786"
            ],
            [
             0.5555555555555556,
             "#d8576b"
            ],
            [
             0.6666666666666666,
             "#ed7953"
            ],
            [
             0.7777777777777778,
             "#fb9f3a"
            ],
            [
             0.8888888888888888,
             "#fdca26"
            ],
            [
             1,
             "#f0f921"
            ]
           ]
          },
          "colorway": [
           "#636efa",
           "#EF553B",
           "#00cc96",
           "#ab63fa",
           "#FFA15A",
           "#19d3f3",
           "#FF6692",
           "#B6E880",
           "#FF97FF",
           "#FECB52"
          ],
          "font": {
           "color": "#2a3f5f"
          },
          "geo": {
           "bgcolor": "white",
           "lakecolor": "white",
           "landcolor": "#E5ECF6",
           "showlakes": true,
           "showland": true,
           "subunitcolor": "white"
          },
          "hoverlabel": {
           "align": "left"
          },
          "hovermode": "closest",
          "mapbox": {
           "style": "light"
          },
          "paper_bgcolor": "white",
          "plot_bgcolor": "#E5ECF6",
          "polar": {
           "angularaxis": {
            "gridcolor": "white",
            "linecolor": "white",
            "ticks": ""
           },
           "bgcolor": "#E5ECF6",
           "radialaxis": {
            "gridcolor": "white",
            "linecolor": "white",
            "ticks": ""
           }
          },
          "scene": {
           "xaxis": {
            "backgroundcolor": "#E5ECF6",
            "gridcolor": "white",
            "gridwidth": 2,
            "linecolor": "white",
            "showbackground": true,
            "ticks": "",
            "zerolinecolor": "white"
           },
           "yaxis": {
            "backgroundcolor": "#E5ECF6",
            "gridcolor": "white",
            "gridwidth": 2,
            "linecolor": "white",
            "showbackground": true,
            "ticks": "",
            "zerolinecolor": "white"
           },
           "zaxis": {
            "backgroundcolor": "#E5ECF6",
            "gridcolor": "white",
            "gridwidth": 2,
            "linecolor": "white",
            "showbackground": true,
            "ticks": "",
            "zerolinecolor": "white"
           }
          },
          "shapedefaults": {
           "line": {
            "color": "#2a3f5f"
           }
          },
          "ternary": {
           "aaxis": {
            "gridcolor": "white",
            "linecolor": "white",
            "ticks": ""
           },
           "baxis": {
            "gridcolor": "white",
            "linecolor": "white",
            "ticks": ""
           },
           "bgcolor": "#E5ECF6",
           "caxis": {
            "gridcolor": "white",
            "linecolor": "white",
            "ticks": ""
           }
          },
          "title": {
           "x": 0.05
          },
          "xaxis": {
           "automargin": true,
           "gridcolor": "white",
           "linecolor": "white",
           "ticks": "",
           "title": {
            "standoff": 15
           },
           "zerolinecolor": "white",
           "zerolinewidth": 2
          },
          "yaxis": {
           "automargin": true,
           "gridcolor": "white",
           "linecolor": "white",
           "ticks": "",
           "title": {
            "standoff": 15
           },
           "zerolinecolor": "white",
           "zerolinewidth": 2
          }
         }
        },
        "title": {
         "text": "Intermediate Values Plot"
        },
        "xaxis": {
         "title": {
          "text": "Step"
         }
        },
        "yaxis": {
         "title": {
          "text": "Intermediate Value"
         }
        }
       }
      }
     },
     "metadata": {},
     "output_type": "display_data"
    },
    {
     "data": {
      "application/vnd.plotly.v1+json": {
       "config": {
        "plotlyServerURL": "https://plot.ly"
       },
       "data": [
        {
         "cliponaxis": false,
         "hovertemplate": [
          "class_weight (CategoricalDistribution): 0.0011934945814428223<extra></extra>",
          "max_depth (IntDistribution): 0.036086640980139695<extra></extra>",
          "max_features (CategoricalDistribution): 0.04572324253589639<extra></extra>",
          "n_estimators (IntDistribution): 0.06855939774911982<extra></extra>",
          "criterion (CategoricalDistribution): 0.13613820571684154<extra></extra>",
          "min_samples_leaf (IntDistribution): 0.7122990184365596<extra></extra>"
         ],
         "name": "Objective Value",
         "orientation": "h",
         "text": [
          "<0.01",
          "0.04",
          "0.05",
          "0.07",
          "0.14",
          "0.71"
         ],
         "textposition": "outside",
         "type": "bar",
         "x": [
          0.0011934945814428223,
          0.036086640980139695,
          0.04572324253589639,
          0.06855939774911982,
          0.13613820571684154,
          0.7122990184365596
         ],
         "y": [
          "class_weight",
          "max_depth",
          "max_features",
          "n_estimators",
          "criterion",
          "min_samples_leaf"
         ]
        }
       ],
       "layout": {
        "template": {
         "data": {
          "bar": [
           {
            "error_x": {
             "color": "#2a3f5f"
            },
            "error_y": {
             "color": "#2a3f5f"
            },
            "marker": {
             "line": {
              "color": "#E5ECF6",
              "width": 0.5
             },
             "pattern": {
              "fillmode": "overlay",
              "size": 10,
              "solidity": 0.2
             }
            },
            "type": "bar"
           }
          ],
          "barpolar": [
           {
            "marker": {
             "line": {
              "color": "#E5ECF6",
              "width": 0.5
             },
             "pattern": {
              "fillmode": "overlay",
              "size": 10,
              "solidity": 0.2
             }
            },
            "type": "barpolar"
           }
          ],
          "carpet": [
           {
            "aaxis": {
             "endlinecolor": "#2a3f5f",
             "gridcolor": "white",
             "linecolor": "white",
             "minorgridcolor": "white",
             "startlinecolor": "#2a3f5f"
            },
            "baxis": {
             "endlinecolor": "#2a3f5f",
             "gridcolor": "white",
             "linecolor": "white",
             "minorgridcolor": "white",
             "startlinecolor": "#2a3f5f"
            },
            "type": "carpet"
           }
          ],
          "choropleth": [
           {
            "colorbar": {
             "outlinewidth": 0,
             "ticks": ""
            },
            "type": "choropleth"
           }
          ],
          "contour": [
           {
            "colorbar": {
             "outlinewidth": 0,
             "ticks": ""
            },
            "colorscale": [
             [
              0,
              "#0d0887"
             ],
             [
              0.1111111111111111,
              "#46039f"
             ],
             [
              0.2222222222222222,
              "#7201a8"
             ],
             [
              0.3333333333333333,
              "#9c179e"
             ],
             [
              0.4444444444444444,
              "#bd3786"
             ],
             [
              0.5555555555555556,
              "#d8576b"
             ],
             [
              0.6666666666666666,
              "#ed7953"
             ],
             [
              0.7777777777777778,
              "#fb9f3a"
             ],
             [
              0.8888888888888888,
              "#fdca26"
             ],
             [
              1,
              "#f0f921"
             ]
            ],
            "type": "contour"
           }
          ],
          "contourcarpet": [
           {
            "colorbar": {
             "outlinewidth": 0,
             "ticks": ""
            },
            "type": "contourcarpet"
           }
          ],
          "heatmap": [
           {
            "colorbar": {
             "outlinewidth": 0,
             "ticks": ""
            },
            "colorscale": [
             [
              0,
              "#0d0887"
             ],
             [
              0.1111111111111111,
              "#46039f"
             ],
             [
              0.2222222222222222,
              "#7201a8"
             ],
             [
              0.3333333333333333,
              "#9c179e"
             ],
             [
              0.4444444444444444,
              "#bd3786"
             ],
             [
              0.5555555555555556,
              "#d8576b"
             ],
             [
              0.6666666666666666,
              "#ed7953"
             ],
             [
              0.7777777777777778,
              "#fb9f3a"
             ],
             [
              0.8888888888888888,
              "#fdca26"
             ],
             [
              1,
              "#f0f921"
             ]
            ],
            "type": "heatmap"
           }
          ],
          "histogram": [
           {
            "marker": {
             "pattern": {
              "fillmode": "overlay",
              "size": 10,
              "solidity": 0.2
             }
            },
            "type": "histogram"
           }
          ],
          "histogram2d": [
           {
            "colorbar": {
             "outlinewidth": 0,
             "ticks": ""
            },
            "colorscale": [
             [
              0,
              "#0d0887"
             ],
             [
              0.1111111111111111,
              "#46039f"
             ],
             [
              0.2222222222222222,
              "#7201a8"
             ],
             [
              0.3333333333333333,
              "#9c179e"
             ],
             [
              0.4444444444444444,
              "#bd3786"
             ],
             [
              0.5555555555555556,
              "#d8576b"
             ],
             [
              0.6666666666666666,
              "#ed7953"
             ],
             [
              0.7777777777777778,
              "#fb9f3a"
             ],
             [
              0.8888888888888888,
              "#fdca26"
             ],
             [
              1,
              "#f0f921"
             ]
            ],
            "type": "histogram2d"
           }
          ],
          "histogram2dcontour": [
           {
            "colorbar": {
             "outlinewidth": 0,
             "ticks": ""
            },
            "colorscale": [
             [
              0,
              "#0d0887"
             ],
             [
              0.1111111111111111,
              "#46039f"
             ],
             [
              0.2222222222222222,
              "#7201a8"
             ],
             [
              0.3333333333333333,
              "#9c179e"
             ],
             [
              0.4444444444444444,
              "#bd3786"
             ],
             [
              0.5555555555555556,
              "#d8576b"
             ],
             [
              0.6666666666666666,
              "#ed7953"
             ],
             [
              0.7777777777777778,
              "#fb9f3a"
             ],
             [
              0.8888888888888888,
              "#fdca26"
             ],
             [
              1,
              "#f0f921"
             ]
            ],
            "type": "histogram2dcontour"
           }
          ],
          "mesh3d": [
           {
            "colorbar": {
             "outlinewidth": 0,
             "ticks": ""
            },
            "type": "mesh3d"
           }
          ],
          "parcoords": [
           {
            "line": {
             "colorbar": {
              "outlinewidth": 0,
              "ticks": ""
             }
            },
            "type": "parcoords"
           }
          ],
          "pie": [
           {
            "automargin": true,
            "type": "pie"
           }
          ],
          "scatter": [
           {
            "fillpattern": {
             "fillmode": "overlay",
             "size": 10,
             "solidity": 0.2
            },
            "type": "scatter"
           }
          ],
          "scatter3d": [
           {
            "line": {
             "colorbar": {
              "outlinewidth": 0,
              "ticks": ""
             }
            },
            "marker": {
             "colorbar": {
              "outlinewidth": 0,
              "ticks": ""
             }
            },
            "type": "scatter3d"
           }
          ],
          "scattercarpet": [
           {
            "marker": {
             "colorbar": {
              "outlinewidth": 0,
              "ticks": ""
             }
            },
            "type": "scattercarpet"
           }
          ],
          "scattergeo": [
           {
            "marker": {
             "colorbar": {
              "outlinewidth": 0,
              "ticks": ""
             }
            },
            "type": "scattergeo"
           }
          ],
          "scattergl": [
           {
            "marker": {
             "colorbar": {
              "outlinewidth": 0,
              "ticks": ""
             }
            },
            "type": "scattergl"
           }
          ],
          "scattermap": [
           {
            "marker": {
             "colorbar": {
              "outlinewidth": 0,
              "ticks": ""
             }
            },
            "type": "scattermap"
           }
          ],
          "scattermapbox": [
           {
            "marker": {
             "colorbar": {
              "outlinewidth": 0,
              "ticks": ""
             }
            },
            "type": "scattermapbox"
           }
          ],
          "scatterpolar": [
           {
            "marker": {
             "colorbar": {
              "outlinewidth": 0,
              "ticks": ""
             }
            },
            "type": "scatterpolar"
           }
          ],
          "scatterpolargl": [
           {
            "marker": {
             "colorbar": {
              "outlinewidth": 0,
              "ticks": ""
             }
            },
            "type": "scatterpolargl"
           }
          ],
          "scatterternary": [
           {
            "marker": {
             "colorbar": {
              "outlinewidth": 0,
              "ticks": ""
             }
            },
            "type": "scatterternary"
           }
          ],
          "surface": [
           {
            "colorbar": {
             "outlinewidth": 0,
             "ticks": ""
            },
            "colorscale": [
             [
              0,
              "#0d0887"
             ],
             [
              0.1111111111111111,
              "#46039f"
             ],
             [
              0.2222222222222222,
              "#7201a8"
             ],
             [
              0.3333333333333333,
              "#9c179e"
             ],
             [
              0.4444444444444444,
              "#bd3786"
             ],
             [
              0.5555555555555556,
              "#d8576b"
             ],
             [
              0.6666666666666666,
              "#ed7953"
             ],
             [
              0.7777777777777778,
              "#fb9f3a"
             ],
             [
              0.8888888888888888,
              "#fdca26"
             ],
             [
              1,
              "#f0f921"
             ]
            ],
            "type": "surface"
           }
          ],
          "table": [
           {
            "cells": {
             "fill": {
              "color": "#EBF0F8"
             },
             "line": {
              "color": "white"
             }
            },
            "header": {
             "fill": {
              "color": "#C8D4E3"
             },
             "line": {
              "color": "white"
             }
            },
            "type": "table"
           }
          ]
         },
         "layout": {
          "annotationdefaults": {
           "arrowcolor": "#2a3f5f",
           "arrowhead": 0,
           "arrowwidth": 1
          },
          "autotypenumbers": "strict",
          "coloraxis": {
           "colorbar": {
            "outlinewidth": 0,
            "ticks": ""
           }
          },
          "colorscale": {
           "diverging": [
            [
             0,
             "#8e0152"
            ],
            [
             0.1,
             "#c51b7d"
            ],
            [
             0.2,
             "#de77ae"
            ],
            [
             0.3,
             "#f1b6da"
            ],
            [
             0.4,
             "#fde0ef"
            ],
            [
             0.5,
             "#f7f7f7"
            ],
            [
             0.6,
             "#e6f5d0"
            ],
            [
             0.7,
             "#b8e186"
            ],
            [
             0.8,
             "#7fbc41"
            ],
            [
             0.9,
             "#4d9221"
            ],
            [
             1,
             "#276419"
            ]
           ],
           "sequential": [
            [
             0,
             "#0d0887"
            ],
            [
             0.1111111111111111,
             "#46039f"
            ],
            [
             0.2222222222222222,
             "#7201a8"
            ],
            [
             0.3333333333333333,
             "#9c179e"
            ],
            [
             0.4444444444444444,
             "#bd3786"
            ],
            [
             0.5555555555555556,
             "#d8576b"
            ],
            [
             0.6666666666666666,
             "#ed7953"
            ],
            [
             0.7777777777777778,
             "#fb9f3a"
            ],
            [
             0.8888888888888888,
             "#fdca26"
            ],
            [
             1,
             "#f0f921"
            ]
           ],
           "sequentialminus": [
            [
             0,
             "#0d0887"
            ],
            [
             0.1111111111111111,
             "#46039f"
            ],
            [
             0.2222222222222222,
             "#7201a8"
            ],
            [
             0.3333333333333333,
             "#9c179e"
            ],
            [
             0.4444444444444444,
             "#bd3786"
            ],
            [
             0.5555555555555556,
             "#d8576b"
            ],
            [
             0.6666666666666666,
             "#ed7953"
            ],
            [
             0.7777777777777778,
             "#fb9f3a"
            ],
            [
             0.8888888888888888,
             "#fdca26"
            ],
            [
             1,
             "#f0f921"
            ]
           ]
          },
          "colorway": [
           "#636efa",
           "#EF553B",
           "#00cc96",
           "#ab63fa",
           "#FFA15A",
           "#19d3f3",
           "#FF6692",
           "#B6E880",
           "#FF97FF",
           "#FECB52"
          ],
          "font": {
           "color": "#2a3f5f"
          },
          "geo": {
           "bgcolor": "white",
           "lakecolor": "white",
           "landcolor": "#E5ECF6",
           "showlakes": true,
           "showland": true,
           "subunitcolor": "white"
          },
          "hoverlabel": {
           "align": "left"
          },
          "hovermode": "closest",
          "mapbox": {
           "style": "light"
          },
          "paper_bgcolor": "white",
          "plot_bgcolor": "#E5ECF6",
          "polar": {
           "angularaxis": {
            "gridcolor": "white",
            "linecolor": "white",
            "ticks": ""
           },
           "bgcolor": "#E5ECF6",
           "radialaxis": {
            "gridcolor": "white",
            "linecolor": "white",
            "ticks": ""
           }
          },
          "scene": {
           "xaxis": {
            "backgroundcolor": "#E5ECF6",
            "gridcolor": "white",
            "gridwidth": 2,
            "linecolor": "white",
            "showbackground": true,
            "ticks": "",
            "zerolinecolor": "white"
           },
           "yaxis": {
            "backgroundcolor": "#E5ECF6",
            "gridcolor": "white",
            "gridwidth": 2,
            "linecolor": "white",
            "showbackground": true,
            "ticks": "",
            "zerolinecolor": "white"
           },
           "zaxis": {
            "backgroundcolor": "#E5ECF6",
            "gridcolor": "white",
            "gridwidth": 2,
            "linecolor": "white",
            "showbackground": true,
            "ticks": "",
            "zerolinecolor": "white"
           }
          },
          "shapedefaults": {
           "line": {
            "color": "#2a3f5f"
           }
          },
          "ternary": {
           "aaxis": {
            "gridcolor": "white",
            "linecolor": "white",
            "ticks": ""
           },
           "baxis": {
            "gridcolor": "white",
            "linecolor": "white",
            "ticks": ""
           },
           "bgcolor": "#E5ECF6",
           "caxis": {
            "gridcolor": "white",
            "linecolor": "white",
            "ticks": ""
           }
          },
          "title": {
           "x": 0.05
          },
          "xaxis": {
           "automargin": true,
           "gridcolor": "white",
           "linecolor": "white",
           "ticks": "",
           "title": {
            "standoff": 15
           },
           "zerolinecolor": "white",
           "zerolinewidth": 2
          },
          "yaxis": {
           "automargin": true,
           "gridcolor": "white",
           "linecolor": "white",
           "ticks": "",
           "title": {
            "standoff": 15
           },
           "zerolinecolor": "white",
           "zerolinewidth": 2
          }
         }
        },
        "title": {
         "text": "Hyperparameter Importances"
        },
        "xaxis": {
         "title": {
          "text": "Hyperparameter Importance"
         }
        },
        "yaxis": {
         "title": {
          "text": "Hyperparameter"
         }
        }
       }
      }
     },
     "metadata": {},
     "output_type": "display_data"
    }
   ],
   "source": [
    "# --- Optional: Optuna Visualizations ---\n",
    "# To use these, you need to install plotly and kaleido: pip install plotly kaleido\n",
    "import optuna.visualization as ov\n",
    "fig1 = ov.plot_optimization_history(study)\n",
    "fig1.show()\n",
    "fig2 = ov.plot_intermediate_values(study)\n",
    "fig2.show()\n",
    "fig3 = ov.plot_param_importances(study)\n",
    "fig3.show()"
   ]
  },
  {
   "cell_type": "code",
   "execution_count": null,
   "id": "90d281ca",
   "metadata": {},
   "outputs": [],
   "source": []
  }
 ],
 "metadata": {
  "kernelspec": {
   "display_name": "Python 3",
   "language": "python",
   "name": "python3"
  },
  "language_info": {
   "codemirror_mode": {
    "name": "ipython",
    "version": 3
   },
   "file_extension": ".py",
   "mimetype": "text/x-python",
   "name": "python",
   "nbconvert_exporter": "python",
   "pygments_lexer": "ipython3",
   "version": "3.12.3"
  }
 },
 "nbformat": 4,
 "nbformat_minor": 5
}
